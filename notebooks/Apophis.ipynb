{
 "cells": [
  {
   "cell_type": "code",
   "execution_count": null,
   "metadata": {
    "scrolled": true,
    "tags": []
   },
   "outputs": [],
   "source": [
    "]st"
   ]
  },
  {
   "cell_type": "code",
   "execution_count": null,
   "metadata": {},
   "outputs": [],
   "source": [
    "using Revise"
   ]
  },
  {
   "cell_type": "code",
   "execution_count": null,
   "metadata": {},
   "outputs": [],
   "source": [
    "using DataFrames, Query, TaylorSeries, PlanetaryEphemeris"
   ]
  },
  {
   "cell_type": "code",
   "execution_count": null,
   "metadata": {},
   "outputs": [],
   "source": [
    "using JLD"
   ]
  },
  {
   "cell_type": "code",
   "execution_count": null,
   "metadata": {},
   "outputs": [],
   "source": [
    "using NEOs"
   ]
  },
  {
   "cell_type": "code",
   "execution_count": null,
   "metadata": {},
   "outputs": [],
   "source": [
    "using Statistics"
   ]
  },
  {
   "cell_type": "code",
   "execution_count": null,
   "metadata": {},
   "outputs": [],
   "source": [
    "using LinearAlgebra"
   ]
  },
  {
   "cell_type": "code",
   "execution_count": null,
   "metadata": {},
   "outputs": [],
   "source": [
    "using Dates"
   ]
  },
  {
   "cell_type": "code",
   "execution_count": null,
   "metadata": {},
   "outputs": [],
   "source": [
    "using Gaston"
   ]
  },
  {
   "cell_type": "code",
   "execution_count": null,
   "metadata": {},
   "outputs": [],
   "source": [
    "using StatsBase"
   ]
  },
  {
   "cell_type": "code",
   "execution_count": null,
   "metadata": {},
   "outputs": [],
   "source": [
    "using DelimitedFiles"
   ]
  },
  {
   "cell_type": "code",
   "execution_count": null,
   "metadata": {},
   "outputs": [],
   "source": []
  },
  {
   "cell_type": "code",
   "execution_count": null,
   "metadata": {},
   "outputs": [],
   "source": [
    "NEOs.loadjpleph()"
   ]
  },
  {
   "cell_type": "code",
   "execution_count": null,
   "metadata": {},
   "outputs": [],
   "source": [
    "## 16 ast + radial nongrav (A1 / SRP)\n",
    "#dq = set_variables(\"δx\", order=5, numvars=8)\n",
    "#radec_bwd = JLD.load(\"radec_99942_2004_2020.dat.jld\", \"radec_table\")\n",
    "#radec_fwd = JLD.load(\"radec_99942_2020_2021.dat.jld\", \"radec_table\")\n",
    "#deldop_bwd = JLD.load(\"deldop_99942_RADAR_2005_2013.dat.jld\", \"deldop_table\")\n",
    "#deldop_fwd_ = JLD.load(\"deldop_99942_RADAR_2021.dat.jld\", \"deldop_table\")\n",
    "\n",
    "# 32 ast (NO srp)\n",
    "dq = set_variables(\"δx\", order=5, numvars=7)\n",
    "radec_bwd = JLD.load(\"radec_99942_2004_2020_32AST.dat.jld\", \"radec_table\")\n",
    "radec_fwd = JLD.load(\"radec_99942_2020_2021_32AST.dat.jld\", \"radec_table\")\n",
    "deldop_bwd = JLD.load(\"deldop_99942_RADAR_2005_2013_32AST.dat.jld\", \"deldop_table\")\n",
    "deldop_fwd_ = JLD.load(\"deldop_99942_RADAR_2021_32AST.dat.jld\", \"deldop_table\")\n",
    "\n",
    "## 16 ast (NO srp)\n",
    "#dq = set_variables(\"δx\", order=5, numvars=7)\n",
    "#radec_bwd = JLD.load(\"radec_99942_2004_2020_LAST_16ast.dat.jld\", \"radec_table\")\n",
    "#radec_fwd = JLD.load(\"radec_99942_2020_2021_LAST_16ast.dat.jld\", \"radec_table\")\n",
    "#deldop_bwd = JLD.load(\"deldop_99942_RADAR_2005_2013_LAST_16ast.dat.jld\", \"deldop_table\")\n",
    "#deldop_fwd_ = JLD.load(\"deldop_99942_RADAR_2021_LAST_16ast.dat.jld\", \"deldop_table\")\n",
    ";"
   ]
  },
  {
   "cell_type": "code",
   "execution_count": null,
   "metadata": {},
   "outputs": [],
   "source": []
  },
  {
   "cell_type": "code",
   "execution_count": null,
   "metadata": {},
   "outputs": [],
   "source": [
    "radec_all_ = vcat(radec_bwd, radec_fwd)\n",
    "radec_all = radec_all_ |> @filter( \n",
    "    (Date(_.dt_utc_obs) != Date(2021, 1, 28)) #&& (Date(_.dt_utc_obs) <= Date(2021, 3, 8))\n",
    "    ) |> DataFrame\n",
    ";"
   ]
  },
  {
   "cell_type": "code",
   "execution_count": null,
   "metadata": {},
   "outputs": [],
   "source": [
    "#deldop_fwd = deldop_fwd_[1:end-1,:] # in paper results, only 3 out of 4 radar measurements are used\n",
    "deldop_fwd = deldop_fwd_\n",
    "\n",
    "deldop_all = vcat(deldop_bwd, deldop_fwd)\n",
    ";"
   ]
  },
  {
   "cell_type": "code",
   "execution_count": null,
   "metadata": {},
   "outputs": [],
   "source": [
    "### first and last dates (optical obs)\n",
    "radec_all.dt_utc_obs[1], radec_all.dt_utc_obs[end]"
   ]
  },
  {
   "cell_type": "code",
   "execution_count": null,
   "metadata": {},
   "outputs": [],
   "source": [
    "nrow(radec_all), nrow(deldop_all)"
   ]
  },
  {
   "cell_type": "code",
   "execution_count": null,
   "metadata": {},
   "outputs": [],
   "source": [
    "del_bwd = deldop_bwd |> @filter(_.delay_index) |> DataFrame\n",
    "dop_bwd = deldop_bwd |> @filter(_.doppler_index) |> DataFrame\n",
    "\n",
    "del_fwd = deldop_fwd |> @filter(_.delay_index) |> DataFrame\n",
    "dop_fwd = deldop_fwd |> @filter(_.doppler_index) |> DataFrame\n",
    "\n",
    "del_all = deldop_all |> @filter(_.delay_index) |> DataFrame\n",
    "dop_all = deldop_all |> @filter(_.doppler_index) |> DataFrame\n",
    ";"
   ]
  },
  {
   "cell_type": "code",
   "execution_count": null,
   "metadata": {},
   "outputs": [],
   "source": [
    "res_τ = del_all |> @map( _.τ_obs - _.τ_comp ) |> collect\n",
    "res_ν = dop_all |> @map( _.ν_obs - _.ν_comp ) |> collect\n",
    "\n",
    "σ_del_bwd = del_bwd.σ_τ\n",
    "σ_dop_bwd = dop_bwd.σ_ν\n",
    "\n",
    "σ_del_fwd = del_fwd.σ_τ\n",
    "σ_dop_fwd = dop_fwd.σ_ν\n",
    "\n",
    "σ_del_all = del_all.σ_τ\n",
    "σ_dop_all = dop_all.σ_ν\n",
    "\n",
    "w_τ = del_all |> @map( 1/(_.σ_τ)^2 ) |> collect\n",
    "w_ν = dop_all |> @map( 1/(_.σ_ν)^2 ) |> collect\n",
    "\n",
    "\n",
    "# only Vokrouhlicky et al. (2015) data\n",
    "res_τ_v15 = del_bwd |> @map( _.τ_obs - _.τ_comp ) |> collect\n",
    "res_ν_v15 = dop_bwd |> @map( _.ν_obs - _.ν_comp ) |> collect\n",
    "\n",
    "w_τ_v15 = del_bwd |> @map( 1/(_.σ_τ)^2 ) |> collect\n",
    "w_ν_v15 = dop_bwd |> @map( 1/(_.σ_ν)^2 ) |> collect\n",
    ";"
   ]
  },
  {
   "cell_type": "code",
   "execution_count": null,
   "metadata": {},
   "outputs": [],
   "source": []
  },
  {
   "cell_type": "code",
   "execution_count": null,
   "metadata": {},
   "outputs": [],
   "source": [
    "# check if all RA/Dec observations are CCD:\n",
    "\n",
    "all(radec_all |> @map(begin x = _.j2000; x == \"C\" || x == \"X\" end))"
   ]
  },
  {
   "cell_type": "code",
   "execution_count": null,
   "metadata": {},
   "outputs": [],
   "source": [
    "# there are 494 RA/Dec obs without catalog info\n",
    "nrow(  radec_all |> @filter(_.catalog == \" \") |> DataFrame  )"
   ]
  },
  {
   "cell_type": "code",
   "execution_count": null,
   "metadata": {},
   "outputs": [],
   "source": [
    "### WIP: outlier rejection\n",
    "\n",
    "### function chisqobs(row, Γ_β, x, outlier::Bool=false)\n",
    "###     A_α_TN = TaylorSeries.gradient(row.α_obs-row.α_corr-row.α_comp)\n",
    "###     A_δ_TN = TaylorSeries.gradient(row.δ_obs-row.δ_corr-row.δ_comp)\n",
    "###     A_i = hcat(A_α_TN(x), A_δ_TN(x))\n",
    "###     outlier_sign = outlier*2-1\n",
    "###     (A_i')*Γ_β*A_i\n",
    "### end\n",
    "\n",
    "### chisqobs(res0, Γ_OR7, x_OR7)"
   ]
  },
  {
   "cell_type": "code",
   "execution_count": null,
   "metadata": {},
   "outputs": [],
   "source": [
    "#radec_04XX = radec_0415\n",
    "#radec_04XX = radec_0420\n",
    "#radec_04XX = radec_0421\n",
    "#radec_04XX = filter(x->( DateTime(x.yr, x.month, x.day) != DateTime(2021, 1, 28) ), radec_0421)\n",
    "#radec_04XX = radec_0421\n",
    "\n",
    "#radec_04XX = filter(x->x.dt_utc_obs<DateTime(2021,1,14), radec_0420)\n",
    "\n",
    "\n",
    "#radec_04XX = filter(x->((x.α_obs-x.α_corr-x.α_comp())^2 + (x.δ_obs-x.δ_corr-x.δ_comp())^2)<χ2_rej, radec_04XX)\n",
    "#radec_04XX = filter(x->((x.α_obs-x.α_corr-x.α_comp(x_OR7))^2 + (x.δ_obs-x.δ_corr-x.δ_comp(x_OR7))^2)/(x.σ^2) ≤ χ2_rej, radec_04XX)"
   ]
  },
  {
   "cell_type": "code",
   "execution_count": null,
   "metadata": {},
   "outputs": [],
   "source": [
    "#χ2_rej = 4.0 #4.0 #4.25 #5.025 # Brozovic et al (2018) use Chesley et al (2010) outlier rejection, in turn from Carpino et al (2003)\n",
    "radec_04XX = radec_all\n",
    "#radec_04XX = filter(x->((x.α_obs-x.α_corr-x.α_comp(x_OR7))^2 + (x.δ_obs-x.δ_corr-x.δ_comp(x_OR7))^2)/(x.σ^2) ≤ χ2_rej, radec_04XX)\n",
    "#;"
   ]
  },
  {
   "cell_type": "code",
   "execution_count": null,
   "metadata": {},
   "outputs": [],
   "source": [
    "#nrow(radec_all), nrow(radec_04XX)"
   ]
  },
  {
   "cell_type": "code",
   "execution_count": null,
   "metadata": {},
   "outputs": [],
   "source": [
    "#radec_04XX.dt_utc_obs"
   ]
  },
  {
   "cell_type": "code",
   "execution_count": null,
   "metadata": {},
   "outputs": [],
   "source": [
    "# Vokrouhlicky et al. (2015) obs table\n",
    "radec_vok15 = radec_table(\"../data/vokr15_mpc_formatted.dat\")\n",
    "\n",
    "# vector of RA values from Vokrouhlicky et al. (2015) observations (used for filtering)\n",
    "vok15_rav = radec_vok15.α_obs\n",
    "\n",
    "vok15_ind_filt = findall(x->x ∈ vok15_rav, radec_all.α_obs)\n",
    ";"
   ]
  },
  {
   "cell_type": "code",
   "execution_count": null,
   "metadata": {},
   "outputs": [],
   "source": [
    "# Vorkouhliky et al. (2015) RA/Dec table\n",
    "radec_v15 = radec_all |> @filter(_.α_obs ∈ vok15_rav) |> DataFrame;"
   ]
  },
  {
   "cell_type": "code",
   "execution_count": null,
   "metadata": {},
   "outputs": [],
   "source": [
    "radec_v15_radec_corr = radec_vok15 |> @select( :α_corr, :δ_corr ) |> DataFrame;"
   ]
  },
  {
   "cell_type": "code",
   "execution_count": null,
   "metadata": {},
   "outputs": [],
   "source": []
  },
  {
   "cell_type": "code",
   "execution_count": null,
   "metadata": {},
   "outputs": [],
   "source": [
    "res_α = radec_04XX |> @map(_.α_obs - _.α_corr - _.α_comp) |> collect\n",
    "res_δ = radec_04XX |> @map(_.δ_obs - _.δ_corr - _.δ_comp) |> collect\n",
    "\n",
    "res_α_v15 = (radec_v15 |> @map(_.α_obs - _.α_comp)) .- radec_v15_radec_corr.α_corr\n",
    "res_δ_v15 = (radec_v15 |> @map(_.δ_obs - _.δ_comp)) .- radec_v15_radec_corr.δ_corr\n",
    ";"
   ]
  },
  {
   "cell_type": "code",
   "execution_count": null,
   "metadata": {},
   "outputs": [],
   "source": [
    "mean(res_α()), mean(res_δ())"
   ]
  },
  {
   "cell_type": "code",
   "execution_count": null,
   "metadata": {},
   "outputs": [],
   "source": [
    "# read astrometric errors from Tholen et al. (2013)\n",
    "tho13_errors = readdlm(\"../data/tholenetal2013_opterror.dat\", ',')\n",
    "# compute weights\n",
    "w_α_tho13 = 1 ./ (tho13_errors[:,1].^2 .+ tho13_errors[:,3].^2 .+ tho13_errors[:,5].^2)\n",
    "w_δ_tho13 = 1 ./ (tho13_errors[:,2].^2 .+ tho13_errors[:,4].^2 .+ tho13_errors[:,6].^2)\n",
    "\n",
    "# Tholen et al. (2013) obs table\n",
    "radec_tho13 = radec_table(\"../data/tholen13_mpc_formatted.dat\")\n",
    "# vector of RA values from Tholen et al. (2013) observations (used for filtering)\n",
    "tho13_rav = radec_tho13.α_obs\n",
    "\n",
    "tho13_ind_filt = findall(x->x ∈ tho13_rav, radec_all.α_obs)\n",
    "tho13_ind_filt_v15 = findall(x->x ∈ tho13_rav, radec_v15.α_obs)\n",
    "@show length(tho13_ind_filt), length(tho13_ind_filt_v15)\n",
    ";"
   ]
  },
  {
   "cell_type": "code",
   "execution_count": null,
   "metadata": {},
   "outputs": [],
   "source": [
    "function w8sfarnocchia15(row::NamedTuple)\n",
    "    return w8sfarnocchia15(row.obscode, row.dt_utc_obs, row.catalog)\n",
    "end\n",
    "\n",
    "function w8sfarnocchia15(df::DataFrame)\n",
    "    return w8sfarnocchia15.(df.obscode, df.dt_utc_obs, df.catalog)\n",
    "end\n",
    "\n",
    "function w8sfarnocchia15(obscode::Union{Int,String}, dt_utc_obs::DateTime, catalog::String)\n",
    "    w = 1.0 # unit weight (arcseconds)\n",
    "    if obscode == \"H01\" # Magdalena Ridge\n",
    "        return 0.3w\n",
    "    elseif obscode == \"568\" # Mauna Kea (MPEC 2014-R71)\n",
    "        return 0.13w #0.2w #0.2\":Verevs17 weight;0.13\":Farnocchia15 weight\n",
    "    elseif obscode == \"F51\" # PanSTARRS-PS1\n",
    "        return 0.15w #0.2w #0.2\":Verevs17 weight;0.15\":Farnocchia15 weight\n",
    "    else\n",
    "        return w\n",
    "    end\n",
    "end\n"
   ]
  },
  {
   "cell_type": "code",
   "execution_count": null,
   "metadata": {
    "scrolled": true
   },
   "outputs": [],
   "source": [
    "# for each observation batch, count the number of observations made in the same night (?) by the same observatory\n",
    "date_obscode_v = radec_04XX |> @map(  (Date(_.dt_utc_obs),_.obscode)  )\n",
    "date_obscode_v_v15 = radec_v15 |> @map(  (Date(_.dt_utc_obs),_.obscode)  )\n",
    "Nv = [count(x->x[1]==i[1] && x[2]==i[2], date_obscode_v) for i in date_obscode_v]\n",
    "Nv_v15 = [count(x->x[1]==i[1] && x[2]==i[2], date_obscode_v_v15) for i in date_obscode_v_v15]\n",
    "relax_factor = map(x->x>4.0 ? x/4.0 : 1.0, Nv)\n",
    "relax_factor_v15 = map(x->x>4.0 ? x/5.0 : 1.0, Nv_v15) # map(x->x>2.0 ? x : 1.0, Nv_v15)\n",
    "\n",
    "# statistical weights according to Veres et al (2017)\n",
    "σ_v17 = radec_04XX.σ\n",
    "σ_v17_v15 = w8sfarnocchia15(radec_v15)\n",
    "\n",
    "w_α = 1 ./ (σ_v17.^2)\n",
    "w_δ = 1 ./ (σ_v17.^2)\n",
    "\n",
    "w_α_v15 = 1 ./ (σ_v17_v15.^2)\n",
    "w_δ_v15 = 1 ./ (σ_v17_v15.^2)\n",
    "\n",
    "# Tholen et al. (2013) astrometry uncertainties\n",
    "w_α[tho13_ind_filt] .= w_α_tho13\n",
    "w_δ[tho13_ind_filt] .= w_δ_tho13\n",
    "w_α_v15[tho13_ind_filt_v15] .= w_α_tho13\n",
    "w_δ_v15[tho13_ind_filt_v15] .= w_δ_tho13\n",
    "\n",
    "w_α = w_α./(relax_factor)\n",
    "w_δ = w_δ./(relax_factor)\n",
    "\n",
    "w_α_v15 = w_α_v15./(relax_factor_v15)\n",
    "w_δ_v15 = w_δ_v15./(relax_factor_v15)\n",
    ";"
   ]
  },
  {
   "cell_type": "code",
   "execution_count": null,
   "metadata": {},
   "outputs": [],
   "source": [
    "length(w_τ), length(w_ν), length(w_α), length(w_δ)"
   ]
  },
  {
   "cell_type": "code",
   "execution_count": null,
   "metadata": {},
   "outputs": [],
   "source": [
    "length(w_τ_v15), length(w_ν_v15), length(w_α_v15), length(w_δ_v15)"
   ]
  },
  {
   "cell_type": "code",
   "execution_count": null,
   "metadata": {},
   "outputs": [],
   "source": [
    "nobs_R = nrow(del_all) + nrow(dop_all)\n",
    "nobs_O = nrow(radec_04XX)\n",
    "nobs = nobs_R + nobs_O\n",
    "@show nobs_O, nobs_R, nobs\n",
    ";"
   ]
  },
  {
   "cell_type": "code",
   "execution_count": null,
   "metadata": {},
   "outputs": [],
   "source": [
    "res_O = vcat(res_α, res_δ)\n",
    "w_O = vcat(w_α, w_δ)\n",
    "\n",
    "res_R = vcat(res_τ, res_ν)\n",
    "w_R = vcat(w_τ, w_ν)\n",
    "\n",
    "res_OR = vcat(res_R, res_O)\n",
    "w_OR = vcat(w_R, w_O)\n",
    ";"
   ]
  },
  {
   "cell_type": "code",
   "execution_count": null,
   "metadata": {},
   "outputs": [],
   "source": [
    "# only Vokrouhliky et al. (2015) data\n",
    "res_O_v15 = vcat(res_α_v15, res_δ_v15)\n",
    "w_O_v15 = vcat(w_α_v15, w_δ_v15)\n",
    "\n",
    "res_R_v15 = vcat(res_τ_v15, res_ν_v15)\n",
    "w_R_v15 = vcat(w_τ_v15, w_ν_v15)\n",
    "\n",
    "res_OR_v15 = vcat(res_R_v15, res_O_v15)\n",
    "w_OR_v15 = vcat(w_R_v15, w_O_v15)\n",
    ";"
   ]
  },
  {
   "cell_type": "code",
   "execution_count": null,
   "metadata": {},
   "outputs": [],
   "source": []
  },
  {
   "cell_type": "code",
   "execution_count": null,
   "metadata": {},
   "outputs": [],
   "source": [
    "# pre-2021, with SRP (\"OR8\")\n",
    "\n",
    "x_OR7_v15, Γ_OR7_v15 = newtonls(res_OR_v15, w_OR_v15, zeros(get_numvars()))\n",
    "σ_OR7_v15 = sqrt.(diag(Γ_OR7_v15))\n",
    "@show x_OR7_v15 σ_OR7_v15 x_OR7_v15[end]/σ_OR7_v15[end]\n",
    "\n",
    "x_OR6_v15, Γ_OR6_v15 = newtonls_6v(res_OR_v15, w_OR_v15, zeros(get_numvars()))\n",
    "σ_OR6_v15 = sqrt.(diag(Γ_OR6_v15))\n",
    "@show x_OR6_v15 σ_OR6_v15 x_OR6_v15[end]/σ_OR6_v15[end]"
   ]
  },
  {
   "cell_type": "code",
   "execution_count": null,
   "metadata": {},
   "outputs": [],
   "source": [
    "@show x_OR7_v15;\n",
    "@show Γ_OR7_v15;"
   ]
  },
  {
   "cell_type": "code",
   "execution_count": null,
   "metadata": {},
   "outputs": [],
   "source": []
  },
  {
   "cell_type": "code",
   "execution_count": null,
   "metadata": {
    "scrolled": true,
    "tags": []
   },
   "outputs": [],
   "source": [
    "# post-2021, NO SRP, 32 ast\n",
    "\n",
    "x_OR7, Γ_OR7 = newtonls(res_OR, w_OR, zeros(get_numvars()))\n",
    "σ_OR7 = sqrt.(diag(Γ_OR7))\n",
    "@show x_OR7 σ_OR7 x_OR7[end]/σ_OR7[end]\n",
    "\n",
    "x_OR6, Γ_OR6 = newtonls_6v(res_OR, w_OR, zeros(get_numvars()))\n",
    "σ_OR6 = sqrt.(diag(Γ_OR6))\n",
    "@show x_OR6 σ_OR6 x_OR6[end]/σ_OR6[end]\n",
    ";"
   ]
  },
  {
   "cell_type": "code",
   "execution_count": null,
   "metadata": {},
   "outputs": [],
   "source": [
    "(-2.898835108503474 - -2.8988788886209065), (-2.898835108503474 - -2.8988788886209065)/0.02474582241296382"
   ]
  },
  {
   "cell_type": "code",
   "execution_count": null,
   "metadata": {
    "scrolled": true,
    "tags": []
   },
   "outputs": [],
   "source": [
    "# post-2021, NO SRP, 16 ast\n",
    "\n",
    "x_OR7, Γ_OR7 = newtonls(res_OR, w_OR, zeros(get_numvars()))\n",
    "σ_OR7 = sqrt.(diag(Γ_OR7))\n",
    "@show x_OR7 σ_OR7 x_OR7[end]/σ_OR7[end]\n",
    "\n",
    "x_OR6, Γ_OR6 = newtonls_6v(res_OR, w_OR, zeros(get_numvars()))\n",
    "σ_OR6 = sqrt.(diag(Γ_OR6))\n",
    "@show x_OR6 σ_OR6 x_OR6[end]/σ_OR6[end]\n",
    ";"
   ]
  },
  {
   "cell_type": "code",
   "execution_count": null,
   "metadata": {},
   "outputs": [],
   "source": [
    "@show x_OR7 Γ_OR7"
   ]
  },
  {
   "cell_type": "code",
   "execution_count": null,
   "metadata": {},
   "outputs": [],
   "source": [
    "#x_O7, Γ_O7 = newtonls(res_O, w_O, zeros(8))\n",
    "#σ_O7 = sqrt.(diag(Γ_O7))\n",
    "#@show x_O7 σ_O7 x_O7[end]/σ_O7[end]\n",
    "#\n",
    "#x_R7, Γ_R7 = newtonls(res_R, w_R, zeros(8))\n",
    "#σ_R7 = sqrt.(diag(Γ_R7))\n",
    "#@show x_R7 σ_R7 x_R7[end]/σ_R7[end]\n",
    "#\n",
    "#x_O6, Γ_O6 = newtonls(res_O, w_O, zeros(8))\n",
    "#σ_O6 = sqrt.(diag(Γ_O6))\n",
    "#@show x_O6 σ_O6 x_O6[end]/σ_O6[end]\n",
    "#\n",
    "#x_R6, Γ_R6 = newtonls(res_R, w_R, zeros(8))\n",
    "#σ_R6 = sqrt.(diag(Γ_R6))\n",
    "#@show x_R6 σ_R6 x_R6[end]/σ_R6[end]"
   ]
  },
  {
   "cell_type": "code",
   "execution_count": null,
   "metadata": {},
   "outputs": [],
   "source": [
    "#@show x_OR7 Γ_OR7"
   ]
  },
  {
   "cell_type": "code",
   "execution_count": null,
   "metadata": {},
   "outputs": [],
   "source": [
    "# 32 ast\n",
    "#sqrt(Γ_OR7[7,7])"
   ]
  },
  {
   "cell_type": "code",
   "execution_count": null,
   "metadata": {},
   "outputs": [],
   "source": []
  },
  {
   "cell_type": "code",
   "execution_count": null,
   "metadata": {},
   "outputs": [],
   "source": [
    "# 16 ast\n",
    "sqrt(Γ_OR7[7,7])"
   ]
  },
  {
   "cell_type": "code",
   "execution_count": null,
   "metadata": {},
   "outputs": [],
   "source": [
    "abs(-2.894053174513909 +2.8941071491385224)/sqrt(Γ_OR7[7,7])"
   ]
  },
  {
   "cell_type": "code",
   "execution_count": null,
   "metadata": {},
   "outputs": [],
   "source": [
    "#@show x_OR7 Γ_OR7"
   ]
  },
  {
   "cell_type": "code",
   "execution_count": null,
   "metadata": {},
   "outputs": [],
   "source": [
    "@show x_OR7.*vcat(1e-8ones(6), 1e-14)\n",
    ";"
   ]
  },
  {
   "cell_type": "code",
   "execution_count": null,
   "metadata": {},
   "outputs": [],
   "source": [
    "#@show x_OR7.*vcat(1e-8ones(6), 1e-14, 1e-13)\n",
    "#;"
   ]
  },
  {
   "cell_type": "markdown",
   "metadata": {},
   "source": [
    "# Fit quality statistics: $\\chi^2$, normalized RMS"
   ]
  },
  {
   "cell_type": "markdown",
   "metadata": {},
   "source": [
    "The gravity-only solution post-fit normalized RMS for the optical, radar, and combined optical and radar astrometry are, respectively, 0.448, 14.720 and 1.0259. Moreover, the gravity-only solution post-fit right-ascension weighted mean residual is 0.072$~$arcsec, while the declination weighted mean residual is 0.218$~$arcsec. The weighted time-delay and Doppler shift mean residual for the gravity-only solution are, respectively, -0.06 us and 0.043 Hz. On the other hand, the non-gravitational solution normalized RMS for the optical, radar, and combined optical and radar astrometry are, respectively, 0.313, 0.387 and 0.314. The right-ascension, declination, time-delay and Doppler shift weighted mean residuals, are, respectively, 0.008$~$arcsec, 0.003$~$arcsec, -0.0003$~$us and -0.31$~$Hz."
   ]
  },
  {
   "cell_type": "code",
   "execution_count": null,
   "metadata": {},
   "outputs": [],
   "source": [
    "mean(res_α(x_OR6), weights(w_α)), mean(res_δ(x_OR6), weights(w_δ))"
   ]
  },
  {
   "cell_type": "code",
   "execution_count": null,
   "metadata": {},
   "outputs": [],
   "source": [
    "mean(res_α(x_OR7), weights(w_α)), mean(res_δ(x_OR7), weights(w_δ))"
   ]
  },
  {
   "cell_type": "code",
   "execution_count": null,
   "metadata": {},
   "outputs": [],
   "source": [
    "mean(res_τ(x_OR6), weights(w_τ)), mean(res_ν(x_OR6), weights(w_ν))"
   ]
  },
  {
   "cell_type": "code",
   "execution_count": null,
   "metadata": {},
   "outputs": [],
   "source": [
    "mean(res_τ(x_OR7), weights(w_τ)), mean(res_ν(x_OR7), weights(w_ν))"
   ]
  },
  {
   "cell_type": "code",
   "execution_count": null,
   "metadata": {},
   "outputs": [],
   "source": [
    "nrms(res_O(x_OR6), w_O), nrms(res_R(x_OR6), w_R), nrms(res_OR(x_OR6), w_OR)"
   ]
  },
  {
   "cell_type": "code",
   "execution_count": null,
   "metadata": {},
   "outputs": [],
   "source": [
    "nrms(res_O(x_OR7), w_O), nrms(res_R(x_OR7), w_R), nrms(res_OR(x_OR7), w_OR)"
   ]
  },
  {
   "cell_type": "code",
   "execution_count": null,
   "metadata": {},
   "outputs": [],
   "source": [
    "chi2(res_OR(x_OR7), w_OR)"
   ]
  },
  {
   "cell_type": "code",
   "execution_count": null,
   "metadata": {},
   "outputs": [],
   "source": [
    "chi2(res_OR(x_OR6), w_OR)"
   ]
  },
  {
   "cell_type": "code",
   "execution_count": null,
   "metadata": {},
   "outputs": [],
   "source": [
    "# signal-to-noise ratio\n",
    "abs(x_OR7[end]/σ_OR7[end])"
   ]
  },
  {
   "cell_type": "markdown",
   "metadata": {},
   "source": [
    "# Semimajor axis drift"
   ]
  },
  {
   "cell_type": "code",
   "execution_count": null,
   "metadata": {},
   "outputs": [],
   "source": [
    "jd0 = datetime2julian(DateTime(2020,12,17)) #Julian date (TDB) of integration initial time\n",
    "et0 = (jd0 - J2000)*daysec"
   ]
  },
  {
   "cell_type": "code",
   "execution_count": null,
   "metadata": {},
   "outputs": [],
   "source": [
    "q00 = [-0.18034747703273316, 0.9406910666200128, 0.3457360259054398, -0.016265942170279046, 4.392889725556651e-5, -0.00039519931615139716]"
   ]
  },
  {
   "cell_type": "code",
   "execution_count": null,
   "metadata": {},
   "outputs": [],
   "source": [
    "if get_numvars() == 7\n",
    "    @show q00 .+ (vcat(1e-8*ones(6), 1e-14).*x_OR7)[1:6]\n",
    "elseif get_numvars() == 8\n",
    "    q00 .+ (vcat(1e-8*ones(6), 1e-14, 1e-13).*x_OR7)[1:6]\n",
    "end"
   ]
  },
  {
   "cell_type": "code",
   "execution_count": null,
   "metadata": {},
   "outputs": [],
   "source": [
    "xas = q00 .- NEOs.kmsec2auday(NEOs.sun_pv(et0)) # .+ (vcat(1e-8*ones(6), 1e-14).*x_OR7)[1:6]"
   ]
  },
  {
   "cell_type": "code",
   "execution_count": null,
   "metadata": {},
   "outputs": [],
   "source": [
    "ϵ0_deg = 84381.448/3600;\n",
    "m_eq2ecl = Rx(deg2rad(ϵ0_deg));\n",
    "m_xv_eq2ecl = hcat(vcat(m_eq2ecl, zeros(3,3)), vcat(zeros(3,3), m_eq2ecl));"
   ]
  },
  {
   "cell_type": "code",
   "execution_count": null,
   "metadata": {},
   "outputs": [],
   "source": [
    "kep0 = vcat([pv2kep(  m_xv_eq2ecl*(xas .+ (vcat(1e-8*ones(6), 1e-14).*dq)[1:6])  , μ[1], jd0)...][1:6],1e-14(dq[7])); # x_OR6 +\n",
    "#kep0 = vcat([pv2kep(  m_xv_eq2ecl*(xas .+ (vcat(1e-8*ones(6), 1e-14, 1e-13).*dq)[1:6])  , μ[1], jd0)...][1:6],1e-14(dq[7]),1e-13(dq[8])); # x_OR6 +\n",
    "kep0()"
   ]
  },
  {
   "cell_type": "code",
   "execution_count": null,
   "metadata": {},
   "outputs": [],
   "source": [
    "kep_OR7 = kep0(x_OR7)"
   ]
  },
  {
   "cell_type": "code",
   "execution_count": null,
   "metadata": {},
   "outputs": [],
   "source": [
    "# WARNING: these are ecliptic elements!!! also, not sure about the order in the Ω ↔ ω angles\n",
    "kep_JPL216 = [0.1914347568286823, 0.7460634895090179, 2459424.558511739019, 203.9662692226386, 126.5900238507279, 3.338874353538208, -2.901085583204654E-14, 5.E-13]\n",
    "#σ_kep_JPL204 = [2.2197e-09, 2.2003e-09, 1.2886e-06, 1.4045e-05, 1.4205e-05, 2.4295e-07, 3.039E-16]\n",
    ";"
   ]
  },
  {
   "cell_type": "code",
   "execution_count": null,
   "metadata": {},
   "outputs": [],
   "source": [
    "kep_JPL216"
   ]
  },
  {
   "cell_type": "code",
   "execution_count": null,
   "metadata": {},
   "outputs": [],
   "source": [
    "orbel_OR7_TN = kep_OR7 .+ dq\n",
    "#orbel_OR7_TN = kep_JPL216 .+ dq # length(kep_JPL216) == 8"
   ]
  },
  {
   "cell_type": "code",
   "execution_count": null,
   "metadata": {},
   "outputs": [],
   "source": []
  },
  {
   "cell_type": "code",
   "execution_count": null,
   "metadata": {},
   "outputs": [],
   "source": [
    "var_names_str = prod(get_variable_names().*\" \")\n",
    "vars_old = get_variables()\n",
    "vars_new = set_variables(eltype(vars_old[1]), var_names_str[1:prevind(var_names_str, end)], order=vars_old[1].order)"
   ]
  },
  {
   "cell_type": "code",
   "execution_count": null,
   "metadata": {},
   "outputs": [],
   "source": [
    "x_OR7[7], σ_OR7[7]"
   ]
  },
  {
   "cell_type": "code",
   "execution_count": null,
   "metadata": {},
   "outputs": [],
   "source": [
    "# OR7, 16 ast\n",
    "ady_kep_au_My = 1e6yr*yarkp2adot(orbel_OR7_TN[7], orbel_OR7_TN[2]/(1.0 - orbel_OR7_TN[1]), orbel_OR7_TN[1], μ[1]) # au/Myr"
   ]
  },
  {
   "cell_type": "code",
   "execution_count": null,
   "metadata": {},
   "outputs": [],
   "source": [
    "# OR7, 16 ast\n",
    "ady_kep_m_y = 1e3au*yr*yarkp2adot(orbel_OR7_TN[7], orbel_OR7_TN[2]/(1.0 - orbel_OR7_TN[1]), orbel_OR7_TN[1], μ[1]) #m/yr"
   ]
  },
  {
   "cell_type": "code",
   "execution_count": null,
   "metadata": {},
   "outputs": [],
   "source": [
    "- 198.70516356300044 - (- 198.70886945315476)"
   ]
  },
  {
   "cell_type": "code",
   "execution_count": null,
   "metadata": {},
   "outputs": [],
   "source": [
    "t_car2kep(x) = TaylorSeries.jacobian(kep0, x)'\n",
    "t_kep2ady(x, ady_kep) = TaylorSeries.gradient(ady_kep)(x)"
   ]
  },
  {
   "cell_type": "code",
   "execution_count": null,
   "metadata": {},
   "outputs": [],
   "source": [
    "Γ_OR7_kep = (t_car2kep(x_OR7)')*Γ_OR7*(t_car2kep(x_OR7))"
   ]
  },
  {
   "cell_type": "code",
   "execution_count": null,
   "metadata": {},
   "outputs": [],
   "source": [
    "1e4sqrt( (t_kep2ady(kep_OR7, ady_kep_au_My)')*Γ_OR7_kep*t_kep2ady(kep_OR7, ady_kep_au_My) )"
   ]
  },
  {
   "cell_type": "code",
   "execution_count": null,
   "metadata": {},
   "outputs": [],
   "source": [
    "sqrt( (t_kep2ady(kep_OR7, ady_kep_m_y)')*Γ_OR7_kep*t_kep2ady(kep_OR7, ady_kep_m_y) )"
   ]
  },
  {
   "cell_type": "code",
   "execution_count": null,
   "metadata": {},
   "outputs": [],
   "source": [
    "sqrt( (t_kep2ady(kep_OR7, ady_kep_m_y)')*Γ_OR7_kep*t_kep2ady(kep_OR7, ady_kep_m_y) )"
   ]
  },
  {
   "cell_type": "code",
   "execution_count": null,
   "metadata": {},
   "outputs": [],
   "source": [
    "t_car2kep(x_OR7)"
   ]
  },
  {
   "cell_type": "code",
   "execution_count": null,
   "metadata": {},
   "outputs": [],
   "source": [
    "σ_OR7_kep = sqrt.(diag(Γ_OR7_kep))"
   ]
  },
  {
   "cell_type": "code",
   "execution_count": null,
   "metadata": {},
   "outputs": [],
   "source": [
    "kep_OR7"
   ]
  },
  {
   "cell_type": "code",
   "execution_count": null,
   "metadata": {},
   "outputs": [],
   "source": [
    "kep_JPL216"
   ]
  },
  {
   "cell_type": "code",
   "execution_count": null,
   "metadata": {},
   "outputs": [],
   "source": [
    "σ_OR7_kep"
   ]
  },
  {
   "cell_type": "code",
   "execution_count": null,
   "metadata": {},
   "outputs": [],
   "source": [
    "Γ_OR7_kep = (t_car2kep(x_OR7)')*Γ_OR7*(t_car2kep(x_OR7));\n",
    "Γ_OR6_kep = (t_car2kep(x_OR6)[1:6,1:6]')*Γ_OR6*t_car2kep(x_OR6)[1:6,1:6];"
   ]
  },
  {
   "cell_type": "code",
   "execution_count": null,
   "metadata": {},
   "outputs": [],
   "source": [
    "jd0"
   ]
  },
  {
   "cell_type": "code",
   "execution_count": null,
   "metadata": {},
   "outputs": [],
   "source": [
    "for (x, Γ_kep, sol_str) in [(x_OR6, Γ_OR6_kep, \"OR6\"), (x_OR7, Γ_OR7_kep, \"OR7\")]\n",
    "    println(\"* ----===OOO===--- *\", sol_str)\n",
    "    @show kep0(x) sqrt.(diag(Γ_kep))\n",
    "end"
   ]
  },
  {
   "cell_type": "raw",
   "metadata": {},
   "source": [
    "#OR6\n",
    "\n",
    "0.19150875(472)     \\pm 1.28\\times 10^{-9}\n",
    "0.74585316(035)     \\pm 1.23\\times 10^{-9}\n",
    "2459101.040820(608) \\pm 7.49\\times 10^{-7}\n",
    "204.04254(376)      \\pm 7.44\\times 10^{-6}\n",
    "126.65331(533)      \\pm 7.58\\times 10^{-6}\n",
    "3.336760(462)       \\pm 1.36\\times 10^{-7}\n",
    " 0.0 (fixed)                              \n",
    "\n",
    "# OR7\n",
    "\n",
    "0.19150886(716)    \\pm 1.60\\times 10^{-9}\n",
    "0.74585305(033)    \\pm 1.54\\times 10^{-9}\n",
    "2459101.04092(537) \\pm 1.17\\times 10^{-6}\n",
    "204.04199(116)     \\pm 8.81\\times 10^{-6}\n",
    "126.65396(094)     \\pm 9.37\\times 10^{-6}\n",
    "3.336773(201)      \\pm 1.74\\times 10^{-7}\n",
    "-2.8(988)          \\pm 2.48\\times 10^{-2}"
   ]
  },
  {
   "cell_type": "code",
   "execution_count": null,
   "metadata": {},
   "outputs": [],
   "source": [
    "for (x, Γ, sol_str) in [(x_OR6, Γ_OR6, \"OR6\"), (x_OR7, Γ_OR7, \"OR7\")]\n",
    "    println(\"* ----===OOO===--- *\", sol_str)\n",
    "    σ_sol_ = sqrt.(diag(Γ))\n",
    "    σ_sol = length(σ_sol_)==6 ? 1e-8σ_sol_[1:6] : vcat(1e-8σ_sol_[1:6], 1e-14σ_sol_[7])\n",
    "    @show vcat(q00, 0).+vcat(1e-8x[1:6], 1e-14x[7]) σ_sol\n",
    "end"
   ]
  },
  {
   "cell_type": "raw",
   "metadata": {},
   "source": [
    "#OR6\n",
    "\n",
    "-0.18034816(472)            \\pm 7.05\\times 10^{-9} \n",
    " 0.94069116(764)            \\pm 1.71\\times 10^{-9} \n",
    " 0.34573641(385)            \\pm 4.03\\times 10^{-9} \n",
    "-0.0162659357(312)          \\pm 3.31\\times 10^{-11}\n",
    " 4.39163(792)\\times 10^{-5} \\pm 6.68\\times 10^{-11}\n",
    "-0.000395210(949)           \\pm 1.24\\times 10^{-10}\n",
    " 0.0 (fixed)                                       \n",
    "\n",
    "#OR7\n",
    "\n",
    "-0.18034828(526)            \\pm 7.12\\times 10^{-9} \n",
    " 0.94069105(951)            \\pm 1.94\\times 10^{-9} \n",
    " 0.34573599(029)            \\pm 5.41\\times 10^{-9} \n",
    "-0.0162659397(886)          \\pm 4.79\\times 10^{-11}\n",
    " 4.39154(800)\\times 10^{-5} \\pm 6.72\\times 10^{-11}\n",
    "-0.000395204(013)           \\pm 1.38\\times 10^{-10}\n",
    "-2.8(988)\\times 10^{-14}    \\pm 2.48\\times 10^{-16}\n"
   ]
  },
  {
   "cell_type": "code",
   "execution_count": null,
   "metadata": {},
   "outputs": [],
   "source": []
  },
  {
   "cell_type": "code",
   "execution_count": null,
   "metadata": {},
   "outputs": [],
   "source": [
    "res_α_OR6 = res_α(x_OR6)\n",
    "res_δ_OR6 = res_δ(x_OR6)\n",
    "\n",
    "res_α_OR7 = res_α(x_OR7)\n",
    "res_δ_OR7 = res_δ(x_OR7)\n",
    ";"
   ]
  },
  {
   "cell_type": "code",
   "execution_count": null,
   "metadata": {},
   "outputs": [],
   "source": [
    "mean(res_α_OR6), std(res_α_OR6), mean(res_δ_OR6), std(res_δ_OR6)"
   ]
  },
  {
   "cell_type": "code",
   "execution_count": null,
   "metadata": {},
   "outputs": [],
   "source": [
    "mean(res_α_OR7), std(res_α_OR7), mean(res_δ_OR7), std(res_δ_OR7)"
   ]
  },
  {
   "cell_type": "markdown",
   "metadata": {},
   "source": [
    "# Plots: optical astrometry post-fit residuals"
   ]
  },
  {
   "cell_type": "code",
   "execution_count": null,
   "metadata": {},
   "outputs": [],
   "source": [
    "methods(fit)"
   ]
  },
  {
   "cell_type": "code",
   "execution_count": null,
   "metadata": {},
   "outputs": [],
   "source": [
    "#bins_hist = -2.0:0.1:2.0\n",
    "nbins_plot = 100\n",
    "\n",
    "#h_a = fit(Histogram, res_α_OR6, bins_hist)\n",
    "h_a = fit(Histogram, res_α_OR6, nbins=nbins_plot)\n",
    "bc_a = midpoints(h_a.edges[1]) # bin centers\n",
    "bs_a = fill(h_a.edges[1].step.hi, length(bc_a)) # bin sizes\n",
    ";\n",
    "\n",
    "#h_b = fit(Histogram, res_δ_OR6, bins_hist)\n",
    "h_b = fit(Histogram, res_δ_OR6, nbins=nbins_plot)\n",
    "bc_b = midpoints(h_b.edges[1]) # bin centers\n",
    "bs_b = fill(h_b.edges[1].step.hi, length(bc_b)) # bin sizes\n",
    "\n",
    "#h_c = fit(Histogram, res_α_OR7, bins_hist)\n",
    "h_c = fit(Histogram, res_α_OR7, nbins=nbins_plot)\n",
    "bc_c = midpoints(h_c.edges[1]) # bin centers\n",
    "bs_c = fill(h_c.edges[1].step.hi, length(bc_c)) # bin sizes\n",
    "\n",
    "#h_d = fit(Histogram, res_δ_OR7, bins_hist)\n",
    "h_d = fit(Histogram, res_δ_OR7, nbins=nbins_plot)\n",
    "bc_d = midpoints(h_d.edges[1]) # bin centers\n",
    "bs_d = fill(h_d.edges[1].step.hi, length(bc_d)) # bin sizes\n",
    ";"
   ]
  },
  {
   "cell_type": "code",
   "execution_count": null,
   "metadata": {},
   "outputs": [],
   "source": [
    "minimum(res_α_OR6), maximum(res_α_OR6)"
   ]
  },
  {
   "cell_type": "code",
   "execution_count": null,
   "metadata": {},
   "outputs": [],
   "source": [
    "minimum(res_δ_OR6), maximum(res_δ_OR6)"
   ]
  },
  {
   "cell_type": "code",
   "execution_count": null,
   "metadata": {},
   "outputs": [],
   "source": [
    "minimum(res_α_OR7), maximum(res_α_OR7)"
   ]
  },
  {
   "cell_type": "code",
   "execution_count": null,
   "metadata": {},
   "outputs": [],
   "source": [
    "minimum(res_δ_OR7), maximum(res_δ_OR7)"
   ]
  },
  {
   "cell_type": "code",
   "execution_count": null,
   "metadata": {},
   "outputs": [],
   "source": [
    "mean(res_α_OR6), mean(res_δ_OR6)"
   ]
  },
  {
   "cell_type": "code",
   "execution_count": null,
   "metadata": {},
   "outputs": [],
   "source": [
    "mean(res_α_OR7), mean(res_δ_OR7)"
   ]
  },
  {
   "cell_type": "code",
   "execution_count": null,
   "metadata": {},
   "outputs": [],
   "source": [
    "# use findall instead of filter, since we're looking for the indices of ZTF observations\n",
    "#ztf_obs_indx = findall(x->x==\"I41\", radec_all.obscode)"
   ]
  },
  {
   "cell_type": "code",
   "execution_count": null,
   "metadata": {},
   "outputs": [],
   "source": [
    "#res_α_OR7[ztf_obs_indx]"
   ]
  },
  {
   "cell_type": "code",
   "execution_count": null,
   "metadata": {},
   "outputs": [],
   "source": [
    "#res_δ_OR7[ztf_obs_indx]"
   ]
  },
  {
   "cell_type": "code",
   "execution_count": null,
   "metadata": {},
   "outputs": [],
   "source": [
    "#sqrt(  mean(res_δ_OR7[ztf_obs_indx].^2 .+ res_α_OR7[ztf_obs_indx].^2)  )"
   ]
  },
  {
   "cell_type": "code",
   "execution_count": null,
   "metadata": {},
   "outputs": [],
   "source": []
  },
  {
   "cell_type": "code",
   "execution_count": null,
   "metadata": {},
   "outputs": [],
   "source": [
    "angv = vcat(range(0, length=1000, stop=prevfloat(2pi)), 0)\n",
    "sigma_factor = 3.0\n",
    "σ_cos_ang = sigma_factor*cos.(angv)\n",
    "σ_sin_ang = sigma_factor*sin.(angv)\n",
    "\n",
    "cov_αδ_cholf_OR6 = cholesky(cov(hcat(res_α_OR6, res_δ_OR6)))\n",
    "cov_αδ_cholf_OR7 = cholesky(cov(hcat(res_α_OR7, res_δ_OR7)))\n",
    "\n",
    "ell_3σ_x_OR6 = mean(res_α_OR6) .+ cov_αδ_cholf_OR6.L[1,1].*σ_cos_ang .+ cov_αδ_cholf_OR6.L[1,2].*σ_sin_ang\n",
    "ell_3σ_y_OR6 = mean(res_δ_OR6) .+ cov_αδ_cholf_OR6.L[2,1].*σ_cos_ang .+ cov_αδ_cholf_OR6.L[2,2].*σ_sin_ang\n",
    "\n",
    "ell_3σ_x_OR7 = mean(res_α_OR7) .+ cov_αδ_cholf_OR7.L[1,1].*σ_cos_ang .+ cov_αδ_cholf_OR7.L[1,2].*σ_sin_ang\n",
    "ell_3σ_y_OR7 = mean(res_δ_OR7) .+ cov_αδ_cholf_OR7.L[2,1].*σ_cos_ang .+ cov_αδ_cholf_OR7.L[2,2].*σ_sin_ang\n",
    ";"
   ]
  },
  {
   "cell_type": "code",
   "execution_count": null,
   "metadata": {},
   "outputs": [],
   "source": [
    "gap = 0.01\n",
    "xlim_plt = 3.5\n",
    "ymin_plt = -5.0\n",
    "ymax_plt = 5.0\n",
    "\n",
    "Gaston.set(preamble=\"set grid; set style circle radius 0.02\")\n",
    "\n",
    "p1 = Gaston.plot(\n",
    "    bc_a,\n",
    "    h_a.weights./2, \n",
    "    supp=[bs_a./2 h_a.weights./2], \n",
    "    curveconf=\"w boxxy notit fs transparent solid 0.4\", \n",
    "    Axes(\n",
    "        #linetype = :tab10,\n",
    "        axesconf=\"set lmargin at screen 0.1; set rmargin at screen 0.85; set tmargin at screen 0.99; set bmargin at screen 0.8+$gap\",\n",
    "        xrange = (-xlim_plt, xlim_plt),\n",
    "        format = \"''\",\n",
    "        label=\"1 '(b)' at graph 0.05,0.8\"\n",
    "    ),\n",
    "    handle = 1\n",
    ")\n",
    "Gaston.plot!(\n",
    "    bc_c,\n",
    "    h_c.weights./2, \n",
    "    supp=[bs_c./2 h_c.weights./2], \n",
    "    curveconf=\"w boxxy notit fs transparent solid 0.4\"\n",
    ")\n",
    "\n",
    "p2 = Gaston.plot(\n",
    "    res_α_OR6, \n",
    "    res_δ_OR6, \n",
    "    curveconf=\"w circles fill transparent solid 0.4 noborder tit 'gravity-only'\",\n",
    "    Axes(\n",
    "        #linetype = :tab10,\n",
    "        key=\"at screen 0.835, screen 0.78 box spacing 1.2 height 0.4\",  #\"outside top right box spacing 1.2 height 1\",\n",
    "        axesconf=\"set lmargin at screen 0.1; set rmargin at screen 0.85; set tmargin at screen 0.8; set bmargin at screen 0.1\",\n",
    "        xrange = (-xlim_plt, xlim_plt),\n",
    "        yrange = (ymin_plt, ymax_plt),\n",
    "        format = \"\\\"%g\\\"\",\n",
    "        xlabel=\"'\\$\\\\alpha\\\\cos(\\\\delta)\\$ \\$[\\$arcsec\\$]\\$'\",\n",
    "        ylabel=\"'\\$\\\\delta\\$ \\$[\\$arcsec\\$]\\$'\",\n",
    "        label=\"1 '(a)' at graph 0.05,0.925\"\n",
    "    ), \n",
    "    handle = 2\n",
    ")\n",
    "Gaston.plot!(res_α_OR7, res_δ_OR7, \n",
    "    curveconf=\"w circles fill transparent solid 0.4 noborder tit 'non-grav.'\"\n",
    ")\n",
    "Gaston.plot!([mean(res_α_OR6)], [mean(res_δ_OR6)], curveconf=\"w p pt 4 ps 1.5 lw 8\") # tit 'mean R.A./Dec (OR6)'\n",
    "Gaston.plot!([mean(res_α_OR7)], [mean(res_δ_OR7)], curveconf=\"w p pt 6 ps 1.5 lw 8\") # tit 'mean R.A./Dec (OR7)'\n",
    "Gaston.plot!(ell_3σ_x_OR6, ell_3σ_y_OR6, curveconf=\"w l lw 8 lc 3\")\n",
    "Gaston.plot!(ell_3σ_x_OR7, ell_3σ_y_OR7, curveconf=\"w l lw 8 lc 4\")\n",
    "\n",
    "p4 = Gaston.plot(\n",
    "    h_b.weights./2,\n",
    "    bc_b,\n",
    "    supp=[h_b.weights./2 bs_b./2],\n",
    "    curveconf=\"w boxxy notit fs transparent solid 0.4\",\n",
    "    Axes(\n",
    "        #linetype = :tab10,\n",
    "        axesconf=\"set lmargin at screen 0.85+$gap; set rmargin at screen 0.99; set tmargin at screen 0.8; set bmargin at screen 0.1\",\n",
    "        yrange = (ymin_plt, ymax_plt),\n",
    "        format = \"''\",\n",
    "        label=\"1 '(c)' at graph 0.15,0.925\"\n",
    "    ),\n",
    "    handle = 4\n",
    ")\n",
    "Gaston.plot!(\n",
    "    h_d.weights./2,\n",
    "    bc_d,\n",
    "    supp=[h_d.weights./2 bs_d./2],\n",
    "    curveconf=\"w boxxy notit fs transparent solid 0.4\"\n",
    ")\n",
    "\n",
    "Gaston.plot([p1 nothing ; p2 p4])\n",
    "\n",
    "#Gaston.save(term = \"cairolatex\", output = \"radec_hist_NEW_SANSSERIF.tex\", saveopts = \"pdf standalone color dashed transparent size 7in,5in font ',12'\")\n",
    "#run(`lualatex radec_hist_NEW_SANSSERIF.tex`)"
   ]
  },
  {
   "cell_type": "code",
   "execution_count": null,
   "metadata": {
    "scrolled": true,
    "tags": []
   },
   "outputs": [],
   "source": [
    "?writedlm"
   ]
  },
  {
   "cell_type": "code",
   "execution_count": null,
   "metadata": {},
   "outputs": [],
   "source": [
    "open(\"optical_residuals_OR6.txt\", \"w\") do io\n",
    "    writedlm(io, [res_α_OR6 res_δ_OR6])\n",
    "end"
   ]
  },
  {
   "cell_type": "code",
   "execution_count": null,
   "metadata": {},
   "outputs": [],
   "source": []
  },
  {
   "cell_type": "code",
   "execution_count": null,
   "metadata": {},
   "outputs": [],
   "source": []
  },
  {
   "cell_type": "code",
   "execution_count": null,
   "metadata": {},
   "outputs": [],
   "source": []
  },
  {
   "cell_type": "code",
   "execution_count": null,
   "metadata": {},
   "outputs": [],
   "source": [
    "length(res_α)"
   ]
  },
  {
   "cell_type": "code",
   "execution_count": null,
   "metadata": {},
   "outputs": [],
   "source": [
    "mean(w_α.*res_α(x_OR7)), std(w_α.*res_α(x_OR7))"
   ]
  },
  {
   "cell_type": "code",
   "execution_count": null,
   "metadata": {},
   "outputs": [],
   "source": [
    "mean(w_δ.*res_δ(x_OR7)), std(w_δ.*res_δ(x_OR7))"
   ]
  },
  {
   "cell_type": "code",
   "execution_count": null,
   "metadata": {},
   "outputs": [],
   "source": [
    "mean(res_τ(x_OR7)), std(res_τ(x_OR7))"
   ]
  },
  {
   "cell_type": "code",
   "execution_count": null,
   "metadata": {},
   "outputs": [],
   "source": [
    "mean(res_ν(x_OR7)), std(res_ν(x_OR7))"
   ]
  },
  {
   "cell_type": "markdown",
   "metadata": {},
   "source": [
    "## OR6"
   ]
  },
  {
   "cell_type": "code",
   "execution_count": null,
   "metadata": {},
   "outputs": [],
   "source": [
    "mean(res_τ(x_OR6)), std(res_τ(x_OR6))"
   ]
  },
  {
   "cell_type": "code",
   "execution_count": null,
   "metadata": {},
   "outputs": [],
   "source": [
    "mean(res_ν(x_OR6)), std(res_ν(x_OR6))"
   ]
  },
  {
   "cell_type": "code",
   "execution_count": null,
   "metadata": {},
   "outputs": [],
   "source": []
  },
  {
   "cell_type": "code",
   "execution_count": null,
   "metadata": {},
   "outputs": [],
   "source": [
    "ind_del_0506 = 1:2\n",
    "ind_del_1213 = 3:17\n",
    "ind_del_2121 = 18:20 #18:19\n",
    "\n",
    "ind_dop_0506 = 1:5\n",
    "ind_dop_1213 = 6:29\n",
    "ind_dop_2121 = 30:30\n",
    ";"
   ]
  },
  {
   "cell_type": "code",
   "execution_count": null,
   "metadata": {},
   "outputs": [],
   "source": []
  },
  {
   "cell_type": "code",
   "execution_count": null,
   "metadata": {},
   "outputs": [],
   "source": [
    "del_index = findall(x->x, deldop_all.delay_index)\n",
    "dop_index = findall(x->x, deldop_all.doppler_index)\n",
    "length(del_index), length(dop_index)"
   ]
  },
  {
   "cell_type": "code",
   "execution_count": null,
   "metadata": {},
   "outputs": [],
   "source": [
    "nrow(deldop_all)"
   ]
  },
  {
   "cell_type": "code",
   "execution_count": null,
   "metadata": {},
   "outputs": [],
   "source": [
    "del_dates_plot_ = (deldop_all |> @filter(_.delay_index) |> DataFrame).dt_utc_obs\n",
    "dop_dates_plot_ = (deldop_all |> @filter(_.doppler_index) |> DataFrame).dt_utc_obs\n",
    "\n",
    "del_dates_plot = Dates.format.(del_dates_plot_, \"dd/mm/yy HHMM\")\n",
    "dop_dates_plot = Dates.format.(dop_dates_plot_, \"dd/mm/yy HHMM\")\n",
    "\n",
    "length(del_dates_plot), length(dop_dates_plot)"
   ]
  },
  {
   "cell_type": "markdown",
   "metadata": {},
   "source": [
    "# Plots: radar astrometry post-fit residuals"
   ]
  },
  {
   "cell_type": "code",
   "execution_count": null,
   "metadata": {},
   "outputs": [],
   "source": [
    "p1 = Gaston.plot(\n",
    "    del_index,\n",
    "    res_τ(x_OR6),\n",
    "    supp = σ_del_all,\n",
    "    key=\"box spacing 1.2 height 0.4\", #at screen 0.835, screen 0.78 \n",
    "    curveconf = \"u 1:2:3 w errorbars pt 6 lw 4 tit 'gravity-only'\",\n",
    "    Axes(\n",
    "        #axesconf=\"set lmargin at screen 0.15; set rmargin at screen 0.95; set bmargin at screen 0.5\",\n",
    "        axesconf=\"set lmargin at screen 0.11\",\n",
    "        #linetype = :tab10,\n",
    "        bars = 2,\n",
    "        ylabel = \"'Time-delay resid. \\$[\\$us\\$]\\$'\",\n",
    "        xrange = (0,39),\n",
    "        xtics = \"1,2,40\",\n",
    "        format = \"y '%1.1f'\",\n",
    "        yrange=(-7,8),\n",
    "        label=\"1 '(a)' at graph 0.05,0.9\"#,\n",
    "        #title = \"'gravity-only'\"\n",
    "    ),\n",
    "    handle = 1\n",
    ")\n",
    "Gaston.plot!(\n",
    "    del_index,\n",
    "    res_τ(x_OR7),\n",
    "    supp = σ_del_all,\n",
    "    curveconf = \"u 1:2:3 w errorbars pt 4 lw 4 tit 'non-gravitational'\",\n",
    "    lc = 2\n",
    ")\n",
    "\n",
    "p2 = Gaston.plot(\n",
    "    dop_index,\n",
    "    res_ν(x_OR6),\n",
    "    supp = σ_dop_all,\n",
    "    curveconf = \"u 1:2:3 w errorbars pt 6 lw 4 tit 'gravity-only'\",\n",
    "    key=\"box spacing 1.2 height 0.4\",\n",
    "    Axes(\n",
    "        #axesconf=\"set lmargin at screen 0.15; set rmargin at screen 0.95; set tmargin at screen 0.5\",\n",
    "        axesconf=\"set lmargin at screen 0.11\",\n",
    "        #linetype = :tab10,\n",
    "        bars = 2,\n",
    "        ylabel = \"'Doppler shift resid. \\$[\\$Hz\\$]\\$'\",\n",
    "        xrange = (0,39),\n",
    "        xtics = \"1,2,40\",\n",
    "        format = \"y '%1.1f'\",\n",
    "        yrange=(-0.6,0.8),\n",
    "        label=\"1 '(b)' at graph 0.05,0.9\" #,\n",
    "        # title = \"'non-gravitational'\"\n",
    "    ),\n",
    "    handle = 2\n",
    ")\n",
    "Gaston.plot!(\n",
    "    dop_index,\n",
    "    res_ν(x_OR7),\n",
    "    supp = σ_dop_all,\n",
    "    curveconf = \"u 1:2:3 w errorbars pt 4 lw 4 tit 'non-gravitational'\",\n",
    "    lc = 2\n",
    ")\n",
    "\n",
    "\n",
    "Gaston.plot([p1; p2])\n",
    "\n",
    "#Gaston.save(term = \"cairolatex\", output = \"deldop_residuals.tex\", saveopts = \"pdf standalone color dashed transparent size 10in,7in font ',14'\")\n",
    "#run(`pdflatex deldop_residuals.tex`)"
   ]
  },
  {
   "cell_type": "code",
   "execution_count": null,
   "metadata": {},
   "outputs": [],
   "source": []
  },
  {
   "cell_type": "code",
   "execution_count": null,
   "metadata": {},
   "outputs": [],
   "source": [
    "deldop_dates_plot_xaxis = vcat(\"01/06/04 0000\", del_dates_plot, \"31/03/21 2359\");"
   ]
  },
  {
   "cell_type": "code",
   "execution_count": null,
   "metadata": {},
   "outputs": [],
   "source": [
    "tmargin_bmargin_gap = 0.03\n",
    "bmargin_ths_plt = 0.5 + tmargin_bmargin_gap\n",
    "tmargin_ths_plt = 0.965\n",
    "axsbrk_v = 1.25*0.01\n",
    "axsbrk_h = 1.25*0.005\n",
    "lw_ths_plt = 3\n",
    "rmargin_ths_plt = 0.3\n",
    "\n",
    "p1 = Gaston.plot(\n",
    "    del_dates_plot,\n",
    "    res_τ(x_OR6),\n",
    "    supp = σ_del_all,\n",
    "    curveconf = \"u 1:3:4 w errorbars pt 6 lw $lw_ths_plt\",\n",
    "    Axes(\n",
    "        #linetype = :tab10,\n",
    "        axesconf = \"set rmargin at screen 0.3; set tmargin at screen $tmargin_ths_plt; set bmargin at screen $bmargin_ths_plt\",\n",
    "        xdata   = \"time\",\n",
    "        timefmt = \"'%d/%m/%y %H%M'\",\n",
    "        xtics = false, #\"format '' time (\\\"01/01/05\\\",\\\"01/01/06\\\")\", # '%d/%b/%y'\n",
    "        xrange = \"[\\\"01/12/04\\\":\\\"30/05/06\\\"]\",\n",
    "        #xlabel  = \"\\\"Date\\\"\",\n",
    "        bars = false, #2,\n",
    "        ylabel = \"'Time-delay resid. (O-C) [\\$\\\\mu\\$s]'\",\n",
    "        border = \"1+2+4\",\n",
    "        ytics = [\"nomirror\", \"format '%1.1f'\"],\n",
    "        yrange = \"[-8.0:6.0]\",\n",
    "        arrow = [\n",
    "            \"from screen 0.3-$axsbrk_h,$bmargin_ths_plt-$axsbrk_v to screen 0.3+$axsbrk_h,$bmargin_ths_plt+$axsbrk_v nohead\",\n",
    "            \"from screen 0.3-$axsbrk_h,$tmargin_ths_plt-$axsbrk_v to screen 0.3+$axsbrk_h,$tmargin_ths_plt+$axsbrk_v nohead\"\n",
    "            ],\n",
    "        label=\"1 '(a)' at graph 0.2,0.9\",\n",
    "        grid=false\n",
    "        #arrow = \"from screen 0.3-0.01,1.0-0.01 to screen 0.3+0.01,1.0+0.01 nohead\"\n",
    "        #format = \"x ''\"\n",
    "        #title = \"'Time-delay resid. (O-C)'\"\n",
    "    ),\n",
    "    handle = 1\n",
    ")\n",
    "Gaston.plot!(\n",
    "    del_dates_plot,\n",
    "    res_τ(x_OR7),\n",
    "    supp = σ_del_all,\n",
    "    curveconf = \"u 1:3:4 w errorbars pt 4 lw $lw_ths_plt\",\n",
    "    lc = 2\n",
    ")\n",
    "Gaston.plot!(deldop_dates_plot_xaxis, zeros(length(deldop_dates_plot_xaxis)), curveconf=\" u 1:3 w l lc rgb 'gray' lw 4 dt 2\")\n",
    "\n",
    "p2 = Gaston.plot(\n",
    "    del_dates_plot,\n",
    "    res_τ(x_OR6),\n",
    "    supp = σ_del_all,\n",
    "    curveconf = \"u 1:3:4 w errorbars pt 6 lw $lw_ths_plt\",\n",
    "    Axes(\n",
    "        #linetype = :tab10,\n",
    "        xdata   = \"time\",\n",
    "        timefmt = \"'%d/%m/%y %H%M'\",\n",
    "        axesconf = \"set lmargin at screen 0.35; set tmargin at screen $tmargin_ths_plt; set rmargin at screen 0.8; set bmargin at screen $bmargin_ths_plt\",\n",
    "        xtics = false, #\"format '' time (\\\"01/01/13\\\",\\\"01/02/13\\\",\\\"01/03/13\\\")\", # '%d/%b/%y'\n",
    "        xrange = \"[\\\"15/12/12\\\":\\\"20/03/13\\\"]\",\n",
    "        #xlabel  = \"\\\"Date\\\"\",\n",
    "        bars = false, #2,\n",
    "        #tics=\"scale 0\",\n",
    "        ytics = false, #[false, \"(\\\"\\\" 0)\"], #\"nomirror\",\n",
    "        border = \"1+4\",\n",
    "        yrange = \"[-8.0:6.0]\",\n",
    "        format = [\"x ''\", \"y ''\"], #%1.1f\n",
    "        arrow = [\n",
    "            \"from screen 0.35-$axsbrk_h,$bmargin_ths_plt-$axsbrk_v to screen 0.35+$axsbrk_h,$bmargin_ths_plt+$axsbrk_v nohead\",\n",
    "            \"from screen 0.35-$axsbrk_h,$tmargin_ths_plt-$axsbrk_v to screen 0.35+$axsbrk_h,$tmargin_ths_plt+$axsbrk_v nohead\",\n",
    "            \"from screen 0.80-$axsbrk_h,$bmargin_ths_plt-$axsbrk_v to screen 0.80+$axsbrk_h,$bmargin_ths_plt+$axsbrk_v nohead\",\n",
    "            \"from screen 0.80-$axsbrk_h,$tmargin_ths_plt-$axsbrk_v to screen 0.80+$axsbrk_h,$tmargin_ths_plt+$axsbrk_v nohead\"\n",
    "            ],\n",
    "        #ylabel = \"'[us]'\"\n",
    "    ),\n",
    "    handle = 2\n",
    ")\n",
    "Gaston.plot!(\n",
    "    del_dates_plot,\n",
    "    res_τ(x_OR7),\n",
    "    supp = σ_del_all,\n",
    "    curveconf = \"u 1:3:4 w errorbars pt 4 lw $lw_ths_plt\",\n",
    "    lc = 2\n",
    ")\n",
    "Gaston.plot!(deldop_dates_plot_xaxis, zeros(length(deldop_dates_plot_xaxis)), curveconf=\" u 1:3 w l lc rgb 'gray' lw 4 dt 2\")\n",
    "\n",
    "p3 = Gaston.plot(\n",
    "    del_dates_plot,\n",
    "    res_τ(x_OR6),\n",
    "    supp = σ_del_all,\n",
    "    curveconf = \"u 1:3:4 w errorbars pt 6 lw $lw_ths_plt\",\n",
    "    Axes(\n",
    "        #linetype = :tab10,\n",
    "        xdata   = \"time\",\n",
    "        timefmt = \"'%d/%m/%y %H%M'\",\n",
    "        axesconf = \"set lmargin at screen 0.85; set tmargin at screen 0.965; set bmargin at screen $bmargin_ths_plt\",\n",
    "        xtics = false, #\"format '' time (\\\"03/03/21\\\",\\\"11/03/21\\\")\", #'%d/%b/%y'\n",
    "        xrange = \"[\\\"02/03/21\\\":\\\"15/03/21\\\"]\",\n",
    "        #xlabel = \"\\\"Date\\\"\",\n",
    "        bars = false, #2,\n",
    "        #tics=\"scale 0\",\n",
    "        ytics = false, #[false, \"(\\\"\\\" 0)\"], #\"nomirror\",\n",
    "        border = \"1+4+8\",\n",
    "        yrange = \"[-8.0:6.0]\",\n",
    "        format = [\"x ''\", \"y ''\"], #%1.1f\n",
    "        arrow = [\n",
    "            \"from screen 0.85-$axsbrk_h,$bmargin_ths_plt-$axsbrk_v to screen 0.85+$axsbrk_h,$bmargin_ths_plt+$axsbrk_v nohead\",\n",
    "            \"from screen 0.85-$axsbrk_h,$tmargin_ths_plt-$axsbrk_v to screen 0.85+$axsbrk_h,$tmargin_ths_plt+$axsbrk_v nohead\"\n",
    "            ],\n",
    "        #ylabel = \"'[us]'\"\n",
    "    ),\n",
    "    handle = 3\n",
    ")\n",
    "Gaston.plot!(\n",
    "    del_dates_plot,\n",
    "    res_τ(x_OR7),\n",
    "    supp = σ_del_all,\n",
    "    curveconf = \"u 1:3:4 w errorbars pt 4 lw $lw_ths_plt\",\n",
    "    lc = 2\n",
    ")\n",
    "Gaston.plot!(deldop_dates_plot_xaxis, zeros(length(deldop_dates_plot_xaxis)), curveconf=\" u 1:3 w l lc rgb 'gray' lw 4 dt 2\")\n",
    "\n",
    "Gaston.plot([p1 p2 p3])\n",
    "\n",
    "#Gaston.save(term = \"cairolatex\", output = \"del_resids.tex\", saveopts = \"pdf standalone color dashed transparent size 10in,7in font ',14'\")\n",
    "#run(`pdflatex del_resids.tex`)"
   ]
  },
  {
   "cell_type": "code",
   "execution_count": null,
   "metadata": {},
   "outputs": [],
   "source": [
    "@show res_ν(x_OR7)\n",
    ";"
   ]
  },
  {
   "cell_type": "code",
   "execution_count": null,
   "metadata": {},
   "outputs": [],
   "source": [
    "tmargin_ths_plt = 0.5 - tmargin_bmargin_gap\n",
    "bmargin_ths_plt = 0.05\n",
    "\n",
    "Gaston.set(preamble=\"unset grid\")\n",
    "p4 = Gaston.plot(\n",
    "    dop_dates_plot,\n",
    "    res_ν(x_OR6),\n",
    "    supp = σ_dop_all,\n",
    "    curveconf = \"u 1:3:4 w errorbars pt 6 lw $lw_ths_plt\",\n",
    "    Axes(\n",
    "        #linetype = :tab10,\n",
    "        axesconf=\"set rmargin at screen $rmargin_ths_plt; set tmargin at screen $tmargin_ths_plt; set bmargin at screen $bmargin_ths_plt\",\n",
    "        xdata   = \"time\",\n",
    "        timefmt = \"'%d/%m/%y %H%M'\",\n",
    "        xtics = \"format '%d/%b/%y' time (\\\"01/01/05\\\",\\\"01/01/06\\\")\",\n",
    "        xrange = \"[\\\"01/12/04\\\":\\\"30/05/06\\\"]\",\n",
    "        #xlabel  = \"\\\"Date\\\"\",\n",
    "        bars = false,#2,\n",
    "        ylabel = \"'Doppler shift resid. (O-C) [Hz]'\",\n",
    "        border=\"1+2+4\",\n",
    "        ytics = [\"nomirror\", \"format '%1.1f'\"],\n",
    "        yrange=\"[-0.5:0.5]\",\n",
    "        arrow = [\n",
    "            \"from screen 0.3-$axsbrk_h,$tmargin_ths_plt-$axsbrk_v to screen 0.3+$axsbrk_h,$tmargin_ths_plt+$axsbrk_v nohead\",\n",
    "            \"from screen 0.3-$axsbrk_h,$bmargin_ths_plt-$axsbrk_v to screen 0.3+$axsbrk_h,$bmargin_ths_plt+$axsbrk_v nohead\"\n",
    "            ],\n",
    "        label=\"1 '(b)' at graph 0.2,0.9\"\n",
    "        #title = \"'Doppler shift resid. (O-C)'\"\n",
    "    ),\n",
    "    handle = 4\n",
    ")\n",
    "Gaston.plot!(\n",
    "    dop_dates_plot,\n",
    "    res_ν(x_OR7),\n",
    "    supp = σ_dop_all,\n",
    "    curveconf = \"u 1:3:4 w errorbars pt 4 lw $lw_ths_plt\",\n",
    "    lc = 2\n",
    ")\n",
    "Gaston.plot!(deldop_dates_plot_xaxis, zeros(length(deldop_dates_plot_xaxis)), curveconf=\" u 1:3 w l lc rgb 'gray' lw 4 dt 2\")\n",
    "\n",
    "p5 = Gaston.plot(\n",
    "    dop_dates_plot,\n",
    "    res_ν(x_OR6),\n",
    "    supp = σ_dop_all,\n",
    "    curveconf = \"u 1:3:4 w errorbars pt 6 lw $lw_ths_plt\",\n",
    "    Axes(\n",
    "        #linetype = :tab10,\n",
    "        xdata   = \"time\",\n",
    "        timefmt = \"'%d/%m/%y %H%M'\",\n",
    "        axesconf=\"set lmargin at screen $rmargin_ths_plt+0.05; set rmargin at screen 0.8; set tmargin at screen $tmargin_ths_plt; set bmargin at screen $bmargin_ths_plt\",\n",
    "        xtics=\"format '%d/%b/%y' time (\\\"01/01/13\\\",\\\"01/02/13\\\",\\\"01/03/13\\\")\",\n",
    "        xrange=\"[\\\"15/12/12\\\":\\\"20/03/13\\\"]\",\n",
    "        #xlabel  = \"\\\"Date\\\"\",\n",
    "        bars = false, #2,\n",
    "        ytics=false,\n",
    "        border=\"1+4\",\n",
    "        yrange=\"[-0.5:0.5]\",\n",
    "        arrow = [\n",
    "            \"from screen 0.35-$axsbrk_h,$tmargin_ths_plt-$axsbrk_v to screen 0.35+$axsbrk_h,$tmargin_ths_plt+$axsbrk_v nohead\",\n",
    "            \"from screen 0.35-$axsbrk_h,$bmargin_ths_plt-$axsbrk_v to screen 0.35+$axsbrk_h,$bmargin_ths_plt+$axsbrk_v nohead\",\n",
    "            \"from screen 0.8-$axsbrk_h,$tmargin_ths_plt-$axsbrk_v to screen 0.8+$axsbrk_h,$tmargin_ths_plt+$axsbrk_v nohead\",\n",
    "            \"from screen 0.8-$axsbrk_h,$bmargin_ths_plt-$axsbrk_v to screen 0.8+$axsbrk_h,$bmargin_ths_plt+$axsbrk_v nohead\"\n",
    "            ],\n",
    "        #ylabel = \"'[Hz]'\"\n",
    "    ),\n",
    "    handle = 5\n",
    ")\n",
    "Gaston.plot!(\n",
    "    dop_dates_plot,\n",
    "    res_ν(x_OR7),\n",
    "    supp = σ_dop_all,\n",
    "    curveconf = \"u 1:3:4 w errorbars pt 4 lw $lw_ths_plt\",\n",
    "    lc = 2\n",
    ")\n",
    "Gaston.plot!(deldop_dates_plot_xaxis, zeros(length(deldop_dates_plot_xaxis)), curveconf=\" u 1:3 w l lc rgb 'gray' lw 4 dt 2\")\n",
    "\n",
    "p6 = Gaston.plot(\n",
    "    dop_dates_plot,\n",
    "    res_ν(x_OR6),\n",
    "    supp = σ_dop_all,\n",
    "    curveconf = \"u 1:3:4 w errorbars pt 6 lw $lw_ths_plt\",\n",
    "    Axes(\n",
    "        #linetype = :tab10,\n",
    "        xdata   = \"time\",\n",
    "        timefmt = \"'%d/%m/%y %H%M'\",\n",
    "        axesconf=\"set lmargin at screen 0.85; set tmargin at screen $tmargin_ths_plt; set bmargin at screen $bmargin_ths_plt\",\n",
    "        xtics=\"format '%d/%b/%y' time (\\\"03/03/21\\\",\\\"13/03/21\\\")\",\n",
    "        xrange=\"[\\\"02/03/21\\\":\\\"15/03/21\\\"]\",\n",
    "        #xlabel  = \"\\\"Date\\\"\",\n",
    "        bars = false, #2,\n",
    "        #format=\"y ''\",\n",
    "        ytics=false,\n",
    "        border=\"1+4+8\",\n",
    "        yrange=\"[-0.5:0.5]\",\n",
    "        arrow = [\n",
    "            \"from screen 0.85-$axsbrk_h,$tmargin_ths_plt-$axsbrk_v to screen 0.85+$axsbrk_h,$tmargin_ths_plt+$axsbrk_v nohead\",\n",
    "            \"from screen 0.85-$axsbrk_h,$bmargin_ths_plt-$axsbrk_v to screen 0.85+$axsbrk_h,$bmargin_ths_plt+$axsbrk_v nohead\"\n",
    "            ],\n",
    "        #ylabel = \"'[Hz]'\"\n",
    "    ),\n",
    "    handle = 6\n",
    ")\n",
    "Gaston.plot!(\n",
    "    dop_dates_plot,\n",
    "    res_ν(x_OR7),\n",
    "    supp = σ_dop_all,\n",
    "    curveconf = \"u 1:3:4 w errorbars pt 4 lw $lw_ths_plt\",\n",
    "    lc = 2\n",
    ")\n",
    "Gaston.plot!(deldop_dates_plot_xaxis, zeros(length(deldop_dates_plot_xaxis)), curveconf=\" u 1:3 w l lc rgb 'gray' lw 4 dt 2\")\n",
    "\n",
    "Gaston.plot([p4 p5 p6])\n",
    "\n",
    "#Gaston.save(term = \"cairolatex\", output = \"dop_resids.tex\", saveopts = \"pdf standalone color dashed transparent size 10in,7in font ',14'\")\n",
    "#run(`pdflatex dop_resids.tex`)"
   ]
  },
  {
   "cell_type": "code",
   "execution_count": null,
   "metadata": {},
   "outputs": [],
   "source": [
    "Gaston.plot([p1 p2 p3; p4 p5 p6])\n",
    "\n",
    "#Gaston.save(term = \"cairolatex\", output = \"deldop_residuals_dates.tex\", saveopts = \"pdf standalone color dashed transparent size 10in,7in font ',14'\")\n",
    "#run(`lualatex deldop_residuals_dates.tex`)"
   ]
  },
  {
   "cell_type": "markdown",
   "metadata": {},
   "source": [
    "# $\\Gamma$ matrix eigenvalues/vectors"
   ]
  },
  {
   "cell_type": "code",
   "execution_count": null,
   "metadata": {},
   "outputs": [],
   "source": [
    "Hermitian(Γ_OR7) - Γ_OR7"
   ]
  },
  {
   "cell_type": "code",
   "execution_count": null,
   "metadata": {},
   "outputs": [],
   "source": [
    "norm(Hermitian(Γ_OR7) - Γ_OR7)"
   ]
  },
  {
   "cell_type": "code",
   "execution_count": null,
   "metadata": {},
   "outputs": [],
   "source": [
    "Γ_OR7_cholf = cholesky(Hermitian(Γ_OR7))"
   ]
  },
  {
   "cell_type": "code",
   "execution_count": null,
   "metadata": {},
   "outputs": [],
   "source": [
    "Γ_OR7_cU = Γ_OR7_cholf.U\n",
    "Γ_OR7_cL = Γ_OR7_cholf.L"
   ]
  },
  {
   "cell_type": "code",
   "execution_count": null,
   "metadata": {},
   "outputs": [],
   "source": [
    "# Compute nominal initial condition in au, au/day, au/day^2\n",
    "q0_OR7 = [\n",
    "    -0.18034747703273316,\n",
    "    0.9406910666200128,\n",
    "    0.3457360259054398,\n",
    "    -0.016265942170279046,\n",
    "    4.392889725556651e-5,\n",
    "    -0.00039519931615139716,\n",
    "    0.0, 0.0\n",
    "] .+ vcat(1e-8ones(6), 1e-14, 1e-13).*x_OR7\n",
    "@show q0_OR7\n",
    ";"
   ]
  },
  {
   "cell_type": "code",
   "execution_count": null,
   "metadata": {},
   "outputs": [],
   "source": [
    "# relative scalings analogous to Milani (2005)\n",
    "scaling_milani_2005 = vcat(  (1/norm(q0_OR7[1:3]))*ones(3), (1/norm(q0_OR7[4:6]))*ones(3), 1/norm(q0_OR7[7]), 1/norm(q0_OR7[8])  )\n",
    "\n",
    "# jet transport propagation scaling\n",
    "jt_scaling = vcat(1e-8ones(6), 1e-14, 1e-13)\n",
    ";"
   ]
  },
  {
   "cell_type": "code",
   "execution_count": null,
   "metadata": {},
   "outputs": [],
   "source": [
    "# compute cov matrix with relative scalings\n",
    "Γ_OR7_scm05 = diagm(scaling_milani_2005) * ( diagm(jt_scaling)*Γ_OR7*diagm(jt_scaling) ) * diagm(scaling_milani_2005)"
   ]
  },
  {
   "cell_type": "code",
   "execution_count": null,
   "metadata": {},
   "outputs": [],
   "source": [
    "# compute normal matrix with relative scalings\n",
    "C_OR7_scm05 = inv(Γ_OR7_scm05)"
   ]
  },
  {
   "cell_type": "code",
   "execution_count": null,
   "metadata": {},
   "outputs": [],
   "source": [
    "# compute eigenvalues, eigenvectors of normal matrix with relative scalings\n",
    "C_eig_OR7_scm05 = eigen(C_OR7_scm05)"
   ]
  },
  {
   "cell_type": "code",
   "execution_count": null,
   "metadata": {},
   "outputs": [],
   "source": [
    "# k₁ * V₁ = 1/√λ₁ * V₁\n",
    "k1_V1 = C_eig_OR7_scm05.vectors[:,1]/sqrt(C_eig_OR7_scm05.values[1])"
   ]
  },
  {
   "cell_type": "code",
   "execution_count": null,
   "metadata": {},
   "outputs": [],
   "source": [
    "# revert eigenvector of \"weak\" direction to JT scaling\n",
    "( k1_V1 ./ scaling_milani_2005 ) ./ jt_scaling"
   ]
  },
  {
   "cell_type": "code",
   "execution_count": null,
   "metadata": {
    "tags": []
   },
   "outputs": [],
   "source": [
    "Taylor1(10) * ( k1_V1 ./ scaling_milani_2005 )"
   ]
  },
  {
   "cell_type": "code",
   "execution_count": null,
   "metadata": {},
   "outputs": [],
   "source": [
    "@show ( ( k1_V1 ./ scaling_milani_2005 )  )  #./ jt_scaling"
   ]
  },
  {
   "cell_type": "code",
   "execution_count": null,
   "metadata": {},
   "outputs": [],
   "source": [
    "σ_OR7"
   ]
  },
  {
   "cell_type": "code",
   "execution_count": null,
   "metadata": {},
   "outputs": [],
   "source": [
    "@show x_OR7 .* jt_scaling"
   ]
  },
  {
   "cell_type": "code",
   "execution_count": null,
   "metadata": {},
   "outputs": [],
   "source": [
    "#@show Γ_OR7"
   ]
  },
  {
   "cell_type": "code",
   "execution_count": null,
   "metadata": {},
   "outputs": [],
   "source": []
  },
  {
   "cell_type": "code",
   "execution_count": null,
   "metadata": {},
   "outputs": [],
   "source": []
  },
  {
   "cell_type": "code",
   "execution_count": null,
   "metadata": {},
   "outputs": [],
   "source": []
  },
  {
   "cell_type": "code",
   "execution_count": null,
   "metadata": {},
   "outputs": [],
   "source": []
  },
  {
   "cell_type": "code",
   "execution_count": null,
   "metadata": {},
   "outputs": [],
   "source": []
  },
  {
   "cell_type": "code",
   "execution_count": null,
   "metadata": {},
   "outputs": [],
   "source": []
  },
  {
   "cell_type": "code",
   "execution_count": null,
   "metadata": {},
   "outputs": [],
   "source": []
  }
 ],
 "metadata": {
  "kernelspec": {
   "display_name": "Julia 1.6.2",
   "language": "julia",
   "name": "julia-1.6"
  },
  "language_info": {
   "file_extension": ".jl",
   "mimetype": "application/julia",
   "name": "julia",
   "version": "1.6.2"
  }
 },
 "nbformat": 4,
 "nbformat_minor": 4
}
