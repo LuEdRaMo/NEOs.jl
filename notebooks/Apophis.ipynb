{
 "cells": [
  {
   "cell_type": "code",
   "execution_count": 1,
   "metadata": {
    "scrolled": true,
    "tags": []
   },
   "outputs": [
    {
     "name": "stdout",
     "output_type": "stream",
     "text": [
      "\u001b[36m\u001b[1m     Project\u001b[22m\u001b[39m NEOs v0.1.0\n",
      "\u001b[32m\u001b[1m      Status\u001b[22m\u001b[39m `~/projects/NEOs/Project.toml`\n",
      " \u001b[90m [a93c6f00] \u001b[39mDataFrames v1.2.2\n",
      " \u001b[90m [732a3c5d] \u001b[39mEarthOrientation v0.7.1\n",
      " \u001b[90m [5a3ac768] \u001b[39mHORIZONS v0.3.1\n",
      " \u001b[90m [9f4e344d] \u001b[39mHealpix v3.0.0\n",
      " \u001b[90m [d1acc4aa] \u001b[39mIntervalArithmetic v0.19.0\n",
      " \u001b[90m [4138dd39] \u001b[39mJLD v0.12.3\n",
      " \u001b[90m [d83715d0] \u001b[39mPlanetaryEphemeris v0.1.0 `git@github.com:PerezHz/PlanetaryEphemeris.jl.git#main`\n",
      " \u001b[90m [be4d8f0f] \u001b[39mQuadmath v0.5.5\n",
      " \u001b[90m [1a8c2f83] \u001b[39mQuery v1.0.0\n",
      " \u001b[90m [74f56ac7] \u001b[39mReferenceFrameRotations v1.0.0\n",
      " \u001b[90m [cbe49d4c] \u001b[39mRemoteFiles v0.4.2\n",
      " \u001b[90m [5bab7191] \u001b[39mSPICE v0.2.2\n",
      " \u001b[90m [6ac157d9] \u001b[39mSatelliteToolbox v0.9.3\n",
      " \u001b[90m [90137ffa] \u001b[39mStaticArrays v1.2.12\n",
      " \u001b[90m [2913bbd2] \u001b[39mStatsBase v0.33.10\n",
      " \u001b[90m [92b13dbe] \u001b[39mTaylorIntegration v0.8.9\n",
      " \u001b[90m [6aa5eb33] \u001b[39mTaylorSeries v0.10.13\n",
      " \u001b[90m [56f22d72] \u001b[39mArtifacts\n",
      " \u001b[90m [ade2ca70] \u001b[39mDates\n",
      " \u001b[90m [8bb1440f] \u001b[39mDelimitedFiles\n",
      " \u001b[90m [8ba89e20] \u001b[39mDistributed\n",
      " \u001b[90m [b77e0a4c] \u001b[39mInteractiveUtils\n",
      " \u001b[90m [4af54fe1] \u001b[39mLazyArtifacts\n",
      " \u001b[90m [37e2e46d] \u001b[39mLinearAlgebra\n",
      " \u001b[90m [de0858da] \u001b[39mPrintf\n",
      " \u001b[90m [8dfed614] \u001b[39mTest\n"
     ]
    }
   ],
   "source": [
    "]st"
   ]
  },
  {
   "cell_type": "code",
   "execution_count": 2,
   "metadata": {},
   "outputs": [],
   "source": [
    "using Revise"
   ]
  },
  {
   "cell_type": "code",
   "execution_count": 3,
   "metadata": {},
   "outputs": [],
   "source": [
    "using DataFrames, Query, TaylorSeries, PlanetaryEphemeris"
   ]
  },
  {
   "cell_type": "code",
   "execution_count": 4,
   "metadata": {},
   "outputs": [],
   "source": [
    "using JLD"
   ]
  },
  {
   "cell_type": "code",
   "execution_count": 5,
   "metadata": {},
   "outputs": [],
   "source": [
    "using NEOs"
   ]
  },
  {
   "cell_type": "code",
   "execution_count": 6,
   "metadata": {},
   "outputs": [],
   "source": [
    "using Statistics"
   ]
  },
  {
   "cell_type": "code",
   "execution_count": 7,
   "metadata": {},
   "outputs": [],
   "source": [
    "using LinearAlgebra"
   ]
  },
  {
   "cell_type": "code",
   "execution_count": 8,
   "metadata": {},
   "outputs": [],
   "source": [
    "using Dates"
   ]
  },
  {
   "cell_type": "code",
   "execution_count": 9,
   "metadata": {},
   "outputs": [],
   "source": [
    "using Gaston"
   ]
  },
  {
   "cell_type": "code",
   "execution_count": 10,
   "metadata": {},
   "outputs": [],
   "source": [
    "using StatsBase"
   ]
  },
  {
   "cell_type": "code",
   "execution_count": 11,
   "metadata": {},
   "outputs": [],
   "source": [
    "using DelimitedFiles"
   ]
  },
  {
   "cell_type": "code",
   "execution_count": null,
   "metadata": {},
   "outputs": [],
   "source": []
  },
  {
   "cell_type": "code",
   "execution_count": 12,
   "metadata": {},
   "outputs": [],
   "source": [
    "NEOs.loadjpleph()"
   ]
  },
  {
   "cell_type": "code",
   "execution_count": 13,
   "metadata": {},
   "outputs": [],
   "source": [
    "## 16 ast + radial nongrav (A1 / SRP)\n",
    "#dq = set_variables(\"δx\", order=5, numvars=8)\n",
    "#radec_bwd = JLD.load(\"radec_99942_2004_2020.dat.jld\", \"radec_table\")\n",
    "#radec_fwd = JLD.load(\"radec_99942_2020_2021.dat.jld\", \"radec_table\")\n",
    "#deldop_bwd = JLD.load(\"deldop_99942_RADAR_2005_2013.dat.jld\", \"deldop_table\")\n",
    "#deldop_fwd_ = JLD.load(\"deldop_99942_RADAR_2021.dat.jld\", \"deldop_table\")\n",
    "\n",
    "# 32 ast (NO srp)\n",
    "dq = set_variables(\"δx\", order=5, numvars=7)\n",
    "radec_bwd = JLD.load(\"radec_99942_2004_2020_32AST.dat.jld\", \"radec_table\")\n",
    "radec_fwd = JLD.load(\"radec_99942_2020_2021_32AST.dat.jld\", \"radec_table\")\n",
    "deldop_bwd = JLD.load(\"deldop_99942_RADAR_2005_2013_32AST.dat.jld\", \"deldop_table\")\n",
    "deldop_fwd_ = JLD.load(\"deldop_99942_RADAR_2021_32AST.dat.jld\", \"deldop_table\")\n",
    "\n",
    "## 16 ast (NO srp)\n",
    "#dq = set_variables(\"δx\", order=5, numvars=7)\n",
    "#radec_bwd = JLD.load(\"radec_99942_2004_2020_LAST_16ast.dat.jld\", \"radec_table\")\n",
    "#radec_fwd = JLD.load(\"radec_99942_2020_2021_LAST_16ast.dat.jld\", \"radec_table\")\n",
    "#deldop_bwd = JLD.load(\"deldop_99942_RADAR_2005_2013_LAST_16ast.dat.jld\", \"deldop_table\")\n",
    "#deldop_fwd_ = JLD.load(\"deldop_99942_RADAR_2021_LAST_16ast.dat.jld\", \"deldop_table\")\n",
    ";"
   ]
  },
  {
   "cell_type": "code",
   "execution_count": null,
   "metadata": {},
   "outputs": [],
   "source": []
  },
  {
   "cell_type": "code",
   "execution_count": 14,
   "metadata": {},
   "outputs": [],
   "source": [
    "radec_all_ = vcat(radec_bwd, radec_fwd)\n",
    "radec_all = radec_all_ |> @filter( \n",
    "    (Date(_.dt_utc_obs) != Date(2021, 1, 28)) #&& (Date(_.dt_utc_obs) <= Date(2021, 3, 8))\n",
    "    ) |> DataFrame\n",
    ";"
   ]
  },
  {
   "cell_type": "code",
   "execution_count": 15,
   "metadata": {},
   "outputs": [],
   "source": [
    "#deldop_fwd = deldop_fwd_[1:end-1,:] # in paper results, only 3 out of 4 radar measurements are used\n",
    "deldop_fwd = deldop_fwd_\n",
    "\n",
    "deldop_all = vcat(deldop_bwd, deldop_fwd)\n",
    ";"
   ]
  },
  {
   "cell_type": "code",
   "execution_count": 16,
   "metadata": {},
   "outputs": [
    {
     "data": {
      "text/plain": [
       "(DateTime(\"2004-03-15T02:35:21.696\"), DateTime(\"2021-05-12T06:28:35.904\"))"
      ]
     },
     "execution_count": 16,
     "metadata": {},
     "output_type": "execute_result"
    }
   ],
   "source": [
    "### first and last dates (optical obs)\n",
    "radec_all.dt_utc_obs[1], radec_all.dt_utc_obs[end]"
   ]
  },
  {
   "cell_type": "code",
   "execution_count": 17,
   "metadata": {},
   "outputs": [
    {
     "data": {
      "text/plain": [
       "(7902, 38)"
      ]
     },
     "execution_count": 17,
     "metadata": {},
     "output_type": "execute_result"
    }
   ],
   "source": [
    "nrow(radec_all), nrow(deldop_all)"
   ]
  },
  {
   "cell_type": "code",
   "execution_count": 18,
   "metadata": {},
   "outputs": [],
   "source": [
    "del_bwd = deldop_bwd |> @filter(_.delay_index) |> DataFrame\n",
    "dop_bwd = deldop_bwd |> @filter(_.doppler_index) |> DataFrame\n",
    "\n",
    "del_fwd = deldop_fwd |> @filter(_.delay_index) |> DataFrame\n",
    "dop_fwd = deldop_fwd |> @filter(_.doppler_index) |> DataFrame\n",
    "\n",
    "del_all = deldop_all |> @filter(_.delay_index) |> DataFrame\n",
    "dop_all = deldop_all |> @filter(_.doppler_index) |> DataFrame\n",
    ";"
   ]
  },
  {
   "cell_type": "code",
   "execution_count": 19,
   "metadata": {},
   "outputs": [],
   "source": [
    "res_τ = del_all |> @map( _.τ_obs - _.τ_comp ) |> collect\n",
    "res_ν = dop_all |> @map( _.ν_obs - _.ν_comp ) |> collect\n",
    "\n",
    "σ_del_bwd = del_bwd.σ_τ\n",
    "σ_dop_bwd = dop_bwd.σ_ν\n",
    "\n",
    "σ_del_fwd = del_fwd.σ_τ\n",
    "σ_dop_fwd = dop_fwd.σ_ν\n",
    "\n",
    "σ_del_all = del_all.σ_τ\n",
    "σ_dop_all = dop_all.σ_ν\n",
    "\n",
    "w_τ = del_all |> @map( 1/(_.σ_τ)^2 ) |> collect\n",
    "w_ν = dop_all |> @map( 1/(_.σ_ν)^2 ) |> collect\n",
    "\n",
    "\n",
    "# only Vokrouhlicky et al. (2015) data\n",
    "res_τ_v15 = del_bwd |> @map( _.τ_obs - _.τ_comp ) |> collect\n",
    "res_ν_v15 = dop_bwd |> @map( _.ν_obs - _.ν_comp ) |> collect\n",
    "\n",
    "w_τ_v15 = del_bwd |> @map( 1/(_.σ_τ)^2 ) |> collect\n",
    "w_ν_v15 = dop_bwd |> @map( 1/(_.σ_ν)^2 ) |> collect\n",
    ";"
   ]
  },
  {
   "cell_type": "code",
   "execution_count": null,
   "metadata": {},
   "outputs": [],
   "source": []
  },
  {
   "cell_type": "code",
   "execution_count": 20,
   "metadata": {},
   "outputs": [
    {
     "data": {
      "text/plain": [
       "true"
      ]
     },
     "execution_count": 20,
     "metadata": {},
     "output_type": "execute_result"
    }
   ],
   "source": [
    "# check if all RA/Dec observations are CCD:\n",
    "\n",
    "all(radec_all |> @map(begin x = _.j2000; x == \"C\" || x == \"X\" end))"
   ]
  },
  {
   "cell_type": "code",
   "execution_count": 21,
   "metadata": {},
   "outputs": [
    {
     "data": {
      "text/plain": [
       "512"
      ]
     },
     "execution_count": 21,
     "metadata": {},
     "output_type": "execute_result"
    }
   ],
   "source": [
    "# there are 494 RA/Dec obs without catalog info\n",
    "nrow(  radec_all |> @filter(_.catalog == \" \") |> DataFrame  )"
   ]
  },
  {
   "cell_type": "code",
   "execution_count": 22,
   "metadata": {},
   "outputs": [],
   "source": [
    "### WIP: outlier rejection\n",
    "\n",
    "### function chisqobs(row, Γ_β, x, outlier::Bool=false)\n",
    "###     A_α_TN = TaylorSeries.gradient(row.α_obs-row.α_corr-row.α_comp)\n",
    "###     A_δ_TN = TaylorSeries.gradient(row.δ_obs-row.δ_corr-row.δ_comp)\n",
    "###     A_i = hcat(A_α_TN(x), A_δ_TN(x))\n",
    "###     outlier_sign = outlier*2-1\n",
    "###     (A_i')*Γ_β*A_i\n",
    "### end\n",
    "\n",
    "### chisqobs(res0, Γ_OR7, x_OR7)"
   ]
  },
  {
   "cell_type": "code",
   "execution_count": 23,
   "metadata": {},
   "outputs": [],
   "source": [
    "#radec_04XX = radec_0415\n",
    "#radec_04XX = radec_0420\n",
    "#radec_04XX = radec_0421\n",
    "#radec_04XX = filter(x->( DateTime(x.yr, x.month, x.day) != DateTime(2021, 1, 28) ), radec_0421)\n",
    "#radec_04XX = radec_0421\n",
    "\n",
    "#radec_04XX = filter(x->x.dt_utc_obs<DateTime(2021,1,14), radec_0420)\n",
    "\n",
    "\n",
    "#radec_04XX = filter(x->((x.α_obs-x.α_corr-x.α_comp())^2 + (x.δ_obs-x.δ_corr-x.δ_comp())^2)<χ2_rej, radec_04XX)\n",
    "#radec_04XX = filter(x->((x.α_obs-x.α_corr-x.α_comp(x_OR7))^2 + (x.δ_obs-x.δ_corr-x.δ_comp(x_OR7))^2)/(x.σ^2) ≤ χ2_rej, radec_04XX)"
   ]
  },
  {
   "cell_type": "code",
   "execution_count": 24,
   "metadata": {},
   "outputs": [],
   "source": [
    "#χ2_rej = 4.0 #4.0 #4.25 #5.025 # Brozovic et al (2018) use Chesley et al (2010) outlier rejection, in turn from Carpino et al (2003)\n",
    "radec_04XX = radec_all\n",
    "#radec_04XX = filter(x->((x.α_obs-x.α_corr-x.α_comp(x_OR7))^2 + (x.δ_obs-x.δ_corr-x.δ_comp(x_OR7))^2)/(x.σ^2) ≤ χ2_rej, radec_04XX)\n",
    "#;"
   ]
  },
  {
   "cell_type": "code",
   "execution_count": 25,
   "metadata": {},
   "outputs": [],
   "source": [
    "#nrow(radec_all), nrow(radec_04XX)"
   ]
  },
  {
   "cell_type": "code",
   "execution_count": 26,
   "metadata": {},
   "outputs": [],
   "source": [
    "#radec_04XX.dt_utc_obs"
   ]
  },
  {
   "cell_type": "code",
   "execution_count": 27,
   "metadata": {},
   "outputs": [],
   "source": [
    "# Vokrouhlicky et al. (2015) obs table\n",
    "radec_vok15 = radec_table(\"../data/vokr15_mpc_formatted.dat\")\n",
    "\n",
    "# vector of RA values from Vokrouhlicky et al. (2015) observations (used for filtering)\n",
    "vok15_rav = radec_vok15.α_obs\n",
    "\n",
    "vok15_ind_filt = findall(x->x ∈ vok15_rav, radec_all.α_obs)\n",
    ";"
   ]
  },
  {
   "cell_type": "code",
   "execution_count": 28,
   "metadata": {},
   "outputs": [],
   "source": [
    "# Vorkouhliky et al. (2015) RA/Dec table\n",
    "radec_v15 = radec_all |> @filter(_.α_obs ∈ vok15_rav) |> DataFrame;"
   ]
  },
  {
   "cell_type": "code",
   "execution_count": 29,
   "metadata": {},
   "outputs": [],
   "source": [
    "radec_v15_radec_corr = radec_vok15 |> @select( :α_corr, :δ_corr ) |> DataFrame;"
   ]
  },
  {
   "cell_type": "code",
   "execution_count": null,
   "metadata": {},
   "outputs": [],
   "source": []
  },
  {
   "cell_type": "code",
   "execution_count": 30,
   "metadata": {},
   "outputs": [],
   "source": [
    "res_α = radec_04XX |> @map(_.α_obs - _.α_corr - _.α_comp) |> collect\n",
    "res_δ = radec_04XX |> @map(_.δ_obs - _.δ_corr - _.δ_comp) |> collect\n",
    "\n",
    "res_α_v15 = (radec_v15 |> @map(_.α_obs - _.α_comp)) .- radec_v15_radec_corr.α_corr\n",
    "res_δ_v15 = (radec_v15 |> @map(_.δ_obs - _.δ_comp)) .- radec_v15_radec_corr.δ_corr\n",
    ";"
   ]
  },
  {
   "cell_type": "code",
   "execution_count": 31,
   "metadata": {},
   "outputs": [
    {
     "data": {
      "text/plain": [
       "(0.34691489163788025, -0.12966359996037705)"
      ]
     },
     "execution_count": 31,
     "metadata": {},
     "output_type": "execute_result"
    }
   ],
   "source": [
    "mean(res_α()), mean(res_δ())"
   ]
  },
  {
   "cell_type": "code",
   "execution_count": 32,
   "metadata": {},
   "outputs": [
    {
     "name": "stdout",
     "output_type": "stream",
     "text": [
      "(length(tho13_ind_filt), length(tho13_ind_filt_v15)) = (432, 432)\n"
     ]
    }
   ],
   "source": [
    "# read astrometric errors from Tholen et al. (2013)\n",
    "tho13_errors = readdlm(\"../data/tholenetal2013_opterror.dat\", ',')\n",
    "# compute weights\n",
    "w_α_tho13 = 1 ./ (tho13_errors[:,1].^2 .+ tho13_errors[:,3].^2 .+ tho13_errors[:,5].^2)\n",
    "w_δ_tho13 = 1 ./ (tho13_errors[:,2].^2 .+ tho13_errors[:,4].^2 .+ tho13_errors[:,6].^2)\n",
    "\n",
    "# Tholen et al. (2013) obs table\n",
    "radec_tho13 = radec_table(\"../data/tholen13_mpc_formatted.dat\")\n",
    "# vector of RA values from Tholen et al. (2013) observations (used for filtering)\n",
    "tho13_rav = radec_tho13.α_obs\n",
    "\n",
    "tho13_ind_filt = findall(x->x ∈ tho13_rav, radec_all.α_obs)\n",
    "tho13_ind_filt_v15 = findall(x->x ∈ tho13_rav, radec_v15.α_obs)\n",
    "@show length(tho13_ind_filt), length(tho13_ind_filt_v15)\n",
    ";"
   ]
  },
  {
   "cell_type": "code",
   "execution_count": 33,
   "metadata": {},
   "outputs": [
    {
     "data": {
      "text/plain": [
       "w8sfarnocchia15 (generic function with 3 methods)"
      ]
     },
     "execution_count": 33,
     "metadata": {},
     "output_type": "execute_result"
    }
   ],
   "source": [
    "function w8sfarnocchia15(row::NamedTuple)\n",
    "    return w8sfarnocchia15(row.obscode, row.dt_utc_obs, row.catalog)\n",
    "end\n",
    "\n",
    "function w8sfarnocchia15(df::DataFrame)\n",
    "    return w8sfarnocchia15.(df.obscode, df.dt_utc_obs, df.catalog)\n",
    "end\n",
    "\n",
    "function w8sfarnocchia15(obscode::Union{Int,String}, dt_utc_obs::DateTime, catalog::String)\n",
    "    w = 1.0 # unit weight (arcseconds)\n",
    "    if obscode == \"H01\" # Magdalena Ridge\n",
    "        return 0.3w\n",
    "    elseif obscode == \"568\" # Mauna Kea (MPEC 2014-R71)\n",
    "        return 0.13w #0.2w #0.2\":Verevs17 weight;0.13\":Farnocchia15 weight\n",
    "    elseif obscode == \"F51\" # PanSTARRS-PS1\n",
    "        return 0.15w #0.2w #0.2\":Verevs17 weight;0.15\":Farnocchia15 weight\n",
    "    else\n",
    "        return w\n",
    "    end\n",
    "end\n"
   ]
  },
  {
   "cell_type": "code",
   "execution_count": 34,
   "metadata": {
    "scrolled": true
   },
   "outputs": [],
   "source": [
    "# for each observation batch, count the number of observations made in the same night (?) by the same observatory\n",
    "date_obscode_v = radec_04XX |> @map(  (Date(_.dt_utc_obs),_.obscode)  )\n",
    "date_obscode_v_v15 = radec_v15 |> @map(  (Date(_.dt_utc_obs),_.obscode)  )\n",
    "Nv = [count(x->x[1]==i[1] && x[2]==i[2], date_obscode_v) for i in date_obscode_v]\n",
    "Nv_v15 = [count(x->x[1]==i[1] && x[2]==i[2], date_obscode_v_v15) for i in date_obscode_v_v15]\n",
    "relax_factor = map(x->x>4.0 ? x/4.0 : 1.0, Nv)\n",
    "relax_factor_v15 = map(x->x>4.0 ? x/5.0 : 1.0, Nv_v15) # map(x->x>2.0 ? x : 1.0, Nv_v15)\n",
    "\n",
    "# statistical weights according to Veres et al (2017)\n",
    "σ_v17 = radec_04XX.σ\n",
    "σ_v17_v15 = w8sfarnocchia15(radec_v15)\n",
    "\n",
    "w_α = 1 ./ (σ_v17.^2)\n",
    "w_δ = 1 ./ (σ_v17.^2)\n",
    "\n",
    "w_α_v15 = 1 ./ (σ_v17_v15.^2)\n",
    "w_δ_v15 = 1 ./ (σ_v17_v15.^2)\n",
    "\n",
    "# Tholen et al. (2013) astrometry uncertainties\n",
    "w_α[tho13_ind_filt] .= w_α_tho13\n",
    "w_δ[tho13_ind_filt] .= w_δ_tho13\n",
    "w_α_v15[tho13_ind_filt_v15] .= w_α_tho13\n",
    "w_δ_v15[tho13_ind_filt_v15] .= w_δ_tho13\n",
    "\n",
    "w_α = w_α./(relax_factor)\n",
    "w_δ = w_δ./(relax_factor)\n",
    "\n",
    "w_α_v15 = w_α_v15./(relax_factor_v15)\n",
    "w_δ_v15 = w_δ_v15./(relax_factor_v15)\n",
    ";"
   ]
  },
  {
   "cell_type": "code",
   "execution_count": 35,
   "metadata": {},
   "outputs": [
    {
     "data": {
      "text/plain": [
       "(20, 30, 7902, 7902)"
      ]
     },
     "execution_count": 35,
     "metadata": {},
     "output_type": "execute_result"
    }
   ],
   "source": [
    "length(w_τ), length(w_ν), length(w_α), length(w_δ)"
   ]
  },
  {
   "cell_type": "code",
   "execution_count": 36,
   "metadata": {},
   "outputs": [
    {
     "data": {
      "text/plain": [
       "(17, 29, 472, 472)"
      ]
     },
     "execution_count": 36,
     "metadata": {},
     "output_type": "execute_result"
    }
   ],
   "source": [
    "length(w_τ_v15), length(w_ν_v15), length(w_α_v15), length(w_δ_v15)"
   ]
  },
  {
   "cell_type": "code",
   "execution_count": 37,
   "metadata": {},
   "outputs": [
    {
     "name": "stdout",
     "output_type": "stream",
     "text": [
      "(nobs_O, nobs_R, nobs) = (7902, 50, 7952)\n"
     ]
    }
   ],
   "source": [
    "nobs_R = nrow(del_all) + nrow(dop_all)\n",
    "nobs_O = nrow(radec_04XX)\n",
    "nobs = nobs_R + nobs_O\n",
    "@show nobs_O, nobs_R, nobs\n",
    ";"
   ]
  },
  {
   "cell_type": "code",
   "execution_count": 38,
   "metadata": {},
   "outputs": [],
   "source": [
    "res_O = vcat(res_α, res_δ)\n",
    "w_O = vcat(w_α, w_δ)\n",
    "\n",
    "res_R = vcat(res_τ, res_ν)\n",
    "w_R = vcat(w_τ, w_ν)\n",
    "\n",
    "res_OR = vcat(res_R, res_O)\n",
    "w_OR = vcat(w_R, w_O)\n",
    ";"
   ]
  },
  {
   "cell_type": "code",
   "execution_count": 39,
   "metadata": {},
   "outputs": [],
   "source": [
    "# only Vokrouhliky et al. (2015) data\n",
    "res_O_v15 = vcat(res_α_v15, res_δ_v15)\n",
    "w_O_v15 = vcat(w_α_v15, w_δ_v15)\n",
    "\n",
    "res_R_v15 = vcat(res_τ_v15, res_ν_v15)\n",
    "w_R_v15 = vcat(w_τ_v15, w_ν_v15)\n",
    "\n",
    "res_OR_v15 = vcat(res_R_v15, res_O_v15)\n",
    "w_OR_v15 = vcat(w_R_v15, w_O_v15)\n",
    ";"
   ]
  },
  {
   "cell_type": "code",
   "execution_count": null,
   "metadata": {},
   "outputs": [],
   "source": []
  },
  {
   "cell_type": "code",
   "execution_count": 40,
   "metadata": {},
   "outputs": [
    {
     "name": "stdout",
     "output_type": "stream",
     "text": [
      "sqrt((Δx' * (C * Δx)) / npar) = 1.9640844024721462\n",
      "sqrt((Δx' * (C * Δx)) / npar) = 0.769367236969942\n",
      "sqrt((Δx' * (C * Δx)) / npar) = 0.9902716683393307\n",
      "sqrt((Δx' * (C * Δx)) / npar) = 0.05324311121121476\n",
      "sqrt((Δx' * (C * Δx)) / npar) = 0.005176729618177833\n",
      "x_OR7_v15 = [-140.57822381227118, -1.8626995796263301, -5.0591050197229706, 0.41128379883273736, -2.3129699069876146, -0.8466216046493642, -4.952683388435702]\n",
      "σ_OR7_v15 = [77.39075707616591, 1.1023265693697004, 3.052182042957789, 0.22712152784292372, 1.2755510276394246, 0.46570628648779244, 2.7418336471835376]\n",
      "x_OR7_v15[end] / σ_OR7_v15[end] = -1.8063398534492383\n",
      "sqrt((Δx' * (C * Δx)) / npar) = 2.1448188382753965\n",
      "sqrt((Δx' * (C * Δx)) / npar) = 0.000981047920861629\n",
      "sqrt((Δx' * (C * Δx)) / npar) = 1.971162262052317e-9\n",
      "sqrt((Δx' * (C * Δx)) / npar) = 1.287994004176912e-9\n",
      "sqrt((Δx' * (C * Δx)) / npar) = 9.311817242399466e-10\n",
      "x_OR6_v15 = [-0.8543451179582806, -0.14485024982712327, 0.134572845623506, 0.0013068469706985508, -0.009310434184723566, -0.008602730462174638, 0.0]\n",
      "σ_OR6_v15 = [2.449140865244325, 0.5573087653453658, 1.0240278494096247, 0.008385917539794606, 0.024286732910988106, 0.040610310643258006]\n",
      "x_OR6_v15[end] / σ_OR6_v15[end] = 0.0\n"
     ]
    },
    {
     "data": {
      "text/plain": [
       "0.0"
      ]
     },
     "execution_count": 40,
     "metadata": {},
     "output_type": "execute_result"
    }
   ],
   "source": [
    "# pre-2021, with SRP (\"OR8\")\n",
    "\n",
    "x_OR7_v15, Γ_OR7_v15 = newtonls(res_OR_v15, w_OR_v15, zeros(get_numvars()))\n",
    "σ_OR7_v15 = sqrt.(diag(Γ_OR7_v15))\n",
    "@show x_OR7_v15 σ_OR7_v15 x_OR7_v15[end]/σ_OR7_v15[end]\n",
    "\n",
    "x_OR6_v15, Γ_OR6_v15 = newtonls_6v(res_OR_v15, w_OR_v15, zeros(get_numvars()))\n",
    "σ_OR6_v15 = sqrt.(diag(Γ_OR6_v15))\n",
    "@show x_OR6_v15 σ_OR6_v15 x_OR6_v15[end]/σ_OR6_v15[end]"
   ]
  },
  {
   "cell_type": "code",
   "execution_count": null,
   "metadata": {},
   "outputs": [],
   "source": []
  },
  {
   "cell_type": "code",
   "execution_count": 41,
   "metadata": {
    "scrolled": true,
    "tags": []
   },
   "outputs": [
    {
     "name": "stdout",
     "output_type": "stream",
     "text": [
      "sqrt((Δx' * (C * Δx)) / npar) = 222.475842405106\n",
      "sqrt((Δx' * (C * Δx)) / npar) = 0.2858728846213926\n",
      "sqrt((Δx' * (C * Δx)) / npar) = 5.838993078280068e-7\n",
      "sqrt((Δx' * (C * Δx)) / npar) = 1.2285195999026824e-8\n",
      "sqrt((Δx' * (C * Δx)) / npar) = 2.834331624148975e-8\n",
      "x_OR7 = [-80.81813958236799, -0.7133762366599218, -3.5612724648364917, 0.23809843716927998, -1.3416435295268134, -0.4697710231985644, -2.898835108503474]\n",
      "σ_OR7 = [0.7119423491726864, 0.19425371050305715, 0.5411373135993107, 0.00479175088401477, 0.006723432346112966, 0.013798419959753073, 0.02474582241296382]\n",
      "x_OR7[end] / σ_OR7[end] = -117.14442381938515\n",
      "sqrt((Δx' * (C * Δx)) / npar) = 235.49546065282695\n",
      "sqrt((Δx' * (C * Δx)) / npar) = 0.364126741129929\n",
      "sqrt((Δx' * (C * Δx)) / npar) = 1.5211002127603424e-6\n",
      "sqrt((Δx' * (C * Δx)) / npar) = 2.7252416285687694e-8\n",
      "sqrt((Δx' * (C * Δx)) / npar) = 2.4352441136281672e-8\n",
      "x_OR6 = [-68.76396490471303, 10.099177450970803, 38.79455427929612, 0.6438276015522235, -1.2517209716176558, -1.1632866970228843, 0.0]\n",
      "σ_OR6 = [0.7044598756373398, 0.17092349494345876, 0.40260366218820137, 0.003311260273795786, 0.006679375566411458, 0.012463751872121627]\n",
      "x_OR6[end] / σ_OR6[end] = 0.0\n"
     ]
    }
   ],
   "source": [
    "# post-2021, NO SRP, 32 ast\n",
    "\n",
    "x_OR7, Γ_OR7 = newtonls(res_OR, w_OR, zeros(get_numvars()))\n",
    "σ_OR7 = sqrt.(diag(Γ_OR7))\n",
    "@show x_OR7 σ_OR7 x_OR7[end]/σ_OR7[end]\n",
    "\n",
    "x_OR6, Γ_OR6 = newtonls_6v(res_OR, w_OR, zeros(get_numvars()))\n",
    "σ_OR6 = sqrt.(diag(Γ_OR6))\n",
    "@show x_OR6 σ_OR6 x_OR6[end]/σ_OR6[end]\n",
    ";"
   ]
  },
  {
   "cell_type": "code",
   "execution_count": 42,
   "metadata": {},
   "outputs": [
    {
     "data": {
      "text/plain": [
       "(4.3780117432667964e-5, 0.0017691922580731234)"
      ]
     },
     "execution_count": 42,
     "metadata": {},
     "output_type": "execute_result"
    }
   ],
   "source": [
    "(-2.898835108503474 - -2.8988788886209065), (-2.898835108503474 - -2.8988788886209065)/0.02474582241296382"
   ]
  },
  {
   "cell_type": "code",
   "execution_count": 43,
   "metadata": {
    "scrolled": true,
    "tags": []
   },
   "outputs": [
    {
     "name": "stdout",
     "output_type": "stream",
     "text": [
      "sqrt((Δx' * (C * Δx)) / npar) = 222.475842405106\n",
      "sqrt((Δx' * (C * Δx)) / npar) = 0.2858728846213926\n",
      "sqrt((Δx' * (C * Δx)) / npar) = 5.838993078280068e-7\n",
      "sqrt((Δx' * (C * Δx)) / npar) = 1.2285195999026824e-8\n",
      "sqrt((Δx' * (C * Δx)) / npar) = 2.834331624148975e-8\n",
      "x_OR7 = [-80.81813958236799, -0.7133762366599218, -3.5612724648364917, 0.23809843716927998, -1.3416435295268134, -0.4697710231985644, -2.898835108503474]\n",
      "σ_OR7 = [0.7119423491726864, 0.19425371050305715, 0.5411373135993107, 0.00479175088401477, 0.006723432346112966, 0.013798419959753073, 0.02474582241296382]\n",
      "x_OR7[end] / σ_OR7[end] = -117.14442381938515\n",
      "sqrt((Δx' * (C * Δx)) / npar) = 235.49546065282695\n",
      "sqrt((Δx' * (C * Δx)) / npar) = 0.364126741129929\n",
      "sqrt((Δx' * (C * Δx)) / npar) = 1.5211002127603424e-6\n",
      "sqrt((Δx' * (C * Δx)) / npar) = 2.7252416285687694e-8\n",
      "sqrt((Δx' * (C * Δx)) / npar) = 2.4352441136281672e-8\n",
      "x_OR6 = [-68.76396490471303, 10.099177450970803, 38.79455427929612, 0.6438276015522235, -1.2517209716176558, -1.1632866970228843, 0.0]\n",
      "σ_OR6 = [0.7044598756373398, 0.17092349494345876, 0.40260366218820137, 0.003311260273795786, 0.006679375566411458, 0.012463751872121627]\n",
      "x_OR6[end] / σ_OR6[end] = 0.0\n"
     ]
    }
   ],
   "source": [
    "# post-2021, NO SRP, 16 ast\n",
    "\n",
    "x_OR7, Γ_OR7 = newtonls(res_OR, w_OR, zeros(get_numvars()))\n",
    "σ_OR7 = sqrt.(diag(Γ_OR7))\n",
    "@show x_OR7 σ_OR7 x_OR7[end]/σ_OR7[end]\n",
    "\n",
    "x_OR6, Γ_OR6 = newtonls_6v(res_OR, w_OR, zeros(get_numvars()))\n",
    "σ_OR6 = sqrt.(diag(Γ_OR6))\n",
    "@show x_OR6 σ_OR6 x_OR6[end]/σ_OR6[end]\n",
    ";"
   ]
  },
  {
   "cell_type": "code",
   "execution_count": 44,
   "metadata": {},
   "outputs": [
    {
     "name": "stdout",
     "output_type": "stream",
     "text": [
      "x_OR7 = [-80.81813958236799, -0.7133762366599218, -3.5612724648364917, 0.23809843716927998, -1.3416435295268134, -0.4697710231985644, -2.898835108503474]\n",
      "Γ_OR7 = [0.5068619085455233 0.11940253738668327 -0.13718350564978662 -0.0006258027301194737 0.004711313157221584 0.007018795674486953 0.0025462694490050435; 0.11940253742302409 0.03773450404420553 0.011424926444151573 0.00028882755463475584 0.001031448303596345 0.0008826592369233183 0.0022840652666241846; -0.13718350545247704 0.011424926498189065 0.2928295921694788 0.0025221036026654344 -0.0014358518110172292 -0.006661406718717781 0.00894739844625755; -0.00062580272826296 0.0002888275551022986 0.0025221036024433885 2.2960876534456336e-5 -8.10583499852566e-6 -5.1875620619375085e-5 8.57076513701302e-5; 0.004711313157035527 0.001031448303206883 -0.001435851812855113 -8.105835016028152e-6 4.520454251275811e-5 6.703924234023766e-5 1.899468131578466e-5; 0.007018795670869293 0.000882659235615 -0.006661406720443044 -5.187562063967593e-5 6.703924230816188e-5 0.00019039639338571198 -0.0001465007268133965; 0.0025462694564949316 0.002284065268122583 0.008947398443252921 8.570765135029659e-5 1.8994681388371695e-5 -0.00014650072669281176 0.0006123557268939426]\n"
     ]
    },
    {
     "data": {
      "text/plain": [
       "7×7 Matrix{Float64}:\n",
       "  0.506862     0.119403     -0.137184    …   0.0070188     0.00254627\n",
       "  0.119403     0.0377345     0.0114249       0.000882659   0.00228407\n",
       " -0.137184     0.0114249     0.29283        -0.00666141    0.0089474\n",
       " -0.000625803  0.000288828   0.0025221      -5.18756e-5    8.57077e-5\n",
       "  0.00471131   0.00103145   -0.00143585      6.70392e-5    1.89947e-5\n",
       "  0.0070188    0.000882659  -0.00666141  …   0.000190396  -0.000146501\n",
       "  0.00254627   0.00228407    0.0089474      -0.000146501   0.000612356"
      ]
     },
     "execution_count": 44,
     "metadata": {},
     "output_type": "execute_result"
    }
   ],
   "source": [
    "@show x_OR7 Γ_OR7"
   ]
  },
  {
   "cell_type": "code",
   "execution_count": null,
   "metadata": {},
   "outputs": [],
   "source": [
    "#x_O7, Γ_O7 = newtonls(res_O, w_O, zeros(8))\n",
    "#σ_O7 = sqrt.(diag(Γ_O7))\n",
    "#@show x_O7 σ_O7 x_O7[end]/σ_O7[end]\n",
    "#\n",
    "#x_R7, Γ_R7 = newtonls(res_R, w_R, zeros(8))\n",
    "#σ_R7 = sqrt.(diag(Γ_R7))\n",
    "#@show x_R7 σ_R7 x_R7[end]/σ_R7[end]\n",
    "#\n",
    "#x_O6, Γ_O6 = newtonls(res_O, w_O, zeros(8))\n",
    "#σ_O6 = sqrt.(diag(Γ_O6))\n",
    "#@show x_O6 σ_O6 x_O6[end]/σ_O6[end]\n",
    "#\n",
    "#x_R6, Γ_R6 = newtonls(res_R, w_R, zeros(8))\n",
    "#σ_R6 = sqrt.(diag(Γ_R6))\n",
    "#@show x_R6 σ_R6 x_R6[end]/σ_R6[end]"
   ]
  },
  {
   "cell_type": "code",
   "execution_count": 45,
   "metadata": {},
   "outputs": [],
   "source": [
    "#@show x_OR7 Γ_OR7"
   ]
  },
  {
   "cell_type": "code",
   "execution_count": 42,
   "metadata": {},
   "outputs": [],
   "source": [
    "# 32 ast\n",
    "#sqrt(Γ_OR7[7,7])"
   ]
  },
  {
   "cell_type": "code",
   "execution_count": null,
   "metadata": {},
   "outputs": [],
   "source": []
  },
  {
   "cell_type": "code",
   "execution_count": 45,
   "metadata": {},
   "outputs": [
    {
     "data": {
      "text/plain": [
       "0.02474582241296382"
      ]
     },
     "execution_count": 45,
     "metadata": {},
     "output_type": "execute_result"
    }
   ],
   "source": [
    "# 16 ast\n",
    "sqrt(Γ_OR7[7,7])"
   ]
  },
  {
   "cell_type": "code",
   "execution_count": 46,
   "metadata": {},
   "outputs": [
    {
     "data": {
      "text/plain": [
       "0.0021811610748908275"
      ]
     },
     "execution_count": 46,
     "metadata": {},
     "output_type": "execute_result"
    }
   ],
   "source": [
    "abs(-2.894053174513909 +2.8941071491385224)/sqrt(Γ_OR7[7,7])"
   ]
  },
  {
   "cell_type": "code",
   "execution_count": 47,
   "metadata": {},
   "outputs": [],
   "source": [
    "#@show x_OR7 Γ_OR7"
   ]
  },
  {
   "cell_type": "code",
   "execution_count": 48,
   "metadata": {},
   "outputs": [
    {
     "name": "stdout",
     "output_type": "stream",
     "text": [
      "x_OR7 .* vcat(1.0e-8 * ones(6), 1.0e-14) = [-8.081813958236799e-7, -7.133762366599218e-9, -3.561272464836492e-8, 2.3809843716928e-9, -1.3416435295268134e-8, -4.6977102319856445e-9, -2.8988351085034736e-14]\n"
     ]
    }
   ],
   "source": [
    "@show x_OR7.*vcat(1e-8ones(6), 1e-14)\n",
    ";"
   ]
  },
  {
   "cell_type": "code",
   "execution_count": 50,
   "metadata": {},
   "outputs": [],
   "source": [
    "#@show x_OR7.*vcat(1e-8ones(6), 1e-14, 1e-13)\n",
    "#;"
   ]
  },
  {
   "cell_type": "markdown",
   "metadata": {},
   "source": [
    "# Fit quality statistics: $\\chi^2$, normalized RMS"
   ]
  },
  {
   "cell_type": "markdown",
   "metadata": {},
   "source": [
    "The gravity-only solution post-fit normalized RMS for the optical, radar, and combined optical and radar astrometry are, respectively, 0.448, 14.720 and 1.0259. Moreover, the gravity-only solution post-fit right-ascension weighted mean residual is 0.072$~$arcsec, while the declination weighted mean residual is 0.218$~$arcsec. The weighted time-delay and Doppler shift mean residual for the gravity-only solution are, respectively, -0.06 us and 0.043 Hz. On the other hand, the non-gravitational solution normalized RMS for the optical, radar, and combined optical and radar astrometry are, respectively, 0.313, 0.387 and 0.314. The right-ascension, declination, time-delay and Doppler shift weighted mean residuals, are, respectively, 0.008$~$arcsec, 0.003$~$arcsec, -0.0003$~$us and -0.31$~$Hz."
   ]
  },
  {
   "cell_type": "code",
   "execution_count": 51,
   "metadata": {},
   "outputs": [
    {
     "data": {
      "text/plain": [
       "(0.09590496628832569, 0.08181218907367854)"
      ]
     },
     "execution_count": 51,
     "metadata": {},
     "output_type": "execute_result"
    }
   ],
   "source": [
    "mean(res_α(x_OR6), weights(w_α)), mean(res_δ(x_OR6), weights(w_δ))"
   ]
  },
  {
   "cell_type": "code",
   "execution_count": 52,
   "metadata": {},
   "outputs": [
    {
     "data": {
      "text/plain": [
       "(0.0055309987818065575, 0.0036397495750039124)"
      ]
     },
     "execution_count": 52,
     "metadata": {},
     "output_type": "execute_result"
    }
   ],
   "source": [
    "mean(res_α(x_OR7), weights(w_α)), mean(res_δ(x_OR7), weights(w_δ))"
   ]
  },
  {
   "cell_type": "code",
   "execution_count": 53,
   "metadata": {},
   "outputs": [
    {
     "data": {
      "text/plain": [
       "(-0.06910018018352887, 0.026201190834613388)"
      ]
     },
     "execution_count": 53,
     "metadata": {},
     "output_type": "execute_result"
    }
   ],
   "source": [
    "mean(res_τ(x_OR6), weights(w_τ)), mean(res_ν(x_OR6), weights(w_ν))"
   ]
  },
  {
   "cell_type": "code",
   "execution_count": 54,
   "metadata": {},
   "outputs": [
    {
     "data": {
      "text/plain": [
       "(-0.0002448157470529978, -0.030975129900456706)"
      ]
     },
     "execution_count": 54,
     "metadata": {},
     "output_type": "execute_result"
    }
   ],
   "source": [
    "mean(res_τ(x_OR7), weights(w_τ)), mean(res_ν(x_OR7), weights(w_ν))"
   ]
  },
  {
   "cell_type": "code",
   "execution_count": 55,
   "metadata": {},
   "outputs": [
    {
     "data": {
      "text/plain": [
       "(0.48906355761487863, 15.11559177424043, 0.9792893328089622)"
      ]
     },
     "execution_count": 55,
     "metadata": {},
     "output_type": "execute_result"
    }
   ],
   "source": [
    "nrms(res_O(x_OR6), w_O), nrms(res_R(x_OR6), w_R), nrms(res_OR(x_OR6), w_OR)"
   ]
  },
  {
   "cell_type": "code",
   "execution_count": 56,
   "metadata": {},
   "outputs": [
    {
     "data": {
      "text/plain": [
       "(0.3053901525790917, 0.38648401757199513, 0.30567972379682484)"
      ]
     },
     "execution_count": 56,
     "metadata": {},
     "output_type": "execute_result"
    }
   ],
   "source": [
    "nrms(res_O(x_OR7), w_O), nrms(res_R(x_OR7), w_R), nrms(res_OR(x_OR7), w_OR)"
   ]
  },
  {
   "cell_type": "code",
   "execution_count": 57,
   "metadata": {},
   "outputs": [
    {
     "data": {
      "text/plain": [
       "1481.3992429911366"
      ]
     },
     "execution_count": 57,
     "metadata": {},
     "output_type": "execute_result"
    }
   ],
   "source": [
    "chi2(res_OR(x_OR7), w_OR)"
   ]
  },
  {
   "cell_type": "code",
   "execution_count": 58,
   "metadata": {},
   "outputs": [
    {
     "data": {
      "text/plain": [
       "15204.10644844116"
      ]
     },
     "execution_count": 58,
     "metadata": {},
     "output_type": "execute_result"
    }
   ],
   "source": [
    "chi2(res_OR(x_OR6), w_OR)"
   ]
  },
  {
   "cell_type": "code",
   "execution_count": 59,
   "metadata": {},
   "outputs": [
    {
     "data": {
      "text/plain": [
       "117.14442381938515"
      ]
     },
     "execution_count": 59,
     "metadata": {},
     "output_type": "execute_result"
    }
   ],
   "source": [
    "# signal-to-noise ratio\n",
    "abs(x_OR7[end]/σ_OR7[end])"
   ]
  },
  {
   "cell_type": "markdown",
   "metadata": {},
   "source": [
    "# Semimajor axis drift"
   ]
  },
  {
   "cell_type": "code",
   "execution_count": 60,
   "metadata": {},
   "outputs": [
    {
     "data": {
      "text/plain": [
       "6.614352e8"
      ]
     },
     "execution_count": 60,
     "metadata": {},
     "output_type": "execute_result"
    }
   ],
   "source": [
    "jd0 = datetime2julian(DateTime(2020,12,17)) #Julian date (TDB) of integration initial time\n",
    "et0 = (jd0 - J2000)*daysec"
   ]
  },
  {
   "cell_type": "code",
   "execution_count": 61,
   "metadata": {},
   "outputs": [
    {
     "data": {
      "text/plain": [
       "6-element Vector{Float64}:\n",
       " -0.18034747703273316\n",
       "  0.9406910666200128\n",
       "  0.3457360259054398\n",
       " -0.016265942170279046\n",
       "  4.392889725556651e-5\n",
       " -0.00039519931615139716"
      ]
     },
     "execution_count": 61,
     "metadata": {},
     "output_type": "execute_result"
    }
   ],
   "source": [
    "q00 = [-0.18034747703273316, 0.9406910666200128, 0.3457360259054398, -0.016265942170279046, 4.392889725556651e-5, -0.00039519931615139716]"
   ]
  },
  {
   "cell_type": "code",
   "execution_count": 62,
   "metadata": {},
   "outputs": [
    {
     "name": "stdout",
     "output_type": "stream",
     "text": [
      "q00 .+ (vcat(1.0e-8 * ones(6), 1.0e-14) .* x_OR7)[1:6] = [-0.180348285214129, 0.9406910594862504, 0.3457359902927151, -0.016265939789294675, 4.391548082027124e-5, -0.00039520401386162915]\n"
     ]
    },
    {
     "data": {
      "text/plain": [
       "6-element Vector{Float64}:\n",
       " -0.180348285214129\n",
       "  0.9406910594862504\n",
       "  0.3457359902927151\n",
       " -0.016265939789294675\n",
       "  4.391548082027124e-5\n",
       " -0.00039520401386162915"
      ]
     },
     "execution_count": 62,
     "metadata": {},
     "output_type": "execute_result"
    }
   ],
   "source": [
    "if get_numvars() == 7\n",
    "    @show q00 .+ (vcat(1e-8*ones(6), 1e-14).*x_OR7)[1:6]\n",
    "elseif get_numvars() == 8\n",
    "    q00 .+ (vcat(1e-8*ones(6), 1e-14, 1e-13).*x_OR7)[1:6]\n",
    "end"
   ]
  },
  {
   "cell_type": "code",
   "execution_count": 63,
   "metadata": {},
   "outputs": [
    {
     "data": {
      "text/plain": [
       "6-element Vector{Float64}:\n",
       " -0.17379952231982293\n",
       "  0.9351450449312941\n",
       "  0.3432198872505777\n",
       " -0.016259014389234605\n",
       "  4.9169635816651055e-5\n",
       " -0.00039316391905295676"
      ]
     },
     "execution_count": 63,
     "metadata": {},
     "output_type": "execute_result"
    }
   ],
   "source": [
    "xas = q00 .- NEOs.kmsec2auday(NEOs.sun_pv(et0)) # .+ (vcat(1e-8*ones(6), 1e-14).*x_OR7)[1:6]"
   ]
  },
  {
   "cell_type": "code",
   "execution_count": 64,
   "metadata": {},
   "outputs": [],
   "source": [
    "ϵ0_deg = 84381.448/3600;\n",
    "m_eq2ecl = Rx(deg2rad(ϵ0_deg));\n",
    "m_xv_eq2ecl = hcat(vcat(m_eq2ecl, zeros(3,3)), vcat(zeros(3,3), m_eq2ecl));"
   ]
  },
  {
   "cell_type": "code",
   "execution_count": 65,
   "metadata": {},
   "outputs": [
    {
     "data": {
      "text/plain": [
       "7-element Vector{Float64}:\n",
       "   0.19150886541679907\n",
       "   0.7458530646657939\n",
       "   2.45910104097325e6\n",
       " 204.04200861628541\n",
       " 126.65394416151273\n",
       "   3.3367727716362747\n",
       "   0.0"
      ]
     },
     "execution_count": 65,
     "metadata": {},
     "output_type": "execute_result"
    }
   ],
   "source": [
    "kep0 = vcat([pv2kep(  m_xv_eq2ecl*(xas .+ (vcat(1e-8*ones(6), 1e-14).*dq)[1:6])  , μ[1], jd0)...][1:6],1e-14(dq[7])); # x_OR6 +\n",
    "#kep0 = vcat([pv2kep(  m_xv_eq2ecl*(xas .+ (vcat(1e-8*ones(6), 1e-14, 1e-13).*dq)[1:6])  , μ[1], jd0)...][1:6],1e-14(dq[7]),1e-13(dq[8])); # x_OR6 +\n",
    "kep0()"
   ]
  },
  {
   "cell_type": "code",
   "execution_count": 66,
   "metadata": {},
   "outputs": [
    {
     "data": {
      "text/plain": [
       "7-element Vector{Float64}:\n",
       "   0.1915088671476207\n",
       "   0.7458530503609706\n",
       "   2.4591010409253803e6\n",
       " 204.04199117698067\n",
       " 126.65396093863065\n",
       "   3.336773201417598\n",
       "  -2.8988351085034736e-14"
      ]
     },
     "execution_count": 66,
     "metadata": {},
     "output_type": "execute_result"
    }
   ],
   "source": [
    "kep_OR7 = kep0(x_OR7)"
   ]
  },
  {
   "cell_type": "code",
   "execution_count": 67,
   "metadata": {},
   "outputs": [],
   "source": [
    "# WARNING: these are ecliptic elements!!! also, not sure about the order in the Ω ↔ ω angles\n",
    "kep_JPL216 = [0.1914347568286823, 0.7460634895090179, 2459424.558511739019, 203.9662692226386, 126.5900238507279, 3.338874353538208, -2.901085583204654E-14, 5.E-13]\n",
    "#σ_kep_JPL204 = [2.2197e-09, 2.2003e-09, 1.2886e-06, 1.4045e-05, 1.4205e-05, 2.4295e-07, 3.039E-16]\n",
    ";"
   ]
  },
  {
   "cell_type": "code",
   "execution_count": 68,
   "metadata": {},
   "outputs": [
    {
     "data": {
      "text/plain": [
       "8-element Vector{Float64}:\n",
       "   0.1914347568286823\n",
       "   0.7460634895090179\n",
       "   2.459424558511739e6\n",
       " 203.9662692226386\n",
       " 126.5900238507279\n",
       "   3.338874353538208\n",
       "  -2.901085583204654e-14\n",
       "   5.0e-13"
      ]
     },
     "execution_count": 68,
     "metadata": {},
     "output_type": "execute_result"
    }
   ],
   "source": [
    "kep_JPL216"
   ]
  },
  {
   "cell_type": "code",
   "execution_count": 69,
   "metadata": {},
   "outputs": [
    {
     "data": {
      "text/plain": [
       "7-element Vector{TaylorN{Float64}}:\n",
       "        0.1915088671476207 + 1.0 δx₁ + 𝒪(‖x‖⁶)\n",
       "        0.7458530503609706 + 1.0 δx₂ + 𝒪(‖x‖⁶)\n",
       "      2.4591010409253803e6 + 1.0 δx₃ + 𝒪(‖x‖⁶)\n",
       "        204.04199117698067 + 1.0 δx₄ + 𝒪(‖x‖⁶)\n",
       "        126.65396093863065 + 1.0 δx₅ + 𝒪(‖x‖⁶)\n",
       "         3.336773201417598 + 1.0 δx₆ + 𝒪(‖x‖⁶)\n",
       "  - 2.8988351085034736e-14 + 1.0 δx₇ + 𝒪(‖x‖⁶)"
      ]
     },
     "execution_count": 69,
     "metadata": {},
     "output_type": "execute_result"
    }
   ],
   "source": [
    "orbel_OR7_TN = kep_OR7 .+ dq\n",
    "#orbel_OR7_TN = kep_JPL216 .+ dq # length(kep_JPL216) == 8"
   ]
  },
  {
   "cell_type": "code",
   "execution_count": null,
   "metadata": {},
   "outputs": [],
   "source": []
  },
  {
   "cell_type": "code",
   "execution_count": 70,
   "metadata": {},
   "outputs": [
    {
     "data": {
      "text/plain": [
       "7-element Vector{TaylorN{Float64}}:\n",
       "  1.0 δx₁ + 𝒪(‖x‖⁶)\n",
       "  1.0 δx₂ + 𝒪(‖x‖⁶)\n",
       "  1.0 δx₃ + 𝒪(‖x‖⁶)\n",
       "  1.0 δx₄ + 𝒪(‖x‖⁶)\n",
       "  1.0 δx₅ + 𝒪(‖x‖⁶)\n",
       "  1.0 δx₆ + 𝒪(‖x‖⁶)\n",
       "  1.0 δx₇ + 𝒪(‖x‖⁶)"
      ]
     },
     "execution_count": 70,
     "metadata": {},
     "output_type": "execute_result"
    }
   ],
   "source": [
    "var_names_str = prod(get_variable_names().*\" \")\n",
    "vars_old = get_variables()\n",
    "vars_new = set_variables(eltype(vars_old[1]), var_names_str[1:prevind(var_names_str, end)], order=vars_old[1].order)"
   ]
  },
  {
   "cell_type": "code",
   "execution_count": 71,
   "metadata": {},
   "outputs": [
    {
     "data": {
      "text/plain": [
       "(-2.898835108503474, 0.02474582241296382)"
      ]
     },
     "execution_count": 71,
     "metadata": {},
     "output_type": "execute_result"
    }
   ],
   "source": [
    "x_OR7[7], σ_OR7[7]"
   ]
  },
  {
   "cell_type": "code",
   "execution_count": 72,
   "metadata": {},
   "outputs": [
    {
     "data": {
      "text/plain": [
       " - 0.0013304567062035874 + 0.00029381274032279223 δx₁ + 0.0008919027049361038 δx₂ + 4.58962533709079e10 δx₇ - 0.001009864597577864 δx₁² - 0.00019696422786002904 δx₁ δx₂ - 1.013554511813793e10 δx₁ δx₇ - 0.0008968616919624277 δx₂² - 3.0767624633763645e10 δx₂ δx₇ + 6.0822370333661864e-5 δx₁³ + 0.0006769863025224069 δx₁² δx₂ + 3.4836910682346725e10 δx₁² δx₇ + 0.000198059350730721 δx₁ δx₂² + 6.794599226504884e9 δx₁ δx₂ δx₇ + 0.0010020536122233611 δx₂³ + 3.0938692902247665e10 δx₂² δx₇ - 0.0009024938196202712 δx₁⁴ - 4.077369550491581e-5 δx₁³ δx₂ - 2.0981659203465874e9 δx₁³ δx₇ - 0.0006807503524267604 δx₁² δx₂² - 2.3353736145133892e10 δx₁² δx₂ δx₇ - 0.00022128951388264512 δx₁ δx₂³ - 6.832377259049042e9 δx₁ δx₂² δx₇ - 0.0011755625458273549 δx₂⁴ - 3.456745812426262e10 δx₂³ δx₇ - 0.00019038038965753866 δx₁⁵ + 0.0006050077955593876 δx₁⁴ δx₂ + 3.1132982244243084e10 δx₁⁴ δx₇ + 4.100039761704641e-5 δx₁³ δx₂² + 1.406554494435017e9 δx₁³ δx₂ δx₇ + 0.0007605948116469875 δx₁² δx₂³ + 2.3483583127230667e10 δx₁² δx₂² δx₇ + 0.0002596065331550281 δx₁ δx₂⁴ + 7.633739264213825e9 δx₁ δx₂³ δx₇ + 0.0014185184209310078 δx₂⁵ + 4.055292908447767e10 δx₂⁴ δx₇ + 𝒪(‖x‖⁶)"
      ]
     },
     "execution_count": 72,
     "metadata": {},
     "output_type": "execute_result"
    }
   ],
   "source": [
    "# OR7, 16 ast\n",
    "ady_kep_au_My = 1e6yr*yarkp2adot(orbel_OR7_TN[7], orbel_OR7_TN[2]/(1.0 - orbel_OR7_TN[1]), orbel_OR7_TN[1], μ[1]) # au/Myr"
   ]
  },
  {
   "cell_type": "code",
   "execution_count": 73,
   "metadata": {},
   "outputs": [
    {
     "data": {
      "text/plain": [
       " - 199.03349030659214 + 43.953760336821745 δx₁ + 133.42674553001152 δx₂ + 6.865981777395519e15 δx₇ - 151.07359349296084 δx₁² - 29.465429091929963 δx₁ δx₂ - 1.5162559680572142e15 δx₁ δx₇ - 134.16859942997849 δx₂² - 4.602771131707908e15 δx₂ δx₇ + 9.098897092842664 δx₁³ + 101.27570935041811 δx₁² δx₂ + 5.211527659845154e15 δx₁² δx₇ + 29.62925714154035 δx₁ δx₂² + 1.0164575765449976e15 δx₁ δx₂ δx₇ + 149.90508671585832 δx₂³ + 4.628362580417454e15 δx₂² δx₇ - 135.01115373510245 δx₁⁴ - 6.099658028105567 δx₁³ δx₂ - 3.138811540591553e14 δx₁³ δx₇ - 101.83880320131794 δx₁² δx₂² - 3.493669200201656e15 δx₁² δx₂ δx₇ - 33.1044400850818 δx₁ δx₂³ - 1.0221090897728389e15 δx₁ δx₂² δx₇ - 175.86165373044346 δx₂⁴ - 5.171218130901104e15 δx₂³ δx₇ - 28.480500915804086 δx₁⁵ + 90.5078779725853 δx₁⁴ δx₂ + 4.657427852279673e15 δx₁⁴ δx₇ + 6.133572181363497 δx₁³ δx₂² + 2.1041755739099356e14 δx₁³ δx₂ δx₇ + 113.7833642878569 δx₁² δx₂³ + 3.513094032240155e15 δx₁² δx₂² δx₇ + 38.83658457980116 δx₁ δx₂⁴ + 1.141991139405373e15 δx₁ δx₂³ δx₇ + 212.2073353200051 δx₂⁵ + 6.06663184168596e15 δx₂⁴ δx₇ + 𝒪(‖x‖⁶)"
      ]
     },
     "execution_count": 73,
     "metadata": {},
     "output_type": "execute_result"
    }
   ],
   "source": [
    "# OR7, 16 ast\n",
    "ady_kep_m_y = 1e3au*yr*yarkp2adot(orbel_OR7_TN[7], orbel_OR7_TN[2]/(1.0 - orbel_OR7_TN[1]), orbel_OR7_TN[1], μ[1]) #m/yr"
   ]
  },
  {
   "cell_type": "code",
   "execution_count": 74,
   "metadata": {},
   "outputs": [
    {
     "data": {
      "text/plain": [
       "0.003705890154321878"
      ]
     },
     "execution_count": 74,
     "metadata": {},
     "output_type": "execute_result"
    }
   ],
   "source": [
    "- 198.70516356300044 - (- 198.70886945315476)"
   ]
  },
  {
   "cell_type": "code",
   "execution_count": 75,
   "metadata": {},
   "outputs": [
    {
     "data": {
      "text/plain": [
       "t_kep2ady (generic function with 1 method)"
      ]
     },
     "execution_count": 75,
     "metadata": {},
     "output_type": "execute_result"
    }
   ],
   "source": [
    "t_car2kep(x) = TaylorSeries.jacobian(kep0, x)'\n",
    "t_kep2ady(x, ady_kep) = TaylorSeries.gradient(ady_kep)(x)"
   ]
  },
  {
   "cell_type": "code",
   "execution_count": 76,
   "metadata": {},
   "outputs": [
    {
     "data": {
      "text/plain": [
       "7×7 Matrix{Float64}:\n",
       "  2.55852e-18  -2.46884e-18   1.37622e-15  …   7.28796e-17  -2.37533e-25\n",
       " -2.46884e-18   2.38342e-18  -1.32118e-15     -6.9089e-17    2.32406e-25\n",
       "  1.37622e-15  -1.32118e-15   1.36076e-12      1.70144e-13  -2.213e-22\n",
       " -1.49209e-15   1.34771e-15  -7.3443e-12      -1.46143e-12   1.16731e-21\n",
       "  2.99616e-15  -2.79709e-15   8.5202e-12       1.58192e-12  -1.36379e-21\n",
       "  7.28796e-17  -6.9089e-17    1.70144e-13  …   3.0289e-14   -2.69095e-23\n",
       " -2.37533e-25   2.32406e-25  -2.213e-22       -2.69095e-23   6.12356e-32"
      ]
     },
     "execution_count": 76,
     "metadata": {},
     "output_type": "execute_result"
    }
   ],
   "source": [
    "Γ_OR7_kep = (t_car2kep(x_OR7)')*Γ_OR7*(t_car2kep(x_OR7))"
   ]
  },
  {
   "cell_type": "code",
   "execution_count": 77,
   "metadata": {},
   "outputs": [
    {
     "data": {
      "text/plain": [
       "0.09509084740625703"
      ]
     },
     "execution_count": 77,
     "metadata": {},
     "output_type": "execute_result"
    }
   ],
   "source": [
    "1e4sqrt( (t_kep2ady(kep_OR7, ady_kep_au_My)')*Γ_OR7_kep*t_kep2ady(kep_OR7, ady_kep_au_My) )"
   ]
  },
  {
   "cell_type": "code",
   "execution_count": 78,
   "metadata": {},
   "outputs": [
    {
     "data": {
      "text/plain": [
       "1.4225388295034673"
      ]
     },
     "execution_count": 78,
     "metadata": {},
     "output_type": "execute_result"
    }
   ],
   "source": [
    "sqrt( (t_kep2ady(kep_OR7, ady_kep_m_y)')*Γ_OR7_kep*t_kep2ady(kep_OR7, ady_kep_m_y) )"
   ]
  },
  {
   "cell_type": "code",
   "execution_count": 79,
   "metadata": {},
   "outputs": [
    {
     "data": {
      "text/plain": [
       "1.4225388295034673"
      ]
     },
     "execution_count": 79,
     "metadata": {},
     "output_type": "execute_result"
    }
   ],
   "source": [
    "sqrt( (t_kep2ady(kep_OR7, ady_kep_m_y)')*Γ_OR7_kep*t_kep2ady(kep_OR7, ady_kep_m_y) )"
   ]
  },
  {
   "cell_type": "code",
   "execution_count": 80,
   "metadata": {},
   "outputs": [
    {
     "data": {
      "text/plain": [
       "7×7 Matrix{Float64}:\n",
       " -7.51844e-9   4.62274e-9  …  -1.7623e-6     1.24784e-8  -0.0\n",
       " -5.3184e-9    1.73528e-8      3.27114e-6    1.83302e-7  -0.0\n",
       " -2.16725e-9   6.56745e-9     -3.05377e-6   -4.93111e-7  -0.0\n",
       "  5.39305e-7  -1.25364e-6     -0.000299274   2.06476e-7  -0.0\n",
       "  4.87647e-7  -4.47581e-7     -0.000152639   3.03305e-6  -0.0\n",
       "  1.94919e-7  -1.98102e-7  …   0.000569897  -8.15937e-6  -0.0\n",
       " -0.0         -0.0            -0.0          -0.0          1.0e-14"
      ]
     },
     "execution_count": 80,
     "metadata": {},
     "output_type": "execute_result"
    }
   ],
   "source": [
    "t_car2kep(x_OR7)"
   ]
  },
  {
   "cell_type": "code",
   "execution_count": 81,
   "metadata": {},
   "outputs": [
    {
     "data": {
      "text/plain": [
       "7-element Vector{Float64}:\n",
       " 1.5995361054039458e-9\n",
       " 1.5438338586670517e-9\n",
       " 1.1665163149089168e-6\n",
       " 8.807569650155787e-6\n",
       " 9.369897857743647e-6\n",
       " 1.740373502927721e-7\n",
       " 2.4745822412963823e-16"
      ]
     },
     "execution_count": 81,
     "metadata": {},
     "output_type": "execute_result"
    }
   ],
   "source": [
    "σ_OR7_kep = sqrt.(diag(Γ_OR7_kep))"
   ]
  },
  {
   "cell_type": "code",
   "execution_count": 82,
   "metadata": {},
   "outputs": [
    {
     "data": {
      "text/plain": [
       "7-element Vector{Float64}:\n",
       "   0.1915088671476207\n",
       "   0.7458530503609706\n",
       "   2.4591010409253803e6\n",
       " 204.04199117698067\n",
       " 126.65396093863065\n",
       "   3.336773201417598\n",
       "  -2.8988351085034736e-14"
      ]
     },
     "execution_count": 82,
     "metadata": {},
     "output_type": "execute_result"
    }
   ],
   "source": [
    "kep_OR7"
   ]
  },
  {
   "cell_type": "code",
   "execution_count": 83,
   "metadata": {},
   "outputs": [
    {
     "data": {
      "text/plain": [
       "8-element Vector{Float64}:\n",
       "   0.1914347568286823\n",
       "   0.7460634895090179\n",
       "   2.459424558511739e6\n",
       " 203.9662692226386\n",
       " 126.5900238507279\n",
       "   3.338874353538208\n",
       "  -2.901085583204654e-14\n",
       "   5.0e-13"
      ]
     },
     "execution_count": 83,
     "metadata": {},
     "output_type": "execute_result"
    }
   ],
   "source": [
    "kep_JPL216"
   ]
  },
  {
   "cell_type": "code",
   "execution_count": 84,
   "metadata": {},
   "outputs": [
    {
     "data": {
      "text/plain": [
       "7-element Vector{Float64}:\n",
       " 1.5995361054039458e-9\n",
       " 1.5438338586670517e-9\n",
       " 1.1665163149089168e-6\n",
       " 8.807569650155787e-6\n",
       " 9.369897857743647e-6\n",
       " 1.740373502927721e-7\n",
       " 2.4745822412963823e-16"
      ]
     },
     "execution_count": 84,
     "metadata": {},
     "output_type": "execute_result"
    }
   ],
   "source": [
    "σ_OR7_kep"
   ]
  },
  {
   "cell_type": "code",
   "execution_count": 85,
   "metadata": {},
   "outputs": [],
   "source": [
    "Γ_OR7_kep = (t_car2kep(x_OR7)')*Γ_OR7*(t_car2kep(x_OR7));\n",
    "Γ_OR6_kep = (t_car2kep(x_OR6)[1:6,1:6]')*Γ_OR6*t_car2kep(x_OR6)[1:6,1:6];"
   ]
  },
  {
   "cell_type": "code",
   "execution_count": 86,
   "metadata": {},
   "outputs": [
    {
     "data": {
      "text/plain": [
       "2.4592005e6"
      ]
     },
     "execution_count": 86,
     "metadata": {},
     "output_type": "execute_result"
    }
   ],
   "source": [
    "jd0"
   ]
  },
  {
   "cell_type": "code",
   "execution_count": 87,
   "metadata": {},
   "outputs": [
    {
     "name": "stdout",
     "output_type": "stream",
     "text": [
      "* ----===OOO===--- *OR6\n",
      "kep0(x) = [0.19150875470094428, 0.7458531603805013, 2.459101040820619e6, 204.04254376918468, 126.65331533543133, 3.3367604630013967, 0.0]\n",
      "sqrt.(diag(Γ_kep)) = [1.2794913844462638e-9, 1.225296618102021e-9, 7.489896655895965e-7, 7.4378229160293445e-6, 7.577703036850366e-6, 1.358749194768207e-7]\n",
      "* ----===OOO===--- *OR7\n",
      "kep0(x) = [0.1915088671476207, 0.7458530503609706, 2.4591010409253803e6, 204.04199117698067, 126.65396093863065, 3.336773201417598, -2.8988351085034736e-14]\n",
      "sqrt.(diag(Γ_kep)) = [1.5995361054039458e-9, 1.5438338586670517e-9, 1.1665163149089168e-6, 8.807569650155787e-6, 9.369897857743647e-6, 1.740373502927721e-7, 2.4745822412963823e-16]\n"
     ]
    }
   ],
   "source": [
    "for (x, Γ_kep, sol_str) in [(x_OR6, Γ_OR6_kep, \"OR6\"), (x_OR7, Γ_OR7_kep, \"OR7\")]\n",
    "    println(\"* ----===OOO===--- *\", sol_str)\n",
    "    @show kep0(x) sqrt.(diag(Γ_kep))\n",
    "end"
   ]
  },
  {
   "cell_type": "raw",
   "metadata": {},
   "source": [
    "#OR6\n",
    "\n",
    "0.19150875(472)     \\pm 1.28\\times 10^{-9}\n",
    "0.74585316(035)     \\pm 1.23\\times 10^{-9}\n",
    "2459101.040820(608) \\pm 7.49\\times 10^{-7}\n",
    "204.04254(376)      \\pm 7.44\\times 10^{-6}\n",
    "126.65331(533)      \\pm 7.58\\times 10^{-6}\n",
    "3.336760(462)       \\pm 1.36\\times 10^{-7}\n",
    " 0.0 (fixed)                              \n",
    "\n",
    "# OR7\n",
    "\n",
    "0.19150886(716)    \\pm 1.60\\times 10^{-9}\n",
    "0.74585305(033)    \\pm 1.54\\times 10^{-9}\n",
    "2459101.04092(537) \\pm 1.17\\times 10^{-6}\n",
    "204.04199(116)     \\pm 8.81\\times 10^{-6}\n",
    "126.65396(094)     \\pm 9.37\\times 10^{-6}\n",
    "3.336773(201)      \\pm 1.74\\times 10^{-7}\n",
    "-2.8(988)          \\pm 2.48\\times 10^{-2}"
   ]
  },
  {
   "cell_type": "code",
   "execution_count": 88,
   "metadata": {},
   "outputs": [
    {
     "name": "stdout",
     "output_type": "stream",
     "text": [
      "* ----===OOO===--- *OR6\n",
      "vcat(q00, 0) .+ vcat(1.0e-8 * x[1:6], 1.0e-14 * x[7]) = [-0.1803481646723822, 0.9406911676117873, 0.3457364138509826, -0.01626593573200303, 4.391638004585033e-5, -0.00039521094901836737, 0.0]\n",
      "σ_sol = [7.044598756373398e-9, 1.7092349494345878e-9, 4.0260366218820135e-9, 3.311260273795786e-11, 6.679375566411458e-11, 1.2463751872121627e-10]\n",
      "* ----===OOO===--- *OR7\n",
      "vcat(q00, 0) .+ vcat(1.0e-8 * x[1:6], 1.0e-14 * x[7]) = [-0.180348285214129, 0.9406910594862504, 0.3457359902927151, -0.016265939789294675, 4.391548082027124e-5, -0.00039520401386162915, -2.8988351085034736e-14]\n",
      "σ_sol = [7.119423491726864e-9, 1.9425371050305714e-9, 5.411373135993107e-9, 4.7917508840147706e-11, 6.723432346112966e-11, 1.3798419959753074e-10, 2.474582241296382e-16]\n"
     ]
    }
   ],
   "source": [
    "for (x, Γ, sol_str) in [(x_OR6, Γ_OR6, \"OR6\"), (x_OR7, Γ_OR7, \"OR7\")]\n",
    "    println(\"* ----===OOO===--- *\", sol_str)\n",
    "    σ_sol_ = sqrt.(diag(Γ))\n",
    "    σ_sol = length(σ_sol_)==6 ? 1e-8σ_sol_[1:6] : vcat(1e-8σ_sol_[1:6], 1e-14σ_sol_[7])\n",
    "    @show vcat(q00, 0).+vcat(1e-8x[1:6], 1e-14x[7]) σ_sol\n",
    "end"
   ]
  },
  {
   "cell_type": "raw",
   "metadata": {},
   "source": [
    "#OR6\n",
    "\n",
    "-0.18034816(472)            \\pm 7.05\\times 10^{-9} \n",
    " 0.94069116(764)            \\pm 1.71\\times 10^{-9} \n",
    " 0.34573641(385)            \\pm 4.03\\times 10^{-9} \n",
    "-0.0162659357(312)          \\pm 3.31\\times 10^{-11}\n",
    " 4.39163(792)\\times 10^{-5} \\pm 6.68\\times 10^{-11}\n",
    "-0.000395210(949)           \\pm 1.24\\times 10^{-10}\n",
    " 0.0 (fixed)                                       \n",
    "\n",
    "#OR7\n",
    "\n",
    "-0.18034828(526)            \\pm 7.12\\times 10^{-9} \n",
    " 0.94069105(951)            \\pm 1.94\\times 10^{-9} \n",
    " 0.34573599(029)            \\pm 5.41\\times 10^{-9} \n",
    "-0.0162659397(886)          \\pm 4.79\\times 10^{-11}\n",
    " 4.39154(800)\\times 10^{-5} \\pm 6.72\\times 10^{-11}\n",
    "-0.000395204(013)           \\pm 1.38\\times 10^{-10}\n",
    "-2.8(988)\\times 10^{-14}    \\pm 2.48\\times 10^{-16}\n"
   ]
  },
  {
   "cell_type": "code",
   "execution_count": null,
   "metadata": {},
   "outputs": [],
   "source": []
  },
  {
   "cell_type": "code",
   "execution_count": 89,
   "metadata": {},
   "outputs": [],
   "source": [
    "res_α_OR6 = res_α(x_OR6)\n",
    "res_δ_OR6 = res_δ(x_OR6)\n",
    "\n",
    "res_α_OR7 = res_α(x_OR7)\n",
    "res_δ_OR7 = res_δ(x_OR7)\n",
    ";"
   ]
  },
  {
   "cell_type": "code",
   "execution_count": 90,
   "metadata": {},
   "outputs": [
    {
     "data": {
      "text/plain": [
       "(0.1830101128897579, 0.45690810696916023, -0.008234149739865608, 0.5979142049587484)"
      ]
     },
     "execution_count": 90,
     "metadata": {},
     "output_type": "execute_result"
    }
   ],
   "source": [
    "mean(res_α_OR6), std(res_α_OR6), mean(res_δ_OR6), std(res_δ_OR6)"
   ]
  },
  {
   "cell_type": "code",
   "execution_count": 91,
   "metadata": {},
   "outputs": [
    {
     "data": {
      "text/plain": [
       "(-0.03744780197104822, 0.36929694641419386, 0.017094568018321647, 0.37239157825345726)"
      ]
     },
     "execution_count": 91,
     "metadata": {},
     "output_type": "execute_result"
    }
   ],
   "source": [
    "mean(res_α_OR7), std(res_α_OR7), mean(res_δ_OR7), std(res_δ_OR7)"
   ]
  },
  {
   "cell_type": "markdown",
   "metadata": {},
   "source": [
    "# Plots: optical astrometry post-fit residuals"
   ]
  },
  {
   "cell_type": "code",
   "execution_count": 92,
   "metadata": {},
   "outputs": [],
   "source": [
    "#bins_hist = -2.0:0.1:2.0\n",
    "nbins_plot = 100\n",
    "\n",
    "#h_a = fit(Histogram, res_α_OR6, bins_hist)\n",
    "h_a = fit(Histogram, res_α_OR6, nbins=nbins_plot)\n",
    "bc_a = midpoints(h_a.edges[1]) # bin centers\n",
    "bs_a = fill(h_a.edges[1].step.hi, length(bc_a)) # bin sizes\n",
    ";\n",
    "\n",
    "#h_b = fit(Histogram, res_δ_OR6, bins_hist)\n",
    "h_b = fit(Histogram, res_δ_OR6, nbins=nbins_plot)\n",
    "bc_b = midpoints(h_b.edges[1]) # bin centers\n",
    "bs_b = fill(h_b.edges[1].step.hi, length(bc_b)) # bin sizes\n",
    "\n",
    "#h_c = fit(Histogram, res_α_OR7, bins_hist)\n",
    "h_c = fit(Histogram, res_α_OR7, nbins=nbins_plot)\n",
    "bc_c = midpoints(h_c.edges[1]) # bin centers\n",
    "bs_c = fill(h_c.edges[1].step.hi, length(bc_c)) # bin sizes\n",
    "\n",
    "#h_d = fit(Histogram, res_δ_OR7, bins_hist)\n",
    "h_d = fit(Histogram, res_δ_OR7, nbins=nbins_plot)\n",
    "bc_d = midpoints(h_d.edges[1]) # bin centers\n",
    "bs_d = fill(h_d.edges[1].step.hi, length(bc_d)) # bin sizes\n",
    ";"
   ]
  },
  {
   "cell_type": "code",
   "execution_count": 93,
   "metadata": {},
   "outputs": [
    {
     "data": {
      "text/plain": [
       "(-3.182128085888587, 3.1626761811132145)"
      ]
     },
     "execution_count": 93,
     "metadata": {},
     "output_type": "execute_result"
    }
   ],
   "source": [
    "minimum(res_α_OR6), maximum(res_α_OR6)"
   ]
  },
  {
   "cell_type": "code",
   "execution_count": 94,
   "metadata": {},
   "outputs": [
    {
     "data": {
      "text/plain": [
       "(-4.083085815277837, 2.728122311782585)"
      ]
     },
     "execution_count": 94,
     "metadata": {},
     "output_type": "execute_result"
    }
   ],
   "source": [
    "minimum(res_δ_OR6), maximum(res_δ_OR6)"
   ]
  },
  {
   "cell_type": "code",
   "execution_count": 95,
   "metadata": {},
   "outputs": [
    {
     "data": {
      "text/plain": [
       "(-3.137159209433001, 3.117013345869079)"
      ]
     },
     "execution_count": 95,
     "metadata": {},
     "output_type": "execute_result"
    }
   ],
   "source": [
    "minimum(res_α_OR7), maximum(res_α_OR7)"
   ]
  },
  {
   "cell_type": "code",
   "execution_count": 96,
   "metadata": {},
   "outputs": [
    {
     "data": {
      "text/plain": [
       "(-4.3117119086345275, 2.9167692933653506)"
      ]
     },
     "execution_count": 96,
     "metadata": {},
     "output_type": "execute_result"
    }
   ],
   "source": [
    "minimum(res_δ_OR7), maximum(res_δ_OR7)"
   ]
  },
  {
   "cell_type": "code",
   "execution_count": 97,
   "metadata": {},
   "outputs": [
    {
     "data": {
      "text/plain": [
       "(0.1830101128897579, -0.008234149739865608)"
      ]
     },
     "execution_count": 97,
     "metadata": {},
     "output_type": "execute_result"
    }
   ],
   "source": [
    "mean(res_α_OR6), mean(res_δ_OR6)"
   ]
  },
  {
   "cell_type": "code",
   "execution_count": 98,
   "metadata": {},
   "outputs": [
    {
     "data": {
      "text/plain": [
       "(-0.03744780197104822, 0.017094568018321647)"
      ]
     },
     "execution_count": 98,
     "metadata": {},
     "output_type": "execute_result"
    }
   ],
   "source": [
    "mean(res_α_OR7), mean(res_δ_OR7)"
   ]
  },
  {
   "cell_type": "code",
   "execution_count": 99,
   "metadata": {},
   "outputs": [],
   "source": [
    "# use findall instead of filter, since we're looking for the indices of ZTF observations\n",
    "#ztf_obs_indx = findall(x->x==\"I41\", radec_all.obscode)"
   ]
  },
  {
   "cell_type": "code",
   "execution_count": 100,
   "metadata": {},
   "outputs": [],
   "source": [
    "#res_α_OR7[ztf_obs_indx]"
   ]
  },
  {
   "cell_type": "code",
   "execution_count": 101,
   "metadata": {},
   "outputs": [],
   "source": [
    "#res_δ_OR7[ztf_obs_indx]"
   ]
  },
  {
   "cell_type": "code",
   "execution_count": 102,
   "metadata": {},
   "outputs": [],
   "source": [
    "#sqrt(  mean(res_δ_OR7[ztf_obs_indx].^2 .+ res_α_OR7[ztf_obs_indx].^2)  )"
   ]
  },
  {
   "cell_type": "code",
   "execution_count": null,
   "metadata": {},
   "outputs": [],
   "source": []
  },
  {
   "cell_type": "code",
   "execution_count": 103,
   "metadata": {},
   "outputs": [],
   "source": [
    "angv = vcat(range(0, length=1000, stop=prevfloat(2pi)), 0)\n",
    "sigma_factor = 3.0\n",
    "σ_cos_ang = sigma_factor*cos.(angv)\n",
    "σ_sin_ang = sigma_factor*sin.(angv)\n",
    "\n",
    "cov_αδ_cholf_OR6 = cholesky(cov(hcat(res_α_OR6, res_δ_OR6)))\n",
    "cov_αδ_cholf_OR7 = cholesky(cov(hcat(res_α_OR7, res_δ_OR7)))\n",
    "\n",
    "ell_3σ_x_OR6 = mean(res_α_OR6) .+ cov_αδ_cholf_OR6.L[1,1].*σ_cos_ang .+ cov_αδ_cholf_OR6.L[1,2].*σ_sin_ang\n",
    "ell_3σ_y_OR6 = mean(res_δ_OR6) .+ cov_αδ_cholf_OR6.L[2,1].*σ_cos_ang .+ cov_αδ_cholf_OR6.L[2,2].*σ_sin_ang\n",
    "\n",
    "ell_3σ_x_OR7 = mean(res_α_OR7) .+ cov_αδ_cholf_OR7.L[1,1].*σ_cos_ang .+ cov_αδ_cholf_OR7.L[1,2].*σ_sin_ang\n",
    "ell_3σ_y_OR7 = mean(res_δ_OR7) .+ cov_αδ_cholf_OR7.L[2,1].*σ_cos_ang .+ cov_αδ_cholf_OR7.L[2,2].*σ_sin_ang\n",
    ";"
   ]
  },
  {
   "cell_type": "code",
   "execution_count": 116,
   "metadata": {},
   "outputs": [
    {
     "data": {
      "image/png": "[encoded data removed]"
     },
     "execution_count": 116,
     "metadata": {},
     "output_type": "execute_result"
    }
   ],
   "source": [
    "gap = 0.01\n",
    "xlim_plt = 3.5\n",
    "ymin_plt = -4.0\n",
    "ymax_plt = 5.0\n",
    "\n",
    "Gaston.set(preamble=\"set grid; set style circle radius 0.02\")\n",
    "\n",
    "p1 = Gaston.plot(\n",
    "    bc_a,\n",
    "    h_a.weights./2, \n",
    "    supp=[bs_a./2 h_a.weights./2], \n",
    "    curveconf=\"w boxxy notit fs transparent solid 0.4\", \n",
    "    Axes(\n",
    "        #linetype = :tab10,\n",
    "        axesconf=\"set lmargin at screen 0.1; set rmargin at screen 0.85; set tmargin at screen 0.99; set bmargin at screen 0.8+$gap\",\n",
    "        xrange = (-xlim_plt, xlim_plt),\n",
    "        format = \"''\"\n",
    "    ),\n",
    "    handle = 1\n",
    ")\n",
    "Gaston.plot!(\n",
    "    bc_c,\n",
    "    h_c.weights./2, \n",
    "    supp=[bs_c./2 h_c.weights./2], \n",
    "    curveconf=\"w boxxy notit fs transparent solid 0.4\"\n",
    ")\n",
    "\n",
    "p2 = Gaston.plot(\n",
    "    res_α_OR6, \n",
    "    res_δ_OR6, \n",
    "    curveconf=\"w circles fill transparent solid 0.4 noborder tit 'gravity-only'\",\n",
    "    Axes(\n",
    "        #linetype = :tab10,\n",
    "        key=\"at screen 0.835, screen 0.78 box spacing 1.2 height 0.4\",  #\"outside top right box spacing 1.2 height 1\",\n",
    "        axesconf=\"set lmargin at screen 0.1; set rmargin at screen 0.85; set tmargin at screen 0.8; set bmargin at screen 0.1\",\n",
    "        xrange = (-xlim_plt, xlim_plt),\n",
    "        yrange = (ymin_plt, ymax_plt),\n",
    "        format = \"\\\"%g\\\"\",\n",
    "        xlabel=\"'\\$\\\\alpha\\\\cos(\\\\delta)\\$ \\$[\\$arcsec\\$]\\$'\",\n",
    "        ylabel=\"'\\$\\\\delta\\$ \\$[\\$arcsec\\$]\\$'\"\n",
    "    ), \n",
    "    handle = 2\n",
    ")\n",
    "Gaston.plot!(res_α_OR7, res_δ_OR7, \n",
    "    curveconf=\"w circles fill transparent solid 0.4 noborder tit 'non-grav.'\"\n",
    ")\n",
    "Gaston.plot!([mean(res_α_OR6)], [mean(res_δ_OR6)], curveconf=\"w p pt 4 ps 1.5 lw 8\") # tit 'mean R.A./Dec (OR6)'\n",
    "Gaston.plot!([mean(res_α_OR7)], [mean(res_δ_OR7)], curveconf=\"w p pt 6 ps 1.5 lw 8\") # tit 'mean R.A./Dec (OR7)'\n",
    "Gaston.plot!(ell_3σ_x_OR6, ell_3σ_y_OR6, curveconf=\"w l lw 8 lc 3\")\n",
    "Gaston.plot!(ell_3σ_x_OR7, ell_3σ_y_OR7, curveconf=\"w l lw 8 lc 4\")\n",
    "\n",
    "p4 = Gaston.plot(\n",
    "    h_b.weights./2,\n",
    "    bc_b,\n",
    "    supp=[h_b.weights./2 bs_b./2],\n",
    "    curveconf=\"w boxxy notit fs transparent solid 0.4\",\n",
    "    Axes(\n",
    "        #linetype = :tab10,\n",
    "        axesconf=\"set lmargin at screen 0.85+$gap; set rmargin at screen 0.99; set tmargin at screen 0.8; set bmargin at screen 0.1\",\n",
    "        yrange = (ymin_plt, ymax_plt),\n",
    "        format = \"''\"\n",
    "    ),\n",
    "    handle = 4\n",
    ")\n",
    "Gaston.plot!(\n",
    "    h_d.weights./2,\n",
    "    bc_d,\n",
    "    supp=[h_d.weights./2 bs_d./2],\n",
    "    curveconf=\"w boxxy notit fs transparent solid 0.4\"\n",
    ")\n",
    "\n",
    "Gaston.plot([p1 nothing ; p2 p4])\n",
    "\n",
    "#Gaston.save(term = \"cairolatex\", output = \"radec_hist_NEW_SANSSERIF.tex\", saveopts = \"pdf standalone color dashed transparent size 7in,5in font ',14'\")\n",
    "#run(`pdflatex radec_hist_NEW_SANSSERIF.tex`)"
   ]
  },
  {
   "cell_type": "code",
   "execution_count": 117,
   "metadata": {},
   "outputs": [
    {
     "data": {
      "text/plain": [
       "7902"
      ]
     },
     "execution_count": 117,
     "metadata": {},
     "output_type": "execute_result"
    }
   ],
   "source": [
    "length(res_α)"
   ]
  },
  {
   "cell_type": "code",
   "execution_count": 118,
   "metadata": {},
   "outputs": [
    {
     "data": {
      "text/plain": [
       "(0.008934276395781031, 1.1869873002946274)"
      ]
     },
     "execution_count": 118,
     "metadata": {},
     "output_type": "execute_result"
    }
   ],
   "source": [
    "mean(w_α.*res_α(x_OR7)), std(w_α.*res_α(x_OR7))"
   ]
  },
  {
   "cell_type": "code",
   "execution_count": 119,
   "metadata": {},
   "outputs": [
    {
     "data": {
      "text/plain": [
       "(0.008937100457855082, 0.8586947146735813)"
      ]
     },
     "execution_count": 119,
     "metadata": {},
     "output_type": "execute_result"
    }
   ],
   "source": [
    "mean(w_δ.*res_δ(x_OR7)), std(w_δ.*res_δ(x_OR7))"
   ]
  },
  {
   "cell_type": "code",
   "execution_count": 120,
   "metadata": {},
   "outputs": [
    {
     "data": {
      "text/plain": [
       "(-0.06122007765940242, 0.2926540688273816)"
      ]
     },
     "execution_count": 120,
     "metadata": {},
     "output_type": "execute_result"
    }
   ],
   "source": [
    "mean(res_τ(x_OR7)), std(res_τ(x_OR7))"
   ]
  },
  {
   "cell_type": "code",
   "execution_count": 121,
   "metadata": {},
   "outputs": [
    {
     "data": {
      "text/plain": [
       "(-0.024692059275373126, 0.0622351038769055)"
      ]
     },
     "execution_count": 121,
     "metadata": {},
     "output_type": "execute_result"
    }
   ],
   "source": [
    "mean(res_ν(x_OR7)), std(res_ν(x_OR7))"
   ]
  },
  {
   "cell_type": "markdown",
   "metadata": {},
   "source": [
    "## OR6"
   ]
  },
  {
   "cell_type": "code",
   "execution_count": 122,
   "metadata": {},
   "outputs": [
    {
     "data": {
      "text/plain": [
       "(-16.113764856196426, 71.85630400172278)"
      ]
     },
     "execution_count": 122,
     "metadata": {},
     "output_type": "execute_result"
    }
   ],
   "source": [
    "mean(res_τ(x_OR6)), std(res_τ(x_OR6))"
   ]
  },
  {
   "cell_type": "code",
   "execution_count": 123,
   "metadata": {},
   "outputs": [
    {
     "data": {
      "text/plain": [
       "(0.04852791536752542, 0.247142244843247)"
      ]
     },
     "execution_count": 123,
     "metadata": {},
     "output_type": "execute_result"
    }
   ],
   "source": [
    "mean(res_ν(x_OR6)), std(res_ν(x_OR6))"
   ]
  },
  {
   "cell_type": "code",
   "execution_count": null,
   "metadata": {},
   "outputs": [],
   "source": []
  },
  {
   "cell_type": "code",
   "execution_count": 124,
   "metadata": {},
   "outputs": [],
   "source": [
    "ind_del_0506 = 1:2\n",
    "ind_del_1213 = 3:17\n",
    "ind_del_2121 = 18:20 #18:19\n",
    "\n",
    "ind_dop_0506 = 1:5\n",
    "ind_dop_1213 = 6:29\n",
    "ind_dop_2121 = 30:30\n",
    ";"
   ]
  },
  {
   "cell_type": "code",
   "execution_count": null,
   "metadata": {},
   "outputs": [],
   "source": []
  },
  {
   "cell_type": "code",
   "execution_count": 125,
   "metadata": {},
   "outputs": [
    {
     "data": {
      "text/plain": [
       "(20, 30)"
      ]
     },
     "execution_count": 125,
     "metadata": {},
     "output_type": "execute_result"
    }
   ],
   "source": [
    "del_index = findall(x->x, deldop_all.delay_index)\n",
    "dop_index = findall(x->x, deldop_all.doppler_index)\n",
    "length(del_index), length(dop_index)"
   ]
  },
  {
   "cell_type": "code",
   "execution_count": 126,
   "metadata": {},
   "outputs": [
    {
     "data": {
      "text/plain": [
       "38"
      ]
     },
     "execution_count": 126,
     "metadata": {},
     "output_type": "execute_result"
    }
   ],
   "source": [
    "nrow(deldop_all)"
   ]
  },
  {
   "cell_type": "code",
   "execution_count": 127,
   "metadata": {},
   "outputs": [
    {
     "data": {
      "text/plain": [
       "(20, 30)"
      ]
     },
     "execution_count": 127,
     "metadata": {},
     "output_type": "execute_result"
    }
   ],
   "source": [
    "del_dates_plot_ = (deldop_all |> @filter(_.delay_index) |> DataFrame).dt_utc_obs\n",
    "dop_dates_plot_ = (deldop_all |> @filter(_.doppler_index) |> DataFrame).dt_utc_obs\n",
    "\n",
    "del_dates_plot = Dates.format.(del_dates_plot_, \"dd/mm/yy HHMM\")\n",
    "dop_dates_plot = Dates.format.(dop_dates_plot_, \"dd/mm/yy HHMM\")\n",
    "\n",
    "length(del_dates_plot), length(dop_dates_plot)"
   ]
  },
  {
   "cell_type": "markdown",
   "metadata": {},
   "source": [
    "# Plots: radar astrometry post-fit residuals"
   ]
  },
  {
   "cell_type": "code",
   "execution_count": 128,
   "metadata": {},
   "outputs": [
    {
     "data": {
      "image/png": "[encoded data removed]"
     },
     "execution_count": 128,
     "metadata": {},
     "output_type": "execute_result"
    }
   ],
   "source": [
    "p1 = Gaston.plot(\n",
    "    del_index,\n",
    "    res_τ(x_OR6),\n",
    "    supp = σ_del_all,\n",
    "    key=\"box spacing 1.2 height 0.4\", #at screen 0.835, screen 0.78 \n",
    "    curveconf = \"u 1:2:3 w errorbars pt 6 lw 4 tit 'gravity-only'\",\n",
    "    Axes(\n",
    "        #axesconf=\"set lmargin at screen 0.15; set rmargin at screen 0.95; set bmargin at screen 0.5\",\n",
    "        axesconf=\"set lmargin at screen 0.11\",\n",
    "        #linetype = :tab10,\n",
    "        bars = 2,\n",
    "        ylabel = \"'Time-delay resid. \\$[\\$us\\$]\\$'\",\n",
    "        xrange = (0,39),\n",
    "        xtics = \"1,2,40\",\n",
    "        format = \"y '%1.1f'\",\n",
    "        yrange=(-7,8),\n",
    "        label=\"1 '(a)' at graph 0.05,0.9\"#,\n",
    "        #title = \"'gravity-only'\"\n",
    "    ),\n",
    "    handle = 1\n",
    ")\n",
    "Gaston.plot!(\n",
    "    del_index,\n",
    "    res_τ(x_OR7),\n",
    "    supp = σ_del_all,\n",
    "    curveconf = \"u 1:2:3 w errorbars pt 4 lw 4 tit 'non-gravitational'\",\n",
    "    lc = 2\n",
    ")\n",
    "\n",
    "p2 = Gaston.plot(\n",
    "    dop_index,\n",
    "    res_ν(x_OR6),\n",
    "    supp = σ_dop_all,\n",
    "    curveconf = \"u 1:2:3 w errorbars pt 6 lw 4 tit 'gravity-only'\",\n",
    "    key=\"box spacing 1.2 height 0.4\",\n",
    "    Axes(\n",
    "        #axesconf=\"set lmargin at screen 0.15; set rmargin at screen 0.95; set tmargin at screen 0.5\",\n",
    "        axesconf=\"set lmargin at screen 0.11\",\n",
    "        #linetype = :tab10,\n",
    "        bars = 2,\n",
    "        ylabel = \"'Doppler shift resid. \\$[\\$Hz\\$]\\$'\",\n",
    "        xrange = (0,39),\n",
    "        xtics = \"1,2,40\",\n",
    "        format = \"y '%1.1f'\",\n",
    "        yrange=(-0.6,0.8),\n",
    "        label=\"1 '(b)' at graph 0.05,0.9\" #,\n",
    "        # title = \"'non-gravitational'\"\n",
    "    ),\n",
    "    handle = 2\n",
    ")\n",
    "Gaston.plot!(\n",
    "    dop_index,\n",
    "    res_ν(x_OR7),\n",
    "    supp = σ_dop_all,\n",
    "    curveconf = \"u 1:2:3 w errorbars pt 4 lw 4 tit 'non-gravitational'\",\n",
    "    lc = 2\n",
    ")\n",
    "\n",
    "\n",
    "Gaston.plot([p1; p2])\n",
    "\n",
    "#Gaston.save(term = \"cairolatex\", output = \"deldop_residuals.tex\", saveopts = \"pdf standalone color dashed transparent size 10in,7in font ',14'\")\n",
    "#run(`pdflatex deldop_residuals.tex`)"
   ]
  },
  {
   "cell_type": "code",
   "execution_count": null,
   "metadata": {},
   "outputs": [],
   "source": []
  },
  {
   "cell_type": "code",
   "execution_count": 129,
   "metadata": {},
   "outputs": [],
   "source": [
    "deldop_dates_plot_xaxis = vcat(\"01/06/04 0000\", del_dates_plot, \"31/03/21 2359\");"
   ]
  },
  {
   "cell_type": "code",
   "execution_count": 130,
   "metadata": {},
   "outputs": [
    {
     "data": {
      "image/png": "[encoded data removed]"
     },
     "execution_count": 130,
     "metadata": {},
     "output_type": "execute_result"
    }
   ],
   "source": [
    "tmargin_bmargin_gap = 0.03\n",
    "bmargin_ths_plt = 0.5 + tmargin_bmargin_gap\n",
    "tmargin_ths_plt = 0.965\n",
    "axsbrk_v = 1.25*0.01\n",
    "axsbrk_h = 1.25*0.005\n",
    "lw_ths_plt = 3\n",
    "rmargin_ths_plt = 0.3\n",
    "\n",
    "p1 = Gaston.plot(\n",
    "    del_dates_plot,\n",
    "    res_τ(x_OR6),\n",
    "    supp = σ_del_all,\n",
    "    curveconf = \"u 1:3:4 w errorbars pt 6 lw $lw_ths_plt\",\n",
    "    Axes(\n",
    "        #linetype = :tab10,\n",
    "        axesconf = \"set rmargin at screen 0.3; set tmargin at screen $tmargin_ths_plt; set bmargin at screen $bmargin_ths_plt\",\n",
    "        xdata   = \"time\",\n",
    "        timefmt = \"'%d/%m/%y %H%M'\",\n",
    "        xtics = false, #\"format '' time (\\\"01/01/05\\\",\\\"01/01/06\\\")\", # '%d/%b/%y'\n",
    "        xrange = \"[\\\"01/12/04\\\":\\\"30/05/06\\\"]\",\n",
    "        #xlabel  = \"\\\"Date\\\"\",\n",
    "        bars = false, #2,\n",
    "        ylabel = \"'Time-delay resid. (O-C) [\\$\\\\mu\\$s]'\",\n",
    "        border = \"1+2+4\",\n",
    "        ytics = [\"nomirror\", \"format '%1.1f'\"],\n",
    "        yrange = \"[-8.0:6.0]\",\n",
    "        arrow = [\n",
    "            \"from screen 0.3-$axsbrk_h,$bmargin_ths_plt-$axsbrk_v to screen 0.3+$axsbrk_h,$bmargin_ths_plt+$axsbrk_v nohead\",\n",
    "            \"from screen 0.3-$axsbrk_h,$tmargin_ths_plt-$axsbrk_v to screen 0.3+$axsbrk_h,$tmargin_ths_plt+$axsbrk_v nohead\"\n",
    "            ],\n",
    "        label=\"1 '(a)' at graph 0.2,0.9\",\n",
    "        grid=false\n",
    "        #arrow = \"from screen 0.3-0.01,1.0-0.01 to screen 0.3+0.01,1.0+0.01 nohead\"\n",
    "        #format = \"x ''\"\n",
    "        #title = \"'Time-delay resid. (O-C)'\"\n",
    "    ),\n",
    "    handle = 1\n",
    ")\n",
    "Gaston.plot!(\n",
    "    del_dates_plot,\n",
    "    res_τ(x_OR7),\n",
    "    supp = σ_del_all,\n",
    "    curveconf = \"u 1:3:4 w errorbars pt 4 lw $lw_ths_plt\",\n",
    "    lc = 2\n",
    ")\n",
    "Gaston.plot!(deldop_dates_plot_xaxis, zeros(length(deldop_dates_plot_xaxis)), curveconf=\" u 1:3 w l lc rgb 'gray' lw 4 dt 2\")\n",
    "\n",
    "p2 = Gaston.plot(\n",
    "    del_dates_plot,\n",
    "    res_τ(x_OR6),\n",
    "    supp = σ_del_all,\n",
    "    curveconf = \"u 1:3:4 w errorbars pt 6 lw $lw_ths_plt\",\n",
    "    Axes(\n",
    "        #linetype = :tab10,\n",
    "        xdata   = \"time\",\n",
    "        timefmt = \"'%d/%m/%y %H%M'\",\n",
    "        axesconf = \"set lmargin at screen 0.35; set tmargin at screen $tmargin_ths_plt; set rmargin at screen 0.8; set bmargin at screen $bmargin_ths_plt\",\n",
    "        xtics = false, #\"format '' time (\\\"01/01/13\\\",\\\"01/02/13\\\",\\\"01/03/13\\\")\", # '%d/%b/%y'\n",
    "        xrange = \"[\\\"15/12/12\\\":\\\"20/03/13\\\"]\",\n",
    "        #xlabel  = \"\\\"Date\\\"\",\n",
    "        bars = false, #2,\n",
    "        #tics=\"scale 0\",\n",
    "        ytics = false, #[false, \"(\\\"\\\" 0)\"], #\"nomirror\",\n",
    "        border = \"1+4\",\n",
    "        yrange = \"[-8.0:6.0]\",\n",
    "        format = [\"x ''\", \"y ''\"], #%1.1f\n",
    "        arrow = [\n",
    "            \"from screen 0.35-$axsbrk_h,$bmargin_ths_plt-$axsbrk_v to screen 0.35+$axsbrk_h,$bmargin_ths_plt+$axsbrk_v nohead\",\n",
    "            \"from screen 0.35-$axsbrk_h,$tmargin_ths_plt-$axsbrk_v to screen 0.35+$axsbrk_h,$tmargin_ths_plt+$axsbrk_v nohead\",\n",
    "            \"from screen 0.80-$axsbrk_h,$bmargin_ths_plt-$axsbrk_v to screen 0.80+$axsbrk_h,$bmargin_ths_plt+$axsbrk_v nohead\",\n",
    "            \"from screen 0.80-$axsbrk_h,$tmargin_ths_plt-$axsbrk_v to screen 0.80+$axsbrk_h,$tmargin_ths_plt+$axsbrk_v nohead\"\n",
    "            ],\n",
    "        #ylabel = \"'[us]'\"\n",
    "    ),\n",
    "    handle = 2\n",
    ")\n",
    "Gaston.plot!(\n",
    "    del_dates_plot,\n",
    "    res_τ(x_OR7),\n",
    "    supp = σ_del_all,\n",
    "    curveconf = \"u 1:3:4 w errorbars pt 4 lw $lw_ths_plt\",\n",
    "    lc = 2\n",
    ")\n",
    "Gaston.plot!(deldop_dates_plot_xaxis, zeros(length(deldop_dates_plot_xaxis)), curveconf=\" u 1:3 w l lc rgb 'gray' lw 4 dt 2\")\n",
    "\n",
    "p3 = Gaston.plot(\n",
    "    del_dates_plot,\n",
    "    res_τ(x_OR6),\n",
    "    supp = σ_del_all,\n",
    "    curveconf = \"u 1:3:4 w errorbars pt 6 lw $lw_ths_plt\",\n",
    "    Axes(\n",
    "        #linetype = :tab10,\n",
    "        xdata   = \"time\",\n",
    "        timefmt = \"'%d/%m/%y %H%M'\",\n",
    "        axesconf = \"set lmargin at screen 0.85; set tmargin at screen 0.965; set bmargin at screen $bmargin_ths_plt\",\n",
    "        xtics = false, #\"format '' time (\\\"03/03/21\\\",\\\"11/03/21\\\")\", #'%d/%b/%y'\n",
    "        xrange = \"[\\\"02/03/21\\\":\\\"15/03/21\\\"]\",\n",
    "        #xlabel = \"\\\"Date\\\"\",\n",
    "        bars = false, #2,\n",
    "        #tics=\"scale 0\",\n",
    "        ytics = false, #[false, \"(\\\"\\\" 0)\"], #\"nomirror\",\n",
    "        border = \"1+4+8\",\n",
    "        yrange = \"[-8.0:6.0]\",\n",
    "        format = [\"x ''\", \"y ''\"], #%1.1f\n",
    "        arrow = [\n",
    "            \"from screen 0.85-$axsbrk_h,$bmargin_ths_plt-$axsbrk_v to screen 0.85+$axsbrk_h,$bmargin_ths_plt+$axsbrk_v nohead\",\n",
    "            \"from screen 0.85-$axsbrk_h,$tmargin_ths_plt-$axsbrk_v to screen 0.85+$axsbrk_h,$tmargin_ths_plt+$axsbrk_v nohead\"\n",
    "            ],\n",
    "        #ylabel = \"'[us]'\"\n",
    "    ),\n",
    "    handle = 3\n",
    ")\n",
    "Gaston.plot!(\n",
    "    del_dates_plot,\n",
    "    res_τ(x_OR7),\n",
    "    supp = σ_del_all,\n",
    "    curveconf = \"u 1:3:4 w errorbars pt 4 lw $lw_ths_plt\",\n",
    "    lc = 2\n",
    ")\n",
    "Gaston.plot!(deldop_dates_plot_xaxis, zeros(length(deldop_dates_plot_xaxis)), curveconf=\" u 1:3 w l lc rgb 'gray' lw 4 dt 2\")\n",
    "\n",
    "Gaston.plot([p1 p2 p3])\n",
    "\n",
    "#Gaston.save(term = \"cairolatex\", output = \"del_resids.tex\", saveopts = \"pdf standalone color dashed transparent size 10in,7in font ',14'\")\n",
    "#run(`pdflatex del_resids.tex`)"
   ]
  },
  {
   "cell_type": "code",
   "execution_count": 131,
   "metadata": {},
   "outputs": [
    {
     "data": {
      "image/png": "[encoded data removed]"
     },
     "execution_count": 131,
     "metadata": {},
     "output_type": "execute_result"
    }
   ],
   "source": [
    "tmargin_ths_plt = 0.5 - tmargin_bmargin_gap\n",
    "bmargin_ths_plt = 0.05\n",
    "\n",
    "Gaston.set(preamble=\"unset grid\")\n",
    "p4 = Gaston.plot(\n",
    "    dop_dates_plot,\n",
    "    res_ν(x_OR6),\n",
    "    supp = σ_dop_all,\n",
    "    curveconf = \"u 1:3:4 w errorbars pt 6 lw $lw_ths_plt\",\n",
    "    Axes(\n",
    "        #linetype = :tab10,\n",
    "        axesconf=\"set rmargin at screen $rmargin_ths_plt; set tmargin at screen $tmargin_ths_plt; set bmargin at screen $bmargin_ths_plt\",\n",
    "        xdata   = \"time\",\n",
    "        timefmt = \"'%d/%m/%y %H%M'\",\n",
    "        xtics = \"format '%d/%b/%y' time (\\\"01/01/05\\\",\\\"01/01/06\\\")\",\n",
    "        xrange = \"[\\\"01/12/04\\\":\\\"30/05/06\\\"]\",\n",
    "        #xlabel  = \"\\\"Date\\\"\",\n",
    "        bars = false,#2,\n",
    "        ylabel = \"'Doppler shift resid. (O-C) [Hz]'\",\n",
    "        border=\"1+2+4\",\n",
    "        ytics = [\"nomirror\", \"format '%1.1f'\"],\n",
    "        yrange=\"[-0.5:0.5]\",\n",
    "        arrow = [\n",
    "            \"from screen 0.3-$axsbrk_h,$tmargin_ths_plt-$axsbrk_v to screen 0.3+$axsbrk_h,$tmargin_ths_plt+$axsbrk_v nohead\",\n",
    "            \"from screen 0.3-$axsbrk_h,$bmargin_ths_plt-$axsbrk_v to screen 0.3+$axsbrk_h,$bmargin_ths_plt+$axsbrk_v nohead\"\n",
    "            ],\n",
    "        label=\"1 '(b)' at graph 0.2,0.9\"\n",
    "        #title = \"'Doppler shift resid. (O-C)'\"\n",
    "    ),\n",
    "    handle = 4\n",
    ")\n",
    "Gaston.plot!(\n",
    "    dop_dates_plot,\n",
    "    res_ν(x_OR7),\n",
    "    supp = σ_dop_all,\n",
    "    curveconf = \"u 1:3:4 w errorbars pt 4 lw $lw_ths_plt\",\n",
    "    lc = 2\n",
    ")\n",
    "Gaston.plot!(deldop_dates_plot_xaxis, zeros(length(deldop_dates_plot_xaxis)), curveconf=\" u 1:3 w l lc rgb 'gray' lw 4 dt 2\")\n",
    "\n",
    "p5 = Gaston.plot(\n",
    "    dop_dates_plot,\n",
    "    res_ν(x_OR6),\n",
    "    supp = σ_dop_all,\n",
    "    curveconf = \"u 1:3:4 w errorbars pt 6 lw $lw_ths_plt\",\n",
    "    Axes(\n",
    "        #linetype = :tab10,\n",
    "        xdata   = \"time\",\n",
    "        timefmt = \"'%d/%m/%y %H%M'\",\n",
    "        axesconf=\"set lmargin at screen $rmargin_ths_plt+0.05; set rmargin at screen 0.8; set tmargin at screen $tmargin_ths_plt; set bmargin at screen $bmargin_ths_plt\",\n",
    "        xtics=\"format '%d/%b/%y' time (\\\"01/01/13\\\",\\\"01/02/13\\\",\\\"01/03/13\\\")\",\n",
    "        xrange=\"[\\\"15/12/12\\\":\\\"20/03/13\\\"]\",\n",
    "        #xlabel  = \"\\\"Date\\\"\",\n",
    "        bars = false, #2,\n",
    "        ytics=false,\n",
    "        border=\"1+4\",\n",
    "        yrange=\"[-0.5:0.5]\",\n",
    "        arrow = [\n",
    "            \"from screen 0.35-$axsbrk_h,$tmargin_ths_plt-$axsbrk_v to screen 0.35+$axsbrk_h,$tmargin_ths_plt+$axsbrk_v nohead\",\n",
    "            \"from screen 0.35-$axsbrk_h,$bmargin_ths_plt-$axsbrk_v to screen 0.35+$axsbrk_h,$bmargin_ths_plt+$axsbrk_v nohead\",\n",
    "            \"from screen 0.8-$axsbrk_h,$tmargin_ths_plt-$axsbrk_v to screen 0.8+$axsbrk_h,$tmargin_ths_plt+$axsbrk_v nohead\",\n",
    "            \"from screen 0.8-$axsbrk_h,$bmargin_ths_plt-$axsbrk_v to screen 0.8+$axsbrk_h,$bmargin_ths_plt+$axsbrk_v nohead\"\n",
    "            ],\n",
    "        #ylabel = \"'[Hz]'\"\n",
    "    ),\n",
    "    handle = 5\n",
    ")\n",
    "Gaston.plot!(\n",
    "    dop_dates_plot,\n",
    "    res_ν(x_OR7),\n",
    "    supp = σ_dop_all,\n",
    "    curveconf = \"u 1:3:4 w errorbars pt 4 lw $lw_ths_plt\",\n",
    "    lc = 2\n",
    ")\n",
    "Gaston.plot!(deldop_dates_plot_xaxis, zeros(length(deldop_dates_plot_xaxis)), curveconf=\" u 1:3 w l lc rgb 'gray' lw 4 dt 2\")\n",
    "\n",
    "p6 = Gaston.plot(\n",
    "    dop_dates_plot,\n",
    "    res_ν(x_OR6),\n",
    "    supp = σ_dop_all,\n",
    "    curveconf = \"u 1:3:4 w errorbars pt 6 lw $lw_ths_plt\",\n",
    "    Axes(\n",
    "        #linetype = :tab10,\n",
    "        xdata   = \"time\",\n",
    "        timefmt = \"'%d/%m/%y %H%M'\",\n",
    "        axesconf=\"set lmargin at screen 0.85; set tmargin at screen $tmargin_ths_plt; set bmargin at screen $bmargin_ths_plt\",\n",
    "        xtics=\"format '%d/%b/%y' time (\\\"03/03/21\\\",\\\"13/03/21\\\")\",\n",
    "        xrange=\"[\\\"02/03/21\\\":\\\"15/03/21\\\"]\",\n",
    "        #xlabel  = \"\\\"Date\\\"\",\n",
    "        bars = false, #2,\n",
    "        #format=\"y ''\",\n",
    "        ytics=false,\n",
    "        border=\"1+4+8\",\n",
    "        yrange=\"[-0.5:0.5]\",\n",
    "        arrow = [\n",
    "            \"from screen 0.85-$axsbrk_h,$tmargin_ths_plt-$axsbrk_v to screen 0.85+$axsbrk_h,$tmargin_ths_plt+$axsbrk_v nohead\",\n",
    "            \"from screen 0.85-$axsbrk_h,$bmargin_ths_plt-$axsbrk_v to screen 0.85+$axsbrk_h,$bmargin_ths_plt+$axsbrk_v nohead\"\n",
    "            ],\n",
    "        #ylabel = \"'[Hz]'\"\n",
    "    ),\n",
    "    handle = 6\n",
    ")\n",
    "Gaston.plot!(\n",
    "    dop_dates_plot,\n",
    "    res_ν(x_OR7),\n",
    "    supp = σ_dop_all,\n",
    "    curveconf = \"u 1:3:4 w errorbars pt 4 lw $lw_ths_plt\",\n",
    "    lc = 2\n",
    ")\n",
    "Gaston.plot!(deldop_dates_plot_xaxis, zeros(length(deldop_dates_plot_xaxis)), curveconf=\" u 1:3 w l lc rgb 'gray' lw 4 dt 2\")\n",
    "\n",
    "Gaston.plot([p4 p5 p6])\n",
    "\n",
    "#Gaston.save(term = \"cairolatex\", output = \"dop_resids.tex\", saveopts = \"pdf standalone color dashed transparent size 10in,7in font ',14'\")\n",
    "#run(`pdflatex dop_resids.tex`)"
   ]
  },
  {
   "cell_type": "code",
   "execution_count": 133,
   "metadata": {},
   "outputs": [
    {
     "name": "stdout",
     "output_type": "stream",
     "text": [
      "This is pdfTeX, Version 3.14159265-2.6-1.40.21 (TeX Live 2020) (preloaded format=pdflatex)\n",
      " restricted \\write18 enabled.\n",
      "entering extended mode\n",
      "(./deldop_residuals_dates_NEW_SANSSERIF.tex\n",
      "LaTeX2e <2020-02-02> patch level 5\n",
      "L3 programming layer <2020-03-06>\n",
      "(/usr/local/texlive/2020/texmf-dist/tex/latex/base/minimal.cls\n",
      "Document Class: minimal 2001/05/25 Standard LaTeX minimal class\n",
      ") (/usr/local/texlive/2020/texmf-dist/tex/latex/extsizes/size14.clo)\n",
      "(/usr/local/texlive/2020/texmf-dist/tex/latex/tools/calc.sty)\n",
      "(/usr/local/texlive/2020/texmf-dist/tex/latex/graphics/graphicx.sty\n",
      "(/usr/local/texlive/2020/texmf-dist/tex/latex/graphics/keyval.sty)\n",
      "(/usr/local/texlive/2020/texmf-dist/tex/latex/graphics/graphics.sty\n",
      "(/usr/local/texlive/2020/texmf-dist/tex/latex/graphics/trig.sty)\n",
      "(/usr/local/texlive/2020/texmf-dist/tex/latex/graphics-cfg/graphics.cfg)\n",
      "(/usr/local/texlive/2020/texmf-dist/tex/latex/graphics-def/pdftex.def)))\n",
      "(/usr/local/texlive/2020/texmf-dist/tex/latex/graphics/color.sty\n",
      "(/usr/local/texlive/2020/texmf-dist/tex/latex/graphics-cfg/color.cfg))\n",
      "(/usr/local/texlive/2020/texmf-dist/tex/latex/transparent/transparent.sty\n",
      "(/usr/local/texlive/2020/texmf-dist/tex/generic/iftex/iftex.sty)\n",
      "(/usr/local/texlive/2020/texmf-dist/tex/latex/auxhook/auxhook.sty))\n",
      "(/usr/local/texlive/2020/texmf-dist/tex/latex/geometry/geometry.sty\n",
      "(/usr/local/texlive/2020/texmf-dist/tex/generic/iftex/ifvtex.sty))\n",
      "Using configuration file gnuplot.cfg\n",
      "(./gnuplot.cfg (/usr/local/texlive/2020/texmf-dist/tex/latex/psnfss/helvet.sty)\n",
      " (/usr/local/texlive/2020/texmf-dist/tex/latex/newtxsf/newtxsf.sty\n",
      "`newtxsf' v1.051, 2018/06/07 Math macros based on STIX sans serif and txfonts (\n",
      "msharpe) (/usr/local/texlive/2020/texmf-dist/tex/latex/amsmath/amsmath.sty\n",
      "For additional information on amsmath, use the `?' option.\n",
      "(/usr/local/texlive/2020/texmf-dist/tex/latex/amsmath/amstext.sty\n",
      "(/usr/local/texlive/2020/texmf-dist/tex/latex/amsmath/amsgen.sty))\n",
      "(/usr/local/texlive/2020/texmf-dist/tex/latex/amsmath/amsbsy.sty)\n",
      "(/usr/local/texlive/2020/texmf-dist/tex/latex/amsmath/amsopn.sty))\n",
      "(/usr/local/texlive/2020/texmf-dist/tex/latex/xkeyval/xkeyval.sty\n",
      "(/usr/local/texlive/2020/texmf-dist/tex/generic/xkeyval/xkeyval.tex\n",
      "(/usr/local/texlive/2020/texmf-dist/tex/generic/xkeyval/xkvutils.tex)))\n",
      "(/usr/local/texlive/2020/texmf-dist/tex/generic/kastrup/binhex.tex)))\n",
      "(/usr/local/texlive/2020/texmf-dist/tex/latex/l3backend/l3backend-pdfmode.def)\n",
      "No file deldop_residuals_dates_NEW_SANSSERIF.aux.\n",
      "(/usr/local/texlive/2020/texmf-dist/tex/latex/newtxsf/omlntxsfmi.fd)\n",
      "(/usr/local/texlive/2020/texmf-dist/tex/latex/newtx/untxexa.fd)\n",
      "(/usr/local/texlive/2020/texmf-dist/tex/latex/newtx/lmsntxsy.fd)\n",
      "(/usr/local/texlive/2020/texmf-dist/tex/latex/psnfss/ot1phv.fd\n",
      "\n",
      "LaTeX Warning: Font shape declaration has incorrect series value `mc'.\n",
      "               It should not contain an `m'! Please correct it.\n",
      "               Found on input line 21.\n",
      "\n",
      "\n",
      "LaTeX Warning: Font shape declaration has incorrect series value `mc'.\n",
      "               It should not contain an `m'! Please correct it.\n",
      "               Found on input line 24.\n",
      "\n",
      "\n",
      "LaTeX Warning: Font shape declaration has incorrect series value `mc'.\n",
      "               It should not contain an `m'! Please correct it.\n",
      "               Found on input line 27.\n",
      "\n",
      "\n",
      "LaTeX Warning: Font shape declaration has incorrect series value `mc'.\n",
      "               It should not contain an `m'! Please correct it.\n",
      "               Found on input line 47.\n",
      "\n",
      ") (/usr/local/texlive/2020/texmf-dist/tex/context/base/mkii/supp-pdf.mkii\n",
      "[Loading MPS to PDF converter (version 2006.09.02).]\n",
      ") (/usr/local/texlive/2020/texmf-dist/tex/latex/epstopdf-pkg/epstopdf-base.sty\n",
      "(/usr/local/texlive/2020/texmf-dist/tex/latex/latexconfig/epstopdf-sys.cfg))\n",
      "*geometry* detected driver: pdftex\n",
      "(/usr/local/texlive/2020/texmf-dist/tex/latex/newtxsf/untxsfmia.fd)\n",
      "(/usr/local/texlive/2020/texmf-dist/tex/latex/newtx/untxsym.fd)\n",
      "(/usr/local/texlive/2020/texmf-dist/tex/latex/newtx/untxsyc.fd) [1{/usr/local/t\n",
      "exlive/2020/texmf-var/fonts/map/pdftex/updmap/pdftex.map} <./deldop_residuals_d\n",
      "ates_NEW_SANSSERIF-inc.pdf>] (./deldop_residuals_dates_NEW_SANSSERIF.aux) ){/us\n",
      "r/local/texlive/2020/texmf-dist/fonts/enc/dvips/base/8r.enc}</usr/local/texlive\n",
      "/2020/texmf-dist/fonts/type1/urw/helvetic/uhvr8a.pfb></usr/local/texlive/2020/t\n",
      "exmf-dist/fonts/type1/public/newtxsf/zsfmi-reg.pfb>\n",
      "Output written on deldop_residuals_dates_NEW_SANSSERIF.pdf (1 page, 15063 bytes\n",
      ").\n",
      "Transcript written on deldop_residuals_dates_NEW_SANSSERIF.log.\n"
     ]
    },
    {
     "data": {
      "text/plain": [
       "Process(`\u001b[4mpdflatex\u001b[24m \u001b[4mdeldop_residuals_dates_NEW_SANSSERIF.tex\u001b[24m`, ProcessExited(0))"
      ]
     },
     "execution_count": 133,
     "metadata": {},
     "output_type": "execute_result"
    }
   ],
   "source": [
    "Gaston.plot([p1 p2 p3; p4 p5 p6])\n",
    "\n",
    "Gaston.save(term = \"cairolatex\", output = \"deldop_residuals_dates_NEW_SANSSERIF.tex\", saveopts = \"pdf standalone color dashed transparent size 10in,7in font ',14'\")\n",
    "run(`pdflatex deldop_residuals_dates_NEW_SANSSERIF.tex`)"
   ]
  },
  {
   "cell_type": "markdown",
   "metadata": {},
   "source": [
    "# $\\Gamma$ matrix eigenvalues/vectors"
   ]
  },
  {
   "cell_type": "code",
   "execution_count": 45,
   "metadata": {},
   "outputs": [
    {
     "data": {
      "text/plain": [
       "8×8 Matrix{Float64}:\n",
       "  0.0           0.0           0.0          …   0.0           0.0         0.0\n",
       "  4.16556e-10   0.0           0.0              0.0           0.0         0.0\n",
       "  7.41766e-10   1.023e-10     0.0              0.0           0.0         0.0\n",
       " -4.63088e-12  -3.82079e-12  -5.531e-12        0.0           0.0         0.0\n",
       " -6.73996e-12  -6.01791e-12  -9.06659e-12      0.0           0.0         0.0\n",
       "  1.16962e-11   3.63038e-12   3.43675e-12  …   0.0           0.0         0.0\n",
       "  8.39457e-12  -9.51664e-12  -1.87687e-11     -3.40827e-13   0.0         0.0\n",
       " -4.04559e-8   -1.46739e-8   -1.58527e-8      -6.72555e-11  -1.20892e-9  0.0"
      ]
     },
     "execution_count": 45,
     "metadata": {},
     "output_type": "execute_result"
    }
   ],
   "source": [
    "Hermitian(Γ_OR7) - Γ_OR7"
   ]
  },
  {
   "cell_type": "code",
   "execution_count": 46,
   "metadata": {},
   "outputs": [
    {
     "data": {
      "text/plain": [
       "4.588766203044517e-8"
      ]
     },
     "execution_count": 46,
     "metadata": {},
     "output_type": "execute_result"
    }
   ],
   "source": [
    "norm(Hermitian(Γ_OR7) - Γ_OR7)"
   ]
  },
  {
   "cell_type": "code",
   "execution_count": 47,
   "metadata": {},
   "outputs": [
    {
     "data": {
      "text/plain": [
       "Cholesky{Float64, Matrix{Float64}}\n",
       "U factor:\n",
       "8×8 UpperTriangular{Float64, Matrix{Float64}}:\n",
       " 0.752234  0.054979  -0.41847    0.000511845  …  0.00147843    12.0307\n",
       "  ⋅        0.371432   0.725277  -0.00289847      0.0110386    -34.0141\n",
       "  ⋅         ⋅         0.355482   0.00505045      0.0165342      6.91759\n",
       "  ⋅         ⋅          ⋅         0.00247201      0.00358721     6.22233\n",
       "  ⋅         ⋅          ⋅          ⋅              0.00737121     0.00254605\n",
       "  ⋅         ⋅          ⋅          ⋅           …  0.000135268    0.126605\n",
       "  ⋅         ⋅          ⋅          ⋅              0.0135124      0.0698381\n",
       "  ⋅         ⋅          ⋅          ⋅               ⋅             0.00411503"
      ]
     },
     "execution_count": 47,
     "metadata": {},
     "output_type": "execute_result"
    }
   ],
   "source": [
    "Γ_OR7_cholf = cholesky(Hermitian(Γ_OR7))"
   ]
  },
  {
   "cell_type": "code",
   "execution_count": 48,
   "metadata": {},
   "outputs": [
    {
     "data": {
      "text/plain": [
       "8×8 LowerTriangular{Float64, Matrix{Float64}}:\n",
       "  0.752234        ⋅          …   ⋅            ⋅          ⋅ \n",
       "  0.054979       0.371432        ⋅            ⋅          ⋅ \n",
       " -0.41847        0.725277        ⋅            ⋅          ⋅ \n",
       "  0.000511845   -0.00289847      ⋅            ⋅          ⋅ \n",
       "  0.00897665    -0.00582209      ⋅            ⋅          ⋅ \n",
       "  0.00683826     0.00804182  …  0.00177787    ⋅          ⋅ \n",
       "  0.00147843     0.0110386      0.000135268  0.0135124   ⋅ \n",
       " 12.0307       -34.0141         0.126605     0.0698381  0.00411503"
      ]
     },
     "execution_count": 48,
     "metadata": {},
     "output_type": "execute_result"
    }
   ],
   "source": [
    "Γ_OR7_cU = Γ_OR7_cholf.U\n",
    "Γ_OR7_cL = Γ_OR7_cholf.L"
   ]
  },
  {
   "cell_type": "code",
   "execution_count": 49,
   "metadata": {},
   "outputs": [
    {
     "name": "stdout",
     "output_type": "stream",
     "text": [
      "q0_OR7 = [-0.18034828623950797, 0.9406910608004124, 0.3457359932221028, -0.0162659398052771, 4.391544636661421e-5, -0.00039520398300021546, -2.896514988676593e-14, -1.4916918417716468e-12]\n"
     ]
    }
   ],
   "source": [
    "# Compute nominal initial condition in au, au/day, au/day^2\n",
    "q0_OR7 = [\n",
    "    -0.18034747703273316,\n",
    "    0.9406910666200128,\n",
    "    0.3457360259054398,\n",
    "    -0.016265942170279046,\n",
    "    4.392889725556651e-5,\n",
    "    -0.00039519931615139716,\n",
    "    0.0, 0.0\n",
    "] .+ vcat(1e-8ones(6), 1e-14, 1e-13).*x_OR7\n",
    "@show q0_OR7\n",
    ";"
   ]
  },
  {
   "cell_type": "code",
   "execution_count": 50,
   "metadata": {},
   "outputs": [],
   "source": [
    "# relative scalings analogous to Milani (2005)\n",
    "scaling_milani_2005 = vcat(  (1/norm(q0_OR7[1:3]))*ones(3), (1/norm(q0_OR7[4:6]))*ones(3), 1/norm(q0_OR7[7]), 1/norm(q0_OR7[8])  )\n",
    "\n",
    "# jet transport propagation scaling\n",
    "jt_scaling = vcat(1e-8ones(6), 1e-14, 1e-13)\n",
    ";"
   ]
  },
  {
   "cell_type": "code",
   "execution_count": 51,
   "metadata": {},
   "outputs": [
    {
     "data": {
      "text/plain": [
       "8×8 Matrix{Float64}:\n",
       "  5.45688e-17   3.9883e-18   -3.03568e-17  …   3.77048e-12   5.95777e-9\n",
       "  3.9883e-18    1.35959e-17   2.37602e-17      1.41762e-11  -7.88178e-9\n",
       " -3.03568e-17   2.37602e-17   7.98018e-17      4.49727e-11  -1.79361e-8\n",
       "  2.32381e-18  -6.32782e-18  -3.1447e-18       1.29718e-11   6.3889e-9\n",
       "  4.07547e-17  -1.00731e-17  -4.57552e-17     -6.49876e-12   1.29015e-8\n",
       "  3.10462e-17   2.02969e-17  -6.13907e-18  …  -2.14145e-11  -1.18498e-8\n",
       "  3.77048e-12   1.41762e-11   4.49727e-11      7.71437e-5   -0.00509184\n",
       "  5.95777e-9   -7.88178e-9   -1.79361e-8      -0.00509184    6.23909"
      ]
     },
     "execution_count": 51,
     "metadata": {},
     "output_type": "execute_result"
    }
   ],
   "source": [
    "# compute cov matrix with relative scalings\n",
    "Γ_OR7_scm05 = diagm(scaling_milani_2005) * ( diagm(jt_scaling)*Γ_OR7*diagm(jt_scaling) ) * diagm(scaling_milani_2005)"
   ]
  },
  {
   "cell_type": "code",
   "execution_count": 52,
   "metadata": {},
   "outputs": [
    {
     "data": {
      "text/plain": [
       "8×8 Matrix{Float64}:\n",
       "  4.17076e22  -2.1932e23   -7.88498e22  …   7.51873e14  -7.48594e14\n",
       " -2.1932e23    1.15386e24   4.14938e23     -3.95414e15   3.93913e15\n",
       " -7.88498e22   4.14938e23   1.49237e23     -1.42165e15   1.41669e15\n",
       "  2.12033e23  -1.11574e24  -4.01273e23      3.82285e15  -3.80928e15\n",
       " -2.43929e20   1.1331e21    3.80274e20     -4.32835e12   3.68179e12\n",
       "  5.78128e21  -3.04283e22  -1.09429e22  …   1.04255e14  -1.03885e14\n",
       "  7.51873e14  -3.95414e15  -1.42165e15      1.3591e7    -1.34968e7\n",
       " -7.48594e14   3.93913e15   1.41669e15     -1.34968e7    1.34486e7"
      ]
     },
     "execution_count": 52,
     "metadata": {},
     "output_type": "execute_result"
    }
   ],
   "source": [
    "# compute normal matrix with relative scalings\n",
    "C_OR7_scm05 = inv(Γ_OR7_scm05)"
   ]
  },
  {
   "cell_type": "code",
   "execution_count": 53,
   "metadata": {},
   "outputs": [
    {
     "data": {
      "text/plain": [
       "Eigen{Float64, Float64, Matrix{Float64}, Vector{Float64}}\n",
       "values:\n",
       "8-element Vector{Float64}:\n",
       "     0.16027974083022423\n",
       " 13700.866240137968\n",
       "     7.779147349061473e15\n",
       "     6.394856241153186e16\n",
       "     6.672432289643891e17\n",
       "     3.469395090264604e18\n",
       "     1.2004977954323472e20\n",
       "     2.4244984543340955e24\n",
       "vectors:\n",
       "8×8 Matrix{Float64}:\n",
       "  9.54908e-10  -1.18277e-7   -0.579494     …   0.489088     0.131113\n",
       " -1.26329e-9   -1.06095e-7   -0.114986        -0.420935    -0.689862\n",
       " -2.8748e-9    -4.1561e-7     0.287633         0.260036    -0.248093\n",
       "  1.02401e-9   -2.49163e-7    0.119643        -0.434592     0.667097\n",
       "  2.06785e-9   -5.52215e-8   -0.342022        -0.571378    -0.000660596\n",
       " -1.89927e-9    4.25897e-7   -0.661014     …  -0.0254142    0.0181931\n",
       " -0.000816128  -1.0          -3.31251e-7       7.74969e-9   2.36387e-9\n",
       "  1.0          -0.000816128   2.93933e-10      1.33336e-9  -2.35518e-9"
      ]
     },
     "execution_count": 53,
     "metadata": {},
     "output_type": "execute_result"
    }
   ],
   "source": [
    "# compute eigenvalues, eigenvectors of normal matrix with relative scalings\n",
    "C_eig_OR7_scm05 = eigen(C_OR7_scm05)"
   ]
  },
  {
   "cell_type": "code",
   "execution_count": 54,
   "metadata": {},
   "outputs": [
    {
     "data": {
      "text/plain": [
       "8-element Vector{Float64}:\n",
       "  2.385186733145141e-9\n",
       " -3.1554685805226565e-9\n",
       " -7.180715231230462e-9\n",
       "  2.5577873010071103e-9\n",
       "  5.1651078588300255e-9\n",
       " -4.744034406697102e-9\n",
       " -0.002038539197773416\n",
       "  2.497816554521262"
      ]
     },
     "execution_count": 54,
     "metadata": {},
     "output_type": "execute_result"
    }
   ],
   "source": [
    "# k₁ * V₁ = 1/√λ₁ * V₁\n",
    "k1_V1 = C_eig_OR7_scm05.vectors[:,1]/sqrt(C_eig_OR7_scm05.values[1])"
   ]
  },
  {
   "cell_type": "code",
   "execution_count": 55,
   "metadata": {},
   "outputs": [
    {
     "data": {
      "text/plain": [
       "8-element Vector{Float64}:\n",
       "  0.2428863363656864\n",
       " -0.321325031868498\n",
       " -0.7312205752121796\n",
       "  0.0041617244034487235\n",
       "  0.008404043375332229\n",
       " -0.007718923208891495\n",
       " -0.005904659341355457\n",
       " 37.259725766215304"
      ]
     },
     "execution_count": 55,
     "metadata": {},
     "output_type": "execute_result"
    }
   ],
   "source": [
    "# revert eigenvector of \"weak\" direction to JT scaling\n",
    "( k1_V1 ./ scaling_milani_2005 ) ./ jt_scaling"
   ]
  },
  {
   "cell_type": "code",
   "execution_count": 56,
   "metadata": {
    "tags": []
   },
   "outputs": [
    {
     "data": {
      "text/plain": [
       "8-element Vector{Taylor1{Float64}}:\n",
       "     2.428863363656864e-9 t + 𝒪(t¹¹)\n",
       "  - 3.2132503186849797e-9 t + 𝒪(t¹¹)\n",
       "   - 7.312205752121797e-9 t + 𝒪(t¹¹)\n",
       "    4.161724403448724e-11 t + 𝒪(t¹¹)\n",
       "    8.404043375332229e-11 t + 𝒪(t¹¹)\n",
       "  - 7.718923208891495e-11 t + 𝒪(t¹¹)\n",
       "  - 5.904659341355457e-17 t + 𝒪(t¹¹)\n",
       "   3.7259725766215305e-12 t + 𝒪(t¹¹)"
      ]
     },
     "execution_count": 56,
     "metadata": {},
     "output_type": "execute_result"
    }
   ],
   "source": [
    "Taylor1(10) * ( k1_V1 ./ scaling_milani_2005 )"
   ]
  },
  {
   "cell_type": "code",
   "execution_count": 57,
   "metadata": {},
   "outputs": [
    {
     "name": "stdout",
     "output_type": "stream",
     "text": [
      "k1_V1 ./ scaling_milani_2005 = [2.428863363656864e-9, -3.2132503186849797e-9, -7.312205752121797e-9, 4.161724403448724e-11, 8.404043375332229e-11, -7.718923208891495e-11, -5.904659341355457e-17, 3.7259725766215305e-12]\n"
     ]
    },
    {
     "data": {
      "text/plain": [
       "8-element Vector{Float64}:\n",
       "  2.428863363656864e-9\n",
       " -3.2132503186849797e-9\n",
       " -7.312205752121797e-9\n",
       "  4.161724403448724e-11\n",
       "  8.404043375332229e-11\n",
       " -7.718923208891495e-11\n",
       " -5.904659341355457e-17\n",
       "  3.7259725766215305e-12"
      ]
     },
     "execution_count": 57,
     "metadata": {},
     "output_type": "execute_result"
    }
   ],
   "source": [
    "@show ( ( k1_V1 ./ scaling_milani_2005 )  )  #./ jt_scaling"
   ]
  },
  {
   "cell_type": "code",
   "execution_count": 58,
   "metadata": {},
   "outputs": [
    {
     "data": {
      "text/plain": [
       "8-element Vector{Float64}:\n",
       "  0.7522338880632442\n",
       "  0.37547851319746384\n",
       "  0.9096766814739202\n",
       "  0.00634672400532853\n",
       "  0.010762551850102919\n",
       "  0.01581070641087624\n",
       "  0.025440518219777712\n",
       " 37.25972595006995"
      ]
     },
     "execution_count": 58,
     "metadata": {},
     "output_type": "execute_result"
    }
   ],
   "source": [
    "σ_OR7"
   ]
  },
  {
   "cell_type": "code",
   "execution_count": 59,
   "metadata": {},
   "outputs": [
    {
     "name": "stdout",
     "output_type": "stream",
     "text": [
      "x_OR7 .* jt_scaling = [-8.092067748142685e-7, -5.819600314656928e-9, -3.26833370065447e-8, 2.3650019466660918e-9, -1.345088895229519e-8, -4.666848818306236e-9, -2.896514988676593e-14, -1.4916918417716468e-12]\n"
     ]
    },
    {
     "data": {
      "text/plain": [
       "8-element Vector{Float64}:\n",
       " -8.092067748142685e-7\n",
       " -5.819600314656928e-9\n",
       " -3.26833370065447e-8\n",
       "  2.3650019466660918e-9\n",
       " -1.345088895229519e-8\n",
       " -4.666848818306236e-9\n",
       " -2.896514988676593e-14\n",
       " -1.4916918417716468e-12"
      ]
     },
     "execution_count": 59,
     "metadata": {},
     "output_type": "execute_result"
    }
   ],
   "source": [
    "@show x_OR7 .* jt_scaling"
   ]
  },
  {
   "cell_type": "code",
   "execution_count": 60,
   "metadata": {},
   "outputs": [],
   "source": [
    "#@show Γ_OR7"
   ]
  },
  {
   "cell_type": "code",
   "execution_count": null,
   "metadata": {},
   "outputs": [],
   "source": []
  },
  {
   "cell_type": "code",
   "execution_count": null,
   "metadata": {},
   "outputs": [],
   "source": []
  },
  {
   "cell_type": "code",
   "execution_count": null,
   "metadata": {},
   "outputs": [],
   "source": []
  },
  {
   "cell_type": "code",
   "execution_count": null,
   "metadata": {},
   "outputs": [],
   "source": []
  },
  {
   "cell_type": "code",
   "execution_count": null,
   "metadata": {},
   "outputs": [],
   "source": []
  },
  {
   "cell_type": "code",
   "execution_count": null,
   "metadata": {},
   "outputs": [],
   "source": []
  },
  {
   "cell_type": "code",
   "execution_count": null,
   "metadata": {},
   "outputs": [],
   "source": []
  }
 ],
 "metadata": {
  "kernelspec": {
   "display_name": "Julia 1.6.2",
   "language": "julia",
   "name": "julia-1.6"
  },
  "language_info": {
   "file_extension": ".jl",
   "mimetype": "application/julia",
   "name": "julia",
   "version": "1.6.2"
  }
 },
 "nbformat": 4,
 "nbformat_minor": 4
}
