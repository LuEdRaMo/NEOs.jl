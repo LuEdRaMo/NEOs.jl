{
 "cells": [
  {
   "cell_type": "code",
   "execution_count": 1,
   "metadata": {
    "scrolled": false
   },
   "outputs": [
    {
     "name": "stdout",
     "output_type": "stream",
     "text": [
      "/Users/Jorge/projects/Apophis/notebooks\n"
     ]
    }
   ],
   "source": [
    ";pwd"
   ]
  },
  {
   "cell_type": "code",
   "execution_count": 2,
   "metadata": {},
   "outputs": [],
   "source": [
    "]activate .."
   ]
  },
  {
   "cell_type": "code",
   "execution_count": 3,
   "metadata": {
    "scrolled": false
   },
   "outputs": [
    {
     "name": "stderr",
     "output_type": "stream",
     "text": [
      "┌ Info: Precompiling Apophis [b41c07a2-2abb-11e9-070a-c3c1b239e7df]\n",
      "└ @ Base loading.jl:1186\n"
     ]
    },
    {
     "name": "stdout",
     "output_type": "stream",
     "text": [
      "length(methods(RNp1BP_pN_A_J234E_J2S_ng!)) = 1\n",
      "length(methods(TaylorIntegration.jetcoeffs!)) = 3\n",
      "methods(RNp1BP_pN_A_J234E_J2S_ng!) = # 1 method for generic function \"RNp1BP_pN_A_J234E_J2S_ng!\":\n",
      "[1] RNp1BP_pN_A_J234E_J2S_ng!(t, q, dq) in Apophis at /Users/Jorge/projects/Apophis/src/asteroid_dynamical_model.jl:2\n",
      "t0 == 2.4547335e6 = true\n"
     ]
    }
   ],
   "source": [
    "using Apophis"
   ]
  },
  {
   "cell_type": "code",
   "execution_count": 4,
   "metadata": {
    "scrolled": true
   },
   "outputs": [
    {
     "data": {
      "text/html": [
       "2 methods for generic function <b>delay_doppler</b>:<ul><li> delay_doppler(x, station_code, t, f_T) in Apophis at <a href=\"https://github.com/PerezHz/Apophis.jl/tree/8079feb26adce0905c873fefb2568930e203e32e//src/delay_doppler.jl#L7\" target=\"_blank\">/Users/Jorge/projects/Apophis/src/delay_doppler.jl:7</a></li> <li> delay_doppler(x, station_code, t, f_T, niter::<b>Int64</b>) in Apophis at <a href=\"https://github.com/PerezHz/Apophis.jl/tree/8079feb26adce0905c873fefb2568930e203e32e//src/delay_doppler.jl#L7\" target=\"_blank\">/Users/Jorge/projects/Apophis/src/delay_doppler.jl:7</a></li> </ul>"
      ],
      "text/plain": [
       "# 2 methods for generic function \"delay_doppler\":\n",
       "[1] delay_doppler(x, station_code, t, f_T) in Apophis at /Users/Jorge/projects/Apophis/src/delay_doppler.jl:7\n",
       "[2] delay_doppler(x, station_code, t, f_T, niter::Int64) in Apophis at /Users/Jorge/projects/Apophis/src/delay_doppler.jl:7"
      ]
     },
     "execution_count": 4,
     "metadata": {},
     "output_type": "execute_result"
    }
   ],
   "source": [
    "methods(Apophis.delay_doppler)"
   ]
  },
  {
   "cell_type": "code",
   "execution_count": 5,
   "metadata": {},
   "outputs": [
    {
     "data": {
      "text/html": [
       "2 methods for generic function <b>delay_doppler_jpleph</b>:<ul><li> delay_doppler_jpleph(station_code, t_r, f_T) in Apophis at <a href=\"https://github.com/PerezHz/Apophis.jl/tree/8079feb26adce0905c873fefb2568930e203e32e//src/delay_doppler.jl#L192\" target=\"_blank\">/Users/Jorge/projects/Apophis/src/delay_doppler.jl:192</a></li> <li> delay_doppler_jpleph(station_code, t_r, f_T, niter::<b>Int64</b>) in Apophis at <a href=\"https://github.com/PerezHz/Apophis.jl/tree/8079feb26adce0905c873fefb2568930e203e32e//src/delay_doppler.jl#L192\" target=\"_blank\">/Users/Jorge/projects/Apophis/src/delay_doppler.jl:192</a></li> </ul>"
      ],
      "text/plain": [
       "# 2 methods for generic function \"delay_doppler_jpleph\":\n",
       "[1] delay_doppler_jpleph(station_code, t_r, f_T) in Apophis at /Users/Jorge/projects/Apophis/src/delay_doppler.jl:192\n",
       "[2] delay_doppler_jpleph(station_code, t_r, f_T, niter::Int64) in Apophis at /Users/Jorge/projects/Apophis/src/delay_doppler.jl:192"
      ]
     },
     "execution_count": 5,
     "metadata": {},
     "output_type": "execute_result"
    }
   ],
   "source": [
    "methods(Apophis.delay_doppler_jpleph)"
   ]
  },
  {
   "cell_type": "code",
   "execution_count": 6,
   "metadata": {},
   "outputs": [
    {
     "data": {
      "text/plain": [
       "CALCEPH.Ephem(Ptr{Nothing} @0x00007f830e497800)"
      ]
     },
     "execution_count": 6,
     "metadata": {},
     "output_type": "execute_result"
    }
   ],
   "source": [
    "Apophis.eph"
   ]
  },
  {
   "cell_type": "code",
   "execution_count": 7,
   "metadata": {},
   "outputs": [],
   "source": [
    "# using TaylorIntegration, LinearAlgebra # Apophis.jl @reexports TaylorIntegration and LinearAlgebra\n",
    "using Plots, JLD, DelimitedFiles, Dates\n",
    "using Statistics: mean, std\n",
    "using AstroTime"
   ]
  },
  {
   "cell_type": "markdown",
   "metadata": {},
   "source": [
    "#12: Solar System Barycenter\n",
    "#11: Sun (heliocenter)\n",
    "#2099942: Apophis\n",
    "#3: Earth (geocenter)\n",
    "#10: Moon\n",
    "eph = Ephem([\"jpleph/a99942.bsp\", \"jpleph/de430.bsp\"])\n",
    "prefetch(eph)\n",
    "apophis_posvel = compute(eph,2454733.0,0.51, 2099942, 12, unitKM+unitDay,1)/au\n",
    "sun_posvel = compute(eph,2454733.5,0.0, 11, 12, unitKM+unitDay,1)/au\n",
    "earth_posvel = compute(eph,2454733.0,0.6, 3, 12, unitKM+unitDay,1)/au\n",
    "moon_posvel = compute(eph,2454733.0,0.6, 10, 12, unitKM+unitDay,1)/au\n",
    "@show apophis_posvel\n",
    "@show sun_posvel\n",
    "@show earth_posvel\n",
    "@show moon_posvel;"
   ]
  },
  {
   "cell_type": "code",
   "execution_count": 8,
   "metadata": {},
   "outputs": [],
   "source": [
    "# recover integration from .jld file\n",
    "vars = [\"tv_jpl_integ\", \"xv1\", \"tvS1\", \"xvS1\", \"gvS1\"] #names of variables\n",
    "filename = string(\"Apophis_jt.jld\")\n",
    "for i in eachindex(vars)\n",
    "    ex = Symbol(vars[i])\n",
    "    @eval $ex = load($filename, vars[$i])\n",
    "end"
   ]
  },
  {
   "cell_type": "markdown",
   "metadata": {
    "scrolled": true
   },
   "source": [
    "sort(union(apophisdofs, ssdofs)) == collect(1:72)"
   ]
  },
  {
   "cell_type": "markdown",
   "metadata": {
    "scrolled": true
   },
   "source": [
    "xv1[2,apophisdofs]"
   ]
  },
  {
   "cell_type": "markdown",
   "metadata": {},
   "source": [
    "xv1[2,sundofs]"
   ]
  },
  {
   "cell_type": "markdown",
   "metadata": {},
   "source": [
    "xv1[20,ssdofs[end-6:end]]"
   ]
  },
  {
   "cell_type": "code",
   "execution_count": 9,
   "metadata": {
    "scrolled": true
   },
   "outputs": [
    {
     "data": {
      "text/plain": [
       "46×9 Array{Any,2}:\n",
       " \"99942 Apophis (2004 MN4)\"  …  0.25   \"Hz\"  2380  251  251  \"C\"\n",
       " \"99942 Apophis (2004 MN4)\"     4.0    \"us\"  2380  251  251  \"C\"\n",
       " \"99942 Apophis (2004 MN4)\"     0.25   \"Hz\"  2380  251  251  \"C\"\n",
       " \"99942 Apophis (2004 MN4)\"     4.5    \"us\"  2380  251  251  \"C\"\n",
       " \"99942 Apophis (2004 MN4)\"     0.15   \"Hz\"  2380  251  251  \"C\"\n",
       " \"99942 Apophis (2004 MN4)\"  …  0.2    \"Hz\"  2380  251  251  \"C\"\n",
       " \"99942 Apophis (2004 MN4)\"     0.1    \"Hz\"  2380  251  251  \"C\"\n",
       " \"99942 Apophis (2004 MN4)\"     0.25   \"Hz\"  8560  253  253  \"C\"\n",
       " \"99942 Apophis (2004 MN4)\"     0.1    \"Hz\"  8560  253  253  \"C\"\n",
       " \"99942 Apophis (2004 MN4)\"     0.25   \"us\"  8560  253  253  \"C\"\n",
       " \"99942 Apophis (2004 MN4)\"  …  0.25   \"us\"  8560  253  253  \"C\"\n",
       " \"99942 Apophis (2004 MN4)\"     0.1    \"Hz\"  8560  253  253  \"C\"\n",
       " \"99942 Apophis (2004 MN4)\"     3.0    \"us\"  8560  253  253  \"C\"\n",
       " ⋮                           ⋱                  ⋮               \n",
       " \"99942 Apophis (2004 MN4)\"     0.1    \"Hz\"  8560  253  253  \"C\"\n",
       " \"99942 Apophis (2004 MN4)\"  …  0.1    \"Hz\"  8560  253  253  \"C\"\n",
       " \"99942 Apophis (2004 MN4)\"     0.2    \"Hz\"  2380  251  251  \"C\"\n",
       " \"99942 Apophis (2004 MN4)\"     0.25   \"us\"  2380  251  251  \"C\"\n",
       " \"99942 Apophis (2004 MN4)\"     0.2    \"Hz\"  2380  251  251  \"C\"\n",
       " \"99942 Apophis (2004 MN4)\"     0.2    \"Hz\"  2380  251  251  \"C\"\n",
       " \"99942 Apophis (2004 MN4)\"  …  0.2    \"Hz\"  2380  251  251  \"C\"\n",
       " \"99942 Apophis (2004 MN4)\"     0.25   \"us\"  2380  251  251  \"C\"\n",
       " \"99942 Apophis (2004 MN4)\"     0.2    \"Hz\"  2380  251  251  \"C\"\n",
       " \"99942 Apophis (2004 MN4)\"     0.2    \"Hz\"  2380  251  251  \"C\"\n",
       " \"99942 Apophis (2004 MN4)\"     2.0    \"us\"  2380  251  251  \"C\"\n",
       " \"99942 Apophis (2004 MN4)\"  …  0.238  \"Hz\"  2380  251  251  \"C\""
      ]
     },
     "execution_count": 9,
     "metadata": {},
     "output_type": "execute_result"
    }
   ],
   "source": [
    "jpl_radar = readdlm(\"../Apophis_JPL_data.dat\", '\\t')"
   ]
  },
  {
   "cell_type": "markdown",
   "metadata": {},
   "source": [
    "findall(x -> x == \"Hz\", jpl_radar[:,5])"
   ]
  },
  {
   "cell_type": "markdown",
   "metadata": {},
   "source": [
    "findall(x -> x == \"us\", jpl_radar[:,5])"
   ]
  },
  {
   "cell_type": "markdown",
   "metadata": {},
   "source": [
    "hola1 = jpl_radar[:,5] .== \"Hz\"\n",
    "hola2 = jpl_radar[:,5] .== \"us\"\n",
    "hola3 = hola1 .| hola2\n",
    "hola4 = hola1 .& hola2\n",
    "all(hola3), !any(hola4)"
   ]
  },
  {
   "cell_type": "markdown",
   "metadata": {},
   "source": [
    "jpl_radar[:,2]"
   ]
  },
  {
   "cell_type": "code",
   "execution_count": 10,
   "metadata": {},
   "outputs": [],
   "source": [
    "#construct vector of observation times\n",
    "#####`union` removes repeated elements\n",
    "#NOTE: resulting vector does not include t0\n",
    "# tv_jpl = union( Dates.datetime2julian.(  DateTime.(jpl_radar[:,2], \"y-m-d H:M:S\")) );\n",
    "df_jpl = \"y-m-d H:M:S\"\n",
    "tv_jpl = Dates.datetime2julian.(  DateTime.(jpl_radar[:,2], df_jpl));"
   ]
  },
  {
   "cell_type": "code",
   "execution_count": 11,
   "metadata": {},
   "outputs": [],
   "source": [
    "#extract transmitter frequencies (Hz)\n",
    "transmitter_freq = jpl_radar[:,6]*1e6;"
   ]
  },
  {
   "cell_type": "code",
   "execution_count": 12,
   "metadata": {},
   "outputs": [
    {
     "data": {
      "text/plain": [
       "true"
      ]
     },
     "execution_count": 12,
     "metadata": {},
     "output_type": "execute_result"
    }
   ],
   "source": [
    "#monostatic mode: check that each receiver and transmitter are the same\n",
    "all( jpl_radar[:,7] .== jpl_radar[:,8] )"
   ]
  },
  {
   "cell_type": "code",
   "execution_count": 13,
   "metadata": {},
   "outputs": [],
   "source": [
    "#then, get the station codes\n",
    "station_codes = Int.(jpl_radar[:,7]);"
   ]
  },
  {
   "cell_type": "code",
   "execution_count": 14,
   "metadata": {},
   "outputs": [],
   "source": [
    "#check that time vectors from NEODyS and JPL are the same\n",
    "#tv_neodys_obs == union(t0, tv_jpl[tv_jpl .> t0])\n",
    "tv_jpl_utc = DateTime.(jpl_radar[:,2], df_jpl)[8:end]\n",
    "tv_jpl_utc_julian = Dates.datetime2julian.(tv_jpl_utc)\n",
    "tv_jpl_utc_julian_unrepeated = union(julian(UTCEpoch(TDBEpoch(t0, origin=:julian))).Δt, tv_jpl_utc_julian);"
   ]
  },
  {
   "cell_type": "markdown",
   "metadata": {},
   "source": [
    "t_utc = UTCEpoch(tv_jpl_utc_julian_unrepeated[1], origin=:julian)\n",
    "t_ut1 = UT1Epoch(t_utc)\n",
    "@show t_utc\n",
    "@show t_ut1\n",
    "@show t_ut1-t_utc"
   ]
  },
  {
   "cell_type": "code",
   "execution_count": 15,
   "metadata": {},
   "outputs": [],
   "source": [
    "#extract time-delay and Doppler-shift measurements\n",
    "#will filter those afterwards by type of measurement\n",
    "deldop_jpl = jpl_radar[:, 3];"
   ]
  },
  {
   "cell_type": "code",
   "execution_count": 16,
   "metadata": {},
   "outputs": [],
   "source": [
    "#get indices of delay observations\n",
    "del_ind = findall(x->x == \"us\", jpl_radar[:,5])\n",
    "#get indices of Doppler observations\n",
    "dop_ind = findall(x->x == \"Hz\", jpl_radar[:,5]);"
   ]
  },
  {
   "cell_type": "code",
   "execution_count": 17,
   "metadata": {},
   "outputs": [],
   "source": [
    "#get index vector of observation times\n",
    "#takes into account only times in `tv_jpl_integ` greater than t0\n",
    "radar_jpl_obs_ind = map(y->findfirst(x->x == y, tv_jpl), tv_jpl_utc_julian_unrepeated[2:end]);"
   ]
  },
  {
   "cell_type": "markdown",
   "metadata": {},
   "source": [
    "tv_jpl[radar_jpl_obs_ind];"
   ]
  },
  {
   "cell_type": "code",
   "execution_count": 18,
   "metadata": {},
   "outputs": [
    {
     "data": {
      "text/plain": [
       "true"
      ]
     },
     "execution_count": 18,
     "metadata": {},
     "output_type": "execute_result"
    }
   ],
   "source": [
    "#check that we got `radar_obs_ind` right\n",
    "tv_jpl[radar_jpl_obs_ind] == tv_jpl_utc_julian_unrepeated[2:end]"
   ]
  },
  {
   "cell_type": "markdown",
   "metadata": {
    "scrolled": true
   },
   "source": [
    "size(radar_jpl_obs_ind)"
   ]
  },
  {
   "cell_type": "markdown",
   "metadata": {},
   "source": [
    "size(xv1[2:end,:])"
   ]
  },
  {
   "cell_type": "markdown",
   "metadata": {},
   "source": [
    "size(tv_jpl_integ)"
   ]
  },
  {
   "cell_type": "markdown",
   "metadata": {},
   "source": [
    "size(station_codes[radar_jpl_obs_ind])"
   ]
  },
  {
   "cell_type": "markdown",
   "metadata": {},
   "source": [
    "Let $\\vec R$ denote the geocentric position of the observing station, $\\vec \\rho$ the topocentric position of the asteroid relative to the same station,  $\\vec r_\\mathrm{a}$ the geocentric position of the asteroid and $\\vec r_\\mathrm{E}$ the geocentric position of the asteroid. Then we have\n",
    "\n",
    "$$\n",
    "\\vec r_\\mathrm{a} =\\vec r_\\mathrm{E} + \\vec R + \\vec \\rho\n",
    "$$\n",
    "\n",
    "Thus, the instantaneous topocentric range $\\rho = |\\vec \\rho|$ of the asteroid may be computed as\n",
    "\n",
    "$$\n",
    "\\rho = |\\vec r_\\mathrm{a} - \\vec r_\\mathrm{E} - \\vec R| = \\sqrt{(x_\\mathrm{a} - x_\\mathrm{E} - X)^2+(y_\\mathrm{a} - y_\\mathrm{E} - Y)^2+(z_\\mathrm{a} - z_\\mathrm{E} - Z)^2}\n",
    "$$\n",
    "\n",
    "And the instantaneous range rate $\\dot \\rho$ may be computed as:\n",
    "\n",
    "$$\n",
    "\\dot \\rho = \\frac{1}{\\rho}\\vec{\\rho} \\cdot \\dot{\\vec{\\rho}}\n",
    "$$"
   ]
  },
  {
   "cell_type": "markdown",
   "metadata": {
    "scrolled": true
   },
   "source": [
    "radar_jpl_obs_ind[2]"
   ]
  },
  {
   "cell_type": "markdown",
   "metadata": {},
   "source": [
    "tv_jpl[radar_jpl_obs_ind[2]]"
   ]
  },
  {
   "cell_type": "markdown",
   "metadata": {},
   "source": [
    "tv_jpl_integ[3]"
   ]
  },
  {
   "cell_type": "markdown",
   "metadata": {},
   "source": [
    "tv_jpl[radar_jpl_obs_ind[2]] - tv_jpl_integ[3]"
   ]
  },
  {
   "cell_type": "code",
   "execution_count": 19,
   "metadata": {},
   "outputs": [
    {
     "name": "stdout",
     "output_type": "stream",
     "text": [
      "  3.542755 seconds (16.40 M allocations: 1.285 GiB, 37.61% gc time)\n",
      "Δτ_rel =  2.3703137614983512e-11 - 7.588182091589026e-18 t + 4.001177155294492e-25 t² + 1.417026976252588e-31 t³ + 4.24585925070477e-38 t⁴ + 1.1195494665060785e-44 t⁵ + 2.4412904930564534e-51 t⁶ + 3.381841463857826e-58 t⁷ - 3.795837240091189e-65 t⁸ - 5.248505953890648e-71 t⁹ - 2.5180106341052914e-77 t¹⁰ + 𝒪(t¹¹)\n"
     ]
    },
    {
     "data": {
      "text/plain": [
       "( 1.0268276682313727e8 - 33.055959093196854 t + 1.776678361085858e-6 t² + 6.170934121403857e-13 t³ + 1.8275710367467176e-19 t⁴ + 4.8109404524776315e-26 t⁵ + 1.0459930567706252e-32 t⁶ + 1.434214347327161e-39 t⁷ - 1.7129353307799276e-46 t⁸ - 2.283502707560061e-52 t⁹ - 1.089701795588071e-58 t¹⁰ + 𝒪(t¹¹),  57879.96839157465 - 0.03517777547926322 t - 7.508807768028552e-9 t² - 2.056544855038649e-15 t³ - 4.243065269353409e-22 t⁴ - 2.007792865303866e-29 t⁵ + 3.733315519893816e-35 t⁶ + 2.4915789418818513e-41 t⁷ + 1.0578219129343448e-47 t⁸ + 3.370018829548e-54 t⁹ + 7.371007382024381e-61 t¹⁰ + 𝒪(t¹¹))"
      ]
     },
     "execution_count": 19,
     "metadata": {},
     "output_type": "execute_result"
    }
   ],
   "source": [
    "tdelay, dshift = delay_doppler(\n",
    "    xv1[3, :],\n",
    "    station_codes[radar_jpl_obs_ind[2]],\n",
    "    tv_jpl_integ[3],\n",
    "    transmitter_freq[radar_jpl_obs_ind[2]]\n",
    ")"
   ]
  },
  {
   "cell_type": "code",
   "execution_count": 20,
   "metadata": {},
   "outputs": [
    {
     "name": "stdout",
     "output_type": "stream",
     "text": [
      "total_time_delay = 102.68296745028684\n",
      "Δτ_rel = 2.0479547774952486e-6\n"
     ]
    },
    {
     "data": {
      "text/plain": [
       "(1.0268296949824162e8, 57880.16443937383)"
      ]
     },
     "execution_count": 20,
     "metadata": {},
     "output_type": "execute_result"
    }
   ],
   "source": [
    "tdelay_jpl, dshift_jpl = delay_doppler_jpleph(\n",
    "    station_codes[radar_jpl_obs_ind[2]],\n",
    "    tv_jpl_integ[3],\n",
    "    transmitter_freq[radar_jpl_obs_ind[2]],\n",
    "    10\n",
    ")"
   ]
  },
  {
   "cell_type": "code",
   "execution_count": 21,
   "metadata": {
    "scrolled": true
   },
   "outputs": [
    {
     "data": {
      "text/plain": [
       " 1.0268276682313727e8 - 33.055959093196854 t + 1.776678361085858e-6 t² + 6.170934121403857e-13 t³ + 1.8275710367467176e-19 t⁴ + 4.8109404524776315e-26 t⁵ + 1.0459930567706252e-32 t⁶ + 1.434214347327161e-39 t⁷ - 1.7129353307799276e-46 t⁸ - 2.283502707560061e-52 t⁹ - 1.089701795588071e-58 t¹⁰ + 𝒪(t¹¹)"
      ]
     },
     "execution_count": 21,
     "metadata": {},
     "output_type": "execute_result"
    }
   ],
   "source": [
    "tdelay"
   ]
  },
  {
   "cell_type": "code",
   "execution_count": 22,
   "metadata": {},
   "outputs": [
    {
     "data": {
      "text/plain": [
       "1.0268296949824162e8"
      ]
     },
     "execution_count": 22,
     "metadata": {},
     "output_type": "execute_result"
    }
   ],
   "source": [
    "tdelay_jpl"
   ]
  },
  {
   "cell_type": "code",
   "execution_count": 23,
   "metadata": {},
   "outputs": [
    {
     "data": {
      "text/plain": [
       "219.22686272859573"
      ]
     },
     "execution_count": 23,
     "metadata": {},
     "output_type": "execute_result"
    }
   ],
   "source": [
    "102682986.05 - tdelay() #O-C"
   ]
  },
  {
   "cell_type": "code",
   "execution_count": 24,
   "metadata": {},
   "outputs": [
    {
     "data": {
      "text/plain": [
       "16.551758378744125"
      ]
     },
     "execution_count": 24,
     "metadata": {},
     "output_type": "execute_result"
    }
   ],
   "source": [
    "102682986.05 - tdelay_jpl #O-C, JPL"
   ]
  },
  {
   "cell_type": "code",
   "execution_count": 25,
   "metadata": {},
   "outputs": [
    {
     "data": {
      "text/plain": [
       " 57879.96839157465 - 0.03517777547926322 t - 7.508807768028552e-9 t² - 2.056544855038649e-15 t³ - 4.243065269353409e-22 t⁴ - 2.007792865303866e-29 t⁵ + 3.733315519893816e-35 t⁶ + 2.4915789418818513e-41 t⁷ + 1.0578219129343448e-47 t⁸ + 3.370018829548e-54 t⁹ + 7.371007382024381e-61 t¹⁰ + 𝒪(t¹¹)"
      ]
     },
     "execution_count": 25,
     "metadata": {},
     "output_type": "execute_result"
    }
   ],
   "source": [
    "dshift"
   ]
  },
  {
   "cell_type": "code",
   "execution_count": 26,
   "metadata": {},
   "outputs": [
    {
     "data": {
      "text/plain": [
       "0.28160842534998665"
      ]
     },
     "execution_count": 26,
     "metadata": {},
     "output_type": "execute_result"
    }
   ],
   "source": [
    "57880.250 - dshift() #O-C"
   ]
  },
  {
   "cell_type": "code",
   "execution_count": 27,
   "metadata": {},
   "outputs": [
    {
     "data": {
      "text/plain": [
       "0.08556062616844429"
      ]
     },
     "execution_count": 27,
     "metadata": {},
     "output_type": "execute_result"
    }
   ],
   "source": [
    "57880.250 - dshift_jpl #O-C, JPL"
   ]
  },
  {
   "cell_type": "code",
   "execution_count": null,
   "metadata": {},
   "outputs": [],
   "source": []
  },
  {
   "cell_type": "code",
   "execution_count": null,
   "metadata": {
    "scrolled": true
   },
   "outputs": [],
   "source": [
    "# get time-delay, Doppler-shift values from integration\n",
    "\n",
    "tdelay_v1 = Array{Taylor1{Float64}}(undef, length(tv_jpl_integ)-1)\n",
    "dshift_v1 = Array{Taylor1{Float64}}(undef, length(tv_jpl_integ)-1)\n",
    "\n",
    "tdelay_JPL_v1 = Array{Float64}(undef, length(tv_jpl_integ)-1)\n",
    "dshift_JPL_v1 = Array{Float64}(undef, length(tv_jpl_integ)-1)\n",
    "\n",
    "#tv_jpl[radar_obs_ind] == tv_jpl_integ[2:end]\n",
    "for i in eachindex(tv_jpl_integ[2:end])\n",
    "    j = radar_jpl_obs_ind[i]\n",
    "    #@show tv_jpl[j]\n",
    "    #@show tv_jpl_integ[i]\n",
    "    @show tv_jpl[j] == tv_jpl_utc_julian_unrepeated[i+1]\n",
    "    tdelay_v1[i], dshift_v1[i] = delay_doppler(\n",
    "        xv1[i+1, :],\n",
    "        station_codes[j],\n",
    "        tv_jpl_integ[i+1],\n",
    "        transmitter_freq[j]\n",
    "    )\n",
    "    tdelay_JPL_v1[i], dshift_JPL_v1[i] = delay_doppler_jpleph(\n",
    "        station_codes[j],\n",
    "        tv_jpl_integ[i+1],\n",
    "        transmitter_freq[j]\n",
    "    )\n",
    "end\n"
   ]
  },
  {
   "cell_type": "markdown",
   "metadata": {},
   "source": [
    "# Questions\n",
    "- Is TDB the actual independent variable in the integration of the Solar System's equations of motion? ANSWER: YES\n",
    "- Where can I get the integrated values (evolution?) of the orientation of the Moon, so that I do not have to integrate that from the beginning (1969)?"
   ]
  },
  {
   "cell_type": "code",
   "execution_count": null,
   "metadata": {},
   "outputs": [],
   "source": [
    "#get set of indices in jpl_radar[:,5] which are, resp., delay and Doppler observations (>t0)\n",
    "del_ind = findall(y->y==\"us\", jpl_radar[:,5])[3:end]\n",
    "dop_ind = findall(y->y==\"Hz\", jpl_radar[:,5])[6:end];"
   ]
  },
  {
   "cell_type": "code",
   "execution_count": null,
   "metadata": {},
   "outputs": [],
   "source": [
    "#get corresponding set of indices in tv_jpl_integ\n",
    "tv_del_ind = findall(x->in(x, tv_jpl[del_ind]), tv_jpl_utc_julian_unrepeated) .- 1\n",
    "tv_dop_ind = findall(x->in(x, tv_jpl[dop_ind]), tv_jpl_utc_julian_unrepeated) .- 1;"
   ]
  },
  {
   "cell_type": "code",
   "execution_count": null,
   "metadata": {},
   "outputs": [],
   "source": [
    "#check that indices are correct\n",
    "union(sort(vcat(tv_del_ind, tv_dop_ind))) == collect(1:29)"
   ]
  },
  {
   "cell_type": "code",
   "execution_count": null,
   "metadata": {},
   "outputs": [],
   "source": [
    "# Observed minus computed (O-C) residuals\n",
    "\n",
    "# absolute (TaylorIntegration.jl)\n",
    "residual_td = Float64.(jpl_radar[del_ind,3]) - tdelay_v1[tv_del_ind] # (usec)\n",
    "residual_ds = Float64.(jpl_radar[dop_ind,3]) - dshift_v1[tv_dop_ind] # (Hz)\n",
    "# absolute (JPL DE430+s199)\n",
    "residual_JPL_td = Float64.(jpl_radar[del_ind,3]) - tdelay_JPL_v1[tv_del_ind] # (usec)\n",
    "residual_JPL_ds = Float64.(jpl_radar[dop_ind,3]) - dshift_JPL_v1[tv_dop_ind] # (Hz)\n",
    "\n",
    "# relative (TaylorIntegration.jl)\n",
    "rel_res_td = residual_td ./ Float64.(jpl_radar[del_ind,3]) # (usec)\n",
    "rel_res_ds = residual_ds ./ Float64.(jpl_radar[dop_ind,3]); # (Hz)\n",
    "\n",
    "# relative (JPL DE430+s199)\n",
    "rel_res_JPL_td = residual_JPL_td ./ Float64.(jpl_radar[del_ind,3]) # (usec)\n",
    "rel_res_JPL_ds = residual_JPL_ds ./ Float64.(jpl_radar[dop_ind,3]); # (Hz)"
   ]
  },
  {
   "cell_type": "markdown",
   "metadata": {},
   "source": [
    "tdelay_JPL_v1[tv_del_ind]"
   ]
  },
  {
   "cell_type": "code",
   "execution_count": null,
   "metadata": {
    "scrolled": false
   },
   "outputs": [],
   "source": [
    "scatter(\n",
    "    tv_jpl_utc_julian_unrepeated[tv_del_ind .+ 1].-t0,\n",
    "    tdelay_v1[tv_del_ind](),\n",
    "    label=\"predicted (TaylorIntegration.jl)\",\n",
    "    marker=:xcross\n",
    ")\n",
    "scatter!(\n",
    "    tv_jpl_utc_julian_unrepeated[tv_del_ind .+ 1].-t0,\n",
    "    tdelay_JPL_v1[tv_del_ind],\n",
    "    label=\"predicted (JPL DE430+s199)\",\n",
    "    marker=:star4\n",
    ")\n",
    "scatter!(\n",
    "    tv_jpl_utc_julian_unrepeated[tv_del_ind .+ 1].-t0,\n",
    "    Float64.(jpl_radar[del_ind,3]),\n",
    "    label=\"observed (JPL)\",\n",
    "    legend=:topleft,\n",
    "    marker=:cross,\n",
    "    yerror=Float64.(jpl_radar[del_ind,4])\n",
    ")\n",
    "title!(\"Time delay vs time\")\n",
    "xlabel!(\"t-t0 [Julian days]\")\n",
    "ylabel!(\"Total time delay [microseconds]\")"
   ]
  },
  {
   "cell_type": "code",
   "execution_count": null,
   "metadata": {
    "scrolled": false
   },
   "outputs": [],
   "source": [
    "scatter(\n",
    "    tv_jpl_utc_julian_unrepeated[tv_dop_ind .+ 1].-t0,\n",
    "    dshift_v1[tv_dop_ind](),\n",
    "    label=\"predicted (TaylorIntegration.jl)\",\n",
    "    marker=:xcross\n",
    ")\n",
    "scatter!(\n",
    "    tv_jpl_utc_julian_unrepeated[tv_dop_ind .+ 1].-t0,\n",
    "    dshift_JPL_v1[tv_dop_ind],\n",
    "    label=\"predicted (JPL DE430+s199)\",\n",
    "    marker=:star4\n",
    ")\n",
    "scatter!(\n",
    "    tv_jpl_utc_julian_unrepeated[tv_dop_ind .+ 1].-t0,\n",
    "    Float64.(jpl_radar[dop_ind,3]),\n",
    "    label=\"observed (JPL)\",\n",
    "    legend=:topright,\n",
    "    marker=:cross,\n",
    "    yerror=Float64.(jpl_radar[dop_ind,4])\n",
    ")\n",
    "title!(\"Doppler shift vs time\")\n",
    "xlabel!(\"t-t0 [Julian days]\")\n",
    "ylabel!(\"Total Doppler shift [Hz]\")\n",
    "#xlims!(1600,1640)"
   ]
  },
  {
   "cell_type": "code",
   "execution_count": null,
   "metadata": {
    "scrolled": false
   },
   "outputs": [],
   "source": [
    "scatter(\n",
    "    tv_jpl_utc_julian_unrepeated[tv_del_ind .+ 1].-t0,\n",
    "    residual_td(),\n",
    "    yerror=Float64.(jpl_radar[del_ind,4]),\n",
    "    marker=:cross,\n",
    "    label = \"time delay (O-C) (TaylorIntegration.jl)\"\n",
    ")\n",
    "scatter!(\n",
    "    tv_jpl_utc_julian_unrepeated[tv_del_ind .+ 1].-t0,\n",
    "    residual_JPL_td,\n",
    "    yerror=Float64.(jpl_radar[del_ind,4]),\n",
    "    marker=:xcross,\n",
    "    label = \"time delay (O-C) (JPL DE430+s199)\"\n",
    ")\n",
    "title!(\"Time delay O-C residuals\")\n",
    "xlabel!(\"t-t0 [Julian days]\")\n",
    "ylabel!(\"Total time delay resid. (O-C) [us]\")"
   ]
  },
  {
   "cell_type": "code",
   "execution_count": null,
   "metadata": {},
   "outputs": [],
   "source": [
    "scatter(\n",
    "    tv_jpl_utc_julian_unrepeated[tv_dop_ind .+ 1].-t0,\n",
    "    residual_ds(),\n",
    "    yerror=Float64.(jpl_radar[dop_ind,4]),\n",
    "    marker=:cross,\n",
    "    label = \"Doppler shift (O-C) (TaylorIntegration.jl)\"\n",
    ")\n",
    "scatter!(\n",
    "    tv_jpl_utc_julian_unrepeated[tv_dop_ind .+ 1].-t0,\n",
    "    residual_JPL_ds,\n",
    "    yerror=Float64.(jpl_radar[dop_ind,4]),\n",
    "    marker=:xcross,\n",
    "    label = \"Doppler shift (O-C) (JPL DE430+s199)\"\n",
    ")\n",
    "title!(\"Doppler shift residuals\")\n",
    "xlabel!(\"t-t0 [Julian days]\")\n",
    "ylabel!(\"Total Doppler shift resid. (O-C) [Hz]\")"
   ]
  },
  {
   "cell_type": "code",
   "execution_count": null,
   "metadata": {},
   "outputs": [],
   "source": []
  },
  {
   "cell_type": "code",
   "execution_count": null,
   "metadata": {},
   "outputs": [],
   "source": []
  },
  {
   "cell_type": "code",
   "execution_count": null,
   "metadata": {},
   "outputs": [],
   "source": []
  },
  {
   "cell_type": "code",
   "execution_count": null,
   "metadata": {},
   "outputs": [],
   "source": []
  },
  {
   "cell_type": "code",
   "execution_count": null,
   "metadata": {},
   "outputs": [],
   "source": []
  },
  {
   "cell_type": "code",
   "execution_count": null,
   "metadata": {},
   "outputs": [],
   "source": [
    "scatter(\n",
    "    tv_jpl_utc_julian_unrepeated[tv_del_ind .+ 1].-t0,\n",
    "    rel_res_td(),\n",
    "    yerror=Float64.(jpl_radar[del_ind,4])./Float64.(jpl_radar[del_ind,3]),\n",
    "    label=\"Relative time delay residual\",\n",
    "    marker=:cross,\n",
    "    legend=:topright\n",
    ")\n",
    "title!(\"Time delay relative residuals\")\n",
    "xlabel!(\"t-t0 [Julian days]\")"
   ]
  },
  {
   "cell_type": "code",
   "execution_count": null,
   "metadata": {
    "scrolled": false
   },
   "outputs": [],
   "source": [
    "scatter(\n",
    "    tv_jpl_utc_julian_unrepeated[tv_dop_ind .+ 1].-t0,\n",
    "    rel_res_ds(),\n",
    "    yerror=Float64.(jpl_radar[dop_ind,4])./Float64.(jpl_radar[dop_ind,3]),\n",
    "    label=\"Relative Doppler shift residual\",\n",
    "    legend=:bottomright,\n",
    "    marker=:cross\n",
    ")\n",
    "title!(\"Doppler shift relative residuals\")\n",
    "xlabel!(\"t-t0 [Julian days]\")"
   ]
  },
  {
   "cell_type": "code",
   "execution_count": null,
   "metadata": {},
   "outputs": [],
   "source": [
    "tv_jpl_integ"
   ]
  },
  {
   "cell_type": "code",
   "execution_count": null,
   "metadata": {},
   "outputs": [],
   "source": [
    "tvS1[end]()"
   ]
  },
  {
   "cell_type": "code",
   "execution_count": null,
   "metadata": {},
   "outputs": [],
   "source": [
    "tvS1[end-1]()-t0"
   ]
  },
  {
   "cell_type": "code",
   "execution_count": null,
   "metadata": {},
   "outputs": [],
   "source": [
    "tv_jpl_integ .> tvS1[end]()"
   ]
  },
  {
   "cell_type": "code",
   "execution_count": null,
   "metadata": {},
   "outputs": [],
   "source": []
  },
  {
   "cell_type": "markdown",
   "metadata": {},
   "source": [
    "# Yarkovsky $A_2$ coefficient estimation"
   ]
  },
  {
   "cell_type": "code",
   "execution_count": null,
   "metadata": {
    "scrolled": false
   },
   "outputs": [],
   "source": [
    "tdelay_v1[1] # τ(A2) = p(A2)"
   ]
  },
  {
   "cell_type": "code",
   "execution_count": null,
   "metadata": {},
   "outputs": [],
   "source": [
    "tdelay_v1[1]-constant_term(tdelay_v1[1]) # δτ(A2) = τ(A2) - τ(A2=0) = p(A2) - τ(A2=0) = p[1]*A2+p[2]*A2^2+... ( p[0]=τ(A2=0) )"
   ]
  },
  {
   "cell_type": "code",
   "execution_count": null,
   "metadata": {},
   "outputs": [],
   "source": [
    "inverse( tdelay_v1[1]-constant_term(tdelay_v1[1]) ) # A2(δτ) = q(δτ) = q[1]*δτ+q[2]*δτ^2+... (q[0]=0)"
   ]
  },
  {
   "cell_type": "code",
   "execution_count": null,
   "metadata": {},
   "outputs": [],
   "source": [
    "td_us = tdelay_v1[tv_del_ind]\n",
    "ds_Hz = dshift_v1[tv_dop_ind];"
   ]
  },
  {
   "cell_type": "code",
   "execution_count": null,
   "metadata": {
    "scrolled": false
   },
   "outputs": [],
   "source": [
    "A2_δτ_v = (  inverse.( td_us-td_us() )  ) # vector of A2(δr) polynomials at each delay observation;\n",
    "A2_δf_v = (  inverse.( ds_Hz-ds_Hz() )  ) # vector of A2(δvr) polynomials at each Doppler observation;"
   ]
  },
  {
   "cell_type": "code",
   "execution_count": null,
   "metadata": {},
   "outputs": [],
   "source": [
    "A2_del_v = map((x,y)->x(y), A2_δτ_v, residual_td()); # A2(δτ) polynomials evaluated at the O-C time delay residuals;\n",
    "A2_dop_v = map((x,y)->x(y), A2_δf_v, residual_ds()); # A2(δf_Doppler) polynomials evaluated at the O-C Doppler shift residuals;"
   ]
  },
  {
   "cell_type": "code",
   "execution_count": null,
   "metadata": {
    "scrolled": false
   },
   "outputs": [],
   "source": [
    "A2_del_v"
   ]
  },
  {
   "cell_type": "code",
   "execution_count": null,
   "metadata": {
    "scrolled": false
   },
   "outputs": [],
   "source": [
    "A2_dop_v"
   ]
  },
  {
   "cell_type": "code",
   "execution_count": null,
   "metadata": {
    "scrolled": true
   },
   "outputs": [],
   "source": [
    "mean(A2_del_v), std(A2_del_v)"
   ]
  },
  {
   "cell_type": "code",
   "execution_count": null,
   "metadata": {},
   "outputs": [],
   "source": [
    "mean(A2_dop_v), std(A2_dop_v)"
   ]
  },
  {
   "cell_type": "code",
   "execution_count": null,
   "metadata": {},
   "outputs": [],
   "source": [
    "scatter(tv_jpl_utc_julian_unrepeated[tv_del_ind .+ 1].-t0, A2_del_v, leg=false, marker=:cross)\n",
    "xlabel!(\"t-t0 [Julian days]\")\n",
    "ylabel!(\"A2(dt) x 10^14 [au/d^2]\")\n",
    "ylims!(1.1minimum(A2_del_v),0)"
   ]
  },
  {
   "cell_type": "code",
   "execution_count": null,
   "metadata": {},
   "outputs": [],
   "source": [
    "scatter(tv_jpl_utc_julian_unrepeated[tv_dop_ind .+ 1].-t0, A2_dop_v, leg=false, marker=:cross)\n",
    "xlabel!(\"t-t0 [Julian days]\")\n",
    "ylabel!(\"A2(df) x 10^14 [au/d^2]\")\n",
    "ylims!(1.1minimum(A2_dop_v),0)"
   ]
  },
  {
   "cell_type": "markdown",
   "metadata": {},
   "source": [
    "# Intervals"
   ]
  },
  {
   "cell_type": "code",
   "execution_count": null,
   "metadata": {},
   "outputs": [],
   "source": [
    "using IntervalArithmetic"
   ]
  },
  {
   "cell_type": "code",
   "execution_count": null,
   "metadata": {},
   "outputs": [],
   "source": [
    "residual_td_interval = interval.(\n",
    "    (jpl_radar[del_ind,3]-jpl_radar[del_ind,4])-tdelay_v1[tv_del_ind](), \n",
    "    (jpl_radar[del_ind,3]+jpl_radar[del_ind,4])-tdelay_v1[tv_del_ind]()\n",
    ")"
   ]
  },
  {
   "cell_type": "code",
   "execution_count": null,
   "metadata": {},
   "outputs": [],
   "source": [
    "residual_ds_interval = interval.(\n",
    "    (jpl_radar[dop_ind,3]-jpl_radar[dop_ind,4])-dshift_v1[tv_dop_ind](),\n",
    "    (jpl_radar[dop_ind,3]+jpl_radar[dop_ind,4])-dshift_v1[tv_dop_ind]()\n",
    ")"
   ]
  },
  {
   "cell_type": "code",
   "execution_count": null,
   "metadata": {},
   "outputs": [],
   "source": [
    "A2_del_v_interval = map((x,y)->x(y), A2_δτ_v, residual_td_interval)"
   ]
  },
  {
   "cell_type": "code",
   "execution_count": null,
   "metadata": {},
   "outputs": [],
   "source": [
    "A2_dop_v_interval = map((x,y)->x(y), A2_δf_v, residual_ds_interval)"
   ]
  },
  {
   "cell_type": "code",
   "execution_count": null,
   "metadata": {},
   "outputs": [],
   "source": [
    "scatter(\n",
    "    tv_jpl_utc_julian_unrepeated[tv_del_ind .+ 1].-t0,\n",
    "    A2_del_v,\n",
    "    yerror=radius.(A2_del_v_interval),\n",
    "    leg=false,\n",
    "    marker=:cross\n",
    ")\n",
    "ylims!(minimum(A2_del_v)-1,0)\n",
    "ylabel!(\"A2(dt) x 10^14 [au/d^2]\")\n",
    "xlabel!(\"t-t0 [Julian days]\")"
   ]
  },
  {
   "cell_type": "code",
   "execution_count": null,
   "metadata": {},
   "outputs": [],
   "source": [
    "scatter(\n",
    "    tv_jpl_utc_julian_unrepeated[tv_dop_ind .+ 1].-t0,\n",
    "    A2_dop_v,\n",
    "    yerror=radius.(A2_dop_v_interval),\n",
    "    leg=false,\n",
    "    marker=:cross\n",
    ")\n",
    "ylabel!(\"A2(df) x 10^14 [au/d^2]\")\n",
    "xlabel!(\"t-t0 [Julian days]\")"
   ]
  },
  {
   "cell_type": "code",
   "execution_count": null,
   "metadata": {},
   "outputs": [],
   "source": []
  },
  {
   "cell_type": "code",
   "execution_count": null,
   "metadata": {},
   "outputs": [],
   "source": []
  },
  {
   "cell_type": "code",
   "execution_count": null,
   "metadata": {},
   "outputs": [],
   "source": []
  }
 ],
 "metadata": {
  "kernelspec": {
   "display_name": "Julia 1.1.0",
   "language": "julia",
   "name": "julia-1.1"
  },
  "language_info": {
   "file_extension": ".jl",
   "mimetype": "application/julia",
   "name": "julia",
   "version": "1.1.0"
  }
 },
 "nbformat": 4,
 "nbformat_minor": 2
}
