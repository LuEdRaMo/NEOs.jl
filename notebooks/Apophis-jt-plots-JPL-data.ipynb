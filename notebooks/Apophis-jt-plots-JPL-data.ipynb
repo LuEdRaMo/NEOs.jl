{
 "cells": [
  {
   "cell_type": "code",
   "execution_count": null,
   "metadata": {
    "scrolled": false
   },
   "outputs": [],
   "source": [
    ";pwd"
   ]
  },
  {
   "cell_type": "code",
   "execution_count": null,
   "metadata": {},
   "outputs": [],
   "source": [
    "]activate .."
   ]
  },
  {
   "cell_type": "code",
   "execution_count": null,
   "metadata": {},
   "outputs": [],
   "source": [
    "using Revise"
   ]
  },
  {
   "cell_type": "code",
   "execution_count": null,
   "metadata": {
    "scrolled": true
   },
   "outputs": [],
   "source": [
    "using Apophis"
   ]
  },
  {
   "cell_type": "code",
   "execution_count": null,
   "metadata": {},
   "outputs": [],
   "source": [
    "# using TaylorIntegration, LinearAlgebra # Apophis.jl @reexports TaylorIntegration and LinearAlgebra\n",
    "using Plots, DelimitedFiles, Dates\n",
    "using Statistics: mean, std\n",
    "using AstroTime"
   ]
  },
  {
   "cell_type": "code",
   "execution_count": null,
   "metadata": {},
   "outputs": [],
   "source": [
    "using JLD\n",
    "#recover integration from .jld file\n",
    "#vars = [\"tv_jpl_integ\", \"xv1\", \"tvS1\", \"xvS1\", \"gvS1\"] #names of variables\n",
    "vars = [\"tv_jpl_integ\"]\n",
    "filename = string(\"Apophis_jt.jld\")\n",
    "for i in eachindex(vars)\n",
    "    ex = Symbol(vars[i])\n",
    "    @eval $ex = load($filename, vars[$i])\n",
    "end"
   ]
  },
  {
   "cell_type": "code",
   "execution_count": null,
   "metadata": {
    "scrolled": false
   },
   "outputs": [],
   "source": [
    "jpl_radar = readdlm(\"../Apophis_JPL_data.dat\", '\\t')\n",
    "\n",
    "#monostatic mode: check that each receiver and transmitter are the same\n",
    "@show all( jpl_radar[:,7] .== jpl_radar[:,8] )\n",
    "\n",
    "#extract transmitter frequencies (Hz)\n",
    "transmitter_freq = jpl_radar[:,6]*1e6;\n",
    "\n",
    "#then, get the station codes\n",
    "station_codes = Int.(jpl_radar[:,7]);\n",
    "\n",
    "#construct vector of observation times\n",
    "#####`union` removes repeated elements\n",
    "#NOTE: resulting vector does not include t0\n",
    "df_jpl = \"y-m-d H:M:S\"\n",
    "tv_jpl = Dates.datetime2julian.(  DateTime.(jpl_radar[:,2], df_jpl))\n",
    "\n",
    "#check that time vectors from NEODyS and JPL are the same\n",
    "#tv_neodys_obs == union(t0, tv_jpl[tv_jpl .> t0])\n",
    "tv_jpl_utc = DateTime.(jpl_radar[:,2], df_jpl)[8:end]\n",
    "tv_jpl_utc_julian = Dates.datetime2julian.(tv_jpl_utc)\n",
    "tv_jpl_utc_julian_unrepeated = union(julian(UTCEpoch(TDBEpoch(t0, origin=:julian))).Δt, tv_jpl_utc_julian);"
   ]
  },
  {
   "cell_type": "code",
   "execution_count": null,
   "metadata": {},
   "outputs": [],
   "source": [
    "#get index vector of observation times\n",
    "#takes into account only times in `tv_jpl_integ` greater than t0\n",
    "radar_jpl_obs_ind = map(y->findfirst(x->x == y, tv_jpl), tv_jpl_utc_julian_unrepeated[2:end]);"
   ]
  },
  {
   "cell_type": "code",
   "execution_count": null,
   "metadata": {},
   "outputs": [],
   "source": [
    "#check that we got `radar_obs_ind` right\n",
    "tv_jpl[radar_jpl_obs_ind] == tv_jpl_utc_julian_unrepeated[2:end]"
   ]
  },
  {
   "cell_type": "code",
   "execution_count": null,
   "metadata": {},
   "outputs": [],
   "source": [
    "#get set of indices in jpl_radar[:,5] which are, resp., delay and Doppler observations (>t0)\n",
    "del_ind = findall(y->y==\"us\", jpl_radar[:,5])[3:end]\n",
    "dop_ind = findall(y->y==\"Hz\", jpl_radar[:,5])[6:end];"
   ]
  },
  {
   "cell_type": "markdown",
   "metadata": {},
   "source": [
    "Let $\\vec R$ denote the geocentric position of the observing station, $\\vec \\rho$ the topocentric position of the asteroid relative to the same station,  $\\vec r_\\mathrm{a}$ the geocentric position of the asteroid and $\\vec r_\\mathrm{E}$ the geocentric position of the asteroid. Then we have\n",
    "\n",
    "$$\n",
    "\\vec r_\\mathrm{a} =\\vec r_\\mathrm{E} + \\vec R + \\vec \\rho\n",
    "$$\n",
    "\n",
    "Thus, the instantaneous topocentric range $\\rho = |\\vec \\rho|$ of the asteroid may be computed as\n",
    "\n",
    "$$\n",
    "\\rho = |\\vec r_\\mathrm{a} - \\vec r_\\mathrm{E} - \\vec R| = \\sqrt{(x_\\mathrm{a} - x_\\mathrm{E} - X)^2+(y_\\mathrm{a} - y_\\mathrm{E} - Y)^2+(z_\\mathrm{a} - z_\\mathrm{E} - Z)^2}\n",
    "$$\n",
    "\n",
    "And the instantaneous range rate $\\dot \\rho$ may be computed as:\n",
    "\n",
    "$$\n",
    "\\dot \\rho = \\frac{1}{\\rho}\\vec{\\rho} \\cdot \\dot{\\vec{\\rho}}\n",
    "$$\n",
    "\n",
    "#### Questions\n",
    "- Is TDB the actual independent variable in the integration of the Solar System's equations of motion? ANSWER: YES\n",
    "- Where can I get the integrated values (evolution?) of the orientation of the Moon, so that I do not have to integrate that from the beginning (1969)?"
   ]
  },
  {
   "cell_type": "markdown",
   "metadata": {},
   "source": [
    "# Delay/Doppler observations reduction"
   ]
  },
  {
   "cell_type": "code",
   "execution_count": null,
   "metadata": {
    "scrolled": true
   },
   "outputs": [],
   "source": [
    "niters = 3 # number of iterations in time delay recursive process\n",
    "rad_ind = radar_jpl_obs_ind[2]"
   ]
  },
  {
   "cell_type": "code",
   "execution_count": null,
   "metadata": {},
   "outputs": [],
   "source": [
    "station_codes[rad_ind]"
   ]
  },
  {
   "cell_type": "markdown",
   "metadata": {},
   "source": [
    "tdelay, dshift = delay_doppler(\n",
    "    xv1[3, :],\n",
    "    station_codes[rad_ind],\n",
    "    tv_jpl[rad_ind],\n",
    "    transmitter_freq[rad_ind],\n",
    "    niters\n",
    ")"
   ]
  },
  {
   "cell_type": "code",
   "execution_count": null,
   "metadata": {
    "scrolled": true
   },
   "outputs": [],
   "source": [
    "tdelay_jpl, dshift_jpl = delay_doppler_jpleph(\n",
    "    station_codes[rad_ind],\n",
    "    tv_jpl[rad_ind],\n",
    "    transmitter_freq[rad_ind],\n",
    "    niters\n",
    ")"
   ]
  },
  {
   "cell_type": "markdown",
   "metadata": {
    "scrolled": true
   },
   "source": [
    "tdelay"
   ]
  },
  {
   "cell_type": "code",
   "execution_count": null,
   "metadata": {},
   "outputs": [],
   "source": [
    "tdelay_jpl"
   ]
  },
  {
   "cell_type": "markdown",
   "metadata": {
    "scrolled": true
   },
   "source": [
    "102682986.05 - tdelay() #O-C"
   ]
  },
  {
   "cell_type": "code",
   "execution_count": null,
   "metadata": {},
   "outputs": [],
   "source": [
    "jpl_radar[del_ind[1],3]"
   ]
  },
  {
   "cell_type": "code",
   "execution_count": null,
   "metadata": {},
   "outputs": [],
   "source": [
    "tdelay_jpl"
   ]
  },
  {
   "cell_type": "code",
   "execution_count": null,
   "metadata": {},
   "outputs": [],
   "source": [
    "jpl_radar[del_ind[1],3] - tdelay_jpl #O-C, JPL"
   ]
  },
  {
   "cell_type": "code",
   "execution_count": null,
   "metadata": {},
   "outputs": [],
   "source": []
  },
  {
   "cell_type": "markdown",
   "metadata": {},
   "source": [
    "dshift"
   ]
  },
  {
   "cell_type": "markdown",
   "metadata": {},
   "source": [
    "57880.250 - dshift() #O-C"
   ]
  },
  {
   "cell_type": "code",
   "execution_count": null,
   "metadata": {},
   "outputs": [],
   "source": [
    "57880.250 - dshift_jpl #O-C, JPL"
   ]
  },
  {
   "cell_type": "code",
   "execution_count": null,
   "metadata": {},
   "outputs": [],
   "source": []
  },
  {
   "cell_type": "markdown",
   "metadata": {
    "scrolled": true
   },
   "source": [
    "#get time-delay, Doppler-shift values from integration\n",
    "\n",
    "tdelay_v1 = Array{Taylor1{Float64}}(undef, length(tv_jpl_integ)-1)\n",
    "dshift_v1 = Array{Taylor1{Float64}}(undef, length(tv_jpl_integ)-1)\n",
    "\n",
    "for i in eachindex(tv_jpl_utc_julian_unrepeated[2:end])\n",
    "    j = radar_jpl_obs_ind[i]\n",
    "    tdelay_v1[i], dshift_v1[i] = delay_doppler(\n",
    "        xv1[i+1, :],\n",
    "        station_codes[j],\n",
    "        tv_jpl[j],\n",
    "        transmitter_freq[j],\n",
    "        niters\n",
    "    )\n",
    "end\n"
   ]
  },
  {
   "cell_type": "code",
   "execution_count": null,
   "metadata": {
    "scrolled": true
   },
   "outputs": [],
   "source": [
    "# get time-delay, Doppler-shift values from integration\n",
    "\n",
    "tdelay_JPL_v1 = Array{Float64}(undef, length(tv_jpl_utc_julian_unrepeated)-1)\n",
    "dshift_JPL_v1 = Array{Float64}(undef, length(tv_jpl_utc_julian_unrepeated)-1)\n",
    "\n",
    "for i in eachindex(tv_jpl_utc_julian_unrepeated[2:end])\n",
    "    j = radar_jpl_obs_ind[i]\n",
    "    tdelay_JPL_v1[i], dshift_JPL_v1[i] = delay_doppler_jpleph(\n",
    "        station_codes[j],\n",
    "        tv_jpl[j],\n",
    "        transmitter_freq[j],\n",
    "        niters\n",
    "    )\n",
    "end"
   ]
  },
  {
   "cell_type": "markdown",
   "metadata": {},
   "source": [
    "# Time-delay / Doppler shift plots"
   ]
  },
  {
   "cell_type": "code",
   "execution_count": null,
   "metadata": {},
   "outputs": [],
   "source": [
    "#get corresponding set of indices in tv_jpl_integ\n",
    "tv_del_ind = findall(x->in(x, tv_jpl[del_ind]), tv_jpl_utc_julian_unrepeated) .- 1\n",
    "tv_dop_ind = findall(x->in(x, tv_jpl[dop_ind]), tv_jpl_utc_julian_unrepeated) .- 1;"
   ]
  },
  {
   "cell_type": "code",
   "execution_count": null,
   "metadata": {},
   "outputs": [],
   "source": [
    "#check that indices are correct\n",
    "union(sort(vcat(tv_del_ind, tv_dop_ind))) == collect(1:29)"
   ]
  },
  {
   "cell_type": "markdown",
   "metadata": {},
   "source": [
    "#TaylorIntegration.jl: Observed minus computed (O-C) residuals\n",
    "\n",
    "#absolute (TaylorIntegration.jl)\n",
    "residual_td = Float64.(jpl_radar[del_ind,3]) - tdelay_v1[tv_del_ind] # (usec)\n",
    "residual_ds = Float64.(jpl_radar[dop_ind,3]) - dshift_v1[tv_dop_ind] # (Hz)\n",
    "\n",
    "#relative (TaylorIntegration.jl)\n",
    "rel_res_td = residual_td ./ Float64.(jpl_radar[del_ind,3]) # (usec)\n",
    "rel_res_ds = residual_ds ./ Float64.(jpl_radar[dop_ind,3]); # (Hz)"
   ]
  },
  {
   "cell_type": "code",
   "execution_count": null,
   "metadata": {},
   "outputs": [],
   "source": [
    "# Observed minus computed (O-C) residuals\n",
    "\n",
    "# absolute (JPL DE430+s199)\n",
    "residual_JPL_td = Float64.(jpl_radar[del_ind,3]) - tdelay_JPL_v1[tv_del_ind] # (usec)\n",
    "residual_JPL_ds = Float64.(jpl_radar[dop_ind,3]) - dshift_JPL_v1[tv_dop_ind] # (Hz)\n",
    "\n",
    "# relative (JPL DE430+s199)\n",
    "rel_res_JPL_td = residual_JPL_td ./ Float64.(jpl_radar[del_ind,3]) # (usec)\n",
    "rel_res_JPL_ds = residual_JPL_ds ./ Float64.(jpl_radar[dop_ind,3]); # (Hz)"
   ]
  },
  {
   "cell_type": "code",
   "execution_count": null,
   "metadata": {
    "scrolled": false
   },
   "outputs": [],
   "source": [
    "scatter(\n",
    "    tv_jpl_utc_julian_unrepeated[tv_del_ind .+ 1].-t0,\n",
    "    tdelay_JPL_v1[tv_del_ind],\n",
    "    label=\"predicted (JPL DE430+s199)\",\n",
    "    marker=:star4\n",
    ")\n",
    "#scatter!(\n",
    "#    tv_jpl_utc_julian_unrepeated[tv_del_ind .+ 1].-t0,\n",
    "#    tdelay_v1[tv_del_ind](),\n",
    "#    label=\"predicted (TaylorIntegration.jl)\",\n",
    "#    marker=:xcross\n",
    "#)\n",
    "scatter!(\n",
    "    tv_jpl_utc_julian_unrepeated[tv_del_ind .+ 1].-t0,\n",
    "    Float64.(jpl_radar[del_ind,3]),\n",
    "    label=\"observed (JPL)\",\n",
    "    legend=:topleft,\n",
    "    marker=:cross,\n",
    "    yerror=Float64.(jpl_radar[del_ind,4])\n",
    ")\n",
    "title!(\"Time delay vs time\")\n",
    "xlabel!(\"t-t0 [Julian days]\")\n",
    "ylabel!(\"Total time delay [microseconds]\")\n",
    "#xlims!(1550, 1580)\n",
    "#ylims!(9e7,1.1e8)"
   ]
  },
  {
   "cell_type": "code",
   "execution_count": null,
   "metadata": {
    "scrolled": false
   },
   "outputs": [],
   "source": [
    "scatter(\n",
    "    tv_jpl_utc_julian_unrepeated[tv_dop_ind .+ 1].-t0,\n",
    "    dshift_JPL_v1[tv_dop_ind],\n",
    "    label=\"predicted (JPL DE430+s199)\",\n",
    "    marker=:star4\n",
    ")\n",
    "#scatter!(\n",
    "#    tv_jpl_utc_julian_unrepeated[tv_dop_ind .+ 1].-t0,\n",
    "#    dshift_v1[tv_dop_ind](),\n",
    "#    label=\"predicted (TaylorIntegration.jl)\",\n",
    "#    marker=:xcross\n",
    "#)\n",
    "scatter!(\n",
    "    tv_jpl_utc_julian_unrepeated[tv_dop_ind .+ 1].-t0,\n",
    "    Float64.(jpl_radar[dop_ind,3]),\n",
    "    label=\"observed (JPL)\",\n",
    "    legend=:topright,\n",
    "    marker=:cross,\n",
    "    yerror=Float64.(jpl_radar[dop_ind,4])\n",
    ")\n",
    "title!(\"Doppler shift vs time\")\n",
    "xlabel!(\"t-t0 [Julian days]\")\n",
    "ylabel!(\"Total Doppler shift [Hz]\")\n",
    "#xlims!(1600,1640)"
   ]
  },
  {
   "cell_type": "code",
   "execution_count": null,
   "metadata": {
    "scrolled": false
   },
   "outputs": [],
   "source": [
    "plot(\n",
    "    tv_jpl_utc_julian_unrepeated[tv_del_ind .+ 1].-t0,\n",
    "    #299792.458*1e-6residual_JPL_td, yerror = 299792.458*1e-6Float64.(jpl_radar[del_ind,4]),\n",
    "    residual_JPL_td, yerror=Float64.(jpl_radar[del_ind,4]),\n",
    "    marker=:xcross,\n",
    "    label = \"time delay (O-C) (JPL DE430+s199)\",\n",
    "    legend = :bottomright\n",
    ")\n",
    "#scatter!(\n",
    "#    tv_jpl_utc_julian_unrepeated[tv_del_ind .+ 1].-t0,\n",
    "#    residual_td(),\n",
    "#    yerror=Float64.(jpl_radar[del_ind,4]),\n",
    "#    marker=:cross,\n",
    "#    label = \"time delay (O-C) (TaylorIntegration.jl)\"\n",
    "#)\n",
    "title!(\"Time delay O-C residuals\")\n",
    "xlabel!(\"t-t0 [Julian days]\")\n",
    "#ylabel!(\"Total time delay resid. (O-C) [km]\")\n",
    "ylabel!(\"Total time delay resid. (O-C) [us]\")\n",
    "#ylims!(0,60)"
   ]
  },
  {
   "cell_type": "code",
   "execution_count": null,
   "metadata": {},
   "outputs": [],
   "source": [
    "scatter(\n",
    "    tv_jpl_utc_julian_unrepeated[tv_dop_ind .+ 1].-t0,\n",
    "    residual_JPL_ds,\n",
    "    yerror=Float64.(jpl_radar[dop_ind,4]),\n",
    "    marker=:xcross,\n",
    "    label = \"Doppler shift (O-C) (JPL DE430+s199)\",\n",
    "    legend=:topright\n",
    ")\n",
    "#scatter!(\n",
    "#    tv_jpl_utc_julian_unrepeated[tv_dop_ind .+ 1].-t0,\n",
    "#    residual_ds(),\n",
    "#    yerror=Float64.(jpl_radar[dop_ind,4]),\n",
    "#    marker=:cross,\n",
    "#    label = \"Doppler shift (O-C) (TaylorIntegration.jl)\",\n",
    "#    legend=:bottomright\n",
    "#)\n",
    "title!(\"Doppler shift residuals\")\n",
    "xlabel!(\"t-t0 [Julian days]\")\n",
    "ylabel!(\"Total Doppler shift resid. (O-C) [Hz]\")\n",
    "#xlims!(1540,1580)"
   ]
  },
  {
   "cell_type": "markdown",
   "metadata": {
    "scrolled": false
   },
   "source": [
    "scatter(\n",
    "    tv_jpl_utc_julian_unrepeated[tv_del_ind .+ 1].-t0,\n",
    "    (299792458*1e-9/2)*residual_JPL_td,\n",
    "    yerror=(299792458*1e-9/2)*Float64.(jpl_radar[del_ind,4]),\n",
    "    marker=:xcross,\n",
    "    label = \"time delay (O-C) (JPL DE430+s199)\"\n",
    ")\n",
    "title!(\"Time delay O-C residuals\")\n",
    "xlabel!(\"t-t0 [Julian days]\")\n",
    "ylabel!(\"Total time delay resid. (O-C) [km]\")"
   ]
  },
  {
   "cell_type": "markdown",
   "metadata": {},
   "source": [
    "scatter(\n",
    "    tv_jpl_utc_julian_unrepeated[tv_dop_ind .+ 1].-t0,\n",
    "    residual_JPL_ds,\n",
    "    yerror=Float64.(jpl_radar[dop_ind,4]),\n",
    "    marker=:xcross,\n",
    "    label = \"Doppler shift (O-C) (JPL DE430+s199)\"\n",
    ")"
   ]
  },
  {
   "cell_type": "code",
   "execution_count": null,
   "metadata": {},
   "outputs": [],
   "source": []
  },
  {
   "cell_type": "code",
   "execution_count": null,
   "metadata": {},
   "outputs": [],
   "source": []
  },
  {
   "cell_type": "code",
   "execution_count": null,
   "metadata": {},
   "outputs": [],
   "source": []
  },
  {
   "cell_type": "code",
   "execution_count": null,
   "metadata": {},
   "outputs": [],
   "source": [
    "scatter(\n",
    "    tv_jpl_utc_julian_unrepeated[tv_del_ind .+ 1].-t0,\n",
    "    rel_res_td(),\n",
    "    yerror=Float64.(jpl_radar[del_ind,4])./Float64.(jpl_radar[del_ind,3]),\n",
    "    label=\"Relative time delay O-C resid. (TaylorIntegration)\",\n",
    "    marker=:cross,\n",
    "    legend=:topright\n",
    ")\n",
    "scatter!(\n",
    "    tv_jpl_utc_julian_unrepeated[tv_del_ind .+ 1].-t0,\n",
    "    rel_res_JPL_td,\n",
    "    yerror=Float64.(jpl_radar[del_ind,4])./Float64.(jpl_radar[del_ind,3]),\n",
    "    label=\"Relative time delay residual (DE430+s199)\",\n",
    "    marker=:xcross,\n",
    "    legend=:topright\n",
    ")\n",
    "title!(\"Time delay relative O-C resid.\")\n",
    "xlabel!(\"t-t0 [Julian days]\")"
   ]
  },
  {
   "cell_type": "code",
   "execution_count": null,
   "metadata": {
    "scrolled": false
   },
   "outputs": [],
   "source": [
    "scatter(\n",
    "    tv_jpl_utc_julian_unrepeated[tv_dop_ind .+ 1].-t0,\n",
    "    rel_res_ds(),\n",
    "    yerror=Float64.(jpl_radar[dop_ind,4])./Float64.(jpl_radar[dop_ind,3]),\n",
    "    label=\"Relative Doppler shift O-C resid. (TI)\",\n",
    "    legend=:bottomright,\n",
    "    marker=:cross\n",
    ")\n",
    "scatter!(\n",
    "    tv_jpl_utc_julian_unrepeated[tv_dop_ind .+ 1].-t0,\n",
    "    rel_res_JPL_ds,\n",
    "    yerror=Float64.(jpl_radar[dop_ind,4])./Float64.(jpl_radar[dop_ind,3]),\n",
    "    label=\"Relative Doppler shift O-C resid. (JPL)\",\n",
    "    legend=:bottomright,\n",
    "    marker=:xcross\n",
    ")\n",
    "title!(\"Doppler shift relative residuals\")\n",
    "xlabel!(\"t-t0 [Julian days]\")"
   ]
  },
  {
   "cell_type": "markdown",
   "metadata": {},
   "source": [
    "plot(\n",
    "    tv_jpl_utc_julian_unrepeated[tv_del_ind .+ 1].-t0,\n",
    "    rel_res_JPL_td,\n",
    "    yerror=Float64.(jpl_radar[del_ind,4])./Float64.(jpl_radar[del_ind,3]),\n",
    "    label=\"Relative time delay residual (DE430+s199)\",\n",
    "    marker=:xcross,\n",
    "    legend=:topright\n",
    ")"
   ]
  },
  {
   "cell_type": "markdown",
   "metadata": {},
   "source": [
    "scatter(\n",
    "    tv_jpl_utc_julian_unrepeated[tv_dop_ind .+ 1].-t0,\n",
    "    rel_res_JPL_ds,\n",
    "    yerror=Float64.(jpl_radar[dop_ind,4])./Float64.(jpl_radar[dop_ind,3]),\n",
    "    label=\"Relative Doppler shift O-C resid. (JPL)\",\n",
    "    legend=:bottomright,\n",
    "    marker=:xcross\n",
    ")"
   ]
  },
  {
   "cell_type": "markdown",
   "metadata": {},
   "source": [
    "#check that HORIZONS (s#199) and downloaded SPK file for Apophis are the same\n",
    "#according to this check, they differ at the end of the evaluated times by ~ 2m in position\n",
    "tv_spkvhor = range(2454733.5, length=1001, stop=2456367.5)\n",
    "apophis_spk_arr = Array{Float64}(undef, length(tv_spkvhor), 6)\n",
    "for i in eachindex(tv_spkvhor)\n",
    "    apophis_spk_arr[i,:] .= Apophis.apophis_pv(tv_spkvhor[i])\n",
    "end\n",
    "apophis_horizons_arr = readdlm(\"../wld103954.15\")\n",
    "@show norm((apophis_spk_arr .- apophis_horizons_arr)[end,1:3])\n",
    "@show norm((apophis_spk_arr .- apophis_horizons_arr)[end,4:6])\n",
    ";"
   ]
  },
  {
   "cell_type": "code",
   "execution_count": null,
   "metadata": {},
   "outputs": [],
   "source": []
  },
  {
   "cell_type": "code",
   "execution_count": null,
   "metadata": {},
   "outputs": [],
   "source": []
  },
  {
   "cell_type": "code",
   "execution_count": null,
   "metadata": {},
   "outputs": [],
   "source": []
  },
  {
   "cell_type": "markdown",
   "metadata": {},
   "source": [
    "# Yarkovsky $A_2$ coefficient estimation"
   ]
  },
  {
   "cell_type": "code",
   "execution_count": null,
   "metadata": {
    "scrolled": true
   },
   "outputs": [],
   "source": [
    "tdelay_v1[1] # τ(A2) = p(A2)"
   ]
  },
  {
   "cell_type": "code",
   "execution_count": null,
   "metadata": {},
   "outputs": [],
   "source": [
    "tdelay_v1[1]-constant_term(tdelay_v1[1]) # δτ(A2) = τ(A2) - τ(A2=0) = p(A2) - τ(A2=0) = p[1]*A2+p[2]*A2^2+... ( p[0]=τ(A2=0) )"
   ]
  },
  {
   "cell_type": "code",
   "execution_count": null,
   "metadata": {},
   "outputs": [],
   "source": [
    "inverse( tdelay_v1[1]-constant_term(tdelay_v1[1]) ) # A2(δτ) = q(δτ) = q[1]*δτ+q[2]*δτ^2+... (q[0]=0)"
   ]
  },
  {
   "cell_type": "code",
   "execution_count": null,
   "metadata": {},
   "outputs": [],
   "source": [
    "td_us = tdelay_v1[tv_del_ind]\n",
    "ds_Hz = dshift_v1[tv_dop_ind];"
   ]
  },
  {
   "cell_type": "code",
   "execution_count": null,
   "metadata": {
    "scrolled": false
   },
   "outputs": [],
   "source": [
    "A2_δτ_v = (  inverse.( td_us-td_us() )  ) # vector of A2(δr) polynomials at each delay observation;\n",
    "A2_δf_v = (  inverse.( ds_Hz-ds_Hz() )  ) # vector of A2(δvr) polynomials at each Doppler observation;"
   ]
  },
  {
   "cell_type": "code",
   "execution_count": null,
   "metadata": {},
   "outputs": [],
   "source": [
    "A2_del_v = map((x,y)->x(y), A2_δτ_v, residual_td()); # A2(δτ) polynomials evaluated at the O-C time delay residuals;\n",
    "A2_dop_v = map((x,y)->x(y), A2_δf_v, residual_ds()); # A2(δf_Doppler) polynomials evaluated at the O-C Doppler shift residuals;"
   ]
  },
  {
   "cell_type": "code",
   "execution_count": null,
   "metadata": {
    "scrolled": false
   },
   "outputs": [],
   "source": [
    "A2_del_v"
   ]
  },
  {
   "cell_type": "code",
   "execution_count": null,
   "metadata": {
    "scrolled": false
   },
   "outputs": [],
   "source": [
    "A2_dop_v"
   ]
  },
  {
   "cell_type": "code",
   "execution_count": null,
   "metadata": {
    "scrolled": true
   },
   "outputs": [],
   "source": [
    "mean(A2_del_v), std(A2_del_v)"
   ]
  },
  {
   "cell_type": "code",
   "execution_count": null,
   "metadata": {},
   "outputs": [],
   "source": [
    "mean(A2_dop_v), std(A2_dop_v)"
   ]
  },
  {
   "cell_type": "code",
   "execution_count": null,
   "metadata": {},
   "outputs": [],
   "source": [
    "scatter(tv_jpl_utc_julian_unrepeated[tv_del_ind .+ 1].-t0, A2_del_v, leg=false, marker=:cross)\n",
    "xlabel!(\"t-t0 [Julian days]\")\n",
    "ylabel!(\"A2(dt) x 10^14 [au/d^2]\")\n",
    "ylims!(1.1minimum(A2_del_v),0)"
   ]
  },
  {
   "cell_type": "code",
   "execution_count": null,
   "metadata": {},
   "outputs": [],
   "source": [
    "scatter(tv_jpl_utc_julian_unrepeated[tv_dop_ind .+ 1].-t0, A2_dop_v, leg=false, marker=:cross)\n",
    "xlabel!(\"t-t0 [Julian days]\")\n",
    "ylabel!(\"A2(df) x 10^14 [au/d^2]\")\n",
    "ylims!(1.1minimum(A2_dop_v),0)"
   ]
  },
  {
   "cell_type": "markdown",
   "metadata": {},
   "source": [
    "# Intervals"
   ]
  },
  {
   "cell_type": "code",
   "execution_count": null,
   "metadata": {},
   "outputs": [],
   "source": [
    "using IntervalArithmetic"
   ]
  },
  {
   "cell_type": "code",
   "execution_count": null,
   "metadata": {},
   "outputs": [],
   "source": [
    "residual_td_interval = interval.(\n",
    "    (jpl_radar[del_ind,3]-jpl_radar[del_ind,4])-tdelay_v1[tv_del_ind](), \n",
    "    (jpl_radar[del_ind,3]+jpl_radar[del_ind,4])-tdelay_v1[tv_del_ind]()\n",
    ")"
   ]
  },
  {
   "cell_type": "code",
   "execution_count": null,
   "metadata": {},
   "outputs": [],
   "source": [
    "residual_ds_interval = interval.(\n",
    "    (jpl_radar[dop_ind,3]-jpl_radar[dop_ind,4])-dshift_v1[tv_dop_ind](),\n",
    "    (jpl_radar[dop_ind,3]+jpl_radar[dop_ind,4])-dshift_v1[tv_dop_ind]()\n",
    ")"
   ]
  },
  {
   "cell_type": "code",
   "execution_count": null,
   "metadata": {},
   "outputs": [],
   "source": [
    "A2_del_v_interval = map((x,y)->x(y), A2_δτ_v, residual_td_interval)"
   ]
  },
  {
   "cell_type": "code",
   "execution_count": null,
   "metadata": {},
   "outputs": [],
   "source": [
    "A2_dop_v_interval = map((x,y)->x(y), A2_δf_v, residual_ds_interval)"
   ]
  },
  {
   "cell_type": "code",
   "execution_count": null,
   "metadata": {},
   "outputs": [],
   "source": [
    "scatter(\n",
    "    tv_jpl_utc_julian_unrepeated[tv_del_ind .+ 1].-t0,\n",
    "    A2_del_v,\n",
    "    yerror=radius.(A2_del_v_interval),\n",
    "    leg=false,\n",
    "    marker=:cross\n",
    ")\n",
    "ylims!(minimum(A2_del_v)-1,0)\n",
    "ylabel!(\"A2(dt) x 10^14 [au/d^2]\")\n",
    "xlabel!(\"t-t0 [Julian days]\")"
   ]
  },
  {
   "cell_type": "code",
   "execution_count": null,
   "metadata": {},
   "outputs": [],
   "source": [
    "scatter(\n",
    "    tv_jpl_utc_julian_unrepeated[tv_dop_ind .+ 1].-t0,\n",
    "    A2_dop_v,\n",
    "    yerror=radius.(A2_dop_v_interval),\n",
    "    leg=false,\n",
    "    marker=:cross\n",
    ")\n",
    "ylabel!(\"A2(df) x 10^14 [au/d^2]\")\n",
    "xlabel!(\"t-t0 [Julian days]\")"
   ]
  },
  {
   "cell_type": "code",
   "execution_count": null,
   "metadata": {},
   "outputs": [],
   "source": []
  },
  {
   "cell_type": "code",
   "execution_count": null,
   "metadata": {},
   "outputs": [],
   "source": [
    "scatter(\n",
    "    tv_jpl_utc_julian_unrepeated[tv_del_ind .+ 1].-t0,\n",
    "    A2_del_v,\n",
    "    yerror=radius.(A2_del_v_interval),\n",
    "    leg=false,\n",
    "    marker=:cross\n",
    ")\n",
    "scatter!(\n",
    "    tv_jpl_utc_julian_unrepeated[tv_dop_ind .+ 1].-t0,\n",
    "    A2_dop_v,\n",
    "    yerror=radius.(A2_dop_v_interval),\n",
    "    leg=false,\n",
    "    marker=:cross\n",
    ")"
   ]
  },
  {
   "cell_type": "code",
   "execution_count": null,
   "metadata": {},
   "outputs": [],
   "source": []
  },
  {
   "cell_type": "code",
   "execution_count": null,
   "metadata": {},
   "outputs": [],
   "source": []
  },
  {
   "cell_type": "code",
   "execution_count": null,
   "metadata": {},
   "outputs": [],
   "source": []
  },
  {
   "cell_type": "code",
   "execution_count": null,
   "metadata": {},
   "outputs": [],
   "source": []
  },
  {
   "cell_type": "code",
   "execution_count": null,
   "metadata": {},
   "outputs": [],
   "source": []
  },
  {
   "cell_type": "code",
   "execution_count": null,
   "metadata": {},
   "outputs": [],
   "source": []
  },
  {
   "cell_type": "code",
   "execution_count": null,
   "metadata": {},
   "outputs": [],
   "source": []
  },
  {
   "cell_type": "code",
   "execution_count": null,
   "metadata": {},
   "outputs": [],
   "source": []
  }
 ],
 "metadata": {
  "kernelspec": {
   "display_name": "Julia 1.1.0",
   "language": "julia",
   "name": "julia-1.1"
  },
  "language_info": {
   "file_extension": ".jl",
   "mimetype": "application/julia",
   "name": "julia",
   "version": "1.1.0"
  }
 },
 "nbformat": 4,
 "nbformat_minor": 2
}
