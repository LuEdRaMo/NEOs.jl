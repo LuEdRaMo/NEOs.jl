{
 "cells": [
  {
   "cell_type": "code",
   "execution_count": null,
   "metadata": {
    "scrolled": false
   },
   "outputs": [],
   "source": [
    ";pwd"
   ]
  },
  {
   "cell_type": "code",
   "execution_count": null,
   "metadata": {},
   "outputs": [],
   "source": [
    "]activate .."
   ]
  },
  {
   "cell_type": "code",
   "execution_count": null,
   "metadata": {},
   "outputs": [],
   "source": [
    "using Revise"
   ]
  },
  {
   "cell_type": "code",
   "execution_count": null,
   "metadata": {
    "scrolled": true
   },
   "outputs": [],
   "source": [
    "using Apophis"
   ]
  },
  {
   "cell_type": "code",
   "execution_count": null,
   "metadata": {},
   "outputs": [],
   "source": [
    "# using TaylorIntegration, LinearAlgebra # Apophis.jl @reexports TaylorIntegration and LinearAlgebra\n",
    "using Plots, DelimitedFiles, Dates\n",
    "using Statistics: mean, std\n",
    "using AstroTime"
   ]
  },
  {
   "cell_type": "code",
   "execution_count": null,
   "metadata": {},
   "outputs": [],
   "source": [
    "using JLD\n",
    "#recover integration from .jld file\n",
    "vars = [\"tv_jpl_integ\", \"xv1\", \"tvS1\", \"xvS1\", \"gvS1\"] #names of variables\n",
    "filename = string(\"Apophis_jt.jld\")\n",
    "for i in eachindex(vars)\n",
    "    ex = Symbol(vars[i])\n",
    "    @eval $ex = load($filename, vars[$i])\n",
    "end"
   ]
  },
  {
   "cell_type": "code",
   "execution_count": null,
   "metadata": {
    "scrolled": true
   },
   "outputs": [],
   "source": [
    "apophis_radar_data_2005_2013 = process_radar_data_jpl(\"../Apophis_JPL_data.dat\");"
   ]
  },
  {
   "cell_type": "code",
   "execution_count": null,
   "metadata": {},
   "outputs": [],
   "source": [
    "apophis_data = apophis_radar_data_2005_2013[6:end] #take only the 2012-2013 subset"
   ]
  },
  {
   "cell_type": "code",
   "execution_count": null,
   "metadata": {},
   "outputs": [],
   "source": [
    "#monostatic mode: check that each receiver and transmitter are the same\n",
    "@show all( ismonostatic.(apophis_data) )"
   ]
  },
  {
   "cell_type": "code",
   "execution_count": null,
   "metadata": {},
   "outputs": [],
   "source": [
    "#then, get the station codes\n",
    "station_codes = [x.rcvr for x in apophis_data];"
   ]
  },
  {
   "cell_type": "code",
   "execution_count": null,
   "metadata": {},
   "outputs": [],
   "source": [
    "#extract transmitter frequencies (MHz)\n",
    "transmitter_freq_MHz = [x.freq for x in apophis_data];"
   ]
  },
  {
   "cell_type": "code",
   "execution_count": null,
   "metadata": {},
   "outputs": [],
   "source": [
    "# get UTC receive times\n",
    "tv_jpl_utc_jul = [datetime2julian(x.utcepoch) for x in apophis_data];"
   ]
  },
  {
   "cell_type": "markdown",
   "metadata": {},
   "source": [
    "[x.utcepoch for x in apophis_data]"
   ]
  },
  {
   "cell_type": "markdown",
   "metadata": {},
   "source": [
    "Let $\\vec R$ denote the geocentric position of the observing station, $\\vec \\rho$ the topocentric position of the asteroid relative to the same station,  $\\vec r_\\mathrm{a}$ the geocentric position of the asteroid and $\\vec r_\\mathrm{E}$ the geocentric position of the asteroid. Then we have\n",
    "\n",
    "$$\n",
    "\\vec r_\\mathrm{a} =\\vec r_\\mathrm{E} + \\vec R + \\vec \\rho\n",
    "$$\n",
    "\n",
    "Thus, the instantaneous topocentric range $\\rho = |\\vec \\rho|$ of the asteroid may be computed as\n",
    "\n",
    "$$\n",
    "\\rho = |\\vec r_\\mathrm{a} - \\vec r_\\mathrm{E} - \\vec R| = \\sqrt{(x_\\mathrm{a} - x_\\mathrm{E} - X)^2+(y_\\mathrm{a} - y_\\mathrm{E} - Y)^2+(z_\\mathrm{a} - z_\\mathrm{E} - Z)^2}\n",
    "$$\n",
    "\n",
    "And the instantaneous range rate $\\dot \\rho$ may be computed as:\n",
    "\n",
    "$$\n",
    "\\dot \\rho = \\frac{1}{\\rho}\\vec{\\rho} \\cdot \\dot{\\vec{\\rho}}\n",
    "$$\n",
    "\n",
    "#### Questions\n",
    "- Is TDB the actual independent variable in the integration of the Solar System's equations of motion? ANSWER: YES\n",
    "- Where can I get the integrated values (evolution?) of the orientation of the Moon, so that I do not have to integrate that from the beginning (1969)?"
   ]
  },
  {
   "cell_type": "markdown",
   "metadata": {},
   "source": [
    "# Delay/Doppler observations reduction"
   ]
  },
  {
   "cell_type": "code",
   "execution_count": null,
   "metadata": {
    "scrolled": true
   },
   "outputs": [],
   "source": [
    "niters = 3 # number of iterations in time delay recursive process\n",
    "rad_ind = 2"
   ]
  },
  {
   "cell_type": "code",
   "execution_count": null,
   "metadata": {},
   "outputs": [],
   "source": [
    "station_codes[rad_ind]"
   ]
  },
  {
   "cell_type": "code",
   "execution_count": null,
   "metadata": {},
   "outputs": [],
   "source": [
    "UTCEpoch.(TDBEpoch.(tv_jpl_integ, origin=:julian))"
   ]
  },
  {
   "cell_type": "code",
   "execution_count": null,
   "metadata": {},
   "outputs": [],
   "source": [
    "apophis_data[rad_ind].utcepoch"
   ]
  },
  {
   "cell_type": "code",
   "execution_count": null,
   "metadata": {},
   "outputs": [],
   "source": [
    "tdelay, dshift = delay_doppler(\n",
    "    xv1[rad_ind+1, :],\n",
    "    station_codes[rad_ind],\n",
    "    apophis_data[rad_ind].utcepoch,\n",
    "    transmitter_freq_MHz[rad_ind],\n",
    "    niters\n",
    ")"
   ]
  },
  {
   "cell_type": "code",
   "execution_count": null,
   "metadata": {
    "scrolled": false
   },
   "outputs": [],
   "source": [
    "tdelay_jpl, dshift_jpl = delay_doppler_jpleph(\n",
    "    station_codes[rad_ind],\n",
    "    apophis_data[rad_ind].utcepoch,\n",
    "    transmitter_freq_MHz[rad_ind],\n",
    "    niters\n",
    ")"
   ]
  },
  {
   "cell_type": "code",
   "execution_count": null,
   "metadata": {
    "scrolled": false
   },
   "outputs": [],
   "source": [
    "apophis_data[rad_ind].delay # observed value"
   ]
  },
  {
   "cell_type": "code",
   "execution_count": null,
   "metadata": {},
   "outputs": [],
   "source": [
    "1.0268298605e8 #μseconds\n",
    "0.0000003025 * 1.0268298605e8 # magicfactor*delay μseconds"
   ]
  },
  {
   "cell_type": "code",
   "execution_count": null,
   "metadata": {},
   "outputs": [],
   "source": [
    "tdelay_jpl #computed value"
   ]
  },
  {
   "cell_type": "code",
   "execution_count": null,
   "metadata": {
    "scrolled": true
   },
   "outputs": [],
   "source": [
    "tdelay()"
   ]
  },
  {
   "cell_type": "code",
   "execution_count": null,
   "metadata": {},
   "outputs": [],
   "source": [
    "apophis_data[rad_ind].delay - tdelay() #O-C, TaylorIntegration"
   ]
  },
  {
   "cell_type": "code",
   "execution_count": null,
   "metadata": {},
   "outputs": [],
   "source": [
    "apophis_data[rad_ind].delay - tdelay_jpl #O-C, JPL"
   ]
  },
  {
   "cell_type": "code",
   "execution_count": null,
   "metadata": {},
   "outputs": [],
   "source": [
    "dshift_jpl"
   ]
  },
  {
   "cell_type": "code",
   "execution_count": null,
   "metadata": {
    "scrolled": true
   },
   "outputs": [],
   "source": [
    "dshift()"
   ]
  },
  {
   "cell_type": "code",
   "execution_count": null,
   "metadata": {},
   "outputs": [],
   "source": [
    "apophis_data[rad_ind].doppler"
   ]
  },
  {
   "cell_type": "code",
   "execution_count": null,
   "metadata": {
    "scrolled": true
   },
   "outputs": [],
   "source": [
    "apophis_data[rad_ind].doppler - dshift() #TaylorIntegration"
   ]
  },
  {
   "cell_type": "code",
   "execution_count": null,
   "metadata": {
    "scrolled": true
   },
   "outputs": [],
   "source": [
    "apophis_data[rad_ind].doppler - dshift_jpl #O-C, JPL"
   ]
  },
  {
   "cell_type": "code",
   "execution_count": null,
   "metadata": {},
   "outputs": [],
   "source": []
  },
  {
   "cell_type": "code",
   "execution_count": null,
   "metadata": {},
   "outputs": [],
   "source": []
  },
  {
   "cell_type": "code",
   "execution_count": null,
   "metadata": {},
   "outputs": [],
   "source": [
    "size(xv1)"
   ]
  },
  {
   "cell_type": "code",
   "execution_count": null,
   "metadata": {},
   "outputs": [],
   "source": [
    "size(apophis_data)"
   ]
  },
  {
   "cell_type": "code",
   "execution_count": null,
   "metadata": {
    "scrolled": true
   },
   "outputs": [],
   "source": [
    "#get time-delay, Doppler-shift values from integration\n",
    "\n",
    "tdelay_v1 = Array{Taylor1{Float64}}(undef, length(apophis_data))\n",
    "dshift_v1 = Array{Taylor1{Float64}}(undef, length(apophis_data))\n",
    "\n",
    "for i in eachindex(apophis_data)\n",
    "    tdelay_v1[i], dshift_v1[i] = delay_doppler(\n",
    "        xv1[i+1, :],\n",
    "        apophis_data[i].rcvr,\n",
    "        apophis_data[i].utcepoch,\n",
    "        apophis_data[i].freq,\n",
    "        niters\n",
    "    )\n",
    "end\n"
   ]
  },
  {
   "cell_type": "code",
   "execution_count": null,
   "metadata": {
    "scrolled": true
   },
   "outputs": [],
   "source": [
    "# compute time-delay, Doppler-shift values from JPL ephemerides\n",
    "\n",
    "tdelay_JPL_v1 = Array{Float64}(undef, length(apophis_data))\n",
    "dshift_JPL_v1 = Array{Float64}(undef, length(apophis_data))\n",
    "\n",
    "for i in eachindex(apophis_data)\n",
    "    tdelay_JPL_v1[i], dshift_JPL_v1[i] = delay_doppler_jpleph(\n",
    "        apophis_data[i].rcvr,\n",
    "        apophis_data[i].utcepoch,\n",
    "        apophis_data[i].freq,\n",
    "        niters\n",
    "    )\n",
    "end"
   ]
  },
  {
   "cell_type": "markdown",
   "metadata": {},
   "source": [
    "# Time-delay / Doppler shift plots"
   ]
  },
  {
   "cell_type": "code",
   "execution_count": null,
   "metadata": {},
   "outputs": [],
   "source": [
    "delay_index = findall(x->x.delay_units==\"us\", apophis_data)\n",
    "doppler_index = findall(x->x.doppler_units==\"Hz\", apophis_data);"
   ]
  },
  {
   "cell_type": "code",
   "execution_count": null,
   "metadata": {},
   "outputs": [],
   "source": [
    "tdelay_jpl_obs = [x.delay for x in apophis_data][delay_index]\n",
    "dshift_jpl_obs = [x.doppler for x in apophis_data][doppler_index]\n",
    "\n",
    "tdelay_jpl_obs_sigma = [x.delay_sigma for x in apophis_data][delay_index]\n",
    "dshift_jpl_obs_sigma = [x.doppler_sigma for x in apophis_data][doppler_index];"
   ]
  },
  {
   "cell_type": "code",
   "execution_count": null,
   "metadata": {},
   "outputs": [],
   "source": [
    "# Observed minus computed (O-C) residuals: JPL DE430+s199\n",
    "\n",
    "# absolute\n",
    "residual_JPL_td = tdelay_jpl_obs - tdelay_JPL_v1[delay_index]  # (usec) <- 1.000000302 magic factor\n",
    "residual_JPL_ds = dshift_jpl_obs - dshift_JPL_v1[doppler_index] # (Hz)\n",
    "\n",
    "# relative\n",
    "rel_res_JPL_td = residual_JPL_td ./ tdelay_jpl_obs # (usec)\n",
    "rel_res_JPL_ds = residual_JPL_ds ./ dshift_jpl_obs # (Hz)\n",
    ";"
   ]
  },
  {
   "cell_type": "code",
   "execution_count": null,
   "metadata": {},
   "outputs": [],
   "source": [
    "# Observed minus computed (O-C) residuals: TaylorIntegration.jl\n",
    "\n",
    "# absolute\n",
    "#residual_td = tdelay_jpl_obs - (tdelay_v1[delay_index]-tdelay_v1()[delay_index]+tdelay_JPL_v1[delay_index])  # (usec) <- 1.0000003 magic factor\n",
    "#residual_ds = dshift_jpl_obs - (dshift_v1[doppler_index]-dshift_v1()[doppler_index]+dshift_JPL_v1[doppler_index]) # (Hz)\n",
    "residual_td = tdelay_jpl_obs - (tdelay_v1[delay_index])  # (usec)\n",
    "residual_ds = dshift_jpl_obs - (dshift_v1[doppler_index]) # (Hz)\n",
    "\n",
    "# relative\n",
    "rel_res_td = residual_td ./ tdelay_jpl_obs # (usec)\n",
    "rel_res_ds = residual_ds ./ dshift_jpl_obs # (Hz)\n",
    ";"
   ]
  },
  {
   "cell_type": "code",
   "execution_count": null,
   "metadata": {},
   "outputs": [],
   "source": []
  },
  {
   "cell_type": "code",
   "execution_count": null,
   "metadata": {
    "scrolled": false
   },
   "outputs": [],
   "source": [
    "scatter(\n",
    "    tv_jpl_utc_jul[delay_index].-t0,\n",
    "    tdelay_v1()[delay_index],\n",
    "    label=\"predicted (JPL DE430+s199)\",\n",
    "    marker=:cross\n",
    ")\n",
    "scatter!(\n",
    "    tv_jpl_utc_jul[delay_index].-t0,\n",
    "    tdelay_JPL_v1[delay_index],\n",
    "    label=\"predicted (JPL DE430+s199)\",\n",
    "    marker=:star4\n",
    ")\n",
    "scatter!(\n",
    "    tv_jpl_utc_jul[delay_index].-t0,\n",
    "    tdelay_jpl_obs,\n",
    "    label=\"observed (JPL)\",\n",
    "    legend=:topleft,\n",
    "    marker=:xcross,\n",
    "    yerror=dshift_jpl_obs_sigma\n",
    ")\n",
    "title!(\"Time delay vs time\")\n",
    "xlabel!(\"t-t0 [Julian days]\")\n",
    "ylabel!(\"Total time delay [microseconds]\")\n",
    "#xlims!(1540,1650)\n",
    "#ylims!(9e7,1.1e8)"
   ]
  },
  {
   "cell_type": "code",
   "execution_count": null,
   "metadata": {
    "scrolled": false
   },
   "outputs": [],
   "source": [
    "scatter(\n",
    "    tv_jpl_utc_jul[doppler_index].-t0,\n",
    "    dshift_v1()[doppler_index],\n",
    "    label=\"predicted (JPL DE430+s199)\",\n",
    "    marker=:cross\n",
    ")\n",
    "scatter!(\n",
    "    tv_jpl_utc_jul[doppler_index].-t0,\n",
    "    dshift_JPL_v1[doppler_index],\n",
    "    label=\"predicted (JPL DE430+s199)\",\n",
    "    marker=:star4\n",
    ")\n",
    "scatter!(\n",
    "    tv_jpl_utc_jul[doppler_index].-t0,\n",
    "    dshift_jpl_obs,\n",
    "    label=\"observed (JPL)\",\n",
    "    legend=:topright,\n",
    "    marker=:xcross,\n",
    "    yerror=dshift_jpl_obs_sigma\n",
    ")\n",
    "title!(\"Doppler shift vs time\")\n",
    "xlabel!(\"t-t0 [Julian days]\")\n",
    "ylabel!(\"Total Doppler shift [Hz]\")\n",
    "#xlims!(1540,1650)"
   ]
  },
  {
   "cell_type": "code",
   "execution_count": null,
   "metadata": {
    "scrolled": false
   },
   "outputs": [],
   "source": [
    "scatter(\n",
    "    tv_jpl_utc_jul[delay_index].-t0,\n",
    "    #299792.458*1e-6residual_JPL_td, yerror = 299792.458*1e-6tdelay_jpl_obs_sigma,\n",
    "    residual_td(), yerror = tdelay_jpl_obs_sigma,\n",
    "    marker=:xcross,\n",
    "    label = \"TaylorIntegration\",\n",
    "    legend = :topright\n",
    ")\n",
    "scatter!(\n",
    "    tv_jpl_utc_jul[delay_index].-t0,\n",
    "    #299792.458*1e-6residual_JPL_td, yerror = 299792.458*1e-6tdelay_jpl_obs_sigma,\n",
    "    residual_JPL_td, yerror = tdelay_jpl_obs_sigma,\n",
    "    marker=:cross,\n",
    "    label = \"time delay (O-C) (JPL DE430+s199)\",\n",
    "    legend = :topright\n",
    ")\n",
    "title!(\"Time delay O-C residuals\")\n",
    "xlabel!(\"t-t0 [Julian days]\")\n",
    "#ylabel!(\"Total time delay resid. (O-C) [km]\")\n",
    "ylabel!(\"Total time delay resid. (O-C) [us]\")\n",
    "#xlims!(1545,1585)"
   ]
  },
  {
   "cell_type": "code",
   "execution_count": null,
   "metadata": {
    "scrolled": false
   },
   "outputs": [],
   "source": [
    "scatter(\n",
    "    #tv_jpl_utc_jul[delay_index].-t0, 299792.458*1e-6residual_JPL_td, yerror = 299792.458*1e-6tdelay_jpl_obs_sigma,\n",
    "    #tv_jpl_utc_jul[delay_index].-t0,residual_JPL_td, yerror = tdelay_jpl_obs_sigma,\n",
    "    tv_jpl_utc_jul[delay_index][1:end-3].-t0, residual_JPL_td[1:end-3], yerror = tdelay_jpl_obs_sigma[1:end-3],\n",
    "    marker=:cross,\n",
    "    label = \"time delay (O-C) (JPL DE430+s199)\",\n",
    "    legend = :topleft\n",
    ")\n",
    "#ylims!(-0,80)\n",
    "#yticks!(-10:5:80)\n",
    "ylabel!(\"Total time delay resid. (O-C) [us]\")\n",
    "xlabel!(\"t-t0 [Julian days]\")"
   ]
  },
  {
   "cell_type": "code",
   "execution_count": null,
   "metadata": {
    "scrolled": false
   },
   "outputs": [],
   "source": [
    "scatter(\n",
    "    #tv_jpl_utc_jul[delay_index].-t0, 299792.458*1e-6residual_JPL_td, yerror = 299792.458*1e-6tdelay_jpl_obs_sigma,\n",
    "    tv_jpl_utc_jul[delay_index].-t0,residual_JPL_td, yerror = tdelay_jpl_obs_sigma,\n",
    "    #tv_jpl_utc_jul[delay_index][1:end-3].-t0, residual_JPL_td[1:end-3], yerror = tdelay_jpl_obs_sigma[1:end-3],\n",
    "    marker=:cross,\n",
    "    label = \"time delay (O-C) (JPL DE430+s199)\",\n",
    "    legend = :topleft\n",
    ")\n",
    "#ylims!(-0,80)\n",
    "#yticks!(-10:5:80)\n",
    "ylabel!(\"Total time delay resid. (O-C) [us]\")\n",
    "xlabel!(\"t-t0 [Julian days]\")"
   ]
  },
  {
   "cell_type": "code",
   "execution_count": null,
   "metadata": {},
   "outputs": [],
   "source": [
    "scatter(\n",
    "    tv_jpl_utc_jul[doppler_index].-t0,\n",
    "    residual_ds(), yerror = dshift_jpl_obs_sigma,\n",
    "    marker=:xcross,\n",
    "    label = \"Doppler shift (O-C) (JPL DE430+s199)\",\n",
    "    legend=:topright\n",
    ")\n",
    "scatter!(\n",
    "    tv_jpl_utc_jul[doppler_index].-t0,\n",
    "    residual_JPL_ds, yerror = dshift_jpl_obs_sigma,\n",
    "    marker=:cross,\n",
    "    label = \"Doppler shift (O-C) (JPL DE430+s199)\",\n",
    "    legend=:bottomright\n",
    ")\n",
    "title!(\"Doppler shift residuals\")\n",
    "xlabel!(\"t-t0 [Julian days]\")\n",
    "ylabel!(\"Total Doppler shift resid. (O-C) [Hz]\")\n",
    "#xlims!(1545,1585)"
   ]
  },
  {
   "cell_type": "code",
   "execution_count": null,
   "metadata": {},
   "outputs": [],
   "source": []
  },
  {
   "cell_type": "markdown",
   "metadata": {
    "scrolled": false
   },
   "source": [
    "scatter(\n",
    "    tv_jpl_utc_julian_unrepeated[tv_del_ind .+ 1].-t0,\n",
    "    (299792458*1e-9/2)*residual_JPL_td,\n",
    "    yerror=(299792458*1e-9/2)*Float64.(jpl_radar[del_ind,4]),\n",
    "    marker=:xcross,\n",
    "    label = \"time delay (O-C) (JPL DE430+s199)\"\n",
    ")\n",
    "title!(\"Time delay O-C residuals\")\n",
    "xlabel!(\"t-t0 [Julian days]\")\n",
    "ylabel!(\"Total time delay resid. (O-C) [km]\")"
   ]
  },
  {
   "cell_type": "markdown",
   "metadata": {},
   "source": [
    "scatter(\n",
    "    tv_jpl_utc_julian_unrepeated[tv_dop_ind .+ 1].-t0,\n",
    "    residual_JPL_ds,\n",
    "    yerror=Float64.(jpl_radar[dop_ind,4]),\n",
    "    marker=:xcross,\n",
    "    label = \"Doppler shift (O-C) (JPL DE430+s199)\"\n",
    ")"
   ]
  },
  {
   "cell_type": "code",
   "execution_count": null,
   "metadata": {},
   "outputs": [],
   "source": []
  },
  {
   "cell_type": "code",
   "execution_count": null,
   "metadata": {},
   "outputs": [],
   "source": []
  },
  {
   "cell_type": "code",
   "execution_count": null,
   "metadata": {},
   "outputs": [],
   "source": []
  },
  {
   "cell_type": "code",
   "execution_count": null,
   "metadata": {},
   "outputs": [],
   "source": [
    "scatter(\n",
    "    tv_jpl_utc_jul[delay_index].-t0,\n",
    "    rel_res_JPL_td,\n",
    "    yerror = tdelay_jpl_obs_sigma./tdelay_jpl_obs,\n",
    "    label=\"Relative time delay residual (DE430+s199)\",\n",
    "    marker=:xcross,\n",
    "    legend=:topright\n",
    ")\n",
    "#scatter(\n",
    "#    tv_jpl_utc_jul[delay_index].-t0,\n",
    "#    rel_res_td(),\n",
    "#    yerror = tdelay_jpl_obs_sigma./tdelay_jpl_obs,\n",
    "#    label=\"Relative time delay O-C resid. (TaylorIntegration)\",\n",
    "#    marker=:cross,\n",
    "#    legend=:topright\n",
    "#)\n",
    "title!(\"Time delay relative O-C resid.\")\n",
    "xlabel!(\"t-t0 [Julian days]\")\n",
    "#ylims!(3.0e-7, 3.1e-7)\n"
   ]
  },
  {
   "cell_type": "code",
   "execution_count": null,
   "metadata": {},
   "outputs": [],
   "source": [
    "scatter(\n",
    "    tv_jpl_utc_jul[delay_index].-t0,\n",
    "    rel_res_td(),\n",
    "    yerror = tdelay_jpl_obs_sigma./tdelay_jpl_obs,\n",
    "    label=\"Relative time delay O-C resid. (TaylorIntegration)\",\n",
    "    marker=:cross,\n",
    "    legend=:topright\n",
    ")\n",
    "scatter!(\n",
    "    tv_jpl_utc_jul[delay_index].-t0,\n",
    "    rel_res_JPL_td,\n",
    "    yerror = tdelay_jpl_obs_sigma./tdelay_jpl_obs,\n",
    "    label=\"Relative time delay residual (DE430+s199)\",\n",
    "    marker=:xcross,\n",
    "    legend=:topright\n",
    ")\n",
    "title!(\"Time delay relative O-C resid.\")\n",
    "xlabel!(\"t-t0 [Julian days]\")"
   ]
  },
  {
   "cell_type": "code",
   "execution_count": null,
   "metadata": {
    "scrolled": false
   },
   "outputs": [],
   "source": [
    "scatter(\n",
    "    tv_jpl_utc_jul[doppler_index].-t0,\n",
    "    rel_res_ds(),\n",
    "    yerror = dshift_jpl_obs_sigma./dshift_jpl_obs,\n",
    "    label=\"Relative Doppler shift O-C resid. (TI)\",\n",
    "    legend=:bottomright,\n",
    "    marker=:cross\n",
    ")\n",
    "scatter!(\n",
    "    tv_jpl_utc_jul[doppler_index].-t0,\n",
    "    rel_res_JPL_ds,\n",
    "    yerror = dshift_jpl_obs_sigma./dshift_jpl_obs,\n",
    "    label=\"Relative Doppler shift O-C resid. (JPL)\",\n",
    "    legend=:bottomright,\n",
    "    marker=:xcross\n",
    ")\n",
    "title!(\"Doppler shift relative residuals\")\n",
    "xlabel!(\"t-t0 [Julian days]\")"
   ]
  },
  {
   "cell_type": "markdown",
   "metadata": {},
   "source": [
    "plot(\n",
    "    tv_jpl_utc_julian_unrepeated[tv_del_ind .+ 1].-t0,\n",
    "    rel_res_JPL_td,\n",
    "    yerror=Float64.(jpl_radar[del_ind,4])./Float64.(jpl_radar[del_ind,3]),\n",
    "    label=\"Relative time delay residual (DE430+s199)\",\n",
    "    marker=:xcross,\n",
    "    legend=:topright\n",
    ")"
   ]
  },
  {
   "cell_type": "markdown",
   "metadata": {},
   "source": [
    "scatter(\n",
    "    tv_jpl_utc_julian_unrepeated[tv_dop_ind .+ 1].-t0,\n",
    "    rel_res_JPL_ds,\n",
    "    yerror=Float64.(jpl_radar[dop_ind,4])./Float64.(jpl_radar[dop_ind,3]),\n",
    "    label=\"Relative Doppler shift O-C resid. (JPL)\",\n",
    "    legend=:bottomright,\n",
    "    marker=:xcross\n",
    ")"
   ]
  },
  {
   "cell_type": "markdown",
   "metadata": {},
   "source": [
    "#check that HORIZONS (s#199) and downloaded SPK file for Apophis are the same\n",
    "#according to this check, they differ at the end of the evaluated times by ~ 2m in position\n",
    "tv_spkvhor = range(2454733.5, length=1001, stop=2456367.5)\n",
    "apophis_spk_arr = Array{Float64}(undef, length(tv_spkvhor), 6)\n",
    "for i in eachindex(tv_spkvhor)\n",
    "    apophis_spk_arr[i,:] .= Apophis.apophis_pv(tv_spkvhor[i])\n",
    "end\n",
    "apophis_horizons_arr = readdlm(\"../wld103954.15\")\n",
    "@show norm((apophis_spk_arr .- apophis_horizons_arr)[end,1:3])\n",
    "@show norm((apophis_spk_arr .- apophis_horizons_arr)[end,4:6])\n",
    ";"
   ]
  },
  {
   "cell_type": "code",
   "execution_count": null,
   "metadata": {},
   "outputs": [],
   "source": []
  },
  {
   "cell_type": "code",
   "execution_count": null,
   "metadata": {},
   "outputs": [],
   "source": []
  },
  {
   "cell_type": "code",
   "execution_count": null,
   "metadata": {},
   "outputs": [],
   "source": []
  },
  {
   "cell_type": "markdown",
   "metadata": {},
   "source": [
    "# Yarkovsky $A_2$ coefficient estimation"
   ]
  },
  {
   "cell_type": "code",
   "execution_count": null,
   "metadata": {
    "scrolled": false
   },
   "outputs": [],
   "source": [
    "tdelay_v1[1] # τ(A2) = p(A2)"
   ]
  },
  {
   "cell_type": "code",
   "execution_count": null,
   "metadata": {},
   "outputs": [],
   "source": [
    "tdelay_v1[1]-constant_term(tdelay_v1[1]) # δτ(A2) = τ(A2) - τ(A2=0) = p(A2) - τ(A2=0) = p[1]*A2+p[2]*A2^2+... ( p[0]=τ(A2=0) )"
   ]
  },
  {
   "cell_type": "code",
   "execution_count": null,
   "metadata": {},
   "outputs": [],
   "source": [
    "inverse( tdelay_v1[1]-constant_term(tdelay_v1[1]) ) # A2(δτ) = q(δτ) = q[1]*δτ+q[2]*δτ^2+... (q[0]=0)"
   ]
  },
  {
   "cell_type": "code",
   "execution_count": null,
   "metadata": {},
   "outputs": [],
   "source": [
    "td_us = tdelay_v1[delay_index]\n",
    "ds_Hz = dshift_v1[doppler_index];"
   ]
  },
  {
   "cell_type": "code",
   "execution_count": null,
   "metadata": {
    "scrolled": false
   },
   "outputs": [],
   "source": [
    "A2_δτ_v = (  inverse.( td_us-td_us() )  ) # vector of A2(δr) polynomials at each delay observation;\n",
    "A2_δf_v = (  inverse.( ds_Hz-ds_Hz() )  ) # vector of A2(δvr) polynomials at each Doppler observation;"
   ]
  },
  {
   "cell_type": "code",
   "execution_count": null,
   "metadata": {},
   "outputs": [],
   "source": [
    "A2_del_v = map((x,y)->x(y), A2_δτ_v, residual_td()); # A2(δτ) polynomials evaluated at the O-C time delay residuals;\n",
    "A2_dop_v = map((x,y)->x(y), A2_δf_v, residual_ds()); # A2(δf_Doppler) polynomials evaluated at the O-C Doppler shift residuals;"
   ]
  },
  {
   "cell_type": "code",
   "execution_count": null,
   "metadata": {
    "scrolled": false
   },
   "outputs": [],
   "source": [
    "A2_del_v"
   ]
  },
  {
   "cell_type": "code",
   "execution_count": null,
   "metadata": {
    "scrolled": false
   },
   "outputs": [],
   "source": [
    "A2_dop_v"
   ]
  },
  {
   "cell_type": "code",
   "execution_count": null,
   "metadata": {
    "scrolled": true
   },
   "outputs": [],
   "source": [
    "mean(A2_del_v), std(A2_del_v)"
   ]
  },
  {
   "cell_type": "code",
   "execution_count": null,
   "metadata": {},
   "outputs": [],
   "source": [
    "mean(A2_dop_v), std(A2_dop_v)"
   ]
  },
  {
   "cell_type": "code",
   "execution_count": null,
   "metadata": {},
   "outputs": [],
   "source": [
    "scatter(\n",
    "    tv_jpl_utc_jul[delay_index].-t0,\n",
    "    A2_del_v,\n",
    "    leg=false, marker=:cross\n",
    ")\n",
    "xlabel!(\"t-t0 [Julian days]\")\n",
    "ylabel!(\"A2(dt) x 10^14 [au/d^2]\")\n",
    "#ylims!(1.1minimum(A2_del_v),0)"
   ]
  },
  {
   "cell_type": "code",
   "execution_count": null,
   "metadata": {
    "scrolled": false
   },
   "outputs": [],
   "source": [
    "scatter(\n",
    "    tv_jpl_utc_jul[doppler_index].-t0,\n",
    "    A2_dop_v,\n",
    "    leg=false, marker=:cross\n",
    ")\n",
    "xlabel!(\"t-t0 [Julian days]\")\n",
    "ylabel!(\"A2(df) x 10^14 [au/d^2]\")\n",
    "#ylims!(1.1minimum(A2_dop_v),0)"
   ]
  },
  {
   "cell_type": "code",
   "execution_count": null,
   "metadata": {},
   "outputs": [],
   "source": [
    "scatter(\n",
    "    tv_jpl_utc_jul[delay_index].-t0,\n",
    "    A2_del_v,\n",
    "    leg=false, marker=:cross\n",
    ")\n",
    "scatter!(\n",
    "    tv_jpl_utc_jul[doppler_index].-t0,\n",
    "    A2_dop_v,\n",
    "    leg=false, marker=:cross\n",
    ")\n",
    "xlabel!(\"t-t0 [Julian days]\")\n",
    "ylabel!(\"A2 x 10^14 [au/d^2]\")"
   ]
  },
  {
   "cell_type": "code",
   "execution_count": null,
   "metadata": {},
   "outputs": [],
   "source": [
    "scatter(\n",
    "    tv_jpl_utc_jul[delay_index[1:end-3]].-t0,\n",
    "    A2_del_v[1:end-3],\n",
    "    leg=false, marker=:cross\n",
    ")\n",
    "scatter!(\n",
    "    tv_jpl_utc_jul[doppler_index[1:end-7]].-t0,\n",
    "    A2_dop_v[1:end-7],\n",
    "    leg=false, marker=:cross\n",
    ")\n",
    "xlabel!(\"t-t0 [Julian days]\")\n",
    "ylabel!(\"A2 x 10^14 [au/d^2]\")"
   ]
  },
  {
   "cell_type": "code",
   "execution_count": null,
   "metadata": {},
   "outputs": [],
   "source": [
    "A2_all = vcat(A2_del_v[1:end-3], A2_dop_v[1:end-7])"
   ]
  },
  {
   "cell_type": "code",
   "execution_count": null,
   "metadata": {},
   "outputs": [],
   "source": [
    "mean(A2_all), std(A2_all)"
   ]
  },
  {
   "cell_type": "markdown",
   "metadata": {},
   "source": [
    "# Intervals"
   ]
  },
  {
   "cell_type": "code",
   "execution_count": null,
   "metadata": {},
   "outputs": [],
   "source": [
    "using IntervalArithmetic"
   ]
  },
  {
   "cell_type": "code",
   "execution_count": null,
   "metadata": {},
   "outputs": [],
   "source": [
    "residual_td_interval = interval.(\n",
    "    (tdelay_jpl_obs-tdelay_jpl_obs_sigma)-tdelay_v1[delay_index](), \n",
    "    (tdelay_jpl_obs+tdelay_jpl_obs_sigma)-tdelay_v1[delay_index]()\n",
    ")"
   ]
  },
  {
   "cell_type": "code",
   "execution_count": null,
   "metadata": {},
   "outputs": [],
   "source": [
    "residual_ds_interval = interval.(\n",
    "    (dshift_jpl_obs-dshift_jpl_obs_sigma)-dshift_v1[doppler_index](),\n",
    "    (dshift_jpl_obs+dshift_jpl_obs_sigma)-dshift_v1[doppler_index]()\n",
    ")"
   ]
  },
  {
   "cell_type": "code",
   "execution_count": null,
   "metadata": {},
   "outputs": [],
   "source": [
    "A2_del_v_interval = map((x,y)->x(y), A2_δτ_v, residual_td_interval)"
   ]
  },
  {
   "cell_type": "code",
   "execution_count": null,
   "metadata": {},
   "outputs": [],
   "source": [
    "A2_dop_v_interval = map((x,y)->x(y), A2_δf_v, residual_ds_interval)"
   ]
  },
  {
   "cell_type": "code",
   "execution_count": null,
   "metadata": {},
   "outputs": [],
   "source": [
    "scatter(\n",
    "    tv_jpl_utc_jul[delay_index].-t0,\n",
    "    mid.(A2_del_v_interval),\n",
    "    yerror=radius.(A2_del_v_interval),\n",
    "    label=\"delay\",\n",
    "    leg=:bottomright,\n",
    "    marker=:cross\n",
    ")\n",
    "#ylims!(minimum(A2_del_v)-1,0)\n",
    "ylabel!(\"A2(dt) x 10^14 [au/d^2]\")\n",
    "xlabel!(\"t-t0 [Julian days]\")"
   ]
  },
  {
   "cell_type": "code",
   "execution_count": null,
   "metadata": {},
   "outputs": [],
   "source": [
    "scatter(\n",
    "    tv_jpl_utc_jul[doppler_index].-t0,\n",
    "    mid.(A2_dop_v_interval),\n",
    "    yerror=radius.(A2_dop_v_interval),\n",
    "    label=\"doppler\",\n",
    "    marker=:cross\n",
    ")\n",
    "ylabel!(\"A2(df) x 10^14 [au/d^2]\")\n",
    "xlabel!(\"t-t0 [Julian days]\")"
   ]
  },
  {
   "cell_type": "code",
   "execution_count": null,
   "metadata": {},
   "outputs": [],
   "source": []
  },
  {
   "cell_type": "code",
   "execution_count": null,
   "metadata": {},
   "outputs": [],
   "source": [
    "scatter(\n",
    "    tv_jpl_utc_jul[delay_index].-t0,\n",
    "    mid.(A2_del_v_interval),\n",
    "    yerror=radius.(A2_del_v_interval),\n",
    "    marker=:cross,\n",
    "    leg=:bottomleft,\n",
    "    label=\"delay\"\n",
    ")\n",
    "scatter!(\n",
    "    tv_jpl_utc_jul[doppler_index].-t0,\n",
    "    mid.(A2_dop_v_interval),\n",
    "    yerror=radius.(A2_dop_v_interval),\n",
    "    marker=:cross,\n",
    "    label=\"doppler\"\n",
    ")"
   ]
  },
  {
   "cell_type": "code",
   "execution_count": null,
   "metadata": {},
   "outputs": [],
   "source": [
    "scatter(\n",
    "    tv_jpl_utc_jul[delay_index][1:end-3].-t0,\n",
    "    mid.(A2_del_v_interval)[1:end-3],\n",
    "    yerror=radius.(A2_del_v_interval[1:end-3]),\n",
    "    marker=:cross,\n",
    "    leg=:bottomright,\n",
    "    label=\"delay\"\n",
    ")\n",
    "scatter!(\n",
    "    tv_jpl_utc_jul[doppler_index][1:end-7].-t0,\n",
    "    mid.(A2_dop_v_interval)[1:end-7],\n",
    "    yerror=radius.(A2_dop_v_interval[1:end-7]),\n",
    "    marker=:xcross,\n",
    "    label=\"doppler\"\n",
    ")\n",
    "plot!([1540, 1580], [-6.657, -6.657], label=\"mean adjusted value\")\n",
    "xlims!(1540, 1580)"
   ]
  },
  {
   "cell_type": "code",
   "execution_count": null,
   "metadata": {},
   "outputs": [],
   "source": [
    "mean(mid.(vcat(A2_del_v_interval[1:end-3], A2_dop_v_interval[1:end-7])))"
   ]
  },
  {
   "cell_type": "code",
   "execution_count": null,
   "metadata": {},
   "outputs": [],
   "source": [
    "mean(radius.(vcat(A2_del_v_interval[1:end-3], A2_dop_v_interval[1:end-7])))"
   ]
  },
  {
   "cell_type": "code",
   "execution_count": null,
   "metadata": {},
   "outputs": [],
   "source": []
  }
 ],
 "metadata": {
  "kernelspec": {
   "display_name": "Julia 1.1.0",
   "language": "julia",
   "name": "julia-1.1"
  },
  "language_info": {
   "file_extension": ".jl",
   "mimetype": "application/julia",
   "name": "julia",
   "version": "1.1.0"
  }
 },
 "nbformat": 4,
 "nbformat_minor": 2
}
