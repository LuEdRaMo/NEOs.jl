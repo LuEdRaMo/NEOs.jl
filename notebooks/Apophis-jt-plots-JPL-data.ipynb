{
 "cells": [
  {
   "cell_type": "code",
   "execution_count": null,
   "metadata": {
    "scrolled": true
   },
   "outputs": [],
   "source": [
    ";pwd"
   ]
  },
  {
   "cell_type": "code",
   "execution_count": null,
   "metadata": {},
   "outputs": [],
   "source": [
    "]activate .."
   ]
  },
  {
   "cell_type": "code",
   "execution_count": null,
   "metadata": {},
   "outputs": [],
   "source": [
    "using Revise"
   ]
  },
  {
   "cell_type": "code",
   "execution_count": null,
   "metadata": {
    "scrolled": true
   },
   "outputs": [],
   "source": [
    "using Apophis"
   ]
  },
  {
   "cell_type": "code",
   "execution_count": null,
   "metadata": {},
   "outputs": [],
   "source": [
    "# using TaylorIntegration, LinearAlgebra # Apophis.jl @reexports TaylorIntegration and LinearAlgebra\n",
    "using Plots, DelimitedFiles, Dates\n",
    "using Statistics: mean, std\n",
    "using AstroTime\n",
    "using Printf"
   ]
  },
  {
   "cell_type": "code",
   "execution_count": null,
   "metadata": {},
   "outputs": [],
   "source": [
    "using JLD\n",
    "#recover integration from .jld file\n",
    "vars = [\"tv_jpl_integ\", \"xv1\", \"tvS1\", \"xvS1\", \"gvS1\"] #names of variables\n",
    "filename = string(\"Apophis_jt.jld\")\n",
    "for i in eachindex(vars)\n",
    "    ex = Symbol(vars[i])\n",
    "    @eval $ex = load($filename, vars[$i])\n",
    "end"
   ]
  },
  {
   "cell_type": "code",
   "execution_count": null,
   "metadata": {
    "scrolled": true
   },
   "outputs": [],
   "source": [
    "apophis_radar_data_2005_2013 = process_radar_data_jpl(\"../Apophis_JPL_data.dat\");"
   ]
  },
  {
   "cell_type": "code",
   "execution_count": null,
   "metadata": {},
   "outputs": [],
   "source": [
    "apophis_data = apophis_radar_data_2005_2013[6:end] #take only the 2012-2013 subset"
   ]
  },
  {
   "cell_type": "code",
   "execution_count": null,
   "metadata": {},
   "outputs": [],
   "source": [
    "#monostatic mode: check that each receiver and transmitter are the same\n",
    "@show all( ismonostatic.(apophis_data) )"
   ]
  },
  {
   "cell_type": "code",
   "execution_count": null,
   "metadata": {},
   "outputs": [],
   "source": [
    "#then, get the station codes\n",
    "station_codes = [x.rcvr for x in apophis_data];"
   ]
  },
  {
   "cell_type": "code",
   "execution_count": null,
   "metadata": {},
   "outputs": [],
   "source": [
    "#extract transmitter frequencies (MHz)\n",
    "transmitter_freq_MHz = [x.freq for x in apophis_data];"
   ]
  },
  {
   "cell_type": "code",
   "execution_count": null,
   "metadata": {},
   "outputs": [],
   "source": [
    "# get UTC receive times\n",
    "tv_jpl_utc_jul = [datetime2julian(x.utcepoch) for x in apophis_data];"
   ]
  },
  {
   "cell_type": "markdown",
   "metadata": {},
   "source": [
    "Let $\\vec R$ denote the geocentric position of the observing station, $\\vec \\rho$ the topocentric position of the asteroid relative to the same station,  $\\vec r_\\mathrm{a}$ the geocentric position of the asteroid and $\\vec r_\\mathrm{E}$ the geocentric position of the asteroid. Then we have\n",
    "\n",
    "$$\n",
    "\\vec r_\\mathrm{a} =\\vec r_\\mathrm{E} + \\vec R + \\vec \\rho\n",
    "$$\n",
    "\n",
    "Thus, the instantaneous topocentric range $\\rho = |\\vec \\rho|$ of the asteroid may be computed as\n",
    "\n",
    "$$\n",
    "\\rho = |\\vec r_\\mathrm{a} - \\vec r_\\mathrm{E} - \\vec R| = \\sqrt{(x_\\mathrm{a} - x_\\mathrm{E} - X)^2+(y_\\mathrm{a} - y_\\mathrm{E} - Y)^2+(z_\\mathrm{a} - z_\\mathrm{E} - Z)^2}\n",
    "$$\n",
    "\n",
    "And the instantaneous range rate $\\dot \\rho$ may be computed as:\n",
    "\n",
    "$$\n",
    "\\dot \\rho = \\frac{1}{\\rho}\\vec{\\rho} \\cdot \\dot{\\vec{\\rho}}\n",
    "$$"
   ]
  },
  {
   "cell_type": "markdown",
   "metadata": {},
   "source": [
    "# Delay/Doppler observations reduction"
   ]
  },
  {
   "cell_type": "code",
   "execution_count": null,
   "metadata": {
    "scrolled": true
   },
   "outputs": [],
   "source": [
    "niters = 3 # number of iterations in time delay recursive process\n",
    "rad_ind = 2"
   ]
  },
  {
   "cell_type": "code",
   "execution_count": null,
   "metadata": {},
   "outputs": [],
   "source": [
    "station_codes[rad_ind]"
   ]
  },
  {
   "cell_type": "code",
   "execution_count": null,
   "metadata": {},
   "outputs": [],
   "source": [
    "UTCEpoch.(TDBEpoch.(tv_jpl_integ, origin=:julian))"
   ]
  },
  {
   "cell_type": "code",
   "execution_count": null,
   "metadata": {},
   "outputs": [],
   "source": [
    "apophis_data[rad_ind].utcepoch"
   ]
  },
  {
   "cell_type": "code",
   "execution_count": null,
   "metadata": {
    "scrolled": true
   },
   "outputs": [],
   "source": [
    "tdelay, dshift = delay_doppler(\n",
    "    xv1[rad_ind+1, :],\n",
    "    apophis_data[rad_ind].rcvr,\n",
    "    apophis_data[rad_ind].utcepoch,\n",
    "    apophis_data[rad_ind].freq,\n",
    "    niters\n",
    ")"
   ]
  },
  {
   "cell_type": "code",
   "execution_count": null,
   "metadata": {
    "scrolled": false
   },
   "outputs": [],
   "source": [
    "tdelay_jpl, dshift_jpl = delay_doppler_jpleph(\n",
    "    apophis_data[rad_ind].rcvr,\n",
    "    apophis_data[rad_ind].utcepoch,\n",
    "    apophis_data[rad_ind].freq,\n",
    "    niters\n",
    ")"
   ]
  },
  {
   "cell_type": "code",
   "execution_count": null,
   "metadata": {
    "scrolled": false
   },
   "outputs": [],
   "source": [
    "apophis_data[rad_ind].delay #DELAY observed value"
   ]
  },
  {
   "cell_type": "code",
   "execution_count": null,
   "metadata": {},
   "outputs": [],
   "source": [
    "tdelay_jpl #DELAY computed value, JPL"
   ]
  },
  {
   "cell_type": "code",
   "execution_count": null,
   "metadata": {},
   "outputs": [],
   "source": [
    "apophis_data[rad_ind].delay - tdelay_jpl #DELAY O-C, JPL"
   ]
  },
  {
   "cell_type": "code",
   "execution_count": null,
   "metadata": {
    "scrolled": true
   },
   "outputs": [],
   "source": [
    "tdelay() #DELAY computed value, TaylorIntegration.jl, with A2=0"
   ]
  },
  {
   "cell_type": "code",
   "execution_count": null,
   "metadata": {
    "scrolled": true
   },
   "outputs": [],
   "source": [
    "apophis_data[rad_ind].delay - tdelay() #DELAY O-C, TaylorIntegration, with A2=0"
   ]
  },
  {
   "cell_type": "code",
   "execution_count": null,
   "metadata": {
    "scrolled": true
   },
   "outputs": [],
   "source": [
    "apophis_data[rad_ind].delay - tdelay(-5.6844) #DELAY O-C, TaylorIntegration, with A2=-5.7"
   ]
  },
  {
   "cell_type": "code",
   "execution_count": null,
   "metadata": {},
   "outputs": [],
   "source": [
    "apophis_data[rad_ind].doppler #DOPPLER observed value"
   ]
  },
  {
   "cell_type": "code",
   "execution_count": null,
   "metadata": {},
   "outputs": [],
   "source": [
    "dshift_jpl #DOPPLER computed value, JPL"
   ]
  },
  {
   "cell_type": "code",
   "execution_count": null,
   "metadata": {
    "scrolled": true
   },
   "outputs": [],
   "source": [
    "apophis_data[rad_ind].doppler - dshift_jpl #DOPPLER O-C, JPL"
   ]
  },
  {
   "cell_type": "code",
   "execution_count": null,
   "metadata": {
    "scrolled": true
   },
   "outputs": [],
   "source": [
    "dshift() #DOPPLER computed value, TaylorIntegration.jl, with A2=0"
   ]
  },
  {
   "cell_type": "code",
   "execution_count": null,
   "metadata": {
    "scrolled": true
   },
   "outputs": [],
   "source": [
    "apophis_data[rad_ind].doppler - dshift() #DELAY O-C, TaylorIntegration, with A2=0"
   ]
  },
  {
   "cell_type": "code",
   "execution_count": null,
   "metadata": {
    "scrolled": true
   },
   "outputs": [],
   "source": [
    "apophis_data[rad_ind].doppler - dshift(-5.6844) #DELAY O-C, TaylorIntegration, with A2=-5.7"
   ]
  },
  {
   "cell_type": "code",
   "execution_count": null,
   "metadata": {},
   "outputs": [],
   "source": []
  },
  {
   "cell_type": "code",
   "execution_count": null,
   "metadata": {},
   "outputs": [],
   "source": []
  },
  {
   "cell_type": "code",
   "execution_count": null,
   "metadata": {
    "scrolled": true
   },
   "outputs": [],
   "source": [
    "#get time-delay, Doppler-shift values from integration\n",
    "\n",
    "tdelay_v1 = Array{Taylor1{Float64}}(undef, length(apophis_data))\n",
    "dshift_v1 = Array{Taylor1{Float64}}(undef, length(apophis_data))\n",
    "\n",
    "for i in eachindex(apophis_data)\n",
    "    tdelay_v1[i], dshift_v1[i] = delay_doppler(\n",
    "        xv1[i+1, :],\n",
    "        apophis_data[i].rcvr,\n",
    "        apophis_data[i].utcepoch,\n",
    "        apophis_data[i].freq,\n",
    "        niters\n",
    "    )\n",
    "end\n",
    "\n",
    "__tdelay_v1 = tdelay_v1\n",
    "__dshift_v1 = dshift_v1"
   ]
  },
  {
   "cell_type": "code",
   "execution_count": null,
   "metadata": {
    "scrolled": true
   },
   "outputs": [],
   "source": [
    "# compute time-delay, Doppler-shift values from JPL ephemerides\n",
    "\n",
    "tdelay_JPL_v1 = Array{Float64}(undef, length(apophis_data))\n",
    "dshift_JPL_v1 = Array{Float64}(undef, length(apophis_data))\n",
    "\n",
    "for i in eachindex(apophis_data)\n",
    "    tdelay_JPL_v1[i], dshift_JPL_v1[i] = delay_doppler_jpleph(\n",
    "        apophis_data[i].rcvr,\n",
    "        apophis_data[i].utcepoch,\n",
    "        apophis_data[i].freq,\n",
    "        niters\n",
    "    )\n",
    "end"
   ]
  },
  {
   "cell_type": "markdown",
   "metadata": {},
   "source": [
    "# Time-delay / Doppler shift plots"
   ]
  },
  {
   "cell_type": "code",
   "execution_count": null,
   "metadata": {},
   "outputs": [],
   "source": [
    "delay_index = findall(x->x.delay_units==\"us\", apophis_data)\n",
    "doppler_index = findall(x->x.doppler_units==\"Hz\", apophis_data);"
   ]
  },
  {
   "cell_type": "code",
   "execution_count": null,
   "metadata": {},
   "outputs": [],
   "source": [
    "tdelay_jpl_obs = [x.delay for x in apophis_data][delay_index]\n",
    "dshift_jpl_obs = [x.doppler for x in apophis_data][doppler_index]\n",
    "\n",
    "tdelay_jpl_obs_sigma = [x.delay_sigma for x in apophis_data][delay_index]\n",
    "dshift_jpl_obs_sigma = [x.doppler_sigma for x in apophis_data][doppler_index];"
   ]
  },
  {
   "cell_type": "code",
   "execution_count": null,
   "metadata": {},
   "outputs": [],
   "source": [
    "# Observed minus computed (O-C) residuals: JPL DE430+s199\n",
    "\n",
    "# absolute\n",
    "residual_JPL_td = tdelay_jpl_obs - tdelay_JPL_v1[delay_index]  # (usec)\n",
    "residual_JPL_ds = dshift_jpl_obs - dshift_JPL_v1[doppler_index] # (Hz)\n",
    "\n",
    "# relative\n",
    "rel_res_JPL_td = residual_JPL_td ./ tdelay_jpl_obs # (usec)\n",
    "rel_res_JPL_ds = residual_JPL_ds ./ dshift_jpl_obs # (Hz)\n",
    ";"
   ]
  },
  {
   "cell_type": "code",
   "execution_count": null,
   "metadata": {},
   "outputs": [],
   "source": [
    "residual_JPL_td"
   ]
  },
  {
   "cell_type": "code",
   "execution_count": null,
   "metadata": {
    "scrolled": false
   },
   "outputs": [],
   "source": [
    "residual_JPL_ds"
   ]
  },
  {
   "cell_type": "code",
   "execution_count": null,
   "metadata": {},
   "outputs": [],
   "source": []
  },
  {
   "cell_type": "code",
   "execution_count": null,
   "metadata": {},
   "outputs": [],
   "source": [
    "dshift_v1 == __dshift_v1, tdelay_v1 == __tdelay_v1"
   ]
  },
  {
   "cell_type": "code",
   "execution_count": null,
   "metadata": {},
   "outputs": [],
   "source": [
    "#Observed minus computed (O-C) residuals: TaylorIntegration.jl\n",
    "\n",
    "tdelay_v1 = __tdelay_v1\n",
    "dshift_v1 = __dshift_v1\n",
    "\n",
    "#tdelay_v1 = __tdelay_v1 - (__tdelay_v1() - tdelay_JPL_v1)\n",
    "#dshift_v1 = __dshift_v1 - (__dshift_v1() - dshift_JPL_v1)\n",
    "\n",
    "#absolute\n",
    "residual_td = tdelay_jpl_obs - (tdelay_v1[delay_index])  # (usec)\n",
    "residual_ds = dshift_jpl_obs - (dshift_v1[doppler_index]) # (Hz)\n",
    "\n",
    "#residual_td = tdelay_jpl_obs[3:end] - (tdelay_v1[1:end-5][delay_index[1:end-2]])  # (usec)\n",
    "#residual_ds = dshift_jpl_obs[6:end] - (dshift_v1[1:end-5][doppler_index[1:end-5]]) # (Hz)\n",
    "\n",
    "#relative\n",
    "rel_res_td = residual_td ./ tdelay_jpl_obs # (usec)\n",
    "rel_res_ds = residual_ds ./ dshift_jpl_obs # (Hz)\n",
    "\n",
    "#rel_res_td = residual_td ./ tdelay_jpl_obs[3:end] # (usec)\n",
    "#rel_res_ds = residual_ds ./ dshift_jpl_obs[6:end] # (Hz)\n",
    "\n",
    ";"
   ]
  },
  {
   "cell_type": "markdown",
   "metadata": {},
   "source": [
    "## Plots"
   ]
  },
  {
   "cell_type": "code",
   "execution_count": null,
   "metadata": {
    "scrolled": false
   },
   "outputs": [],
   "source": [
    "A2_plot = 0.0\n",
    "scatter(\n",
    "    tv_jpl_utc_jul[delay_index].-t0, tdelay_v1[delay_index](A2_plot),\n",
    "    label=\"predicted (TaylorIntegration, A2 = $A2_plot x 10^-14 au/d^2)\",\n",
    "    marker=:cross\n",
    ")\n",
    "scatter!(\n",
    "    tv_jpl_utc_jul[delay_index].-t0,\n",
    "    tdelay_JPL_v1[delay_index],\n",
    "    label=\"predicted (JPL DE430+s199)\",\n",
    "    marker=:xcross\n",
    ")\n",
    "scatter!(\n",
    "    tv_jpl_utc_jul[delay_index].-t0,\n",
    "    tdelay_jpl_obs,\n",
    "    label=\"observed (Goldstone, Arecibo 2012-2013)\",\n",
    "    legend=:topleft,\n",
    "    marker=:circle,\n",
    "    markersize=3,\n",
    "    yerror=dshift_jpl_obs_sigma\n",
    ")\n",
    "title!(\"Time delay vs time\")\n",
    "ylabel!(\"Total time delay [useconds]\")\n",
    "xlims!(1540, 1645)\n",
    "xticks!(1540:20:1640, string.(Date.(julian2datetime.(t0 .+ collect(1540:20:1640)))))\n",
    "xlabel!(\"Time\")"
   ]
  },
  {
   "cell_type": "code",
   "execution_count": null,
   "metadata": {
    "scrolled": false
   },
   "outputs": [],
   "source": [
    "A2_plot = 0.0\n",
    "scatter(\n",
    "    tv_jpl_utc_jul[doppler_index].-t0, dshift_v1[doppler_index](A2_plot),\n",
    "    label=\"predicted (TaylorIntegration, A2 = $A2_plot x 10^-14 au/d^2)\",\n",
    "    marker=:cross\n",
    ")\n",
    "scatter!(\n",
    "    tv_jpl_utc_jul[doppler_index].-t0,\n",
    "    dshift_JPL_v1[doppler_index],\n",
    "    label=\"predicted (JPL DE430+s199)\",\n",
    "    marker=:xcross\n",
    ")\n",
    "scatter!(\n",
    "    tv_jpl_utc_jul[doppler_index].-t0,\n",
    "    dshift_jpl_obs,\n",
    "    label=\"observed (Goldstone, Arecibo 2012-2013)\",\n",
    "    legend=:topright,\n",
    "    marker=:circle,\n",
    "    markersize=3,\n",
    "    yerror=dshift_jpl_obs_sigma\n",
    ")\n",
    "title!(\"Doppler shift vs time\")\n",
    "ylabel!(\"Total Doppler shift [Hz]\")\n",
    "xlims!(1540, 1645)\n",
    "xticks!(1540:20:1640, string.(Date.(julian2datetime.(t0 .+ collect(1540:20:1640)))))\n",
    "xlabel!(\"Time\")"
   ]
  },
  {
   "cell_type": "code",
   "execution_count": null,
   "metadata": {
    "scrolled": false
   },
   "outputs": [],
   "source": [
    "A2_plot = 0.0 #A2_lsqfit\n",
    "scatter(\n",
    "    tv_jpl_utc_jul[delay_index].-t0,\n",
    "    residual_td(A2_plot), yerror = tdelay_jpl_obs_sigma,\n",
    "    marker=:cross,\n",
    "    label = \"TaylorIntegration (A2 = $A2_plot x 10^-14 au/d^2)\",\n",
    "    legend = :topright\n",
    ")\n",
    "scatter!(\n",
    "    tv_jpl_utc_jul[delay_index].-t0,\n",
    "    residual_JPL_td, yerror = tdelay_jpl_obs_sigma,\n",
    "    marker=:xcross,\n",
    "    label = \"JPL DE430+s199\",\n",
    "    legend = :topright\n",
    ")\n",
    "title!(\"Time delay residuals (O-C)\")\n",
    "ylabel!(\"Total time delay resid. (O-C) [us]\")\n",
    "xlims!(1540, 1645)\n",
    "#ylims!(-215,210)\n",
    "xticks!(1540:20:1640, string.(Date.(julian2datetime.(t0 .+ collect(1540:20:1640)))))\n",
    "xlabel!(\"Time\")\n",
    "#savefig(\"delay_residuals_A2_minus_6.04.pdf\")\n",
    "#savefig(\"delay_residuals_A2_minus_5.7.pdf\")"
   ]
  },
  {
   "cell_type": "code",
   "execution_count": null,
   "metadata": {},
   "outputs": [],
   "source": [
    "A2_plot = 0.0\n",
    "scatter(\n",
    "    tv_jpl_utc_jul[doppler_index].-t0,\n",
    "    residual_ds(A2_plot), yerror = dshift_jpl_obs_sigma,\n",
    "    marker=:cross,\n",
    "    label = \"TaylorIntegration (A2 = $A2_plot x 10^-14 au/d^2)\",\n",
    "    leg=false\n",
    ")\n",
    "scatter!(\n",
    "    tv_jpl_utc_jul[doppler_index].-t0,\n",
    "    residual_JPL_ds, yerror = dshift_jpl_obs_sigma,\n",
    "    marker=:xcross,\n",
    "    label = \"JPL DE430+s199\",\n",
    "    legend=:topleft\n",
    ")\n",
    "title!(\"Doppler shift residuals (O-C)\")\n",
    "ylabel!(\"Total Doppler shift resid. (O-C) [Hz]\")\n",
    "xlims!(1540, 1645)\n",
    "xticks!(1540:20:1640, string.(Date.(julian2datetime.(t0 .+ collect(1540:20:1640)))))\n",
    "xlabel!(\"Time\")\n",
    "#savefig(\"doppler_residuals_A2_minus_6.04.pdf\")\n",
    "#savefig(\"doppler_residuals_A2_minus_5.7.pdf\")"
   ]
  },
  {
   "cell_type": "code",
   "execution_count": null,
   "metadata": {},
   "outputs": [],
   "source": []
  },
  {
   "cell_type": "code",
   "execution_count": null,
   "metadata": {
    "scrolled": false
   },
   "outputs": [],
   "source": [
    "scatter(\n",
    "    #tv_jpl_utc_jul[delay_index][1:end-3].-t0, residual_JPL_td[1:end-3], yerror = tdelay_jpl_obs_sigma[1:end-3],\n",
    "    #tv_jpl_utc_jul[delay_index][end-3:end].-t0, residual_JPL_td[end-3:end], yerror = tdelay_jpl_obs_sigma[end-3:end],\n",
    "    tv_jpl_utc_jul[delay_index].-t0, residual_JPL_td, yerror = tdelay_jpl_obs_sigma,\n",
    "    marker=:xcross,\n",
    "    label = \"JPL DE430+s199\",\n",
    "    legend = :topright\n",
    ")\n",
    "ylabel!(\"Total time delay resid. (O-C) [us]\")\n",
    "#xlims!(1540, 1645)\n",
    "#xticks!(1540:20:1640, string.(Date.(julian2datetime.(t0 .+ collect(1540:20:1640)))))\n",
    "xlabel!(\"Time\")\n",
    "title!(\"Time delay residuals (O-C)\")"
   ]
  },
  {
   "cell_type": "code",
   "execution_count": null,
   "metadata": {
    "scrolled": false
   },
   "outputs": [],
   "source": [
    "scatter(\n",
    "    tv_jpl_utc_jul[doppler_index].-t0,\n",
    "    residual_JPL_ds, yerror = dshift_jpl_obs_sigma,\n",
    "    marker=:xcross,\n",
    "    label = \"JPL DE430+s199\",\n",
    "    legend=:bottomright\n",
    ")\n",
    "title!(\"Doppler shift residuals (O-C)\")\n",
    "ylabel!(\"Total Doppler shift resid. (O-C) [Hz]\")\n",
    "xlims!(1540, 1645)\n",
    "xticks!(1540:20:1640, string.(Date.(julian2datetime.(t0 .+ collect(1540:20:1640)))))\n",
    "xlabel!(\"Time\")"
   ]
  },
  {
   "cell_type": "code",
   "execution_count": null,
   "metadata": {},
   "outputs": [],
   "source": [
    "scatter(\n",
    "    tv_jpl_utc_jul[delay_index].-t0,\n",
    "    rel_res_JPL_td,\n",
    "    yerror = tdelay_jpl_obs_sigma./tdelay_jpl_obs,\n",
    "    label=\"JPL DE430+s199\",\n",
    "    marker=:xcross,\n",
    "    legend=:topright\n",
    ")\n",
    "title!(\"Time delay relative resid. (O-C)/O\")\n",
    "xlims!(1540, 1645)\n",
    "xticks!(1540:20:1640, string.(Date.(julian2datetime.(t0 .+ collect(1540:20:1640)))))\n",
    "xlabel!(\"Time\")"
   ]
  },
  {
   "cell_type": "code",
   "execution_count": null,
   "metadata": {
    "scrolled": false
   },
   "outputs": [],
   "source": [
    "scatter(\n",
    "    tv_jpl_utc_jul[doppler_index].-t0,\n",
    "    rel_res_JPL_ds,\n",
    "    yerror = dshift_jpl_obs_sigma./dshift_jpl_obs,\n",
    "    label=\"JPL DE430+s199\",\n",
    "    legend=:bottomright,\n",
    "    marker=:xcross\n",
    ")\n",
    "title!(\"Doppler shift relative resid. (O-C)/O\")\n",
    "xlims!(1540, 1645)\n",
    "#ylims!(-1e-7, 1e-7)\n",
    "xticks!(1540:20:1640, string.(Date.(julian2datetime.(t0 .+ collect(1540:20:1640)))))\n",
    "xlabel!(\"Time\")"
   ]
  },
  {
   "cell_type": "code",
   "execution_count": null,
   "metadata": {},
   "outputs": [],
   "source": [
    "A2_plot = 0.0\n",
    "scatter(\n",
    "    tv_jpl_utc_jul[delay_index].-t0,\n",
    "    rel_res_td(A2_plot),\n",
    "    yerror = tdelay_jpl_obs_sigma./tdelay_jpl_obs,\n",
    "    label=\"TaylorIntegration (A2 = $A2_plot x 10^-14 au/d^2)\",\n",
    "    marker=:cross,\n",
    "    legend=:topright\n",
    ")\n",
    "scatter!(\n",
    "    tv_jpl_utc_jul[delay_index].-t0,\n",
    "    rel_res_JPL_td,\n",
    "    yerror = tdelay_jpl_obs_sigma./tdelay_jpl_obs,\n",
    "    label=\"JPL DE430+s199\",\n",
    "    marker=:xcross,\n",
    "    legend=:topright\n",
    ")\n",
    "title!(\"Time delay relative resid. (O-C)/O\")\n",
    "xlims!(1540, 1645)\n",
    "xticks!(1540:20:1640, string.(Date.(julian2datetime.(t0 .+ collect(1540:20:1640)))))\n",
    "xlabel!(\"Time\")"
   ]
  },
  {
   "cell_type": "code",
   "execution_count": null,
   "metadata": {
    "scrolled": false
   },
   "outputs": [],
   "source": [
    "A2_plot = 0.0\n",
    "scatter(\n",
    "    tv_jpl_utc_jul[doppler_index].-t0,\n",
    "    rel_res_ds(A2_plot),\n",
    "    yerror = dshift_jpl_obs_sigma./dshift_jpl_obs,\n",
    "    label=\"TaylorIntegration (A2 = $A2_plot x 10^-14 au/d^2)\",\n",
    "    legend=:bottomright,\n",
    "    marker=:cross\n",
    ")\n",
    "scatter!(\n",
    "    tv_jpl_utc_jul[doppler_index].-t0,\n",
    "    rel_res_JPL_ds,\n",
    "    yerror = dshift_jpl_obs_sigma./dshift_jpl_obs,\n",
    "    label=\"JPL DE430+s199\",\n",
    "    legend=:bottomright,\n",
    "    marker=:xcross\n",
    ")\n",
    "title!(\"Doppler shift relative resid. (O-C)/O\")\n",
    "xlims!(1540, 1645)\n",
    "xticks!(1540:20:1640, string.(Date.(julian2datetime.(t0 .+ collect(1540:20:1640)))))\n",
    "xlabel!(\"Time\")"
   ]
  },
  {
   "cell_type": "markdown",
   "metadata": {},
   "source": [
    "#check that HORIZONS (s#199) and downloaded SPK file for Apophis are the same\n",
    "#according to this check, they differ at the end of the evaluated times by ~ 2m in position\n",
    "tv_spkvhor = range(2454733.5, length=1001, stop=2456367.5)\n",
    "apophis_spk_arr = Array{Float64}(undef, length(tv_spkvhor), 6)\n",
    "for i in eachindex(tv_spkvhor)\n",
    "    apophis_spk_arr[i,:] .= Apophis.apophis_pv(tv_spkvhor[i])\n",
    "end\n",
    "apophis_horizons_arr = readdlm(\"../wld103954.15\")\n",
    "@show norm((apophis_spk_arr .- apophis_horizons_arr)[end,1:3])\n",
    "@show norm((apophis_spk_arr .- apophis_horizons_arr)[end,4:6])\n",
    ";"
   ]
  },
  {
   "cell_type": "code",
   "execution_count": null,
   "metadata": {},
   "outputs": [],
   "source": []
  },
  {
   "cell_type": "markdown",
   "metadata": {},
   "source": [
    "# Yarkovsky $A_2$ coefficient estimation"
   ]
  },
  {
   "cell_type": "markdown",
   "metadata": {},
   "source": [
    "Here, we will compute, for a single time delay observation, the value of $A_2$ which makes the O-C residual of that observation equal to zero:"
   ]
  },
  {
   "cell_type": "code",
   "execution_count": null,
   "metadata": {},
   "outputs": [],
   "source": [
    "#observed value\n",
    "tdelay_jpl_obs[1]"
   ]
  },
  {
   "cell_type": "code",
   "execution_count": null,
   "metadata": {
    "scrolled": true
   },
   "outputs": [],
   "source": [
    "# computed value (full solution)\n",
    "tdelay_v1[delay_index[1]] # τ_c(A2) = p(A2)"
   ]
  },
  {
   "cell_type": "code",
   "execution_count": null,
   "metadata": {
    "scrolled": false
   },
   "outputs": [],
   "source": [
    "# residual (A2 = 0)\n",
    "tdelay_jpl_obs[1] - tdelay_v1[delay_index[1]]()"
   ]
  },
  {
   "cell_type": "code",
   "execution_count": null,
   "metadata": {
    "scrolled": true
   },
   "outputs": [],
   "source": [
    "# substract A2=0 solution from τ_c(A2) (i.e., compute τ_c(A2)-τ_c(A2=0) )\n",
    "p_τ_1 = tdelay_v1[delay_index[1]]-tdelay_v1[delay_index[1]]()"
   ]
  },
  {
   "cell_type": "code",
   "execution_count": null,
   "metadata": {},
   "outputs": [],
   "source": [
    "# Let p_τ_1(A2) be the above polynomial expression, then we invert it so we get A2(δτ):\n",
    "A2_δτ_1 = inverse(p_τ_1)"
   ]
  },
  {
   "cell_type": "code",
   "execution_count": null,
   "metadata": {},
   "outputs": [],
   "source": [
    "#Now, we evaluate the polynomial at the corresponding residual at the A2=0 TaylorIntegration solution:\n",
    "A2_δτ_1(residual_td[1]())"
   ]
  },
  {
   "cell_type": "markdown",
   "metadata": {},
   "source": [
    "Now, we follow the same strategy for all the 2012-2013 radar astrometry for Apohpis (delay and Doppler):"
   ]
  },
  {
   "cell_type": "code",
   "execution_count": null,
   "metadata": {},
   "outputs": [],
   "source": [
    "td_us = tdelay_v1[delay_index]\n",
    "ds_Hz = dshift_v1[doppler_index];"
   ]
  },
  {
   "cell_type": "code",
   "execution_count": null,
   "metadata": {
    "scrolled": false
   },
   "outputs": [],
   "source": [
    "A2_δτ_v = (  inverse.( td_us-td_us() )  ) # vector of A2(δτ) polynomials at each delay observation;\n",
    "A2_δν_v = (  inverse.( ds_Hz-ds_Hz() )  ) # vector of A2(δν) polynomials at each Doppler observation;"
   ]
  },
  {
   "cell_type": "code",
   "execution_count": null,
   "metadata": {},
   "outputs": [],
   "source": [
    "A2_del_v = map((x,y)->x(y), A2_δτ_v, residual_td()); # A2(δτ) polynomials evaluated at the O-C time delay residuals;\n",
    "A2_dop_v = map((x,y)->x(y), A2_δν_v, residual_ds()); # A2(δν) polynomials evaluated at the O-C Doppler shift residuals;"
   ]
  },
  {
   "cell_type": "code",
   "execution_count": null,
   "metadata": {
    "scrolled": false
   },
   "outputs": [],
   "source": [
    "A2_del_v"
   ]
  },
  {
   "cell_type": "code",
   "execution_count": null,
   "metadata": {
    "scrolled": false
   },
   "outputs": [],
   "source": [
    "A2_dop_v"
   ]
  },
  {
   "cell_type": "code",
   "execution_count": null,
   "metadata": {
    "scrolled": true
   },
   "outputs": [],
   "source": [
    "mean(A2_del_v), std(A2_del_v)"
   ]
  },
  {
   "cell_type": "code",
   "execution_count": null,
   "metadata": {},
   "outputs": [],
   "source": [
    "mean(A2_dop_v), std(A2_dop_v)"
   ]
  },
  {
   "cell_type": "code",
   "execution_count": null,
   "metadata": {},
   "outputs": [],
   "source": [
    "A2_all = vcat(A2_del_v, A2_dop_v)"
   ]
  },
  {
   "cell_type": "code",
   "execution_count": null,
   "metadata": {},
   "outputs": [],
   "source": [
    "A2_mean_all = mean(A2_all)\n",
    "A2_std_all = std(A2_all)\n",
    "A2_mean_all, A2_std_all"
   ]
  },
  {
   "cell_type": "code",
   "execution_count": null,
   "metadata": {},
   "outputs": [],
   "source": [
    "scatter(\n",
    "    tv_jpl_utc_jul[delay_index][1:end-3].-t0,\n",
    "    A2_del_v[1:end-3],\n",
    "    marker=:cross,\n",
    "    label=\"A2 est. (Goldstone delay obs.)\"\n",
    ")\n",
    "scatter!(\n",
    "    tv_jpl_utc_jul[delay_index][end-2:end].-t0,\n",
    "    A2_del_v[end-2:end],\n",
    "    marker=:cross,\n",
    "    label=\"A2 est. (Arecibo delay obs.)\"\n",
    ")\n",
    "ylabel!(\"A2(dt) x 10^14 [au/d^2]\")\n",
    "xlims!(1540, 1645)\n",
    "xticks!(1540:20:1645, string.(Date.(julian2datetime.(t0 .+ collect(1540:20:1640)))))\n",
    "xlabel!(\"Time\")"
   ]
  },
  {
   "cell_type": "code",
   "execution_count": null,
   "metadata": {
    "scrolled": false
   },
   "outputs": [],
   "source": [
    "scatter(\n",
    "    tv_jpl_utc_jul[doppler_index][1:end-7].-t0,\n",
    "    A2_dop_v[1:end-7],\n",
    "    marker=:cross,\n",
    "    label=\"A2 est. (Goldstone Doppler obs.)\"\n",
    ")\n",
    "scatter!(\n",
    "    tv_jpl_utc_jul[doppler_index][end-6:end].-t0,\n",
    "    A2_dop_v[end-6:end],\n",
    "    marker=:cross,\n",
    "    label=\"A2 est. (Arecibo Doppler obs.)\",\n",
    "    leg=:bottomleft\n",
    ")\n",
    "ylabel!(\"A2(df) x 10^14 [au/d^2]\")\n",
    "xlims!(1540, 1645)\n",
    "xticks!(1540:20:1645, string.(Date.(julian2datetime.(t0 .+ collect(1540:20:1640)))))\n",
    "xlabel!(\"Time\")"
   ]
  },
  {
   "cell_type": "code",
   "execution_count": null,
   "metadata": {},
   "outputs": [],
   "source": [
    "scatter(\n",
    "    tv_jpl_utc_jul[delay_index][1:end-3].-t0,\n",
    "    A2_del_v[1:end-3],\n",
    "    marker=:cross,\n",
    "    label=\"A2 est. (Goldstone delay obs.)\"\n",
    ")\n",
    "scatter!(\n",
    "    tv_jpl_utc_jul[doppler_index][1:end-7].-t0,\n",
    "    A2_dop_v[1:end-7],\n",
    "    marker=:cross,\n",
    "    label=\"A2 est. (Goldstone Doppler obs.)\"\n",
    ")\n",
    "scatter!(\n",
    "    tv_jpl_utc_jul[delay_index][end-2:end].-t0,\n",
    "    A2_del_v[end-2:end],\n",
    "    marker=:xcross,\n",
    "    label=\"A2 est. (Arecibo delay obs.)\"\n",
    ")\n",
    "scatter!(\n",
    "    tv_jpl_utc_jul[doppler_index][end-6:end].-t0,\n",
    "    A2_dop_v[end-6:end],\n",
    "    marker=:xcross,\n",
    "    label=\"A2 est. (Arecibo Doppler obs.)\",\n",
    "    leg=:bottomleft\n",
    ")\n",
    "ylabel!(\"A2 x 10^14 [au/d^2]\")\n",
    "xlims!(1540, 1645)\n",
    "ylims!(-105,5)\n",
    "xticks!(1540:20:1645, string.(Date.(julian2datetime.(t0 .+ collect(1540:20:1640)))))\n",
    "xlabel!(\"Time\")"
   ]
  },
  {
   "cell_type": "code",
   "execution_count": null,
   "metadata": {},
   "outputs": [],
   "source": [
    "A2_NO_Arecibo_dop = vcat(A2_del_v, A2_dop_v[1:end-7]);"
   ]
  },
  {
   "cell_type": "code",
   "execution_count": null,
   "metadata": {},
   "outputs": [],
   "source": [
    "A2_mean_NO_Arecibo_dop = mean(A2_NO_Arecibo_dop)\n",
    "A2_std_NO_Arecibo_dop = std(A2_NO_Arecibo_dop)\n",
    "A2_mean_NO_Arecibo_dop, A2_std_NO_Arecibo_dop"
   ]
  },
  {
   "cell_type": "markdown",
   "metadata": {},
   "source": [
    "# Intervals"
   ]
  },
  {
   "cell_type": "code",
   "execution_count": null,
   "metadata": {},
   "outputs": [],
   "source": [
    "using IntervalArithmetic"
   ]
  },
  {
   "cell_type": "code",
   "execution_count": null,
   "metadata": {},
   "outputs": [],
   "source": [
    "residual_td_interval = interval.(\n",
    "    (tdelay_jpl_obs-tdelay_jpl_obs_sigma)-tdelay_v1[delay_index](), \n",
    "    (tdelay_jpl_obs+tdelay_jpl_obs_sigma)-tdelay_v1[delay_index]()\n",
    ");"
   ]
  },
  {
   "cell_type": "code",
   "execution_count": null,
   "metadata": {},
   "outputs": [],
   "source": [
    "residual_ds_interval = interval.(\n",
    "    (dshift_jpl_obs-dshift_jpl_obs_sigma)-dshift_v1[doppler_index](),\n",
    "    (dshift_jpl_obs+dshift_jpl_obs_sigma)-dshift_v1[doppler_index]()\n",
    ");"
   ]
  },
  {
   "cell_type": "code",
   "execution_count": null,
   "metadata": {},
   "outputs": [],
   "source": [
    "A2_del_v_interval = map((x,y)->x(y), A2_δτ_v, residual_td_interval)"
   ]
  },
  {
   "cell_type": "code",
   "execution_count": null,
   "metadata": {},
   "outputs": [],
   "source": [
    "A2_dop_v_interval = map((x,y)->x(y), A2_δν_v, residual_ds_interval)"
   ]
  },
  {
   "cell_type": "code",
   "execution_count": null,
   "metadata": {},
   "outputs": [],
   "source": [
    "scatter(\n",
    "    tv_jpl_utc_jul[delay_index][1:end-3].-t0,\n",
    "    mid.(A2_del_v_interval[1:end-3]),\n",
    "    yerror=radius.(A2_del_v_interval[1:end-3]),\n",
    "    label=\"delay (Goldstone)\",\n",
    "    leg=:topright,\n",
    "    marker=:cross\n",
    ")\n",
    "scatter!(\n",
    "    tv_jpl_utc_jul[delay_index][end-2:end].-t0,\n",
    "    mid.(A2_del_v_interval[end-2:end]),\n",
    "    yerror=radius.(A2_del_v_interval[end-2:end]),\n",
    "    label=\"delay (Arecibo)\",\n",
    "    leg=:topright,\n",
    "    marker=:cross\n",
    ")\n",
    "#ylims!(minimum(A2_del_v)-1,0)\n",
    "ylabel!(\"A2(dt) x 10^14 [au/d^2]\")\n",
    "xlims!(1540, 1645)\n",
    "xticks!(1540:20:1645, string.(Date.(julian2datetime.(t0 .+ collect(1540:20:1640)))))\n",
    "xlabel!(\"Time\")\n",
    "title!(\"A2 estimation from polynomial inversion (delay data)\")\n",
    "#savefig(\"A2_poly_inv_delay.pdf\")"
   ]
  },
  {
   "cell_type": "code",
   "execution_count": null,
   "metadata": {},
   "outputs": [],
   "source": [
    "scatter(\n",
    "    tv_jpl_utc_jul[doppler_index][1:end-7].-t0,\n",
    "    mid.(A2_dop_v_interval[1:end-7]),\n",
    "    yerror=radius.(A2_dop_v_interval[1:end-7]),\n",
    "    label=\"Doppler (Goldstone)\",\n",
    "    marker=:cross\n",
    ")\n",
    "scatter!(\n",
    "    tv_jpl_utc_jul[doppler_index][end-6:end].-t0,\n",
    "    mid.(A2_dop_v_interval[end-6:end]),\n",
    "    yerror=radius.(A2_dop_v_interval[end-6:end]),\n",
    "    label=\"Doppler (Arecibo)\",\n",
    "    marker=:cross,\n",
    "    leg=:bottomleft\n",
    ")\n",
    "ylabel!(\"A2(df) x 10^14 [au/d^2]\")\n",
    "xlims!(1540, 1645)\n",
    "xticks!(1540:20:1645, string.(Date.(julian2datetime.(t0 .+ collect(1540:20:1640)))))\n",
    "xlabel!(\"Time\")"
   ]
  },
  {
   "cell_type": "code",
   "execution_count": null,
   "metadata": {},
   "outputs": [],
   "source": [
    "A2_v_NO_Arecibo_dop_interval = vcat(A2_del_v_interval, A2_dop_v_interval[1:end-7])"
   ]
  },
  {
   "cell_type": "code",
   "execution_count": null,
   "metadata": {
    "scrolled": true
   },
   "outputs": [],
   "source": [
    "A2_mean_NO_Arecibo_dop_interval = mean(A2_v_NO_Arecibo_dop_interval)\n",
    "A2_std_NO_Arecibo_dop_interval = std(A2_v_NO_Arecibo_dop_interval)\n",
    "A2_mean_NO_Arecibo_dop_interval, A2_std_NO_Arecibo_dop_interval"
   ]
  },
  {
   "cell_type": "code",
   "execution_count": null,
   "metadata": {},
   "outputs": [],
   "source": []
  },
  {
   "cell_type": "code",
   "execution_count": null,
   "metadata": {
    "scrolled": false
   },
   "outputs": [],
   "source": [
    "scatter(\n",
    "    tv_jpl_utc_jul[delay_index][1:end-3].-t0,\n",
    "    mid.(A2_del_v_interval[1:end-3]),\n",
    "    yerror=radius.(A2_del_v_interval[1:end-3]),\n",
    "    marker=:cross,\n",
    "    leg=:bottomleft,\n",
    "    label=\"delay (Goldstone)\"\n",
    ")\n",
    "scatter!(\n",
    "    tv_jpl_utc_jul[doppler_index][1:end-7].-t0,\n",
    "    mid.(A2_dop_v_interval[1:end-7]),\n",
    "    yerror=radius.(A2_dop_v_interval[1:end-7]),\n",
    "    marker=:cross,\n",
    "    label=\"Doppler (Goldstone)\"\n",
    ")\n",
    "scatter!(\n",
    "    tv_jpl_utc_jul[delay_index][end-2:end].-t0,\n",
    "    mid.(A2_del_v_interval[end-2:end]),\n",
    "    yerror=radius.(A2_del_v_interval[end-2:end]),\n",
    "    marker=:xcross,\n",
    "    leg=:bottomleft,\n",
    "    label=\"delay (Arecibo)\"\n",
    ")\n",
    "scatter!(\n",
    "    tv_jpl_utc_jul[doppler_index][end-6:end].-t0,\n",
    "    mid.(A2_dop_v_interval[end-6:end]),\n",
    "    yerror=radius.(A2_dop_v_interval[end-6:end]),\n",
    "    marker=:xcross,\n",
    "    label=\"Doppler (Arecibo)\"\n",
    ")\n",
    "A2_label_str = @sprintf \"A2 (fit): %.5f  x 10^-14 au/d^2\" A2_lsqfit_deldop\n",
    "plot!([1540, 1640], [A2_lsqfit_deldop, A2_lsqfit_deldop], label=A2_label_str)\n",
    "ylabel!(\"A2 x 10^14 [au/day^2]\")\n",
    "xticks!(1540:20:1640, string.(Date.(julian2datetime.(t0 .+ collect(1540:20:1640)))))\n",
    "xlabel!(\"Time\")\n",
    "title!(\"Brozovic et al. (2018) data (Goldstone and Arecibo)\")\n",
    "#savefig(\"A2_fit_radar_all.pdf\")"
   ]
  },
  {
   "cell_type": "code",
   "execution_count": null,
   "metadata": {},
   "outputs": [],
   "source": [
    "scatter(\n",
    "    tv_jpl_utc_jul[delay_index][1:end-3].-t0,\n",
    "    mid.(A2_del_v_interval[1:end-3]),\n",
    "    yerror=radius.(A2_del_v_interval[1:end-3]),\n",
    "    marker=:cross,\n",
    "    leg=:bottomleft,\n",
    "    label=\"delay (Goldstone)\"\n",
    ")\n",
    "scatter!(\n",
    "    tv_jpl_utc_jul[doppler_index][1:end-7].-t0,\n",
    "    mid.(A2_dop_v_interval[1:end-7]),\n",
    "    yerror=radius.(A2_dop_v_interval[1:end-7]),\n",
    "    marker=:cross,\n",
    "    label=\"Doppler (Goldstone)\"\n",
    ")\n",
    "scatter!(\n",
    "    tv_jpl_utc_jul[delay_index][end-2:end].-t0,\n",
    "    mid.(A2_del_v_interval[end-2:end]),\n",
    "    yerror=radius.(A2_del_v_interval[end-2:end]),\n",
    "    marker=:xcross,\n",
    "    leg=:bottomright,\n",
    "    label=\"delay (Arecibo)\"\n",
    ")\n",
    "scatter!(\n",
    "    tv_jpl_utc_jul[doppler_index][end-6:end].-t0,\n",
    "    mid.(A2_dop_v_interval[end-6:end]),\n",
    "    yerror=radius.(A2_dop_v_interval[end-6:end]),\n",
    "    marker=:xcross,\n",
    "    label=\"\"#\"Doppler (Arecibo)\"\n",
    ")\n",
    "A2_label_str = @sprintf \"A2 (fit): %.5f  x 10^-14 au/d^2\" A2_lsqfit_deldop_NO_Arecibo_dop\n",
    "#plot!([1540, 1645], [A2_lsqfit_deldop, A2_lsqfit_deldop], label=\"A2 (fit): $A2_lsqfit_deldop x 10^-14 au/d^2\")\n",
    "plot!([1540, 1645], [A2_lsqfit_deldop, A2_lsqfit_deldop], label=A2_label_str)\n",
    "ylims!(-20,0)\n",
    "ylabel!(\"A2 x 10^14 [au/day^2]\")\n",
    "xlims!(1540, 1645)\n",
    "xlabel!(\"Time\")\n",
    "xticks!(1540:20:1645, string.(Date.(julian2datetime.(t0 .+ collect(1540:20:1645)))))\n",
    "title!(\"A2 estimation from radar astrometry\")\n",
    "#title!(\"Brozovic et al. (2018) data (no Arecibo Doppler astrom. )\")\n",
    "#savefig(\"A2_fit_no_Arecibo_doppler.pdf\")"
   ]
  },
  {
   "cell_type": "markdown",
   "metadata": {},
   "source": [
    "## Least squares"
   ]
  },
  {
   "cell_type": "code",
   "execution_count": null,
   "metadata": {},
   "outputs": [],
   "source": [
    "res_sq_del = ( tdelay_jpl_obs .- tdelay_v1[delay_index] ).^2\n",
    "res_sq_dop = ( dshift_jpl_obs .- dshift_v1[doppler_index] ).^2\n",
    "res_sq_deldop = vcat(res_sq_del, res_sq_dop)\n",
    "res_sq_deldop_NO_Arecibo_dop = vcat(res_sq_del, res_sq_dop[1:end-7]); #remove Arecibo Doppler \"outliers\""
   ]
  },
  {
   "cell_type": "code",
   "execution_count": null,
   "metadata": {
    "scrolled": true
   },
   "outputs": [],
   "source": [
    "Q_A2_del = sum(res_sq_del)/length(res_sq_del)"
   ]
  },
  {
   "cell_type": "code",
   "execution_count": null,
   "metadata": {},
   "outputs": [],
   "source": [
    "Q_A2_dop = sum(res_sq_dop)/length(res_sq_dop)"
   ]
  },
  {
   "cell_type": "code",
   "execution_count": null,
   "metadata": {},
   "outputs": [],
   "source": [
    "Q_A2_deldop = sum(res_sq_deldop)/length(res_sq_deldop)"
   ]
  },
  {
   "cell_type": "code",
   "execution_count": null,
   "metadata": {},
   "outputs": [],
   "source": [
    "Q_A2_deldop_NO_Arecibo_dop = sum(res_sq_deldop_NO_Arecibo_dop)/length(res_sq_deldop_NO_Arecibo_dop)"
   ]
  },
  {
   "cell_type": "code",
   "execution_count": null,
   "metadata": {},
   "outputs": [],
   "source": [
    "function taylor_roots(pol::Taylor1{T}, x0::T; niters::Int=10) where {T<:Real}\n",
    "    dpol = differentiate(pol)\n",
    "    dpol2 = differentiate(dpol)\n",
    "    xnewton::T = x0\n",
    "    @show xnewton\n",
    "    for i in 1:niters\n",
    "        xnewton -= dpol(xnewton)/dpol2(xnewton) \n",
    "        @show xnewton, dpol(xnewton)\n",
    "    end\n",
    "    return xnewton\n",
    "end"
   ]
  },
  {
   "cell_type": "code",
   "execution_count": null,
   "metadata": {},
   "outputs": [],
   "source": [
    "A2_lsqfit_del = taylor_roots(Q_A2_del, 0.0, niters=5)"
   ]
  },
  {
   "cell_type": "code",
   "execution_count": null,
   "metadata": {},
   "outputs": [],
   "source": [
    "A2_lsqfit_dop = taylor_roots(Q_A2_dop, 0.0, niters=5)"
   ]
  },
  {
   "cell_type": "code",
   "execution_count": null,
   "metadata": {},
   "outputs": [],
   "source": [
    "A2_lsqfit_deldop = taylor_roots(Q_A2_deldop, 0.0, niters=5)"
   ]
  },
  {
   "cell_type": "code",
   "execution_count": null,
   "metadata": {},
   "outputs": [],
   "source": [
    "A2_lsqfit_deldop_NO_Arecibo_dop = taylor_roots(p_A2_deldop_NO_Arecibo_dop, 0.0, niters=5)"
   ]
  },
  {
   "cell_type": "code",
   "execution_count": null,
   "metadata": {},
   "outputs": [],
   "source": []
  },
  {
   "cell_type": "code",
   "execution_count": null,
   "metadata": {},
   "outputs": [],
   "source": []
  },
  {
   "cell_type": "code",
   "execution_count": null,
   "metadata": {},
   "outputs": [],
   "source": [
    "#A2_del_vals = collect(-10:0.01:10);\n",
    "#A2_vals = range(-5.68444, length=100, stop=-5.68442)\n",
    "#A2_vals = range(-7.5, length=200, stop=-5)\n",
    "#A2_vals = range(-5.7, length=200, stop=-5.65)\n",
    "A2_vals = range(-5.9, length=2000, stop=-5.5)"
   ]
  },
  {
   "cell_type": "code",
   "execution_count": null,
   "metadata": {},
   "outputs": [],
   "source": [
    "plot(A2_vals, Q_A2_deldop.(A2_vals), leg=false)\n",
    "xlabel!(\"A2 x 10^14 [au/day^2]\")\n",
    "ylabel!(\"Q(A2) [units?]\")\n",
    "title!(\"LS cost function vs A2\")\n",
    "ylims!(-1, 11)\n",
    "xlims!(-5.9, -5.5)\n",
    "#plot(A2_vals, p_A2_dop.(A2_vals))\n",
    "#plot!(A2_vals, p_A2_deldop.(A2_vals))\n",
    "#xlims!(-7.5, -5.0)"
   ]
  },
  {
   "cell_type": "code",
   "execution_count": null,
   "metadata": {},
   "outputs": [],
   "source": []
  },
  {
   "cell_type": "code",
   "execution_count": null,
   "metadata": {},
   "outputs": [],
   "source": []
  },
  {
   "cell_type": "code",
   "execution_count": null,
   "metadata": {},
   "outputs": [],
   "source": []
  }
 ],
 "metadata": {
  "kernelspec": {
   "display_name": "Julia 1.1.0",
   "language": "julia",
   "name": "julia-1.1"
  },
  "language_info": {
   "file_extension": ".jl",
   "mimetype": "application/julia",
   "name": "julia",
   "version": "1.1.0"
  }
 },
 "nbformat": 4,
 "nbformat_minor": 2
}
