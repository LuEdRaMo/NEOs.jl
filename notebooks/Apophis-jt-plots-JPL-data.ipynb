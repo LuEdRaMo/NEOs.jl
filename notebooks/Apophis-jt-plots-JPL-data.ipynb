{
 "cells": [
  {
   "cell_type": "code",
   "execution_count": null,
   "metadata": {
    "scrolled": true
   },
   "outputs": [],
   "source": [
    ";pwd"
   ]
  },
  {
   "cell_type": "code",
   "execution_count": null,
   "metadata": {},
   "outputs": [],
   "source": [
    "]activate .."
   ]
  },
  {
   "cell_type": "code",
   "execution_count": null,
   "metadata": {
    "scrolled": true
   },
   "outputs": [],
   "source": [
    "using Apophis"
   ]
  },
  {
   "cell_type": "code",
   "execution_count": null,
   "metadata": {},
   "outputs": [],
   "source": [
    "# using TaylorIntegration, LinearAlgebra # Apophis.jl @reexports TaylorIntegration and LinearAlgebra\n",
    "using Plots, JLD, DelimitedFiles, Dates\n",
    "using Statistics: mean, std\n",
    "using AstroTime"
   ]
  },
  {
   "cell_type": "code",
   "execution_count": null,
   "metadata": {},
   "outputs": [],
   "source": [
    "# recover integration from .jld file\n",
    "vars = [\"tv_jpl_integ\", \"xv1\", \"tvS1\", \"xvS1\", \"gvS1\"] #names of variables\n",
    "filename = string(\"Apophis_jt.jld\")\n",
    "for i in eachindex(vars)\n",
    "    ex = Symbol(vars[i])\n",
    "    @eval $ex = load($filename, vars[$i])\n",
    "end"
   ]
  },
  {
   "cell_type": "code",
   "execution_count": null,
   "metadata": {
    "scrolled": true
   },
   "outputs": [],
   "source": [
    "sort(union(apophisdofs, ssdofs)) == collect(1:72)"
   ]
  },
  {
   "cell_type": "markdown",
   "metadata": {
    "scrolled": true
   },
   "source": [
    "xv1[2,apophisdofs]"
   ]
  },
  {
   "cell_type": "markdown",
   "metadata": {},
   "source": [
    "xv1[2,sundofs]"
   ]
  },
  {
   "cell_type": "markdown",
   "metadata": {},
   "source": [
    "xv1[20,ssdofs[end-6:end]]"
   ]
  },
  {
   "cell_type": "code",
   "execution_count": null,
   "metadata": {
    "scrolled": true
   },
   "outputs": [],
   "source": [
    "jpl_radar = readdlm(\"../Apophis_JPL_data.dat\", '\\t')"
   ]
  },
  {
   "cell_type": "markdown",
   "metadata": {},
   "source": [
    "findall(x -> x == \"Hz\", jpl_radar[:,5])"
   ]
  },
  {
   "cell_type": "markdown",
   "metadata": {},
   "source": [
    "findall(x -> x == \"us\", jpl_radar[:,5])"
   ]
  },
  {
   "cell_type": "markdown",
   "metadata": {},
   "source": [
    "hola1 = jpl_radar[:,5] .== \"Hz\"\n",
    "hola2 = jpl_radar[:,5] .== \"us\"\n",
    "hola3 = hola1 .| hola2\n",
    "hola4 = hola1 .& hola2\n",
    "all(hola3), !any(hola4)"
   ]
  },
  {
   "cell_type": "markdown",
   "metadata": {},
   "source": [
    "jpl_radar[:,2]"
   ]
  },
  {
   "cell_type": "code",
   "execution_count": null,
   "metadata": {},
   "outputs": [],
   "source": [
    "#construct vector of observation times\n",
    "#####`union` removes repeated elements\n",
    "#NOTE: resulting vector does not include t0\n",
    "# tv_jpl = union( Dates.datetime2julian.(  DateTime.(jpl_radar[:,2], \"y-m-d H:M:S\")) );\n",
    "df_jpl = \"y-m-d H:M:S\"\n",
    "tv_jpl = Dates.datetime2julian.(  DateTime.(jpl_radar[:,2], df_jpl));"
   ]
  },
  {
   "cell_type": "code",
   "execution_count": null,
   "metadata": {},
   "outputs": [],
   "source": []
  },
  {
   "cell_type": "code",
   "execution_count": null,
   "metadata": {},
   "outputs": [],
   "source": [
    "#extract transmitter frequencies (Hz)\n",
    "transmitter_freq = jpl_radar[:,6]*1e6;"
   ]
  },
  {
   "cell_type": "code",
   "execution_count": null,
   "metadata": {},
   "outputs": [],
   "source": [
    "#monostatic mode: check that each receiver and transmitter are the same\n",
    "all( jpl_radar[:,7] .== jpl_radar[:,8] )"
   ]
  },
  {
   "cell_type": "code",
   "execution_count": null,
   "metadata": {},
   "outputs": [],
   "source": [
    "#then, get the station codes\n",
    "station_codes = Int.(jpl_radar[:,7]);"
   ]
  },
  {
   "cell_type": "code",
   "execution_count": null,
   "metadata": {},
   "outputs": [],
   "source": [
    "#check that time vectors from NEODyS and JPL are the same\n",
    "#tv_neodys_obs == union(t0, tv_jpl[tv_jpl .> t0])\n",
    "tv_jpl_utc = DateTime.(jpl_radar[:,2], df_jpl)[8:end]\n",
    "tv_jpl_utc_julian = Dates.datetime2julian.(tv_jpl_utc)\n",
    "tv_jpl_utc_julian_unrepeated = union(julian(UTCEpoch(TDBEpoch(t0, origin=:julian))).Δt, tv_jpl_utc_julian)"
   ]
  },
  {
   "cell_type": "code",
   "execution_count": null,
   "metadata": {},
   "outputs": [],
   "source": [
    "#extract time-delay and Doppler-shift measurements\n",
    "#will filter those afterwards by type of measurement\n",
    "deldop_jpl = jpl_radar[:, 3];"
   ]
  },
  {
   "cell_type": "code",
   "execution_count": null,
   "metadata": {},
   "outputs": [],
   "source": [
    "#get indices of delay observations\n",
    "del_ind = findall(x->x == \"us\", jpl_radar[:,5])\n",
    "#get indices of Doppler observations\n",
    "dop_ind = findall(x->x == \"Hz\", jpl_radar[:,5]);"
   ]
  },
  {
   "cell_type": "code",
   "execution_count": null,
   "metadata": {},
   "outputs": [],
   "source": [
    "#get index vector of observation times\n",
    "#takes into account only times in `tv_jpl_integ` greater than t0\n",
    "radar_jpl_obs_ind = map(y->findfirst(x->x == y, tv_jpl), tv_jpl_utc_julian_unrepeated[2:end])"
   ]
  },
  {
   "cell_type": "code",
   "execution_count": null,
   "metadata": {},
   "outputs": [],
   "source": [
    "tv_jpl[radar_jpl_obs_ind]"
   ]
  },
  {
   "cell_type": "code",
   "execution_count": null,
   "metadata": {},
   "outputs": [],
   "source": [
    "#check that we got `radar_obs_ind` right\n",
    "tv_jpl[radar_jpl_obs_ind] == tv_jpl_utc_julian_unrepeated[2:end]"
   ]
  },
  {
   "cell_type": "code",
   "execution_count": null,
   "metadata": {
    "scrolled": true
   },
   "outputs": [],
   "source": [
    "size(radar_jpl_obs_ind)"
   ]
  },
  {
   "cell_type": "code",
   "execution_count": null,
   "metadata": {},
   "outputs": [],
   "source": [
    "size(xv1[2:end,:])"
   ]
  },
  {
   "cell_type": "code",
   "execution_count": null,
   "metadata": {},
   "outputs": [],
   "source": [
    "size(tv_jpl_integ)"
   ]
  },
  {
   "cell_type": "code",
   "execution_count": null,
   "metadata": {},
   "outputs": [],
   "source": [
    "size(station_codes[radar_jpl_obs_ind])"
   ]
  },
  {
   "cell_type": "markdown",
   "metadata": {},
   "source": [
    "Let $\\vec R$ denote the geocentric position of the observing station, $\\vec \\rho$ the topocentric position of the asteroid relative to the same station,  $\\vec r_\\mathrm{a}$ the geocentric position of the asteroid and $\\vec r_\\mathrm{E}$ the geocentric position of the asteroid. Then we have\n",
    "\n",
    "$$\n",
    "\\vec r_\\mathrm{a} =\\vec r_\\mathrm{E} + \\vec R + \\vec \\rho\n",
    "$$\n",
    "\n",
    "Thus, the instantaneous topocentric range $\\rho = |\\vec \\rho|$ of the asteroid may be computed as\n",
    "\n",
    "$$\n",
    "\\rho = |\\vec r_\\mathrm{a} - \\vec r_\\mathrm{E} - \\vec R| = \\sqrt{(x_\\mathrm{a} - x_\\mathrm{E} - X)^2+(y_\\mathrm{a} - y_\\mathrm{E} - Y)^2+(z_\\mathrm{a} - z_\\mathrm{E} - Z)^2}\n",
    "$$\n",
    "\n",
    "And the instantaneous range rate $\\dot \\rho$ may be computed as:\n",
    "\n",
    "$$\n",
    "\\dot \\rho = \\frac{1}{\\rho}\\vec{\\rho} \\cdot \\dot{\\vec{\\rho}}\n",
    "$$"
   ]
  },
  {
   "cell_type": "markdown",
   "metadata": {},
   "source": [
    "dop_neodys_obs_ind = findall(x->in(x, jd_dop), tv_jpl_integ);\n",
    "del_neodys_obs_ind = findall(x->in(x, jd_del), tv_jpl_integ)\n",
    "\n",
    "#check that all elements in jd_dop/jd_del were found in tv_jpl_integ\n",
    "@show length(dop_neodys_obs_ind) == length(jd_dop)\n",
    "@show length(del_neodys_obs_ind) == length(jd_del)"
   ]
  },
  {
   "cell_type": "code",
   "execution_count": null,
   "metadata": {
    "scrolled": true
   },
   "outputs": [],
   "source": [
    "const ea = 4 #Earth's index\n",
    "const N = 12 \n",
    "\n",
    "# Apophis geocentric range, radial velocity\n",
    "r(x) = sqrt( (x[3N-2]-x[3ea-2])^2+(x[3N-1]-x[3ea-1])^2+(x[3N]-x[3ea])^2 )\n",
    "vr(x) = ( (x[3N-2]-x[3ea-2])*(x[6N-2]-x[3(N+ea)-2])+(x[3N-1]-x[3ea-1])*(x[6N-1]-x[3(N+ea)-1])+(x[3N]-x[3ea])*(x[6N]-x[3(N+ea)]) )/r(x)\n",
    "\n",
    "# Apophis topocentric range, radial velocity\n",
    "function r_topo(x, station_code, jd_utc)\n",
    "    r_a = [x[3N-2], x[3N-1], x[3N]] # asteroid barycentric position (au)\n",
    "    r_E = [x[3ea-2], x[3ea-1], x[3ea]] # Earth barycentric position (au)\n",
    "    R_station = observer_position(station_code, jd_utc)/au # station geocentric position (au)\n",
    "    rho_vec = r_a - r_E - R_station\n",
    "    return sqrt( rho_vec[1]^2+rho_vec[2]^2+rho_vec[3]^2 )\n",
    "end\n",
    "\n",
    "function vr_topo(x, station_code, jd_utc)\n",
    "    r_a = [x[3N-2], x[3N-1], x[3N]] # asteroid barycentric position (au)\n",
    "    v_a = [x[6N-2], x[6N-1], x[6N]] # asteroid barycentric velocity (au/day)\n",
    "    \n",
    "    r_E = [x[3ea-2], x[3ea-1], x[3ea]] # Earth barycentric position (au)\n",
    "    v_E = [x[3(N+ea)-2], x[3(N+ea)-1], x[3(N+ea)]] # Earth barycentric velocity (au/day)\n",
    "    \n",
    "    R_station_T1 = observer_position(station_code, Taylor1([jd_utc, one(jd_utc)], 1))/au # station geocentric position (Taylor1) (au)\n",
    "    R_station = [R_station_T1[1][0], R_station_T1[2][0], R_station_T1[3][0]] # station geocentric position (au)\n",
    "    V_station = [R_station_T1[1][1], R_station_T1[2][1], R_station_T1[3][1]] # station geocentric velocity (au/day)\n",
    "    \n",
    "    ρ_vec = r_a - r_E - R_station # \\vec \\rho\n",
    "    ρvel_vec = v_a - v_E - V_station # \\dot \\vec \\rho\n",
    "    ρ = sqrt( ρ_vec[1]^2+ρ_vec[2]^2+ρ_vec[3]^2 )\n",
    "    \n",
    "    return dot(ρ_vec, ρvel_vec)/ρ\n",
    "end\n",
    "\n",
    "# x: Solar System + Apophis state at receiving time\n",
    "# station_code: observing station identifier (MPC nomenclature)\n",
    "# t: time of echo reception (TDB)\n",
    "# f_T: transmitter frequency\n",
    "function delay_doppler(x, station_code, t, f_T)\n",
    "    # Compute Taylor expansion at receiving time (TDB)\n",
    "    t_r = Taylor1([t, one(t)], Apophis.order)\n",
    "    x_r = Taylor1.(x, Apophis.order)\n",
    "    dx_r = similar(x_r)\n",
    "    @time TaylorIntegration.jetcoeffs!(Val(Apophis.RNp1BP_pN_A_J234E_J2S_ng!), t_r, x_r, dx_r)\n",
    "    \n",
    "    r_a = x_r[apophisdofs[1:3]] # asteroid barycentric position (in a.u.) at receiving time (TDB)\n",
    "    r_E = x_r[(3ea-2):3ea] # Earth barycentric position (in a.u.) at receiving time (TDB)\n",
    "    # convert Julian date of receiving time from TDB to UTC\n",
    "    t_r_utc_julian = julian(UTCEpoch(TDBEpoch(t, origin=:julian))).Δt\n",
    "    t_r_utc_julian_T = Taylor1([t_r_utc_julian, one(t_r_utc_julian)], Apophis.order)\n",
    "    @show t_r_utc_julian\n",
    "    @show t_r_utc_julian_T\n",
    "    R_station = observer_position(station_code, t_r_utc_julian_T)/au # station geocentric position (au)\n",
    "    r_r = r_E + R_station # barycentric position of receiver (au)\n",
    "    \n",
    "    # down-leg iteration\n",
    "    # τ_D first approximation: Eq. (1) Yeomans et al. (1992)\n",
    "    ρ_r_0 = r_a()-r_r()\n",
    "    τ_D = sqrt(ρ_r_0[1]^2 + ρ_r_0[2]^2 + ρ_r_0[3]^2)/c_au_per_day # (days) -R_b/c, but delay is wrt asteroid Center\n",
    "    # @show τ_D\n",
    "    for i in 1:5\n",
    "        # Eq. (3) Yeomans et al. (1992)\n",
    "        ρ_r = r_a(-τ_D)-r_r()\n",
    "        # Eq. (4) Yeomans et al. (1992)\n",
    "        τ_D = sqrt(ρ_r[1]^2 + ρ_r[2]^2 + ρ_r[3]^2)/c_au_per_day # (days) -R_b/c (COM correction) + Δτ_D (relativistic, tropo, iono...)\n",
    "        # @show τ_D\n",
    "    end\n",
    "    # @show τ_D\n",
    "    # Eq. (2) Yeomans et al. (1992)\n",
    "    t_b = -τ_D\n",
    "    \n",
    "    # up-leg iteration\n",
    "    # τ_U first estimation: Eq. (5) Yeomans et al. (1992)\n",
    "    τ_U = τ_D\n",
    "    # @show τ_U\n",
    "    for i in 1:6\n",
    "        # Eq. (7) Yeomans et al. (1992)\n",
    "        ρ_t = r_a(-τ_D)-r_r(-τ_U-τ_D)\n",
    "        # Eq. (8) Yeomans et al. (1992)\n",
    "        τ_U = sqrt(ρ_t[1]^2 + ρ_t[2]^2 + ρ_t[3]^2)/c_au_per_day # (days) -R_b/c (COM correction) + Δτ_U (relativistic, tropo, iono...)\n",
    "        # @show τ_U\n",
    "    end\n",
    "    # @show τ_U\n",
    "    # Eq. (6) Yeomans et al. (1992)\n",
    "    t_t = t_b - τ_U\n",
    "    \n",
    "    # Eq. (9) Yeomans et al. (1992)\n",
    "    τ = τ_D + τ_U\n",
    "    TDB_minus_UTC_r = t - julian(UTCEpoch(TDBEpoch(t, origin=:julian))).Δt\n",
    "    TDB_minus_UTC_t = (t-τ[0]) - julian(UTCEpoch(TDBEpoch(t-τ[0], origin=:julian))).Δt\n",
    "    total_time_delay = τ + TDB_minus_UTC_t - TDB_minus_UTC_r\n",
    "    @show TDB_minus_UTC_t - TDB_minus_UTC_r\n",
    "    @show total_time_delay\n",
    "\n",
    "    v_a = x_r[apophisdofs[4:6]]\n",
    "    v_E = x_r[(3(N+ea)-2):3(N+ea)]\n",
    "    V_station = differentiate.(R_station)\n",
    "    v_r = v_E + V_station\n",
    "    # v_r is equivalent to differentiate.(r_r) except for last order terms\n",
    "    # @show v_r \n",
    "    # @show differentiate.(r_r) # barycentric velocity of receiver (au)\n",
    "    \n",
    "    # Eq. (10) Yeomans et al. (1992)\n",
    "    ρ_vec_dot_t = v_a(t_b)-v_r(t_t)\n",
    "    ρ_vec_dot_r = v_a(t_b)-v_r()\n",
    "    \n",
    "    ρ_vec_t = r_a(t_b) - r_r(t_t)\n",
    "    ρ_vec_r = r_a(t_b) - r_r()\n",
    "    \n",
    "    # Eq. (11) Yeomans et al. (1992)\n",
    "    ρ_t = sqrt(ρ_vec_t[1]^2+ρ_vec_t[2]^2+ρ_vec_t[3]^2)\n",
    "    ρ_dot_t = dot(ρ_vec_t, ρ_vec_dot_t)/ρ_t\n",
    "    ρ_r = sqrt(ρ_vec_r[1]^2+ρ_vec_r[2]^2+ρ_vec_r[3]^2)\n",
    "    ρ_dot_r = dot(ρ_vec_r, ρ_vec_dot_r)/ρ_r\n",
    "    \n",
    "    # @show ρ_dot_t\n",
    "    # @show ρ_dot_r\n",
    "    \n",
    "    # Eq. (12) Yeomans et al. (1992)\n",
    "    doppler1 = -f_T*(ρ_dot_t+ρ_dot_r)/c_au_per_day\n",
    "    doppler2 = (ρ_dot_t/ρ_t)*dot(ρ_vec_t, v_r(t_t)) - (ρ_dot_r/ρ_r)*dot(ρ_vec_r, v_r()) - ρ_dot_t*ρ_dot_r\n",
    "    r_s = x_r[sundofs[1:3]]\n",
    "    r_ts = r_r(t_t) - r_s(t_t)\n",
    "    r_rs = r_r() - r_s()\n",
    "    factor = 1/sqrt(r_ts[1]^2+r_ts[2]^2+r_ts[3]^2) - 1/sqrt(r_rs[1]^2+r_rs[2]^2+r_rs[3]^2)\n",
    "    doppler3 = μ[1]*factor\n",
    "    doppler4 = (  dot(v_r(t_t), v_r(t_t)) - dot(v_r(), v_r())  )/2\n",
    "    doppler_234 = -f_T*(doppler2 + doppler3 + doppler4)/(c_au_per_day^2)\n",
    "    f_D = doppler1+doppler_234\n",
    "\n",
    "    return total_time_delay, f_D # total signal delay and Doppler shift\n",
    "end"
   ]
  },
  {
   "cell_type": "code",
   "execution_count": null,
   "metadata": {
    "scrolled": true
   },
   "outputs": [],
   "source": [
    "radar_jpl_obs_ind[2]"
   ]
  },
  {
   "cell_type": "code",
   "execution_count": null,
   "metadata": {},
   "outputs": [],
   "source": [
    "tv_jpl[radar_jpl_obs_ind[2]]"
   ]
  },
  {
   "cell_type": "code",
   "execution_count": null,
   "metadata": {},
   "outputs": [],
   "source": [
    "tv_jpl_integ[3]"
   ]
  },
  {
   "cell_type": "code",
   "execution_count": null,
   "metadata": {},
   "outputs": [],
   "source": [
    "tv_jpl[radar_jpl_obs_ind[2]] - tv_jpl_integ[3]"
   ]
  },
  {
   "cell_type": "code",
   "execution_count": null,
   "metadata": {},
   "outputs": [],
   "source": [
    "# tdelay, dshift = delay_doppler(  xv1[3, :], station_codes[radar_jpl_obs_ind[2]], tv_jpl[radar_jpl_obs_ind[2]], transmitter_freq[radar_jpl_obs_ind[2]]  )\n",
    "tdelay, dshift = delay_doppler(  xv1[3, :], station_codes[radar_jpl_obs_ind[2]], tv_jpl_integ[3], transmitter_freq[radar_jpl_obs_ind[2]]  )"
   ]
  },
  {
   "cell_type": "code",
   "execution_count": null,
   "metadata": {
    "scrolled": true
   },
   "outputs": [],
   "source": [
    "1e6*86400*tdelay"
   ]
  },
  {
   "cell_type": "code",
   "execution_count": null,
   "metadata": {},
   "outputs": [],
   "source": [
    "102682986.05-1e6*86400*tdelay() #O-C"
   ]
  },
  {
   "cell_type": "code",
   "execution_count": null,
   "metadata": {},
   "outputs": [],
   "source": [
    "dshift"
   ]
  },
  {
   "cell_type": "code",
   "execution_count": null,
   "metadata": {},
   "outputs": [],
   "source": [
    "57880.250 - dshift() #O-C"
   ]
  },
  {
   "cell_type": "code",
   "execution_count": null,
   "metadata": {},
   "outputs": [],
   "source": []
  },
  {
   "cell_type": "code",
   "execution_count": null,
   "metadata": {},
   "outputs": [],
   "source": [
    "tv_jpl_utc_julian_unrepeated[1]"
   ]
  },
  {
   "cell_type": "code",
   "execution_count": null,
   "metadata": {},
   "outputs": [],
   "source": []
  },
  {
   "cell_type": "code",
   "execution_count": null,
   "metadata": {},
   "outputs": [],
   "source": []
  },
  {
   "cell_type": "code",
   "execution_count": null,
   "metadata": {},
   "outputs": [],
   "source": []
  },
  {
   "cell_type": "code",
   "execution_count": null,
   "metadata": {
    "scrolled": true
   },
   "outputs": [],
   "source": [
    "# get time-delay, Doppler-shift values from integration\n",
    "\n",
    "tdelay_v1 = Array{Taylor1{Float64}}(undef, length(tv_jpl_integ)-1)\n",
    "dshift_v1 = Array{Taylor1{Float64}}(undef, length(tv_jpl_integ)-1)\n",
    "\n",
    "#tv_jpl[radar_obs_ind] == tv_jpl_integ[2:end]\n",
    "for i in eachindex(tv_jpl_integ[2:end])\n",
    "    j = radar_jpl_obs_ind[i]\n",
    "    #@show tv_jpl[j]\n",
    "    #@show tv_jpl_integ[i]\n",
    "    @show tv_jpl[j] == tv_jpl_utc_julian_unrepeated[i+1]\n",
    "    tdelay_v1[i], dshift_v1[i] = delay_doppler(  xv1[i+1, :], station_codes[j], tv_jpl_integ[i+1], transmitter_freq[j]  )\n",
    "end\n"
   ]
  },
  {
   "cell_type": "markdown",
   "metadata": {},
   "source": [
    "# Questions\n",
    "- Is TDB the actual independent variable in the integration of the Solar System's equations of motion?\n",
    "- Where can I get the integrated values (evolution?) of the orientation of the Moon, so that I do not have to integrate that from the beginning (1969)?"
   ]
  },
  {
   "cell_type": "code",
   "execution_count": null,
   "metadata": {},
   "outputs": [],
   "source": [
    "#get set of indices in jpl_radar[:,5] which are, resp., delay and Doppler observations (>t0)\n",
    "del_ind = findall(y->y==\"us\", jpl_radar[:,5])[3:end]\n",
    "dop_ind = findall(y->y==\"Hz\", jpl_radar[:,5])[6:end];"
   ]
  },
  {
   "cell_type": "code",
   "execution_count": null,
   "metadata": {},
   "outputs": [],
   "source": [
    "#get corresponding set of indices in tv_jpl_integ\n",
    "tv_del_ind = findall(x->in(x, tv_jpl[del_ind]), tv_jpl_utc_julian_unrepeated) .- 1\n",
    "tv_dop_ind = findall(x->in(x, tv_jpl[dop_ind]), tv_jpl_utc_julian_unrepeated) .- 1;"
   ]
  },
  {
   "cell_type": "code",
   "execution_count": null,
   "metadata": {},
   "outputs": [],
   "source": [
    "#check that indices are correct\n",
    "union(sort(vcat(tv_del_ind, tv_dop_ind))) == collect(1:29)"
   ]
  },
  {
   "cell_type": "code",
   "execution_count": null,
   "metadata": {},
   "outputs": [],
   "source": [
    "# Observed minus computed (O-C) residuals\n",
    "\n",
    "# absolute\n",
    "residual_td = Float64.(jpl_radar[del_ind,3]) - 1e6*86400*tdelay_v1[tv_del_ind] # (usec)\n",
    "residual_ds = Float64.(jpl_radar[dop_ind,3]) - dshift_v1[tv_dop_ind] # (Hz)\n",
    "\n",
    "# relative\n",
    "rel_res_td = residual_td ./ Float64.(jpl_radar[del_ind,3]) # (usec)\n",
    "rel_res_ds = residual_ds ./ Float64.(jpl_radar[dop_ind,3]); # (Hz)"
   ]
  },
  {
   "cell_type": "code",
   "execution_count": null,
   "metadata": {
    "scrolled": false
   },
   "outputs": [],
   "source": [
    "scatter(\n",
    "    tv_jpl_utc_julian_unrepeated[tv_del_ind .+ 1].-t0,\n",
    "    1e6*86400*tdelay_v1[tv_del_ind](),\n",
    "    label=\"predicted\",\n",
    "    marker=:xcross\n",
    ")\n",
    "scatter!(\n",
    "    tv_jpl_utc_julian_unrepeated[tv_del_ind .+ 1].-t0,\n",
    "    Float64.(jpl_radar[del_ind,3]),\n",
    "    label=\"observed (JPL)\",\n",
    "    legend=:bottomright,\n",
    "    marker=:cross,\n",
    "    yerror=Float64.(jpl_radar[del_ind,4])\n",
    ")\n",
    "title!(\"Time delay vs time\")\n",
    "xlabel!(\"t-t0 [Julian days]\")\n",
    "ylabel!(\"Total time delay [microseconds]\")"
   ]
  },
  {
   "cell_type": "code",
   "execution_count": null,
   "metadata": {
    "scrolled": false
   },
   "outputs": [],
   "source": [
    "scatter(\n",
    "    tv_jpl_utc_julian_unrepeated[tv_dop_ind .+ 1].-t0,\n",
    "    dshift_v1[tv_dop_ind](),\n",
    "    label=\"predicted\",\n",
    "    marker=:xcross\n",
    ")\n",
    "scatter!(\n",
    "    tv_jpl_utc_julian_unrepeated[tv_dop_ind .+ 1].-t0,\n",
    "    Float64.(jpl_radar[dop_ind,3]),\n",
    "    label=\"observed (JPL)\",\n",
    "    legend=:topright,\n",
    "    marker=:cross,\n",
    "    yerror=Float64.(jpl_radar[dop_ind,4])\n",
    ")\n",
    "title!(\"Doppler shift vs time\")\n",
    "xlabel!(\"t-t0 [Julian days]\")\n",
    "ylabel!(\"Total Doppler shift [Hz]\")\n",
    "#xlims!(1600,1640)"
   ]
  },
  {
   "cell_type": "code",
   "execution_count": null,
   "metadata": {},
   "outputs": [],
   "source": [
    "scatter(\n",
    "    tv_jpl_utc_julian_unrepeated[tv_del_ind .+ 1].-t0,\n",
    "    residual_td(),\n",
    "    yerror=Float64.(jpl_radar[del_ind,4]),\n",
    "    marker=:cross\n",
    ")\n",
    "title!(\"Time delay O-C residuals\")\n",
    "xlabel!(\"t-t0 [Julian days]\")\n",
    "ylabel!(\"Total time delay resid. (O-C) [us]\")"
   ]
  },
  {
   "cell_type": "code",
   "execution_count": null,
   "metadata": {},
   "outputs": [],
   "source": [
    "scatter(\n",
    "    tv_jpl_utc_julian_unrepeated[tv_dop_ind .+ 1].-t0,\n",
    "    residual_ds(),\n",
    "    yerror=Float64.(jpl_radar[dop_ind,4]),\n",
    "    marker=:cross\n",
    ")\n",
    "title!(\"Doppler shift residuals\")\n",
    "xlabel!(\"t-t0 [Julian days]\")\n",
    "ylabel!(\"Total Doppler shift resid. (O-C) [Hz]\")"
   ]
  },
  {
   "cell_type": "code",
   "execution_count": null,
   "metadata": {},
   "outputs": [],
   "source": [
    "scatter(\n",
    "    tv_jpl_utc_julian_unrepeated[tv_del_ind .+ 1].-t0,\n",
    "    rel_res_td(),\n",
    "    yerror=Float64.(jpl_radar[del_ind,4])./Float64.(jpl_radar[del_ind,3]),\n",
    "    label=\"Relative time delay residual\",\n",
    "    marker=:cross,\n",
    "    legend=:topright\n",
    ")\n",
    "title!(\"Time delay relative residuals\")\n",
    "xlabel!(\"t-t0 [Julian days]\")"
   ]
  },
  {
   "cell_type": "code",
   "execution_count": null,
   "metadata": {
    "scrolled": false
   },
   "outputs": [],
   "source": [
    "scatter(\n",
    "    tv_jpl_utc_julian_unrepeated[tv_dop_ind .+ 1].-t0,\n",
    "    rel_res_ds(),\n",
    "    yerror=Float64.(jpl_radar[dop_ind,4])./Float64.(jpl_radar[dop_ind,3]),\n",
    "    label=\"Relative Doppler shift residual\",\n",
    "    legend=:bottomright,\n",
    "    marker=:cross\n",
    ")\n",
    "title!(\"Doppler shift relative residuals\")\n",
    "xlabel!(\"t-t0 [Julian days]\")"
   ]
  },
  {
   "cell_type": "code",
   "execution_count": null,
   "metadata": {},
   "outputs": [],
   "source": []
  },
  {
   "cell_type": "markdown",
   "metadata": {},
   "source": [
    "# Yarkovsky $A_2$ coefficient estimation"
   ]
  },
  {
   "cell_type": "code",
   "execution_count": null,
   "metadata": {
    "scrolled": false
   },
   "outputs": [],
   "source": [
    "tdelay_v1[1] # τ(A2) = p(A2)"
   ]
  },
  {
   "cell_type": "code",
   "execution_count": null,
   "metadata": {},
   "outputs": [],
   "source": [
    "tdelay_v1[1]-constant_term(tdelay_v1[1]) # δτ(A2) = τ(A2) - τ(A2=0) = p(A2) - τ(A2=0) = p[1]*A2+p[2]*A2^2+... ( p[0]=τ(A2=0) )"
   ]
  },
  {
   "cell_type": "code",
   "execution_count": null,
   "metadata": {},
   "outputs": [],
   "source": [
    "inverse( tdelay_v1[1]-constant_term(tdelay_v1[1]) ) # A2(δτ) = q(δτ) = q[1]*δτ+q[2]*δτ^2+... (q[0]=0)"
   ]
  },
  {
   "cell_type": "code",
   "execution_count": null,
   "metadata": {},
   "outputs": [],
   "source": [
    "td_us = 1e6*86400*tdelay_v1[tv_del_ind]\n",
    "ds_Hz = dshift_v1[tv_dop_ind];"
   ]
  },
  {
   "cell_type": "code",
   "execution_count": null,
   "metadata": {
    "scrolled": false
   },
   "outputs": [],
   "source": [
    "A2_δτ_v = (  inverse.( td_us-td_us() )  ) # vector of A2(δr) polynomials at each delay observation;\n",
    "A2_δf_v = (  inverse.( ds_Hz-ds_Hz() )  ) # vector of A2(δvr) polynomials at each Doppler observation;"
   ]
  },
  {
   "cell_type": "code",
   "execution_count": null,
   "metadata": {},
   "outputs": [],
   "source": [
    "A2_del_v = map((x,y)->x(y), A2_δτ_v, residual_td()); # A2(δτ) polynomials evaluated at the O-C time delay residuals;\n",
    "A2_dop_v = map((x,y)->x(y), A2_δf_v, residual_ds()); # A2(δf_Doppler) polynomials evaluated at the O-C Doppler shift residuals;"
   ]
  },
  {
   "cell_type": "code",
   "execution_count": null,
   "metadata": {
    "scrolled": false
   },
   "outputs": [],
   "source": [
    "A2_del_v"
   ]
  },
  {
   "cell_type": "code",
   "execution_count": null,
   "metadata": {
    "scrolled": false
   },
   "outputs": [],
   "source": [
    "A2_dop_v"
   ]
  },
  {
   "cell_type": "code",
   "execution_count": null,
   "metadata": {
    "scrolled": true
   },
   "outputs": [],
   "source": [
    "mean(A2_del_v), std(A2_del_v)"
   ]
  },
  {
   "cell_type": "code",
   "execution_count": null,
   "metadata": {},
   "outputs": [],
   "source": [
    "mean(A2_dop_v), std(A2_dop_v)"
   ]
  },
  {
   "cell_type": "code",
   "execution_count": null,
   "metadata": {},
   "outputs": [],
   "source": [
    "scatter(tv_jpl_utc_julian_unrepeated[tv_del_ind .+ 1].-t0, A2_del_v, leg=false, marker=:cross)\n",
    "xlabel!(\"t-t0 [Julian days]\")\n",
    "ylabel!(\"A2(dR) x 10^14 [au/d^2]\")\n",
    "ylims!(-12,0)"
   ]
  },
  {
   "cell_type": "code",
   "execution_count": null,
   "metadata": {},
   "outputs": [],
   "source": [
    "scatter(tv_jpl_utc_julian_unrepeated[tv_dop_ind .+ 1].-t0, A2_dop_v, leg=false, marker=:cross)\n",
    "xlabel!(\"t-t0 [Julian days]\")\n",
    "ylabel!(\"A2(dVR) x 10^14 [au/d^2]\")"
   ]
  },
  {
   "cell_type": "markdown",
   "metadata": {},
   "source": [
    "# Intervals"
   ]
  },
  {
   "cell_type": "code",
   "execution_count": null,
   "metadata": {},
   "outputs": [],
   "source": [
    "using IntervalArithmetic"
   ]
  },
  {
   "cell_type": "code",
   "execution_count": null,
   "metadata": {},
   "outputs": [],
   "source": [
    "residual_r_interval = interval.(rv1()-(del[del_ind,6]+del[del_ind,7])/au, rv1()-(del[del_ind,6]-del[del_ind,7])/au)\n",
    "residual_vr_interval = interval.(vrv1()-(dop[dop_ind,6]+dop[dop_ind,7])/au, vrv1()-(dop[dop_ind,6]-dop[dop_ind,7])/au);"
   ]
  },
  {
   "cell_type": "code",
   "execution_count": null,
   "metadata": {},
   "outputs": [],
   "source": [
    "A2_del_v_interval = map((x,y)->x(y), A2_δr_v, residual_r_interval); # A2(δr) polynomials evaluated at the δr residuals;\n",
    "A2_dop_v_interval = map((x,y)->x(y), A2_δvr_v, residual_vr_interval); # A2(δvr) polynomials evaluated at the δvr residuals;"
   ]
  },
  {
   "cell_type": "code",
   "execution_count": null,
   "metadata": {},
   "outputs": [],
   "source": [
    "scatter(tv_neodys_obs[del_neodys_obs_ind].-t0, A2_del_v, yerror=radius.(A2_del_v_interval), leg=false, marker=:cross)"
   ]
  },
  {
   "cell_type": "code",
   "execution_count": null,
   "metadata": {},
   "outputs": [],
   "source": [
    "scatter(tv_neodys_obs[dop_neodys_obs_ind].-t0, A2_dop_v, yerror=radius.(A2_dop_v_interval), leg=false, marker=:cross)"
   ]
  },
  {
   "cell_type": "code",
   "execution_count": null,
   "metadata": {},
   "outputs": [],
   "source": []
  },
  {
   "cell_type": "code",
   "execution_count": null,
   "metadata": {},
   "outputs": [],
   "source": []
  },
  {
   "cell_type": "code",
   "execution_count": null,
   "metadata": {},
   "outputs": [],
   "source": []
  }
 ],
 "metadata": {
  "kernelspec": {
   "display_name": "Julia 1.1.0",
   "language": "julia",
   "name": "julia-1.1"
  },
  "language_info": {
   "file_extension": ".jl",
   "mimetype": "application/julia",
   "name": "julia",
   "version": "1.1.0"
  }
 },
 "nbformat": 4,
 "nbformat_minor": 2
}
