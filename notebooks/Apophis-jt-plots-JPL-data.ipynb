{
 "cells": [
  {
   "cell_type": "markdown",
   "metadata": {},
   "source": [
    "Print path of current directory:"
   ]
  },
  {
   "cell_type": "code",
   "execution_count": null,
   "metadata": {
    "scrolled": true
   },
   "outputs": [],
   "source": [
    ";pwd"
   ]
  },
  {
   "cell_type": "markdown",
   "metadata": {},
   "source": [
    "Activate `Apophis.jl` environment:"
   ]
  },
  {
   "cell_type": "code",
   "execution_count": null,
   "metadata": {},
   "outputs": [],
   "source": [
    "]activate .."
   ]
  },
  {
   "cell_type": "code",
   "execution_count": null,
   "metadata": {},
   "outputs": [],
   "source": [
    "]st"
   ]
  },
  {
   "cell_type": "code",
   "execution_count": null,
   "metadata": {
    "scrolled": true
   },
   "outputs": [],
   "source": [
    "#using Revise"
   ]
  },
  {
   "cell_type": "code",
   "execution_count": null,
   "metadata": {
    "scrolled": true
   },
   "outputs": [],
   "source": [
    "using Apophis"
   ]
  },
  {
   "cell_type": "code",
   "execution_count": null,
   "metadata": {},
   "outputs": [],
   "source": [
    "using PlanetaryEphemeris #: yr, au, c_au_per_day # these variables are already exported"
   ]
  },
  {
   "cell_type": "code",
   "execution_count": null,
   "metadata": {},
   "outputs": [],
   "source": [
    "using TaylorIntegration"
   ]
  },
  {
   "cell_type": "code",
   "execution_count": null,
   "metadata": {},
   "outputs": [],
   "source": [
    "methods(TaylorIntegration.jetcoeffs!)"
   ]
  },
  {
   "cell_type": "code",
   "execution_count": null,
   "metadata": {},
   "outputs": [],
   "source": [
    "using Plots, DelimitedFiles, Dates\n",
    "using Statistics: mean, std\n",
    "using AstroTime\n",
    "using Printf"
   ]
  },
  {
   "cell_type": "markdown",
   "metadata": {},
   "source": [
    "Load Sun, 8 planets, Moon, Pluto and 16 asteroid ephemeris, previously integrated with TaylorIntegration.jl"
   ]
  },
  {
   "cell_type": "code",
   "execution_count": null,
   "metadata": {},
   "outputs": [],
   "source": [
    "using JLD\n",
    "using Statistics: mean, std"
   ]
  },
  {
   "cell_type": "code",
   "execution_count": null,
   "metadata": {},
   "outputs": [],
   "source": [
    "#Load time (t) and state (x) arrays, to construct a TaylorInterpolant object\n",
    "#ss16ast_eph_t = load(joinpath(Apophis.jplephpath, \"ss16ast343_eph_minus5yr_tx_BACKWARDS.jld\"), \"ss16ast_eph_t\");\n",
    "#ss16ast_eph_x = load(joinpath(Apophis.jplephpath, \"ss16ast343_eph_minus5yr_tx_BACKWARDS.jld\"), \"ss16ast_eph_x\");\n",
    "#ss16ast_eph_t = load(joinpath(Apophis.jplephpath, \"ss16ast343_eph_24yr_tx.jld\"), \"ss16ast_eph_t\");\n",
    "#ss16ast_eph_x = load(joinpath(Apophis.jplephpath, \"ss16ast343_eph_24yr_tx.jld\"), \"ss16ast_eph_x\");\n",
    "ss16ast_eph_t = load(joinpath(Apophis.jplephpath, \"ss16ast343_eph_5yr_tx.jld\"), \"ss16ast_eph_t\");\n",
    "ss16ast_eph_x = load(joinpath(Apophis.jplephpath, \"ss16ast343_eph_5yr_tx.jld\"), \"ss16ast_eph_x\");"
   ]
  },
  {
   "cell_type": "code",
   "execution_count": null,
   "metadata": {},
   "outputs": [],
   "source": [
    "length(ss16ast_eph_t)"
   ]
  },
  {
   "cell_type": "code",
   "execution_count": null,
   "metadata": {},
   "outputs": [],
   "source": [
    "mean(diff(ss16ast_eph_t))"
   ]
  },
  {
   "cell_type": "code",
   "execution_count": null,
   "metadata": {},
   "outputs": [],
   "source": [
    "std(diff(ss16ast_eph_t))"
   ]
  },
  {
   "cell_type": "code",
   "execution_count": null,
   "metadata": {},
   "outputs": [],
   "source": [
    "ss16asteph = TaylorInterpolant(ss16ast_eph_t, ss16ast_eph_x);"
   ]
  },
  {
   "cell_type": "code",
   "execution_count": null,
   "metadata": {},
   "outputs": [],
   "source": [
    "ss16asteph(2454733.5)"
   ]
  },
  {
   "cell_type": "code",
   "execution_count": null,
   "metadata": {},
   "outputs": [],
   "source": [
    "ss16asteph(2454733.5+5*365.25)"
   ]
  },
  {
   "cell_type": "code",
   "execution_count": null,
   "metadata": {},
   "outputs": [],
   "source": [
    "ss16asteph(2454733.5-5*365.25)"
   ]
  },
  {
   "cell_type": "code",
   "execution_count": null,
   "metadata": {},
   "outputs": [],
   "source": [
    "ss16asteph(2454733.5+14*365.25)"
   ]
  },
  {
   "cell_type": "code",
   "execution_count": null,
   "metadata": {},
   "outputs": [],
   "source": [
    "ss16asteph(2454733.5+24*365.25)"
   ]
  },
  {
   "cell_type": "markdown",
   "metadata": {},
   "source": [
    "Load Apophis ephemeris (also integrated previously with TaylorIntegration.jl); dynamical model includes: post-Newtonian interactions with Sun, 8 planets, Moon, Pluto, and 16 asteroids (same as those included in JPL's solution #199 for Apophis). It also includes interaction with Earth's J2 and J3. Earth's orientation model is the same as DE430/431."
   ]
  },
  {
   "cell_type": "code",
   "execution_count": null,
   "metadata": {},
   "outputs": [],
   "source": [
    "#recover integration from .jld file\n",
    "vars = [\"t\", \"x\"] #names of variables\n",
    "filename = \"Apophis_jt1_p5y_ic199.jld\"\n",
    "#filename = \"Apophis_jt_24yr_tx_tSS.jld\"\n",
    "#filename = \"Apophis_jt_24yr_tx.jld\"\n",
    "#filename = \"Apophis_jt_5yr_tx.jld\"\n",
    "for i in eachindex(vars)\n",
    "    ex = Symbol(vars[i])\n",
    "    @eval $ex = load($filename, vars[$i])\n",
    "end"
   ]
  },
  {
   "cell_type": "code",
   "execution_count": null,
   "metadata": {},
   "outputs": [],
   "source": [
    "apophis = TaylorInterpolant(t, x)\n",
    "@show apophis.t[1]\n",
    "const t0 = apophis.t[1]\n",
    "#tv1 = apophis.t"
   ]
  },
  {
   "cell_type": "code",
   "execution_count": null,
   "metadata": {},
   "outputs": [],
   "source": [
    "julian2datetime(apophis.t[end])"
   ]
  },
  {
   "cell_type": "code",
   "execution_count": null,
   "metadata": {},
   "outputs": [],
   "source": [
    "apophis_et(et) = apophis( etsecs2julian(et) )[1:6]\n",
    "earth_et(et) = ss16asteph( etsecs2julian(et) )[union(3*4-2:3*4,3*(27+4)-2:3*(27+4))]\n",
    "sun_et(et) = ss16asteph( etsecs2julian(et) )[union(3*1-2:3*1,3*(27+1)-2:3*(27+1))]"
   ]
  },
  {
   "cell_type": "code",
   "execution_count": null,
   "metadata": {},
   "outputs": [],
   "source": []
  },
  {
   "cell_type": "code",
   "execution_count": null,
   "metadata": {},
   "outputs": [],
   "source": [
    "apophis(t0+4yr)"
   ]
  },
  {
   "cell_type": "code",
   "execution_count": null,
   "metadata": {},
   "outputs": [],
   "source": [
    "apophis(t0+5yr)"
   ]
  },
  {
   "cell_type": "code",
   "execution_count": null,
   "metadata": {},
   "outputs": [],
   "source": [
    "apophis(t0+24yr)"
   ]
  },
  {
   "cell_type": "markdown",
   "metadata": {},
   "source": [
    "Load Apophis radar astrometry, downloaded from JPL's radar astrometry website: https://ssd.jpl.nasa.gov/?radar"
   ]
  },
  {
   "cell_type": "code",
   "execution_count": null,
   "metadata": {
    "scrolled": true
   },
   "outputs": [],
   "source": [
    "apophis_radar_data_2005_2013 = process_radar_data_jpl(\"../Apophis_JPL_data.dat\")"
   ]
  },
  {
   "cell_type": "markdown",
   "metadata": {},
   "source": [
    "Construct vector of observation times in UTC and TDB:"
   ]
  },
  {
   "cell_type": "code",
   "execution_count": null,
   "metadata": {},
   "outputs": [],
   "source": [
    "#construct vector of observation times (UTC)\n",
    "tv_jpl_utc = UTCEpoch.([x.utcepoch for x in apophis_radar_data_2005_2013])\n",
    "# convert to TDB\n",
    "tv_jpl_tdb = TDBEpoch.(tv_jpl_utc)\n",
    "# date/time to Julian date\n",
    "tv_jpl_tdb_julian =  map(x->x.Δt, julian.(tv_jpl_tdb))\n",
    "# construct time range variable with t0 and observation times > t0, removing repeated values\n",
    "tv = union(t0, tv_jpl_tdb_julian[tv_jpl_tdb_julian .> t0])\n",
    "@show all(diff(tv) .> 0)"
   ]
  },
  {
   "cell_type": "markdown",
   "metadata": {},
   "source": [
    "Take only observations from 2012-2013:"
   ]
  },
  {
   "cell_type": "code",
   "execution_count": null,
   "metadata": {
    "scrolled": false
   },
   "outputs": [],
   "source": [
    "apophis_data = apophis_radar_data_2005_2013[6:end] #take only the 2012-2013 subset"
   ]
  },
  {
   "cell_type": "markdown",
   "metadata": {},
   "source": [
    "Check that each receiver and transmitter antennas are the same (i.e., monostatic mode):"
   ]
  },
  {
   "cell_type": "code",
   "execution_count": null,
   "metadata": {},
   "outputs": [],
   "source": [
    "@show all( ismonostatic.(apophis_data) )"
   ]
  },
  {
   "cell_type": "markdown",
   "metadata": {},
   "source": [
    "Get the station (observatories) codes:"
   ]
  },
  {
   "cell_type": "code",
   "execution_count": null,
   "metadata": {},
   "outputs": [],
   "source": [
    "#then, get the station codes\n",
    "station_codes = [x.rcvr for x in apophis_data];"
   ]
  },
  {
   "cell_type": "markdown",
   "metadata": {},
   "source": [
    "Get transmission frequencies (MHz):"
   ]
  },
  {
   "cell_type": "code",
   "execution_count": null,
   "metadata": {},
   "outputs": [],
   "source": [
    "#extract transmitter frequencies (MHz)\n",
    "transmitter_freq_MHz = [x.freq for x in apophis_data]"
   ]
  },
  {
   "cell_type": "markdown",
   "metadata": {},
   "source": [
    "Get UTC receive times:"
   ]
  },
  {
   "cell_type": "code",
   "execution_count": null,
   "metadata": {},
   "outputs": [],
   "source": [
    "# get UTC receive times\n",
    "tv_jpl_utc_jul = [datetime2julian(x.utcepoch) for x in apophis_data];"
   ]
  },
  {
   "cell_type": "markdown",
   "metadata": {},
   "source": [
    "Get indices of delay and Doppler observations in `apophis_data`:"
   ]
  },
  {
   "cell_type": "code",
   "execution_count": null,
   "metadata": {},
   "outputs": [],
   "source": [
    "delay_index = findall(x->x.delay_units==\"us\", apophis_data)\n",
    "doppler_index = findall(x->x.doppler_units==\"Hz\", apophis_data);"
   ]
  },
  {
   "cell_type": "markdown",
   "metadata": {},
   "source": [
    "# Delay/Doppler observations reduction"
   ]
  },
  {
   "cell_type": "code",
   "execution_count": null,
   "metadata": {
    "scrolled": true
   },
   "outputs": [],
   "source": [
    "niters = 3 # number of iterations in time delay recursive process\n",
    "rad_ind = 2"
   ]
  },
  {
   "cell_type": "code",
   "execution_count": null,
   "metadata": {},
   "outputs": [],
   "source": [
    "station_codes[rad_ind]"
   ]
  },
  {
   "cell_type": "code",
   "execution_count": null,
   "metadata": {},
   "outputs": [],
   "source": [
    "UTCEpoch.(TDBEpoch.(tv, origin=:julian))"
   ]
  },
  {
   "cell_type": "code",
   "execution_count": null,
   "metadata": {
    "scrolled": true
   },
   "outputs": [],
   "source": [
    "apophis_data[rad_ind].utcepoch"
   ]
  },
  {
   "cell_type": "code",
   "execution_count": null,
   "metadata": {},
   "outputs": [],
   "source": [
    "apophis_data[rad_ind].freq"
   ]
  },
  {
   "cell_type": "code",
   "execution_count": null,
   "metadata": {},
   "outputs": [],
   "source": [
    "Apophis.loadjpleph()"
   ]
  },
  {
   "cell_type": "code",
   "execution_count": null,
   "metadata": {
    "scrolled": true
   },
   "outputs": [],
   "source": [
    "tdelay, dshift = delay_doppler(\n",
    "    apophis_data[rad_ind].rcvr,\n",
    "    apophis_data[rad_ind].utcepoch,\n",
    "    apophis_data[rad_ind].freq,\n",
    "    niters,\n",
    "    xve = earth_et,\n",
    "    xvs = sun_et,\n",
    "    xva = apophis_et\n",
    ")"
   ]
  },
  {
   "cell_type": "code",
   "execution_count": null,
   "metadata": {},
   "outputs": [],
   "source": []
  },
  {
   "cell_type": "code",
   "execution_count": null,
   "metadata": {
    "scrolled": true
   },
   "outputs": [],
   "source": [
    "tdelay(), dshift()"
   ]
  },
  {
   "cell_type": "code",
   "execution_count": null,
   "metadata": {
    "scrolled": true
   },
   "outputs": [],
   "source": [
    "tdelay(-5.762), dshift(-5.762)"
   ]
  },
  {
   "cell_type": "code",
   "execution_count": null,
   "metadata": {
    "scrolled": true
   },
   "outputs": [],
   "source": [
    "tdelay_jpl, dshift_jpl = delay_doppler(\n",
    "    apophis_data[rad_ind].rcvr,\n",
    "    apophis_data[rad_ind].utcepoch,\n",
    "    apophis_data[rad_ind].freq,\n",
    "    niters#,\n",
    "    #xva=Apophis.apophis_pv_199\n",
    ")"
   ]
  },
  {
   "cell_type": "code",
   "execution_count": null,
   "metadata": {
    "scrolled": false
   },
   "outputs": [],
   "source": [
    "apophis_data[rad_ind].delay #DELAY observed value"
   ]
  },
  {
   "cell_type": "code",
   "execution_count": null,
   "metadata": {},
   "outputs": [],
   "source": [
    "tdelay_jpl #DELAY computed value, JPL"
   ]
  },
  {
   "cell_type": "code",
   "execution_count": null,
   "metadata": {},
   "outputs": [],
   "source": [
    "apophis_data[rad_ind].delay - tdelay_jpl #DELAY O-C, JPL"
   ]
  },
  {
   "cell_type": "code",
   "execution_count": null,
   "metadata": {
    "scrolled": true
   },
   "outputs": [],
   "source": [
    "tdelay() #DELAY computed value, TaylorIntegration.jl, with A2=0"
   ]
  },
  {
   "cell_type": "code",
   "execution_count": null,
   "metadata": {
    "scrolled": true
   },
   "outputs": [],
   "source": [
    "apophis_data[rad_ind].delay - tdelay() #DELAY O-C, TaylorIntegration, with A2=0"
   ]
  },
  {
   "cell_type": "code",
   "execution_count": null,
   "metadata": {
    "scrolled": true
   },
   "outputs": [],
   "source": [
    "apophis_data[rad_ind].delay - tdelay(-5.772) #DELAY O-C, TaylorIntegration, with A2=-5.7"
   ]
  },
  {
   "cell_type": "code",
   "execution_count": null,
   "metadata": {},
   "outputs": [],
   "source": [
    "apophis_data[rad_ind].doppler #DOPPLER observed value"
   ]
  },
  {
   "cell_type": "code",
   "execution_count": null,
   "metadata": {},
   "outputs": [],
   "source": [
    "dshift_jpl #DOPPLER computed value, JPL"
   ]
  },
  {
   "cell_type": "code",
   "execution_count": null,
   "metadata": {
    "scrolled": true
   },
   "outputs": [],
   "source": [
    "apophis_data[rad_ind].doppler - dshift_jpl #DOPPLER O-C, JPL"
   ]
  },
  {
   "cell_type": "code",
   "execution_count": null,
   "metadata": {
    "scrolled": true
   },
   "outputs": [],
   "source": [
    "dshift() #DOPPLER computed value, TaylorIntegration.jl, with A2=0"
   ]
  },
  {
   "cell_type": "code",
   "execution_count": null,
   "metadata": {
    "scrolled": true
   },
   "outputs": [],
   "source": [
    "apophis_data[rad_ind].doppler - dshift() #DELAY O-C, TaylorIntegration, with A2=0"
   ]
  },
  {
   "cell_type": "code",
   "execution_count": null,
   "metadata": {
    "scrolled": true
   },
   "outputs": [],
   "source": [
    "apophis_data[rad_ind].doppler - dshift(-5.762) #DELAY O-C, TaylorIntegration, with A2=-5.7"
   ]
  },
  {
   "cell_type": "code",
   "execution_count": null,
   "metadata": {},
   "outputs": [],
   "source": []
  },
  {
   "cell_type": "code",
   "execution_count": null,
   "metadata": {},
   "outputs": [],
   "source": [
    "#compute time-delay and Doppler-shift \"ephemeris\" (i.e., predicted values according to ephemeris)\n",
    "tdelay_v1, dshift_v1 = delay_doppler(apophis_data, niters; xve=earth_et, xvs=sun_et, xva=apophis_et);"
   ]
  },
  {
   "cell_type": "code",
   "execution_count": null,
   "metadata": {},
   "outputs": [],
   "source": [
    "# compute time-delay, Doppler-shift values from JPL ephemerides\n",
    "tdelay_JPL_v1, dshift_JPL_v1 = delay_doppler(apophis_data);"
   ]
  },
  {
   "cell_type": "code",
   "execution_count": null,
   "metadata": {},
   "outputs": [],
   "source": [
    "tdelay_jpl_obs = [x.delay for x in apophis_data][delay_index]\n",
    "dshift_jpl_obs = [x.doppler for x in apophis_data][doppler_index]\n",
    "\n",
    "tdelay_jpl_obs_sigma = [x.delay_sigma for x in apophis_data][delay_index]\n",
    "dshift_jpl_obs_sigma = [x.doppler_sigma for x in apophis_data][doppler_index];"
   ]
  },
  {
   "cell_type": "code",
   "execution_count": null,
   "metadata": {},
   "outputs": [],
   "source": [
    "# Observed minus computed (O-C) residuals: JPL DE430+s199\n",
    "\n",
    "# absolute residuals\n",
    "residual_JPL_td_ = tdelay_jpl_obs - tdelay_JPL_v1  # (usec)\n",
    "residual_JPL_ds = dshift_jpl_obs - (dshift_JPL_v1) # (Hz)\n",
    "\n",
    "# linear correction to delays:\n",
    "residual_JPL_td = residual_JPL_td_ #.+ (0.2e-2(tv_jpl_utc_jul[delay_index].-tv_jpl_utc_jul[end])) # (usec)\n",
    "\n",
    "# relative residuals\n",
    "rel_res_JPL_td = residual_JPL_td ./ tdelay_jpl_obs # (usec)\n",
    "rel_res_JPL_ds = residual_JPL_ds ./ dshift_jpl_obs # (Hz)\n",
    ";"
   ]
  },
  {
   "cell_type": "code",
   "execution_count": null,
   "metadata": {},
   "outputs": [],
   "source": [
    "#Observed minus computed (O-C) residuals: TaylorIntegration.jl\n",
    "\n",
    "#absolute\n",
    "residual_td = tdelay_jpl_obs - (tdelay_v1)  # (usec)\n",
    "residual_ds = dshift_jpl_obs - (dshift_v1) # (Hz)\n",
    "\n",
    "#relative\n",
    "rel_res_td = residual_td ./ tdelay_jpl_obs # (usec)\n",
    "rel_res_ds = residual_ds ./ dshift_jpl_obs # (Hz)\n",
    ";"
   ]
  },
  {
   "cell_type": "markdown",
   "metadata": {},
   "source": [
    "## Empirical correction to observation ephemeris vs JPL sol. #199"
   ]
  },
  {
   "cell_type": "code",
   "execution_count": null,
   "metadata": {
    "scrolled": false
   },
   "outputs": [],
   "source": [
    "###time-delay and Doppler residuals from Brozovic et al., 2018\n",
    "b2018_td_res = [0.105, 0.023, -0.491, 0.018, -0.123, -0.599, 0.121, 0.072, 0.056, 0.021, 0.059, -0.374, -0.154, 0.049, 0.400]\n",
    "b2018_ds_res = [0.039, -0.023, -0.001, 0.107, -0.061, -0.052, 0.037, -0.009, -0.007, -0.027, 0.031, 0.113, -0.062, 0.010, -0.077, 0.070, -0.006, 0.009, -0.068, 0.004, 0.023, 0.016, 0.029, 0.150]\n",
    ";"
   ]
  },
  {
   "cell_type": "code",
   "execution_count": null,
   "metadata": {
    "scrolled": false
   },
   "outputs": [],
   "source": [
    "#residual_JPL_td"
   ]
  },
  {
   "cell_type": "code",
   "execution_count": null,
   "metadata": {
    "scrolled": false
   },
   "outputs": [],
   "source": [
    "plot(\n",
    "    tv_jpl_utc_jul[delay_index].-t0,\n",
    "    residual_JPL_td.-b2018_td_res,\n",
    "    #yerror = tdelay_jpl_obs_sigma\n",
    "    m=:cross\n",
    ")"
   ]
  },
  {
   "cell_type": "code",
   "execution_count": null,
   "metadata": {
    "scrolled": false
   },
   "outputs": [],
   "source": [
    "#residual_JPL_ds"
   ]
  },
  {
   "cell_type": "code",
   "execution_count": null,
   "metadata": {},
   "outputs": [],
   "source": [
    "plot(\n",
    "    tv_jpl_utc_jul[doppler_index].-t0,\n",
    "    residual_JPL_ds.-b2018_ds_res,\n",
    "    m=:cross\n",
    ")"
   ]
  },
  {
   "cell_type": "markdown",
   "metadata": {},
   "source": [
    "# Time-delay / Doppler shift plots"
   ]
  },
  {
   "cell_type": "code",
   "execution_count": null,
   "metadata": {},
   "outputs": [],
   "source": [
    "A2_plot = 0.0\n",
    "scatter(\n",
    "    tv_jpl_utc_jul[delay_index].-t0, tdelay_v1(A2_plot),\n",
    "    label=\"predicted (TaylorIntegration, A2 = $A2_plot x 10^-14 au/d^2)\",\n",
    "    marker=:cross\n",
    ")\n",
    "scatter!(\n",
    "    tv_jpl_utc_jul[delay_index].-t0,\n",
    "    tdelay_JPL_v1,\n",
    "    label=\"predicted (JPL DE430+s199)\",\n",
    "    marker=:xcross\n",
    ")\n",
    "scatter!(\n",
    "    tv_jpl_utc_jul[delay_index].-t0,\n",
    "    tdelay_jpl_obs,\n",
    "    label=\"observed (Goldstone, Arecibo 2012-2013)\",\n",
    "    legend=:topright,\n",
    "    marker=:circle,\n",
    "    markersize=3,\n",
    "    yerror=dshift_jpl_obs_sigma\n",
    ")\n",
    "title!(\"Time delay vs time\")\n",
    "ylabel!(\"Total time delay [useconds]\")\n",
    "xlims!(1540, 1645)\n",
    "xticks!(1540:20:1640, string.(Date.(julian2datetime.(t0 .+ collect(1540:20:1640)))))\n",
    "xlabel!(\"Time\")"
   ]
  },
  {
   "cell_type": "code",
   "execution_count": null,
   "metadata": {},
   "outputs": [],
   "source": [
    "A2_plot = 0.0\n",
    "scatter(\n",
    "    tv_jpl_utc_jul[doppler_index].-t0, dshift_v1(A2_plot),\n",
    "    label=\"predicted (TaylorIntegration, A2 = $A2_plot x 10^-14 au/d^2)\",\n",
    "    marker=:cross\n",
    ")\n",
    "scatter!(\n",
    "    tv_jpl_utc_jul[doppler_index].-t0,\n",
    "    dshift_JPL_v1,\n",
    "    label=\"predicted (JPL DE430+s199)\",\n",
    "    marker=:xcross\n",
    ")\n",
    "scatter!(\n",
    "    tv_jpl_utc_jul[doppler_index].-t0,\n",
    "    dshift_jpl_obs,\n",
    "    label=\"observed (Goldstone, Arecibo 2012-2013)\",\n",
    "    legend=:topright,\n",
    "    marker=:circle,\n",
    "    markersize=3,\n",
    "    yerror=dshift_jpl_obs_sigma\n",
    ")\n",
    "title!(\"Doppler shift vs time\")\n",
    "ylabel!(\"Total Doppler shift [Hz]\")\n",
    "xlims!(1540, 1645)\n",
    "xticks!(1540:20:1640, string.(Date.(julian2datetime.(t0 .+ collect(1540:20:1640)))))\n",
    "xlabel!(\"Time\")"
   ]
  },
  {
   "cell_type": "code",
   "execution_count": null,
   "metadata": {
    "scrolled": false
   },
   "outputs": [],
   "source": [
    "#A2_lsqfit_deldop=-5.757903669935907"
   ]
  },
  {
   "cell_type": "code",
   "execution_count": null,
   "metadata": {
    "scrolled": false
   },
   "outputs": [],
   "source": [
    "#A2_plot = -5.592839897872 # JPL solution #199\n",
    "#A2_plot = -5.757903669935907 # A2_lsqfit_deldop\n",
    "A2_plot = 0.0 #-5.7\n",
    "A2_label_str = @sprintf \"TaylorIntegration (A2 = %.2f x 10^-14 au/d^2)\"  A2_plot\n",
    "scatter(\n",
    "    tv_jpl_utc_jul[delay_index].-t0,\n",
    "    residual_td(A2_plot), yerror = tdelay_jpl_obs_sigma,\n",
    "    marker=:cross,\n",
    "    label = A2_label_str,\n",
    "    legend = :topright\n",
    ")\n",
    "scatter!(\n",
    "    tv_jpl_utc_jul[delay_index].-t0,\n",
    "    residual_JPL_td, yerror = tdelay_jpl_obs_sigma,\n",
    "    marker=:xcross,\n",
    "    label = \"JPL DE430+s199\",\n",
    "    legend = :topright\n",
    ")\n",
    "title!(\"Time delay residuals (O-C)\")\n",
    "ylabel!(\"Total time delay resid. (O-C) [us]\")\n",
    "xlims!(1540, 1645)\n",
    "#ylims!(-215,210)\n",
    "xticks!(1540:20:1640, string.(Date.(julian2datetime.(t0 .+ collect(1540:20:1640)))))\n",
    "xlabel!(\"Time\")\n",
    "#savefig(\"delay_residuals_A2_0.pdf\")\n",
    "#savefig(\"delay_residuals_A2_lsfit.pdf\")"
   ]
  },
  {
   "cell_type": "code",
   "execution_count": null,
   "metadata": {},
   "outputs": [],
   "source": [
    "A2_lsqfit_deldop\n",
    "# -5.757903669935907 # with weights"
   ]
  },
  {
   "cell_type": "code",
   "execution_count": null,
   "metadata": {
    "scrolled": false
   },
   "outputs": [],
   "source": [
    "#A2_plot = -5.592839897872 # JPL solution #199\n",
    "#A2_plot = -5.757903669935907 # A2_lsqfit_deldop\n",
    "A2_plot = -5.757903669935907\n",
    "#A2_plot = 0.0 #-5.7\n",
    "A2_label_str = @sprintf \"TaylorIntegration (A2 = %.2fx10^-14 au/d^2)\"  A2_plot\n",
    "scatter(\n",
    "    tv_jpl_utc_jul[delay_index].-t0,\n",
    "    residual_td(A2_plot), yerror = tdelay_jpl_obs_sigma,\n",
    "    marker=:square,\n",
    "    ms=3.0,\n",
    "    label = A2_label_str,\n",
    "    legend = :topright\n",
    ")\n",
    "scatter!(\n",
    "    tv_jpl_utc_jul[delay_index].-t0,\n",
    "    residual_JPL_td, yerror = tdelay_jpl_obs_sigma,\n",
    "    marker=:circle,\n",
    "    ms=3.0,\n",
    "    label = \"JPL DE430+s199\",\n",
    "    legend = :bottomright\n",
    ")\n",
    "title!(\"Time delay residuals (O-C)\")\n",
    "ylabel!(\"Total time delay resid. (O-C) [us]\")\n",
    "xlims!(1540, 1645)\n",
    "#ylims!(-5,4)\n",
    "#ylims!(-.5,.5)\n",
    "xticks!(1540:20:1640, string.(Date.(julian2datetime.(t0 .+ collect(1540:20:1640)))))\n",
    "xlabel!(\"Time\")\n",
    "#savefig(\"delay_residuals_A2_0.pdf\")\n",
    "#savefig(\"delay_residuals_A2_lsfit.pdf\")"
   ]
  },
  {
   "cell_type": "code",
   "execution_count": null,
   "metadata": {},
   "outputs": [],
   "source": [
    "#A2_plot = -5.592839897872 # JPL solution #199\n",
    "#A2_plot = -5.757903669935907 # A2_lsqfit_deldop\n",
    "A2_plot = 0.0 #-5.7\n",
    "A2_label_str = @sprintf \"TaylorIntegration (A2 = %.2fx10^-14 au/d^2)\"  A2_plot\n",
    "scatter(\n",
    "    tv_jpl_utc_jul[doppler_index].-t0,\n",
    "    residual_ds(A2_plot), yerror = dshift_jpl_obs_sigma,\n",
    "    marker=:square,\n",
    "    ms=3.0,\n",
    "    label = A2_label_str,\n",
    "    leg=false\n",
    ")\n",
    "scatter!(\n",
    "    tv_jpl_utc_jul[doppler_index].-t0,\n",
    "    residual_JPL_ds, yerror = dshift_jpl_obs_sigma,\n",
    "    marker=:circle,\n",
    "    ms=3.0,\n",
    "    label = \"JPL DE430+s199\",\n",
    "    legend=:bottomleft\n",
    ")\n",
    "title!(\"Doppler shift residuals (O-C)\")\n",
    "ylabel!(\"Total Doppler shift resid. (O-C) [Hz]\")\n",
    "xlims!(1540, 1645)\n",
    "xticks!(1540:20:1640, string.(Date.(julian2datetime.(t0 .+ collect(1540:20:1640)))))\n",
    "xlabel!(\"Time\")\n",
    "#ylims!(-1.0,1.2)\n",
    "#savefig(\"doppler_residuals_A2_0.pdf\")\n",
    "#savefig(\"doppler_residuals_A2_lsfit.pdf\")"
   ]
  },
  {
   "cell_type": "code",
   "execution_count": null,
   "metadata": {},
   "outputs": [],
   "source": [
    "#A2_plot = -5.592839897872 # JPL solution #199\n",
    "A2_plot = -5.757903669935907 # A2_lsqfit_deldop\n",
    "#A2_plot = 0.0 #-5.7\n",
    "A2_label_str = @sprintf \"TaylorIntegration (A2 = %.2fx10^-14 au/d^2)\"  A2_plot\n",
    "scatter(\n",
    "    tv_jpl_utc_jul[doppler_index].-t0,\n",
    "    residual_ds(A2_plot), yerror = dshift_jpl_obs_sigma,\n",
    "    marker=:square,\n",
    "    ms=3.0,\n",
    "    label = A2_label_str,\n",
    "    leg=false\n",
    ")\n",
    "scatter!(\n",
    "    tv_jpl_utc_jul[doppler_index].-t0,\n",
    "    residual_JPL_ds, yerror = dshift_jpl_obs_sigma,\n",
    "    marker=:circle,\n",
    "    ms=3.0,\n",
    "    label = \"JPL DE430+s199\",\n",
    "    legend=:bottomleft\n",
    ")\n",
    "title!(\"Doppler shift residuals (O-C)\")\n",
    "ylabel!(\"Total Doppler shift resid. (O-C) [Hz]\")\n",
    "xlims!(1540, 1645)\n",
    "xticks!(1540:20:1640, string.(Date.(julian2datetime.(t0 .+ collect(1540:20:1640)))))\n",
    "xlabel!(\"Time\")\n",
    "#ylims!(-0.6,0.5)\n",
    "#ylims!(-1.0,1.2)\n",
    "#savefig(\"doppler_residuals_A2_0.pdf\")\n",
    "#savefig(\"doppler_residuals_A2_lsfit.pdf\")"
   ]
  },
  {
   "cell_type": "code",
   "execution_count": null,
   "metadata": {},
   "outputs": [],
   "source": []
  },
  {
   "cell_type": "code",
   "execution_count": null,
   "metadata": {
    "scrolled": false
   },
   "outputs": [],
   "source": [
    "scatter(\n",
    "    tv_jpl_utc_jul[delay_index].-t0, residual_JPL_td, yerror = tdelay_jpl_obs_sigma,\n",
    "    marker=:xcross,\n",
    "    label = \"JPL DE430+s199\",\n",
    "    legend = :topright,\n",
    "    color=2\n",
    ")\n",
    "ylabel!(\"Total time delay resid. (O-C) [us]\")\n",
    "#xlims!(1540, 1645)\n",
    "#xticks!(1540:20:1640, string.(Date.(julian2datetime.(t0 .+ collect(1540:20:1640)))))\n",
    "xlabel!(\"Time\")\n",
    "title!(\"Time delay residuals (O-C)\")"
   ]
  },
  {
   "cell_type": "code",
   "execution_count": null,
   "metadata": {
    "scrolled": false
   },
   "outputs": [],
   "source": [
    "scatter(\n",
    "    tv_jpl_utc_jul[doppler_index].-t0,\n",
    "    residual_JPL_ds, yerror = dshift_jpl_obs_sigma,\n",
    "    marker=:xcross,\n",
    "    label = \"JPL DE430+s199\",\n",
    "    legend=:bottomright,\n",
    "    color=2\n",
    ")\n",
    "title!(\"Doppler shift residuals (O-C)\")\n",
    "ylabel!(\"Total Doppler shift resid. (O-C) [Hz]\")\n",
    "xlims!(1540, 1645)\n",
    "xticks!(1540:20:1640, string.(Date.(julian2datetime.(t0 .+ collect(1540:20:1640)))))\n",
    "xlabel!(\"Time\")"
   ]
  },
  {
   "cell_type": "code",
   "execution_count": null,
   "metadata": {},
   "outputs": [],
   "source": [
    "plot(\n",
    "    tv_jpl_utc_jul[delay_index].-t0,\n",
    "    residual_JPL_td./tdelay_jpl_obs_sigma,\n",
    "    #yerror = tdelay_jpl_obs_sigma./tdelay_jpl_obs,\n",
    "    label=\"JPL DE430+s199\",\n",
    "    marker=:xcross,\n",
    "    legend=:topright,\n",
    "    color=2\n",
    ")\n",
    "title!(\"Time delay Nresid. (O-C)/sigma\")\n",
    "xlims!(1540, 1645)\n",
    "#ylims!(-1.1,1.1)\n",
    "xticks!(1540:20:1640, string.(Date.(julian2datetime.(t0 .+ collect(1540:20:1640)))))\n",
    "xlabel!(\"Time\")\n",
    "ylabel!(\"Normalized residual\")"
   ]
  },
  {
   "cell_type": "code",
   "execution_count": null,
   "metadata": {
    "scrolled": false
   },
   "outputs": [],
   "source": [
    "plot(\n",
    "    tv_jpl_utc_jul[doppler_index].-t0,\n",
    "    residual_JPL_ds./dshift_jpl_obs_sigma,\n",
    "    #yerror = dshift_jpl_obs_sigma./dshift_jpl_obs,\n",
    "    label=\"JPL DE430+s199\",\n",
    "    legend=:bottomright,\n",
    "    marker=:xcross,\n",
    "    color=2\n",
    ")\n",
    "title!(\"Doppler shift Nresid. (O-C)/sigma\")\n",
    "xlims!(1540, 1645)\n",
    "#ylims!(-2, 2)\n",
    "xticks!(1540:20:1640, string.(Date.(julian2datetime.(t0 .+ collect(1540:20:1640)))))\n",
    "xlabel!(\"Time\")"
   ]
  },
  {
   "cell_type": "markdown",
   "metadata": {},
   "source": [
    "A2_plot = 0.0 #A2_lsqfit_del\n",
    "scatter(\n",
    "    tv_jpl_utc_jul[delay_index].-t0,\n",
    "    rel_res_td(A2_plot),\n",
    "    yerror = tdelay_jpl_obs_sigma./tdelay_jpl_obs,\n",
    "    label=\"TaylorIntegration (A2 = $A2_plot x 10^-14 au/d^2)\",\n",
    "    marker=:cross,\n",
    "    legend=:topright\n",
    ")\n",
    "scatter!(\n",
    "    tv_jpl_utc_jul[delay_index].-t0,\n",
    "    rel_res_JPL_td,\n",
    "    yerror = tdelay_jpl_obs_sigma./tdelay_jpl_obs,\n",
    "    label=\"JPL DE430+s199\",\n",
    "    marker=:xcross,\n",
    "    legend=:topright\n",
    ")\n",
    "title!(\"Time delay relative resid. (O-C)/O\")\n",
    "xlims!(1540, 1645)\n",
    "xticks!(1540:20:1640, string.(Date.(julian2datetime.(t0 .+ collect(1540:20:1640)))))\n",
    "xlabel!(\"Time\")"
   ]
  },
  {
   "cell_type": "markdown",
   "metadata": {
    "scrolled": false
   },
   "source": [
    "A2_plot = 0.0\n",
    "scatter(\n",
    "    tv_jpl_utc_jul[doppler_index].-t0,\n",
    "    rel_res_ds(A2_plot),\n",
    "    yerror = dshift_jpl_obs_sigma./dshift_jpl_obs,\n",
    "    label=\"TaylorIntegration (A2 = $A2_plot x 10^-14 au/d^2)\",\n",
    "    legend=:bottomright,\n",
    "    marker=:cross\n",
    ")\n",
    "scatter!(\n",
    "    tv_jpl_utc_jul[doppler_index].-t0,\n",
    "    rel_res_JPL_ds,\n",
    "    yerror = dshift_jpl_obs_sigma./dshift_jpl_obs,\n",
    "    label=\"JPL DE430+s199\",\n",
    "    legend=:bottomright,\n",
    "    marker=:xcross\n",
    ")\n",
    "title!(\"Doppler shift relative resid. (O-C)/O\")\n",
    "xlims!(1540, 1645)\n",
    "xticks!(1540:20:1640, string.(Date.(julian2datetime.(t0 .+ collect(1540:20:1640)))))\n",
    "xlabel!(\"Time\")"
   ]
  },
  {
   "cell_type": "markdown",
   "metadata": {},
   "source": [
    "#check that HORIZONS (s#199) and downloaded SPK file for Apophis are the same\n",
    "#according to this check, they differ at the end of the evaluated times by ~ 2m in position\n",
    "tv_spkvhor = range(2454733.5, length=1001, stop=2456367.5)\n",
    "apophis_spk_arr = Array{Float64}(undef, length(tv_spkvhor), 6)\n",
    "for i in eachindex(tv_spkvhor)\n",
    "    apophis_spk_arr[i,:] .= Apophis.apophis_pv(tv_spkvhor[i])\n",
    "end\n",
    "apophis_horizons_arr = readdlm(\"../wld103954.15\")\n",
    "@show norm((apophis_spk_arr .- apophis_horizons_arr)[end,1:3])\n",
    "@show norm((apophis_spk_arr .- apophis_horizons_arr)[end,4:6])\n",
    ";"
   ]
  },
  {
   "cell_type": "markdown",
   "metadata": {},
   "source": [
    "# Yarkovsky $A_2$ coefficient estimation"
   ]
  },
  {
   "cell_type": "markdown",
   "metadata": {},
   "source": [
    "Here, we will compute, for a single time delay observation, the value of $A_2$ which makes the O-C residual of that observation equal to zero:"
   ]
  },
  {
   "cell_type": "markdown",
   "metadata": {},
   "source": [
    "The observed value is:"
   ]
  },
  {
   "cell_type": "code",
   "execution_count": null,
   "metadata": {
    "scrolled": false
   },
   "outputs": [],
   "source": [
    "#observed value\n",
    "tdelay_jpl_obs[1]"
   ]
  },
  {
   "cell_type": "code",
   "execution_count": null,
   "metadata": {
    "scrolled": true
   },
   "outputs": [],
   "source": [
    "# computed value (full solution)\n",
    "tdelay_v1[delay_index[1]] # τ_c(A2) = p(A2)"
   ]
  },
  {
   "cell_type": "code",
   "execution_count": null,
   "metadata": {
    "scrolled": false
   },
   "outputs": [],
   "source": [
    "# residual (A2 = 0)\n",
    "tdelay_jpl_obs[1] - tdelay_v1[delay_index[1]]()"
   ]
  },
  {
   "cell_type": "code",
   "execution_count": null,
   "metadata": {
    "scrolled": true
   },
   "outputs": [],
   "source": [
    "# substract A2=0 solution from τ_c(A2) (i.e., compute τ_c(A2)-τ_c(A2=0) )\n",
    "p_τ_1 = tdelay_v1[delay_index[1]]-tdelay_v1[delay_index[1]]()"
   ]
  },
  {
   "cell_type": "code",
   "execution_count": null,
   "metadata": {},
   "outputs": [],
   "source": [
    "# Let p_τ_1(A2) be the above polynomial expression, then we invert it so we get A2(δτ):\n",
    "A2_δτ_1 = inverse(p_τ_1)"
   ]
  },
  {
   "cell_type": "code",
   "execution_count": null,
   "metadata": {},
   "outputs": [],
   "source": [
    "#Now, we evaluate the polynomial at the corresponding residual at the A2=0 TaylorIntegration solution:\n",
    "A2_δτ_1(residual_td[1]())"
   ]
  },
  {
   "cell_type": "markdown",
   "metadata": {},
   "source": [
    "Now, we follow the same strategy for all the 2012-2013 radar astrometry for Apohpis (delay and Doppler):"
   ]
  },
  {
   "cell_type": "code",
   "execution_count": null,
   "metadata": {},
   "outputs": [],
   "source": [
    "td_us = tdelay_v1\n",
    "ds_Hz = dshift_v1;"
   ]
  },
  {
   "cell_type": "code",
   "execution_count": null,
   "metadata": {
    "scrolled": false
   },
   "outputs": [],
   "source": [
    "A2_δτ_v = (  inverse.( td_us-td_us() )  ) # vector of A2(δτ) polynomials at each delay observation;\n",
    "A2_δν_v = (  inverse.( ds_Hz-ds_Hz() )  ) # vector of A2(δν) polynomials at each Doppler observation;"
   ]
  },
  {
   "cell_type": "code",
   "execution_count": null,
   "metadata": {},
   "outputs": [],
   "source": [
    "A2_del_v = map((x,y)->x(y), A2_δτ_v, residual_td()); # A2(δτ) polynomials evaluated at the O-C time delay residuals;\n",
    "A2_dop_v = map((x,y)->x(y), A2_δν_v, residual_ds()); # A2(δν) polynomials evaluated at the O-C Doppler shift residuals;"
   ]
  },
  {
   "cell_type": "code",
   "execution_count": null,
   "metadata": {
    "scrolled": false
   },
   "outputs": [],
   "source": [
    "A2_del_v"
   ]
  },
  {
   "cell_type": "code",
   "execution_count": null,
   "metadata": {
    "scrolled": false
   },
   "outputs": [],
   "source": [
    "A2_dop_v"
   ]
  },
  {
   "cell_type": "code",
   "execution_count": null,
   "metadata": {
    "scrolled": true
   },
   "outputs": [],
   "source": [
    "mean(A2_del_v), std(A2_del_v)"
   ]
  },
  {
   "cell_type": "code",
   "execution_count": null,
   "metadata": {},
   "outputs": [],
   "source": [
    "mean(A2_dop_v), std(A2_dop_v)"
   ]
  },
  {
   "cell_type": "code",
   "execution_count": null,
   "metadata": {},
   "outputs": [],
   "source": [
    "A2_all = vcat(A2_del_v, A2_dop_v)"
   ]
  },
  {
   "cell_type": "code",
   "execution_count": null,
   "metadata": {},
   "outputs": [],
   "source": [
    "A2_mean_all = mean(A2_all)\n",
    "A2_std_all = std(A2_all)\n",
    "A2_mean_all, A2_std_all"
   ]
  },
  {
   "cell_type": "code",
   "execution_count": null,
   "metadata": {},
   "outputs": [],
   "source": [
    "scatter(\n",
    "    tv_jpl_utc_jul[delay_index][1:end-3].-t0,\n",
    "    A2_del_v[1:end-3],\n",
    "    marker=:cross,\n",
    "    label=\"A2 est. (Goldstone delay obs.)\"\n",
    ")\n",
    "scatter!(\n",
    "    tv_jpl_utc_jul[delay_index][end-2:end].-t0,\n",
    "    A2_del_v[end-2:end],\n",
    "    marker=:xcross,\n",
    "    label=\"A2 est. (Arecibo delay obs.)\",\n",
    "    color=3,\n",
    "    leg=:topright\n",
    ")\n",
    "ylabel!(\"A2(dt) x 10^14 [au/d^2]\")\n",
    "xlims!(1540, 1645)\n",
    "xticks!(1540:20:1645, string.(Date.(julian2datetime.(t0 .+ collect(1540:20:1640)))))\n",
    "xlabel!(\"Time\")"
   ]
  },
  {
   "cell_type": "code",
   "execution_count": null,
   "metadata": {
    "scrolled": false
   },
   "outputs": [],
   "source": [
    "scatter(\n",
    "    tv_jpl_utc_jul[doppler_index][1:end-7].-t0,\n",
    "    A2_dop_v[1:end-7],\n",
    "    marker=:cross,\n",
    "    label=\"A2 est. (Goldstone Doppler obs.)\",\n",
    "    color=2\n",
    ")\n",
    "scatter!(\n",
    "    tv_jpl_utc_jul[doppler_index][end-6:end].-t0,\n",
    "    A2_dop_v[end-6:end],\n",
    "    marker=:xcross,\n",
    "    label=\"A2 est. (Arecibo Doppler obs.)\",\n",
    "    leg=:bottomleft,\n",
    "    color=4\n",
    ")\n",
    "ylabel!(\"A2(df) x 10^14 [au/d^2]\")\n",
    "xlims!(1540, 1645)\n",
    "xticks!(1540:20:1645, string.(Date.(julian2datetime.(t0 .+ collect(1540:20:1640)))))\n",
    "xlabel!(\"Time\")"
   ]
  },
  {
   "cell_type": "code",
   "execution_count": null,
   "metadata": {},
   "outputs": [],
   "source": [
    "scatter(\n",
    "    tv_jpl_utc_jul[delay_index][1:end-3].-t0,\n",
    "    A2_del_v[1:end-3],\n",
    "    marker=:cross,\n",
    "    label=\"A2 est. (Goldstone delay obs.)\"\n",
    ")\n",
    "scatter!(\n",
    "    tv_jpl_utc_jul[doppler_index][1:end-7].-t0,\n",
    "    A2_dop_v[1:end-7],\n",
    "    marker=:cross,\n",
    "    label=\"A2 est. (Goldstone Doppler obs.)\"\n",
    ")\n",
    "scatter!(\n",
    "    tv_jpl_utc_jul[delay_index][end-2:end].-t0,\n",
    "    A2_del_v[end-2:end],\n",
    "    marker=:xcross,\n",
    "    label=\"A2 est. (Arecibo delay obs.)\"\n",
    ")\n",
    "scatter!(\n",
    "    tv_jpl_utc_jul[doppler_index][end-6:end].-t0,\n",
    "    A2_dop_v[end-6:end],\n",
    "    marker=:xcross,\n",
    "    label=\"A2 est. (Arecibo Doppler obs.)\",\n",
    "    leg=:bottomleft\n",
    ")\n",
    "ylabel!(\"A2 x 10^14 [au/d^2]\")\n",
    "xlims!(1540, 1645)\n",
    "ylims!(-105,5)\n",
    "xticks!(1540:20:1645, string.(Date.(julian2datetime.(t0 .+ collect(1540:20:1640)))))\n",
    "xlabel!(\"Time\")"
   ]
  },
  {
   "cell_type": "code",
   "execution_count": null,
   "metadata": {},
   "outputs": [],
   "source": [
    "A2_NO_Arecibo_dop = vcat(A2_del_v, A2_dop_v[1:end-7]);"
   ]
  },
  {
   "cell_type": "code",
   "execution_count": null,
   "metadata": {},
   "outputs": [],
   "source": [
    "A2_mean_NO_Arecibo_dop = mean(A2_NO_Arecibo_dop)\n",
    "A2_std_NO_Arecibo_dop = std(A2_NO_Arecibo_dop)\n",
    "A2_mean_NO_Arecibo_dop, A2_std_NO_Arecibo_dop"
   ]
  },
  {
   "cell_type": "markdown",
   "metadata": {},
   "source": [
    "# Intervals"
   ]
  },
  {
   "cell_type": "code",
   "execution_count": null,
   "metadata": {},
   "outputs": [],
   "source": [
    "#]add IntervalArithmetic"
   ]
  },
  {
   "cell_type": "code",
   "execution_count": null,
   "metadata": {
    "scrolled": true
   },
   "outputs": [],
   "source": [
    "using IntervalArithmetic"
   ]
  },
  {
   "cell_type": "code",
   "execution_count": null,
   "metadata": {},
   "outputs": [],
   "source": [
    "residual_td_interval = interval.(\n",
    "    (tdelay_jpl_obs-tdelay_jpl_obs_sigma)-tdelay_v1(), \n",
    "    (tdelay_jpl_obs+tdelay_jpl_obs_sigma)-tdelay_v1()\n",
    ");"
   ]
  },
  {
   "cell_type": "code",
   "execution_count": null,
   "metadata": {},
   "outputs": [],
   "source": [
    "residual_ds_interval = interval.(\n",
    "    (dshift_jpl_obs-dshift_jpl_obs_sigma)-dshift_v1(),\n",
    "    (dshift_jpl_obs+dshift_jpl_obs_sigma)-dshift_v1()\n",
    ");"
   ]
  },
  {
   "cell_type": "code",
   "execution_count": null,
   "metadata": {},
   "outputs": [],
   "source": [
    "A2_del_v_interval = map((x,y)->x(y), A2_δτ_v, residual_td_interval)"
   ]
  },
  {
   "cell_type": "code",
   "execution_count": null,
   "metadata": {},
   "outputs": [],
   "source": [
    "A2_dop_v_interval = map((x,y)->x(y), A2_δν_v, residual_ds_interval)"
   ]
  },
  {
   "cell_type": "code",
   "execution_count": null,
   "metadata": {},
   "outputs": [],
   "source": [
    "scatter(\n",
    "    tv_jpl_utc_jul[delay_index][1:end-3].-t0,\n",
    "    mid.(A2_del_v_interval[1:end-3]),\n",
    "    yerror=radius.(A2_del_v_interval[1:end-3]),\n",
    "    label=\"delay (Goldstone)\",\n",
    "    leg=:topright,\n",
    "    marker=:cross\n",
    ")\n",
    "scatter!(\n",
    "    tv_jpl_utc_jul[delay_index][end-2:end].-t0,\n",
    "    mid.(A2_del_v_interval[end-2:end]),\n",
    "    yerror=radius.(A2_del_v_interval[end-2:end]),\n",
    "    label=\"delay (Arecibo)\",\n",
    "    leg=:topright,\n",
    "    marker=:xcross,\n",
    "    color=3\n",
    ")\n",
    "#ylims!(minimum(A2_del_v)-1,0)\n",
    "ylabel!(\"A2(dt) x 10^14 [au/d^2]\")\n",
    "xlims!(1540, 1645)\n",
    "xticks!(1540:20:1645, string.(Date.(julian2datetime.(t0 .+ collect(1540:20:1640)))))\n",
    "xlabel!(\"Time\")\n",
    "title!(\"A2 estimation from polynomial inversion of delay obs.\")\n",
    "#savefig(\"A2_poly_inv_delay.pdf\")"
   ]
  },
  {
   "cell_type": "code",
   "execution_count": null,
   "metadata": {},
   "outputs": [],
   "source": [
    "scatter(\n",
    "    tv_jpl_utc_jul[doppler_index][1:end-7].-t0,\n",
    "    mid.(A2_dop_v_interval[1:end-7]),\n",
    "    yerror=radius.(A2_dop_v_interval[1:end-7]),\n",
    "    label=\"Doppler (Goldstone)\",\n",
    "    marker=:cross,\n",
    "    color=2\n",
    ")\n",
    "scatter!(\n",
    "    tv_jpl_utc_jul[doppler_index][end-6:end].-t0,\n",
    "    mid.(A2_dop_v_interval[end-6:end]),\n",
    "    yerror=radius.(A2_dop_v_interval[end-6:end]),\n",
    "    label=\"Doppler (Arecibo)\",\n",
    "    marker=:xcross,\n",
    "    leg=:bottomleft,\n",
    "    color=4\n",
    ")\n",
    "ylabel!(\"A2(df) x 10^14 [au/d^2]\")\n",
    "xlims!(1540, 1645)\n",
    "xticks!(1540:20:1645, string.(Date.(julian2datetime.(t0 .+ collect(1540:20:1640)))))\n",
    "xlabel!(\"Time\")"
   ]
  },
  {
   "cell_type": "code",
   "execution_count": null,
   "metadata": {},
   "outputs": [],
   "source": [
    "A2_v_NO_Arecibo_dop_interval = vcat(A2_del_v_interval, A2_dop_v_interval[1:end-7])"
   ]
  },
  {
   "cell_type": "code",
   "execution_count": null,
   "metadata": {
    "scrolled": true
   },
   "outputs": [],
   "source": [
    "A2_mean_NO_Arecibo_dop_interval = mean(A2_v_NO_Arecibo_dop_interval)\n",
    "A2_std_NO_Arecibo_dop_interval = std(A2_v_NO_Arecibo_dop_interval)\n",
    "A2_mean_NO_Arecibo_dop_interval, A2_std_NO_Arecibo_dop_interval"
   ]
  },
  {
   "cell_type": "code",
   "execution_count": null,
   "metadata": {
    "scrolled": false
   },
   "outputs": [],
   "source": [
    "scatter(\n",
    "    tv_jpl_utc_jul[delay_index][1:end-3].-t0,\n",
    "    mid.(A2_del_v_interval[1:end-3]),\n",
    "    yerror=radius.(A2_del_v_interval[1:end-3]),\n",
    "    marker=:cross,\n",
    "    leg=:bottomleft,\n",
    "    label=\"delay (Goldstone)\"\n",
    ")\n",
    "scatter!(\n",
    "    tv_jpl_utc_jul[doppler_index][1:end-7].-t0,\n",
    "    mid.(A2_dop_v_interval[1:end-7]),\n",
    "    yerror=radius.(A2_dop_v_interval[1:end-7]),\n",
    "    marker=:cross,\n",
    "    label=\"Doppler (Goldstone)\"\n",
    ")\n",
    "scatter!(\n",
    "    tv_jpl_utc_jul[delay_index][end-2:end].-t0,\n",
    "    mid.(A2_del_v_interval[end-2:end]),\n",
    "    yerror=radius.(A2_del_v_interval[end-2:end]),\n",
    "    marker=:xcross,\n",
    "    leg=:bottomleft,\n",
    "    label=\"delay (Arecibo)\"\n",
    ")\n",
    "scatter!(\n",
    "    tv_jpl_utc_jul[doppler_index][end-6:end].-t0,\n",
    "    mid.(A2_dop_v_interval[end-6:end]),\n",
    "    yerror=radius.(A2_dop_v_interval[end-6:end]),\n",
    "    marker=:xcross,\n",
    "    label=\"Doppler (Arecibo)\"\n",
    ")\n",
    "A2_label_str = @sprintf \"A2 (fit): %.5f  x 10^-14 au/d^2\" A2_lsqfit_deldop\n",
    "plot!([1540, 1640], [A2_lsqfit_deldop, A2_lsqfit_deldop], label=A2_label_str)\n",
    "ylabel!(\"A2 x 10^14 [au/day^2]\")\n",
    "xticks!(1540:20:1640, string.(Date.(julian2datetime.(t0 .+ collect(1540:20:1640)))))\n",
    "xlabel!(\"Time\")\n",
    "title!(\"A2 estimation from radar astrometry (Brozovic et al., 2018)\")\n",
    "#savefig(\"A2_fit_all.pdf\")"
   ]
  },
  {
   "cell_type": "code",
   "execution_count": null,
   "metadata": {},
   "outputs": [],
   "source": [
    "scatter(\n",
    "    tv_jpl_utc_jul[delay_index][1:end-3].-t0,\n",
    "    mid.(A2_del_v_interval[1:end-3]),\n",
    "    yerror=radius.(A2_del_v_interval[1:end-3]),\n",
    "    marker=:cross,\n",
    "    leg=:bottomleft,\n",
    "    label=\"delay (Goldstone)\"\n",
    ")\n",
    "scatter!(\n",
    "    tv_jpl_utc_jul[doppler_index][1:end-7].-t0,\n",
    "    mid.(A2_dop_v_interval[1:end-7]),\n",
    "    yerror=radius.(A2_dop_v_interval[1:end-7]),\n",
    "    marker=:cross,\n",
    "    label=\"Doppler (Goldstone)\"\n",
    ")\n",
    "scatter!(\n",
    "    tv_jpl_utc_jul[delay_index][end-2:end].-t0,\n",
    "    mid.(A2_del_v_interval[end-2:end]),\n",
    "    yerror=radius.(A2_del_v_interval[end-2:end]),\n",
    "    marker=:xcross,\n",
    "    leg=:bottomright,\n",
    "    label=\"delay (Arecibo)\"\n",
    ")\n",
    "scatter!(\n",
    "    tv_jpl_utc_jul[doppler_index][end-6:end].-t0,\n",
    "    mid.(A2_dop_v_interval[end-6:end]),\n",
    "    yerror=radius.(A2_dop_v_interval[end-6:end]),\n",
    "    marker=:xcross,\n",
    "    label=\"\"#\"Doppler (Arecibo)\"\n",
    ")\n",
    "A2_label_str = @sprintf \"A2 (fit): %.5f  x 10^-14 au/d^2\" A2_lsqfit_deldop_NO_Arecibo_dop\n",
    "plot!([1540, 1645], [A2_lsqfit_deldop, A2_lsqfit_deldop], label=A2_label_str)\n",
    "ylims!(-20,0)\n",
    "ylabel!(\"A2 x 10^14 [au/day^2]\")\n",
    "xlims!(1540, 1645)\n",
    "xlabel!(\"Time\")\n",
    "xticks!(1540:20:1645, string.(Date.(julian2datetime.(t0 .+ collect(1540:20:1645)))))\n",
    "title!(\"A2 estimation from radar astrometry (Brozovic et al., 2018)\")\n",
    "#savefig(\"A2_fit_no_Arecibo_doppler.pdf\")"
   ]
  },
  {
   "cell_type": "code",
   "execution_count": null,
   "metadata": {},
   "outputs": [],
   "source": [
    "scatter(\n",
    "    tv_jpl_utc_jul[delay_index][1:end-3].-t0,\n",
    "    mid.(A2_del_v_interval[1:end-3]),\n",
    "    yerror=radius.(A2_del_v_interval[1:end-3]),\n",
    "    marker=:cross,\n",
    "    leg=:bottomleft,\n",
    "    label=\"delay (Goldstone)\"\n",
    ")\n",
    "scatter!(\n",
    "    tv_jpl_utc_jul[doppler_index][1:end-7].-t0,\n",
    "    mid.(A2_dop_v_interval[1:end-7]),\n",
    "    yerror=radius.(A2_dop_v_interval[1:end-7]),\n",
    "    marker=:cross,\n",
    "    label=\"Doppler (Goldstone)\"\n",
    ")\n",
    "scatter!(\n",
    "    tv_jpl_utc_jul[delay_index][end-2:end].-t0,\n",
    "    mid.(A2_del_v_interval[end-2:end]),\n",
    "    yerror=radius.(A2_del_v_interval[end-2:end]),\n",
    "    marker=:xcross,\n",
    "    leg=:bottomright,\n",
    "    label=\"delay (Arecibo)\"\n",
    ")\n",
    "scatter!(\n",
    "    tv_jpl_utc_jul[doppler_index][end-6:end].-t0,\n",
    "    mid.(A2_dop_v_interval[end-6:end]),\n",
    "    yerror=radius.(A2_dop_v_interval[end-6:end]),\n",
    "    marker=:xcross,\n",
    "    label=\"\"#\"Doppler (Arecibo)\"\n",
    ")\n",
    "A2_label_str = @sprintf \"A2 (fit): %.5f  x 10^-14 au/d^2\" A2_lsqfit_deldop_NO_Arecibo_dop\n",
    "plot!([1540, 1645], [A2_lsqfit_del, A2_lsqfit_del], label=A2_label_str)\n",
    "ylims!(-8,-4)\n",
    "ylabel!(\"A2 x 10^14 [au/day^2]\")\n",
    "xlims!(1540, 1645)\n",
    "xlabel!(\"Time\")\n",
    "xticks!(1540:20:1645, string.(Date.(julian2datetime.(t0 .+ collect(1540:20:1645)))))\n",
    "title!(\"A2 estimation from radar astrometry (Brozovic et al., 2018)\")\n",
    "#savefig(\"A2_fit_no_Arecibo_doppler.pdf\")"
   ]
  },
  {
   "cell_type": "markdown",
   "metadata": {},
   "source": [
    "## Least squares"
   ]
  },
  {
   "cell_type": "code",
   "execution_count": null,
   "metadata": {},
   "outputs": [],
   "source": [
    "res_del = tdelay_jpl_obs .- tdelay_v1 # delay residuals a.a.f. of A2\n",
    "res_dop = dshift_jpl_obs .- dshift_v1 # Doppler residuals a.a.f. of A2\n",
    "W_del = 1 ./(tdelay_jpl_obs_sigma.^2) # delay weights\n",
    "W_dop = 1 ./(dshift_jpl_obs_sigma.^2) # Doppler weights\n",
    "res_deldop = vcat(res_del, res_dop) # delay + Doppler residuals as a function of A2\n",
    "W_deldop = vcat(W_del, W_dop) # delay + Doppler weights\n",
    "res_xWx_del = res_del .* W_del .* res_del\n",
    "res_xWx_dop = res_dop .* W_dop .* res_dop\n",
    "res_xWx_deldop = res_deldop .* W_deldop .* res_deldop\n",
    "res_xWx_deldop_NO_Arecibo_dop = vcat(res_xWx_del, res_xWx_dop[1:end-7]); #remove Arecibo Doppler \"outliers\""
   ]
  },
  {
   "cell_type": "code",
   "execution_count": null,
   "metadata": {},
   "outputs": [],
   "source": [
    "Apophis.taylor_roots.(res_del, 0.0)"
   ]
  },
  {
   "cell_type": "markdown",
   "metadata": {},
   "source": [
    "scatter(\n",
    "    tv_jpl_utc_jul[delay_index].-t0,\n",
    "    taylor_roots.(res_del, 0.0),\n",
    "    yerror=radius.(A2_del_v_interval)\n",
    ")"
   ]
  },
  {
   "cell_type": "markdown",
   "metadata": {},
   "source": [
    "Below, we compute the $A_2$ value which minimizes the polynomial expression for $Q(A_2)$, the mean square residual. We consider 4 cases: 1) only the delay observations, 2) only the Doppler observations, 3) all the delays and Dopplers, and 4) all delays and Dopplers excluding Arecibo Dopplers. Further, following classical nonlinear squares procedures, we estimate the 1-$\\sigma$ formal uncertainty of $A_2$ for each case, from the covariance \"matrix\" as $\\sigma_{A_2} = \\Gamma_{1,1}$ where the covariance matrix is $\\Gamma = C^{-1}$, $C$ is the normal matrix $C = (\\partial\\xi/\\partial A_2)^\\dagger \\cdot (\\partial\\xi/\\partial A_2)$ and $\\xi$ are the residuals. In this case, since were are fitting only 1 parameter, namely $A_2$, both $\\Gamma$ and $C$ correspond to 1x1 matrices (i.e., both $\\Gamma$ and $C$ are scalars)."
   ]
  },
  {
   "cell_type": "code",
   "execution_count": null,
   "metadata": {
    "scrolled": true
   },
   "outputs": [],
   "source": [
    "Q_A2_del = sum(res_xWx_del)/length(res_xWx_del)\n",
    "#res_sq_del_ord2 = map(x->Taylor1(x.coeffs[1:3]), res_sq_del)\n",
    "#Q_A2_del = sum(res_sq_del_ord2)/length(res_sq_del_ord2)"
   ]
  },
  {
   "cell_type": "code",
   "execution_count": null,
   "metadata": {
    "scrolled": true
   },
   "outputs": [],
   "source": [
    "A2_lsqfit_del = Apophis.taylor_minimum(Q_A2_del, 0.0, niters=5)"
   ]
  },
  {
   "cell_type": "code",
   "execution_count": null,
   "metadata": {},
   "outputs": [],
   "source": [
    "#B_del = differentiate.( map(x->Taylor1(x.coeffs[1:3]), res_del) )\n",
    "B_del = differentiate.(res_del)\n",
    "C_del = ( transpose(B_del) )*( W_del.*B_del )\n",
    "Γ_del = inv(C_del)"
   ]
  },
  {
   "cell_type": "code",
   "execution_count": null,
   "metadata": {},
   "outputs": [],
   "source": [
    "Γ_del(A2_lsqfit_del)"
   ]
  },
  {
   "cell_type": "code",
   "execution_count": null,
   "metadata": {},
   "outputs": [],
   "source": [
    "sqrt( Γ_del(A2_lsqfit_del) )"
   ]
  },
  {
   "cell_type": "code",
   "execution_count": null,
   "metadata": {},
   "outputs": [],
   "source": []
  },
  {
   "cell_type": "code",
   "execution_count": null,
   "metadata": {},
   "outputs": [],
   "source": [
    "Q_A2_dop = sum(res_xWx_dop)/length(res_xWx_dop)"
   ]
  },
  {
   "cell_type": "code",
   "execution_count": null,
   "metadata": {
    "scrolled": true
   },
   "outputs": [],
   "source": [
    "A2_lsqfit_dop = Apophis.taylor_minimum(Q_A2_dop, 0.0, niters=5)"
   ]
  },
  {
   "cell_type": "code",
   "execution_count": null,
   "metadata": {},
   "outputs": [],
   "source": [
    "B_dop = differentiate.(res_dop)\n",
    "C_dop = ( transpose(B_dop) )*( W_dop.*B_dop )\n",
    "Γ_dop = inv(C_dop)"
   ]
  },
  {
   "cell_type": "code",
   "execution_count": null,
   "metadata": {},
   "outputs": [],
   "source": [
    "Γ_dop(A2_lsqfit_dop)"
   ]
  },
  {
   "cell_type": "code",
   "execution_count": null,
   "metadata": {},
   "outputs": [],
   "source": [
    "sqrt( Γ_dop(A2_lsqfit_dop) )"
   ]
  },
  {
   "cell_type": "code",
   "execution_count": null,
   "metadata": {},
   "outputs": [],
   "source": [
    "Q_A2_deldop = sum(res_xWx_deldop)/length(res_xWx_deldop)"
   ]
  },
  {
   "cell_type": "code",
   "execution_count": null,
   "metadata": {
    "scrolled": true
   },
   "outputs": [],
   "source": [
    "A2_lsqfit_deldop = Apophis.taylor_minimum(Q_A2_deldop, 0.0, niters=5)"
   ]
  },
  {
   "cell_type": "code",
   "execution_count": null,
   "metadata": {},
   "outputs": [],
   "source": [
    "B_deldop = differentiate.(res_deldop)\n",
    "C_deldop = ( transpose(B_deldop) )*( W_deldop.*B_deldop )\n",
    "Γ_deldop = inv(C_deldop)"
   ]
  },
  {
   "cell_type": "code",
   "execution_count": null,
   "metadata": {},
   "outputs": [],
   "source": [
    "Γ_deldop(A2_lsqfit_deldop)"
   ]
  },
  {
   "cell_type": "code",
   "execution_count": null,
   "metadata": {},
   "outputs": [],
   "source": [
    "sqrt( Γ_deldop(A2_lsqfit_deldop) )"
   ]
  },
  {
   "cell_type": "code",
   "execution_count": null,
   "metadata": {},
   "outputs": [],
   "source": [
    "Q_A2_deldop_NO_Arecibo_dop = sum(res_xWx_deldop_NO_Arecibo_dop)/length(res_xWx_deldop_NO_Arecibo_dop)"
   ]
  },
  {
   "cell_type": "code",
   "execution_count": null,
   "metadata": {
    "scrolled": true
   },
   "outputs": [],
   "source": [
    "A2_lsqfit_deldop_NO_Arecibo_dop = Apophis.taylor_minimum(Q_A2_deldop_NO_Arecibo_dop, 0.0, niters=5)"
   ]
  },
  {
   "cell_type": "code",
   "execution_count": null,
   "metadata": {},
   "outputs": [],
   "source": [
    "Γ_deldop(A2_lsqfit_deldop_NO_Arecibo_dop)"
   ]
  },
  {
   "cell_type": "code",
   "execution_count": null,
   "metadata": {},
   "outputs": [],
   "source": [
    "sqrt( Γ_deldop(A2_lsqfit_deldop_NO_Arecibo_dop) )"
   ]
  },
  {
   "cell_type": "code",
   "execution_count": null,
   "metadata": {},
   "outputs": [],
   "source": []
  },
  {
   "cell_type": "code",
   "execution_count": null,
   "metadata": {},
   "outputs": [],
   "source": [
    "gr()"
   ]
  },
  {
   "cell_type": "code",
   "execution_count": null,
   "metadata": {
    "scrolled": false
   },
   "outputs": [],
   "source": [
    "_A2_min_plot = -5.85\n",
    "_A2_max_plot = -5.7\n",
    "A2_vals = range(_A2_min_plot, length=2000, stop=_A2_max_plot)\n",
    "plot(A2_vals, Q_A2_deldop.(A2_vals), leg=false)\n",
    "xlabel!(\"A2 x 10^14 [au/day^2]\")\n",
    "ylabel!(\"Q(A2)\")\n",
    "title!(\"Mean weighted square residual vs A2\")\n",
    "#ylims!(-1, 11)\n",
    "xlims!(_A2_min_plot, _A2_max_plot)"
   ]
  },
  {
   "cell_type": "code",
   "execution_count": null,
   "metadata": {},
   "outputs": [],
   "source": [
    "mean(res_deldop), std(res_deldop)"
   ]
  },
  {
   "cell_type": "markdown",
   "metadata": {},
   "source": [
    "Compute the value of A2 such that the mean of the residuals is zero:"
   ]
  },
  {
   "cell_type": "code",
   "execution_count": null,
   "metadata": {},
   "outputs": [],
   "source": [
    "A2_zero_mean_res = Apophis.taylor_roots(mean(res_deldop), A2_lsqfit_deldop)"
   ]
  },
  {
   "cell_type": "markdown",
   "metadata": {},
   "source": [
    "Check that the vector of residuals evaluated at the LS solution has mean zero:"
   ]
  },
  {
   "cell_type": "code",
   "execution_count": null,
   "metadata": {
    "scrolled": true
   },
   "outputs": [],
   "source": [
    "mean(res_deldop()), std(res_deldop()) #A2 = 0"
   ]
  },
  {
   "cell_type": "code",
   "execution_count": null,
   "metadata": {},
   "outputs": [],
   "source": [
    "# A2 = A2 LS solution\n",
    "mean(res_deldop(A2_lsqfit_deldop)), std(res_deldop(A2_lsqfit_deldop))"
   ]
  },
  {
   "cell_type": "code",
   "execution_count": null,
   "metadata": {},
   "outputs": [],
   "source": [
    "# A2 such that res. mean is closest to zero\n",
    "mean(res_deldop(A2_zero_mean_res)), std(res_deldop(A2_zero_mean_res))"
   ]
  },
  {
   "cell_type": "markdown",
   "metadata": {},
   "source": [
    "If we expand the \"cost\" function Q wrt the solution value, then the first-order term should be zero:"
   ]
  },
  {
   "cell_type": "code",
   "execution_count": null,
   "metadata": {},
   "outputs": [],
   "source": [
    "ΔQ_del = Q_A2_del(A2_lsqfit_del+Taylor1(Q_A2_del.order))-Q_A2_del(A2_lsqfit_del)"
   ]
  },
  {
   "cell_type": "code",
   "execution_count": null,
   "metadata": {},
   "outputs": [],
   "source": [
    "ΔQ_deldop = Q_A2_deldop(A2_lsqfit_deldop+Taylor1(Q_A2_deldop.order))-Q_A2_deldop(A2_lsqfit_deldop)"
   ]
  },
  {
   "cell_type": "code",
   "execution_count": null,
   "metadata": {},
   "outputs": [],
   "source": []
  },
  {
   "cell_type": "markdown",
   "metadata": {},
   "source": [
    "- Compare directly ephemerides JPL vs TaylorIntegration\n",
    "- Propagate A2 interval trough March 2021 approach to see what difference in us, hz expect from A2 not zero"
   ]
  },
  {
   "cell_type": "markdown",
   "metadata": {},
   "source": [
    "## Ephemerides: DE430+s199 vs TaylorIntegration"
   ]
  },
  {
   "cell_type": "code",
   "execution_count": null,
   "metadata": {
    "scrolled": false
   },
   "outputs": [],
   "source": [
    "tv"
   ]
  },
  {
   "cell_type": "code",
   "execution_count": null,
   "metadata": {},
   "outputs": [],
   "source": [
    "(tv[end]-tv[1])/365.25"
   ]
  },
  {
   "cell_type": "code",
   "execution_count": null,
   "metadata": {},
   "outputs": [],
   "source": [
    "tv_et = Array{Float64}(undef, length(tv))\n",
    "apophis_jpl = Array{Float64}(undef, length(tv), 6)\n",
    "earth_jpl = Array{Float64}(undef, length(tv), 6)\n",
    "moon_jpl = Array{Float64}(undef, length(tv), 6)\n",
    "for i in eachindex(tv)\n",
    "    tv_et[i] = julian2etsecs(tv[i])\n",
    "    apophis_jpl[i,:] .= Apophis.apophis_pv_199(tv_et[i])\n",
    "    earth_jpl[i,:] .= Apophis.earth_pv(tv_et[i])\n",
    "    moon_jpl[i,:] .= Apophis.moon_pv(tv_et[i])\n",
    "end"
   ]
  },
  {
   "cell_type": "code",
   "execution_count": null,
   "metadata": {},
   "outputs": [],
   "source": [
    "#A2_lsqfit_deldop = A2_lsqfit_del\n",
    "apophis_ti = [apophis(tv[i])[j](A2_lsqfit_deldop) for i in eachindex(tv), j in 1:6];\n",
    "earth_ti = [ss16asteph(tv[i])[j] for i in eachindex(tv), j in union(3*4-2:3*4,3*(27+4)-2:3*(27+4))];\n",
    "moon_ti = [ss16asteph(tv[i])[j] for i in eachindex(tv), j in union(3*5-2:3*5,3*(27+5)-2:3*(27+5))];"
   ]
  },
  {
   "cell_type": "code",
   "execution_count": null,
   "metadata": {},
   "outputs": [],
   "source": [
    "1000*au*(apophis_ti - apophis_jpl) "
   ]
  },
  {
   "cell_type": "code",
   "execution_count": null,
   "metadata": {},
   "outputs": [],
   "source": [
    "1000au*(earth_ti - earth_jpl)"
   ]
  },
  {
   "cell_type": "code",
   "execution_count": null,
   "metadata": {},
   "outputs": [],
   "source": [
    "1000au*(moon_ti - moon_jpl)"
   ]
  },
  {
   "cell_type": "code",
   "execution_count": null,
   "metadata": {},
   "outputs": [],
   "source": [
    "x_ae_ti = apophis_ti - earth_ti;"
   ]
  },
  {
   "cell_type": "code",
   "execution_count": null,
   "metadata": {},
   "outputs": [],
   "source": [
    "x_ae_jpl = apophis_jpl - earth_jpl;"
   ]
  },
  {
   "cell_type": "code",
   "execution_count": null,
   "metadata": {},
   "outputs": [],
   "source": [
    "r(x,y,z) = sqrt(x^2 + y^2 + z^2)\n",
    "vr(x,y,z,u,v,w) = (x*u + y*v + z*w)/r(x,y,z)\n",
    "\n",
    "r_ae_ti = r.(x_ae_ti[:,1], x_ae_ti[:,2], x_ae_ti[:,3])\n",
    "vr_ae_ti = vr.( x_ae_ti[:,1], x_ae_ti[:,2], x_ae_ti[:,3], x_ae_ti[:,4], x_ae_ti[:,5], x_ae_ti[:,6] )\n",
    "\n",
    "r_ae_jpl = r.(x_ae_jpl[:,1], x_ae_jpl[:,2], x_ae_jpl[:,3])\n",
    "vr_ae_jpl = vr.( x_ae_jpl[:,1], x_ae_jpl[:,2], x_ae_jpl[:,3], x_ae_jpl[:,4], x_ae_jpl[:,5], x_ae_jpl[:,6] );"
   ]
  },
  {
   "cell_type": "code",
   "execution_count": null,
   "metadata": {
    "scrolled": true
   },
   "outputs": [],
   "source": [
    "#tve = range(tv[1], tv[end], length=2000)\n",
    "tvemin, tvemax = minmax(ss16asteph.t[1], ss16asteph.t[end])\n",
    "tve = range(tvemin, tvemax, length=50000)#2000)\n",
    "#tve = range(ss16asteph.t[1], ss16asteph.t[1]+yr, length=50000)"
   ]
  },
  {
   "cell_type": "code",
   "execution_count": null,
   "metadata": {},
   "outputs": [],
   "source": [
    "julian2datetime.(tve)"
   ]
  },
  {
   "cell_type": "code",
   "execution_count": null,
   "metadata": {},
   "outputs": [],
   "source": [
    "sun_ti_e = [ss16asteph(tve[i])[j] for i in eachindex(tve), j in union(3*1-2:3*1,3*(27+1)-2:3*(27+1))]\n",
    "sun_jpl_e = Array{Float64}(undef, length(tve), 6)\n",
    "mercury_ti_e = [ss16asteph(tve[i])[j] for i in eachindex(tve), j in union(3*2-2:3*2,3*(27+2)-2:3*(27+2))]\n",
    "mercury_jpl_e = Array{Float64}(undef, length(tve), 6)\n",
    "venus_ti_e = [ss16asteph(tve[i])[j] for i in eachindex(tve), j in union(3*3-2:3*3,3*(27+3)-2:3*(27+3))]\n",
    "venus_jpl_e = Array{Float64}(undef, length(tve), 6)\n",
    "earth_ti_e = [ss16asteph(tve[i])[j] for i in eachindex(tve), j in union(3*4-2:3*4,3*(27+4)-2:3*(27+4))]\n",
    "earth_jpl_e = Array{Float64}(undef, length(tve), 6)\n",
    "moon_ti_e = [ss16asteph(tve[i])[j] for i in eachindex(tve), j in union(3*5-2:3*5,3*(27+5)-2:3*(27+5))]\n",
    "moon_jpl_e = Array{Float64}(undef, length(tve), 6)\n",
    "mars_ti_e = [ss16asteph(tve[i])[j] for i in eachindex(tve), j in union(3*6-2:3*6,3*(27+6)-2:3*(27+6))]\n",
    "mars_jpl_e = Array{Float64}(undef, length(tve), 6)\n",
    "jupiter_ti_e = [ss16asteph(tve[i])[j] for i in eachindex(tve), j in union(3*7-2:3*7,3*(27+7)-2:3*(27+7))]\n",
    "jupiter_jpl_e = Array{Float64}(undef, length(tve), 6)\n",
    "saturn_ti_e = [ss16asteph(tve[i])[j] for i in eachindex(tve), j in union(3*8-2:3*8,3*(27+8)-2:3*(27+8))]\n",
    "saturn_jpl_e = Array{Float64}(undef, length(tve), 6)\n",
    "for i in eachindex(tve)\n",
    "    tve_et_i = julian2etsecs(tve[i])\n",
    "    sun_jpl_e[i,:] .= Apophis.sun_pv(tve_et_i)\n",
    "    mercury_jpl_e[i,:] .= Apophis.kmsec2auday( Apophis.getpv(1, 0, tve_et_i) )\n",
    "    venus_jpl_e[i,:] .= Apophis.kmsec2auday( Apophis.getpv(2, 0, tve_et_i) )\n",
    "    earth_jpl_e[i,:] .= Apophis.earth_pv(tve_et_i)\n",
    "    moon_jpl_e[i,:] .= Apophis.moon_pv(tve_et_i)\n",
    "    mars_jpl_e[i,:] .= Apophis.kmsec2auday( Apophis.getpv(4, 0, tve_et_i) )\n",
    "    jupiter_jpl_e[i,:] .= Apophis.kmsec2auday( Apophis.getpv(5, 0, tve_et_i) )\n",
    "    saturn_jpl_e[i,:] .= Apophis.kmsec2auday( Apophis.getpv(6, 0, tve_et_i) )\n",
    "end"
   ]
  },
  {
   "cell_type": "code",
   "execution_count": null,
   "metadata": {},
   "outputs": [],
   "source": [
    "#using SPICE"
   ]
  },
  {
   "cell_type": "code",
   "execution_count": null,
   "metadata": {},
   "outputs": [],
   "source": [
    "#furnsh(\"../jpleph/a99942_s199.bsp\")"
   ]
  },
  {
   "cell_type": "code",
   "execution_count": null,
   "metadata": {},
   "outputs": [],
   "source": [
    "#apophis_pv_199(et) = Apophis.kmsec2auday( Apophis.getpv(2099942, 0, et) ) # units: au, au/day"
   ]
  },
  {
   "cell_type": "code",
   "execution_count": null,
   "metadata": {},
   "outputs": [],
   "source": [
    "apophis_ti_e = [apophis(tve[i])[j]( A2_lsqfit_deldop ) for i in eachindex(tve), j in 1:6];\n",
    "apophis_jpl_e = Array{Float64}(undef, length(tve), 6)\n",
    "for i in eachindex(tve)\n",
    "    tve_et_i = julian2etsecs(tve[i])\n",
    "    apophis_jpl_e[i,:] .= Apophis.apophis_pv_199(tve_et_i)\n",
    "end"
   ]
  },
  {
   "cell_type": "code",
   "execution_count": null,
   "metadata": {
    "scrolled": true
   },
   "outputs": [],
   "source": [
    "gr()"
   ]
  },
  {
   "cell_type": "code",
   "execution_count": null,
   "metadata": {},
   "outputs": [],
   "source": [
    "length(tve[1]:20:tve[end])"
   ]
  },
  {
   "cell_type": "code",
   "execution_count": null,
   "metadata": {
    "scrolled": false
   },
   "outputs": [],
   "source": [
    "plot( tve, 1000au*(sun_ti_e .- sun_jpl_e)[:,1], label=\"x\")#, marker=:cross)\n",
    "plot!(tve, 1000au*(sun_ti_e .- sun_jpl_e)[:,2], label=\"y\")#, marker=:cross)\n",
    "plot!(tve, 1000au*(sun_ti_e .- sun_jpl_e)[:,3], label=\"z\", leg=:bottomleft)#, marker=:cross)\n",
    "title!(\"Sun: diff. in barycentric position vs DE430\")\n",
    "ylabel!(\"PlEph.jl - DE430 [m]\")\n",
    "xlabel!(\"Julian date (TDB)\")\n",
    "xlims!(tvemin, tvemax)\n",
    "xticks!(tvemin:1200:tvemax, string.(Date.(julian2datetime.(tvemin:1200:tvemax))))"
   ]
  },
  {
   "cell_type": "code",
   "execution_count": null,
   "metadata": {},
   "outputs": [],
   "source": [
    "plot( tve, (1000/86400)*au*(sun_ti_e .- sun_jpl_e)[:,4], label=\"vx\") #, marker=:cross)\n",
    "plot!(tve, (1000/86400)*au*(sun_ti_e .- sun_jpl_e)[:,5], label=\"vy\") #, marker=:cross)\n",
    "plot!(tve, (1000/86400)*au*(sun_ti_e .- sun_jpl_e)[:,6], label=\"vz\", leg=:bottomleft) #, marker=:cross)\n",
    "title!(\"Sun: diff. in barycentric velocity vs DE430\")\n",
    "ylabel!(\"PlEph.jl - DE430 [m/s]\")\n",
    "xlabel!(\"Julian date (TDB)\")\n",
    "xlims!(tvemin, tvemax)\n",
    "xticks!(tvemin:1200:tvemax, string.(Date.(julian2datetime.(tvemin:1200:tvemax))))"
   ]
  },
  {
   "cell_type": "code",
   "execution_count": null,
   "metadata": {},
   "outputs": [],
   "source": [
    "#plotlyjs()\n",
    "gr()"
   ]
  },
  {
   "cell_type": "code",
   "execution_count": null,
   "metadata": {
    "scrolled": false
   },
   "outputs": [],
   "source": [
    "plot( tve, 1000au*(mercury_ti_e .- mercury_jpl_e)[:,1], label=\"x\")#, marker=:cross)\n",
    "plot!(tve, 1000au*(mercury_ti_e .- mercury_jpl_e)[:,2], label=\"y\")#, marker=:cross)\n",
    "plot!(tve, 1000au*(mercury_ti_e .- mercury_jpl_e)[:,3], label=\"z\", leg=:bottomleft)#, marker=:cross)\n",
    "title!(\"Mercury: diff. in barycentric position vs DE430\")\n",
    "ylabel!(\"PlEph.jl - DE430 [m]\")\n",
    "xlabel!(\"Julian date (TDB)\")\n",
    "xlims!(tvemin, tvemax)\n",
    "xticks!(tvemin:1200:tvemax, string.(Date.(julian2datetime.(tvemin:1200:tvemax))))"
   ]
  },
  {
   "cell_type": "code",
   "execution_count": null,
   "metadata": {},
   "outputs": [],
   "source": [
    "plot( tve, (1000/86400)*au*(mercury_ti_e .- mercury_jpl_e)[:,4], label=\"vx\") #, marker=:cross)\n",
    "plot!(tve, (1000/86400)*au*(mercury_ti_e .- mercury_jpl_e)[:,5], label=\"vy\") #, marker=:cross)\n",
    "plot!(tve, (1000/86400)*au*(mercury_ti_e .- mercury_jpl_e)[:,6], label=\"vz\", leg=:bottomleft) #, marker=:cross)\n",
    "title!(\"Mercury: diff. in barycentric velocity vs DE430\")\n",
    "ylabel!(\"PlEph.jl - DE430 [m/s]\")\n",
    "xlabel!(\"Julian date (TDB)\")\n",
    "xlims!(tvemin, tvemax)\n",
    "xticks!(tvemin:1200:tvemax, string.(Date.(julian2datetime.(tvemin:1200:tvemax))))"
   ]
  },
  {
   "cell_type": "code",
   "execution_count": null,
   "metadata": {
    "scrolled": false
   },
   "outputs": [],
   "source": [
    "plot( tve, 1000au*(venus_ti_e .- venus_jpl_e)[:,1], label=\"x\")#, marker=:cross)\n",
    "plot!(tve, 1000au*(venus_ti_e .- venus_jpl_e)[:,2], label=\"y\")#, marker=:cross)\n",
    "plot!(tve, 1000au*(venus_ti_e .- venus_jpl_e)[:,3], label=\"z\", leg=:bottomleft)#, marker=:cross)\n",
    "title!(\"Venus: diff. in barycentric position vs DE430\")\n",
    "ylabel!(\"PlEph.jl - DE430 [m]\")\n",
    "xlabel!(\"Julian date (TDB)\")\n",
    "xlims!(tvemin, tvemax)\n",
    "xticks!(tvemin:1200:tvemax, string.(Date.(julian2datetime.(tvemin:1200:tvemax))))"
   ]
  },
  {
   "cell_type": "code",
   "execution_count": null,
   "metadata": {},
   "outputs": [],
   "source": [
    "plot( tve, (1000/86400)*au*(venus_ti_e .- venus_jpl_e)[:,4], label=\"vx\") #, marker=:cross)\n",
    "plot!(tve, (1000/86400)*au*(venus_ti_e .- venus_jpl_e)[:,5], label=\"vy\") #, marker=:cross)\n",
    "plot!(tve, (1000/86400)*au*(venus_ti_e .- venus_jpl_e)[:,6], label=\"vz\", leg=:bottomleft) #, marker=:cross)\n",
    "title!(\"Venus: diff. in barycentric velocity vs DE430\")\n",
    "ylabel!(\"PlEph.jl - DE430 [m/s]\")\n",
    "xlabel!(\"Julian date (TDB)\")\n",
    "xlims!(tvemin, tvemax)\n",
    "xticks!(tvemin:1200:tvemax, string.(Date.(julian2datetime.(tvemin:1200:tvemax))))"
   ]
  },
  {
   "cell_type": "code",
   "execution_count": null,
   "metadata": {
    "scrolled": false
   },
   "outputs": [],
   "source": [
    "plot(tve, 1000au*(earth_ti_e .- earth_jpl_e)[:,1], label=\"x\")#, marker=:cross)\n",
    "plot!(tve, 1000au*(earth_ti_e .- earth_jpl_e)[:,2], label=\"y\")#, marker=:cross)\n",
    "plot!(tve, 1000au*(earth_ti_e .- earth_jpl_e)[:,3], label=\"z\", leg=:bottomleft)#, marker=:cross)\n",
    "title!(\"Earth: diff. in barycentric position vs DE430\")\n",
    "ylabel!(\"PlEph.jl - DE430 [m]\")\n",
    "xlabel!(\"Julian date (TDB)\")\n",
    "xlims!(tvemin, tvemax)\n",
    "xticks!(tvemin:1200:tvemax, string.(Date.(julian2datetime.(tvemin:1200:tvemax))))"
   ]
  },
  {
   "cell_type": "code",
   "execution_count": null,
   "metadata": {},
   "outputs": [],
   "source": [
    "plot( tve, (1000/86400)*au*(earth_ti_e .- earth_jpl_e)[:,4], label=\"vx\") #, marker=:cross)\n",
    "plot!(tve, (1000/86400)*au*(earth_ti_e .- earth_jpl_e)[:,5], label=\"vy\") #, marker=:cross)\n",
    "plot!(tve, (1000/86400)*au*(earth_ti_e .- earth_jpl_e)[:,6], label=\"vz\", leg=:bottomleft) #, marker=:cross)\n",
    "title!(\"Earth: diff. in barycentric velocity vs DE430\")\n",
    "ylabel!(\"PlEph.jl - DE430 [m/s]\")\n",
    "xlabel!(\"Julian date (TDB)\")\n",
    "xlims!(tvemin, tvemax)\n",
    "xticks!(tvemin:1200:tvemax, string.(Date.(julian2datetime.(tvemin:1200:tvemax))))"
   ]
  },
  {
   "cell_type": "code",
   "execution_count": null,
   "metadata": {},
   "outputs": [],
   "source": [
    "plot( tve, 1000au*(moon_ti_e .- moon_jpl_e)[:,1], label=\"x\")#, marker=:cross)\n",
    "plot!(tve, 1000au*(moon_ti_e .- moon_jpl_e)[:,2], label=\"y\")#, marker=:cross)\n",
    "plot!(tve, 1000au*(moon_ti_e .- moon_jpl_e)[:,3], label=\"z\", leg=:bottomleft)#, marker=:cross)\n",
    "title!(\"Moon: diff. in barycentric position vs DE430\")\n",
    "ylabel!(\"PlEph.jl - DE430 [m]\")\n",
    "xlabel!(\"Julian date (TDB)\")\n",
    "xlims!(tvemin, tvemax)\n",
    "xticks!(tvemin:1200:tvemax, string.(Date.(julian2datetime.(tvemin:1200:tvemax))))"
   ]
  },
  {
   "cell_type": "code",
   "execution_count": null,
   "metadata": {},
   "outputs": [],
   "source": [
    "plot( tve, (1000/86400)*au*(moon_ti_e .- moon_jpl_e)[:,4], label=\"vx\") #, marker=:cross)\n",
    "plot!(tve, (1000/86400)*au*(moon_ti_e .- moon_jpl_e)[:,5], label=\"vy\") #, marker=:cross)\n",
    "plot!(tve, (1000/86400)*au*(moon_ti_e .- moon_jpl_e)[:,6], label=\"vz\", leg=:bottomleft) #, marker=:cross)\n",
    "title!(\"Moon: diff. in barycentric velocity vs DE430\")\n",
    "ylabel!(\"PlEph.jl - DE430 [m/s]\")\n",
    "xlabel!(\"Julian date (TDB)\")\n",
    "xlims!(tvemin, tvemax)\n",
    "xticks!(tvemin:1200:tvemax, string.(Date.(julian2datetime.(tvemin:1200:tvemax))))"
   ]
  },
  {
   "cell_type": "code",
   "execution_count": null,
   "metadata": {},
   "outputs": [],
   "source": [
    "plot( tve, 1000au*(mars_ti_e .- mars_jpl_e)[:,1], label=\"x\")#, marker=:cross)\n",
    "plot!(tve, 1000au*(mars_ti_e .- mars_jpl_e)[:,2], label=\"y\")#, marker=:cross)\n",
    "plot!(tve, 1000au*(mars_ti_e .- mars_jpl_e)[:,3], label=\"z\", leg=:bottomleft)#, marker=:cross)\n",
    "title!(\"Mars: diff. in barycentric position vs DE430\")\n",
    "ylabel!(\"PlEph.jl - DE430 [m]\")\n",
    "xlabel!(\"Julian date (TDB)\")\n",
    "xlims!(tvemin, tvemax)\n",
    "xticks!(tvemin:1200:tvemax, string.(Date.(julian2datetime.(tvemin:1200:tvemax))))"
   ]
  },
  {
   "cell_type": "code",
   "execution_count": null,
   "metadata": {},
   "outputs": [],
   "source": [
    "plot( tve, (1000/86400)*au*(mars_ti_e .- mars_jpl_e)[:,4], label=\"vx\") #, marker=:cross)\n",
    "plot!(tve, (1000/86400)*au*(mars_ti_e .- mars_jpl_e)[:,5], label=\"vy\") #, marker=:cross)\n",
    "plot!(tve, (1000/86400)*au*(mars_ti_e .- mars_jpl_e)[:,6], label=\"vz\", leg=:bottomleft) #, marker=:cross)\n",
    "title!(\"Mars: diff. in barycentric velocity vs DE430\")\n",
    "ylabel!(\"PlEph.jl - DE430 [m/s]\")\n",
    "xlabel!(\"Julian date (TDB)\")\n",
    "xlims!(tvemin, tvemax)\n",
    "xticks!(tvemin:1200:tvemax, string.(Date.(julian2datetime.(tvemin:1200:tvemax))))"
   ]
  },
  {
   "cell_type": "code",
   "execution_count": null,
   "metadata": {},
   "outputs": [],
   "source": [
    "gr()"
   ]
  },
  {
   "cell_type": "code",
   "execution_count": null,
   "metadata": {
    "scrolled": false
   },
   "outputs": [],
   "source": [
    "plot( tve, 1000au*(jupiter_ti_e .- jupiter_jpl_e)[:,1], label=\"x\")#, marker=:cross)\n",
    "plot!(tve, 1000au*(jupiter_ti_e .- jupiter_jpl_e)[:,2], label=\"y\")#, marker=:cross)\n",
    "plot!(tve, 1000au*(jupiter_ti_e .- jupiter_jpl_e)[:,3], label=\"z\", leg=:bottomleft)#, marker=:cross)\n",
    "title!(\"Jupiter: diff. in barycentric position vs DE430\")\n",
    "ylabel!(\"PlEph.jl - DE430 [m]\")\n",
    "xlabel!(\"Julian date (TDB)\")\n",
    "xlims!(tvemin, tvemax)\n",
    "xticks!(tvemin:1200:tvemax, string.(Date.(julian2datetime.(tvemin:1200:tvemax))))"
   ]
  },
  {
   "cell_type": "code",
   "execution_count": null,
   "metadata": {},
   "outputs": [],
   "source": [
    "plot( tve, (1000/86400)*au*(jupiter_ti_e .- jupiter_jpl_e)[:,4], label=\"vx\") #, marker=:cross)\n",
    "plot!(tve, (1000/86400)*au*(jupiter_ti_e .- jupiter_jpl_e)[:,5], label=\"vy\") #, marker=:cross)\n",
    "plot!(tve, (1000/86400)*au*(jupiter_ti_e .- jupiter_jpl_e)[:,6], label=\"vz\", leg=:bottomleft) #, marker=:cross)\n",
    "title!(\"Jupiter: diff. in barycentric velocity vs DE430\")\n",
    "ylabel!(\"PlEph.jl - DE430 [m/s]\")\n",
    "xlabel!(\"Julian date (TDB)\")\n",
    "xlims!(tvemin, tvemax)\n",
    "xticks!(tvemin:1200:tvemax, string.(Date.(julian2datetime.(tvemin:1200:tvemax))))"
   ]
  },
  {
   "cell_type": "code",
   "execution_count": null,
   "metadata": {
    "scrolled": false
   },
   "outputs": [],
   "source": [
    "plot( tve, 1000au*(saturn_ti_e .- saturn_jpl_e)[:,1], label=\"x\")#, marker=:cross)\n",
    "plot!(tve, 1000au*(saturn_ti_e .- saturn_jpl_e)[:,2], label=\"y\")#, marker=:cross)\n",
    "plot!(tve, 1000au*(saturn_ti_e .- saturn_jpl_e)[:,3], label=\"z\", leg=:bottomleft)#, marker=:cross)\n",
    "title!(\"Saturn: diff. in barycentric position vs DE430\")\n",
    "ylabel!(\"PlEph.jl - DE430 [m]\")\n",
    "xlabel!(\"Julian date (TDB)\")\n",
    "xlims!(tvemin, tvemax)\n",
    "xticks!(tvemin:1200:tvemax, string.(Date.(julian2datetime.(tvemin:1200:tvemax))))"
   ]
  },
  {
   "cell_type": "code",
   "execution_count": null,
   "metadata": {},
   "outputs": [],
   "source": [
    "plot( tve, (1000/86400)*au*(saturn_ti_e .- saturn_jpl_e)[:,4], label=\"vx\") #, marker=:cross)\n",
    "plot!(tve, (1000/86400)*au*(saturn_ti_e .- saturn_jpl_e)[:,5], label=\"vy\") #, marker=:cross)\n",
    "plot!(tve, (1000/86400)*au*(saturn_ti_e .- saturn_jpl_e)[:,6], label=\"vz\", leg=:bottomleft) #, marker=:cross)\n",
    "title!(\"Saturn: diff. in barycentric velocity vs DE430\")\n",
    "ylabel!(\"PlEph.jl - DE430 [m/s]\")\n",
    "xlabel!(\"Julian date (TDB)\")\n",
    "xlims!(tvemin, tvemax)\n",
    "xticks!(tvemin:1200:tvemax, string.(Date.(julian2datetime.(tvemin:1200:tvemax))))"
   ]
  },
  {
   "cell_type": "code",
   "execution_count": null,
   "metadata": {},
   "outputs": [],
   "source": [
    "gr()\n",
    "plotlyjs()"
   ]
  },
  {
   "cell_type": "code",
   "execution_count": null,
   "metadata": {
    "scrolled": false
   },
   "outputs": [],
   "source": [
    "plot( tve, 1000au*(apophis_ti_e .- apophis_jpl_e)[:,1], label=\"x\")#, marker=:cross)\n",
    "plot!(tve, 1000au*(apophis_ti_e .- apophis_jpl_e)[:,2], label=\"y\")#, marker=:cross)\n",
    "plot!(tve, 1000au*(apophis_ti_e .- apophis_jpl_e)[:,3], label=\"z\", leg=:bottomleft)#, marker=:cross)\n",
    "title!(\"Apophis: diff. in barycentric position vs JPL#199\")\n",
    "ylabel!(\"Apophis.jl - DE430 [m]\")\n",
    "xlabel!(\"Julian date (TDB)\")\n",
    "#xlims!(tve[1], tve[end-80])\n",
    "#ylims!(-1000, 1000)\n",
    "#xticks!(tve[1]:1200:tve[end-80], string.(Date.(julian2datetime.(tve[1]:1200:tve[end-80]))))"
   ]
  },
  {
   "cell_type": "code",
   "execution_count": null,
   "metadata": {
    "scrolled": false
   },
   "outputs": [],
   "source": [
    "plot( tve, 1000au*(apophis_ti_e .- apophis_jpl_e)[:,1], label=\"x\")#, marker=:cross)\n",
    "plot!(tve, 1000au*(apophis_ti_e .- apophis_jpl_e)[:,2], label=\"y\")#, marker=:cross)\n",
    "plot!(tve, 1000au*(apophis_ti_e .- apophis_jpl_e)[:,3], label=\"z\", leg=:bottomleft)#, marker=:cross)\n",
    "title!(\"Apophis: diff. in barycentric position vs JPL#199\")\n",
    "ylabel!(\"Apophis.jl - DE430 [m]\")\n",
    "xlabel!(\"Julian date (TDB)\")\n",
    "#ylims!(-1000, 1000)\n",
    "xlims!(tvemin, tvemax)\n",
    "xticks!(tvemin:365:tvemax, string.(Date.(julian2datetime.(tvemin:365:tvemax))))"
   ]
  },
  {
   "cell_type": "code",
   "execution_count": null,
   "metadata": {},
   "outputs": [],
   "source": [
    "tvemin:365:tvemax"
   ]
  },
  {
   "cell_type": "code",
   "execution_count": null,
   "metadata": {},
   "outputs": [],
   "source": [
    "ans[2]"
   ]
  },
  {
   "cell_type": "code",
   "execution_count": null,
   "metadata": {},
   "outputs": [],
   "source": [
    "#gr()\n",
    "plotly()"
   ]
  },
  {
   "cell_type": "code",
   "execution_count": null,
   "metadata": {},
   "outputs": [],
   "source": [
    "plot( tve, 1000au*(apophis_ti_e .- apophis_jpl_e)[:,1], label=\"x\")#, marker=:cross)\n",
    "plot!(tve, 1000au*(apophis_ti_e .- apophis_jpl_e)[:,2], label=\"y\")#, marker=:cross)\n",
    "plot!(tve, 1000au*(apophis_ti_e .- apophis_jpl_e)[:,3], label=\"z\", leg=:bottomleft)#, marker=:cross)\n",
    "title!(\"Apophis: diff. in barycentric position vs JPL#199\")\n",
    "ylabel!(\"Apophis.jl - DE430 [m]\")\n",
    "xlabel!(\"Julian date (TDB)\")\n",
    "#xlims!(tve[end-2900], tve[end-2850])\n",
    "#ylims!(-5e3, 5e3)\n",
    "xticks!(tve[1]:1200:tve[end-80], string.(Date.(julian2datetime.(tve[1]:1200:tve[end-80]))))"
   ]
  },
  {
   "cell_type": "code",
   "execution_count": null,
   "metadata": {},
   "outputs": [],
   "source": [
    "plot( tve, 1000au*(apophis_ti_e .- apophis_jpl_e)[:,1], label=\"x\")#, marker=:cross)\n",
    "plot!(tve, 1000au*(apophis_ti_e .- apophis_jpl_e)[:,2], label=\"y\")#, marker=:cross)\n",
    "plot!(tve, 1000au*(apophis_ti_e .- apophis_jpl_e)[:,3], label=\"z\", leg=:bottomleft)#, marker=:cross)\n",
    "title!(\"Apophis: diff. in barycentric position vs JPL#199\")\n",
    "ylabel!(\"Apophis.jl - DE430 [m]\")\n",
    "xlabel!(\"Julian date (TDB)\")\n",
    "#xlims!(tve[end-2900], tve[end-2850])\n",
    "ylims!(-2.5e3, 2.5e3)\n",
    "xticks!(tve[1]:1200:tve[end-80], string.(Date.(julian2datetime.(tve[1]:1200:tve[end-80]))))"
   ]
  },
  {
   "cell_type": "code",
   "execution_count": null,
   "metadata": {},
   "outputs": [],
   "source": []
  },
  {
   "cell_type": "code",
   "execution_count": null,
   "metadata": {},
   "outputs": [],
   "source": []
  },
  {
   "cell_type": "code",
   "execution_count": null,
   "metadata": {},
   "outputs": [],
   "source": []
  },
  {
   "cell_type": "code",
   "execution_count": null,
   "metadata": {},
   "outputs": [],
   "source": [
    "plot( tve, (1000/86400)*au*(apophis_ti_e .- apophis_jpl_e)[:,4], label=\"vx\") #, marker=:cross)\n",
    "plot!(tve, (1000/86400)*au*(apophis_ti_e .- apophis_jpl_e)[:,5], label=\"vy\") #, marker=:cross)\n",
    "plot!(tve, (1000/86400)*au*(apophis_ti_e .- apophis_jpl_e)[:,6], label=\"vz\", leg=:bottomleft) #, marker=:cross)\n",
    "title!(\"Apophis: diff. in barycentric velocity vs JPL#199\")\n",
    "ylabel!(\"Apophis.jl - DE430 [m/s]\")\n",
    "xlabel!(\"Julian date (TDB)\")\n",
    "#ylims!(-0.0002, 0.0002)\n",
    "#xlims!(tve[1], tve[end-80])\n",
    "#xticks!(tve[1]:1200:tve[end-80], string.(Date.(julian2datetime.(tve[1]:1200:tve[end-80]))))"
   ]
  },
  {
   "cell_type": "code",
   "execution_count": null,
   "metadata": {
    "scrolled": false
   },
   "outputs": [],
   "source": [
    "plot(tv[2:end], 1e6*86400(r_ae_ti[2:end]-r_ae_jpl[2:end])/c_au_per_day, m=:cross)\n",
    "ylabel!(\"range diff [light-microseconds]\")\n",
    "xlabel!(\"Julian date\")"
   ]
  },
  {
   "cell_type": "code",
   "execution_count": null,
   "metadata": {},
   "outputs": [],
   "source": [
    "plot(tv[2:end], 1e6(vr_ae_jpl[2:end]-vr_ae_ti[2:end])/c_au_per_day, m=:cross)\n",
    "ylabel!(\"Doppler shift diff (Hz)\")\n",
    "xlabel!(\"Julian date\")"
   ]
  },
  {
   "cell_type": "code",
   "execution_count": null,
   "metadata": {},
   "outputs": [],
   "source": [
    "(x_ae_ti - x_ae_jpl)./x_ae_jpl"
   ]
  },
  {
   "cell_type": "code",
   "execution_count": null,
   "metadata": {},
   "outputs": [],
   "source": [
    "plot( tv[2:end], 1000au*(earth_ti .- earth_jpl)[2:end,1], label=\"x\")#, marker=:cross)\n",
    "plot!(tv[2:end], 1000au*(earth_ti .- earth_jpl)[2:end,2], label=\"y\")#, marker=:cross)\n",
    "plot!(tv[2:end], 1000au*(earth_ti .- earth_jpl)[2:end,3], label=\"z\")#, marker=:cross)\n",
    "title!(\"Earth: diff. in barycentric position vs DE430\")\n",
    "ylabel!(\"PlEph.jl - DE430 [m]\")\n",
    "xlabel!(\"Julian date (TDB)\")"
   ]
  },
  {
   "cell_type": "code",
   "execution_count": null,
   "metadata": {
    "scrolled": false
   },
   "outputs": [],
   "source": [
    "plot( tv[2:end], (x_ae_ti - x_ae_jpl)[2:end,1]*au*(1e6/299792.458), label=\"x\")#, marker=:cross)\n",
    "plot!(tv[2:end], (x_ae_ti - x_ae_jpl)[2:end,2]*au*(1e6/299792.458), label=\"y\")#, marker=:cross)\n",
    "plot!(tv[2:end], (x_ae_ti - x_ae_jpl)[2:end,3]*au*(1e6/299792.458), label=\"z\")#, marker=:cross)\n",
    "title!(\"Apophis: diff. in geocentric position vs DE430+s199\")\n",
    "ylabel!(\"[light-microseconds]\")\n",
    "xlabel!(\"Julian date (TDB)\")"
   ]
  },
  {
   "cell_type": "code",
   "execution_count": null,
   "metadata": {},
   "outputs": [],
   "source": [
    "plot( tv[2:end], (apophis_ti-apophis_jpl)[2:end,1]*1000au, label=\"x\")#, marker=:cross)\n",
    "plot!(tv[2:end], (apophis_ti-apophis_jpl)[2:end,2]*1000au, label=\"y\")#, marker=:cross)\n",
    "plot!(tv[2:end], (apophis_ti-apophis_jpl)[2:end,3]*1000au, label=\"z\")#, marker=:cross)\n",
    "title!(\"Apophis: diff. in barycentric position vs Solution #199\")\n",
    "ylabel!(\"[m]\")\n",
    "xlabel!(\"Julian date (TDB)\")"
   ]
  },
  {
   "cell_type": "code",
   "execution_count": null,
   "metadata": {},
   "outputs": [],
   "source": [
    "gr()"
   ]
  },
  {
   "cell_type": "code",
   "execution_count": null,
   "metadata": {},
   "outputs": [],
   "source": [
    "myplot_tv = t[2:10:end]\n",
    "myplot_xv = apophis.(myplot_tv)\n",
    "plot(myplot_tv.-t[1], map(x->abs(x[1][0]), myplot_xv), yscale=:log10, label=\"x[0]\", leg=false)\n",
    "for i in 1:9\n",
    "    plot!(myplot_tv.-t[1], map(x->abs(x[1][i]), myplot_xv), label=\"x[$i]\")\n",
    "end\n",
    "plot!(myplot_tv.-t[1], map(x->abs(x[1][10]), myplot_xv), label=\"x[10]\")\n",
    "title!(\"x\")"
   ]
  },
  {
   "cell_type": "code",
   "execution_count": null,
   "metadata": {},
   "outputs": [],
   "source": [
    "myplot_tv = t[2:10:end]\n",
    "myplot_xv = apophis.(myplot_tv)\n",
    "r2v = map(x->x[1]^2+x[2]^2+x[3]^2, myplot_xv)\n",
    "plot((myplot_tv.-t[1])/yr, map(x->abs(x[0]), r2v), yscale=:log10, label=\"x[0]\", leg=false)\n",
    "for i in 1:9\n",
    "    plot!((myplot_tv.-t[1])/yr, map(x->abs(x[i]), r2v), label=\"x[$i]\")\n",
    "end\n",
    "plot!((myplot_tv.-t[1])/yr, map(x->abs(x[10]), r2v), label=\"x[10]\")\n",
    "title!(\"r^2\")"
   ]
  },
  {
   "cell_type": "code",
   "execution_count": null,
   "metadata": {},
   "outputs": [],
   "source": []
  },
  {
   "cell_type": "code",
   "execution_count": null,
   "metadata": {},
   "outputs": [],
   "source": [
    "# myplot_tv = t[2:10:end]\n",
    "plot( myplot_tv.-t[1], map(x->abs(x[2][0]), apophis.(myplot_tv)), yscale=:log10, label=\"x[0]\", leg=false)\n",
    "plot!(myplot_tv.-t[1], map(x->abs(x[2][1]), apophis.(myplot_tv)), label=\"x[1]\")\n",
    "plot!(myplot_tv.-t[1], map(x->abs(x[2][2]), apophis.(myplot_tv)), label=\"x[2]\")\n",
    "plot!(myplot_tv.-t[1], map(x->abs(x[2][3]), apophis.(myplot_tv)), label=\"x[3]\")\n",
    "plot!(myplot_tv.-t[1], map(x->abs(x[2][4]), apophis.(myplot_tv)), label=\"x[4]\")\n",
    "title!(\"y\")"
   ]
  },
  {
   "cell_type": "code",
   "execution_count": null,
   "metadata": {},
   "outputs": [],
   "source": [
    "myplot_tv = t[2:10:end]\n",
    "plot( myplot_tv.-t[1], map(x->abs(x[3][0]), apophis.(myplot_tv)), yscale=:log10, label=\"x[0]\", leg=false)\n",
    "plot!(myplot_tv.-t[1], map(x->abs(x[3][1]), apophis.(myplot_tv)), label=\"x[1]\")\n",
    "plot!(myplot_tv.-t[1], map(x->abs(x[3][2]), apophis.(myplot_tv)), label=\"x[2]\")\n",
    "plot!(myplot_tv.-t[1], map(x->abs(x[3][3]), apophis.(myplot_tv)), label=\"x[3]\")\n",
    "plot!(myplot_tv.-t[1], map(x->abs(x[3][4]), apophis.(myplot_tv)), label=\"x[4]\")\n",
    "title!(\"z\")"
   ]
  },
  {
   "cell_type": "code",
   "execution_count": null,
   "metadata": {},
   "outputs": [],
   "source": [
    "myplot_tv = t[2:10:end]\n",
    "plot( myplot_tv.-t[1], map(x->abs(x[4][0]), apophis.(myplot_tv)), yscale=:log10, label=\"x[0]\", leg=false)\n",
    "plot!(myplot_tv.-t[1], map(x->abs(x[4][1]), apophis.(myplot_tv)), label=\"x[1]\")\n",
    "plot!(myplot_tv.-t[1], map(x->abs(x[4][2]), apophis.(myplot_tv)), label=\"x[2]\")\n",
    "plot!(myplot_tv.-t[1], map(x->abs(x[4][3]), apophis.(myplot_tv)), label=\"x[3]\")\n",
    "plot!(myplot_tv.-t[1], map(x->abs(x[4][4]), apophis.(myplot_tv)), label=\"x[4]\")\n",
    "title!(\"vx\")"
   ]
  },
  {
   "cell_type": "code",
   "execution_count": null,
   "metadata": {},
   "outputs": [],
   "source": [
    "myplot_tv = t[2:10:end]\n",
    "plot( myplot_tv.-t[1], map(x->abs(x[5][0]), apophis.(myplot_tv)), yscale=:log10, label=\"x[0]\", leg=false)\n",
    "plot!(myplot_tv.-t[1], map(x->abs(x[5][1]), apophis.(myplot_tv)), label=\"x[1]\")\n",
    "plot!(myplot_tv.-t[1], map(x->abs(x[5][2]), apophis.(myplot_tv)), label=\"x[2]\")\n",
    "plot!(myplot_tv.-t[1], map(x->abs(x[5][3]), apophis.(myplot_tv)), label=\"x[3]\")\n",
    "plot!(myplot_tv.-t[1], map(x->abs(x[5][4]), apophis.(myplot_tv)), label=\"x[4]\")\n",
    "title!(\"vy\")"
   ]
  },
  {
   "cell_type": "code",
   "execution_count": null,
   "metadata": {},
   "outputs": [],
   "source": [
    "myplot_tv = t[2:10:end]\n",
    "plot( myplot_tv.-t[1], map(x->abs(x[6][0]), apophis.(myplot_tv)), yscale=:log10, label=\"x[0]\", leg=false)\n",
    "plot!(myplot_tv.-t[1], map(x->abs(x[6][1]), apophis.(myplot_tv)), label=\"x[1]\")\n",
    "plot!(myplot_tv.-t[1], map(x->abs(x[6][2]), apophis.(myplot_tv)), label=\"x[2]\")\n",
    "plot!(myplot_tv.-t[1], map(x->abs(x[6][3]), apophis.(myplot_tv)), label=\"x[3]\")\n",
    "plot!(myplot_tv.-t[1], map(x->abs(x[6][4]), apophis.(myplot_tv)), label=\"x[4]\")\n",
    "title!(\"vz\")"
   ]
  },
  {
   "cell_type": "code",
   "execution_count": null,
   "metadata": {},
   "outputs": [],
   "source": [
    "dq = set_variables(\"ξ\", order=1, numvars=7)"
   ]
  },
  {
   "cell_type": "code",
   "execution_count": null,
   "metadata": {},
   "outputs": [],
   "source": [
    "tN = load(\"Apophis_jtN7_ord1_5yr.jld\", \"t\")\n",
    "xN = load(\"Apophis_jtN7_ord1_5yr.jld\", \"x\")\n",
    "apophisN = TaylorInterpolant(tN, xN)"
   ]
  },
  {
   "cell_type": "code",
   "execution_count": null,
   "metadata": {},
   "outputs": [],
   "source": [
    "apophisN_et(et) = apophisN( etsecs2julian(et) )[1:6]"
   ]
  },
  {
   "cell_type": "code",
   "execution_count": null,
   "metadata": {},
   "outputs": [],
   "source": [
    "86400*(datetime2julian(DateTime(2008,9,24)) - datetime2julian(DateTime(2000,1,1,12)))"
   ]
  },
  {
   "cell_type": "code",
   "execution_count": null,
   "metadata": {
    "scrolled": true
   },
   "outputs": [],
   "source": [
    "apophisN_et(2.754864e8+86400*100)"
   ]
  },
  {
   "cell_type": "code",
   "execution_count": null,
   "metadata": {},
   "outputs": [],
   "source": [
    "apophisN(t0+100.0)"
   ]
  },
  {
   "cell_type": "code",
   "execution_count": null,
   "metadata": {},
   "outputs": [],
   "source": [
    "dq[end][1][end]"
   ]
  },
  {
   "cell_type": "code",
   "execution_count": null,
   "metadata": {},
   "outputs": [],
   "source": [
    "function (tinterp::TaylorInterpolant{T,U,2})(t::TaylorN{T}) where {T<:Real, U<:Number}\n",
    "    t0 = constant_term(t)\n",
    "    @assert tinterp.t[1] ≤ t0 ≤ tinterp.t[end] \"Evaluation time outside range of interpolation\"\n",
    "    ind = findlast(x->x≤t0, tinterp.t)\n",
    "    if ind == lastindex(tinterp.t)\n",
    "        δt = t-tinterp.t[ind-1]\n",
    "        return tinterp.x[ind-1,:](δt)\n",
    "    elseif tinterp.t[ind] == t0\n",
    "        return tinterp.x[ind,:]\n",
    "    else\n",
    "        δt = t-tinterp.t[ind]\n",
    "        return tinterp.x[ind,:](δt)\n",
    "    end\n",
    "end"
   ]
  },
  {
   "cell_type": "code",
   "execution_count": null,
   "metadata": {},
   "outputs": [],
   "source": [
    "rad_ind_ = 2\n",
    "tdelay, dshift = delay_doppler(\n",
    "    apophis_data[rad_ind_].rcvr,\n",
    "    apophis_data[rad_ind_].utcepoch,\n",
    "    apophis_data[rad_ind_].freq,\n",
    "    niters,\n",
    "    xve = earth_et,\n",
    "    xvs = sun_et,\n",
    "    xva = apophisN_et\n",
    ")"
   ]
  },
  {
   "cell_type": "code",
   "execution_count": null,
   "metadata": {},
   "outputs": [],
   "source": [
    "rad_ind_ = 2\n",
    "tdelay, dshift = delay_doppler(\n",
    "    apophis_data[rad_ind_].rcvr,\n",
    "    apophis_data[rad_ind_].utcepoch,\n",
    "    apophis_data[rad_ind_].freq,\n",
    "    niters,\n",
    "    xve = earth_et,\n",
    "    xvs = sun_et,\n",
    "    xva = apophis_et\n",
    ")"
   ]
  },
  {
   "cell_type": "code",
   "execution_count": null,
   "metadata": {},
   "outputs": [],
   "source": [
    "#get time-delay, Doppler-shift values from integration\n",
    "\n",
    "tdelay_vN = Array{TaylorN{Float64}}(undef, length(apophis_data))\n",
    "dshift_vN = Array{TaylorN{Float64}}(undef, length(apophis_data))\n",
    "\n",
    "for i in eachindex(apophis_data)\n",
    "    tdelay_vN[i], dshift_vN[i] = delay_doppler(\n",
    "        apophis_data[i].rcvr,\n",
    "        apophis_data[i].utcepoch,\n",
    "        apophis_data[i].freq,\n",
    "        niters,\n",
    "        xve = earth_et,\n",
    "        xvs = sun_et,\n",
    "        xva = apophisN_et\n",
    "    )\n",
    "end\n",
    "\n",
    "# observed values and uncertainties\n",
    "tdelay_jpl_obs = [x.delay for x in apophis_data][delay_index]\n",
    "dshift_jpl_obs = [x.doppler for x in apophis_data][doppler_index]\n",
    "\n",
    "tdelay_jpl_obs_sigma = [x.delay_sigma for x in apophis_data][delay_index]\n",
    "dshift_jpl_obs_sigma = [x.doppler_sigma for x in apophis_data][doppler_index];\n",
    "\n",
    "#Observed minus computed (O-C) residuals: TaylorIntegration.jl\n",
    "\n",
    "#absolute\n",
    "residual_tdN = tdelay_jpl_obs - (tdelay_vN[delay_index])  # (usec)\n",
    "residual_dsN = dshift_jpl_obs - (dshift_vN[doppler_index]) # (Hz)\n",
    "\n",
    "#relative\n",
    "rel_res_tdN = residual_tdN ./ tdelay_jpl_obs # (usec)\n",
    "rel_res_dsN = residual_dsN ./ dshift_jpl_obs # (Hz)\n",
    ";"
   ]
  },
  {
   "cell_type": "code",
   "execution_count": null,
   "metadata": {},
   "outputs": [],
   "source": [
    "residual_tdN"
   ]
  },
  {
   "cell_type": "markdown",
   "metadata": {},
   "source": [
    "## Propagation up to 2021/2038"
   ]
  },
  {
   "cell_type": "code",
   "execution_count": null,
   "metadata": {},
   "outputs": [],
   "source": [
    "tve_2029 = range(\n",
    "    datetime2julian(DateTime(2029,4,13,21,46)), \n",
    "    datetime2julian(DateTime(2029,4,13,21,47)), \n",
    "    length=3600\n",
    ")"
   ]
  },
  {
   "cell_type": "code",
   "execution_count": null,
   "metadata": {},
   "outputs": [],
   "source": [
    "A2_lsqfit_del"
   ]
  },
  {
   "cell_type": "code",
   "execution_count": null,
   "metadata": {},
   "outputs": [],
   "source": [
    "apophis_ti_2029 = [apophis(tve_2029[i])[j](A2_lsqfit_del) for i in eachindex(tve_2029), j in 1:6];\n",
    "#apophis_ti_2029 = [apophis(tve_2029[i])[j](-5.592839897872) for i in eachindex(tve_2029), j in 1:6];\n",
    "earth_ti_2029 = [ss16asteph(tve_2029[i])[j] for i in eachindex(tve_2029), j in union(3*4-2:3*4,3*(27+4)-2:3*(27+4))];\n",
    "x_ae_ti_2029 = apophis_ti_2029 .- earth_ti_2029"
   ]
  },
  {
   "cell_type": "code",
   "execution_count": null,
   "metadata": {},
   "outputs": [],
   "source": [
    "r_ae_ti_2029 = r.(x_ae_ti_2029[:,1], x_ae_ti_2029[:,2], x_ae_ti_2029[:,3])\n",
    "vr_ae_ti_2029 = vr.( x_ae_ti_2029[:,1], \n",
    "    x_ae_ti_2029[:,2], \n",
    "    x_ae_ti_2029[:,3], \n",
    "    x_ae_ti_2029[:,4], \n",
    "    x_ae_ti_2029[:,5], \n",
    "    x_ae_ti_2029[:,6] )"
   ]
  },
  {
   "cell_type": "code",
   "execution_count": null,
   "metadata": {},
   "outputs": [],
   "source": [
    "ind_ca2029 = findfirst(x->x>0, vr_ae_ti_2029)"
   ]
  },
  {
   "cell_type": "code",
   "execution_count": null,
   "metadata": {},
   "outputs": [],
   "source": [
    "vr_ae_ti_2029[ind_ca2029-1:ind_ca2029]"
   ]
  },
  {
   "cell_type": "code",
   "execution_count": null,
   "metadata": {},
   "outputs": [],
   "source": [
    "r_ae_ti_2029[ind_ca2029], r_ae_ti_2029[ind_ca2029]*au"
   ]
  },
  {
   "cell_type": "code",
   "execution_count": null,
   "metadata": {},
   "outputs": [],
   "source": [
    "0.0002521763836177017"
   ]
  },
  {
   "cell_type": "code",
   "execution_count": null,
   "metadata": {},
   "outputs": [],
   "source": [
    "1000(0.0002521763836177017-0.000252172816142565)*au"
   ]
  },
  {
   "cell_type": "code",
   "execution_count": null,
   "metadata": {},
   "outputs": [],
   "source": [
    "1000(r_ae_ti_2029[ind_ca2029]-0.000252172816142565)*au"
   ]
  },
  {
   "cell_type": "code",
   "execution_count": null,
   "metadata": {},
   "outputs": [],
   "source": [
    "#JPL 2029 time of closest approach prediction (accurate to within a second)\n",
    "Dates.julian2datetime( 2462240.40703 )"
   ]
  },
  {
   "cell_type": "code",
   "execution_count": null,
   "metadata": {},
   "outputs": [],
   "source": [
    "Dates.julian2datetime( 2462240.407025 ), Dates.julian2datetime( 2462240.407034 )"
   ]
  },
  {
   "cell_type": "code",
   "execution_count": null,
   "metadata": {},
   "outputs": [],
   "source": [
    "julian2datetime(tve_2029[ind_ca2029])"
   ]
  },
  {
   "cell_type": "code",
   "execution_count": null,
   "metadata": {},
   "outputs": [],
   "source": [
    "julian2datetime(tve_2029[ind_ca2029-1])"
   ]
  },
  {
   "cell_type": "code",
   "execution_count": null,
   "metadata": {},
   "outputs": [],
   "source": [
    "julian2datetime( (tve_2029[ind_ca2029-1]+tve_2029[ind_ca2029])/2 )"
   ]
  },
  {
   "cell_type": "markdown",
   "metadata": {},
   "source": [
    "#recover integration from .jld file\n",
    "\n",
    "#using JLD\n",
    "\n",
    "vars = [\"tv1\", \"xv1\", \"tvS1\", \"xvS1\", \"gvS1\"] #names of variables\n",
    "vars_2038 = [\"tv1_2038\", \"xv1_2038\", \"tvS1_2038\", \"xvS1_2038\", \"gvS1_2038\"] #names of variables\n",
    "filename_2038 = string(\"Apophis_2038_jt.jld\")\n",
    "for i in eachindex(vars)\n",
    "    ex_2038 = Symbol(vars_2038[i])\n",
    "    @eval $ex_2038 = load($filename_2038, vars[$i])\n",
    "end"
   ]
  },
  {
   "cell_type": "markdown",
   "metadata": {},
   "source": [
    "tv1_2038"
   ]
  },
  {
   "cell_type": "markdown",
   "metadata": {},
   "source": [
    "apophis_TI_diff = xv1_2038[:, Apophis.apophisdofs](A2_lsqfit_deldop)-xv1_2038[:, Apophis.apophisdofs]();\n",
    "\n",
    "ae_TI_0 = xv1_2038[:, Apophis.apophisdofs]()-xv1_2038[:, Apophis.earthdofs]()\n",
    "d_Ap_Ea_0 = sqrt.(ae_TI_0[:,1].^2 + ae_TI_0[:,2].^2 + ae_TI_0[:,3].^2)\n",
    "\n",
    "ae_TI_A2 = xv1_2038[:, Apophis.apophisdofs](A2_lsqfit_deldop)-xv1_2038[:, Apophis.earthdofs]()\n",
    "d_Ap_Ea_A2 = sqrt.(ae_TI_A2[:,1].^2 + ae_TI_A2[:,2].^2 + ae_TI_A2[:,3].^2)\n",
    ";"
   ]
  },
  {
   "cell_type": "markdown",
   "metadata": {},
   "source": [
    "gr()"
   ]
  },
  {
   "cell_type": "markdown",
   "metadata": {},
   "source": [
    "_2021_approach = 3200:3263\n",
    "plot(tv1_2038[_2021_approach].-tv1_2038[3200], (d_Ap_Ea_A2-d_Ap_Ea_0)[_2021_approach].*au)"
   ]
  },
  {
   "cell_type": "markdown",
   "metadata": {},
   "source": [
    "findfirst(x->x>datetime2julian(DateTime(2021,1,1)), tv1_2038)"
   ]
  },
  {
   "cell_type": "markdown",
   "metadata": {},
   "source": [
    "findlast(x->x<datetime2julian(DateTime(2021,4,1)), tv1_2038)"
   ]
  },
  {
   "cell_type": "code",
   "execution_count": null,
   "metadata": {},
   "outputs": [],
   "source": []
  },
  {
   "cell_type": "markdown",
   "metadata": {},
   "source": [
    "## Observations predictions 2021/2029"
   ]
  },
  {
   "cell_type": "code",
   "execution_count": null,
   "metadata": {},
   "outputs": [],
   "source": []
  },
  {
   "cell_type": "code",
   "execution_count": null,
   "metadata": {},
   "outputs": [],
   "source": [
    "apophis_data[end].rcvr"
   ]
  },
  {
   "cell_type": "code",
   "execution_count": null,
   "metadata": {},
   "outputs": [],
   "source": [
    "typeof(ans)"
   ]
  },
  {
   "cell_type": "code",
   "execution_count": null,
   "metadata": {},
   "outputs": [],
   "source": [
    "?delay_doppler"
   ]
  },
  {
   "cell_type": "code",
   "execution_count": null,
   "metadata": {},
   "outputs": [],
   "source": [
    "tdelay_2021, dshift_2021 = delay_doppler(\n",
    "    apophis_data[end].rcvr,\n",
    "    DateTime(2021,1,1),\n",
    "    apophis_data[end].freq,\n",
    "    niters,\n",
    "    false\n",
    ")"
   ]
  },
  {
   "cell_type": "code",
   "execution_count": null,
   "metadata": {},
   "outputs": [],
   "source": [
    "import EarthOrientation"
   ]
  },
  {
   "cell_type": "code",
   "execution_count": null,
   "metadata": {
    "scrolled": true
   },
   "outputs": [],
   "source": [
    "EarthOrientation.update()"
   ]
  },
  {
   "cell_type": "markdown",
   "metadata": {},
   "source": [
    "## Plots for paper"
   ]
  },
  {
   "cell_type": "code",
   "execution_count": null,
   "metadata": {
    "scrolled": true
   },
   "outputs": [],
   "source": [
    "#gr()"
   ]
  },
  {
   "cell_type": "code",
   "execution_count": null,
   "metadata": {},
   "outputs": [],
   "source": [
    "pgfplots(grid=:false, framestyle=:box)\n",
    "font_size = 14"
   ]
  },
  {
   "cell_type": "code",
   "execution_count": null,
   "metadata": {
    "scrolled": false
   },
   "outputs": [],
   "source": [
    "A2_plot = 0.0\n",
    "scatter(\n",
    "    tv_jpl_utc_jul[delay_index].-t0, tdelay_v1[delay_index](A2_plot),\n",
    "    label=\"predicted (\\$A_2 = $A2_plot \\\\times 10^{-14} \\$ au/d\\$^2\\$)\",\n",
    "    marker=:cross,\n",
    "    markersize=7,\n",
    ")\n",
    "#scatter!(\n",
    "#    tv_jpl_utc_jul[delay_index].-t0,\n",
    "#    tdelay_JPL_v1[delay_index],\n",
    "#    label=\"predicted (JPL DE430+s199)\",\n",
    "#    marker=:xcross\n",
    "#)\n",
    "scatter!(\n",
    "    tv_jpl_utc_jul[delay_index].-t0,\n",
    "    tdelay_jpl_obs,\n",
    "    label=\"observed (Brozovic et al., 2018)\",\n",
    "    legend=:topleft,\n",
    "    marker=:xcross,\n",
    "    markersize=7,\n",
    "    yerror=dshift_jpl_obs_sigma,\n",
    "    tickfont=font(font_size),\n",
    "    guidefont=font(font_size),\n",
    "    legendfont = font(font_size-4),\n",
    "    xticks = (1540:30:1640, ()),\n",
    "    annotations=( 1640, 2.6e8, \"(a)\")\n",
    ")\n",
    "#title!(\"Time delay vs time\")\n",
    "ylabel!(\"Time delay [\\$\\\\mu\\$s]\")\n",
    "#xlims!(1540, 1645)\n",
    "#xticks!(1540:20:1640, string.(Date.(julian2datetime.(t0 .+ collect(1540:20:1640)))))\n",
    "xlims!(1540, 1645)\n",
    "ylims!(7.5e7,2.75e8)\n",
    "#xticks!(1540:30:1640, string.(Date.(julian2datetime.(t0 .+ collect(1540:30:1640)))))\n",
    "#xlabel!(\"Time\")"
   ]
  },
  {
   "cell_type": "code",
   "execution_count": null,
   "metadata": {
    "scrolled": false
   },
   "outputs": [],
   "source": [
    "A2_plot = 0.0\n",
    "scatter(\n",
    "    tv_jpl_utc_jul[doppler_index].-t0, dshift_v1[doppler_index](A2_plot),\n",
    "    label=\"predicted (\\$A_2 = $A2_plot \\\\times 10^{-14} \\$ au/d\\$^2\\$)\",\n",
    "    marker=:cross,\n",
    "    markersize=7,\n",
    "    tickfont=font(font_size),\n",
    "    guidefont=font(font_size),\n",
    "    legendfont = font(font_size-4)\n",
    ")\n",
    "#scatter!(\n",
    "#    tv_jpl_utc_jul[doppler_index].-t0,\n",
    "#    dshift_JPL_v1[doppler_index],\n",
    "#    label=\"predicted (JPL DE430+s199)\",\n",
    "#    marker=:xcross\n",
    "#)\n",
    "scatter!(\n",
    "    tv_jpl_utc_jul[doppler_index].-t0,\n",
    "    dshift_jpl_obs,\n",
    "    label=\"observed (Brozovic et al., 2018)\",\n",
    "    legend=:bottomleft,\n",
    "    marker=:xcross,\n",
    "    markersize=7,\n",
    "    yerror=dshift_jpl_obs_sigma,\n",
    "    annotations=( 1640, 50000, \"(b)\")\n",
    ")\n",
    "title!(\"Doppler shift vs time\")\n",
    "ylabel!(\"Doppler shift [Hz]\")\n",
    "xlims!(1540, 1645)\n",
    "xticks!(1540:30:1640, string.(Date.(julian2datetime.(t0 .+ collect(1540:30:1640)))))\n",
    "xlabel!(\"Time\")"
   ]
  },
  {
   "cell_type": "markdown",
   "metadata": {},
   "source": [
    "## Plots for DDA poster"
   ]
  },
  {
   "cell_type": "code",
   "execution_count": null,
   "metadata": {},
   "outputs": [],
   "source": [
    "pgfplots(grid=:false, framestyle=:box)"
   ]
  },
  {
   "cell_type": "code",
   "execution_count": null,
   "metadata": {},
   "outputs": [],
   "source": [
    "font_size = 14"
   ]
  },
  {
   "cell_type": "code",
   "execution_count": null,
   "metadata": {
    "scrolled": false
   },
   "outputs": [],
   "source": [
    "A2_plot = -5.74846133680956 # A2_lsqfit_deldop\n",
    "A2_label_str = @sprintf \"\\$A_2^* = -5.74 \\\\times 10^{-14} \\$ au/d\\$^2\\$\"\n",
    "plot(\n",
    "    tv_jpl_utc_jul[delay_index].-t0,\n",
    "    residual_td(), yerror = tdelay_jpl_obs_sigma,\n",
    "    marker=:cross,\n",
    "    label = \"\\$A_2 = 0\\$ au/d\\$^2\\$\",\n",
    "    legend = :topright,\n",
    "    tickfont=font(font_size),\n",
    "    guidefont=font(font_size),\n",
    "    legendfont = font(font_size-4),\n",
    "    xticks = (1540:30:1640, ()),\n",
    "    annotations=( 1555, 300, \"(a)\")\n",
    ")\n",
    "for i in 1:4\n",
    "    a2_lbl_str_i = \"\\$A_2 = -$i \\\\times 10^{-14}\\$ au/d\\$^2\\$\"\n",
    "    plot!(\n",
    "    tv_jpl_utc_jul[delay_index].-t0,\n",
    "    residual_td(-i), yerror = tdelay_jpl_obs_sigma,\n",
    "    marker=:cross,\n",
    "    label = a2_lbl_str_i,\n",
    "    legend = :topright\n",
    ")\n",
    "end\n",
    "plot!(\n",
    "    tv_jpl_utc_jul[delay_index].-t0,\n",
    "    residual_td(A2_plot), yerror = tdelay_jpl_obs_sigma,\n",
    "    marker=:cross,\n",
    "    label = A2_label_str,\n",
    "    legend = :topright\n",
    ")\n",
    "plot!(\n",
    "    tv_jpl_utc_jul[delay_index].-t0,\n",
    "    residual_td(-7), yerror = tdelay_jpl_obs_sigma,\n",
    "    marker=:cross,\n",
    "    label = \"\\$A_2 = -7 \\\\times 10^{-14} \\$ au/d\\$^2\\$\",\n",
    "    legend = :topright\n",
    ")\n",
    "ylabel!(\"Time delay O-C residual \\$ [\\\\mu\\\\mathrm{s}] \\$\")\n",
    "xlims!(1540, 1645)\n",
    "#ylims!(-5,4)\n",
    "ylims!(-250,350)\n",
    "#xticks!(1540:30:1640, string.(Date.(julian2datetime.(t0 .+ collect(1540:30:1640)))))\n",
    "#xlabel!(\"Calendar date\")\n",
    "#savefig(\"delay_residuals_A2.pdf\")"
   ]
  },
  {
   "cell_type": "code",
   "execution_count": null,
   "metadata": {
    "scrolled": false
   },
   "outputs": [],
   "source": [
    "A2_plot = -5.74846133680956 # A2_lsqfit_deldop\n",
    "A2_label_str = @sprintf \"\\$A_2^* = -5.74846 \\\\times 10^{-14} \\$ au/d\\$^2\\$\"\n",
    "plot(\n",
    "    tv_jpl_utc_jul[doppler_index].-t0,\n",
    "    residual_ds(), yerror = dshift_jpl_obs_sigma,\n",
    "    marker=:cross,\n",
    "    label = \"\\$A_2 = 0\\$ au/d\\$^2\\$\",\n",
    "    legend = :bottomright,\n",
    "    tickfont=font(font_size),\n",
    "    guidefont=font(font_size),\n",
    "    legendfont = font(font_size-4),\n",
    "    annotations=( 1555, 0.95, \"(b)\")\n",
    ")\n",
    "for i in 3:3\n",
    "    a2_lbl_str_i = \"\\$A_2 = -$i \\\\times 10^{-14} \\$ au/d\\$^2\\$\"\n",
    "    plot!(\n",
    "    tv_jpl_utc_jul[doppler_index].-t0,\n",
    "    residual_ds(-i), yerror = dshift_jpl_obs_sigma,\n",
    "    marker=:cross,\n",
    "    label = a2_lbl_str_i,\n",
    "    #legend = :topright,\n",
    "    color=3+1\n",
    ")\n",
    "end\n",
    "plot!(\n",
    "    tv_jpl_utc_jul[doppler_index].-t0,\n",
    "    residual_ds(A2_plot), yerror = dshift_jpl_obs_sigma,\n",
    "    marker=:cross,\n",
    "    label = A2_label_str,\n",
    "    #legend = :topright,\n",
    "    color=6\n",
    ")\n",
    "plot!(\n",
    "    tv_jpl_utc_jul[doppler_index].-t0,\n",
    "    residual_ds(-8), yerror = dshift_jpl_obs_sigma,\n",
    "    marker=:cross,\n",
    "    label = \"\\$A_2 = -7 \\\\times 10^{-14} \\$ au/d\\$^2\\$\",\n",
    "    #legend = :topright,\n",
    "    color=7\n",
    ")\n",
    "ylabel!(\"Doppler shift O-C residual \\$ [\\\\mathrm{Hz}] \\$\")\n",
    "xlims!(1540, 1645)\n",
    "#ylims!(-5,4)\n",
    "#ylims!(-250,350)\n",
    "xticks!(1540:30:1640, string.(Date.(julian2datetime.(t0 .+ collect(1540:30:1640)))))\n",
    "xlabel!(\"Calendar date\")\n",
    "#savefig(\"doppler_residuals_A2.pdf\")"
   ]
  },
  {
   "cell_type": "code",
   "execution_count": null,
   "metadata": {},
   "outputs": [],
   "source": [
    "plot(\n",
    "    A2_vals,\n",
    "    Q_A2_deldop.(A2_vals),\n",
    "    leg=false,\n",
    "    tickfont=font(font_size),\n",
    "    guidefont=font(font_size),\n",
    "    legendfont = font(font_size-4)\n",
    ")\n",
    "xlabel!(\"\\$A_2 \\\\times 10^{14} \\$ [au/d\\$^2]\\$\")\n",
    "ylabel!(\"\\$Q(A_2)\\$\")\n",
    "#title!(\"Mean square residual vs A2\")\n",
    "ylims!(-1, 11)\n",
    "xlims!(-5.9, -5.5)\n",
    "#savefig(\"Q_vs_A2.pdf\")"
   ]
  },
  {
   "cell_type": "code",
   "execution_count": null,
   "metadata": {},
   "outputs": [],
   "source": []
  },
  {
   "cell_type": "code",
   "execution_count": null,
   "metadata": {},
   "outputs": [],
   "source": []
  }
 ],
 "metadata": {
  "@webio": {
   "lastCommId": null,
   "lastKernelId": null
  },
  "kernelspec": {
   "display_name": "Julia 1.1.1",
   "language": "julia",
   "name": "julia-1.1"
  },
  "language_info": {
   "file_extension": ".jl",
   "mimetype": "application/julia",
   "name": "julia",
   "version": "1.1.1"
  }
 },
 "nbformat": 4,
 "nbformat_minor": 2
}
