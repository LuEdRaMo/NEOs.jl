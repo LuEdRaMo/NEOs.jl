{
 "cells": [
  {
   "cell_type": "code",
   "execution_count": null,
   "metadata": {},
   "outputs": [],
   "source": [
    "versioninfo()"
   ]
  },
  {
   "cell_type": "code",
   "execution_count": null,
   "metadata": {},
   "outputs": [],
   "source": [
    "Threads.nthreads()"
   ]
  },
  {
   "cell_type": "markdown",
   "metadata": {},
   "source": [
    "Print path of current directory:"
   ]
  },
  {
   "cell_type": "code",
   "execution_count": null,
   "metadata": {
    "scrolled": true
   },
   "outputs": [],
   "source": [
    ";pwd"
   ]
  },
  {
   "cell_type": "markdown",
   "metadata": {},
   "source": [
    "Check that `Apophis.jl` env is correctly loaded:"
   ]
  },
  {
   "cell_type": "code",
   "execution_count": null,
   "metadata": {
    "scrolled": true
   },
   "outputs": [],
   "source": [
    "]st"
   ]
  },
  {
   "cell_type": "code",
   "execution_count": null,
   "metadata": {
    "scrolled": true
   },
   "outputs": [],
   "source": [
    "using Revise"
   ]
  },
  {
   "cell_type": "code",
   "execution_count": null,
   "metadata": {
    "scrolled": true
   },
   "outputs": [],
   "source": [
    "using PlanetaryEphemeris #: yr, au, c_au_per_day # these variables are already exported"
   ]
  },
  {
   "cell_type": "code",
   "execution_count": null,
   "metadata": {
    "scrolled": true
   },
   "outputs": [],
   "source": [
    "using Apophis"
   ]
  },
  {
   "cell_type": "code",
   "execution_count": null,
   "metadata": {},
   "outputs": [],
   "source": [
    "using TaylorIntegration"
   ]
  },
  {
   "cell_type": "code",
   "execution_count": null,
   "metadata": {
    "scrolled": true
   },
   "outputs": [],
   "source": [
    "methods(TaylorIntegration.jetcoeffs!)"
   ]
  },
  {
   "cell_type": "code",
   "execution_count": null,
   "metadata": {},
   "outputs": [],
   "source": [
    "using Plots, DelimitedFiles, Dates\n",
    "using Statistics: mean, std\n",
    "using Printf"
   ]
  },
  {
   "cell_type": "code",
   "execution_count": null,
   "metadata": {},
   "outputs": [],
   "source": [
    "using SPICE"
   ]
  },
  {
   "cell_type": "markdown",
   "metadata": {},
   "source": [
    "Load Sun, 8 planets, Moon, Pluto and 16 asteroid ephemeris, previously integrated with TaylorIntegration.jl"
   ]
  },
  {
   "cell_type": "code",
   "execution_count": null,
   "metadata": {},
   "outputs": [],
   "source": [
    "using JLD\n",
    "using Statistics: mean, std"
   ]
  },
  {
   "cell_type": "markdown",
   "metadata": {},
   "source": [
    "Apophis orbit propagation setup:"
   ]
  },
  {
   "cell_type": "code",
   "execution_count": null,
   "metadata": {},
   "outputs": [],
   "source": [
    "@show Threads.nthreads()\n",
    "\n",
    "#script parameters (TODO: use ArgParse.jl instead)\n",
    "const varorder = 10 # varorder is the order corresponding to the jet transport perturbation\n",
    "const nv = 7 #number of TaylorN variables\n",
    "const objname = \"Apophis\"\n",
    "const maxsteps = 10000\n",
    "const nyears = 5.0 #-5.0 #24.0\n",
    "const dense = true #false\n",
    "const apophisjlpath = dirname(pathof(Apophis))\n",
    "const radarobsfile = joinpath(apophisjlpath, \"../Apophis_JPL_data_2012_2013.dat\")\n",
    "# const radarobsfile = joinpath(apophisjlpath, \"../Apophis_JPL_data_2005_2006.dat\")\n",
    "const dynamics = RNp1BP_pN_A_J23E_J2S_ng_eph_threads!\n",
    "const jd0 = datetime2julian(DateTime(2008,9,24,0,0,0)) #starting time of integration\n",
    "@show jd0 == 2454733.5\n",
    "et0 = (jd0 .- J2000)*daysec\n",
    "const t0 = 0.0\n",
    "@show t0 == 0.0\n",
    "\n",
    "## path to local Solar System ephemeris file\n",
    "#ephfile = joinpath(apophisjlpath, \"../jpleph\", fnamesseph)\n",
    "\n",
    "# dq: perturbation to nominal initial condition (Taylor1 jet transport)\n",
    "dq = Taylor1.(zeros(7), varorder)\n",
    "dq[end][1] = 1e-14\n",
    "\n",
    "# # dq: perturbation to nominal initial condition (TaylorN jet transport)\n",
    "# dq = set_variables(\"ξ\", order=varorder, numvars=nv)\n",
    "# for i in 1:6\n",
    "#     dq[i][1][i] = 1e-8\n",
    "# end\n",
    "# if get_numvars() == 7\n",
    "#     dq[7][1][7] = 1e-14\n",
    "# end\n",
    ";"
   ]
  },
  {
   "cell_type": "markdown",
   "metadata": {},
   "source": [
    "Load planetary ephemeris:"
   ]
  },
  {
   "cell_type": "code",
   "execution_count": null,
   "metadata": {},
   "outputs": [],
   "source": [
    "fnamesseph = joinpath(Apophis.jldephpath, \"sseph343ast_p21y_et.jld\")\n",
    "\n",
    "# load ephemeris\n",
    "ss16asteph_et = JLD.load(fnamesseph, \"ss16ast_eph\")\n",
    "# Number of bodies\n",
    "Nm1 = size(ss16asteph_et.x)[2] ÷ 6 # number of massive bodies\n",
    "@show Nm1\n",
    "N = Nm1 + 1 # number of bodies, including NEA\n",
    "# vector of G*m values\n",
    "μ_ast = Apophis.μ_ast343_DE430[1:end]\n",
    "μ = vcat(Apophis.μ_DE430[1:11], μ_ast[1:Nm1-11], zero(Apophis.μ_DE430[1]))\n",
    "\n",
    "# check: number of SS bodies (N) in ephemeris must be equal to length of GM vector (μ)\n",
    "@assert N == length(μ) \"Total number of bodies in ephemeris must be equal to length of GM vector μ\"\n",
    "\n",
    "# process ephemeris (switch from km,km/s units to au,au/day)\n",
    "# compute Newtonian accelerations and potentials (used in post-Newtonian accelerations)\n",
    "ss16asteph_auday, acc_eph, newtonianNb_Potential = Apophis.loadeph(ss16asteph_et, μ);"
   ]
  },
  {
   "cell_type": "code",
   "execution_count": null,
   "metadata": {},
   "outputs": [],
   "source": []
  },
  {
   "cell_type": "code",
   "execution_count": null,
   "metadata": {},
   "outputs": [],
   "source": [
    "# interaction matrix with flattened bodies\n",
    "UJ_interaction = fill(false, N)\n",
    "# UJ_interaction[su] = true\n",
    "UJ_interaction[ea] = true\n",
    "# UJ_interaction[mo] = true\n",
    "params = (ss16asteph_auday, acc_eph, newtonianNb_Potential, jd0, UJ_interaction, N, μ)\n",
    "\n",
    "# get asteroid initial conditions\n",
    "q0 = Apophis.initialcond(dq)\n",
    "\n",
    "@show tmax = t0+nyears*yr #final time of integration\n",
    ";"
   ]
  },
  {
   "cell_type": "code",
   "execution_count": null,
   "metadata": {},
   "outputs": [],
   "source": [
    "q0_old = q0\n",
    "q0 = vcat(Apophis.x0_JPL_s199, 0.0) .+ dq"
   ]
  },
  {
   "cell_type": "code",
   "execution_count": null,
   "metadata": {},
   "outputs": [],
   "source": [
    "# warmup\n",
    "@time apophis_warmup = Apophis.apophisinteg(dynamics, q0, t0, tmax, Apophis.order, Apophis.abstol, params; maxsteps=5, dense=dense);"
   ]
  },
  {
   "cell_type": "code",
   "execution_count": null,
   "metadata": {},
   "outputs": [],
   "source": [
    "#2nd warmup\n",
    "@time apophis_warmup = Apophis.apophisinteg(dynamics, q0, t0, tmax, Apophis.order, Apophis.abstol, params; maxsteps=5, dense=dense);"
   ]
  },
  {
   "cell_type": "code",
   "execution_count": null,
   "metadata": {},
   "outputs": [],
   "source": []
  },
  {
   "cell_type": "code",
   "execution_count": null,
   "metadata": {},
   "outputs": [],
   "source": [
    "@time interp = Apophis.apophisinteg(dynamics, q0, t0, tmax, Apophis.order, Apophis.abstol, params; maxsteps=maxsteps, dense=dense);\n",
    "apophis_t0 = (jd0-J2000) # days since J2000 until initial integration time\n",
    "apophis_t = interp.t[:]\n",
    "apophis_x = interp.x[:,:]\n",
    "apophis = TaylorInterpolant(apophis_t0, apophis_t, apophis_x);"
   ]
  },
  {
   "cell_type": "code",
   "execution_count": null,
   "metadata": {},
   "outputs": [],
   "source": [
    "julian2datetime(jd0 + apophis.t[end])"
   ]
  },
  {
   "cell_type": "code",
   "execution_count": null,
   "metadata": {},
   "outputs": [],
   "source": [
    "apophis.t[1]"
   ]
  },
  {
   "cell_type": "code",
   "execution_count": null,
   "metadata": {},
   "outputs": [],
   "source": [
    "apophis.t0"
   ]
  },
  {
   "cell_type": "code",
   "execution_count": null,
   "metadata": {},
   "outputs": [],
   "source": [
    "apophis.t[1:5]"
   ]
  },
  {
   "cell_type": "code",
   "execution_count": null,
   "metadata": {},
   "outputs": [],
   "source": [
    "ss16asteph_et.t[1:5]"
   ]
  },
  {
   "cell_type": "code",
   "execution_count": null,
   "metadata": {},
   "outputs": [],
   "source": [
    "apophis_et(et) = Apophis.auday2kmsec(apophis(et/daysec)[1:6])\n",
    "earth_et(et) = Apophis.auday2kmsec(ss16asteph_et(et)[union(3*4-2:3*4,3*(Nm1+4)-2:3*(Nm1+4))])\n",
    "sun_et(et) = Apophis.auday2kmsec(ss16asteph_et(et)[union(3*1-2:3*1,3*(Nm1+1)-2:3*(Nm1+1))])\n",
    "\n",
    "apophis_et_A2JPL(et) = apophis_et(et)(A2_JPL)\n",
    "apophis_et_0(et) = apophis_et(et)()"
   ]
  },
  {
   "cell_type": "code",
   "execution_count": null,
   "metadata": {},
   "outputs": [],
   "source": [
    "sun_et(et0)"
   ]
  },
  {
   "cell_type": "code",
   "execution_count": null,
   "metadata": {},
   "outputs": [],
   "source": [
    "earth_et(et0)"
   ]
  },
  {
   "cell_type": "code",
   "execution_count": null,
   "metadata": {},
   "outputs": [],
   "source": [
    "apophis_et(et0)"
   ]
  },
  {
   "cell_type": "code",
   "execution_count": null,
   "metadata": {},
   "outputs": [],
   "source": [
    "apophis(apophis.t0)"
   ]
  },
  {
   "cell_type": "code",
   "execution_count": null,
   "metadata": {},
   "outputs": [],
   "source": [
    "apophis(apophis.t0+4yr)"
   ]
  },
  {
   "cell_type": "code",
   "execution_count": null,
   "metadata": {},
   "outputs": [],
   "source": [
    "apophis(apophis.t0+5yr)"
   ]
  },
  {
   "cell_type": "markdown",
   "metadata": {},
   "source": [
    "Load Apophis radar astrometry, downloaded from JPL's radar astrometry website: https://ssd.jpl.nasa.gov/?radar"
   ]
  },
  {
   "cell_type": "code",
   "execution_count": null,
   "metadata": {
    "scrolled": true
   },
   "outputs": [],
   "source": [
    "apophis_radar_data_2005_2013 = process_radar_data_jpl(\"../data/Apophis_JPL_data.dat\");"
   ]
  },
  {
   "cell_type": "markdown",
   "metadata": {},
   "source": [
    "Construct vector of observation times in UTC and TDB:"
   ]
  },
  {
   "cell_type": "code",
   "execution_count": null,
   "metadata": {},
   "outputs": [],
   "source": [
    "Apophis.loadjpleph()"
   ]
  },
  {
   "cell_type": "code",
   "execution_count": null,
   "metadata": {},
   "outputs": [],
   "source": [
    "#construct vector of observation times (UTC)\n",
    "tv_jpl_utc = [x.utcepoch for x in apophis_radar_data_2005_2013]\n",
    "# convert to TDB\n",
    "tv_jpl_tdb = str2et.(string.(tv_jpl_utc))\n",
    "# date/time to Julian date\n",
    "tv_jpl_tdb_julian =  J2000 .+ tv_jpl_tdb./daysec\n",
    "# construct time range variable with t0 and observation times > t0, removing repeated values\n",
    "tv = union(jd0, tv_jpl_tdb_julian[tv_jpl_tdb_julian .> jd0])\n",
    "@show all(diff(tv) .> 0)"
   ]
  },
  {
   "cell_type": "markdown",
   "metadata": {},
   "source": [
    "Take only observations from 2012-2013:"
   ]
  },
  {
   "cell_type": "code",
   "execution_count": null,
   "metadata": {},
   "outputs": [],
   "source": [
    "apophis_data = apophis_radar_data_2005_2013[6:end]; #take only the 2012-2013 subset"
   ]
  },
  {
   "cell_type": "markdown",
   "metadata": {},
   "source": [
    "Check that each receiver and transmitter antennas are the same (i.e., monostatic mode):"
   ]
  },
  {
   "cell_type": "code",
   "execution_count": null,
   "metadata": {},
   "outputs": [],
   "source": [
    "@show all( ismonostatic.(apophis_data) )"
   ]
  },
  {
   "cell_type": "markdown",
   "metadata": {},
   "source": [
    "Get the station (observatories) codes:"
   ]
  },
  {
   "cell_type": "code",
   "execution_count": null,
   "metadata": {},
   "outputs": [],
   "source": [
    "#then, get the station codes\n",
    "station_codes = [x.rcvr for x in apophis_data];"
   ]
  },
  {
   "cell_type": "markdown",
   "metadata": {},
   "source": [
    "Get transmission frequencies (MHz):"
   ]
  },
  {
   "cell_type": "code",
   "execution_count": null,
   "metadata": {},
   "outputs": [],
   "source": [
    "#extract transmitter frequencies (MHz)\n",
    "transmitter_freq_MHz = [x.freq for x in apophis_data];"
   ]
  },
  {
   "cell_type": "markdown",
   "metadata": {},
   "source": [
    "Get UTC receive times:"
   ]
  },
  {
   "cell_type": "code",
   "execution_count": null,
   "metadata": {},
   "outputs": [],
   "source": [
    "# get UTC receive times\n",
    "tv_jpl_utc_jul = [datetime2julian(x.utcepoch) for x in apophis_data];"
   ]
  },
  {
   "cell_type": "markdown",
   "metadata": {},
   "source": [
    "Get indices of delay and Doppler observations in `apophis_data`:"
   ]
  },
  {
   "cell_type": "code",
   "execution_count": null,
   "metadata": {},
   "outputs": [],
   "source": [
    "delay_index = findall(x->x.delay_units==\"us\", apophis_data)\n",
    "doppler_index = findall(x->x.doppler_units==\"Hz\", apophis_data);"
   ]
  },
  {
   "cell_type": "markdown",
   "metadata": {},
   "source": [
    "# Delay/Doppler observations reduction"
   ]
  },
  {
   "cell_type": "code",
   "execution_count": null,
   "metadata": {},
   "outputs": [],
   "source": [
    "A2_JPL = -5.592839897872\n",
    "#A2_JPL = 0.0"
   ]
  },
  {
   "cell_type": "code",
   "execution_count": null,
   "metadata": {},
   "outputs": [],
   "source": [
    "tdelay_jpl_obs = [x.delay for x in apophis_data][delay_index]\n",
    "dshift_jpl_obs = [x.doppler for x in apophis_data][doppler_index]\n",
    "\n",
    "tdelay_jpl_obs_sigma = [x.delay_sigma for x in apophis_data][delay_index]\n",
    "dshift_jpl_obs_sigma = [x.doppler_sigma for x in apophis_data][doppler_index];"
   ]
  },
  {
   "cell_type": "code",
   "execution_count": null,
   "metadata": {},
   "outputs": [],
   "source": [
    "tc = 1.0 #90.0 #6.0"
   ]
  },
  {
   "cell_type": "code",
   "execution_count": null,
   "metadata": {},
   "outputs": [],
   "source": [
    "# load JPL ephemeris\n",
    "Apophis.loadjpleph();"
   ]
  },
  {
   "cell_type": "code",
   "execution_count": null,
   "metadata": {},
   "outputs": [],
   "source": [
    "# compute time-delay, Doppler-shift values from JPL ephemerides\n",
    "#tdelay_JPL_v1, dshift_JPL_v1 = delay_doppler(apophis_data, tc=tc, xva=Apophis.apophis_pv_197);\n",
    "tdelay_JPL_v1, dshift_JPL_v1 = delay_doppler(apophis_data, tc=tc, xve=earth_et, xva=Apophis.apophis_pv_199);"
   ]
  },
  {
   "cell_type": "code",
   "execution_count": null,
   "metadata": {},
   "outputs": [],
   "source": [
    "# Observed minus computed (O-C) residuals: JPL DE430+s199\n",
    "\n",
    "# absolute residuals\n",
    "residual_JPL_td = tdelay_jpl_obs - tdelay_JPL_v1 # (usec)\n",
    "residual_JPL_ds = dshift_jpl_obs - dshift_JPL_v1 # (Hz)\n",
    "\n",
    "# relative residuals\n",
    "rel_res_JPL_td = residual_JPL_td ./ tdelay_jpl_obs # (usec)\n",
    "rel_res_JPL_ds = residual_JPL_ds ./ dshift_jpl_obs # (Hz)\n",
    ";"
   ]
  },
  {
   "cell_type": "code",
   "execution_count": null,
   "metadata": {},
   "outputs": [],
   "source": [
    "@which delay_doppler(apophis_data, xve=earth_et, xvs=sun_et, xva=apophis_et, tc=tc)"
   ]
  },
  {
   "cell_type": "code",
   "execution_count": null,
   "metadata": {},
   "outputs": [],
   "source": [
    "tdelay_JPL_v1[1]"
   ]
  },
  {
   "cell_type": "code",
   "execution_count": null,
   "metadata": {},
   "outputs": [],
   "source": [
    "tdelay_v1[1]()"
   ]
  },
  {
   "cell_type": "code",
   "execution_count": null,
   "metadata": {},
   "outputs": [],
   "source": [
    "tdelay_v1[1](-5.535)"
   ]
  },
  {
   "cell_type": "code",
   "execution_count": null,
   "metadata": {},
   "outputs": [],
   "source": [
    "tdelay_jpl_obs[1]"
   ]
  },
  {
   "cell_type": "code",
   "execution_count": null,
   "metadata": {},
   "outputs": [],
   "source": [
    "dshift_JPL_v1[2]"
   ]
  },
  {
   "cell_type": "code",
   "execution_count": null,
   "metadata": {},
   "outputs": [],
   "source": [
    "dshift_v1[2]()"
   ]
  },
  {
   "cell_type": "code",
   "execution_count": null,
   "metadata": {},
   "outputs": [],
   "source": [
    "dshift_v1[2](A2_JPL)"
   ]
  },
  {
   "cell_type": "code",
   "execution_count": null,
   "metadata": {},
   "outputs": [],
   "source": [
    "dshift_jpl_obs[2]"
   ]
  },
  {
   "cell_type": "code",
   "execution_count": null,
   "metadata": {},
   "outputs": [],
   "source": [
    "#compute time-delay and Doppler-shift \"ephemeris\" (i.e., predicted values according to ephemeris)\n",
    "#tdelay_v1, dshift_v1 = delay_doppler(apophis_data, xve=earth_et, xvs=sun_et, xva=apophis_et, tc=tc);\n",
    "tdelay_v1, dshift_v1 = delay_doppler(apophis_data, xve=earth_et, xvs=sun_et, xva=apophis_et, tc=tc);"
   ]
  },
  {
   "cell_type": "code",
   "execution_count": null,
   "metadata": {},
   "outputs": [],
   "source": [
    "#Observed minus computed (O-C) residuals: TaylorIntegration.jl\n",
    "\n",
    "#absolute\n",
    "residual_td = tdelay_jpl_obs - tdelay_v1 # (usec)\n",
    "residual_ds = dshift_jpl_obs - dshift_v1 # (Hz)\n",
    "\n",
    "#relative\n",
    "rel_res_td = residual_td ./ tdelay_jpl_obs # (usec)\n",
    "rel_res_ds = residual_ds ./ dshift_jpl_obs # (Hz)\n",
    ";"
   ]
  },
  {
   "cell_type": "markdown",
   "metadata": {},
   "source": [
    "## Diff in residuals vs JPL sol. #197"
   ]
  },
  {
   "cell_type": "code",
   "execution_count": null,
   "metadata": {},
   "outputs": [],
   "source": [
    "###time-delay and Doppler residuals from Brozovic et al., 2018\n",
    "b2018_td_res = [0.105, 0.023, -0.491, 0.018, -0.123, -0.599, 0.121, 0.072, 0.056, 0.021, 0.059, -0.374, -0.154, 0.049, 0.400]\n",
    "b2018_ds_res = [0.039, -0.023, -0.001, 0.107, -0.061, -0.052, 0.037, -0.009, -0.007, -0.027, 0.031, 0.113, -0.062, 0.010, -0.077, 0.070, -0.006, 0.009, -0.068, 0.004, 0.023, 0.016, 0.029, 0.150]\n",
    ";"
   ]
  },
  {
   "cell_type": "code",
   "execution_count": null,
   "metadata": {},
   "outputs": [],
   "source": []
  },
  {
   "cell_type": "code",
   "execution_count": null,
   "metadata": {},
   "outputs": [],
   "source": [
    "plot(\n",
    "    tv_jpl_utc_jul[delay_index].-t0,\n",
    "    residual_JPL_td,\n",
    "    yerror = tdelay_jpl_obs_sigma,\n",
    "    m=:diamond,\n",
    "    label=\"JPL#199 + our data proc.\"\n",
    ")\n",
    "plot!(\n",
    "    tv_jpl_utc_jul[delay_index].-t0,\n",
    "    residual_td(A2_JPL),\n",
    "    yerror = tdelay_jpl_obs_sigma,\n",
    "    m=:circle,\n",
    "    label=\"Apophis.jl (A2 current)\"\n",
    ")\n",
    "plot!(\n",
    "    tv_jpl_utc_jul[delay_index].-t0,\n",
    "    b2018_td_res,\n",
    "    yerror = tdelay_jpl_obs_sigma,\n",
    "    m=:square,\n",
    "    label=\"Brozovic et al\",\n",
    "    leg=:bottomright\n",
    ")\n",
    "\n",
    "#ylims!(-2,2)\n",
    "# earth, sun and apophis ephemeris: ours"
   ]
  },
  {
   "cell_type": "code",
   "execution_count": null,
   "metadata": {},
   "outputs": [],
   "source": [
    "plot(\n",
    "    tv_jpl_utc_jul[doppler_index].-t0,\n",
    "    residual_JPL_ds,\n",
    "    yerror = dshift_jpl_obs_sigma,\n",
    "    m=:diamond,\n",
    "    label=\"JPL#199 + our data proc.\"\n",
    ")\n",
    "plot!(\n",
    "    tv_jpl_utc_jul[doppler_index].-t0,\n",
    "    residual_ds(A2_JPL),\n",
    "    yerror = dshift_jpl_obs_sigma,\n",
    "    m=:circle,\n",
    "    label=\"Apophis.jl\"\n",
    ")\n",
    "plot!(\n",
    "    tv_jpl_utc_jul[doppler_index].-t0,\n",
    "    b2018_ds_res,\n",
    "    yerror = dshift_jpl_obs_sigma,\n",
    "    m=:square,\n",
    "    label=\"Brozovic et al\"\n",
    ")\n",
    "#ylims!(-2,2)\n",
    "# earth, sun and apophis ephemeris: ours"
   ]
  },
  {
   "cell_type": "markdown",
   "metadata": {},
   "source": [
    "# Time-delay / Doppler shift plots"
   ]
  },
  {
   "cell_type": "code",
   "execution_count": null,
   "metadata": {},
   "outputs": [],
   "source": [
    "A2_plot = 0.0\n",
    "scatter(\n",
    "    tv_jpl_utc_jul[delay_index].-jd0, tdelay_v1(A2_plot),\n",
    "    label=\"predicted (TaylorIntegration, A2 = $A2_plot x 10^-14 au/d^2)\",\n",
    "    marker=:cross\n",
    ")\n",
    "scatter!(\n",
    "    tv_jpl_utc_jul[delay_index].-jd0,\n",
    "    tdelay_JPL_v1,\n",
    "    label=\"predicted (JPL DE430+s199)\",\n",
    "    marker=:xcross\n",
    ")\n",
    "scatter!(\n",
    "    tv_jpl_utc_jul[delay_index].-jd0,\n",
    "    tdelay_jpl_obs,\n",
    "    label=\"observed (Goldstone, Arecibo 2012-2013)\",\n",
    "    legend=:topleft,\n",
    "    marker=:circle,\n",
    "    markersize=3,\n",
    "    yerror=dshift_jpl_obs_sigma\n",
    ")\n",
    "title!(\"Time delay vs time\")\n",
    "ylabel!(\"Total time delay [useconds]\")\n",
    "xlims!(1540, 1645)\n",
    "xticks!(1540:20:1640, string.(Date.(julian2datetime.(jd0 .+ collect(1540:20:1640)))))\n",
    "xlabel!(\"Time\")"
   ]
  },
  {
   "cell_type": "code",
   "execution_count": null,
   "metadata": {},
   "outputs": [],
   "source": [
    "A2_plot = 0.0\n",
    "scatter(\n",
    "    tv_jpl_utc_jul[doppler_index].-jd0, dshift_v1(A2_plot),\n",
    "    label=\"predicted (TaylorIntegration, A2 = $A2_plot x 10^-14 au/d^2)\",\n",
    "    marker=:cross\n",
    ")\n",
    "scatter!(\n",
    "    tv_jpl_utc_jul[doppler_index].-jd0,\n",
    "    dshift_JPL_v1,\n",
    "    label=\"predicted (JPL DE430+s199)\",\n",
    "    marker=:xcross\n",
    ")\n",
    "scatter!(\n",
    "    tv_jpl_utc_jul[doppler_index].-jd0,\n",
    "    dshift_jpl_obs,\n",
    "    label=\"observed (Goldstone, Arecibo 2012-2013)\",\n",
    "    legend=:topright,\n",
    "    marker=:circle,\n",
    "    markersize=3,\n",
    "    yerror=dshift_jpl_obs_sigma\n",
    ")\n",
    "title!(\"Doppler shift vs time\")\n",
    "ylabel!(\"Total Doppler shift [Hz]\")\n",
    "xlims!(1540, 1645)\n",
    "ylims!(-9e4, 8e4)\n",
    "xticks!(1540:20:1640, string.(Date.(julian2datetime.(jd0 .+ collect(1540:20:1640)))))\n",
    "xlabel!(\"Time\")"
   ]
  },
  {
   "cell_type": "code",
   "execution_count": null,
   "metadata": {},
   "outputs": [],
   "source": [
    "#A2_plot = A2_JPL # A2_lsqfit_deldop\n",
    "A2_plot = 0.0\n",
    "A2_label_str = @sprintf \"TaylorIntegration (A2 = %.2fx10^-14 au/d^2)\" A2_plot\n",
    "plot(\n",
    "    tv_jpl_utc_jul[delay_index].-jd0,\n",
    "    #residual_JPL_td,\n",
    "    b2018_td_res,\n",
    "    #yerror = tdelay_jpl_obs_sigma,\n",
    "    marker=:circle,\n",
    "    ms=3.0,\n",
    "    label = \"Brozovic et al. (2018)\",\n",
    "    legend = :topright\n",
    ")\n",
    "plot!(\n",
    "    tv_jpl_utc_jul[delay_index].-jd0,\n",
    "    residual_td(A2_plot), \n",
    "    #yerror = tdelay_jpl_obs_sigma,\n",
    "    marker=:square,\n",
    "    ms=3.0,\n",
    "    label = \"A2 = 0.0 × 10^{-14}  au / d^{2}\", #(A2 = %.2fx10^-14 au/d^2)\n",
    "    legend = :topright\n",
    ")\n",
    "plot!(\n",
    "    tv_jpl_utc_jul[delay_index].-jd0,\n",
    "    residual_td(-2.0), \n",
    "    #yerror = tdelay_jpl_obs_sigma,\n",
    "    marker=:square,\n",
    "    ms=3.0,\n",
    "    label = \"A2 = -2.0 × 10^{-14}  au / d^{2}\",\n",
    "    legend = :topright\n",
    ")\n",
    "plot!(\n",
    "    tv_jpl_utc_jul[delay_index].-jd0,\n",
    "    residual_td(-6.0), \n",
    "    #yerror = tdelay_jpl_obs_sigma,\n",
    "    marker=:square,\n",
    "    ms=3.0,\n",
    "    label = \"A2 = -6.0 × 10^{-14}  au / d^{2}\",\n",
    "    legend = :topright\n",
    ")\n",
    "plot!(\n",
    "    tv_jpl_utc_jul[delay_index].-jd0,\n",
    "    residual_td(-10.0), \n",
    "    #yerror = tdelay_jpl_obs_sigma,\n",
    "    marker=:square,\n",
    "    ms=3.0,\n",
    "    label = \"A2 = -10.0 × 10^{-14}  au / d^{2}\",\n",
    "    legend = :topright\n",
    ")\n",
    "#title!(\"Time delay residuals (O-C)\")\n",
    "ylabel!(\"Time delay resid. (O-C) [us]\")\n",
    "xlims!(1540, 1645)\n",
    "#ylims!(-5,4)\n",
    "ylims!(-250,400)\n",
    "xticks!(1540:20:1640, string.(Date.(julian2datetime.(jd0 .+ collect(1540:20:1640)))))\n",
    "xlabel!(\"Calendar date\")\n",
    "#savefig(\"~/phdthesis/fig5-1.pdf\")"
   ]
  },
  {
   "cell_type": "code",
   "execution_count": null,
   "metadata": {},
   "outputs": [],
   "source": [
    "A2_plot = A2_JPL # A2_lsqfit_deldop\n",
    "#A2_plot = 0.0 #-5.59\n",
    "A2_label_str = @sprintf \"TaylorIntegration (A2 = %.2fx10^-14 au/d^2)\"  A2_plot\n",
    "scatter(\n",
    "    tv_jpl_utc_jul[delay_index].-jd0,\n",
    "    residual_td(A2_plot), yerror = tdelay_jpl_obs_sigma,\n",
    "    marker=:square,\n",
    "    ms=3.0,\n",
    "    label = A2_label_str,\n",
    "    legend = :topright\n",
    ")\n",
    "scatter!(\n",
    "    tv_jpl_utc_jul[delay_index].-jd0,\n",
    "    #residual_JPL_td,\n",
    "    b2018_td_res,\n",
    "    yerror = tdelay_jpl_obs_sigma,\n",
    "    marker=:circle,\n",
    "    ms=3.0,\n",
    "    label = \"Brozovic et al. (2018)\",\n",
    "    legend = :bottomright\n",
    ")\n",
    "title!(\"Time delay residuals (O-C)\")\n",
    "ylabel!(\"Total time delay resid. (O-C) [us]\")\n",
    "xlims!(1540, 1645)\n",
    "#ylims!(-5,4)\n",
    "#ylims!(-.5,.5)\n",
    "xticks!(1540:20:1640, string.(Date.(julian2datetime.(jd0 .+ collect(1540:20:1640)))))\n",
    "xlabel!(\"Time\")\n",
    "#savefig(\"delay_residuals_A2_0.pdf\")\n",
    "#savefig(\"delay_residuals_A2_lsfit.pdf\")"
   ]
  },
  {
   "cell_type": "code",
   "execution_count": null,
   "metadata": {},
   "outputs": [],
   "source": [
    "A2_plot = 0.0\n",
    "A2_label_str = @sprintf \"TaylorIntegration (A2 = %.2fx10^-14 au/d^2)\"  A2_plot\n",
    "plot(\n",
    "    tv_jpl_utc_jul[doppler_index].-jd0,\n",
    "    residual_JPL_ds, yerror = dshift_jpl_obs_sigma,\n",
    "    marker=:circle,\n",
    "    ms=3.0,\n",
    "    label = \"Brozovic et al. (2018)\",\n",
    "    legend=:topright\n",
    ")\n",
    "plot!(\n",
    "    tv_jpl_utc_jul[doppler_index].-jd0,\n",
    "    residual_ds(0.0), yerror = dshift_jpl_obs_sigma,\n",
    "    marker=:square,\n",
    "    ms=2.0,\n",
    "    label = \"A2 = 0.0 × 10^{-14}  au / d^{2}\" #A2_label_str\n",
    ")\n",
    "plot!(\n",
    "    tv_jpl_utc_jul[doppler_index].-jd0,\n",
    "    residual_ds(-2.0), yerror = dshift_jpl_obs_sigma,\n",
    "    marker=:square,\n",
    "    ms=2.0,\n",
    "    label = \"A2 = -2.0 × 10^{-14}  au / d^{2}\" #A2_label_str\n",
    ")\n",
    "plot!(\n",
    "    tv_jpl_utc_jul[doppler_index].-jd0,\n",
    "    residual_ds(-6.0), yerror = dshift_jpl_obs_sigma,\n",
    "    marker=:square,\n",
    "    ms=2.0,\n",
    "    label = \"A2 = -6.0 × 10^{-14}  au / d^{2}\" #A2_label_str\n",
    ")\n",
    "plot!(\n",
    "    tv_jpl_utc_jul[doppler_index].-jd0,\n",
    "    residual_ds(-10.0), yerror = dshift_jpl_obs_sigma,\n",
    "    marker=:square,\n",
    "    ms=2.0,\n",
    "    label = \"A2 = -10.0 × 10^{-14}  au / d^{2}\" #A2_label_str\n",
    ")\n",
    "#title!(\"Doppler shift residuals (O-C)\")\n",
    "ylabel!(\"Doppler shift resid. (O-C) [Hz]\")\n",
    "xlims!(1540, 1645)\n",
    "ylims!(-1.0,1.5)\n",
    "xticks!(1540:20:1640, string.(Date.(julian2datetime.(jd0 .+ collect(1540:20:1640)))))\n",
    "xlabel!(\"Calendar date\")\n",
    "#savefig(\"~/phdthesis/fig5-2.pdf\")"
   ]
  },
  {
   "cell_type": "code",
   "execution_count": null,
   "metadata": {},
   "outputs": [],
   "source": [
    "A2_plot = A2_JPL # A2_lsqfit_deldop\n",
    "#A2_plot = 0.0 #-5.7\n",
    "A2_label_str = @sprintf \"TaylorIntegration (A2 = %.2fx10^-14 au/d^2)\"  A2_plot\n",
    "scatter(\n",
    "    tv_jpl_utc_jul[doppler_index].-jd0,\n",
    "    residual_ds(A2_plot), yerror = dshift_jpl_obs_sigma,\n",
    "    marker=:square,\n",
    "    ms=3.0,\n",
    "    label = A2_label_str,\n",
    "    leg=false\n",
    ")\n",
    "scatter!(\n",
    "    tv_jpl_utc_jul[doppler_index].-jd0,\n",
    "    residual_JPL_ds, yerror = dshift_jpl_obs_sigma,\n",
    "    marker=:circle,\n",
    "    ms=3.0,\n",
    "    label = \"JPL DE430+s199\",\n",
    "    legend=:bottomleft\n",
    ")\n",
    "title!(\"Doppler shift residuals (O-C)\")\n",
    "ylabel!(\"Total Doppler shift resid. (O-C) [Hz]\")\n",
    "xlims!(1540, 1645)\n",
    "xticks!(1540:20:1640, string.(Date.(julian2datetime.(jd0 .+ collect(1540:20:1640)))))\n",
    "xlabel!(\"Time\")\n",
    "#ylims!(-0.6,0.4)\n",
    "#savefig(\"doppler_residuals_A2_0.pdf\")\n",
    "#savefig(\"doppler_residuals_A2_lsfit.pdf\")"
   ]
  },
  {
   "cell_type": "markdown",
   "metadata": {},
   "source": [
    "# Yarkovsky $A_2$ coefficient estimation"
   ]
  },
  {
   "cell_type": "markdown",
   "metadata": {},
   "source": [
    "Here, we will compute, for a single time delay observation, the value of $A_2$ which makes the O-C residual of that observation equal to zero:"
   ]
  },
  {
   "cell_type": "markdown",
   "metadata": {},
   "source": [
    "The observed value is:"
   ]
  },
  {
   "cell_type": "code",
   "execution_count": null,
   "metadata": {
    "scrolled": true
   },
   "outputs": [],
   "source": [
    "#observed value\n",
    "tdelay_jpl_obs[1]"
   ]
  },
  {
   "cell_type": "code",
   "execution_count": null,
   "metadata": {
    "scrolled": true
   },
   "outputs": [],
   "source": [
    "# computed value (full solution)\n",
    "tdelay_v1[delay_index[1]] # τ_c(A2) = p(A2)"
   ]
  },
  {
   "cell_type": "code",
   "execution_count": null,
   "metadata": {},
   "outputs": [],
   "source": [
    "# residual (A2 = 0)\n",
    "tdelay_jpl_obs[1] - tdelay_v1[delay_index[1]]()"
   ]
  },
  {
   "cell_type": "code",
   "execution_count": null,
   "metadata": {
    "scrolled": true
   },
   "outputs": [],
   "source": [
    "# substract A2=0 solution from τ_c(A2) (i.e., compute τ_c(A2)-τ_c(A2=0) )\n",
    "p_τ_1 = tdelay_v1[delay_index[1]]-tdelay_v1[delay_index[1]]()"
   ]
  },
  {
   "cell_type": "code",
   "execution_count": null,
   "metadata": {},
   "outputs": [],
   "source": [
    "# Let p_τ_1(A2) be the above polynomial expression, then we invert it so we get A2(δτ):\n",
    "A2_δτ_1 = inverse(p_τ_1)"
   ]
  },
  {
   "cell_type": "code",
   "execution_count": null,
   "metadata": {},
   "outputs": [],
   "source": [
    "#Now, we evaluate the polynomial at the corresponding residual at the A2=0 TaylorIntegration solution:\n",
    "A2_δτ_1(residual_td[delay_index[1]]())"
   ]
  },
  {
   "cell_type": "markdown",
   "metadata": {},
   "source": [
    "Now, we follow the same strategy for all the 2012-2013 radar astrometry for Apohpis (delay and Doppler):"
   ]
  },
  {
   "cell_type": "code",
   "execution_count": null,
   "metadata": {},
   "outputs": [],
   "source": [
    "td_us = tdelay_v1\n",
    "ds_Hz = dshift_v1;"
   ]
  },
  {
   "cell_type": "code",
   "execution_count": null,
   "metadata": {},
   "outputs": [],
   "source": [
    "A2_δτ_v = (  inverse.( td_us-td_us() )  ) # vector of A2(δτ) polynomials at each delay observation;\n",
    "A2_δν_v = (  inverse.( ds_Hz-ds_Hz() )  ) # vector of A2(δν) polynomials at each Doppler observation;"
   ]
  },
  {
   "cell_type": "code",
   "execution_count": null,
   "metadata": {},
   "outputs": [],
   "source": [
    "A2_del_v = map((x,y)->x(y), A2_δτ_v, residual_td()); # A2(δτ) polynomials evaluated at the O-C time delay residuals;\n",
    "A2_dop_v = map((x,y)->x(y), A2_δν_v, residual_ds()); # A2(δν) polynomials evaluated at the O-C Doppler shift residuals;"
   ]
  },
  {
   "cell_type": "code",
   "execution_count": null,
   "metadata": {},
   "outputs": [],
   "source": [
    "A2_del_v"
   ]
  },
  {
   "cell_type": "code",
   "execution_count": null,
   "metadata": {},
   "outputs": [],
   "source": [
    "A2_dop_v"
   ]
  },
  {
   "cell_type": "code",
   "execution_count": null,
   "metadata": {
    "scrolled": true
   },
   "outputs": [],
   "source": [
    "mean(A2_del_v), std(A2_del_v)"
   ]
  },
  {
   "cell_type": "code",
   "execution_count": null,
   "metadata": {},
   "outputs": [],
   "source": [
    "mean(A2_dop_v), std(A2_dop_v)"
   ]
  },
  {
   "cell_type": "code",
   "execution_count": null,
   "metadata": {},
   "outputs": [],
   "source": [
    "A2_all = vcat(A2_del_v, A2_dop_v)"
   ]
  },
  {
   "cell_type": "code",
   "execution_count": null,
   "metadata": {},
   "outputs": [],
   "source": [
    "A2_mean_all = mean(A2_all)\n",
    "A2_std_all = std(A2_all)\n",
    "A2_mean_all, A2_std_all"
   ]
  },
  {
   "cell_type": "code",
   "execution_count": null,
   "metadata": {},
   "outputs": [],
   "source": [
    "scatter(\n",
    "    tv_jpl_utc_jul[delay_index][1:end-3].-jd0,\n",
    "    A2_del_v[1:end-3],\n",
    "    marker=:cross,\n",
    "    label=\"A2 est. (Goldstone delay obs.)\"\n",
    ")\n",
    "scatter!(\n",
    "    tv_jpl_utc_jul[delay_index][end-2:end].-jd0,\n",
    "    A2_del_v[end-2:end],\n",
    "    marker=:xcross,\n",
    "    label=\"A2 est. (Arecibo delay obs.)\",\n",
    "    color=3,\n",
    "    leg=:topright\n",
    ")\n",
    "ylabel!(\"A2(dt) x 10^14 [au/d^2]\")\n",
    "xlims!(1540, 1645)\n",
    "xticks!(1540:20:1645, string.(Date.(julian2datetime.(jd0 .+ collect(1540:20:1640)))))\n",
    "xlabel!(\"Time\")"
   ]
  },
  {
   "cell_type": "code",
   "execution_count": null,
   "metadata": {},
   "outputs": [],
   "source": [
    "scatter(\n",
    "    tv_jpl_utc_jul[doppler_index][1:end-7].-jd0,\n",
    "    A2_dop_v[1:end-7],\n",
    "    marker=:cross,\n",
    "    label=\"A2 est. (Goldstone Doppler obs.)\",\n",
    "    color=2\n",
    ")\n",
    "scatter!(\n",
    "    tv_jpl_utc_jul[doppler_index][end-6:end].-jd0,\n",
    "    A2_dop_v[end-6:end],\n",
    "    marker=:xcross,\n",
    "    label=\"A2 est. (Arecibo Doppler obs.)\",\n",
    "    leg=:bottomleft,\n",
    "    color=4\n",
    ")\n",
    "ylabel!(\"A2(df) x 10^14 [au/d^2]\")\n",
    "xlims!(1540, 1645)\n",
    "xticks!(1540:20:1645, string.(Date.(julian2datetime.(jd0 .+ collect(1540:20:1640)))))\n",
    "xlabel!(\"Time\")"
   ]
  },
  {
   "cell_type": "code",
   "execution_count": null,
   "metadata": {},
   "outputs": [],
   "source": [
    "scatter(\n",
    "    tv_jpl_utc_jul[delay_index][1:end-3].-jd0,\n",
    "    A2_del_v[1:end-3],\n",
    "    marker=:cross,\n",
    "    label=\"A2 est. (Goldstone delay obs.)\"\n",
    ")\n",
    "scatter!(\n",
    "    tv_jpl_utc_jul[doppler_index][1:end-7].-jd0,\n",
    "    A2_dop_v[1:end-7],\n",
    "    marker=:cross,\n",
    "    label=\"A2 est. (Goldstone Doppler obs.)\"\n",
    ")\n",
    "scatter!(\n",
    "    tv_jpl_utc_jul[delay_index][end-2:end].-jd0,\n",
    "    A2_del_v[end-2:end],\n",
    "    marker=:xcross,\n",
    "    label=\"A2 est. (Arecibo delay obs.)\"\n",
    ")\n",
    "scatter!(\n",
    "    tv_jpl_utc_jul[doppler_index][end-6:end].-jd0,\n",
    "    A2_dop_v[end-6:end],\n",
    "    marker=:xcross,\n",
    "    label=\"A2 est. (Arecibo Doppler obs.)\",\n",
    "    leg=:bottomleft\n",
    ")\n",
    "ylabel!(\"A2 x 10^14 [au/d^2]\")\n",
    "xlims!(1540, 1645)\n",
    "ylims!(-105,5)\n",
    "xticks!(1540:20:1645, string.(Date.(julian2datetime.(jd0 .+ collect(1540:20:1640)))))\n",
    "xlabel!(\"Time\")"
   ]
  },
  {
   "cell_type": "markdown",
   "metadata": {},
   "source": [
    "# Intervals"
   ]
  },
  {
   "cell_type": "code",
   "execution_count": null,
   "metadata": {},
   "outputs": [],
   "source": [
    "#]up IntervalArithmetic"
   ]
  },
  {
   "cell_type": "code",
   "execution_count": null,
   "metadata": {},
   "outputs": [],
   "source": [
    "#]add IntervalArithmetic\n",
    "using IntervalArithmetic"
   ]
  },
  {
   "cell_type": "code",
   "execution_count": null,
   "metadata": {},
   "outputs": [],
   "source": [
    "residual_td_interval = interval.(\n",
    "    (tdelay_jpl_obs-tdelay_jpl_obs_sigma)-tdelay_v1(), \n",
    "    (tdelay_jpl_obs+tdelay_jpl_obs_sigma)-tdelay_v1()\n",
    ");"
   ]
  },
  {
   "cell_type": "code",
   "execution_count": null,
   "metadata": {},
   "outputs": [],
   "source": [
    "residual_ds_interval = interval.(\n",
    "    (dshift_jpl_obs-dshift_jpl_obs_sigma)-dshift_v1(),\n",
    "    (dshift_jpl_obs+dshift_jpl_obs_sigma)-dshift_v1()\n",
    ");"
   ]
  },
  {
   "cell_type": "code",
   "execution_count": null,
   "metadata": {},
   "outputs": [],
   "source": [
    "A2_del_v_interval = map((x,y)->x(y), A2_δτ_v, residual_td_interval)"
   ]
  },
  {
   "cell_type": "code",
   "execution_count": null,
   "metadata": {},
   "outputs": [],
   "source": [
    "A2_dop_v_interval = map((x,y)->x(y), A2_δν_v, residual_ds_interval)"
   ]
  },
  {
   "cell_type": "code",
   "execution_count": null,
   "metadata": {},
   "outputs": [],
   "source": [
    "hull(A2_dop_v_interval)"
   ]
  },
  {
   "cell_type": "code",
   "execution_count": null,
   "metadata": {},
   "outputs": [],
   "source": [
    "A2_interval_all = vcat(A2_del_v_interval, A2_dop_v_interval)\n",
    "A2_I_r = radius.(A2_interval_all)\n",
    "A2_I_m = mid.(A2_interval_all);"
   ]
  },
  {
   "cell_type": "code",
   "execution_count": null,
   "metadata": {},
   "outputs": [],
   "source": [
    "params_dA2 = (A2_I_r, A2_I_m);"
   ]
  },
  {
   "cell_type": "code",
   "execution_count": null,
   "metadata": {},
   "outputs": [],
   "source": [
    "function distribution_A2(x, params, t)\n",
    "    rv, mv = params\n",
    "    sum = zero(t)\n",
    "    for i in eachindex(rv)\n",
    "        sum += exp( -(( (t-mv[i])/rv[i] )^2)/2 )/(rv[i]*sqrt(2pi))\n",
    "    end\n",
    "    return sum/length(rv)\n",
    "end\n",
    "\n",
    "function t_distribution_A2(x, params, t)\n",
    "    rv, mv = params\n",
    "    sum = zero(t)\n",
    "    for i in eachindex(rv)\n",
    "        sum += exp( -(( (t-mv[i])/rv[i] )^2)/2 )/(rv[i]*sqrt(2pi))\n",
    "    end\n",
    "    return t*sum/length(rv)\n",
    "end\n",
    "\n",
    "function t2_distribution_A2(x, params, t)\n",
    "    rv, mv = params\n",
    "    sum = zero(t)\n",
    "    for i in eachindex(rv)\n",
    "        sum += exp( -(( (t-mv[i])/rv[i] )^2)/2 )/(rv[i]*sqrt(2pi))\n",
    "    end\n",
    "    return (t^2)*sum/length(rv)\n",
    "end"
   ]
  },
  {
   "cell_type": "code",
   "execution_count": null,
   "metadata": {},
   "outputs": [],
   "source": [
    "distribution_A2(0.0, params_dA2, -10.0)"
   ]
  },
  {
   "cell_type": "code",
   "execution_count": null,
   "metadata": {},
   "outputs": [],
   "source": [
    "t_distribution_A2(0.0, params_dA2, -10.0)"
   ]
  },
  {
   "cell_type": "code",
   "execution_count": null,
   "metadata": {},
   "outputs": [],
   "source": [
    "t2_distribution_A2(0.0, params_dA2, -10.0)"
   ]
  },
  {
   "cell_type": "code",
   "execution_count": null,
   "metadata": {},
   "outputs": [],
   "source": [
    "tv_a2_0, xv_a2_0 = taylorinteg(distribution_A2, 0.0, -100.0, 100.0, 25, 1e-20, params_dA2);\n",
    "tv_a2_1, xv_a2_1 = taylorinteg(t_distribution_A2, 0.0, -100.0, 100.0, 25, 1e-20, params_dA2);\n",
    "tv_a2_2, xv_a2_2 = taylorinteg(t2_distribution_A2, 0.0, -100.0, 100.0, 25, 1e-20, params_dA2);"
   ]
  },
  {
   "cell_type": "code",
   "execution_count": null,
   "metadata": {},
   "outputs": [],
   "source": [
    "tv_a2_0[end], xv_a2_0[end]"
   ]
  },
  {
   "cell_type": "code",
   "execution_count": null,
   "metadata": {},
   "outputs": [],
   "source": [
    "tv_a2_1[end], xv_a2_1[end]/xv_a2_0[end]"
   ]
  },
  {
   "cell_type": "code",
   "execution_count": null,
   "metadata": {},
   "outputs": [],
   "source": [
    "A2_lsqfit_deldop "
   ]
  },
  {
   "cell_type": "code",
   "execution_count": null,
   "metadata": {},
   "outputs": [],
   "source": [
    "A2_JPL # ± 2 (10^-14 au/day^2)"
   ]
  },
  {
   "cell_type": "code",
   "execution_count": null,
   "metadata": {},
   "outputs": [],
   "source": []
  },
  {
   "cell_type": "code",
   "execution_count": null,
   "metadata": {
    "scrolled": true
   },
   "outputs": [],
   "source": [
    "tv_a2_2[end], xv_a2_2[end]/xv_a2_0[end]"
   ]
  },
  {
   "cell_type": "code",
   "execution_count": null,
   "metadata": {},
   "outputs": [],
   "source": [
    "σ_A2 = sqrt(xv_a2_2[end]-xv_a2_1[end]^2)/xv_a2_0[end]"
   ]
  },
  {
   "cell_type": "code",
   "execution_count": null,
   "metadata": {},
   "outputs": [],
   "source": []
  },
  {
   "cell_type": "code",
   "execution_count": null,
   "metadata": {},
   "outputs": [],
   "source": [
    "x_plot_v = collect(-6:0.001:-5)\n",
    "plot( x_plot_v, map(x->distribution_A2(x, A2_I_r, A2_I_m), x_plot_v) )\n",
    "#ylims!(0,0.2)"
   ]
  },
  {
   "cell_type": "markdown",
   "metadata": {},
   "source": [
    "- estimate variance, mean from quadrature (-5.8, -5.4)"
   ]
  },
  {
   "cell_type": "code",
   "execution_count": null,
   "metadata": {},
   "outputs": [],
   "source": []
  },
  {
   "cell_type": "code",
   "execution_count": null,
   "metadata": {},
   "outputs": [],
   "source": []
  },
  {
   "cell_type": "code",
   "execution_count": null,
   "metadata": {},
   "outputs": [],
   "source": [
    "scatter(\n",
    "    tv_jpl_utc_jul[delay_index][1:end-3].-jd0,\n",
    "    mid.(A2_del_v_interval[1:end-3]),\n",
    "    yerror=radius.(A2_del_v_interval[1:end-3]),\n",
    "    label=\"delay (Goldstone)\",\n",
    "    leg=:topright,\n",
    "    marker=:cross\n",
    ")\n",
    "scatter!(\n",
    "    tv_jpl_utc_jul[delay_index][end-2:end].-jd0,\n",
    "    mid.(A2_del_v_interval[end-2:end]),\n",
    "    yerror=radius.(A2_del_v_interval[end-2:end]),\n",
    "    label=\"delay (Arecibo)\",\n",
    "    leg=:topright,\n",
    "    marker=:xcross,\n",
    "    color=3\n",
    ")\n",
    "#ylims!(minimum(A2_del_v)-1,0)\n",
    "ylabel!(\"A2(dt) x 10^14 [au/d^2]\")\n",
    "xlims!(1540, 1645)\n",
    "xticks!(1540:20:1645, string.(Date.(julian2datetime.(jd0 .+ collect(1540:20:1640)))))\n",
    "xlabel!(\"Time\")\n",
    "title!(\"A2 estimation from polynomial inversion of delay obs.\")\n",
    "#savefig(\"A2_poly_inv_delay.pdf\")"
   ]
  },
  {
   "cell_type": "code",
   "execution_count": null,
   "metadata": {},
   "outputs": [],
   "source": [
    "scatter(\n",
    "    tv_jpl_utc_jul[doppler_index][1:end-7].-jd0,\n",
    "    mid.(A2_dop_v_interval[1:end-7]),\n",
    "    yerror=radius.(A2_dop_v_interval[1:end-7]),\n",
    "    label=\"Doppler (Goldstone)\",\n",
    "    marker=:cross,\n",
    "    color=2\n",
    ")\n",
    "scatter!(\n",
    "    tv_jpl_utc_jul[doppler_index][end-6:end].-jd0,\n",
    "    mid.(A2_dop_v_interval[end-6:end]),\n",
    "    yerror=radius.(A2_dop_v_interval[end-6:end]),\n",
    "    label=\"Doppler (Arecibo)\",\n",
    "    marker=:xcross,\n",
    "    leg=:bottomleft,\n",
    "    color=4\n",
    ")\n",
    "ylabel!(\"A2(df) x 10^14 [au/d^2]\")\n",
    "xlims!(1540, 1645)\n",
    "xticks!(1540:20:1645, string.(Date.(julian2datetime.(jd0 .+ collect(1540:20:1640)))))\n",
    "xlabel!(\"Time\")"
   ]
  },
  {
   "cell_type": "code",
   "execution_count": null,
   "metadata": {},
   "outputs": [],
   "source": [
    "p5_3a = plot([1540, 1640], [A2_mean_all, A2_mean_all], label=A2_label_str)\n",
    "scatter!(\n",
    "    tv_jpl_utc_jul[doppler_index][1:end-7].-jd0,\n",
    "    mid.(A2_dop_v_interval[1:end-7]),\n",
    "    yerror=radius.(A2_dop_v_interval[1:end-7]),\n",
    "    marker=:square,\n",
    "    ms=3.0,\n",
    "    label=\"Doppler (Goldstone)\",\n",
    "    color=2\n",
    ")\n",
    "scatter!(\n",
    "    tv_jpl_utc_jul[delay_index][1:end-3].-jd0,\n",
    "    mid.(A2_del_v_interval[1:end-3]),\n",
    "    yerror=radius.(A2_del_v_interval[1:end-3]),\n",
    "    marker=:diamond,\n",
    "    ms=3.0,\n",
    "    leg=:bottomleft,\n",
    "    label=\"delay (Goldstone)\",\n",
    "    color=1\n",
    ")\n",
    "scatter!(\n",
    "    tv_jpl_utc_jul[doppler_index][end-6:end].-jd0,\n",
    "    mid.(A2_dop_v_interval[end-6:end]),\n",
    "    yerror=radius.(A2_dop_v_interval[end-6:end]),\n",
    "    marker=:square,\n",
    "    ms=3.0,\n",
    "    label=\"Doppler (Arecibo)\",\n",
    "    annotations=( 1625, 6, \"(a)\")\n",
    ")\n",
    "scatter!(\n",
    "    tv_jpl_utc_jul[delay_index][end-2:end].-jd0,\n",
    "    mid.(A2_del_v_interval[end-2:end]),\n",
    "    yerror=radius.(A2_del_v_interval[end-2:end]),\n",
    "    marker=:diamond,\n",
    "    ms=3.0,\n",
    "    leg=:bottomleft,\n",
    "    label=\"delay (Arecibo)\"\n",
    ")\n",
    "A2_label_str = @sprintf \"A2 (mean): %.3f  x 10^-14 au/d^2\" A2_mean_all\n",
    "ylabel!(\"A2 x 10^14 [au/day^2]\")\n",
    "#xticks!(1540:20:1640, string.(Date.(julian2datetime.(jd0 .+ collect(1540:20:1640)))))\n",
    "xticks!(1540:20:1640, fill(\"\", length(1540:20:1640)))\n",
    "#xlabel!(\"Calendar date\")\n",
    "#title!(\"A2 estimation from radar astrometry (Brozovic et al., 2018)\")\n",
    "#savefig(\"A2_fit_all.pdf\")"
   ]
  },
  {
   "cell_type": "code",
   "execution_count": null,
   "metadata": {},
   "outputs": [],
   "source": [
    "p5_3b = plot([1540, 1640], [A2_mean_all, A2_mean_all], label=A2_label_str)\n",
    "scatter!(\n",
    "    tv_jpl_utc_jul[doppler_index][1:end-7].-jd0,\n",
    "    mid.(A2_dop_v_interval[1:end-7]),\n",
    "    yerror=radius.(A2_dop_v_interval[1:end-7]),\n",
    "    marker=:square,\n",
    "    ms=3.0,\n",
    "    label=\"Doppler (Goldstone)\"\n",
    ")\n",
    "scatter!(\n",
    "    tv_jpl_utc_jul[delay_index][1:end-3].-jd0,\n",
    "    mid.(A2_del_v_interval[1:end-3]),\n",
    "    yerror=radius.(A2_del_v_interval[1:end-3]),\n",
    "    marker=:diamond,\n",
    "    ms=3.0,\n",
    "    leg=:bottomleft,\n",
    "    label=\"delay (Goldstone)\"\n",
    ")\n",
    "scatter!(\n",
    "    tv_jpl_utc_jul[doppler_index][end-6:end].-jd0,\n",
    "    mid.(A2_dop_v_interval[end-6:end]),\n",
    "    yerror=radius.(A2_dop_v_interval[end-6:end]),\n",
    "    marker=:square,\n",
    "    ms=3.0,\n",
    "    label=\"Doppler (Arecibo)\",\n",
    "    annotations=( 1625, -3.3, \"(b)\")\n",
    ")\n",
    "scatter!(\n",
    "    tv_jpl_utc_jul[delay_index][end-2:end].-jd0,\n",
    "    mid.(A2_del_v_interval[end-2:end]),\n",
    "    yerror=radius.(A2_del_v_interval[end-2:end]),\n",
    "    marker=:diamond,\n",
    "    ms=3.0,\n",
    "    leg=:bottomright,\n",
    "    label=\"delay (Arecibo)\"\n",
    ")\n",
    "A2_label_str = @sprintf \"A2 (mean): %.3f  x 10^-14 au/d^2\" A2_mean_all\n",
    "ylabel!(\"A2 x 10^14 [au/day^2]\")\n",
    "xticks!(1540:20:1640, string.(Date.(julian2datetime.(jd0 .+ collect(1540:20:1640)))))\n",
    "xlabel!(\"Calendar date\")\n",
    "ylims!(-8,-3)\n",
    "#title!(\"A2 estimation from radar astrometry (Brozovic et al., 2018)\")\n",
    "#savefig(\"A2_fit_all.pdf\")"
   ]
  },
  {
   "cell_type": "code",
   "execution_count": null,
   "metadata": {},
   "outputs": [],
   "source": [
    "p5_3 = plot(p5_3a, p5_3b, size=(640,860), layout=@layout([a; b]))\n",
    "#savefig(\"~/phdthesis/fig5-3.pdf\")"
   ]
  },
  {
   "cell_type": "markdown",
   "metadata": {},
   "source": [
    "## Least squares"
   ]
  },
  {
   "cell_type": "code",
   "execution_count": null,
   "metadata": {},
   "outputs": [],
   "source": [
    "res_del = tdelay_jpl_obs .- tdelay_v1 # delay residuals a.a.f. of A2\n",
    "res_dop = dshift_jpl_obs .- dshift_v1 # Doppler residuals a.a.f. of A2\n",
    "W_del = 1 ./(tdelay_jpl_obs_sigma.^2) # delay weights\n",
    "W_dop = 1 ./(dshift_jpl_obs_sigma.^2) # Doppler weights\n",
    "res_deldop = vcat(res_del, res_dop) # delay + Doppler residuals as a function of A2\n",
    "W_deldop = vcat(W_del, W_dop) # delay + Doppler weights\n",
    "res_xWx_del = res_del .* W_del .* res_del\n",
    "res_xWx_dop = res_dop .* W_dop .* res_dop\n",
    "res_xWx_deldop = res_deldop .* W_deldop .* res_deldop;"
   ]
  },
  {
   "cell_type": "code",
   "execution_count": null,
   "metadata": {},
   "outputs": [],
   "source": [
    "Apophis.taylor_roots.(res_del, 0.0)"
   ]
  },
  {
   "cell_type": "code",
   "execution_count": null,
   "metadata": {},
   "outputs": [],
   "source": [
    "Apophis.taylor_roots.(res_dop, 0.0)"
   ]
  },
  {
   "cell_type": "markdown",
   "metadata": {},
   "source": [
    "scatter(\n",
    "    tv_jpl_utc_jul[delay_index].-t0,\n",
    "    taylor_roots.(res_del, 0.0),\n",
    "    yerror=radius.(A2_del_v_interval)\n",
    ")"
   ]
  },
  {
   "cell_type": "markdown",
   "metadata": {},
   "source": [
    "Below, we compute the $A_2$ value which minimizes the polynomial expression for $Q(A_2)$, the mean square residual. We consider 4 cases: 1) only the delay observations, 2) only the Doppler observations, 3) all the delays and Dopplers, and 4) all delays and Dopplers excluding Arecibo Dopplers. Further, following classical nonlinear squares procedures, we estimate the 1-$\\sigma$ formal uncertainty of $A_2$ for each case, from the covariance \"matrix\" as $\\sigma_{A_2} = \\Gamma_{1,1}$ where the covariance matrix is $\\Gamma = C^{-1}$, $C$ is the normal matrix $C = (\\partial\\xi/\\partial A_2)^\\dagger \\cdot (\\partial\\xi/\\partial A_2)$ and $\\xi$ are the residuals. In this case, since were are fitting only 1 parameter, namely $A_2$, both $\\Gamma$ and $C$ correspond to 1x1 matrices (i.e., both $\\Gamma$ and $C$ are scalars)."
   ]
  },
  {
   "cell_type": "code",
   "execution_count": null,
   "metadata": {
    "scrolled": true
   },
   "outputs": [],
   "source": [
    "nobs_del = length(res_xWx_del)\n",
    "Q_A2_del = sum(res_xWx_del)/nobs_del\n",
    "#res_sq_del_ord2 = map(x->Taylor1(x.coeffs[1:3]), res_sq_del)\n",
    "#Q_A2_del = sum(res_sq_del_ord2)/length(res_sq_del_ord2)"
   ]
  },
  {
   "cell_type": "code",
   "execution_count": null,
   "metadata": {
    "scrolled": true
   },
   "outputs": [],
   "source": [
    "A2_lsqfit_del = Apophis.taylor_minimum(Q_A2_del, 0.0, niters=5)"
   ]
  },
  {
   "cell_type": "code",
   "execution_count": null,
   "metadata": {},
   "outputs": [],
   "source": [
    "sqrt(Q_A2_del(A2_lsqfit_del)) #rms"
   ]
  },
  {
   "cell_type": "code",
   "execution_count": null,
   "metadata": {},
   "outputs": [],
   "source": [
    "C_del = differentiate(Q_A2_del, 2)/(2/nobs_del) # C = ∂²Q /(2/nobs)\n",
    "Γ_del = inv(C_del) # Γ = C⁻¹"
   ]
  },
  {
   "cell_type": "code",
   "execution_count": null,
   "metadata": {},
   "outputs": [],
   "source": [
    "Γ_del(A2_lsqfit_del)"
   ]
  },
  {
   "cell_type": "code",
   "execution_count": null,
   "metadata": {},
   "outputs": [],
   "source": [
    "sqrt( Γ_del(A2_lsqfit_del) )"
   ]
  },
  {
   "cell_type": "code",
   "execution_count": null,
   "metadata": {},
   "outputs": [],
   "source": []
  },
  {
   "cell_type": "code",
   "execution_count": null,
   "metadata": {},
   "outputs": [],
   "source": [
    "nobs_dop = length(res_xWx_dop)\n",
    "Q_A2_dop = sum(res_xWx_dop)/nobs_dop"
   ]
  },
  {
   "cell_type": "code",
   "execution_count": null,
   "metadata": {
    "scrolled": true
   },
   "outputs": [],
   "source": [
    "A2_lsqfit_dop = Apophis.taylor_minimum(Q_A2_dop, 0.0, niters=5)"
   ]
  },
  {
   "cell_type": "code",
   "execution_count": null,
   "metadata": {},
   "outputs": [],
   "source": [
    "sqrt(Q_A2_dop(A2_lsqfit_dop)) #rms"
   ]
  },
  {
   "cell_type": "code",
   "execution_count": null,
   "metadata": {},
   "outputs": [],
   "source": [
    "C_dop = differentiate(Q_A2_dop, 2)/(2/nobs_dop) # C = ∂²Q /(2/nobs)\n",
    "Γ_dop = inv(C_dop) # Γ = C⁻¹"
   ]
  },
  {
   "cell_type": "code",
   "execution_count": null,
   "metadata": {},
   "outputs": [],
   "source": [
    "Γ_dop(A2_lsqfit_dop)"
   ]
  },
  {
   "cell_type": "code",
   "execution_count": null,
   "metadata": {},
   "outputs": [],
   "source": [
    "sqrt( Γ_dop(A2_lsqfit_dop) )"
   ]
  },
  {
   "cell_type": "code",
   "execution_count": null,
   "metadata": {},
   "outputs": [],
   "source": [
    "nobs_deldop = length(res_xWx_deldop)\n",
    "Q_A2_deldop = sum(res_xWx_deldop)/nobs_deldop"
   ]
  },
  {
   "cell_type": "code",
   "execution_count": null,
   "metadata": {},
   "outputs": [],
   "source": [
    "A2_lsqfit_deldop = Apophis.taylor_minimum(Q_A2_deldop, 0.0, niters=5)"
   ]
  },
  {
   "cell_type": "code",
   "execution_count": null,
   "metadata": {},
   "outputs": [],
   "source": [
    "sqrt(Q_A2_deldop(A2_lsqfit_deldop)) #rms"
   ]
  },
  {
   "cell_type": "code",
   "execution_count": null,
   "metadata": {},
   "outputs": [],
   "source": [
    "nobs_deldop"
   ]
  },
  {
   "cell_type": "code",
   "execution_count": null,
   "metadata": {},
   "outputs": [],
   "source": [
    "C_deldop = differentiate(Q_A2_deldop, 2)/(2/(14000 + 0nobs_deldop)) # C = ∂²Q /(2/nobs)\n",
    "Γ_deldop = inv(C_deldop) # Γ = C⁻¹"
   ]
  },
  {
   "cell_type": "code",
   "execution_count": null,
   "metadata": {},
   "outputs": [],
   "source": [
    "Γ_deldop(A2_lsqfit_deldop)"
   ]
  },
  {
   "cell_type": "code",
   "execution_count": null,
   "metadata": {},
   "outputs": [],
   "source": [
    "sqrt( Γ_deldop(A2_lsqfit_deldop) )"
   ]
  },
  {
   "cell_type": "code",
   "execution_count": null,
   "metadata": {},
   "outputs": [],
   "source": []
  },
  {
   "cell_type": "code",
   "execution_count": null,
   "metadata": {},
   "outputs": [],
   "source": [
    "_A2_min_plot = -5.8-0.5\n",
    "_A2_max_plot = -5.4+0.5\n",
    "A2_vals = range(_A2_min_plot, length=2000, stop=_A2_max_plot)\n",
    "plot(A2_vals, Q_A2_deldop.(A2_vals), leg=false)\n",
    "xlabel!(\"A2 x 10^14 [au/day^2]\")\n",
    "ylabel!(\"Q(A2)\")\n",
    "#title!(\"Mean weighted square residual vs A2\")\n",
    "#ylims!(-1, 11)\n",
    "xlims!(_A2_min_plot, _A2_max_plot)\n",
    "#savefig(\"~/phdthesis/fig5-4.pdf\")"
   ]
  },
  {
   "cell_type": "code",
   "execution_count": null,
   "metadata": {},
   "outputs": [],
   "source": [
    "mean(res_deldop), std(res_deldop)"
   ]
  },
  {
   "cell_type": "markdown",
   "metadata": {},
   "source": [
    "Compute the value of A2 such that the mean of the residuals is zero:"
   ]
  },
  {
   "cell_type": "code",
   "execution_count": null,
   "metadata": {},
   "outputs": [],
   "source": [
    "A2_zero_mean_res = Apophis.taylor_roots(mean(res_deldop), A2_lsqfit_deldop)"
   ]
  },
  {
   "cell_type": "markdown",
   "metadata": {},
   "source": [
    "Check that the vector of residuals evaluated at the LS solution has mean zero:"
   ]
  },
  {
   "cell_type": "code",
   "execution_count": null,
   "metadata": {
    "scrolled": true
   },
   "outputs": [],
   "source": [
    "mean(res_deldop()), std(res_deldop()) #A2 = 0"
   ]
  },
  {
   "cell_type": "code",
   "execution_count": null,
   "metadata": {},
   "outputs": [],
   "source": [
    "# A2 = A2 LS solution\n",
    "mean(res_deldop(A2_lsqfit_deldop)), std(res_deldop(A2_lsqfit_deldop))"
   ]
  },
  {
   "cell_type": "code",
   "execution_count": null,
   "metadata": {},
   "outputs": [],
   "source": [
    "# A2 such that res. mean is closest to zero\n",
    "mean(res_deldop(A2_zero_mean_res)), std(res_deldop(A2_zero_mean_res))"
   ]
  },
  {
   "cell_type": "markdown",
   "metadata": {},
   "source": [
    "If we expand the \"cost\" function Q wrt the solution value, then the first-order term should be zero:"
   ]
  },
  {
   "cell_type": "code",
   "execution_count": null,
   "metadata": {},
   "outputs": [],
   "source": [
    "ΔQ_del = Q_A2_del(A2_lsqfit_del+Taylor1(Q_A2_del.order))-Q_A2_del(A2_lsqfit_del)"
   ]
  },
  {
   "cell_type": "code",
   "execution_count": null,
   "metadata": {},
   "outputs": [],
   "source": [
    "ΔQ_deldop = Q_A2_deldop(A2_lsqfit_deldop+Taylor1(Q_A2_deldop.order))-Q_A2_deldop(A2_lsqfit_deldop)"
   ]
  },
  {
   "cell_type": "code",
   "execution_count": null,
   "metadata": {},
   "outputs": [],
   "source": []
  },
  {
   "cell_type": "markdown",
   "metadata": {},
   "source": [
    "## Ephemerides: DE430+s199 vs TaylorIntegration"
   ]
  },
  {
   "cell_type": "code",
   "execution_count": null,
   "metadata": {},
   "outputs": [],
   "source": [
    "(tv[end]-tv[1])/365.25"
   ]
  },
  {
   "cell_type": "code",
   "execution_count": null,
   "metadata": {},
   "outputs": [],
   "source": [
    "#SPICE.furnsh(\"../jpleph/naif0012.tls\")\n",
    "#SPICE.furnsh(\"../../jpleph/de430.bsp\", \"../jpleph/a99942_s197.bsp\", \"../jpleph/a99942_s199.bsp\", \"../jpleph/ast343de430.bsp\")"
   ]
  },
  {
   "cell_type": "code",
   "execution_count": null,
   "metadata": {},
   "outputs": [],
   "source": [
    "tv_et = Array{Float64}(undef, length(tv))\n",
    "apophis_jpl197 = Array{Float64}(undef, length(tv), 6)\n",
    "apophis_jpl199 = Array{Float64}(undef, length(tv), 6)\n",
    "earth_jpl = Array{Float64}(undef, length(tv), 6)\n",
    "moon_jpl = Array{Float64}(undef, length(tv), 6)\n",
    "for i in eachindex(tv)\n",
    "    tv_et[i] = julian2etsecs(tv[i])\n",
    "    apophis_jpl199[i,:] .= Apophis.kmsec2auday( Apophis.apophis_pv_199(tv_et[i]) )\n",
    "    apophis_jpl197[i,:] .= Apophis.kmsec2auday( Apophis.apophis_pv_197(tv_et[i]) )\n",
    "    earth_jpl[i,:] .= Apophis.kmsec2auday( Apophis.earth_pv(tv_et[i]) )\n",
    "    moon_jpl[i,:] .= Apophis.kmsec2auday( Apophis.moon_pv(tv_et[i]) )\n",
    "end"
   ]
  },
  {
   "cell_type": "code",
   "execution_count": null,
   "metadata": {},
   "outputs": [],
   "source": [
    "apophis.t0, apophis.t[1:2], (tv[1:2].-jd0)/86400"
   ]
  },
  {
   "cell_type": "code",
   "execution_count": null,
   "metadata": {},
   "outputs": [],
   "source": [
    "#A2_lsqfit_deldop = A2_lsqfit_del\n",
    "apophis_ti = [apophis(tv[i]-J2000)[j](A2_JPL) for i in eachindex(tv), j in 1:6];\n",
    "#apophis_ti = [apophis(tv[i])[j]() for i in eachindex(tv), j in 1:6];\n",
    "earth_ti = [ss16asteph_et(tv_et[i])[j] for i in eachindex(tv), j in union(3*4-2:3*4,3*(27+4)-2:3*(27+4))];\n",
    "moon_ti = [ss16asteph_et(tv_et[i])[j] for i in eachindex(tv), j in union(3*5-2:3*5,3*(27+5)-2:3*(27+5))];"
   ]
  },
  {
   "cell_type": "code",
   "execution_count": null,
   "metadata": {},
   "outputs": [],
   "source": [
    "1e3*au*(apophis_ti - apophis_jpl199) #m, m/day"
   ]
  },
  {
   "cell_type": "code",
   "execution_count": null,
   "metadata": {},
   "outputs": [],
   "source": [
    "1e3au*(earth_ti - earth_jpl) #m, m/day"
   ]
  },
  {
   "cell_type": "code",
   "execution_count": null,
   "metadata": {},
   "outputs": [],
   "source": [
    "1e3au*(moon_ti - moon_jpl) ##m, m/day"
   ]
  },
  {
   "cell_type": "code",
   "execution_count": null,
   "metadata": {},
   "outputs": [],
   "source": [
    "x_ae_ti = apophis_ti - earth_ti;"
   ]
  },
  {
   "cell_type": "code",
   "execution_count": null,
   "metadata": {},
   "outputs": [],
   "source": [
    "x_ae_jpl = apophis_jpl199 - earth_jpl;"
   ]
  },
  {
   "cell_type": "code",
   "execution_count": null,
   "metadata": {},
   "outputs": [],
   "source": [
    "r(x,y,z) = sqrt(x^2 + y^2 + z^2)\n",
    "vr(x,y,z,u,v,w) = (x*u + y*v + z*w)/r(x,y,z)\n",
    "\n",
    "r_ae_ti = r.(x_ae_ti[:,1], x_ae_ti[:,2], x_ae_ti[:,3])\n",
    "vr_ae_ti = vr.( x_ae_ti[:,1], x_ae_ti[:,2], x_ae_ti[:,3], x_ae_ti[:,4], x_ae_ti[:,5], x_ae_ti[:,6] )\n",
    "\n",
    "r_ae_jpl = r.(x_ae_jpl[:,1], x_ae_jpl[:,2], x_ae_jpl[:,3])\n",
    "vr_ae_jpl = vr.( x_ae_jpl[:,1], x_ae_jpl[:,2], x_ae_jpl[:,3], x_ae_jpl[:,4], x_ae_jpl[:,5], x_ae_jpl[:,6] );"
   ]
  },
  {
   "cell_type": "code",
   "execution_count": null,
   "metadata": {
    "scrolled": true
   },
   "outputs": [],
   "source": [
    "#tve = range(tv[1], tv[end], length=2000)\n",
    "#tvemin, tvemax = minmax(ss16asteph_et.t0+ss16asteph_et.t[1], ss16asteph_et.t0+ss16asteph_et.t[end])\n",
    "tvemin, tvemax = minmax((apophis.t0+apophis.t[1])*daysec, (apophis.t0+apophis.t[end])*daysec)\n",
    "tve = range(tvemin+1, tvemax-1, length=2000)#2000)\n",
    "#tve = range(ss16asteph.t[1], ss16asteph.t[1]+yr, length=50000)"
   ]
  },
  {
   "cell_type": "code",
   "execution_count": null,
   "metadata": {},
   "outputs": [],
   "source": [
    "julian2datetime.(J2000 .+ tve./86400)"
   ]
  },
  {
   "cell_type": "code",
   "execution_count": null,
   "metadata": {},
   "outputs": [],
   "source": [
    "sun_ti_e = [ss16asteph_et(tve[i])[j] for i in eachindex(tve), j in union(3*1-2:3*1,3*(27+1)-2:3*(27+1))]\n",
    "sun_jpl_e = Array{Float64}(undef, length(tve), 6)\n",
    "mercury_ti_e = [ss16asteph_et(tve[i])[j] for i in eachindex(tve), j in union(3*2-2:3*2,3*(27+2)-2:3*(27+2))]\n",
    "mercury_jpl_e = Array{Float64}(undef, length(tve), 6)\n",
    "venus_ti_e = [ss16asteph_et(tve[i])[j] for i in eachindex(tve), j in union(3*3-2:3*3,3*(27+3)-2:3*(27+3))]\n",
    "venus_jpl_e = Array{Float64}(undef, length(tve), 6)\n",
    "earth_ti_e = [ss16asteph_et(tve[i])[j] for i in eachindex(tve), j in union(3*4-2:3*4,3*(27+4)-2:3*(27+4))]\n",
    "earth_jpl_e = Array{Float64}(undef, length(tve), 6)\n",
    "moon_ti_e = [ss16asteph_et(tve[i])[j] for i in eachindex(tve), j in union(3*5-2:3*5,3*(27+5)-2:3*(27+5))]\n",
    "moon_jpl_e = Array{Float64}(undef, length(tve), 6)\n",
    "#ceres_ti_e = [ss16asteph_et(tve[i])[j] for i in eachindex(tve), j in union(3*12-2:3*12,3*(27+12)-2:3*(27+12))]\n",
    "#ceres_jpl_e = Array{Float64}(undef, length(tve), 6)\n",
    "mars_ti_e = [ss16asteph_et(tve[i])[j] for i in eachindex(tve), j in union(3*6-2:3*6,3*(27+6)-2:3*(27+6))]\n",
    "mars_jpl_e = Array{Float64}(undef, length(tve), 6)\n",
    "jupiter_ti_e = [ss16asteph_et(tve[i])[j] for i in eachindex(tve), j in union(3*7-2:3*7,3*(27+7)-2:3*(27+7))]\n",
    "jupiter_jpl_e = Array{Float64}(undef, length(tve), 6)\n",
    "saturn_ti_e = [ss16asteph_et(tve[i])[j] for i in eachindex(tve), j in union(3*8-2:3*8,3*(27+8)-2:3*(27+8))]\n",
    "saturn_jpl_e = Array{Float64}(undef, length(tve), 6)\n",
    "pluto_ti_e = [ss16asteph_et(tve[i])[j] for i in eachindex(tve), j in union(3*11-2:3*11,3*(27+11)-2:3*(27+11))]\n",
    "pluto_jpl_e = Array{Float64}(undef, length(tve), 6)\n",
    "for i in eachindex(tve)\n",
    "    tve_et_i = tve[i]\n",
    "    sun_jpl_e[i,:] .= Apophis.kmsec2auday( Apophis.sun_pv(tve_et_i) )\n",
    "    mercury_jpl_e[i,:] .= Apophis.kmsec2auday( Apophis.getpv(1, 0, tve_et_i) )\n",
    "    venus_jpl_e[i,:] .= Apophis.kmsec2auday( Apophis.getpv(2, 0, tve_et_i) )\n",
    "    earth_jpl_e[i,:] .= Apophis.kmsec2auday( Apophis.earth_pv(tve_et_i) )\n",
    "    moon_jpl_e[i,:] .= Apophis.kmsec2auday( Apophis.moon_pv(tve_et_i) )\n",
    "    #ceres_jpl_e[i,:] .= Apophis.kmsec2auday( Apophis.getpv(2000001, 0, tve_et_i) )\n",
    "    mars_jpl_e[i,:] .= Apophis.kmsec2auday( Apophis.getpv(4, 0, tve_et_i) )\n",
    "    jupiter_jpl_e[i,:] .= Apophis.kmsec2auday( Apophis.getpv(5, 0, tve_et_i) )\n",
    "    saturn_jpl_e[i,:] .= Apophis.kmsec2auday( Apophis.getpv(6, 0, tve_et_i) )\n",
    "    pluto_jpl_e[i,:] .= Apophis.kmsec2auday( Apophis.getpv(9, 0, tve_et_i) )\n",
    "end"
   ]
  },
  {
   "cell_type": "code",
   "execution_count": null,
   "metadata": {},
   "outputs": [],
   "source": [
    "apophis_ti_e = [apophis(tve[i]./86400)[j]( A2_JPL ) for i in eachindex(tve), j in 1:6];\n",
    "apophis_ti_e_ = [apophis(tve[i]./86400)[j]( A2_lsqfit_del ) for i in eachindex(tve), j in 1:6];\n",
    "#apophis_ti_e = [apophis_p24y(tve[i]./86400)[j]( A2_JPL ) for i in eachindex(tve), j in 1:6];\n",
    "#apophis_ti_e_ = [apophis_p24y(tve[i]./86400)[j]( A2_lsqfit_del ) for i in eachindex(tve), j in 1:6];\n",
    "\n",
    "apophis_jpl197_e = Array{Float64}(undef, length(tve), 6)\n",
    "apophis_jpl199_e = Array{Float64}(undef, length(tve), 6)\n",
    "for i in eachindex(tve)\n",
    "    tve_et_i = tve[i]\n",
    "    apophis_jpl199_e[i,:] .= Apophis.kmsec2auday( Apophis.apophis_pv_199(tve_et_i) )\n",
    "    apophis_jpl197_e[i,:] .= Apophis.kmsec2auday( Apophis.apophis_pv_197(tve_et_i) )\n",
    "end"
   ]
  },
  {
   "cell_type": "code",
   "execution_count": null,
   "metadata": {},
   "outputs": [],
   "source": []
  },
  {
   "cell_type": "code",
   "execution_count": null,
   "metadata": {},
   "outputs": [],
   "source": [
    "plot( tve, 1000au*(apophis_ti_e .- apophis_jpl199_e)[:,1], label=\"x\")#, marker=:cross)\n",
    "plot!(tve, 1000au*(apophis_ti_e .- apophis_jpl199_e)[:,2], label=\"y\")#, marker=:cross)\n",
    "plot!(tve, 1000au*(apophis_ti_e .- apophis_jpl199_e)[:,3], label=\"z\", leg=:bottomleft)#, marker=:cross)\n",
    "title!(\"Apophis: diff. in barycentric position vs JPL#197 (A_2=0)\")\n",
    "ylabel!(\"Apophis.jl - JPL#197 [m]\")\n",
    "xlabel!(\"Calendar date (TDB)\")\n",
    "xticks!(tvemin:daysec*5yr:tvemax, string.(Date.(julian2datetime.((J2000+tvemin/86400):5yr:(J2000+tvemax/86400)))))\n",
    "#ylims!(-500000,500000)"
   ]
  },
  {
   "cell_type": "code",
   "execution_count": null,
   "metadata": {},
   "outputs": [],
   "source": []
  },
  {
   "cell_type": "code",
   "execution_count": null,
   "metadata": {},
   "outputs": [],
   "source": [
    "plot( tve, 1000au*(apophis_ti_e_ .- apophis_jpl199_e)[:,1], label=\"x\")#, marker=:cross)\n",
    "plot!(tve, 1000au*(apophis_ti_e_ .- apophis_jpl199_e)[:,2], label=\"y\")#, marker=:cross)\n",
    "plot!(tve, 1000au*(apophis_ti_e_ .- apophis_jpl199_e)[:,3], label=\"z\", leg=:bottomleft)#, marker=:cross)\n",
    "title!(\"Apophis: diff. in barycentric position vs JPL#199\")\n",
    "ylabel!(\"Apophis.jl - JPL#199 [m]\")\n",
    "xlabel!(\"Julian date (TDB)\")\n",
    "xticks!(tvemin:5daysec*yr:tvemax, string.(Date.(julian2datetime.((J2000+tvemin/86400):5yr:(J2000+tvemax/86400)))))\n",
    "ylims!(-500,500)"
   ]
  },
  {
   "cell_type": "code",
   "execution_count": null,
   "metadata": {},
   "outputs": [],
   "source": [
    "plot( tve, 1000au*(apophis_ti_e_ .- apophis_jpl199_e)[:,1], label=\"x\")#, marker=:cross)\n",
    "plot!(tve, 1000au*(apophis_ti_e_ .- apophis_jpl199_e)[:,2], label=\"y\")#, marker=:cross)\n",
    "plot!(tve, 1000au*(apophis_ti_e_ .- apophis_jpl199_e)[:,3], label=\"z\", leg=:bottomleft)#, marker=:cross)\n",
    "title!(\"Apophis: diff. in barycentric position vs JPL#199\")\n",
    "ylabel!(\"Apophis.jl - JPL#199 [m]\")\n",
    "xlabel!(\"Julian date (TDB)\")\n",
    "xticks!(tvemin:5daysec*yr:tvemax, string.(Date.(julian2datetime.((J2000+tvemin/86400):5yr:(J2000+tvemax/86400)))))\n",
    "#ylims!(-500,500)"
   ]
  },
  {
   "cell_type": "code",
   "execution_count": null,
   "metadata": {},
   "outputs": [],
   "source": [
    "plot( tve, (1e6au/daysec)*(apophis_ti_e .- apophis_jpl199_e)[:,4], label=\"x\")#, marker=:cross)\n",
    "plot!(tve, (1e6au/daysec)*(apophis_ti_e .- apophis_jpl199_e)[:,5], label=\"y\")#, marker=:cross)\n",
    "plot!(tve, (1e6au/daysec)*(apophis_ti_e .- apophis_jpl199_e)[:,6], label=\"z\", leg=:bottomleft)#, marker=:cross)\n",
    "title!(\"Apophis: diff. in barycentric position vs JPL#199\")\n",
    "ylabel!(\"Apophis.jl - JPL#199 [mm/s]\")\n",
    "xlabel!(\"Julian date (TDB)\")\n",
    "xticks!(tvemin:5daysec*yr:tvemax, string.(Date.(julian2datetime.((J2000+tvemin/86400):5yr:(J2000+tvemax/86400)))))\n",
    "#ylims!(-500,500)"
   ]
  },
  {
   "cell_type": "code",
   "execution_count": null,
   "metadata": {},
   "outputs": [],
   "source": [
    "PlanetaryEphemeris.RE"
   ]
  },
  {
   "cell_type": "markdown",
   "metadata": {},
   "source": [
    "- check ~2017 close approach with Venus?"
   ]
  },
  {
   "cell_type": "code",
   "execution_count": null,
   "metadata": {},
   "outputs": [],
   "source": [
    "plot( tve, 1000au*(apophis_ti_e .- apophis_jpl199_e)[:,1], label=\"x\")#, marker=:cross)\n",
    "plot!(tve, 1000au*(apophis_ti_e .- apophis_jpl199_e)[:,2], label=\"y\")#, marker=:cross)\n",
    "plot!(tve, 1000au*(apophis_ti_e .- apophis_jpl199_e)[:,3], label=\"z\", leg=:bottomleft)#, marker=:cross)\n",
    "title!(\"Apophis: diff. in barycentric position vs JPL#199\")\n",
    "ylabel!(\"Apophis.jl - JPL#199 [m]\")\n",
    "xlabel!(\"Julian date (TDB)\")\n",
    "xticks!(tvemin:daysec*yr:tvemax, string.(Date.(julian2datetime.((J2000+tvemin/86400):yr:(J2000+tvemax/86400)))))"
   ]
  },
  {
   "cell_type": "code",
   "execution_count": null,
   "metadata": {},
   "outputs": [],
   "source": [
    "indastn = 13\n",
    "ast2_ti_e = [ss16asteph(tve[i])[j] for i in eachindex(tve), j in union(3*indastn-2:3*indastn,3*(27+indastn)-2:3*(27+indastn))]\n",
    "indastn = 14\n",
    "ast3_ti_e = [ss16asteph(tve[i])[j] for i in eachindex(tve), j in union(3*indastn-2:3*indastn,3*(27+indastn)-2:3*(27+indastn))]\n",
    "indastn = 15\n",
    "ast4_ti_e = [ss16asteph(tve[i])[j] for i in eachindex(tve), j in union(3*indastn-2:3*indastn,3*(27+indastn)-2:3*(27+indastn))]\n",
    "indastn = 26\n",
    "ast15_ti_e = [ss16asteph(tve[i])[j] for i in eachindex(tve), j in union(3*indastn-2:3*indastn,3*(27+indastn)-2:3*(27+indastn))]\n",
    "indastn = 27\n",
    "ast16_ti_e = [ss16asteph(tve[i])[j] for i in eachindex(tve), j in union(3*indastn-2:3*indastn,3*(27+indastn)-2:3*(27+indastn))]\n",
    ";"
   ]
  },
  {
   "cell_type": "code",
   "execution_count": null,
   "metadata": {},
   "outputs": [],
   "source": [
    "xap = apophis_ti_e[:,1]\n",
    "yap = apophis_ti_e[:,2]\n",
    "zap = apophis_ti_e[:,3]\n",
    "\n",
    "xsu = sun_ti_e[:,1]\n",
    "ysu = sun_ti_e[:,2]\n",
    "zsu = sun_ti_e[:,3]\n",
    "\n",
    "xea = earth_ti_e[:,1]\n",
    "yea = earth_ti_e[:,2]\n",
    "zea = earth_ti_e[:,3]\n",
    "\n",
    "xpl = pluto_ti_e[:,1]\n",
    "ypl = pluto_ti_e[:,2]\n",
    "zpl = pluto_ti_e[:,3]\n",
    "\n",
    "xce = ceres_ti_e[:,1]\n",
    "yce = ceres_ti_e[:,2]\n",
    "zce = ceres_ti_e[:,3]\n",
    "\n",
    "xast2 = ast2_ti_e[:,1]\n",
    "yast2 = ast2_ti_e[:,2]\n",
    "zast2 = ast2_ti_e[:,3]\n",
    "\n",
    "xast3 = ast3_ti_e[:,1]\n",
    "yast3 = ast3_ti_e[:,2]\n",
    "zast3 = ast3_ti_e[:,3]\n",
    "\n",
    "xast4 = ast4_ti_e[:,1]\n",
    "yast4 = ast4_ti_e[:,2]\n",
    "zast4 = ast4_ti_e[:,3]\n",
    "\n",
    "xast15 = ast15_ti_e[:,1]\n",
    "yast15 = ast15_ti_e[:,2]\n",
    "zast15 = ast15_ti_e[:,3]\n",
    "\n",
    "xast16 = ast16_ti_e[:,1]\n",
    "yast16 = ast16_ti_e[:,2]\n",
    "zast16 = ast16_ti_e[:,3]\n",
    "\n",
    "dasu = sqrt.((xap.-xsu).^2 .+ (yap.-ysu).^2 .+ (zap.-zsu).^2)\n",
    "dapl = sqrt.((xap.-xpl).^2 .+ (yap.-ypl).^2 .+ (zap.-zpl).^2)\n",
    "dace = sqrt.((xap.-xce).^2 .+ (yap.-yce).^2 .+ (zap.-zce).^2)\n",
    "daast2 = sqrt.((xap.-xast2).^2 .+ (yap.-yast2).^2 .+ (zap.-zast2).^2)\n",
    "daast3 = sqrt.((xap.-xast3).^2 .+ (yap.-yast3).^2 .+ (zap.-zast3).^2)\n",
    "daast4 = sqrt.((xap.-xast4).^2 .+ (yap.-yast4).^2 .+ (zap.-zast4).^2)\n",
    "daast15 = sqrt.((xap.-xast15).^2 .+ (yap.-yast15).^2 .+ (zap.-zast15).^2)\n",
    "daast16 = sqrt.((xap.-xast16).^2 .+ (yap.-yast16).^2 .+ (zap.-zast16).^2)\n",
    "\n",
    "a_Yark = abs.((A2_JPL*1e-14) ./ (dasu.^2))\n",
    "a_G_pl = abs.(μ[11]./(dapl.^2))\n",
    "a_G_ce = abs.(μ[12]./(dace.^2))\n",
    "a_G_ast2 = abs.(μ[13]./(daast2.^2))\n",
    "a_G_ast3 = abs.(μ[14]./(daast3.^2))\n",
    "a_G_ast4 = abs.(μ[15]./(daast4.^2))\n",
    "a_G_ast15 = abs.(μ[11+15]./(daast15.^2))\n",
    "a_G_ast16 = abs.(μ[11+16]./(daast16.^2))\n",
    ";"
   ]
  },
  {
   "cell_type": "code",
   "execution_count": null,
   "metadata": {},
   "outputs": [],
   "source": [
    "plot( tve, 1e14(a_Yark), label=\"Yarkovsky acc.\")\n",
    "plot!(tve, 1e14(a_G_ce), label=\"Ceres\") #, leg=:bottomleft)\n",
    "plot!(tve, 1e14(a_G_ast2), label=\"Vesta\")\n",
    "plot!(tve, 1e14(a_G_ast3), label=\"Pallas\")\n",
    "plot!(tve, 1e14(a_G_ast4), label=\"Hygiea\")\n",
    "plot!(tve, 1e14(a_G_pl), label=\"Pluto\")\n",
    "#plot!(tve, 1e14(a_G_ast15), label=\"Patientia\")\n",
    "#plot!(tve, 1e14(a_G_ast16), label=\"Sylvia\")\n",
    "#title!(\"Accelerations: Yarkovsky, Pluto, asteroids\")\n",
    "ylabel!(\"acceleration mag. [ x10^{14} au day^{-2}]\")\n",
    "xlabel!(\"Calendar date\")\n",
    "#yticks!(0.0:0.25:10.0)\n",
    "xticks!(tvemin:4daysec*yr:tvemax, string.(Date.(julian2datetime.((J2000+tvemin/86400):4yr:(J2000+tvemax/86400)))))\n",
    "#savefig(\"~/phdthesis/fig5-5.pdf\")"
   ]
  },
  {
   "cell_type": "code",
   "execution_count": null,
   "metadata": {},
   "outputs": [],
   "source": []
  },
  {
   "cell_type": "code",
   "execution_count": null,
   "metadata": {},
   "outputs": [],
   "source": [
    "#plotly()"
   ]
  },
  {
   "cell_type": "code",
   "execution_count": null,
   "metadata": {},
   "outputs": [],
   "source": [
    "gc_range_ti_e = 1e3au*sqrt.((apophis_ti_e[:,1] .- earth_ti_e[:,1]).^2 .+ (apophis_ti_e[:,2] .- earth_ti_e[:,2]).^2 .+ (apophis_ti_e[:,3] .- earth_ti_e[:,3]).^2)\n",
    "gc_range_jpl_e = 1e3au*sqrt.((apophis_jpl199_e[:,1] .- earth_jpl_e[:,1]).^2 .+ (apophis_jpl199_e[:,2] .- earth_jpl_e[:,2]).^2 .+ (apophis_jpl199_e[:,3] .- earth_jpl_e[:,3]).^2);\n",
    "diff_gc_range_e = gc_range_jpl_e .- gc_range_ti_e;\n",
    "\n",
    "bc_range_ti_e = 1e3au*sqrt.(apophis_ti_e[:,1].^2 .+ apophis_ti_e[:,2].^2 .+ apophis_ti_e[:,3].^2)\n",
    "bc_range_jpl_e = 1e3au*sqrt.(apophis_jpl199_e[:,1].^2 .+ apophis_jpl199_e[:,2].^2 .+ apophis_jpl199_e[:,3].^2)\n",
    "diff_bc_range_e = bc_range_jpl_e .- bc_range_ti_e;"
   ]
  },
  {
   "cell_type": "code",
   "execution_count": null,
   "metadata": {},
   "outputs": [],
   "source": []
  },
  {
   "cell_type": "code",
   "execution_count": null,
   "metadata": {},
   "outputs": [],
   "source": [
    "plot( tve, gc_range_ti_e)\n",
    "plot!( tve, gc_range_jpl_e)\n",
    "title!(\"Apophis: geocentric range\")\n",
    "ylabel!(\"r_A-r_E [m]\")\n",
    "xlabel!(\"Julian date (TDB)\")\n",
    "xticks!(tvemin:4daysec*yr:tvemax, string.(Date.(julian2datetime.((J2000+tvemin/86400):4yr:(J2000+tvemax/86400)))))"
   ]
  },
  {
   "cell_type": "code",
   "execution_count": null,
   "metadata": {},
   "outputs": [],
   "source": [
    "plot( tve, bc_range_ti_e)\n",
    "plot!( tve, bc_range_jpl_e)\n",
    "title!(\"Apophis: barycentric range\")\n",
    "ylabel!(\"r_A(JPL#199)-r_A(Apophis.jl) [m]\")\n",
    "xlabel!(\"Julian date (TDB)\")\n",
    "xticks!(tvemin:4daysec*yr:tvemax, string.(Date.(julian2datetime.((J2000+tvemin/86400):4yr:(J2000+tvemax/86400)))))"
   ]
  },
  {
   "cell_type": "code",
   "execution_count": null,
   "metadata": {},
   "outputs": [],
   "source": [
    "#plotly()"
   ]
  },
  {
   "cell_type": "code",
   "execution_count": null,
   "metadata": {},
   "outputs": [],
   "source": [
    "plot( tve, diff_gc_range_e, label=\"r\")#, marker=:cross)\n",
    "title!(\"Apophis: diff. in geocentric range vs JPL#199\")\n",
    "ylabel!(\"Apophis.jl - JPL#199 [m]\")\n",
    "xlabel!(\"Julian date (TDB)\")\n",
    "xticks!(tvemin:4daysec*yr:tvemax, string.(Date.(julian2datetime.((J2000+tvemin/86400):4yr:(J2000+tvemax/86400)))))\n",
    "ylims!(-500,500)"
   ]
  },
  {
   "cell_type": "code",
   "execution_count": null,
   "metadata": {},
   "outputs": [],
   "source": [
    "plot( tve, (1e6au/86400)*(apophis_ti_e .- apophis_jpl199_e)[:,4], label=\"vx\") #, marker=:cross)\n",
    "plot!(tve, (1e6au/86400)*(apophis_ti_e .- apophis_jpl199_e)[:,5], label=\"vy\") #, marker=:cross)\n",
    "plot!(tve, (1e6au/86400)*(apophis_ti_e .- apophis_jpl199_e)[:,6], label=\"vz\", leg=:bottomleft) #, marker=:cross)\n",
    "title!(\"Apophis: diff. in barycentric velocity vs JPL#199\")\n",
    "ylabel!(\"Apophis.jl - DE430 [mm/s]\")\n",
    "xlabel!(\"Julian date (TDB)\")\n",
    "#ylims!(-0.0002, 0.0002)\n",
    "xlims!(tvemin, tvemax)\n",
    "xticks!(tvemin:4daysec*yr:tvemax, string.(Date.(julian2datetime.((J2000+tvemin/86400):4yr:(J2000+tvemax/86400)))))\n",
    "ylims!(-0.1,0.1)"
   ]
  },
  {
   "cell_type": "code",
   "execution_count": null,
   "metadata": {},
   "outputs": [],
   "source": []
  },
  {
   "cell_type": "markdown",
   "metadata": {},
   "source": [
    "## Propagation up to 2021/2029"
   ]
  },
  {
   "cell_type": "code",
   "execution_count": null,
   "metadata": {},
   "outputs": [],
   "source": [
    "@time sol_p24y = Apophis.apophisinteg(dynamics, Apophis.rvelea, q0, t0, t0+24yr, Apophis.order, Apophis.abstol, params; maxsteps=maxsteps);"
   ]
  },
  {
   "cell_type": "code",
   "execution_count": null,
   "metadata": {},
   "outputs": [],
   "source": [
    "sol = (\n",
    "    tv1 = sol_p24y[1][:],\n",
    "    xv1 = sol_p24y[2][:,:],\n",
    "    tvS1 = sol_p24y[3][:],\n",
    "    xvS1 = sol_p24y[4][:,:],\n",
    "    gvS1 = sol_p24y[5][:]\n",
    ");"
   ]
  },
  {
   "cell_type": "code",
   "execution_count": null,
   "metadata": {},
   "outputs": [],
   "source": [
    "using LinearAlgebra: norm, dot, cross"
   ]
  },
  {
   "cell_type": "code",
   "execution_count": null,
   "metadata": {},
   "outputs": [],
   "source": [
    "julian2datetime.( jd0 .+ sol.tvS1(-5.602) )[end-30:end]"
   ]
  },
  {
   "cell_type": "code",
   "execution_count": null,
   "metadata": {},
   "outputs": [],
   "source": [
    "# Apophis geocentric range at time t\n",
    "function rea(x, params, t)\n",
    "    ss16asteph_t = params[1](Taylor1(t.coeffs, 30))\n",
    "    xe = ss16asteph_t[union(3ea-2:3ea,3(Apophis.N-1+ea)-2:3(Apophis.N-1+ea))]\n",
    "    return sqrt( (x[1]-xe[1])^2 + (x[2]-xe[2])^2 + (x[3]-xe[3])^2 )\n",
    "end"
   ]
  },
  {
   "cell_type": "code",
   "execution_count": null,
   "metadata": {},
   "outputs": [],
   "source": [
    "map(  x->rea(sol.xvS1[x,:], params, sol.tvS1[x]), (length(sol.tvS1)-30):length(sol.tvS1)  )(A2_lsqfit_deldop)"
   ]
  },
  {
   "cell_type": "code",
   "execution_count": null,
   "metadata": {},
   "outputs": [],
   "source": [
    "#geocentric range at closest approach (Earth radii): October 2020\n",
    "au*rea(sol.xvS1[27,:], params, sol.tvS1[27])/PlanetaryEphemeris.RE"
   ]
  },
  {
   "cell_type": "code",
   "execution_count": null,
   "metadata": {},
   "outputs": [],
   "source": [
    "#geocentric range at closest approach (Earth radii): March 2021\n",
    "au*rea(sol.xvS1[29,:], params, sol.tvS1[29])/PlanetaryEphemeris.RE"
   ]
  },
  {
   "cell_type": "code",
   "execution_count": null,
   "metadata": {
    "scrolled": true
   },
   "outputs": [],
   "source": [
    "#geocentric range at closest approach (Earth radii): April 2029\n",
    "au*rea(sol.xvS1[47,:], params, sol.tvS1[47])(A2_lsqfit_deldop)/PlanetaryEphemeris.RE"
   ]
  },
  {
   "cell_type": "code",
   "execution_count": null,
   "metadata": {
    "scrolled": true
   },
   "outputs": [],
   "source": [
    "#diff. in geocentric range wrt #199 at closest approach (km): April 2029\n",
    "au*(rea(sol.xvS1[47,:], params, sol.tvS1[47])(A2_JPL)-0.000252172816142565)"
   ]
  },
  {
   "cell_type": "code",
   "execution_count": null,
   "metadata": {},
   "outputs": [],
   "source": [
    "#solution #199 nominal geocentric range at April 2029 closest approach\n",
    "d_CA_2029_JPL199 = 0.000252172816142565"
   ]
  },
  {
   "cell_type": "code",
   "execution_count": null,
   "metadata": {},
   "outputs": [],
   "source": []
  },
  {
   "cell_type": "code",
   "execution_count": null,
   "metadata": {},
   "outputs": [],
   "source": [
    "apophis_2029 = sol.xvS1[47,1:6];"
   ]
  },
  {
   "cell_type": "code",
   "execution_count": null,
   "metadata": {},
   "outputs": [],
   "source": [
    "t_2029 = sol.tvS1[47];"
   ]
  },
  {
   "cell_type": "code",
   "execution_count": null,
   "metadata": {},
   "outputs": [],
   "source": [
    "julian2datetime(jd0+t_2029(A2_JPL))"
   ]
  },
  {
   "cell_type": "code",
   "execution_count": null,
   "metadata": {},
   "outputs": [],
   "source": [
    "ss16asteph_2029 = params[1](t_2029)\n",
    "xe_2029 = ss16asteph_2029[union(3ea-2:3ea,3(Apophis.N-1+ea)-2:3(Apophis.N-1+ea))];"
   ]
  },
  {
   "cell_type": "code",
   "execution_count": null,
   "metadata": {},
   "outputs": [],
   "source": [
    "xae_2029 = apophis_2029-xe_2029; # Apophis geocentric position/velocity (au, au/day)"
   ]
  },
  {
   "cell_type": "code",
   "execution_count": null,
   "metadata": {},
   "outputs": [],
   "source": [
    "# Apophis geocentric range at 2029 closest approach (au)\n",
    "rae_2029 = sqrt(xae_2029[1]^2 + xae_2029[2]^2 + xae_2029[3]^2) #(A2_JPL)"
   ]
  },
  {
   "cell_type": "code",
   "execution_count": null,
   "metadata": {},
   "outputs": [],
   "source": [
    "σ_A2_JPL = 2.201"
   ]
  },
  {
   "cell_type": "code",
   "execution_count": null,
   "metadata": {},
   "outputs": [],
   "source": [
    "# 3*σ_A2 diff in time of closest approach (seconds)\n",
    "daysec*(t_2029(A2_JPL+3σ_A2_JPL)-t_2029(A2_JPL-3σ_A2_JPL))"
   ]
  },
  {
   "cell_type": "code",
   "execution_count": null,
   "metadata": {},
   "outputs": [],
   "source": [
    "# 3*σ_A2 diff in closest approach distance (km)\n",
    "au*(rae_2029(A2_JPL+3σ_A2_JPL)-rae_2029(A2_JPL-3σ_A2_JPL))"
   ]
  },
  {
   "cell_type": "code",
   "execution_count": null,
   "metadata": {},
   "outputs": [],
   "source": [
    "au*rae_2029(A2_JPL)"
   ]
  },
  {
   "cell_type": "code",
   "execution_count": null,
   "metadata": {},
   "outputs": [],
   "source": [
    "#difference in time of April 2029 closest approach wrt JPL#199 (seconds)\n",
    "(  ( jd0+t_2029(A2_JPL) ) - 2462240.407032288  )*daysec"
   ]
  },
  {
   "cell_type": "code",
   "execution_count": null,
   "metadata": {
    "scrolled": true
   },
   "outputs": [],
   "source": [
    "#diff. in geocentric range wrt #199 at closest approach (meters): April 2029\n",
    "1e3au*(rea(sol.xvS1[47,:], params, sol.tvS1[47])(A2_JPL)-d_CA_2029_JPL199)"
   ]
  },
  {
   "cell_type": "code",
   "execution_count": null,
   "metadata": {},
   "outputs": [],
   "source": [
    "# geocentric radial velocity at 2029 closest approach in au/day (should be close to zero)\n",
    "r_dot_v = (xae_2029[1]*xae_2029[4]+xae_2029[2]*xae_2029[5]+xae_2029[3]*xae_2029[6])/rae_2029"
   ]
  },
  {
   "cell_type": "code",
   "execution_count": null,
   "metadata": {},
   "outputs": [],
   "source": [
    "# geocentric radial velocity at 2029 closest approach in mm/s\n",
    "1e6au*r_dot_v/daysec"
   ]
  },
  {
   "cell_type": "markdown",
   "metadata": {},
   "source": [
    "# 2029 close approach: B-plane"
   ]
  },
  {
   "cell_type": "code",
   "execution_count": null,
   "metadata": {},
   "outputs": [],
   "source": [
    "a_2029 = semimajoraxis(xae_2029...,μ[ea], 0.0)"
   ]
  },
  {
   "cell_type": "code",
   "execution_count": null,
   "metadata": {},
   "outputs": [],
   "source": [
    "# asymptotic inbound velocity v_\\infty (au/day)\n",
    "v_infty = sqrt(μ[ea]/(-a_2029))"
   ]
  },
  {
   "cell_type": "code",
   "execution_count": null,
   "metadata": {},
   "outputs": [],
   "source": [
    "# asymptotic inbound velocity v_\\infty (km/sec)\n",
    "# k-th order term has units (km/sec) * (10^-14 au/day^2)^{-k}\n",
    "au*v_infty/daysec"
   ]
  },
  {
   "cell_type": "code",
   "execution_count": null,
   "metadata": {},
   "outputs": [],
   "source": [
    "# h = r × v\n",
    "hvec_2029 = cross(xae_2029[1:3], xae_2029[4:6])"
   ]
  },
  {
   "cell_type": "code",
   "execution_count": null,
   "metadata": {},
   "outputs": [],
   "source": [
    "h_2029 = sqrt(hvec_2029[1]^2 + hvec_2029[2]^2 + hvec_2029[3]^2)"
   ]
  },
  {
   "cell_type": "code",
   "execution_count": null,
   "metadata": {},
   "outputs": [],
   "source": [
    "# Laplace-Runge-Lenz (eccentricity) vector\n",
    "# \\vec{e} = (\\vec{v} × \\vec{h})/μ - \\vec{r}/r\n",
    "evec_2029 = cross(xae_2029[4:6], hvec_2029)/μ[ea] - xae_2029[1:3]/rae_2029"
   ]
  },
  {
   "cell_type": "code",
   "execution_count": null,
   "metadata": {},
   "outputs": [],
   "source": [
    "# magnitude of eccentricity vector\n",
    "sqrt(evec_2029[1]^2 + evec_2029[2]^2 + evec_2029[3]^2)"
   ]
  },
  {
   "cell_type": "code",
   "execution_count": null,
   "metadata": {},
   "outputs": [],
   "source": [
    "# osculating eccentricity\n",
    "e_2029 = eccentricity(xae_2029..., μ[ea], 0.0)"
   ]
  },
  {
   "cell_type": "code",
   "execution_count": null,
   "metadata": {},
   "outputs": [],
   "source": [
    "# osculating eccentricity\n",
    "i_2029 = inclination(xae_2029...)"
   ]
  },
  {
   "cell_type": "code",
   "execution_count": null,
   "metadata": {},
   "outputs": [],
   "source": [
    "# Earth heliocentric semimajor axis\n",
    "a_E = semimajoraxis(Apophis.kmsec2auday(earth_et((jd0-J2000+sol.tvS1[47]())*daysec)-sun_et((jd0-J2000+sol.tvS1[47]())*daysec))..., μ[su], 0.0)"
   ]
  },
  {
   "cell_type": "code",
   "execution_count": null,
   "metadata": {},
   "outputs": [],
   "source": [
    "# periapsis position (unit vector)\n",
    "P_v = evec_2029./e_2029;"
   ]
  },
  {
   "cell_type": "code",
   "execution_count": null,
   "metadata": {},
   "outputs": [],
   "source": [
    "# periapsis velocity (unit vector)\n",
    "Q_v = cross(hvec_2029, P_v)./h_2029;"
   ]
  },
  {
   "cell_type": "code",
   "execution_count": null,
   "metadata": {},
   "outputs": [],
   "source": [
    "#inbound asymptote direction \n",
    "S_v = (P_v + (sqrt(e_2029^2 - 1))Q_v)/e_2029"
   ]
  },
  {
   "cell_type": "code",
   "execution_count": null,
   "metadata": {},
   "outputs": [],
   "source": [
    "(1/e_2029)^2 + (sqrt(e_2029^2 - 1)/e_2029)^2"
   ]
  },
  {
   "cell_type": "code",
   "execution_count": null,
   "metadata": {},
   "outputs": [],
   "source": [
    "# B-vector: \"vector from the planet center to the intersection between the B-plane and the asymptote\"\n",
    "Bvec_2029 = cross(S_v, hvec_2029)./v_infty"
   ]
  },
  {
   "cell_type": "code",
   "execution_count": null,
   "metadata": {},
   "outputs": [],
   "source": [
    "# impact parameter B\n",
    "B_2029 = sqrt( Bvec_2029[1]^2 + Bvec_2029[2]^2 + Bvec_2029[3]^2 )"
   ]
  },
  {
   "cell_type": "code",
   "execution_count": null,
   "metadata": {},
   "outputs": [],
   "source": [
    "V_v = [zero(B_2029), zero(B_2029), -one(B_2029)]"
   ]
  },
  {
   "cell_type": "code",
   "execution_count": null,
   "metadata": {},
   "outputs": [],
   "source": [
    "T_v_unnormalized = cross(V_v, S_v)\n",
    "T_v_norm = sqrt(T_v_unnormalized[1]^2 + T_v_unnormalized[2]^2 + T_v_unnormalized[3]^2)\n",
    "T_v = T_v_unnormalized./T_v_norm"
   ]
  },
  {
   "cell_type": "code",
   "execution_count": null,
   "metadata": {},
   "outputs": [],
   "source": [
    "R_v = cross(S_v, T_v)"
   ]
  },
  {
   "cell_type": "code",
   "execution_count": null,
   "metadata": {},
   "outputs": [],
   "source": [
    "#B.R\n",
    "B_dot_R = dot(T_v, hvec_2029)/v_infty"
   ]
  },
  {
   "cell_type": "code",
   "execution_count": null,
   "metadata": {},
   "outputs": [],
   "source": [
    "#B.T\n",
    "B_dot_T = -dot(R_v, hvec_2029)/v_infty"
   ]
  },
  {
   "cell_type": "code",
   "execution_count": null,
   "metadata": {},
   "outputs": [],
   "source": [
    "B_2029"
   ]
  },
  {
   "cell_type": "code",
   "execution_count": null,
   "metadata": {},
   "outputs": [],
   "source": [
    "# Earth impact cross section; \"critical\" B\n",
    "# derived from conservation of energy and angular momentum\n",
    "#  = what impact parameter B corresponds to a grazing impact, given planet radius and mass, and asymptotic vel v_infty?\n",
    "# if actual B is equal or less to this, then impact happens\n",
    "b_E_2029 = sqrt( 1 + (2μ[ea])/((PlanetaryEphemeris.RE/au)*(v_infty)^2) )"
   ]
  },
  {
   "cell_type": "code",
   "execution_count": null,
   "metadata": {},
   "outputs": [],
   "source": [
    "fact_p = 3\n",
    "fact_m = 142\n",
    "A2v = (A2_JPL-σ_A2_JPL*fact_m):(A2_JPL+σ_A2_JPL*fact_p)"
   ]
  },
  {
   "cell_type": "code",
   "execution_count": null,
   "metadata": {},
   "outputs": [],
   "source": [
    "plot(B_dot_R.(A2v)*au/PlanetaryEphemeris.RE, B_dot_T.(A2v)*au/PlanetaryEphemeris.RE, aspectratio=1, label=\"Apophis (JT)\")\n",
    "plot!(cos.(0:0.1:2pi+0.1), sin.(0:0.1:2pi+0.1), label=\"Earth radius\")\n",
    "plot!(b_E_2029()*cos.(0:0.1:2pi+0.1), b_E_2029()*sin.(0:0.1:2pi+0.1), label=\"Earth cross section\", leg=:bottomright)\n",
    "xlabel!(\"B.R [Earth radii]\")\n",
    "ylabel!(\"B.T [Earth radii]\")\n",
    "title!(\"B-plane; v=-e_z (Farnocchia et al 2019 convention)\")\n",
    "#xlims!(-4, 3)\n",
    "#ylims!(-8, 3)"
   ]
  },
  {
   "cell_type": "code",
   "execution_count": null,
   "metadata": {},
   "outputs": [],
   "source": [
    "#B_2029.(A2v)/(PlanetaryEphemeris.RE/au)"
   ]
  },
  {
   "cell_type": "code",
   "execution_count": null,
   "metadata": {},
   "outputs": [],
   "source": [
    "plot(A2v, B_2029.(A2v)/(PlanetaryEphemeris.RE/au), label=\"B(A_2)\")\n",
    "plot!(A2v, map(x->1.0, A2v), label=\"Earth radius\")\n",
    "plot!(A2v, b_E_2029.(A2v), label=\"Earth cross section\")\n",
    "ylims!(0,12)\n",
    "xlims!(-15,1)\n",
    "ylabel!(\"B_2029 [Earth radii]\")\n",
    "xlabel!(\"A2×10^14 [au/day^2]\")\n",
    "title!(\"B as a function of A_2\")"
   ]
  },
  {
   "cell_type": "code",
   "execution_count": null,
   "metadata": {},
   "outputs": [],
   "source": [
    "# lunar distance in Earth radii\n",
    "PlanetaryEphemeris.ld/PlanetaryEphemeris.RE"
   ]
  },
  {
   "cell_type": "code",
   "execution_count": null,
   "metadata": {},
   "outputs": [],
   "source": [
    "# 2029 nominal CA distance in lunar distances\n",
    "rae_2029(A2_lsqfit_deldop)*au/PlanetaryEphemeris.ld"
   ]
  },
  {
   "cell_type": "markdown",
   "metadata": {},
   "source": [
    "# B-plane: Öpik's frame"
   ]
  },
  {
   "cell_type": "markdown",
   "metadata": {},
   "source": [
    "Valsecchi (2005): Assume that the ratio of the periods of the small body and of the Earth is $k/h$. Then, following a first encounter, after $h$ heliocentric revolutions of the small body and $k$ revolutions of the Earth, both the Earth and the small body will be back to the same position of the previous encounter, performing a resonant return."
   ]
  },
  {
   "cell_type": "code",
   "execution_count": null,
   "metadata": {},
   "outputs": [],
   "source": [
    "# Sun's barycentric cartesian state at Apophis 2029 CA as a function of A2\n",
    "xs_2029 = ss16asteph_2029[union(3su-2:3su,3(Apophis.N-1+su)-2:3(Apophis.N-1+su))];"
   ]
  },
  {
   "cell_type": "code",
   "execution_count": null,
   "metadata": {},
   "outputs": [],
   "source": [
    "# Earth's heliocentric cartesian state at Apophis 2029 CA as a function of A2\n",
    "xes_2029 = xe_2029 - xs_2029;"
   ]
  },
  {
   "cell_type": "code",
   "execution_count": null,
   "metadata": {},
   "outputs": [],
   "source": [
    "# Earth's heliocentric velocity at Apophis 2029 CA as a function of A2 (au/day)\n",
    "v_pl_2029 = xes_2029[4:6]"
   ]
  },
  {
   "cell_type": "code",
   "execution_count": null,
   "metadata": {},
   "outputs": [],
   "source": [
    "#ξ-axis is essentially the MOID (Valsecchi et al, 2003)\n",
    "ξ_v_unnormalized = cross(v_pl_2029, S_v)\n",
    "ξ_v_norm = sqrt(ξ_v_unnormalized[1]^2 + ξ_v_unnormalized[2]^2 + ξ_v_unnormalized[3]^2)\n",
    "ξ_v = ξ_v_unnormalized./ξ_v_norm"
   ]
  },
  {
   "cell_type": "code",
   "execution_count": null,
   "metadata": {},
   "outputs": [],
   "source": [
    "#ζ-axis: delay/advance in CA time (Valsecchi et al, 2003)\n",
    "ζ_v = -cross(S_v, ξ_v)"
   ]
  },
  {
   "cell_type": "code",
   "execution_count": null,
   "metadata": {},
   "outputs": [],
   "source": [
    "B_dot_ξ = dot(Bvec_2029, ξ_v);"
   ]
  },
  {
   "cell_type": "code",
   "execution_count": null,
   "metadata": {},
   "outputs": [],
   "source": [
    "B_dot_ζ = dot(Bvec_2029, ζ_v);"
   ]
  },
  {
   "cell_type": "code",
   "execution_count": null,
   "metadata": {},
   "outputs": [],
   "source": [
    "B_dot_ξ*au/PlanetaryEphemeris.RE"
   ]
  },
  {
   "cell_type": "code",
   "execution_count": null,
   "metadata": {},
   "outputs": [],
   "source": [
    "B_dot_ζ*au/PlanetaryEphemeris.RE"
   ]
  },
  {
   "cell_type": "markdown",
   "metadata": {},
   "source": [
    "# Valsecchi circles"
   ]
  },
  {
   "cell_type": "markdown",
   "metadata": {},
   "source": [
    "We compute Valsecchi circles as a function of the components of the unperturbed planetocentric velocity vector $\\vec{U}$ of Apophis in a coordinate frame $(X,Y,Z)$ such that the $Y$-axis is along the heliocentric velocity vector of the planet. It is enough to have the $U_y=U\\cos\\theta$ component and the norm $U=|\\vec{U}|$, where $\\theta$ is the angle between the $Y$-axis and $\\vec{U}$. Furthermore, $\\vec{U}$ should be in units such that the planet's heliocentric velocity is 1."
   ]
  },
  {
   "cell_type": "code",
   "execution_count": null,
   "metadata": {},
   "outputs": [],
   "source": [
    "S_v_nom = S_v(A2_lsqfit_deldop) # small-body unperturbed planetocentric velocity unit vector"
   ]
  },
  {
   "cell_type": "code",
   "execution_count": null,
   "metadata": {},
   "outputs": [],
   "source": [
    "norm(S_v_nom)"
   ]
  },
  {
   "cell_type": "code",
   "execution_count": null,
   "metadata": {},
   "outputs": [],
   "source": [
    "ves_2029 = xes_2029(A2_lsqfit_deldop)[4:6]*au/daysec # Earth's velocity, km/s\n",
    "ves_2029_norm = norm(ves_2029) # Earth's speed, km/s"
   ]
  },
  {
   "cell_type": "code",
   "execution_count": null,
   "metadata": {},
   "outputs": [],
   "source": [
    "ves_2029_unit = ves_2029/ves_2029_norm # Earth's velocity unit vector"
   ]
  },
  {
   "cell_type": "code",
   "execution_count": null,
   "metadata": {},
   "outputs": [],
   "source": [
    "# angle between Y-axis and \\vec{U}\n",
    "cosθ_ = dot(S_v_nom, ves_2029_unit)"
   ]
  },
  {
   "cell_type": "code",
   "execution_count": null,
   "metadata": {},
   "outputs": [],
   "source": [
    "v_infty_kms = v_infty(A2_lsqfit_deldop)*au/daysec # Apophis unperturbed speed, km/sec"
   ]
  },
  {
   "cell_type": "code",
   "execution_count": null,
   "metadata": {},
   "outputs": [],
   "source": [
    "# The norm of \\vec{U} in appropriate units\n",
    "U_norm_ = v_infty_kms/ves_2029_norm"
   ]
  },
  {
   "cell_type": "code",
   "execution_count": null,
   "metadata": {},
   "outputs": [],
   "source": [
    "# U_y\n",
    "U_y_ = U_norm_*cosθ_"
   ]
  },
  {
   "cell_type": "code",
   "execution_count": null,
   "metadata": {},
   "outputs": [],
   "source": [
    "R__, D__ = valsecchi_circle(U_y_, U_norm_, 7, 6)\n",
    "D_Valsecchi_7_6 = D__/(PlanetaryEphemeris.RE/au)\n",
    "R_Valsecchi_7_6 = R__/(PlanetaryEphemeris.RE/au)\n",
    "D_Valsecchi_7_6, R_Valsecchi_7_6"
   ]
  },
  {
   "cell_type": "code",
   "execution_count": null,
   "metadata": {},
   "outputs": [],
   "source": [
    "R__, D__ = valsecchi_circle(U_y_, U_norm_, 6, 5)\n",
    "D_Valsecchi_6_5 = D__/(PlanetaryEphemeris.RE/au)\n",
    "R_Valsecchi_6_5 = R__/(PlanetaryEphemeris.RE/au)\n",
    "D_Valsecchi_6_5, R_Valsecchi_6_5"
   ]
  },
  {
   "cell_type": "code",
   "execution_count": null,
   "metadata": {},
   "outputs": [],
   "source": [
    "R__, D__ = valsecchi_circle(U_y_, U_norm_, 8, 7)\n",
    "D_Valsecchi_8_7 = D__/(PlanetaryEphemeris.RE/au)\n",
    "R_Valsecchi_8_7 = R__/(PlanetaryEphemeris.RE/au)\n",
    "D_Valsecchi_8_7, R_Valsecchi_8_7"
   ]
  },
  {
   "cell_type": "code",
   "execution_count": null,
   "metadata": {},
   "outputs": [],
   "source": []
  },
  {
   "cell_type": "code",
   "execution_count": null,
   "metadata": {},
   "outputs": [],
   "source": [
    "A2_JPL"
   ]
  },
  {
   "cell_type": "code",
   "execution_count": null,
   "metadata": {},
   "outputs": [],
   "source": [
    "σ_A2_JPL"
   ]
  },
  {
   "cell_type": "code",
   "execution_count": null,
   "metadata": {},
   "outputs": [],
   "source": [
    "fact_p_ξζ = 5 #10 #30 #10\n",
    "fact_m_ξζ = 5 #10 #200 #143 #3\n",
    "A2v_ξζ = (A2_JPL-σ_A2_JPL*fact_m_ξζ):(A2_JPL+σ_A2_JPL*fact_p_ξζ)"
   ]
  },
  {
   "cell_type": "code",
   "execution_count": null,
   "metadata": {},
   "outputs": [],
   "source": [
    "plot(B_dot_ξ.(A2v_ξζ)*au/PlanetaryEphemeris.RE, B_dot_ζ.(A2v_ξζ)*au/PlanetaryEphemeris.RE, aspectratio=1, label=\"Apophis (JT)\")\n",
    "scatter!([B_dot_ξ(A2_JPL)*au/PlanetaryEphemeris.RE], [B_dot_ζ(A2_JPL)*au/PlanetaryEphemeris.RE], label=\"nominal\", marker=:xcross)\n",
    "plot!(cos.(0:0.1:2pi+0.1), sin.(0:0.1:2pi+0.1), label=\"Earth radius\")\n",
    "plot!(b_E_2029()*cos.(0:0.1:2pi+0.1), b_E_2029()*sin.(0:0.1:2pi+0.1), label=\"Earth cross section\")\n",
    "plot!(\n",
    "    R_Valsecchi_8_7*cos.(0:0.1:2pi+0.1), \n",
    "    D_Valsecchi_8_7.+R_Valsecchi_8_7*sin.(0:0.1:2pi+0.1), \n",
    "    label=\"8:7 res. Valsecchi circle\",\n",
    "    leg=:outertopright,\n",
    "    aspectratio=0.6\n",
    ")\n",
    "plot!(\n",
    "    R_Valsecchi_7_6*cos.(0:0.1:2pi+0.1), \n",
    "    D_Valsecchi_7_6.+R_Valsecchi_7_6*sin.(0:0.1:2pi+0.1), \n",
    "    label=\"7:6 res. Valsecchi circle\",\n",
    ")\n",
    "plot!(\n",
    "    R_Valsecchi_6_5*cos.(0:0.1:2pi+0.1), \n",
    "    D_Valsecchi_6_5.+R_Valsecchi_6_5*sin.(0:0.1:2pi+0.1), \n",
    "    label=\"6:5 res. Valsecchi circle\",\n",
    ")\n",
    "xlabel!(\"B.xi [Earth radii]\")\n",
    "ylabel!(\"B.zeta [Earth radii]\")\n",
    "title!(\"B-plane (Öpik's frame)\")\n",
    "xlims!(-5, 5)\n",
    "xticks!(-5:5)\n",
    "ylims!(-0.1, 9)\n",
    "yticks!(0:9)"
   ]
  },
  {
   "cell_type": "code",
   "execution_count": null,
   "metadata": {},
   "outputs": [],
   "source": [
    "PlanetaryEphemeris.RE"
   ]
  },
  {
   "cell_type": "code",
   "execution_count": null,
   "metadata": {},
   "outputs": [],
   "source": [
    "#gr()"
   ]
  },
  {
   "cell_type": "markdown",
   "metadata": {},
   "source": [
    "- Positive $A_2$ value seems to be related to a prograde rotation state (Farnocchia et al 2013b).\n",
    "- Why do Valsecchi circles are not identical to Farnocchia et al (2013b), even if B-plane projection of\n",
    "    nominal solution is almost identical? In our plots the nominal solution is *inside* the 7:6 Valsecchi\n",
    "    circle, whereas Farnocchia et al (2013b) nominal is *outside* the 7:6 Valsecchi circle --> That's because it's better to compute Valsecchi circles directly from unperturbed planetocentric velocity components, instead of using orbital elements (approximations in Öpik's theory, etc, are sources of error)\n",
    "- Why is the inclination wrt ecliptic used instead of equatorial? --> Those are the elements used by Valsecchi"
   ]
  },
  {
   "cell_type": "markdown",
   "metadata": {},
   "source": [
    "## Resonances"
   ]
  },
  {
   "cell_type": "code",
   "execution_count": null,
   "metadata": {},
   "outputs": [],
   "source": [
    "# pre-2029 encounter Apophis heliocentric semimajor axis\n",
    "a_Ap_pre_2029 = semimajoraxis(sol.xvS1[1,1:6]-Apophis.kmsec2auday(sun_et((jd0-J2000+sol.tvS1[1])*daysec))..., μ[su], 0.0)"
   ]
  },
  {
   "cell_type": "code",
   "execution_count": null,
   "metadata": {},
   "outputs": [],
   "source": [
    "# pre-2029 encounter Apophis heliocentric semimajor axis\n",
    "i_Ap_pre_2029 = inclination(sol.xvS1[1,1:6]-Apophis.kmsec2auday(sun_et((jd0-J2000+sol.tvS1[1])*daysec))...)"
   ]
  },
  {
   "cell_type": "code",
   "execution_count": null,
   "metadata": {},
   "outputs": [],
   "source": [
    "# post-2029 encounter semimajor axis\n",
    "a_Ap_post_2029 = semimajoraxis(sol.xvS1[end,1:6]-Apophis.kmsec2auday(sun_et((jd0-J2000+sol.tvS1[end])*daysec))..., μ[su], 0.0)"
   ]
  },
  {
   "cell_type": "code",
   "execution_count": null,
   "metadata": {},
   "outputs": [],
   "source": [
    "a_Ap_pre_2029/a_E"
   ]
  },
  {
   "cell_type": "code",
   "execution_count": null,
   "metadata": {},
   "outputs": [],
   "source": [
    "a_Ap_post_2029(A2_lsqfit_deldop)/a_E"
   ]
  },
  {
   "cell_type": "code",
   "execution_count": null,
   "metadata": {},
   "outputs": [],
   "source": [
    "for i in 1:8\n",
    "    k = i; h = i+1\n",
    "    #@show k, h, (k/h)^(2/3), (h/k)^(2/3)\n",
    "    println(\"k=\", k, \", h=\", h, \", (k/h)^(2/3)=\", (k/h)^(2/3))\n",
    "end"
   ]
  },
  {
   "cell_type": "code",
   "execution_count": null,
   "metadata": {},
   "outputs": [],
   "source": [
    "for i in 2:9\n",
    "    k = i; h = i-1\n",
    "    #@show k, h, (k/h)^(2/3), (h/k)^(2/3)\n",
    "    println(\"k=\", k, \", h=\", h, \", (k/h)^(2/3)=\", (k/h)^(2/3))\n",
    "end"
   ]
  },
  {
   "cell_type": "code",
   "execution_count": null,
   "metadata": {},
   "outputs": [],
   "source": [
    "#nominal 2029 CA distance\n",
    "0.000252172816142565"
   ]
  },
  {
   "cell_type": "markdown",
   "metadata": {},
   "source": [
    "## Observations predictions 2021/2029"
   ]
  },
  {
   "cell_type": "code",
   "execution_count": null,
   "metadata": {},
   "outputs": [],
   "source": [
    "apophis_data[end].rcvr"
   ]
  },
  {
   "cell_type": "code",
   "execution_count": null,
   "metadata": {},
   "outputs": [],
   "source": [
    "typeof(ans)"
   ]
  },
  {
   "cell_type": "code",
   "execution_count": null,
   "metadata": {},
   "outputs": [],
   "source": [
    "?delay_doppler"
   ]
  },
  {
   "cell_type": "code",
   "execution_count": null,
   "metadata": {},
   "outputs": [],
   "source": [
    "tdelay_2021, dshift_2021 = delay_doppler(\n",
    "    apophis_data[end].rcvr,\n",
    "    DateTime(2021,1,1),\n",
    "    apophis_data[end].freq,\n",
    "    niters,\n",
    "    false\n",
    ")"
   ]
  },
  {
   "cell_type": "code",
   "execution_count": null,
   "metadata": {},
   "outputs": [],
   "source": [
    "import EarthOrientation"
   ]
  },
  {
   "cell_type": "code",
   "execution_count": null,
   "metadata": {
    "scrolled": true
   },
   "outputs": [],
   "source": [
    "EarthOrientation.update()"
   ]
  },
  {
   "cell_type": "markdown",
   "metadata": {},
   "source": [
    "## Plots for paper"
   ]
  },
  {
   "cell_type": "code",
   "execution_count": null,
   "metadata": {
    "scrolled": true
   },
   "outputs": [],
   "source": [
    "#gr()"
   ]
  },
  {
   "cell_type": "code",
   "execution_count": null,
   "metadata": {},
   "outputs": [],
   "source": [
    "pgfplots(grid=:false, framestyle=:box)\n",
    "font_size = 14"
   ]
  },
  {
   "cell_type": "code",
   "execution_count": null,
   "metadata": {},
   "outputs": [],
   "source": [
    "A2_plot = 0.0\n",
    "scatter(\n",
    "    tv_jpl_utc_jul[delay_index].-t0, tdelay_v1[delay_index](A2_plot),\n",
    "    label=\"predicted (\\$A_2 = $A2_plot \\\\times 10^{-14} \\$ au/d\\$^2\\$)\",\n",
    "    marker=:cross,\n",
    "    markersize=7,\n",
    ")\n",
    "#scatter!(\n",
    "#    tv_jpl_utc_jul[delay_index].-t0,\n",
    "#    tdelay_JPL_v1[delay_index],\n",
    "#    label=\"predicted (JPL DE430+s199)\",\n",
    "#    marker=:xcross\n",
    "#)\n",
    "scatter!(\n",
    "    tv_jpl_utc_jul[delay_index].-t0,\n",
    "    tdelay_jpl_obs,\n",
    "    label=\"observed (Brozovic et al., 2018)\",\n",
    "    legend=:topleft,\n",
    "    marker=:xcross,\n",
    "    markersize=7,\n",
    "    yerror=dshift_jpl_obs_sigma,\n",
    "    tickfont=font(font_size),\n",
    "    guidefont=font(font_size),\n",
    "    legendfont = font(font_size-4),\n",
    "    xticks = (1540:30:1640, ()),\n",
    "    annotations=( 1640, 2.6e8, \"(a)\")\n",
    ")\n",
    "#title!(\"Time delay vs time\")\n",
    "ylabel!(\"Time delay [\\$\\\\mu\\$s]\")\n",
    "#xlims!(1540, 1645)\n",
    "#xticks!(1540:20:1640, string.(Date.(julian2datetime.(t0 .+ collect(1540:20:1640)))))\n",
    "xlims!(1540, 1645)\n",
    "ylims!(7.5e7,2.75e8)\n",
    "#xticks!(1540:30:1640, string.(Date.(julian2datetime.(t0 .+ collect(1540:30:1640)))))\n",
    "#xlabel!(\"Time\")"
   ]
  },
  {
   "cell_type": "code",
   "execution_count": null,
   "metadata": {},
   "outputs": [],
   "source": [
    "A2_plot = 0.0\n",
    "scatter(\n",
    "    tv_jpl_utc_jul[doppler_index].-t0, dshift_v1[doppler_index](A2_plot),\n",
    "    label=\"predicted (\\$A_2 = $A2_plot \\\\times 10^{-14} \\$ au/d\\$^2\\$)\",\n",
    "    marker=:cross,\n",
    "    markersize=7,\n",
    "    tickfont=font(font_size),\n",
    "    guidefont=font(font_size),\n",
    "    legendfont = font(font_size-4)\n",
    ")\n",
    "#scatter!(\n",
    "#    tv_jpl_utc_jul[doppler_index].-t0,\n",
    "#    dshift_JPL_v1[doppler_index],\n",
    "#    label=\"predicted (JPL DE430+s199)\",\n",
    "#    marker=:xcross\n",
    "#)\n",
    "scatter!(\n",
    "    tv_jpl_utc_jul[doppler_index].-t0,\n",
    "    dshift_jpl_obs,\n",
    "    label=\"observed (Brozovic et al., 2018)\",\n",
    "    legend=:bottomleft,\n",
    "    marker=:xcross,\n",
    "    markersize=7,\n",
    "    yerror=dshift_jpl_obs_sigma,\n",
    "    annotations=( 1640, 50000, \"(b)\")\n",
    ")\n",
    "title!(\"Doppler shift vs time\")\n",
    "ylabel!(\"Doppler shift [Hz]\")\n",
    "xlims!(1540, 1645)\n",
    "xticks!(1540:30:1640, string.(Date.(julian2datetime.(t0 .+ collect(1540:30:1640)))))\n",
    "xlabel!(\"Time\")"
   ]
  },
  {
   "cell_type": "markdown",
   "metadata": {},
   "source": [
    "## Plots for DDA poster"
   ]
  },
  {
   "cell_type": "code",
   "execution_count": null,
   "metadata": {},
   "outputs": [],
   "source": [
    "pgfplots(grid=:false, framestyle=:box)"
   ]
  },
  {
   "cell_type": "code",
   "execution_count": null,
   "metadata": {},
   "outputs": [],
   "source": [
    "font_size = 14"
   ]
  },
  {
   "cell_type": "code",
   "execution_count": null,
   "metadata": {},
   "outputs": [],
   "source": [
    "A2_plot = -5.74846133680956 # A2_lsqfit_deldop\n",
    "A2_label_str = @sprintf \"\\$A_2^* = -5.74 \\\\times 10^{-14} \\$ au/d\\$^2\\$\"\n",
    "plot(\n",
    "    tv_jpl_utc_jul[delay_index].-t0,\n",
    "    residual_td(), yerror = tdelay_jpl_obs_sigma,\n",
    "    marker=:cross,\n",
    "    label = \"\\$A_2 = 0\\$ au/d\\$^2\\$\",\n",
    "    legend = :topright,\n",
    "    tickfont=font(font_size),\n",
    "    guidefont=font(font_size),\n",
    "    legendfont = font(font_size-4),\n",
    "    xticks = (1540:30:1640, ()),\n",
    "    annotations=( 1555, 300, \"(a)\")\n",
    ")\n",
    "for i in 1:4\n",
    "    a2_lbl_str_i = \"\\$A_2 = -$i \\\\times 10^{-14}\\$ au/d\\$^2\\$\"\n",
    "    plot!(\n",
    "    tv_jpl_utc_jul[delay_index].-t0,\n",
    "    residual_td(-i), yerror = tdelay_jpl_obs_sigma,\n",
    "    marker=:cross,\n",
    "    label = a2_lbl_str_i,\n",
    "    legend = :topright\n",
    ")\n",
    "end\n",
    "plot!(\n",
    "    tv_jpl_utc_jul[delay_index].-t0,\n",
    "    residual_td(A2_plot), yerror = tdelay_jpl_obs_sigma,\n",
    "    marker=:cross,\n",
    "    label = A2_label_str,\n",
    "    legend = :topright\n",
    ")\n",
    "plot!(\n",
    "    tv_jpl_utc_jul[delay_index].-t0,\n",
    "    residual_td(-7), yerror = tdelay_jpl_obs_sigma,\n",
    "    marker=:cross,\n",
    "    label = \"\\$A_2 = -7 \\\\times 10^{-14} \\$ au/d\\$^2\\$\",\n",
    "    legend = :topright\n",
    ")\n",
    "ylabel!(\"Time delay O-C residual \\$ [\\\\mu\\\\mathrm{s}] \\$\")\n",
    "xlims!(1540, 1645)\n",
    "#ylims!(-5,4)\n",
    "ylims!(-250,350)\n",
    "#xticks!(1540:30:1640, string.(Date.(julian2datetime.(t0 .+ collect(1540:30:1640)))))\n",
    "#xlabel!(\"Calendar date\")\n",
    "#savefig(\"delay_residuals_A2.pdf\")"
   ]
  },
  {
   "cell_type": "code",
   "execution_count": null,
   "metadata": {},
   "outputs": [],
   "source": [
    "A2_plot = -5.74846133680956 # A2_lsqfit_deldop\n",
    "A2_label_str = @sprintf \"\\$A_2^* = -5.74846 \\\\times 10^{-14} \\$ au/d\\$^2\\$\"\n",
    "plot(\n",
    "    tv_jpl_utc_jul[doppler_index].-t0,\n",
    "    residual_ds(), yerror = dshift_jpl_obs_sigma,\n",
    "    marker=:cross,\n",
    "    label = \"\\$A_2 = 0\\$ au/d\\$^2\\$\",\n",
    "    legend = :bottomright,\n",
    "    tickfont=font(font_size),\n",
    "    guidefont=font(font_size),\n",
    "    legendfont = font(font_size-4),\n",
    "    annotations=( 1555, 0.95, \"(b)\")\n",
    ")\n",
    "for i in 3:3\n",
    "    a2_lbl_str_i = \"\\$A_2 = -$i \\\\times 10^{-14} \\$ au/d\\$^2\\$\"\n",
    "    plot!(\n",
    "    tv_jpl_utc_jul[doppler_index].-t0,\n",
    "    residual_ds(-i), yerror = dshift_jpl_obs_sigma,\n",
    "    marker=:cross,\n",
    "    label = a2_lbl_str_i,\n",
    "    #legend = :topright,\n",
    "    color=3+1\n",
    ")\n",
    "end\n",
    "plot!(\n",
    "    tv_jpl_utc_jul[doppler_index].-t0,\n",
    "    residual_ds(A2_plot), yerror = dshift_jpl_obs_sigma,\n",
    "    marker=:cross,\n",
    "    label = A2_label_str,\n",
    "    #legend = :topright,\n",
    "    color=6\n",
    ")\n",
    "plot!(\n",
    "    tv_jpl_utc_jul[doppler_index].-t0,\n",
    "    residual_ds(-8), yerror = dshift_jpl_obs_sigma,\n",
    "    marker=:cross,\n",
    "    label = \"\\$A_2 = -7 \\\\times 10^{-14} \\$ au/d\\$^2\\$\",\n",
    "    #legend = :topright,\n",
    "    color=7\n",
    ")\n",
    "ylabel!(\"Doppler shift O-C residual \\$ [\\\\mathrm{Hz}] \\$\")\n",
    "xlims!(1540, 1645)\n",
    "#ylims!(-5,4)\n",
    "#ylims!(-250,350)\n",
    "xticks!(1540:30:1640, string.(Date.(julian2datetime.(t0 .+ collect(1540:30:1640)))))\n",
    "xlabel!(\"Calendar date\")\n",
    "#savefig(\"doppler_residuals_A2.pdf\")"
   ]
  },
  {
   "cell_type": "code",
   "execution_count": null,
   "metadata": {},
   "outputs": [],
   "source": [
    "plot(\n",
    "    A2_vals,\n",
    "    Q_A2_deldop.(A2_vals),\n",
    "    leg=false,\n",
    "    tickfont=font(font_size),\n",
    "    guidefont=font(font_size),\n",
    "    legendfont = font(font_size-4)\n",
    ")\n",
    "xlabel!(\"\\$A_2 \\\\times 10^{14} \\$ [au/d\\$^2]\\$\")\n",
    "ylabel!(\"\\$Q(A_2)\\$\")\n",
    "#title!(\"Mean square residual vs A2\")\n",
    "ylims!(-1, 11)\n",
    "xlims!(-5.9, -5.5)\n",
    "#savefig(\"Q_vs_A2.pdf\")"
   ]
  },
  {
   "cell_type": "code",
   "execution_count": null,
   "metadata": {},
   "outputs": [],
   "source": []
  }
 ],
 "metadata": {
  "@webio": {
   "lastCommId": null,
   "lastKernelId": null
  },
  "kernelspec": {
   "display_name": "Julia-4-threads 1.5.3",
   "language": "julia",
   "name": "julia-4-threads-1.5"
  },
  "language_info": {
   "file_extension": ".jl",
   "mimetype": "application/julia",
   "name": "julia",
   "version": "1.5.3"
  }
 },
 "nbformat": 4,
 "nbformat_minor": 4
}
