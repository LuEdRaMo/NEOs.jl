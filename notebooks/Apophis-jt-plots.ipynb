{
 "cells": [
  {
   "cell_type": "code",
   "execution_count": null,
   "metadata": {},
   "outputs": [],
   "source": [
    "include(\"../src/Apophis.jl\")"
   ]
  },
  {
   "cell_type": "code",
   "execution_count": null,
   "metadata": {},
   "outputs": [],
   "source": [
    "using .Apophis"
   ]
  },
  {
   "cell_type": "code",
   "execution_count": null,
   "metadata": {},
   "outputs": [],
   "source": [
    "# using TaylorIntegration, LinearAlgebra # Apophis.jl @reexports TaylorIntegration and LinearAlgebra\n",
    "using Plots, JLD, DelimitedFiles, Dates\n",
    "using Statistics: mean, std"
   ]
  },
  {
   "cell_type": "code",
   "execution_count": null,
   "metadata": {},
   "outputs": [],
   "source": [
    "vars = [\"tv_neodys_obs\", \"xv1\", \"tvS1\", \"xvS1\", \"gvS1\"] #names of variables\n",
    "for i in eachindex(vars)\n",
    "    filename = string(\"Apophis_jt_\", vars[i], \".jld\")\n",
    "    filename\n",
    "    ex = Symbol(vars[i])\n",
    "    @eval $ex = load($filename, vars[$i])\n",
    "\n",
    "    #read solution from files and assign recovered variable to recovered_sol_i\n",
    "    # recovered_sol_i = load(filename, vars[i])\n",
    "\n",
    "    #check that solution was recovered succesfully\n",
    "    # @show recovered_sol_i == sol[i]\n",
    "end"
   ]
  },
  {
   "cell_type": "code",
   "execution_count": null,
   "metadata": {},
   "outputs": [],
   "source": [
    "tv_neodys_obs#, xv1, tvS1, xvS1, gvS1"
   ]
  },
  {
   "cell_type": "code",
   "execution_count": null,
   "metadata": {},
   "outputs": [],
   "source": [
    "xv1"
   ]
  },
  {
   "cell_type": "code",
   "execution_count": null,
   "metadata": {},
   "outputs": [],
   "source": [
    "apophisdofs = union(34:36, 70:72)\n",
    "ssdofs = setdiff(1:72, apophisdofs)\n",
    "sort(union(apophisdofs, ssdofs)) == collect(1:72)"
   ]
  },
  {
   "cell_type": "code",
   "execution_count": null,
   "metadata": {},
   "outputs": [],
   "source": [
    "xv1[2,apophisdofs]"
   ]
  },
  {
   "cell_type": "code",
   "execution_count": null,
   "metadata": {},
   "outputs": [],
   "source": [
    "xv1[20,ssdofs[end-6:end]]"
   ]
  },
  {
   "cell_type": "code",
   "execution_count": null,
   "metadata": {},
   "outputs": [],
   "source": [
    "# read NEODyS delay observations (range)\n",
    "del = readdlm(\"../Apophis_NEODyS_DEL.dat\")\n",
    "#read NEODyS Doppler obs. (range-rate)\n",
    "dop = readdlm(\"../Apophis_NEODyS_DOP.dat\")\n",
    "# read NEODyS delay & Doppler\n",
    "deldop = readdlm(\"../Apophis_NEODyS.dat\");\n",
    "\n",
    "# retrieve times of delay observations\n",
    "del_ind = 3:17\n",
    "jd_del = Dates.datetime2julian.(  Dates.DateTime.( del[del_ind,3].*\"T\".*del[del_ind,4] )  )\n",
    "\n",
    "# retrieve times of Doppler observations\n",
    "dop_ind = 6:29\n",
    "jd_dop = Dates.datetime2julian.(  Dates.DateTime.( dop[dop_ind,3].*\"T\".*dop[dop_ind,4] )  );\n",
    "\n",
    "#check that all times in jd_dop are elements of tv_neodys_obs; do the same for jd_del\n",
    "#for i in eachindex(jd_dop)\n",
    "#    @show in(jd_dop[i], tv_neodys_obs)\n",
    "#end\n",
    ";"
   ]
  },
  {
   "cell_type": "code",
   "execution_count": null,
   "metadata": {},
   "outputs": [],
   "source": [
    "dop_neodys_obs_ind = findall(x->in(x, jd_dop), tv_neodys_obs);\n",
    "del_neodys_obs_ind = findall(x->in(x, jd_del), tv_neodys_obs)\n",
    "\n",
    "# check that all elements in jd_dop/jd_del were found in tv_neeodys_obs\n",
    "@show length(dop_neodys_obs_ind) == length(jd_dop)\n",
    "@show length(del_neodys_obs_ind) == length(jd_del)"
   ]
  },
  {
   "cell_type": "code",
   "execution_count": null,
   "metadata": {},
   "outputs": [],
   "source": [
    "const ea = 4 #Earth's index\n",
    "const N = 12 \n",
    "\n",
    "# Apophis geocentric range, radial velocity\n",
    "r(x) = sqrt( (x[3N-2]-x[3ea-2])^2+(x[3N-1]-x[3ea-1])^2+(x[3N]-x[3ea])^2 )\n",
    "vr(x) = ( (x[3N-2]-x[3ea-2])*(x[6N-2]-x[3(N+ea)-2])+(x[3N-1]-x[3ea-1])*(x[6N-1]-x[3(N+ea)-1])+(x[3N]-x[3ea])*(x[6N]-x[3(N+ea)]) )/r(x)"
   ]
  },
  {
   "cell_type": "code",
   "execution_count": null,
   "metadata": {},
   "outputs": [],
   "source": [
    "# get range, rad vel values from integration\n",
    "\n",
    "# tv_neodys_obs[del_neodys_obs_ind[1]]\n",
    "rv1 = Array{Taylor1{Float64}}(undef, length(jd_del))\n",
    "vrv1 = Array{Taylor1{Float64}}(undef, length(jd_dop))\n",
    "\n",
    "for i in eachindex(del_neodys_obs_ind)\n",
    "    rv1[i] = r(  xv1[del_neodys_obs_ind[i], :]  )\n",
    "end\n",
    "\n",
    "for i in eachindex(dop_neodys_obs_ind)\n",
    "    vrv1[i] = vr(  xv1[dop_neodys_obs_ind[i], :]  )\n",
    "end"
   ]
  },
  {
   "cell_type": "code",
   "execution_count": null,
   "metadata": {},
   "outputs": [],
   "source": [
    "# A2 = 0 residuals\n",
    "residual_r = (rv1()-del[del_ind,6]/au)#*au\n",
    "residual_vr = (vrv1()-dop[dop_ind,6]/au)#*au;"
   ]
  },
  {
   "cell_type": "code",
   "execution_count": null,
   "metadata": {},
   "outputs": [],
   "source": [
    "plot(tv_neodys_obs[del_neodys_obs_ind].-t0, rv1())\n",
    "scatter!(tv_neodys_obs[del_neodys_obs_ind].-t0, del[del_ind,6]/au, yerror=del[del_ind,7]/au, leg=false, marker=:cross)"
   ]
  },
  {
   "cell_type": "code",
   "execution_count": null,
   "metadata": {},
   "outputs": [],
   "source": [
    "scatter(tv_neodys_obs[del_neodys_obs_ind].-t0, residual_r*au, leg=false, marker=:cross) #, yerror=del[del_ind,7]/au)\n",
    "title!(\"geocentric range residuals (km) vs t; A2=0\")"
   ]
  },
  {
   "cell_type": "code",
   "execution_count": null,
   "metadata": {},
   "outputs": [],
   "source": [
    "scatter(tv_neodys_obs[dop_neodys_obs_ind].-t0, residual_vr*au, leg=false, marker=:cross) #, yerror=dop[dop_ind,7]/au)\n",
    "title!(\"geocentric radial velocity residuals (km/d) vs t; A2=0\")"
   ]
  },
  {
   "cell_type": "code",
   "execution_count": null,
   "metadata": {
    "scrolled": true
   },
   "outputs": [],
   "source": [
    "rv1[1] # R(A2) = p(A2)"
   ]
  },
  {
   "cell_type": "code",
   "execution_count": null,
   "metadata": {},
   "outputs": [],
   "source": [
    "rv1[1]-constant_term(rv1[1]) # δR(A2) = R(A2) - R_obs = p(A2) - R_obs = p[1]*A2+p[2]*A2^2+... (p[0]=R_obs)"
   ]
  },
  {
   "cell_type": "code",
   "execution_count": null,
   "metadata": {},
   "outputs": [],
   "source": [
    "inverse( rv1[1]-constant_term(rv1[1]) ) # A2(δR) = q(δR) = q[1]*δR+q[2]*δR^2+... (q[0]=0)"
   ]
  },
  {
   "cell_type": "code",
   "execution_count": null,
   "metadata": {
    "scrolled": false
   },
   "outputs": [],
   "source": [
    "A2_δr_v = (  inverse.( rv1-rv1() )  ) # vector of A2(δr) polynomials at each delay observation;\n",
    "A2_δvr_v = (  inverse.( vrv1-vrv1() )  ) # vector of A2(δvr) polynomials at each Doppler observation;"
   ]
  },
  {
   "cell_type": "code",
   "execution_count": null,
   "metadata": {},
   "outputs": [],
   "source": [
    "A2_del_v = map((x,y)->x(y), A2_δr_v, residual_r); # A2(δr) polynomials evaluated at the δr residuals;\n",
    "A2_dop_v = map((x,y)->x(y), A2_δvr_v, residual_vr); # A2(δvr) polynomials evaluated at the δvr residuals;"
   ]
  },
  {
   "cell_type": "code",
   "execution_count": null,
   "metadata": {
    "scrolled": true
   },
   "outputs": [],
   "source": [
    "mean(A2_del_v), std(A2_del_v)"
   ]
  },
  {
   "cell_type": "code",
   "execution_count": null,
   "metadata": {},
   "outputs": [],
   "source": [
    "mean(A2_dop_v), std(A2_dop_v)"
   ]
  },
  {
   "cell_type": "code",
   "execution_count": null,
   "metadata": {},
   "outputs": [],
   "source": [
    "scatter(tv_neodys_obs[del_neodys_obs_ind].-t0, A2_del_v, leg=false, marker=:cross)"
   ]
  },
  {
   "cell_type": "code",
   "execution_count": null,
   "metadata": {},
   "outputs": [],
   "source": [
    "scatter(tv_neodys_obs[dop_neodys_obs_ind].-t0, A2_dop_v, leg=false, marker=:cross)"
   ]
  },
  {
   "cell_type": "code",
   "execution_count": null,
   "metadata": {},
   "outputs": [],
   "source": [
    "using IntervalArithmetic"
   ]
  },
  {
   "cell_type": "code",
   "execution_count": null,
   "metadata": {},
   "outputs": [],
   "source": [
    "residual_r_interval = interval.(rv1()-(del[del_ind,6]+del[del_ind,7])/au, rv1()-(del[del_ind,6]-del[del_ind,7])/au)\n",
    "residual_vr_interval = interval.(vrv1()-(dop[dop_ind,6]+dop[dop_ind,7])/au, vrv1()-(dop[dop_ind,6]-dop[dop_ind,7])/au);"
   ]
  },
  {
   "cell_type": "code",
   "execution_count": null,
   "metadata": {},
   "outputs": [],
   "source": [
    "A2_del_v_interval = map((x,y)->x(y), A2_δr_v, residual_r_interval); # A2(δr) polynomials evaluated at the δr residuals;\n",
    "A2_dop_v_interval = map((x,y)->x(y), A2_δvr_v, residual_vr_interval); # A2(δvr) polynomials evaluated at the δvr residuals;"
   ]
  },
  {
   "cell_type": "code",
   "execution_count": null,
   "metadata": {},
   "outputs": [],
   "source": [
    "scatter(tv_neodys_obs[del_neodys_obs_ind].-t0, A2_del_v, yerror=radius.(A2_del_v_interval), leg=false, marker=:cross)"
   ]
  },
  {
   "cell_type": "code",
   "execution_count": null,
   "metadata": {},
   "outputs": [],
   "source": [
    "scatter(tv_neodys_obs[dop_neodys_obs_ind].-t0, A2_dop_v, yerror=radius.(A2_dop_v_interval), leg=false, marker=:cross)"
   ]
  },
  {
   "cell_type": "code",
   "execution_count": null,
   "metadata": {},
   "outputs": [],
   "source": []
  },
  {
   "cell_type": "code",
   "execution_count": null,
   "metadata": {},
   "outputs": [],
   "source": []
  },
  {
   "cell_type": "code",
   "execution_count": null,
   "metadata": {},
   "outputs": [],
   "source": []
  }
 ],
 "metadata": {
  "kernelspec": {
   "display_name": "Julia 1.1.0",
   "language": "julia",
   "name": "julia-1.1"
  },
  "language_info": {
   "file_extension": ".jl",
   "mimetype": "application/julia",
   "name": "julia",
   "version": "1.1.0"
  }
 },
 "nbformat": 4,
 "nbformat_minor": 2
}
