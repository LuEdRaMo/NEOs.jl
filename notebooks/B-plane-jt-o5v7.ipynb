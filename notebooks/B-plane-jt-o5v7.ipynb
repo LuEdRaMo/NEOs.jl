{
 "cells": [
  {
   "cell_type": "markdown",
   "metadata": {},
   "source": [
    "# Apophis: 2020/2021 and 2029 predictions"
   ]
  },
  {
   "cell_type": "code",
   "execution_count": null,
   "metadata": {},
   "outputs": [],
   "source": [
    "]st"
   ]
  },
  {
   "cell_type": "code",
   "execution_count": null,
   "metadata": {},
   "outputs": [],
   "source": [
    "using Revise"
   ]
  },
  {
   "cell_type": "code",
   "execution_count": null,
   "metadata": {
    "scrolled": true
   },
   "outputs": [],
   "source": [
    "using JLD, PlanetaryEphemeris, Apophis, SPICE"
   ]
  },
  {
   "cell_type": "code",
   "execution_count": null,
   "metadata": {},
   "outputs": [],
   "source": [
    "using TaylorIntegration"
   ]
  },
  {
   "cell_type": "code",
   "execution_count": null,
   "metadata": {},
   "outputs": [],
   "source": [
    "#using LinearAlgebra: dot, cross, norm, diag\n",
    "using LinearAlgebra\n",
    "using Dates, Plots"
   ]
  },
  {
   "cell_type": "code",
   "execution_count": null,
   "metadata": {},
   "outputs": [],
   "source": [
    "using Statistics"
   ]
  },
  {
   "cell_type": "code",
   "execution_count": null,
   "metadata": {},
   "outputs": [],
   "source": [
    "dq = set_variables(\"ξ\", order=5, numvars=7)"
   ]
  },
  {
   "cell_type": "code",
   "execution_count": null,
   "metadata": {},
   "outputs": [],
   "source": [
    "fnamesseph = joinpath(Apophis.jldephpath, \"sseph343ast_p21y_et.jld\")\n",
    "@time ss16asteph = load(fnamesseph, \"ss16ast_eph\");"
   ]
  },
  {
   "cell_type": "code",
   "execution_count": null,
   "metadata": {},
   "outputs": [],
   "source": [
    "#apophis_eph_file = \"Apophis_p24yo5v7_Quadmath.jld\"\n",
    "apophis_eph_file = \"Apophis_p24y5o7v.jld\"\n",
    "tv1 = load(apophis_eph_file, \"tv1\")\n",
    "xv1 = load(apophis_eph_file, \"xv1\");"
   ]
  },
  {
   "cell_type": "code",
   "execution_count": null,
   "metadata": {},
   "outputs": [],
   "source": [
    "tvS1 = load(apophis_eph_file, \"tvS1\")\n",
    "xvS1 = load(apophis_eph_file, \"xvS1\")\n",
    "gvS1 = load(apophis_eph_file, \"gvS1\");"
   ]
  },
  {
   "cell_type": "code",
   "execution_count": null,
   "metadata": {},
   "outputs": [],
   "source": [
    "x_Gamma_file = \"x_Gamma.jld\"\n",
    "x_O7 = load(x_Gamma_file, \"x_O7\")\n",
    "Γ_O7 = load(x_Gamma_file, \"Γ_O7\")\n",
    "x_O6 = load(x_Gamma_file, \"x_O6\")\n",
    "Γ_O6 = load(x_Gamma_file, \"Γ_O6\")\n",
    "x_R = load(x_Gamma_file, \"x_R\")\n",
    "Γ_R = load(x_Gamma_file, \"Γ_R\")\n",
    "x_OR7 = load(x_Gamma_file, \"x_OR7\")\n",
    "Γ_OR7 = load(x_Gamma_file, \"Γ_OR7\")\n",
    "x_OR6 = load(x_Gamma_file, \"x_OR6\")\n",
    "Γ_OR6 = load(x_Gamma_file, \"Γ_OR6\");"
   ]
  },
  {
   "cell_type": "markdown",
   "metadata": {},
   "source": [
    "# Cholesky factorization of covariance matrix"
   ]
  },
  {
   "cell_type": "code",
   "execution_count": null,
   "metadata": {},
   "outputs": [],
   "source": [
    "Hermitian(Γ_OR7) - Γ_OR7"
   ]
  },
  {
   "cell_type": "code",
   "execution_count": null,
   "metadata": {},
   "outputs": [],
   "source": [
    "norm(Hermitian(Γ_OR7) - Γ_OR7)"
   ]
  },
  {
   "cell_type": "code",
   "execution_count": null,
   "metadata": {},
   "outputs": [],
   "source": [
    "Γ_O6_cholf = cholesky(Hermitian(Γ_O6[1:6,1:6]))"
   ]
  },
  {
   "cell_type": "code",
   "execution_count": null,
   "metadata": {},
   "outputs": [],
   "source": [
    "Γ_O7_cholf = cholesky(Hermitian(Γ_O7))"
   ]
  },
  {
   "cell_type": "code",
   "execution_count": null,
   "metadata": {},
   "outputs": [],
   "source": [
    "Γ_R_cholf = cholesky(Hermitian(Γ_R))"
   ]
  },
  {
   "cell_type": "code",
   "execution_count": null,
   "metadata": {},
   "outputs": [],
   "source": [
    "Γ_OR7_cholf = cholesky(Hermitian(Γ_OR7))"
   ]
  },
  {
   "cell_type": "code",
   "execution_count": null,
   "metadata": {},
   "outputs": [],
   "source": [
    "Γ_OR6_cholf = cholesky(Hermitian(Γ_OR6[1:6,1:6]))"
   ]
  },
  {
   "cell_type": "code",
   "execution_count": null,
   "metadata": {},
   "outputs": [],
   "source": [
    "Γ_O6_cU = Γ_O6_cholf.U\n",
    "Γ_O6_cL = Γ_O6_cholf.L\n",
    "\n",
    "Γ_O7_cU = Γ_O7_cholf.U\n",
    "Γ_O7_cL = Γ_O7_cholf.L\n",
    "\n",
    "Γ_R_cU = Γ_R_cholf.U\n",
    "Γ_R_cL = Γ_R_cholf.L\n",
    "\n",
    "Γ_OR7_cU = Γ_OR7_cholf.U\n",
    "Γ_OR7_cL = Γ_OR7_cholf.L\n",
    "\n",
    "Γ_OR6_cU = Γ_OR6_cholf.U\n",
    "Γ_OR6_cL = Γ_OR6_cholf.L;"
   ]
  },
  {
   "cell_type": "code",
   "execution_count": null,
   "metadata": {},
   "outputs": [],
   "source": [
    "x_OR7"
   ]
  },
  {
   "cell_type": "code",
   "execution_count": null,
   "metadata": {},
   "outputs": [],
   "source": [
    "σ_OR7 = sqrt.(diag(Γ_OR7))"
   ]
  },
  {
   "cell_type": "code",
   "execution_count": null,
   "metadata": {},
   "outputs": [],
   "source": [
    "sqrt.(diag(Γ_OR7)) .* vcat(1e-8ones(6), 1e-14)"
   ]
  },
  {
   "cell_type": "markdown",
   "metadata": {},
   "source": [
    "## $\\Gamma$ matrix eigenvalues/vectors"
   ]
  },
  {
   "cell_type": "code",
   "execution_count": null,
   "metadata": {},
   "outputs": [],
   "source": [
    "# Compute nominal initial condition in au, au/day, au/day^2\n",
    "q0_OR7 = Apophis.initialcond(vcat(1e-8ones(6), 1e-14).*x_OR7)"
   ]
  },
  {
   "cell_type": "code",
   "execution_count": null,
   "metadata": {},
   "outputs": [],
   "source": [
    "# relative scalings analogous to Milani (2005)\n",
    "scaling_milani_2005 = vcat(  (1/norm(q0_OR7[1:3]))*ones(3), (1/norm(q0_OR7[4:6]))*ones(3), 1/norm(q0_OR7[7])  )"
   ]
  },
  {
   "cell_type": "code",
   "execution_count": null,
   "metadata": {},
   "outputs": [],
   "source": [
    "# jet transport propagation scaling\n",
    "jt_scaling = vcat(1e-8ones(6), 1e-14)"
   ]
  },
  {
   "cell_type": "code",
   "execution_count": null,
   "metadata": {},
   "outputs": [],
   "source": [
    "# compute cov matrix with relative scalings\n",
    "Γ_OR7_scm05 = diagm(scaling_milani_2005) * ( diagm(jt_scaling)*Γ_OR7*diagm(jt_scaling) ) * diagm(scaling_milani_2005)"
   ]
  },
  {
   "cell_type": "code",
   "execution_count": null,
   "metadata": {},
   "outputs": [],
   "source": [
    "# compute normal matrix with relative scalings\n",
    "C_OR7_scm05 = inv(Γ_OR7_scm05)"
   ]
  },
  {
   "cell_type": "code",
   "execution_count": null,
   "metadata": {},
   "outputs": [],
   "source": [
    "# compute eigenvalues, eigenvectors of normal matrix with relative scalings\n",
    "C_eig_OR7_scm05 = eigen(C_OR7_scm05)"
   ]
  },
  {
   "cell_type": "code",
   "execution_count": null,
   "metadata": {},
   "outputs": [],
   "source": [
    "# revert eigenvector of \"weak\" direction to JT scaling\n",
    "C_eig_OR7_scm05.vectors[:,1]./scaling_milani_2005./jt_scaling"
   ]
  },
  {
   "cell_type": "markdown",
   "metadata": {},
   "source": [
    "### Generating samples from cov matrices\n",
    "\n",
    "Confidence ellipsoids are defined by\n",
    "$$\n",
    "(\\tilde{x}-x^\\star)^T C (\\tilde{x}-x^\\star) = \\sigma^2\n",
    "$$\n",
    "where $C$ is the normal matrix (essentially, the Hessian) with size $N\\times N$, where $N$ is the number of degrees of freedom of the orbit determination. That is,  $N=6$ when dealing only with positions and velocities, and $N=7$ when dealing with positions, velocities and $A_2$, i.e., the Yarkovsky non-gravitational parameter. The covariance matrix is $\\Gamma=C^{-1}$.\n",
    "\n",
    "\n",
    "According to Bierman (1977) do this using the square-root information matrix., in order to sample an ensemble of initial conditions with zero mean and covariance $\\Gamma$, we may perform a Cholesky factorization on $\\Gamma$:\n",
    "$$\n",
    "\\Gamma = L R\n",
    "$$\n",
    "where $L$ and $R$ are called, respectively, the left and right factors of the Cholesky factorization. The $L$ and $R$ matrices are, respectively, lower and upper triangular matrices. Now, let $w$ denote a zero-mean, unit standard-deviation random $N$-vector (i.e., an $N$-vector whose components are each a random number sampled from a normal distribution). Further, let $\\hat{x}$ denote the nominal solution. Then\n",
    "$$\n",
    "\\hat{x} + L \\cdot w\n",
    "$$\n",
    "is a random $N$-vector with mean equal to the nominal solution and covariance $\\Gamma$ (Bierman, 1977; Chodas and Yeomans, 1999).  Thus, in order to generate random samples from the covariance matrix, it suffices to multiply the left Cholesky factor by 6-vectors of normal random samples, as done below."
   ]
  },
  {
   "cell_type": "markdown",
   "metadata": {},
   "source": [
    "$\\Gamma_{new} = J^T \\Gamma * J$"
   ]
  },
  {
   "cell_type": "markdown",
   "metadata": {},
   "source": [
    "### 6-variable, optical-only covariance matrix"
   ]
  },
  {
   "cell_type": "code",
   "execution_count": null,
   "metadata": {},
   "outputs": [],
   "source": [
    "Hermitian(Γ_O6)"
   ]
  },
  {
   "cell_type": "code",
   "execution_count": null,
   "metadata": {},
   "outputs": [],
   "source": [
    "# recovering the covariance matrix from cholesky(Γ).L*randn(6)\n",
    "cov(map(x->Γ_O6_cholf.L*randn(6), 1:100000))"
   ]
  },
  {
   "cell_type": "markdown",
   "metadata": {},
   "source": [
    "### 7-variable, optical+radar covariance matrix"
   ]
  },
  {
   "cell_type": "code",
   "execution_count": null,
   "metadata": {},
   "outputs": [],
   "source": [
    "Hermitian(Γ_OR7)"
   ]
  },
  {
   "cell_type": "code",
   "execution_count": null,
   "metadata": {},
   "outputs": [],
   "source": [
    "# recovering the covariance matrix from cholesky(Γ).L*randn(7)\n",
    "cov(map(x->Γ_OR7_cholf.L*randn(7), 1:100000))"
   ]
  },
  {
   "cell_type": "markdown",
   "metadata": {},
   "source": [
    "# Construction of B-plane (2029 close approach)"
   ]
  },
  {
   "cell_type": "code",
   "execution_count": null,
   "metadata": {},
   "outputs": [],
   "source": [
    "t_2029 = tvS1[47];"
   ]
  },
  {
   "cell_type": "code",
   "execution_count": null,
   "metadata": {},
   "outputs": [],
   "source": [
    "t_2029()"
   ]
  },
  {
   "cell_type": "code",
   "execution_count": null,
   "metadata": {},
   "outputs": [],
   "source": [
    "jd0 = datetime2julian(DateTime(2008,9,24))"
   ]
  },
  {
   "cell_type": "code",
   "execution_count": null,
   "metadata": {},
   "outputs": [],
   "source": [
    "ss16asteph.t0"
   ]
  },
  {
   "cell_type": "code",
   "execution_count": null,
   "metadata": {},
   "outputs": [],
   "source": [
    "const Nm1 = size(ss16asteph.x)[2] ÷ 6\n",
    "const N = Nm1 + 1"
   ]
  },
  {
   "cell_type": "code",
   "execution_count": null,
   "metadata": {
    "scrolled": true
   },
   "outputs": [],
   "source": [
    "ss16asteph_2029 = ss16asteph((jd0-J2000+t_2029)*daysec)\n",
    "xe_2029 = ss16asteph_2029[union(3ea-2:3ea,3(N-1+ea)-2:3(N-1+ea))];"
   ]
  },
  {
   "cell_type": "code",
   "execution_count": null,
   "metadata": {},
   "outputs": [],
   "source": [
    "apophis_2029 = xvS1[47,1:6];"
   ]
  },
  {
   "cell_type": "code",
   "execution_count": null,
   "metadata": {},
   "outputs": [],
   "source": [
    "xae_2029 = apophis_2029-xe_2029;"
   ]
  },
  {
   "cell_type": "code",
   "execution_count": null,
   "metadata": {},
   "outputs": [],
   "source": [
    "# Apophis geocentric range at 2029 closest approach (au)\n",
    "rae_2029 = sqrt(xae_2029[1]^2 + xae_2029[2]^2 + xae_2029[3]^2); #(A2_JPL)"
   ]
  },
  {
   "cell_type": "code",
   "execution_count": null,
   "metadata": {},
   "outputs": [],
   "source": [
    "a_2029 = semimajoraxis(xae_2029...,μ[ea], 0.0);"
   ]
  },
  {
   "cell_type": "code",
   "execution_count": null,
   "metadata": {},
   "outputs": [],
   "source": [
    "# asymptotic inbound velocity v_\\infty (au/day)\n",
    "v_infty = sqrt(μ[ea]/(-a_2029));"
   ]
  },
  {
   "cell_type": "code",
   "execution_count": null,
   "metadata": {},
   "outputs": [],
   "source": [
    "# h = r × v\n",
    "hvec_2029 = cross(xae_2029[1:3], xae_2029[4:6]);"
   ]
  },
  {
   "cell_type": "code",
   "execution_count": null,
   "metadata": {},
   "outputs": [],
   "source": [
    "h_2029 = sqrt(hvec_2029[1]^2 + hvec_2029[2]^2 + hvec_2029[3]^2);"
   ]
  },
  {
   "cell_type": "code",
   "execution_count": null,
   "metadata": {},
   "outputs": [],
   "source": [
    "# Laplace-Runge-Lenz (eccentricity) vector\n",
    "# \\vec{e} = (\\vec{v} × \\vec{h})/μ - \\vec{r}/r\n",
    "evec_2029 = cross(xae_2029[4:6], hvec_2029)/μ[ea] - xae_2029[1:3]/rae_2029;"
   ]
  },
  {
   "cell_type": "code",
   "execution_count": null,
   "metadata": {},
   "outputs": [],
   "source": [
    "# osculating eccentricity\n",
    "e_2029 = eccentricity(xae_2029..., μ[ea], 0.0);"
   ]
  },
  {
   "cell_type": "code",
   "execution_count": null,
   "metadata": {},
   "outputs": [],
   "source": [
    "# osculating eccentricity\n",
    "i_2029 = inclination(xae_2029...);"
   ]
  },
  {
   "cell_type": "code",
   "execution_count": null,
   "metadata": {},
   "outputs": [],
   "source": [
    "# periapsis position (unit vector)\n",
    "P_v = evec_2029./e_2029;"
   ]
  },
  {
   "cell_type": "code",
   "execution_count": null,
   "metadata": {},
   "outputs": [],
   "source": [
    "# periapsis velocity (unit vector)\n",
    "Q_v = cross(hvec_2029, P_v)./h_2029;"
   ]
  },
  {
   "cell_type": "code",
   "execution_count": null,
   "metadata": {},
   "outputs": [],
   "source": [
    "P_v__ = xae_2029[1:3]/rae_2029;\n",
    "Q_v__ = xae_2029[4:6]/sqrt(xae_2029[4]^2 + xae_2029[5]^2 + xae_2029[6]^2);"
   ]
  },
  {
   "cell_type": "code",
   "execution_count": null,
   "metadata": {},
   "outputs": [],
   "source": [
    "P_v(x_OR7)"
   ]
  },
  {
   "cell_type": "code",
   "execution_count": null,
   "metadata": {},
   "outputs": [],
   "source": [
    "P_v__(x_OR7)"
   ]
  },
  {
   "cell_type": "code",
   "execution_count": null,
   "metadata": {},
   "outputs": [],
   "source": [
    "Q_v(x_OR7)"
   ]
  },
  {
   "cell_type": "code",
   "execution_count": null,
   "metadata": {},
   "outputs": [],
   "source": [
    "Q_v__(x_OR7)"
   ]
  },
  {
   "cell_type": "code",
   "execution_count": null,
   "metadata": {},
   "outputs": [],
   "source": [
    "rad2deg(acos(dot(P_v, Q_v)(x_OR7)))  # should be 90 deg, or pretty close"
   ]
  },
  {
   "cell_type": "code",
   "execution_count": null,
   "metadata": {},
   "outputs": [],
   "source": [
    "rad2deg(acos(dot(P_v__, Q_v__)(x_OR7))) # should be 90 deg, or pretty close"
   ]
  },
  {
   "cell_type": "code",
   "execution_count": null,
   "metadata": {},
   "outputs": [],
   "source": [
    "#inbound asymptote direction \n",
    "S_v = (P_v + (sqrt(e_2029^2 - 1))Q_v)/e_2029;\n",
    "#S_v()"
   ]
  },
  {
   "cell_type": "code",
   "execution_count": null,
   "metadata": {},
   "outputs": [],
   "source": [
    "# B-vector: \"vector from the planet center to the intersection between the B-plane and the asymptote\"\n",
    "Bvec_2029 = cross(S_v, hvec_2029)./v_infty;"
   ]
  },
  {
   "cell_type": "code",
   "execution_count": null,
   "metadata": {},
   "outputs": [],
   "source": [
    "# Earth impact cross section; \"critical\" B\n",
    "# derived from conservation of energy and angular momentum\n",
    "#  = what impact parameter B corresponds to a grazing impact, given planet radius and mass, and asymptotic vel v_infty?\n",
    "# if actual B is equal or less to this, then impact happens\n",
    "b_E_2029 = sqrt( 1 + (2μ[ea])/((RE/au)*(v_infty)^2) );"
   ]
  },
  {
   "cell_type": "code",
   "execution_count": null,
   "metadata": {},
   "outputs": [],
   "source": [
    "# Sun's barycentric cartesian state at Apophis 2029 CA as a function of A2\n",
    "xs_2029 = ss16asteph_2029[union(3su-2:3su,3(N-1+su)-2:3(N-1+su))];"
   ]
  },
  {
   "cell_type": "code",
   "execution_count": null,
   "metadata": {},
   "outputs": [],
   "source": [
    "# Earth's heliocentric cartesian state at Apophis 2029 CA as a function of A2\n",
    "xes_2029 = xe_2029 - xs_2029;"
   ]
  },
  {
   "cell_type": "code",
   "execution_count": null,
   "metadata": {},
   "outputs": [],
   "source": [
    "# Earth's osculating semimajor axis at nominal 2029 CA\n",
    "a_E_2029 = semimajoraxis(xes_2029..., μ[su], 0.0)(x_OR7)"
   ]
  },
  {
   "cell_type": "code",
   "execution_count": null,
   "metadata": {},
   "outputs": [],
   "source": [
    "# Earth's heliocentric velocity at Apophis 2029 CA as a function of A2 (au/day)\n",
    "v_pl_2029 = xes_2029[4:6];"
   ]
  },
  {
   "cell_type": "code",
   "execution_count": null,
   "metadata": {},
   "outputs": [],
   "source": [
    "#ξ-axis is essentially the MOID (Valsecchi et al, 2003)\n",
    "ξ_v_unnormalized = cross(v_pl_2029, S_v)\n",
    "ξ_v_norm = sqrt(ξ_v_unnormalized[1]^2 + ξ_v_unnormalized[2]^2 + ξ_v_unnormalized[3]^2)\n",
    "ξ_v = ξ_v_unnormalized./ξ_v_norm;"
   ]
  },
  {
   "cell_type": "code",
   "execution_count": null,
   "metadata": {},
   "outputs": [],
   "source": [
    "#ζ-axis: delay/advance in CA time (Valsecchi et al, 2003)\n",
    "ζ_v = -cross(S_v, ξ_v);"
   ]
  },
  {
   "cell_type": "code",
   "execution_count": null,
   "metadata": {},
   "outputs": [],
   "source": [
    "B_dot_ξ = dot(Bvec_2029, ξ_v);"
   ]
  },
  {
   "cell_type": "code",
   "execution_count": null,
   "metadata": {},
   "outputs": [],
   "source": [
    "B_dot_ζ = dot(Bvec_2029, ζ_v);"
   ]
  },
  {
   "cell_type": "code",
   "execution_count": null,
   "metadata": {},
   "outputs": [],
   "source": [
    "B_dot_ξ(x_OR7)*au/RE"
   ]
  },
  {
   "cell_type": "code",
   "execution_count": null,
   "metadata": {},
   "outputs": [],
   "source": [
    "B_dot_ζ(x_OR7)*au/RE"
   ]
  },
  {
   "cell_type": "code",
   "execution_count": null,
   "metadata": {},
   "outputs": [],
   "source": [
    "norm(Bvec_2029(x_OR7))*au/RE"
   ]
  },
  {
   "cell_type": "markdown",
   "metadata": {},
   "source": [
    "# Valsecchi circles"
   ]
  },
  {
   "cell_type": "markdown",
   "metadata": {},
   "source": [
    "We compute Valsecchi circles as a function of the components of the unperturbed planetocentric velocity vector $\\mathbf{U}$ of Apophis in a coordinate frame $(X,Y,Z)$ such that the $Y$-axis is along the heliocentric velocity vector of the planet. It is enough to have the $U_y=U\\cos\\theta$ component and the norm $U=|\\mathbf{U}|$, where $\\theta$ is the angle between the $Y$-axis and $\\mathbf{U}$. Furthermore, $\\mathbf{U}$ should be in units such that the planet's heliocentric velocity is 1."
   ]
  },
  {
   "cell_type": "code",
   "execution_count": null,
   "metadata": {},
   "outputs": [],
   "source": [
    "x_sol_Val_circ = x_OR7"
   ]
  },
  {
   "cell_type": "code",
   "execution_count": null,
   "metadata": {},
   "outputs": [],
   "source": [
    "S_v_nom = S_v(x_sol_Val_circ) # small-body unperturbed planetocentric velocity unit vector"
   ]
  },
  {
   "cell_type": "code",
   "execution_count": null,
   "metadata": {},
   "outputs": [],
   "source": [
    "norm(S_v_nom)"
   ]
  },
  {
   "cell_type": "code",
   "execution_count": null,
   "metadata": {},
   "outputs": [],
   "source": [
    "res_2029 = xes_2029(x_sol_Val_circ)[1:3] # Earth's heliocentric radius, au\n",
    "res_2029_norm = norm(res_2029) # Earth's heliocentric range, au\n",
    "res_2029_unit = res_2029/res_2029_norm # Earth's heliocentric radius unit vector\n",
    "res_2029_norm"
   ]
  },
  {
   "cell_type": "code",
   "execution_count": null,
   "metadata": {},
   "outputs": [],
   "source": [
    "ves_2029 = xes_2029(x_OR7)[4:6]*au/daysec # Earth's velocity, km/s\n",
    "ves_2029_norm = norm(ves_2029) # Earth's speed, km/s"
   ]
  },
  {
   "cell_type": "code",
   "execution_count": null,
   "metadata": {},
   "outputs": [],
   "source": [
    "ves_2029_unit = ves_2029/ves_2029_norm # Earth's velocity unit vector"
   ]
  },
  {
   "cell_type": "code",
   "execution_count": null,
   "metadata": {},
   "outputs": [],
   "source": [
    "# X-Y angle (degrees)\n",
    "rad2deg(acos(dot(ves_2029_unit, res_2029_unit)))"
   ]
  },
  {
   "cell_type": "code",
   "execution_count": null,
   "metadata": {},
   "outputs": [],
   "source": [
    "# angle between Y-axis and \\vec{U}\n",
    "cosθ_ = dot(S_v_nom, ves_2029_unit)"
   ]
  },
  {
   "cell_type": "code",
   "execution_count": null,
   "metadata": {},
   "outputs": [],
   "source": [
    "v_infty_kms = v_infty(x_OR7)*au/daysec # Apophis unperturbed speed, km/sec"
   ]
  },
  {
   "cell_type": "code",
   "execution_count": null,
   "metadata": {},
   "outputs": [],
   "source": [
    "# The norm of \\vec{U} in appropriate units\n",
    "U_norm_ = v_infty_kms/ves_2029_norm"
   ]
  },
  {
   "cell_type": "code",
   "execution_count": null,
   "metadata": {},
   "outputs": [],
   "source": [
    "# U_y\n",
    "U_y_ = U_norm_*cosθ_"
   ]
  },
  {
   "cell_type": "code",
   "execution_count": null,
   "metadata": {},
   "outputs": [],
   "source": [
    "R__, D__ = valsecchi_circle(U_y_, U_norm_, 7, 6)\n",
    "D_Valsecchi_7_6 = D__/(PlanetaryEphemeris.RE/(res_2029_norm*au))\n",
    "R_Valsecchi_7_6 = R__/(PlanetaryEphemeris.RE/(res_2029_norm*au))\n",
    "D_Valsecchi_7_6, R_Valsecchi_7_6, D_Valsecchi_7_6-R_Valsecchi_7_6"
   ]
  },
  {
   "cell_type": "code",
   "execution_count": null,
   "metadata": {},
   "outputs": [],
   "source": [
    "R_, D_ = valsecchi_circle(U_y_, U_norm_, 6, 5)\n",
    "D_Valsecchi_6_5 = D_/(PlanetaryEphemeris.RE/(res_2029_norm*au))\n",
    "R_Valsecchi_6_5 = R_/(PlanetaryEphemeris.RE/(res_2029_norm*au))\n",
    "D_Valsecchi_6_5, R_Valsecchi_6_5, D_Valsecchi_6_5-R_Valsecchi_6_5"
   ]
  },
  {
   "cell_type": "code",
   "execution_count": null,
   "metadata": {},
   "outputs": [],
   "source": [
    "R_, D_ = valsecchi_circle(U_y_, U_norm_, 8, 7)\n",
    "D_Valsecchi_8_7 = D_/(PlanetaryEphemeris.RE/(res_2029_norm*au))\n",
    "R_Valsecchi_8_7 = R_/(PlanetaryEphemeris.RE/(res_2029_norm*au))\n",
    "D_Valsecchi_8_7, R_Valsecchi_8_7, D_Valsecchi_8_7-R_Valsecchi_8_7"
   ]
  },
  {
   "cell_type": "code",
   "execution_count": null,
   "metadata": {},
   "outputs": [],
   "source": [
    "A2_JPL = -5.592840054057059\n",
    "σ_A2_JPL = 2.201"
   ]
  },
  {
   "cell_type": "code",
   "execution_count": null,
   "metadata": {},
   "outputs": [],
   "source": [
    "npoints = 3000\n",
    "# note: no sigma factor needed here, since enclosing volume already contains ~3-sigma\n",
    "rndvv = [randn(7) for i in 1:npoints];"
   ]
  },
  {
   "cell_type": "code",
   "execution_count": null,
   "metadata": {},
   "outputs": [],
   "source": [
    "# sample uniformly random points on N-hypersphere\n",
    "# code borrowed from http://corysimon.github.io/articles/uniformdistn-on-sphere/\n",
    "function rand_sph(ndimsphere)\n",
    "    v = zeros(ndimsphere)  # initialize so we go into the while loop\n",
    "    while norm(v) < 0.0001\n",
    "        v = randn(ndimsphere)\n",
    "    end\n",
    "    return v/norm(v)  # normalize to unit norm and return\n",
    "end"
   ]
  },
  {
   "cell_type": "code",
   "execution_count": null,
   "metadata": {},
   "outputs": [],
   "source": [
    "# generate `npoints` points on 7-dim hypersphere\n",
    "#rndvv = [sigma_factor*rand_sph(7) for i in 1:npoints];"
   ]
  },
  {
   "cell_type": "code",
   "execution_count": null,
   "metadata": {},
   "outputs": [],
   "source": [
    "dxv_O6 = map(x->(x_O6 .+ vcat(Γ_O6_cL*x[1:6],0.0) ), rndvv)\n",
    "dxv_O7 = map(x->(x_O7 .+ Γ_O7_cL*x ), rndvv)\n",
    "dxv_R = map(x->(x_R .+ Γ_R_cL*x ), rndvv)\n",
    "dxv_OR7 = map(x->(x_OR7 .+ Γ_OR7_cL*x ), rndvv)\n",
    "dxv_OR6 = map(x->(x_OR6 .+ vcat(Γ_OR6_cL*x[1:6],0.0) ), rndvv);"
   ]
  },
  {
   "cell_type": "code",
   "execution_count": null,
   "metadata": {},
   "outputs": [],
   "source": [
    "# optical-only solution, no Yarkovsky\n",
    "B_dot_ξv_O6 = B_dot_ξ.(dxv_O6)\n",
    "B_dot_ζv_O6 = B_dot_ζ.(dxv_O6)\n",
    "\n",
    "# optical-only solution\n",
    "B_dot_ξv_O7 = B_dot_ξ.(dxv_O7)\n",
    "B_dot_ζv_O7 = B_dot_ζ.(dxv_O7)\n",
    "\n",
    "# radar-only solution\n",
    "B_dot_ξv_R = B_dot_ξ.(dxv_R)\n",
    "B_dot_ζv_R = B_dot_ζ.(dxv_R)\n",
    "\n",
    "# optical+radar solution\n",
    "B_dot_ξv_OR7 = B_dot_ξ.(dxv_OR7)\n",
    "B_dot_ζv_OR7 = B_dot_ζ.(dxv_OR7)\n",
    "\n",
    "# optical+radar solution, no Yarkovsky\n",
    "B_dot_ξv_OR6 = B_dot_ξ.(dxv_OR6)\n",
    "B_dot_ζv_OR6 = B_dot_ζ.(dxv_OR6)\n",
    "\n",
    "# optical+radar nominal solution\n",
    "B_dot_ξ0 = B_dot_ξ(x_OR7)\n",
    "B_dot_ζ0 = B_dot_ζ(x_OR7);"
   ]
  },
  {
   "cell_type": "code",
   "execution_count": null,
   "metadata": {},
   "outputs": [],
   "source": [
    "BB_OR7 = sqrt.(B_dot_ξv_OR7.^2 + B_dot_ζv_OR7.^2)*au/RE;"
   ]
  },
  {
   "cell_type": "code",
   "execution_count": null,
   "metadata": {},
   "outputs": [],
   "source": [
    "# impact probability a la Monte Carlo\n",
    "count(x->x < b_E_2029(), BB_OR7)/length(BB_OR7)"
   ]
  },
  {
   "cell_type": "code",
   "execution_count": null,
   "metadata": {},
   "outputs": [],
   "source": [
    "#?count"
   ]
  },
  {
   "cell_type": "code",
   "execution_count": null,
   "metadata": {},
   "outputs": [],
   "source": []
  },
  {
   "cell_type": "code",
   "execution_count": null,
   "metadata": {},
   "outputs": [],
   "source": [
    "# Jacobian of transformation from initial conditions to B.ξ, B.ζ coordinates on target plane\n",
    "t_x2B = hcat(TaylorSeries.gradient(B_dot_ξ), TaylorSeries.gradient(B_dot_ζ));\n",
    "size(t_x2B)"
   ]
  },
  {
   "cell_type": "code",
   "execution_count": null,
   "metadata": {},
   "outputs": [],
   "source": [
    "# transform cov matrix to B-plane coords\n",
    "Γ_B_O6 = Hermitian(t_x2B(x_O6)[1:6,:]'*Γ_O6[1:6,1:6]*(t_x2B(x_O6)[1:6,:]))\n",
    "# get cholesky-L factor\n",
    "L_B_O6 = cholesky(Γ_B_O6).L \n",
    "\n",
    "# repeat for each solution and corresponding cov matrix\n",
    "\n",
    "Γ_B_O7 = Hermitian(t_x2B(x_O7)'*Γ_O7*(t_x2B(x_O7)))\n",
    "L_B_O7 = cholesky(Γ_B_O7).L\n",
    "\n",
    "Γ_B_R = Hermitian(t_x2B(x_R)'*Γ_R*(t_x2B(x_R)))\n",
    "L_B_R = cholesky(Γ_B_R).L\n",
    "\n",
    "Γ_B_OR7 = Hermitian(t_x2B(x_OR7)'*Γ_OR7*(t_x2B(x_OR7)))\n",
    "L_B_OR7 = cholesky(Γ_B_OR7).L\n",
    "\n",
    "Γ_B_OR6 = Hermitian(t_x2B(x_OR6)[1:6,:]'*Γ_OR6[1:6,1:6]*(t_x2B(x_OR6)[1:6,:]))\n",
    "L_B_OR6 = cholesky(Γ_B_OR6).L;"
   ]
  },
  {
   "cell_type": "code",
   "execution_count": null,
   "metadata": {},
   "outputs": [],
   "source": [
    "sigma_factor = 3\n",
    "sigma_factor_5 = 5"
   ]
  },
  {
   "cell_type": "code",
   "execution_count": null,
   "metadata": {},
   "outputs": [],
   "source": [
    "angv = vcat(0:0.0125:2pi, 0);"
   ]
  },
  {
   "cell_type": "code",
   "execution_count": null,
   "metadata": {},
   "outputs": [],
   "source": [
    "# sample points on 2-dim unit sphere\n",
    "\n",
    "#rndvv_2sph = [sigma_factor*rand_sph(2) for i in 1:500]\n",
    "#rndv_2sph_ξ = [rndvv_2sph[i][1] for i in 1:size(rndvv_2sph)[1]]\n",
    "#rndv_2sph_ζ = [rndvv_2sph[i][2] for i in 1:size(rndvv_2sph)[1]];\n",
    "\n",
    "# on 2-dim unit sphere (unit 1-sphere?), things are as easy as sampling the (3) unit circle...\n",
    "rndv_2sph_ξ = sigma_factor*cos.(angv)\n",
    "rndv_2sph_ζ = sigma_factor*sin.(angv);\n",
    "\n",
    "rndv_2sph_ξ_5 = sigma_factor_5*cos.(angv)\n",
    "rndv_2sph_ζ_5 = sigma_factor_5*sin.(angv);"
   ]
  },
  {
   "cell_type": "code",
   "execution_count": null,
   "metadata": {},
   "outputs": [],
   "source": [
    "# then, project points from circle with radius 3 (i.e., locus of 3-sigma random points) onto B-plane coordinates\n",
    "\n",
    "B_ξ_3σ_ell_O6 = (B_dot_ξ(x_O6) .+ L_B_O6[1,1]*rndv_2sph_ξ .+ L_B_O6[1,2]*rndv_2sph_ζ)*au/RE\n",
    "B_ζ_3σ_ell_O6 = (B_dot_ζ(x_O6) .+ L_B_O6[2,1]*rndv_2sph_ξ .+ L_B_O6[2,2]*rndv_2sph_ζ)*au/RE\n",
    "\n",
    "B_ξ_3σ_ell_O7 = (B_dot_ξ(x_O7) .+ L_B_O7[1,1]*rndv_2sph_ξ .+ L_B_O7[1,2]*rndv_2sph_ζ)*au/RE\n",
    "B_ζ_3σ_ell_O7 = (B_dot_ζ(x_O7) .+ L_B_O7[2,1]*rndv_2sph_ξ .+ L_B_O7[2,2]*rndv_2sph_ζ)*au/RE\n",
    "\n",
    "B_ξ_3σ_ell_R = (B_dot_ξ(x_R) .+ L_B_R[1,1]*rndv_2sph_ξ .+ L_B_R[1,2]*rndv_2sph_ζ)*au/RE\n",
    "B_ζ_3σ_ell_R = (B_dot_ζ(x_R) .+ L_B_R[2,1]*rndv_2sph_ξ .+ L_B_R[2,2]*rndv_2sph_ζ)*au/RE\n",
    "\n",
    "B_ξ_3σ_ell_OR7 = (B_dot_ξ(x_OR7) .+ L_B_OR7[1,1]*rndv_2sph_ξ .+ L_B_OR7[1,2]*rndv_2sph_ζ)*au/RE\n",
    "B_ζ_3σ_ell_OR7 = (B_dot_ζ(x_OR7) .+ L_B_OR7[2,1]*rndv_2sph_ξ .+ L_B_OR7[2,2]*rndv_2sph_ζ)*au/RE\n",
    "\n",
    "B_ξ_3σ_ell_OR6 = (B_dot_ξ(x_OR6) .+ L_B_OR6[1,1]*rndv_2sph_ξ .+ L_B_OR6[1,2]*rndv_2sph_ζ)*au/RE\n",
    "B_ζ_3σ_ell_OR6 = (B_dot_ζ(x_OR6) .+ L_B_OR6[2,1]*rndv_2sph_ξ .+ L_B_OR6[2,2]*rndv_2sph_ζ)*au/RE\n",
    "\n",
    "# 5-sigma\n",
    "B_ξ_5σ_ell_OR7 = (B_dot_ξ(x_OR7) .+ L_B_OR7[1,1]*rndv_2sph_ξ_5 .+ L_B_OR7[1,2]*rndv_2sph_ζ_5)*au/RE\n",
    "B_ζ_5σ_ell_OR7 = (B_dot_ζ(x_OR7) .+ L_B_OR7[2,1]*rndv_2sph_ξ_5 .+ L_B_OR7[2,2]*rndv_2sph_ζ_5)*au/RE;"
   ]
  },
  {
   "cell_type": "code",
   "execution_count": null,
   "metadata": {},
   "outputs": [],
   "source": []
  },
  {
   "cell_type": "code",
   "execution_count": null,
   "metadata": {},
   "outputs": [],
   "source": [
    "plotlyjs()\n",
    "#gr()\n",
    "#pgfplotsx()"
   ]
  },
  {
   "cell_type": "code",
   "execution_count": null,
   "metadata": {},
   "outputs": [],
   "source": [
    "scatter(\n",
    "    B_dot_ξv_OR7*au/RE,\n",
    "    B_dot_ζv_OR7*au/RE,\n",
    "    label=\"JTMC, OR7\",\n",
    "    marker=:circle, ms=1.0, markerstrokewidth = 0, msc=:auto # match marker stroke color\n",
    ")\n",
    "plot!(\n",
    "    B_ξ_3σ_ell_OR7,\n",
    "    B_ζ_3σ_ell_OR7,\n",
    "    label=\"3-σ, OR7\",\n",
    "    #marker=:circle, ms=1.0, markerstrokewidth = 0, msc=:auto # match marker stroke color\n",
    ")\n",
    "plot!(\n",
    "    B_ξ_5σ_ell_OR7,\n",
    "    B_ζ_5σ_ell_OR7,\n",
    "    label=\"5-σ, OR7\",\n",
    "    #marker=:circle, ms=1.0, markerstrokewidth = 0, msc=:auto # match marker stroke color\n",
    ")\n",
    "scatter!([B_dot_ξ0*au/RE],\n",
    "    [B_dot_ζ0*au/RE],\n",
    "    label=\"nominal, OR7\",\n",
    "    marker=:circle, ms=3.0,\n",
    ")\n",
    "scatter!(\n",
    "    B_dot_ξv_OR6*au/RE,\n",
    "    B_dot_ζv_OR6*au/RE,\n",
    "    label=\"JTMC, OR6 (A2=0)\",\n",
    "    marker=:circle, ms=1.0, markerstrokewidth = 0, msc=:auto # match marker stroke color\n",
    ")\n",
    "plot!(\n",
    "    B_ξ_3σ_ell_OR6,\n",
    "    B_ζ_3σ_ell_OR6,\n",
    "    label=\"3-σ, OR6 (A2=0)\",\n",
    "    #marker=:circle, ms=1.0, markerstrokewidth = 0, msc=:auto # match marker stroke color\n",
    ")\n",
    "scatter!([B_dot_ξ(x_OR6)*au/RE],\n",
    "    [B_dot_ζ(x_OR6)*au/RE],\n",
    "    label=\"nominal, OR6 (A2=0)\",\n",
    "    marker=:circle, ms=3.0,\n",
    ")\n",
    "plot!(cos.(angv), sin.(angv), label=\"Earth radius\")\n",
    "plot!(b_E_2029()*cos.(angv), b_E_2029()*sin.(angv), label=\"Earth cross section\")\n",
    "plot!(\n",
    "    R_Valsecchi_8_7*cos.(angv), \n",
    "    D_Valsecchi_8_7.+R_Valsecchi_8_7*sin.(angv), \n",
    "    label=\"8:7 res. Valsecchi circle\",\n",
    "    #aspectratio=0.8,#1,\n",
    "    #legend=false,\n",
    ")\n",
    "plot!(\n",
    "    R_Valsecchi_7_6*cos.(angv), \n",
    "    D_Valsecchi_7_6.+R_Valsecchi_7_6*sin.(angv), \n",
    "    label=\"7:6 res. Valsecchi circle\",\n",
    ")\n",
    "plot!(\n",
    "    R_Valsecchi_6_5*cos.(angv), \n",
    "    D_Valsecchi_6_5.+R_Valsecchi_6_5*sin.(angv), \n",
    "    label=\"6:5 res. Valsecchi circle\",\n",
    "    aspectratio=0.8,\n",
    "    #leg=false,\n",
    "    legend=:outertopright,\n",
    "    #legend=:topright,\n",
    "    #legendfontsize=8\n",
    ")\n",
    "xlabel!(\"B.ξ [Earth radii]\")\n",
    "ylabel!(\"B.ζ [Earth radii]\")\n",
    "title!(\"B-plane (Öpik's frame)\")\n",
    "xlims!(-5, 5)\n",
    "xticks!(-5:5)\n",
    "ylims!(-3, 9)\n",
    "yticks!(-3:9)"
   ]
  },
  {
   "cell_type": "code",
   "execution_count": null,
   "metadata": {},
   "outputs": [],
   "source": [
    "plotlyjs()"
   ]
  },
  {
   "cell_type": "code",
   "execution_count": null,
   "metadata": {},
   "outputs": [],
   "source": [
    "scatter(\n",
    "    B_dot_ξv_O7*au/RE, \n",
    "    B_dot_ζv_O7*au/RE, \n",
    "    label=\"JTMC, O7\", \n",
    "    marker=:circle, ms=1.0, markerstrokewidth = 0, msc=:auto # match marker stroke color\n",
    ")\n",
    "scatter!(\n",
    "    B_dot_ξv_R*au/RE, \n",
    "    B_dot_ζv_R*au/RE, \n",
    "    label=\"JTMC, R7\", \n",
    "    marker=:circle, ms=1.0, markerstrokewidth = 0, msc=:auto # match marker stroke color\n",
    ")\n",
    "scatter!(\n",
    "    B_dot_ξv_OR7*au/RE,\n",
    "    B_dot_ζv_OR7*au/RE,\n",
    "    label=\"JTMC, OR7\",\n",
    "    marker=:circle, ms=1.0, markerstrokewidth = 0, msc=:auto # match marker stroke color\n",
    ")\n",
    "plot!(\n",
    "    B_ξ_3σ_ell_O7,\n",
    "    B_ζ_3σ_ell_O7,\n",
    "    label=\"3-σ, O7\",\n",
    "    #marker=:circle, ms=1.0, markerstrokewidth = 0, msc=:auto # match marker stroke color\n",
    ")\n",
    "plot!(\n",
    "    B_ξ_3σ_ell_R,\n",
    "    B_ζ_3σ_ell_R,\n",
    "    label=\"3-σ, R7\",\n",
    "    #marker=:circle, ms=1.0, markerstrokewidth = 0, msc=:auto # match marker stroke color\n",
    ")\n",
    "plot!(\n",
    "    B_ξ_3σ_ell_OR7,\n",
    "    B_ζ_3σ_ell_OR7,\n",
    "    label=\"3-σ, OR7\",\n",
    "    #marker=:circle, ms=1.0, markerstrokewidth = 0, msc=:auto # match marker stroke color\n",
    ")\n",
    "scatter!([B_dot_ξ0*au/RE],\n",
    "    [B_dot_ζ0*au/RE],\n",
    "    label=\"nominal, OR7\",\n",
    "    marker=:circle, ms=3.0,\n",
    ")\n",
    "#plot!(cos.(angv), sin.(angv), label=\"Earth radius\")\n",
    "#plot!(b_E_2029()*cos.(angv), b_E_2029()*sin.(angv), label=\"Earth cross section\")\n",
    "plot!(\n",
    "    R_Valsecchi_8_7*cos.(angv), \n",
    "    D_Valsecchi_8_7.+R_Valsecchi_8_7*sin.(angv), \n",
    "    label=\"8:7 res. Valsecchi circle\",\n",
    "    #legend=false,\n",
    ")\n",
    "plot!(\n",
    "    R_Valsecchi_7_6*cos.(angv), \n",
    "    D_Valsecchi_7_6.+R_Valsecchi_7_6*sin.(angv), \n",
    "    label=\"7:6 res. Valsecchi circle\",\n",
    ")\n",
    "plot!(\n",
    "    R_Valsecchi_6_5*cos.(angv), \n",
    "    D_Valsecchi_6_5.+R_Valsecchi_6_5*sin.(angv), \n",
    "    label=\"6:5 res. Valsecchi circle\",\n",
    "    #aspectratio=0.8, #1\n",
    "    #leg=false,\n",
    "    legend=:outertopright,\n",
    "    #legend=:topright,\n",
    "    #legendfontsize=8\n",
    ")\n",
    "xlabel!(\"B.ξ [Earth radii]\")\n",
    "ylabel!(\"B.ζ [Earth radii]\")\n",
    "title!(\"B-plane (Öpik's frame)\")\n",
    "xlims!(1.47,1.505)\n",
    "ylims!(4,12)"
   ]
  },
  {
   "cell_type": "markdown",
   "metadata": {},
   "source": [
    "- compare $\\chi^2$ a la Milani vs jet transport `inv(TaylorSeries.hessian(Q))` CHECK\n",
    "- integrate with `Quadmath.Float128` CHECK (things are essentially the same)\n",
    "- characterize 2029 impact initial conditions --> after fixing sampling from covariance matrix and after including optical obs, uncertainty region shrinks: no impact initial conditions remaining, even for optical-only orbit"
   ]
  },
  {
   "cell_type": "code",
   "execution_count": null,
   "metadata": {},
   "outputs": [],
   "source": [
    "x_OR7[7] # A_2 O+R fit"
   ]
  },
  {
   "cell_type": "code",
   "execution_count": null,
   "metadata": {},
   "outputs": [],
   "source": [
    "sqrt(Γ_OR7[7,7]) # σ_{A_2} O+R fit"
   ]
  },
  {
   "cell_type": "code",
   "execution_count": null,
   "metadata": {},
   "outputs": [],
   "source": [
    "gr()"
   ]
  },
  {
   "cell_type": "code",
   "execution_count": null,
   "metadata": {},
   "outputs": [],
   "source": [
    "# \"Equivalent of Fig 1 in Farnocchia et al. (2013) Icarus, 224 192-200)\"\n",
    "# T = Tholen et al. (2013)\n",
    "# R = radar (Giorgini 2008 + Brozovic 2018)\n",
    "# T ellipsoid is expected to be roughly equivalent to Farnocchia's T ellipsoid,\n",
    "# because dynamical models, astrometry and optical set and weights are the same; also A2 is assumed =0.\n",
    "# T+R ellipsoid is not expected to be equivalent to Farnocchia's, since we include all radar astrometry through 2005-2013\n",
    "# 7:6 and 8:7 Valsecchi circles, which enclose the ellipsoids, are out of the scale, so not shown\n",
    "\n",
    "scatter(\n",
    "    B_dot_ξv_O6*au, \n",
    "    B_dot_ζv_O6*au, \n",
    "    label=\"JTMC, O6 (A2=0)\", \n",
    "    marker=:circle, ms=1.0, msc=:auto, # match marker stroke color\n",
    "    markerstrokewidth = 0\n",
    ")\n",
    "scatter!(\n",
    "    B_dot_ξv_OR6*au, \n",
    "    B_dot_ζv_OR6*au,\n",
    "    label=\"JTMC, OR6 (A2=0)\", \n",
    "    marker=:circle, ms=1.0, msc=:auto, # match marker stroke color\n",
    "    markerstrokewidth = 0\n",
    ")\n",
    "scatter!(\n",
    "    B_dot_ξv_OR7*au, \n",
    "    B_dot_ζv_OR7*au, \n",
    "    label=\"JTMC, OR7\",  # A2=-0.82±2.8 10^{-14} au/day^2 (1-sigma)\n",
    "    marker=:circle, ms=1.0, msc=:auto, # match marker stroke color\n",
    "    markerstrokewidth = 0\n",
    ")\n",
    "plot!(\n",
    "    B_ξ_3σ_ell_O6*RE,\n",
    "    B_ζ_3σ_ell_O6*RE,\n",
    "    label=\"3-σ, O6 (A2=0)\",\n",
    "    #marker=:circle, ms=1.0, markerstrokewidth = 0, msc=:auto # match marker stroke color\n",
    ")\n",
    "plot!(\n",
    "    B_ξ_3σ_ell_OR6*RE,\n",
    "    B_ζ_3σ_ell_OR6*RE,\n",
    "    label=\"3-σ, OR6 (A2=0)\",\n",
    "    #marker=:circle, ms=1.0, markerstrokewidth = 0, msc=:auto # match marker stroke color\n",
    ")\n",
    "plot!(\n",
    "    B_ξ_3σ_ell_OR7*RE,\n",
    "    B_ζ_3σ_ell_OR7*RE,\n",
    "    label=\"3-σ, OR7\",\n",
    "    #marker=:circle, ms=1.0, markerstrokewidth = 0, msc=:auto # match marker stroke color\n",
    ")\n",
    "scatter!(\n",
    "    [B_dot_ξ(x_O6)*au],\n",
    "    [B_dot_ζ(x_O6)*au],\n",
    "    label=\"nominal, O6 (A2=0)\",\n",
    "    marker=:circle,\n",
    ")\n",
    "scatter!(\n",
    "    [B_dot_ξ(x_OR6)*au],\n",
    "    [B_dot_ζ(x_OR6)*au],\n",
    "    label=\"nominal, OR6 (A2=0)\",\n",
    "    marker=:circle,\n",
    ")\n",
    "scatter!(\n",
    "    [B_dot_ξ(x_OR7)*au],\n",
    "    [B_dot_ζ(x_OR7)*au],\n",
    "    label=\"nominal, OR7\",\n",
    "    marker=:circle,\n",
    "    #legend=false,\n",
    "    legend=:outertopright,\n",
    "    #legend=:bottomright\n",
    ")\n",
    "#plot!(\n",
    "#    RE*R_Valsecchi_7_6*cos.(angv),\n",
    "#    RE*D_Valsecchi_7_6.+RE*R_Valsecchi_7_6*sin.(angv),\n",
    "#    label=\"7:6 res. Valsecchi circle\",\n",
    "#)\n",
    "#plot!(\n",
    "#    RE*R_Valsecchi_8_7*cos.(angv),\n",
    "#    RE*D_Valsecchi_8_7.+RE*R_Valsecchi_8_7*sin.(angv),\n",
    "#    label=\"8:7 res. Valsecchi circle\",\n",
    "#)\n",
    "xlabel!(\"B.ξ [km]\")\n",
    "ylabel!(\"B.ζ [km]\")\n",
    "#xlims!(9465,9520)\n",
    "#ylims!(4.67e4, 4.86e4)\n",
    "#yticks!(4.68e4:0.02e4:4.86e4)\n",
    "#xticks!(9465:5:9520)"
   ]
  },
  {
   "cell_type": "code",
   "execution_count": null,
   "metadata": {},
   "outputs": [],
   "source": []
  },
  {
   "cell_type": "code",
   "execution_count": null,
   "metadata": {},
   "outputs": [],
   "source": [
    "x0_JPL = vcat(zeros(6), A2_JPL)"
   ]
  },
  {
   "cell_type": "code",
   "execution_count": null,
   "metadata": {},
   "outputs": [],
   "source": [
    "julian2datetime(jd0+t_2029(x0_JPL))"
   ]
  },
  {
   "cell_type": "code",
   "execution_count": null,
   "metadata": {},
   "outputs": [],
   "source": [
    "au*rae_2029(x0_JPL)"
   ]
  },
  {
   "cell_type": "code",
   "execution_count": null,
   "metadata": {},
   "outputs": [],
   "source": [
    "julian2datetime.(jd0 .+ tvS1(vcat(zeros(6), 0.0)))[end-30:end]"
   ]
  },
  {
   "cell_type": "code",
   "execution_count": null,
   "metadata": {},
   "outputs": [],
   "source": [
    "t_2020 = tvS1[27]\n",
    "t_2021 = tvS1[29]\n",
    "t_2029 = tvS1[47];"
   ]
  },
  {
   "cell_type": "code",
   "execution_count": null,
   "metadata": {},
   "outputs": [],
   "source": [
    "julian2datetime(jd0+t_2020(x0_JPL))"
   ]
  },
  {
   "cell_type": "code",
   "execution_count": null,
   "metadata": {},
   "outputs": [],
   "source": [
    "julian2datetime(jd0+t_2021(x0_JPL))"
   ]
  },
  {
   "cell_type": "code",
   "execution_count": null,
   "metadata": {},
   "outputs": [],
   "source": [
    "julian2datetime(jd0+t_2029(x0_JPL))"
   ]
  },
  {
   "cell_type": "code",
   "execution_count": null,
   "metadata": {},
   "outputs": [],
   "source": [
    "ss16asteph_2020 = ss16asteph((jd0-J2000+t_2020)*daysec)\n",
    "xe_2020 = ss16asteph_2020[union(3ea-2:3ea,3(N-1+ea)-2:3(N-1+ea))];\n",
    "\n",
    "ss16asteph_2021 = ss16asteph((jd0-J2000+t_2021)*daysec)\n",
    "xe_2021 = ss16asteph_2021[union(3ea-2:3ea,3(N-1+ea)-2:3(N-1+ea))];\n",
    "\n",
    "ss16asteph_2029 = ss16asteph((jd0-J2000+t_2029)*daysec)\n",
    "xe_2029 = ss16asteph_2029[union(3ea-2:3ea,3(N-1+ea)-2:3(N-1+ea))];"
   ]
  },
  {
   "cell_type": "code",
   "execution_count": null,
   "metadata": {},
   "outputs": [],
   "source": [
    "apophis_2020 = xvS1[27,1:6]\n",
    "apophis_2021 = xvS1[29,1:6]\n",
    "apophis_2029 = xvS1[47,1:6]\n",
    "xae_2020 = apophis_2020-xe_2020\n",
    "xae_2021 = apophis_2021-xe_2021\n",
    "xae_2029 = apophis_2029-xe_2029;"
   ]
  },
  {
   "cell_type": "code",
   "execution_count": null,
   "metadata": {},
   "outputs": [],
   "source": [
    "rae_2020 = sqrt(xae_2020[1]^2 + xae_2020[2]^2 + xae_2020[3]^2);"
   ]
  },
  {
   "cell_type": "code",
   "execution_count": null,
   "metadata": {},
   "outputs": [],
   "source": [
    "rae_2021 = sqrt(xae_2021[1]^2 + xae_2021[2]^2 + xae_2021[3]^2);"
   ]
  },
  {
   "cell_type": "code",
   "execution_count": null,
   "metadata": {},
   "outputs": [],
   "source": [
    "rae_2029 = sqrt(xae_2029[1]^2 + xae_2029[2]^2 + xae_2029[3]^2);"
   ]
  },
  {
   "cell_type": "code",
   "execution_count": null,
   "metadata": {},
   "outputs": [],
   "source": [
    "au*(rae_2020(x_OR7) - 0.216276663586499)"
   ]
  },
  {
   "cell_type": "code",
   "execution_count": null,
   "metadata": {},
   "outputs": [],
   "source": [
    "au*(rae_2021(x_OR7) - 0.11265113489653)"
   ]
  },
  {
   "cell_type": "code",
   "execution_count": null,
   "metadata": {},
   "outputs": [],
   "source": [
    "au*(rae_2029(x_OR7) - 0.000252172816142565)"
   ]
  },
  {
   "cell_type": "code",
   "execution_count": null,
   "metadata": {},
   "outputs": [],
   "source": [
    "julian2datetime(2462240.407032288)"
   ]
  },
  {
   "cell_type": "code",
   "execution_count": null,
   "metadata": {},
   "outputs": [],
   "source": [
    "#\n",
    "0.21593875724774*60/3"
   ]
  },
  {
   "cell_type": "code",
   "execution_count": null,
   "metadata": {},
   "outputs": [],
   "source": [
    "0.000252172816142565*au"
   ]
  },
  {
   "cell_type": "code",
   "execution_count": null,
   "metadata": {},
   "outputs": [],
   "source": []
  },
  {
   "cell_type": "code",
   "execution_count": null,
   "metadata": {},
   "outputs": [],
   "source": [
    "d_CA_2029_JPL = 0.000252172816142565\n",
    "d_CA_2029_JPL_min = 0.000247515097583323\n",
    "d_CA_2029_JPL_max = 0.000256837212164523"
   ]
  },
  {
   "cell_type": "code",
   "execution_count": null,
   "metadata": {},
   "outputs": [],
   "source": [
    "(d_CA_2029_JPL-d_CA_2029_JPL_min)*au/3, (d_CA_2029_JPL-d_CA_2029_JPL_max)*au/3"
   ]
  },
  {
   "cell_type": "code",
   "execution_count": null,
   "metadata": {},
   "outputs": [],
   "source": [
    "julian2datetime(jd0+t_2029(x_OR6))"
   ]
  },
  {
   "cell_type": "code",
   "execution_count": null,
   "metadata": {},
   "outputs": [],
   "source": [
    "julian2datetime(jd0+t_2029(x_OR7))"
   ]
  },
  {
   "cell_type": "code",
   "execution_count": null,
   "metadata": {},
   "outputs": [],
   "source": [
    "au*rae_2029(x_OR7)"
   ]
  },
  {
   "cell_type": "code",
   "execution_count": null,
   "metadata": {},
   "outputs": [],
   "source": [
    "au*rae_2029(x_OR6)"
   ]
  },
  {
   "cell_type": "code",
   "execution_count": null,
   "metadata": {},
   "outputs": [],
   "source": []
  },
  {
   "cell_type": "code",
   "execution_count": null,
   "metadata": {},
   "outputs": [],
   "source": [
    "au*(rae_2020(x0_JPL) - 0.216276663586499)"
   ]
  },
  {
   "cell_type": "code",
   "execution_count": null,
   "metadata": {},
   "outputs": [],
   "source": [
    "au*(rae_2021(x0_JPL) - 0.11265113489653)"
   ]
  },
  {
   "cell_type": "code",
   "execution_count": null,
   "metadata": {},
   "outputs": [],
   "source": [
    "au*(rae_2029(x0_JPL) - 0.000252172816142565)"
   ]
  },
  {
   "cell_type": "code",
   "execution_count": null,
   "metadata": {},
   "outputs": [],
   "source": []
  },
  {
   "cell_type": "code",
   "execution_count": null,
   "metadata": {
    "scrolled": true
   },
   "outputs": [],
   "source": [
    "#t_2020"
   ]
  },
  {
   "cell_type": "code",
   "execution_count": null,
   "metadata": {
    "scrolled": true
   },
   "outputs": [],
   "source": [
    "#rae_2020"
   ]
  },
  {
   "cell_type": "code",
   "execution_count": null,
   "metadata": {},
   "outputs": [],
   "source": []
  },
  {
   "cell_type": "code",
   "execution_count": null,
   "metadata": {},
   "outputs": [],
   "source": [
    "#t_CA = t_2020\n",
    "#d_CA = rae_2020\n",
    "\n",
    "t_CA = t_2029\n",
    "d_CA = rae_2029;"
   ]
  },
  {
   "cell_type": "code",
   "execution_count": null,
   "metadata": {},
   "outputs": [],
   "source": [
    "# Jacobian of transformation from initial conditions to d_CA_2020, t_CA_2020\n",
    "t_x2dtCA = hcat(TaylorSeries.gradient(d_CA), TaylorSeries.gradient(t_CA));\n",
    "size(t_x2dtCA)"
   ]
  },
  {
   "cell_type": "code",
   "execution_count": null,
   "metadata": {},
   "outputs": [],
   "source": [
    "# transform cov matrix to d_CA_2020, t_CA_2020 coords\n",
    "Γ_dtCA_OR7 = Hermitian(t_x2dtCA(x_OR7)'*Γ_OR7*(t_x2dtCA(x_OR7)))\n",
    "Γ_dtCA_OR6 = Hermitian(t_x2dtCA(x_OR6)[1:6,:]'*Γ_OR6*(t_x2dtCA(x_OR6)[1:6,:]))\n",
    "# get cholesky-L factor\n",
    "L_dtCA_OR7 = cholesky(Γ_dtCA_OR7).L\n",
    "L_dtCA_OR6 = cholesky(Γ_dtCA_OR6).L"
   ]
  },
  {
   "cell_type": "code",
   "execution_count": null,
   "metadata": {},
   "outputs": [],
   "source": [
    "sqrt.(diag(Γ_dtCA_OR6)).*[au,daysec]"
   ]
  },
  {
   "cell_type": "code",
   "execution_count": null,
   "metadata": {},
   "outputs": [],
   "source": [
    "sqrt.(diag(Γ_dtCA_OR7)).*[au,daysec]"
   ]
  },
  {
   "cell_type": "code",
   "execution_count": null,
   "metadata": {},
   "outputs": [],
   "source": [
    "dt_v_OR6 = Matrix{Float64}(undef, 1000, 2)\n",
    "dt_v_OR7 = Matrix{Float64}(undef, 1000, 2)\n",
    "for i in 1:1000\n",
    "    dt_v_OR6[i,:] = L_dtCA_OR6*randn(2)\n",
    "    dt_v_OR7[i,:] = L_dtCA_OR7*randn(2)\n",
    "end"
   ]
  },
  {
   "cell_type": "code",
   "execution_count": null,
   "metadata": {},
   "outputs": [],
   "source": [
    "d_3σ_ell_OR6 = (L_dtCA_OR6[1,1]*rndv_2sph_ξ .+ L_dtCA_OR6[1,2]*rndv_2sph_ζ) # .+ d_CA(x_OR6)\n",
    "t_3σ_ell_OR6 = (L_dtCA_OR6[2,1]*rndv_2sph_ξ .+ L_dtCA_OR6[2,2]*rndv_2sph_ζ) # .+ t_CA(x_OR6)\n",
    "\n",
    "d_3σ_ell_OR7 = (L_dtCA_OR7[1,1]*rndv_2sph_ξ .+ L_dtCA_OR7[1,2]*rndv_2sph_ζ) # .+ d_CA(x_OR7)\n",
    "t_3σ_ell_OR7 = (L_dtCA_OR7[2,1]*rndv_2sph_ξ .+ L_dtCA_OR7[2,2]*rndv_2sph_ζ) # .+ t_CA(x_OR7)\n",
    "\n",
    "Δd_OR76 = d_CA(x_OR7)-d_CA(x_OR6)\n",
    "Δt_OR76 = t_CA(x_OR7)-t_CA(x_OR6)\n",
    ";"
   ]
  },
  {
   "cell_type": "code",
   "execution_count": null,
   "metadata": {},
   "outputs": [],
   "source": [
    "#plotly()"
   ]
  },
  {
   "cell_type": "code",
   "execution_count": null,
   "metadata": {},
   "outputs": [],
   "source": [
    "scatter(\n",
    "    (Δd_OR76.+dt_v_OR7[:,1])*au, \n",
    "    (Δt_OR76.+dt_v_OR7[:,2])*daysec, \n",
    "    ms=0.1, msc=:auto, label=\"OR7 (JT sampling)\",\n",
    "    legend=:outertopright\n",
    ")\n",
    "scatter!(dt_v_OR6[:,1]*au, dt_v_OR6[:,2]*daysec, ms=0.1, msc=:auto, label=\"OR6 (JT sampling)\")\n",
    "plot!(d_3σ_ell_OR6*au, t_3σ_ell_OR6*daysec, label=\"OR6 (3-σ)\")\n",
    "plot!((Δd_OR76.+d_3σ_ell_OR7)*au, (Δt_OR76.+t_3σ_ell_OR7)*daysec, label=\"OR7 (3-σ)\")\n",
    "scatter!([Δd_OR76*au], [Δt_OR76*daysec], label=\"OR7, nominal\")\n",
    "xlabel!(\"Geocentric range at closest approach [km]\")\n",
    "ylabel!(\"Time of closest approach [s]\")\n",
    "yca = year(julian2datetime(jd0 + t_CA(x_OR7)))\n",
    "mca = monthname(julian2datetime(jd0 + t_CA(x_OR7)))\n",
    "title!(\"$mca $yca close approach: CA time and distance\")"
   ]
  },
  {
   "cell_type": "code",
   "execution_count": null,
   "metadata": {},
   "outputs": [],
   "source": [
    "d_CA(x_OR6), julian2datetime(jd0 + t_CA(x_OR6))"
   ]
  },
  {
   "cell_type": "code",
   "execution_count": null,
   "metadata": {},
   "outputs": [],
   "source": [
    "au*d_CA(x_OR6)"
   ]
  },
  {
   "cell_type": "code",
   "execution_count": null,
   "metadata": {},
   "outputs": [],
   "source": [
    "d_CA(x_OR7), julian2datetime(jd0 + t_CA(x_OR7))"
   ]
  },
  {
   "cell_type": "code",
   "execution_count": null,
   "metadata": {},
   "outputs": [],
   "source": [
    "au*0.000252172816142565"
   ]
  },
  {
   "cell_type": "code",
   "execution_count": null,
   "metadata": {},
   "outputs": [],
   "source": [
    "au*d_CA(x_OR7)"
   ]
  },
  {
   "cell_type": "markdown",
   "metadata": {},
   "source": [
    "# 2020 RA/DEC predictions"
   ]
  },
  {
   "cell_type": "code",
   "execution_count": null,
   "metadata": {},
   "outputs": [],
   "source": [
    "file_dict = load(\"predobs_2020_2021.jld\")"
   ]
  },
  {
   "cell_type": "code",
   "execution_count": null,
   "metadata": {},
   "outputs": [],
   "source": [
    "yTN = file_dict[\"dec_mar_2021\"]\n",
    "xTN_ = file_dict[\"ras_mar_2021\"]\n",
    "xTN = xTN_.*cos.(deg2rad.(yTN/3600))\n",
    "\n",
    "@show xTN_(x_OR6)/3600, yTN(x_OR6)/3600\n",
    "@show xTN_(x_OR7)/3600, yTN(x_OR7)/3600\n",
    "\n",
    "# Jacobian of transformation from initial conditions to xTN, yTN\n",
    "t_x02xyTN = hcat(TaylorSeries.gradient(xTN), TaylorSeries.gradient(yTN))\n",
    "@show size(t_x02xyTN)\n",
    "\n",
    "# transform cov matrix to d_CA_2020, t_CA_2020 coords\n",
    "Γ_xyTN_OR7 = Hermitian(t_x02xyTN(x_OR7)'*Γ_OR7*(t_x02xyTN(x_OR7)))\n",
    "Γ_xyTN_OR6 = Hermitian(t_x02xyTN(x_OR6)[1:6,:]'*Γ_OR6*(t_x02xyTN(x_OR6)[1:6,:]))\n",
    "# get cholesky-L factor\n",
    "L_xyTN_OR7 = cholesky(Γ_xyTN_OR7).L\n",
    "L_xyTN_OR6 = cholesky(Γ_xyTN_OR6).L\n",
    "\n",
    "@show sqrt.(diag(Γ_xyTN_OR6))\n",
    "@show sqrt.(diag(Γ_xyTN_OR7))\n",
    "\n",
    "xyTN_v_OR6 = Matrix{Float64}(undef, 1000, 2)\n",
    "xyTN_v_OR7 = Matrix{Float64}(undef, 1000, 2)\n",
    "for i in 1:1000\n",
    "    xyTN_v_OR6[i,:] = L_xyTN_OR6*randn(2)\n",
    "    xyTN_v_OR7[i,:] = L_xyTN_OR7*randn(2)\n",
    "end\n",
    "\n",
    "rndv_2sph_xTN = 3*cos.(angv)\n",
    "rndv_2sph_yTN = 3*sin.(angv);\n",
    "\n",
    "xTN_3σ_ell_OR6 = (L_xyTN_OR6[1,1]*rndv_2sph_xTN .+ L_xyTN_OR6[1,2]*rndv_2sph_yTN)\n",
    "yTN_3σ_ell_OR6 = (L_xyTN_OR6[2,1]*rndv_2sph_xTN .+ L_xyTN_OR6[2,2]*rndv_2sph_yTN)\n",
    "#\n",
    "xTN_3σ_ell_OR7 = (L_xyTN_OR7[1,1]*rndv_2sph_xTN .+ L_xyTN_OR7[1,2]*rndv_2sph_yTN)\n",
    "yTN_3σ_ell_OR7 = (L_xyTN_OR7[2,1]*rndv_2sph_xTN .+ L_xyTN_OR7[2,2]*rndv_2sph_yTN);\n",
    "\n",
    "ΔxTN_OR76 = xTN(x_OR7)-xTN(x_OR6)\n",
    "ΔyTN_OR76 = yTN(x_OR7)-yTN(x_OR6)\n",
    "\n",
    "#plotly()\n",
    "scatter( ΔxTN_OR76.+xyTN_v_OR7[:,1], ΔyTN_OR76.+xyTN_v_OR7[:,2], ms=0.1, msc=:auto, label=\"OR7 (JT sampling)\")\n",
    "scatter!(xyTN_v_OR6[:,1], xyTN_v_OR6[:,2], ms=0.1, msc=:auto, label=\"OR6 (JT sampling)\", legend=:outertopright)\n",
    "#scatter([0], [0], label=\"OR6 nominal\")\n",
    "scatter!([ΔxTN_OR76], [ΔyTN_OR76], label=\"OR7 nominal\")\n",
    "plot!(xTN_3σ_ell_OR6, yTN_3σ_ell_OR6, label=\"OR6 (3-σ)\")\n",
    "plot!(ΔxTN_OR76.+xTN_3σ_ell_OR7, ΔyTN_OR76.+yTN_3σ_ell_OR7, label=\"OR7 (3-σ)\")\n",
    "xlabel!(\"RA*cos(DEC) [arcsec]\")\n",
    "ylabel!(\"DEC [arcsec]\")\n",
    "#yca = year(julian2datetime(jd0 + t_2020(x_OR7)))\n",
    "#mca = monthname(julian2datetime(jd0 + t_2020(x_OR7)))\n",
    "title!(\"RA/DEC observations predictions \\n (MPC obs. code 568)\")"
   ]
  },
  {
   "cell_type": "code",
   "execution_count": null,
   "metadata": {},
   "outputs": [],
   "source": [
    "### data retrieved from https://newton.spacedys.com/neodys/index.php?n=99942&pc=1.1.4.1&oc=568&y0=2020&m0=10&d0=12&h0=0&mi0=00&s=3.0\n",
    "radec_3σ_neodys = [0.0176296168   0.0113027277\n",
    "   0.0069728534   0.0271792443\n",
    "  -0.0039518729   0.0420112778\n",
    "  -0.0147247309   0.0552288415\n",
    "  -0.0249317258   0.0663239917\n",
    "  -0.0341806085   0.0748703481\n",
    "  -0.0421159495   0.0805394791\n",
    "  -0.0484327982   0.0831135230\n",
    "  -0.0528884017   0.0824935609\n",
    "  -0.0553115335   0.0787034174\n",
    "  -0.0556090741   0.0718887458\n",
    "  -0.0537695892   0.0623114300\n",
    "  -0.0498637691   0.0503395209\n",
    "  -0.0440417123   0.0364330922\n",
    "  -0.0365271572   0.0211265602\n",
    "  -0.0276088840   0.0050081464\n",
    "  -0.0176296168  -0.0113027277\n",
    "  -0.0069728534  -0.0271792443\n",
    "   0.0039518729  -0.0420112778\n",
    "   0.0147247309  -0.0552288415\n",
    "   0.0249317258  -0.0663239917\n",
    "   0.0341806085  -0.0748703481\n",
    "   0.0421159495  -0.0805394791\n",
    "   0.0484327982  -0.0831135230\n",
    "   0.0528884017  -0.0824935609\n",
    "   0.0553115335  -0.0787034174\n",
    "   0.0556090741  -0.0718887458\n",
    "   0.0537695892  -0.0623114300\n",
    "   0.0498637691  -0.0503395209\n",
    "   0.0440417123  -0.0364330922\n",
    "   0.0365271572  -0.0211265602\n",
    "   0.0276088840  -0.0050081464\n",
    "   0.0176296168   0.0113027277];"
   ]
  },
  {
   "cell_type": "code",
   "execution_count": null,
   "metadata": {},
   "outputs": [],
   "source": [
    "angs = range(0.0, stop=2.01pi, length=100)\n",
    "cos_angs = cos.(angs)\n",
    "sin_angs = sin.(angs)\n",
    "\n",
    "a_ = 5.141446E-02/2 # long axis size (arcsec)\n",
    "b_ = 5.473262E-03/2 # short axis size (arcsec)\n",
    "cos_ = -0.54278 # long axis u_x\n",
    "sin_ = 0.83987 # long axis u_y\n",
    "\n",
    "x_neodys = (a_*cos_).*cos_angs .- (b_*sin_).*sin_angs\n",
    "y_neodys = (a_*sin_).*cos_angs .+ (b_*cos_).*sin_angs\n",
    "\n",
    "radec_3σ_neodys = 3 .* [x_neodys y_neodys];"
   ]
  },
  {
   "cell_type": "code",
   "execution_count": null,
   "metadata": {},
   "outputs": [],
   "source": [
    "#plotly()\n",
    "scatter(xyTN_v_OR6[:,1], xyTN_v_OR6[:,2], ms=0.1, msc=:auto, label=\"OR6 (JT sampling)\")\n",
    "#scatter([0], [0], label=\"OR6 nominal\")\n",
    "plot!(xTN_3σ_ell_OR6, yTN_3σ_ell_OR6, label=\"OR6 (3-σ)\")\n",
    "plot!(radec_3σ_neodys[:,1], radec_3σ_neodys[:,2], label=\"NEODyS (3-σ)\")\n",
    "\n",
    "xlabel!(\"RA*cos(DEC) [arcsec]\")\n",
    "ylabel!(\"DEC [arcsec]\")\n",
    "#yca = year(julian2datetime(jd0 + t_2020(x_OR7)))\n",
    "#mca = monthname(julian2datetime(jd0 + t_2020(x_OR7)))\n",
    "title!(\"RA/DEC observations predictions (MPC obs. code 568)\")\n",
    "#xlims!(-0.1,0.1)\n",
    "#ylims!(-0.1,0.1)\n",
    "#xticks!(-0.1:0.02:0.1)\n",
    "#yticks!(-0.14:0.02:0.14)"
   ]
  },
  {
   "cell_type": "markdown",
   "metadata": {},
   "source": [
    "# Predicted radar observations: 2021 at Goldstone"
   ]
  },
  {
   "cell_type": "code",
   "execution_count": null,
   "metadata": {},
   "outputs": [],
   "source": [
    "Apophis.loadjpleph()"
   ]
  },
  {
   "cell_type": "code",
   "execution_count": null,
   "metadata": {},
   "outputs": [],
   "source": [
    "Apophis.delay_doppler2(253, DateTime(2021,3,6), 2380.0, xva=Apophis.apophis_pv_199, lod=false, eocorr=false)"
   ]
  },
  {
   "cell_type": "code",
   "execution_count": null,
   "metadata": {},
   "outputs": [],
   "source": [
    "xTN = file_dict[\"del_mar_2021\"]\n",
    "yTN = file_dict[\"dop_mar_2021\"]\n",
    "\n",
    "@show xTN(x_OR6), yTN(x_OR6)\n",
    "@show xTN(x_OR7), yTN(x_OR7)\n",
    "\n",
    "# Jacobian of transformation from initial conditions to xTN, yTN\n",
    "t_x02xyTN = hcat(TaylorSeries.gradient(xTN), TaylorSeries.gradient(yTN))\n",
    "@show size(t_x02xyTN)\n",
    "\n",
    "# transform cov matrix to d_CA_2020, t_CA_2020 coords\n",
    "Γ_xyTN_OR7 = Hermitian(t_x02xyTN(x_OR7)'*Γ_OR7*(t_x02xyTN(x_OR7)))\n",
    "Γ_xyTN_OR6 = Hermitian(t_x02xyTN(x_OR6)[1:6,:]'*Γ_OR6*(t_x02xyTN(x_OR6)[1:6,:]))\n",
    "# get cholesky-L factor\n",
    "L_xyTN_OR7 = cholesky(Γ_xyTN_OR7).L\n",
    "L_xyTN_OR6 = cholesky(Γ_xyTN_OR6).L\n",
    "\n",
    "@show sqrt.(diag(Γ_xyTN_OR6))\n",
    "@show sqrt.(diag(Γ_xyTN_OR7))\n",
    "\n",
    "xyTN_v_OR6 = Matrix{Float64}(undef, 1000, 2)\n",
    "xyTN_v_OR7 = Matrix{Float64}(undef, 1000, 2)\n",
    "for i in 1:1000\n",
    "    xyTN_v_OR6[i,:] = L_xyTN_OR6*randn(2)\n",
    "    xyTN_v_OR7[i,:] = L_xyTN_OR7*randn(2)\n",
    "end\n",
    "\n",
    "rndv_2sph_xTN = 3*cos.(angv)\n",
    "rndv_2sph_yTN = 3*sin.(angv);\n",
    "\n",
    "xTN_3σ_ell_OR6 = (L_xyTN_OR6[1,1]*rndv_2sph_xTN .+ L_xyTN_OR6[1,2]*rndv_2sph_yTN)\n",
    "yTN_3σ_ell_OR6 = (L_xyTN_OR6[2,1]*rndv_2sph_xTN .+ L_xyTN_OR6[2,2]*rndv_2sph_yTN)\n",
    "#\n",
    "xTN_3σ_ell_OR7 = (L_xyTN_OR7[1,1]*rndv_2sph_xTN .+ L_xyTN_OR7[1,2]*rndv_2sph_yTN)\n",
    "yTN_3σ_ell_OR7 = (L_xyTN_OR7[2,1]*rndv_2sph_xTN .+ L_xyTN_OR7[2,2]*rndv_2sph_yTN);\n",
    "\n",
    "ΔxTN_OR76 = xTN(x_OR7)-xTN(x_OR6)\n",
    "ΔyTN_OR76 = yTN(x_OR7)-yTN(x_OR6)\n",
    "\n",
    "#plotly()\n",
    "scatter( ΔxTN_OR76.+xyTN_v_OR7[:,1], ΔyTN_OR76.+xyTN_v_OR7[:,2], ms=0.1, msc=:auto, label=\"OR7 (JT sampling)\")\n",
    "scatter!(xyTN_v_OR6[:,1], xyTN_v_OR6[:,2], ms=0.1, msc=:auto, label=\"OR6 (JT sampling)\")\n",
    "#scatter([0], [0], label=\"OR6 nominal\")\n",
    "scatter!([ΔxTN_OR76], [ΔyTN_OR76], label=\"OR7 nominal\")\n",
    "plot!(xTN_3σ_ell_OR6, yTN_3σ_ell_OR6, label=\"OR6 (3-σ)\")\n",
    "plot!(ΔxTN_OR76.+xTN_3σ_ell_OR7, ΔyTN_OR76.+yTN_3σ_ell_OR7, label=\"OR7 (3-σ)\")\n",
    "xlabel!(\"Delay [us]\")\n",
    "ylabel!(\"Doppler [Hz]\")\n",
    "#yca = year(julian2datetime(jd0 + t_2020(x_OR7)))\n",
    "#mca = monthname(julian2datetime(jd0 + t_2020(x_OR7)))\n",
    "title!(\"Goldstone March 2021 radar observations predictions\")"
   ]
  },
  {
   "cell_type": "markdown",
   "metadata": {},
   "source": [
    "# Cartesian coordinates to Keplerian elements transformation"
   ]
  },
  {
   "cell_type": "code",
   "execution_count": null,
   "metadata": {},
   "outputs": [],
   "source": [
    "ss16asteph_0 = ss16asteph((jd0-J2000)*daysec)\n",
    "xs0 = ss16asteph_0[union(3su-2:3su,3(N-1+su)-2:3(N-1+su))]"
   ]
  },
  {
   "cell_type": "code",
   "execution_count": null,
   "metadata": {},
   "outputs": [],
   "source": [
    "Apophis.initialcond(dq)"
   ]
  },
  {
   "cell_type": "code",
   "execution_count": null,
   "metadata": {},
   "outputs": [],
   "source": [
    "ϵ0_deg = 84381.448/3600"
   ]
  },
  {
   "cell_type": "code",
   "execution_count": null,
   "metadata": {},
   "outputs": [],
   "source": [
    "m_eq2ecl = Rx(deg2rad(ϵ0_deg))"
   ]
  },
  {
   "cell_type": "code",
   "execution_count": null,
   "metadata": {},
   "outputs": [],
   "source": [
    "m_xv_eq2ecl = hcat(vcat(m_eq2ecl, zeros(3,3)), vcat(zeros(3,3), m_eq2ecl))"
   ]
  },
  {
   "cell_type": "code",
   "execution_count": null,
   "metadata": {},
   "outputs": [],
   "source": [
    "q0_197 = zeros(6)\n",
    "q0_197[1:3] .= [-0.9633018953468989, 0.5100289806011301, 0.16528024397505386]\n",
    "q0_197[4:6] .= [-0.0071188720570829036, -0.012061235689040535, -0.0046695143453363164]\n",
    "q0_197"
   ]
  },
  {
   "cell_type": "code",
   "execution_count": null,
   "metadata": {},
   "outputs": [],
   "source": [
    "#xas0 = m_xv_eq2ecl*( q0_197 + (jt_scaling.*dq)[1:6] - xs0 ) # taking S197 initial conditions, useful to check vs JPL elements\n",
    "xas0 = m_xv_eq2ecl*(  Apophis.initialcond(jt_scaling.*dq)[1:6] - xs0  )"
   ]
  },
  {
   "cell_type": "code",
   "execution_count": null,
   "metadata": {},
   "outputs": [],
   "source": [
    "# Solution #197 elements\n",
    "\n",
    "EPOCH_JPL197 = 2454733.5\n",
    "EC_JPL197 = .1911952942528226;  QR_JPL197 = .7460724385331012;  TP_JPL197 = 2454894.912507658200\n",
    "OM_JPL197 = 204.4460284242489;  W_JPL197 = 126.401880836064;  IN_JPL197 = 3.331369228495799\n",
    "kep_JPL197 = [EC_JPL197, QR_JPL197, TP_JPL197, OM_JPL197, W_JPL197, IN_JPL197]"
   ]
  },
  {
   "cell_type": "code",
   "execution_count": null,
   "metadata": {},
   "outputs": [],
   "source": [
    "ec0 = eccentricity(xas0..., μ[su], 0.0)\n",
    "a0 = semimajoraxis(xas0..., μ[su], 0.0)\n",
    "qr0 = a0*(1-ec0)\n",
    "tp0 = timeperipass(2.4547335e6, xas0..., μ[su], 0.0)\n",
    "Ω0 = rad2deg(longascnode(xas0...))\n",
    "ω0 = rad2deg(argperi(xas0..., μ[su], 0.0))\n",
    "i0 = rad2deg(inclination(xas0...))\n",
    "A20 = jt_scaling[7]*dq[7]\n",
    "kep_OR6 = [ec0(x_OR6), qr0(x_OR6), tp0(x_OR6), Ω0(x_OR6), ω0(x_OR6), i0(x_OR6), A20(x_OR6)]\n",
    "kep_OR7 = [ec0(x_OR7), qr0(x_OR7), tp0(x_OR7), Ω0(x_OR7), ω0(x_OR7), i0(x_OR7), A20(x_OR7)]\n",
    "kep_197 = [ec0(), qr0(), tp0(), Ω0(), ω0(), i0(), A20()]"
   ]
  },
  {
   "cell_type": "code",
   "execution_count": null,
   "metadata": {},
   "outputs": [],
   "source": [
    "(kep_JPL197 .- kep_OR6[1:6])"
   ]
  },
  {
   "cell_type": "code",
   "execution_count": null,
   "metadata": {},
   "outputs": [],
   "source": [
    "(kep_JPL197 .- kep_197[1:6])./eps.(kep_JPL197)"
   ]
  },
  {
   "cell_type": "code",
   "execution_count": null,
   "metadata": {},
   "outputs": [],
   "source": [
    "kep0 = [ec0, qr0, tp0, Ω0, ω0, i0, A20];"
   ]
  },
  {
   "cell_type": "code",
   "execution_count": null,
   "metadata": {},
   "outputs": [],
   "source": [
    "TaylorSeries.jacobian(kep0)'"
   ]
  },
  {
   "cell_type": "code",
   "execution_count": null,
   "metadata": {},
   "outputs": [],
   "source": [
    "t_car2kep(x) = TaylorSeries.jacobian(kep0, x)'\n",
    "t_car2kep() = TaylorSeries.jacobian(kep0)'"
   ]
  },
  {
   "cell_type": "code",
   "execution_count": null,
   "metadata": {},
   "outputs": [],
   "source": [
    "t_car2kep()"
   ]
  },
  {
   "cell_type": "code",
   "execution_count": null,
   "metadata": {},
   "outputs": [],
   "source": [
    "t_car2kep() .- TaylorSeries.jacobian(kep0)'"
   ]
  },
  {
   "cell_type": "code",
   "execution_count": null,
   "metadata": {},
   "outputs": [],
   "source": [
    "Γ_O7_kep = (t_car2kep(x_O7)')*Γ_O7*(t_car2kep(x_O7));\n",
    "Γ_O6_kep = (t_car2kep(x_O6)[1:6,1:6]')*Γ_O6*t_car2kep(x_O6)[1:6,1:6];\n",
    "Γ_OR7_kep = (t_car2kep(x_OR7)')*Γ_OR7*(t_car2kep(x_OR7));\n",
    "Γ_OR6_kep = (t_car2kep(x_OR6)[1:6,1:6]')*Γ_OR6*t_car2kep(x_OR6)[1:6,1:6];"
   ]
  },
  {
   "cell_type": "code",
   "execution_count": null,
   "metadata": {},
   "outputs": [],
   "source": [
    "for (x, Γ_kep) in [(x_O6, Γ_O6_kep), (x_OR6, Γ_OR6_kep), (x_O7, Γ_O7_kep), (x_OR7, Γ_OR7_kep)]\n",
    "    @show kep0(x)\n",
    "    @show sqrt.(diag(Γ_kep))\n",
    "    println(\"* ----===OOO===--- *\")\n",
    "end"
   ]
  },
  {
   "cell_type": "code",
   "execution_count": null,
   "metadata": {},
   "outputs": [],
   "source": [
    "kep0(x_OR7)"
   ]
  },
  {
   "cell_type": "code",
   "execution_count": null,
   "metadata": {},
   "outputs": [],
   "source": [
    "sqrt.(diag(Γ_OR7_kep))"
   ]
  },
  {
   "cell_type": "code",
   "execution_count": null,
   "metadata": {},
   "outputs": [],
   "source": [
    "kep0(x_OR6)"
   ]
  },
  {
   "cell_type": "code",
   "execution_count": null,
   "metadata": {},
   "outputs": [],
   "source": [
    "sqrt.(diag(Γ_OR6_kep))"
   ]
  },
  {
   "cell_type": "code",
   "execution_count": null,
   "metadata": {},
   "outputs": [],
   "source": [
    "Γ_kep_JPL199 = [ 2.858062040774483E-17 -2.531903029559859E-17   2.451271598753632E-14     5.341143529000106E-14     -5.064059304794175E-14     -2.316088496620918E-16     -9.159706240530915E-23;\n",
    "-2.531903029559859E-17 2.250437378457998E-17   -2.122266051203493E-14     -5.100944859184798E-14     4.826834522209508E-14     2.76636664162405E-16     7.744081722922498E-23;\n",
    " 2.451271598753632E-14 -2.122266051203493E-14   2.501437350446983E-11     1.16213242311946E-11     -1.057653022558682E-11     4.597741246907787E-13     -1.026132427113056E-19;\n",
    " 5.341143529000106E-14 -5.100944859184798E-14   1.16213242311946E-11     4.437388022822618E-10     -4.338840441053813E-10     -6.817498150073878E-12     -4.324000765783613E-21;\n",
    "-5.064059304794175E-14 4.826834522209508E-14   -1.057653022558682E-11     -4.338840441053813E-10     4.261149273549589E-10     6.697032883689781E-12     1.139615135464918E-20;\n",
    "-2.316088496620918E-16 2.76636664162405E-16   4.597741246907787E-13     -6.817498150073878E-12     6.697032883689781E-12     1.22672053287042E-13     -2.524941685627351E-21;\n",
    "-9.159706240530915E-23 7.744081722922498E-23   -1.026132427113056E-19     -4.324000765783613E-21     1.139615135464918E-20     -2.524941685627351E-21     4.846398125111792E-28]\n"
   ]
  },
  {
   "cell_type": "code",
   "execution_count": null,
   "metadata": {},
   "outputs": [],
   "source": [
    "Γ_OR7_kep"
   ]
  },
  {
   "cell_type": "code",
   "execution_count": null,
   "metadata": {},
   "outputs": [],
   "source": [
    "(Γ_kep_JPL199 .- Γ_OR7_kep)./Γ_kep_JPL199"
   ]
  },
  {
   "cell_type": "code",
   "execution_count": null,
   "metadata": {},
   "outputs": [],
   "source": [
    "Γ_OR7_kep ./ Γ_kep_JPL199"
   ]
  },
  {
   "cell_type": "code",
   "execution_count": null,
   "metadata": {},
   "outputs": [],
   "source": [
    "function adotyark(A2, a, e, mu)\n",
    "    return 2A2/(sqrt(a)*(1-e^2)*sqrt(mu))\n",
    "end"
   ]
  },
  {
   "cell_type": "code",
   "execution_count": null,
   "metadata": {},
   "outputs": [],
   "source": [
    "kep_OR7"
   ]
  },
  {
   "cell_type": "code",
   "execution_count": null,
   "metadata": {},
   "outputs": [],
   "source": [
    "orbel_OR7_TN = kep_OR7 .+ dq"
   ]
  },
  {
   "cell_type": "code",
   "execution_count": null,
   "metadata": {},
   "outputs": [],
   "source": [
    "ady_kep_au_My = 1e6yr*adotyark(orbel_OR7_TN[7], orbel_OR7_TN[2]/(1.0 - orbel_OR7_TN[1]), orbel_OR7_TN[1], μ[1]) # au/Myr"
   ]
  },
  {
   "cell_type": "code",
   "execution_count": null,
   "metadata": {},
   "outputs": [],
   "source": [
    "ady_kep_m_y = 1e3au*yr*adotyark(orbel_OR7_TN[7], orbel_OR7_TN[2]/(1.0 - orbel_OR7_TN[1]), orbel_OR7_TN[1], μ[1]) #m/yr"
   ]
  },
  {
   "cell_type": "code",
   "execution_count": null,
   "metadata": {},
   "outputs": [],
   "source": [
    "t_kep2ady(x, ady_kep) = TaylorSeries.gradient(ady_kep)(x)"
   ]
  },
  {
   "cell_type": "code",
   "execution_count": null,
   "metadata": {},
   "outputs": [],
   "source": [
    "sqrt( (t_kep2ady(kep_OR7, ady_kep_au_My)')*Γ_OR7_kep*t_kep2ady(kep_OR7, ady_kep_au_My) )"
   ]
  },
  {
   "cell_type": "code",
   "execution_count": null,
   "metadata": {},
   "outputs": [],
   "source": [
    "sqrt( (t_kep2ady(kep_OR7, ady_kep_m_y)')*Γ_OR7_kep*t_kep2ady(kep_OR7, ady_kep_m_y) )"
   ]
  },
  {
   "cell_type": "markdown",
   "metadata": {},
   "source": [
    "$(-22 \\pm 10)\\times 10^{-4}$au/Myr\n",
    "\n",
    "\n",
    "$(-339 \\pm 158)$m/yr"
   ]
  },
  {
   "cell_type": "markdown",
   "metadata": {},
   "source": [
    "## adot OR6 vs OR7 (2029) <---"
   ]
  },
  {
   "cell_type": "code",
   "execution_count": null,
   "metadata": {},
   "outputs": [],
   "source": []
  },
  {
   "cell_type": "code",
   "execution_count": null,
   "metadata": {},
   "outputs": [],
   "source": []
  },
  {
   "cell_type": "markdown",
   "metadata": {},
   "source": [
    "# Gnuplot"
   ]
  },
  {
   "cell_type": "code",
   "execution_count": null,
   "metadata": {},
   "outputs": [],
   "source": [
    "using Gnuplot"
   ]
  },
  {
   "cell_type": "markdown",
   "metadata": {},
   "source": [
    "## 2029 B-plane, zoom out"
   ]
  },
  {
   "cell_type": "code",
   "execution_count": null,
   "metadata": {},
   "outputs": [],
   "source": [
    "nomps = 0.08\n",
    "\n",
    "@gp \"unset grid\" :-\n",
    "#@gp :- \"set si sq\" :-\n",
    "@gp :- \"set size ratio -1\" :-\n",
    "@gp :- \"set key top right outside\" :- # inside box\" :-\n",
    "#@gp :- xrange=[1.48, 1.50] :-\n",
    "#@gp :- yrange=[7.1, 7.6] :-\n",
    "@gp :- \"set xlabel '\\$\\\\xi\\$ [\\$R_\\\\oplus\\$]'\" :-\n",
    "@gp :- \"set ylabel '\\$\\\\zeta\\$ [\\$R_\\\\oplus\\$]'\" :-\n",
    "\n",
    "@gp :- \"set style fill transparent solid 0.35 noborder\" :-\n",
    "@gp :- \"set style circle radius $nomps\" :-\n",
    "\n",
    "#@gp :-B_dot_ξv_O6*au/RE B_dot_ζv_O6*au/RE \"pt 7 ps 0.2 lt 4 t 'JT O6'\" :-\n",
    "#@gp :- B_ξ_3σ_ell_O6 B_ζ_3σ_ell_O6 \"w l lw 3 lt 4 t 'O6 3-\\$\\\\sigma\\$'\" :-\n",
    "#@gp :- B_dot_ξ(x_O6)*au/RE B_dot_ζ(x_O6)*au/RE \"pt 7 ps 0.75 lt 4  t 'O6 nominal'\" :-\n",
    "\n",
    "#@gp :- B_dot_ξv_O7*au/RE B_dot_ζv_O7*au/RE \"pt 7 ps 0.2 lt 1 t 'JT O7'\" :-\n",
    "#@gp :- B_ξ_3σ_ell_O7 B_ζ_3σ_ell_O7 \"w l lw 3 lt 1 t 'O7 3-\\$\\\\sigma\\$'\" :-\n",
    "#@gp :- B_dot_ξ(x_O7)*au/RE B_dot_ζ(x_O7)*au/RE \"pt 7 ps 0.75 lt 1  t 'O7 nominal'\" :-\n",
    "\n",
    "#@gp :- B_dot_ξv_OR6*au/RE B_dot_ζv_OR6*au/RE \"pt 7 ps 0.2 lt 3 t 'JT OR6'\" :-\n",
    "#@gp :- B_ξ_3σ_ell_OR6 B_ζ_3σ_ell_OR6 \"w l lw 3 lt 3 t 'OR6 3-\\$\\\\sigma\\$'\" :-\n",
    "#@gp :- B_dot_ξ(x_OR6)*au/RE B_dot_ζ(x_OR6)*au/RE \"pt 7 ps 0.75 lt 3 t 'OR6 nominal'\" :-\n",
    "\n",
    "#@gp :- B_dot_ξv_OR7*au/RE B_dot_ζv_OR7*au/RE \"pt 7 ps 0.2 lt 2 t 'JT OR7'\" :-\n",
    "\n",
    "#@gp :- cos.(angv) sin.(angv) \"w l lt 6 dashtype 2 t'Earth radius'\" :-\n",
    "@gp :- B_dot_ξ(x_OR7)*au/RE B_dot_ζ(x_OR7)*au/RE \"w circle lc rgb 'white' fs solid 1.0 border lt -1 t 'OR7 nominal'\" :-\n",
    "@gp :- B_ξ_5σ_ell_OR7 B_ζ_5σ_ell_OR7 \"w l lw 2 lc rgb 'gray' t 'OR7 5-\\$\\\\sigma\\$'\" :-\n",
    "@gp :- B_ξ_3σ_ell_OR7 B_ζ_3σ_ell_OR7 \"w l lw 2 lt 2 lc rgb 'black' t 'OR7 3-\\$\\\\sigma\\$'\" :-\n",
    "\n",
    "@gp :- b_E_2029()*cos.(angv) b_E_2029()*sin.(angv) \"w l lw 2 lc rgb 'black' dashtype 1 t'Earth cross section'\" :-\n",
    "#@gp :- R_Valsecchi_6_5*cos.(angv) (D_Valsecchi_6_5.+R_Valsecchi_6_5*sin.(angv)) \"w l lt 3 t'Valsecchi circle 6:5'\" :-\n",
    "@gp :- R_Valsecchi_8_7*cos.(angv) (D_Valsecchi_8_7.+R_Valsecchi_8_7*sin.(angv)) \"w l lw 2 lc rgb 'black' dashtype 3 t 'Valsecchi circle 8:7'\" :-\n",
    "@gp :- R_Valsecchi_7_6*cos.(angv) (D_Valsecchi_7_6.+R_Valsecchi_7_6*sin.(angv)) \"w l lw 2 lc rgb 'black' dashtype 6 t 'Valsecchi circle 7:6'\"\n",
    "\n",
    "#Gnuplot.save(term=\"epslatex standalone color dashed size 7in,6in font \\\",12\\\"\", output=\"bplane_2029_RE__.tex\")\n",
    "#run(`pdflatex bplane_2029_RE__.tex`)"
   ]
  },
  {
   "cell_type": "markdown",
   "metadata": {},
   "source": [
    "## 2029 B-plane, zoom IN"
   ]
  },
  {
   "cell_type": "code",
   "execution_count": null,
   "metadata": {
    "scrolled": true
   },
   "outputs": [],
   "source": [
    "jtps = 0.25\n",
    "ellw = 3.0\n",
    "nomps = 1.5\n",
    "angv_vc = (pi/4):0.0025:(pi/2);\n",
    "\n",
    "@gp \"unset grid\" :-\n",
    "#@gp \"set si sq\" :-\n",
    "#@gp :- \"set size ratio 1.2\" :-\n",
    "@gp :- \"set key top right outside\" :-\n",
    "@gp :- xrange=[9440, 9520] :-\n",
    "@gp :- yrange=[45000, 51000] :-\n",
    "@gp :- \"set xlabel '\\$\\\\xi\\$ [km]'\" :-\n",
    "@gp :- \"set ylabel '\\$\\\\zeta\\$ [km]'\" :-\n",
    "\n",
    "@gp :- \"set xtics 20\" :-\n",
    "\n",
    "@gp :- \"set style fill transparent solid 0.35 noborder\" :-\n",
    "@gp :- \"set style circle radius $nomps\" :-\n",
    "\n",
    "@gp :- B_dot_ξv_O7*au B_dot_ζv_O7*au \"pt 7 ps $jtps lt 4 t 'JT O7'\" :-\n",
    "@gp :- B_dot_ξv_O6*au B_dot_ζv_O6*au \"pt 7 ps $jtps lt 1 t 'JT O6'\" :-\n",
    "@gp :- B_dot_ξv_OR6*au B_dot_ζv_OR6*au \"pt 7 ps $jtps lt 3 t 'JT OR6'\" :-\n",
    "@gp :- B_dot_ξv_OR7*au B_dot_ζv_OR7*au \"pt 7 ps $jtps lc rgb 'black' t 'JT OR7'\" :-\n",
    "\n",
    "@gp :- B_ξ_5σ_ell_OR7*RE B_ζ_5σ_ell_OR7*RE \"w l lw $ellw lc rgb 'gray' t 'OR7 5-\\$\\\\sigma\\$'\" :-\n",
    "@gp :- B_ξ_3σ_ell_OR7*RE B_ζ_3σ_ell_OR7*RE \"w l lw $ellw lt 2 lc rgb 'black' t 'OR7 3-\\$\\\\sigma\\$'\" :-\n",
    "@gp :- B_ξ_3σ_ell_OR6*RE B_ζ_3σ_ell_OR6*RE \"w l lw $ellw lt 3 t 'OR6 3-\\$\\\\sigma\\$'\" :-\n",
    "@gp :- B_ξ_3σ_ell_O6*RE B_ζ_3σ_ell_O6*RE \"w l lw $ellw lt 1 t 'O6 3-\\$\\\\sigma\\$'\" :-\n",
    "@gp :- B_ξ_3σ_ell_O7*RE B_ζ_3σ_ell_O7*RE \"w l lw $ellw lt 4 t 'O7 3-\\$\\\\sigma\\$'\" :-\n",
    "\n",
    "@gp :- B_dot_ξ(x_O6)*au B_dot_ζ(x_O6)*au \"w circle lt 1 fs solid 1.0 border lt -1 t 'O6 nominal'\" :-\n",
    "@gp :- B_dot_ξ(x_O7)*au B_dot_ζ(x_O7)*au \"w circle lt 4 fs solid 1.0 border lt -1  t 'O7 nominal'\" :-\n",
    "@gp :- B_dot_ξ(x_OR6)*au B_dot_ζ(x_OR6)*au \"w circle lt 3 fs solid 1.0 border lt -1 t 'OR6 nominal'\" :-\n",
    "@gp :- B_dot_ξ(x_OR7)*au B_dot_ζ(x_OR7)*au \"w circle lc rgb 'white' fs solid 1.0 border lt -1 t 'OR7 nominal'\" :-\n",
    "\n",
    "@gp :- RE*R_Valsecchi_8_7*cos.(angv_vc) RE*(D_Valsecchi_8_7.+R_Valsecchi_8_7*sin.(angv_vc)) \"w l lw 2 lc rgb 'black' dashtype 3 t 'Valsecchi circle 8:7'\" :-\n",
    "@gp :- RE*R_Valsecchi_7_6*cos.(angv_vc) RE*(D_Valsecchi_7_6.+R_Valsecchi_7_6*sin.(angv_vc)) \"w l lw 2 lc rgb 'black' dashtype 6 t 'Valsecchi circle 7:6'\"\n",
    "#@gp :- RE*R_Valsecchi_6_5*cos.(angv_vc) RE*(D_Valsecchi_6_5.+R_Valsecchi_6_5*sin.(angv_vc)) \"w l lw 2 lc rgb 'black' dashtype 4 t 'Valsecchi circle 6:5'\"\n",
    "\n",
    "#@gp :- cos.(angv) sin.(angv) \"w l lt 6 dashtype 2 t'Earth radius'\" :-\n",
    "#@gp :- b_E_2029()*cos.(angv) b_E_2029()*sin.(angv) \"w l lw 2 lc rgb 'black' dashtype 6 t'Earth cross section'\"\n",
    "\n",
    "#Gnuplot.save(term=\"epslatex standalone color dashed size 7in,6in font \\\",12\\\"\", output=\"bplane_2029_RE_zoom__.tex\")\n",
    "#run(`pdflatex bplane_2029_RE_zoom__.tex`)"
   ]
  },
  {
   "cell_type": "markdown",
   "metadata": {},
   "source": [
    "## Mar 2021 RA/DEC obs prediction, relative to nominal OR6 orbit"
   ]
  },
  {
   "cell_type": "code",
   "execution_count": null,
   "metadata": {
    "scrolled": true
   },
   "outputs": [],
   "source": [
    "Gnuplot.options.gpviewer = true\n",
    "\n",
    "jtps = 0.25\n",
    "ellw = 3.0\n",
    "nomps = 1.5\n",
    "angv_vc = (pi/4):0.0025:(pi/2);\n",
    "\n",
    "yTN = file_dict[\"dec_mar_2021\"]\n",
    "xTN_ = file_dict[\"ras_mar_2021\"]\n",
    "xTN = xTN_.*cos.(deg2rad.(yTN/3600))\n",
    "\n",
    "@show xTN_(x_OR6)/3600, yTN(x_OR6)/3600\n",
    "@show xTN_(x_OR7)/3600, yTN(x_OR7)/3600\n",
    "\n",
    "# Jacobian of transformation from initial conditions to xTN, yTN\n",
    "t_x02xyTN = hcat(TaylorSeries.gradient(xTN), TaylorSeries.gradient(yTN))\n",
    "@show size(t_x02xyTN)\n",
    "\n",
    "# transform cov matrix to d_CA_2020, t_CA_2020 coords\n",
    "Γ_xyTN_OR7 = Hermitian(t_x02xyTN(x_OR7)'*Γ_OR7*(t_x02xyTN(x_OR7)))\n",
    "Γ_xyTN_OR6 = Hermitian(t_x02xyTN(x_OR6)[1:6,:]'*Γ_OR6*(t_x02xyTN(x_OR6)[1:6,:]))\n",
    "# get cholesky-L factor\n",
    "L_xyTN_OR7 = cholesky(Γ_xyTN_OR7).L\n",
    "L_xyTN_OR6 = cholesky(Γ_xyTN_OR6).L\n",
    "\n",
    "@show sqrt.(diag(Γ_xyTN_OR6))\n",
    "@show sqrt.(diag(Γ_xyTN_OR7))\n",
    "\n",
    "xyTN_v_OR6 = Matrix{Float64}(undef, 1000, 2)\n",
    "xyTN_v_OR7 = Matrix{Float64}(undef, 1000, 2)\n",
    "for i in 1:1000\n",
    "    xyTN_v_OR6[i,:] = L_xyTN_OR6*randn(2)\n",
    "    xyTN_v_OR7[i,:] = L_xyTN_OR7*randn(2)\n",
    "end\n",
    "\n",
    "rndv_2sph_xTN = 3*cos.(angv)\n",
    "rndv_2sph_yTN = 3*sin.(angv);\n",
    "\n",
    "xTN_3σ_ell_OR6 = (L_xyTN_OR6[1,1]*rndv_2sph_xTN .+ L_xyTN_OR6[1,2]*rndv_2sph_yTN)\n",
    "yTN_3σ_ell_OR6 = (L_xyTN_OR6[2,1]*rndv_2sph_xTN .+ L_xyTN_OR6[2,2]*rndv_2sph_yTN)\n",
    "#\n",
    "xTN_3σ_ell_OR7 = (L_xyTN_OR7[1,1]*rndv_2sph_xTN .+ L_xyTN_OR7[1,2]*rndv_2sph_yTN)\n",
    "yTN_3σ_ell_OR7 = (L_xyTN_OR7[2,1]*rndv_2sph_xTN .+ L_xyTN_OR7[2,2]*rndv_2sph_yTN);\n",
    "\n",
    "ΔxTN_OR76 = xTN(x_OR7)-xTN(x_OR6)\n",
    "ΔyTN_OR76 = yTN(x_OR7)-yTN(x_OR6)\n",
    "\n",
    "@gp \"set multiplot\"\n",
    "@gp :- \"unset grid\" :-\n",
    "@gp :- \"set si sq\" :-\n",
    "#@gp :- \"set size ratio -1\" :-\n",
    "@gp :- \"set key top right outside\" :-\n",
    "#@gp :- xrange=[-5,2] :-\n",
    "#@gp :- yrange=[-1,2] :-\n",
    "#@gp :- \"set xlabel '\\$\\\\alpha\\\\cos(\\\\delta)-\\\\alpha_\\\\text{OR6}\\\\cos(\\\\delta_\\\\text{OR6})\\$ [arcsec]'\" :-\n",
    "#@gp :- \"set ylabel '\\$\\\\delta-\\\\delta_\\\\text{OR6}\\$ [arcsec]'\" :-\n",
    "@gp :- \"set xlabel '\\$\\\\alpha\\\\cos(\\\\delta)\\$ [arcsec]'\" :-\n",
    "@gp :- \"set ylabel '\\$\\\\delta\\$ [arcsec]'\" :-\n",
    "\n",
    "\n",
    "#@gp :- \"set xtics 20\" :-\n",
    "\n",
    "#@gp :- \"set style fill transparent solid 0.35 noborder\" :-\n",
    "#@gp :- \"set style circle radius $nomps\" :-\n",
    "\n",
    "@gp :- 1 ΔxTN_OR76.+xyTN_v_OR7[:,1] ΔyTN_OR76.+xyTN_v_OR7[:,2] \"pt 7 ps $jtps lt -1 t '7DOF (MC sampling)'\" :-\n",
    "@gp :- xyTN_v_OR6[:,1] xyTN_v_OR6[:,2] \"pt 7 ps $jtps lt 3 t '6DOF (MC sampling)'\" :-\n",
    "\n",
    "@gp :- ΔxTN_OR76.+xTN_3σ_ell_OR7 ΔyTN_OR76.+yTN_3σ_ell_OR7 \"w l lw $ellw lc rgb 'black' t '7DOF (3-\\$\\\\sigma\\$)'\" :-\n",
    "@gp :- xTN_3σ_ell_OR6 yTN_3σ_ell_OR6 \"w l lw $ellw lt 3 t '6DOF (3-\\$\\\\sigma\\$)'\" :-\n",
    "\n",
    "#@gp :- radec_3σ_neodys[:,1] radec_3σ_neodys[:,2] \"w l lw $ellw lt 4 t 'NEODyS (3-\\$\\\\sigma\\$)'\" :-\n",
    "\n",
    "@gp :- ΔxTN_OR76 ΔyTN_OR76 \"w circle lc rgb 'white' fs solid 1.0 border lt -1 t '7DOF (nominal)'\" :-\n",
    "\n",
    "@gp :- 2 \"set origin 0.32, 0.50\" :-\n",
    "@gp :- \"set size 0.4, 0.45\" :-\n",
    "@gp :- xrange=[-0.1, 0.1] :-\n",
    "@gp :- yrange=[-0.2, 0.2] :-\n",
    "@gp :- \"unset xlabel\" :-\n",
    "@gp :- \"unset ylabel\" :-\n",
    "@gp :- \"set xtics 0.1\" :-\n",
    "@gp :- \"set ytics 0.2\" :-\n",
    "\n",
    "@gp :- ΔxTN_OR76.+xyTN_v_OR7[:,1] ΔyTN_OR76.+xyTN_v_OR7[:,2] \"pt 7 ps $jtps lt -1 not\" :-\n",
    "@gp :- ΔxTN_OR76.+xTN_3σ_ell_OR7 ΔyTN_OR76.+yTN_3σ_ell_OR7 \"w l lw $ellw lc rgb 'black' not\" :-\n",
    "@gp :- xTN_3σ_ell_OR6 yTN_3σ_ell_OR6 \"w l lw $ellw lt 3 not\" :-\n",
    "@gp :- xyTN_v_OR6[:,1] xyTN_v_OR6[:,2] \"pt 7 ps $jtps lt 3 not\" :-\n",
    "@gp :- xTN_3σ_ell_OR6 yTN_3σ_ell_OR6 \"w l lw $ellw lt 3 not\" #:-\n",
    "#@gp :- radec_3σ_neodys[:,1] radec_3σ_neodys[:,2] \"w l lw $ellw lt 4 not\"\n",
    "#@gp :- \"unset multiplot\"\n",
    "\n",
    "Gnuplot.save(term=\"epslatex standalone color dashed size 7in,5in font \\\",12\\\"\", output=\"radec_2020_DDays.tex\")\n",
    "run(`pdflatex radec_2020_DDays.tex`)\n",
    "\n",
    "Gnuplot.options.gpviewer = false;"
   ]
  },
  {
   "cell_type": "markdown",
   "metadata": {},
   "source": [
    "## March 2021 Goldstone radar (delay/Doppler) prediction, relative to nominal OR6 orbit"
   ]
  },
  {
   "cell_type": "code",
   "execution_count": null,
   "metadata": {
    "scrolled": true
   },
   "outputs": [],
   "source": [
    "Gnuplot.options.gpviewer = true\n",
    "\n",
    "jtps = 0.25\n",
    "ellw = 3.0\n",
    "nomps = 1.5\n",
    "angv_vc = (pi/4):0.0025:(pi/2);\n",
    "\n",
    "xTN = file_dict[\"del_mar_2021\"]\n",
    "yTN = file_dict[\"dop_mar_2021\"]\n",
    "\n",
    "@show xTN(x_OR6), yTN(x_OR6)\n",
    "@show xTN(x_OR7), yTN(x_OR7)\n",
    "\n",
    "# Jacobian of transformation from initial conditions to xTN, yTN\n",
    "t_x02xyTN = hcat(TaylorSeries.gradient(xTN), TaylorSeries.gradient(yTN))\n",
    "@show size(t_x02xyTN)\n",
    "\n",
    "# transform cov matrix to d_CA_2020, t_CA_2020 coords\n",
    "Γ_xyTN_OR7 = Hermitian(t_x02xyTN(x_OR7)'*Γ_OR7*(t_x02xyTN(x_OR7)))\n",
    "Γ_xyTN_OR6 = Hermitian(t_x02xyTN(x_OR6)[1:6,:]'*Γ_OR6*(t_x02xyTN(x_OR6)[1:6,:]))\n",
    "# get cholesky-L factor\n",
    "L_xyTN_OR7 = cholesky(Γ_xyTN_OR7).L\n",
    "L_xyTN_OR6 = cholesky(Γ_xyTN_OR6).L\n",
    "\n",
    "@show sqrt.(diag(Γ_xyTN_OR6))\n",
    "@show sqrt.(diag(Γ_xyTN_OR7))\n",
    "\n",
    "xyTN_v_OR6 = Matrix{Float64}(undef, 1000, 2)\n",
    "xyTN_v_OR7 = Matrix{Float64}(undef, 1000, 2)\n",
    "for i in 1:1000\n",
    "    xyTN_v_OR6[i,:] = L_xyTN_OR6*randn(2)\n",
    "    xyTN_v_OR7[i,:] = L_xyTN_OR7*randn(2)\n",
    "end\n",
    "\n",
    "rndv_2sph_xTN = 3*cos.(angv)\n",
    "rndv_2sph_yTN = 3*sin.(angv);\n",
    "\n",
    "xTN_3σ_ell_OR6 = (L_xyTN_OR6[1,1]*rndv_2sph_xTN .+ L_xyTN_OR6[1,2]*rndv_2sph_yTN)\n",
    "yTN_3σ_ell_OR6 = (L_xyTN_OR6[2,1]*rndv_2sph_xTN .+ L_xyTN_OR6[2,2]*rndv_2sph_yTN)\n",
    "#\n",
    "xTN_3σ_ell_OR7 = (L_xyTN_OR7[1,1]*rndv_2sph_xTN .+ L_xyTN_OR7[1,2]*rndv_2sph_yTN)\n",
    "yTN_3σ_ell_OR7 = (L_xyTN_OR7[2,1]*rndv_2sph_xTN .+ L_xyTN_OR7[2,2]*rndv_2sph_yTN);\n",
    "\n",
    "xTN_2p5σ_ell_OR7 = (2.5/3)*xTN_3σ_ell_OR7\n",
    "yTN_2p5σ_ell_OR7 = (2.5/3)*yTN_3σ_ell_OR7;\n",
    "\n",
    "ΔxTN_OR76 = xTN(x_OR7)-xTN(x_OR6)\n",
    "ΔyTN_OR76 = yTN(x_OR7)-yTN(x_OR6)\n",
    "\n",
    "@gp \"set multiplot\"\n",
    "@gp :- \"unset grid\" :-\n",
    "@gp :- \"set si sq\" :-\n",
    "#@gp :- \"set size ratio -1\" :-\n",
    "@gp :- \"set key top right outside\" :-\n",
    "@gp :- xrange=[-1600,600] :-\n",
    "@gp :- yrange=[-2,5] :-\n",
    "@gp :- \"set xlabel 'Time-delay [\\\\textmu s]'\" :-\n",
    "@gp :- \"set ylabel 'Doppler shift [Hz]'\" :-\n",
    "\n",
    "\n",
    "#@gp :- \"set xtics 20\" :-\n",
    "\n",
    "#@gp :- \"set style fill transparent solid 0.35 noborder\" :-\n",
    "#@gp :- \"set style circle radius $nomps\" :-\n",
    "\n",
    "@gp :- 1 ΔxTN_OR76.+xyTN_v_OR7[:,1] ΔyTN_OR76.+xyTN_v_OR7[:,2] \"pt 7 ps $jtps lt -1 t '7DOF (MC sampling)'\" :-\n",
    "@gp :- xyTN_v_OR6[:,1] xyTN_v_OR6[:,2] \"pt 7 ps $jtps lt 3 t '6DOF (MC sampling)'\" :-\n",
    "\n",
    "@gp :- ΔxTN_OR76.+xTN_3σ_ell_OR7 ΔyTN_OR76.+yTN_3σ_ell_OR7 \"w l lw $ellw lc rgb 'black' t '7DOF (3-\\$\\\\sigma\\$)'\" :-\n",
    "@gp :- xTN_3σ_ell_OR6 yTN_3σ_ell_OR6 \"w l lw $ellw lt 3 t '6DOF (3-\\$\\\\sigma\\$)'\" :-\n",
    "\n",
    "@gp :- ΔxTN_OR76.+xTN_2p5σ_ell_OR7 ΔyTN_OR76.+yTN_2p5σ_ell_OR7 \"w l lw $ellw lc rgb 'red' t '7DOF (2.5-\\$\\\\sigma\\$)'\" :-\n",
    "\n",
    "@gp :- ΔxTN_OR76 ΔyTN_OR76 \"w circle lc rgb 'white' fs solid 1.0 border lt -1 t '7DOF (nominal)'\" :-\n",
    "@gp :- [1.1243345490830308e8].-xTN(x_OR6) [6121.1974930763245].-yTN(x_OR6) \"pt 1 ps 2.5 lw 4 lt 4 t 'JPL 199 (nominal)'\" :-\n",
    "\n",
    "@gp :- 2 \"set origin 0.28, 0.475\" :-\n",
    "@gp :- \"set size 0.45, 0.5\" :-\n",
    "@gp :- xrange=[-11, 11] :-\n",
    "@gp :- yrange=[-0.12, 0.12] :-\n",
    "@gp :- \"unset xlabel\" :-\n",
    "@gp :- \"unset ylabel\" :-\n",
    "@gp :- \"set xtics 5\" :-\n",
    "@gp :- \"set ytics 0.05\" :-\n",
    "\n",
    "@gp :- ΔxTN_OR76.+xyTN_v_OR7[:,1] ΔyTN_OR76.+xyTN_v_OR7[:,2] \"pt 7 ps $jtps lt -1 not\" :-\n",
    "@gp :- ΔxTN_OR76.+xTN_3σ_ell_OR7 ΔyTN_OR76.+yTN_3σ_ell_OR7 \"w l lw $ellw lc rgb 'black' not\" :-\n",
    "@gp :- xTN_3σ_ell_OR6 yTN_3σ_ell_OR6 \"w l lw $ellw lt 3 not\" :-\n",
    "@gp :- xyTN_v_OR6[:,1] xyTN_v_OR6[:,2] \"pt 7 ps $jtps lt 3 not\" :-\n",
    "@gp :- xTN_3σ_ell_OR6 yTN_3σ_ell_OR6 \"w l lw $ellw lt 3 not\"\n",
    "#@gp :- \"unset multiplot\"\n",
    "\n",
    "Gnuplot.save(term=\"epslatex standalone color dashed size 7in,5in font \\\",12\\\"\", output=\"deldop_2021_Goldstone_DDays.tex\")\n",
    "run(`pdflatex deldop_2021_Goldstone_DDays.tex`)\n",
    "\n",
    "Gnuplot.options.gpviewer = false;"
   ]
  },
  {
   "cell_type": "markdown",
   "metadata": {},
   "source": [
    "## April 2029 closest approach (CA) time and distance, relative to nominal OR6 orbit"
   ]
  },
  {
   "cell_type": "code",
   "execution_count": null,
   "metadata": {
    "scrolled": true
   },
   "outputs": [],
   "source": [
    "Gnuplot.options.gpviewer = true\n",
    "\n",
    "jtps = 0.25\n",
    "ellw = 3.0\n",
    "nomps = 1.5\n",
    "angv_vc = (pi/4):0.0025:(pi/2);\n",
    "\n",
    "xTN = rae_2029*au\n",
    "yTN = t_2029*daysec\n",
    "\n",
    "@show xTN(x_OR6), yTN(x_OR6)\n",
    "@show xTN(x_OR7), yTN(x_OR7)\n",
    "\n",
    "# Jacobian of transformation from initial conditions to xTN, yTN\n",
    "t_x02xyTN = hcat(TaylorSeries.gradient(xTN), TaylorSeries.gradient(yTN))\n",
    "@show size(t_x02xyTN)\n",
    "\n",
    "# transform cov matrix to d_CA_2020, t_CA_2020 coords\n",
    "Γ_xyTN_OR7 = Hermitian(t_x02xyTN(x_OR7)'*Γ_OR7*(t_x02xyTN(x_OR7)))\n",
    "Γ_xyTN_OR6 = Hermitian(t_x02xyTN(x_OR6)[1:6,:]'*Γ_OR6*(t_x02xyTN(x_OR6)[1:6,:]))\n",
    "# get cholesky-L factor\n",
    "L_xyTN_OR7 = cholesky(Γ_xyTN_OR7).L\n",
    "L_xyTN_OR6 = cholesky(Γ_xyTN_OR6).L\n",
    "\n",
    "@show sqrt.(diag(Γ_xyTN_OR6))\n",
    "@show sqrt.(diag(Γ_xyTN_OR7))\n",
    "\n",
    "xyTN_v_OR6 = Matrix{Float64}(undef, 1000, 2)\n",
    "xyTN_v_OR7 = Matrix{Float64}(undef, 1000, 2)\n",
    "for i in 1:1000\n",
    "    xyTN_v_OR6[i,:] = L_xyTN_OR6*randn(2)\n",
    "    xyTN_v_OR7[i,:] = L_xyTN_OR7*randn(2)\n",
    "end\n",
    "\n",
    "rndv_2sph_xTN = 3*cos.(angv)\n",
    "rndv_2sph_yTN = 3*sin.(angv);\n",
    "\n",
    "xTN_3σ_ell_OR6 = (L_xyTN_OR6[1,1]*rndv_2sph_xTN .+ L_xyTN_OR6[1,2]*rndv_2sph_yTN)\n",
    "yTN_3σ_ell_OR6 = (L_xyTN_OR6[2,1]*rndv_2sph_xTN .+ L_xyTN_OR6[2,2]*rndv_2sph_yTN)\n",
    "#\n",
    "xTN_3σ_ell_OR7 = (L_xyTN_OR7[1,1]*rndv_2sph_xTN .+ L_xyTN_OR7[1,2]*rndv_2sph_yTN)\n",
    "yTN_3σ_ell_OR7 = (L_xyTN_OR7[2,1]*rndv_2sph_xTN .+ L_xyTN_OR7[2,2]*rndv_2sph_yTN);\n",
    "\n",
    "ΔxTN_OR76 = xTN(x_OR7)-xTN(x_OR6)\n",
    "ΔyTN_OR76 = yTN(x_OR7)-yTN(x_OR6)\n",
    "\n",
    "@gp \"set multiplot\"\n",
    "@gp :- \"unset grid\" :-\n",
    "@gp :- \"set si sq\" :-\n",
    "#@gp :- \"set size ratio -1\" :-\n",
    "@gp :- \"set key top right outside\" :-\n",
    "@gp :- xrange=[-1800,1200] :-\n",
    "@gp :- yrange=[-35,10] :-\n",
    "@gp :- \"set xlabel 'Geocentric range at closest approach [km]'\" :-\n",
    "@gp :- \"set ylabel 'Time of closest approach [seconds]'\" :-\n",
    "\n",
    "#@gp :- \"set xtics 20\" :-\n",
    "\n",
    "#@gp :- \"set style fill transparent solid 0.35 noborder\" :-\n",
    "#@gp :- \"set style circle radius $nomps\" :-\n",
    "\n",
    "@gp :- 1 ΔxTN_OR76.+xyTN_v_OR7[:,1] ΔyTN_OR76.+xyTN_v_OR7[:,2] \"pt 7 ps $jtps lt -1 t 'OR7 (JT sampling)'\" :-\n",
    "@gp :- xyTN_v_OR6[:,1] xyTN_v_OR6[:,2] \"pt 7 ps $jtps lt 3 t 'OR6 (JT sampling)'\" :-\n",
    "\n",
    "@gp :- ΔxTN_OR76.+xTN_3σ_ell_OR7 ΔyTN_OR76.+yTN_3σ_ell_OR7 \"w l lw $ellw lc rgb 'black' t 'OR7 3-\\$\\\\sigma\\$'\" :-\n",
    "@gp :- xTN_3σ_ell_OR6 yTN_3σ_ell_OR6 \"w l lw $ellw lt 3 t 'OR6 3-\\$\\\\sigma\\$'\" :-\n",
    "\n",
    "@gp :- ΔxTN_OR76 ΔyTN_OR76 \"w circle lc rgb 'white' fs solid 1.0 border lt -1 t 'OR7 nominal'\" :-\n",
    "\n",
    "@gp :- 2 \"set origin 0.325, 0.125\" :-\n",
    "@gp :- \"set size 0.4, 0.45\" :-\n",
    "@gp :- xrange=[-23, 23] :-\n",
    "@gp :- yrange=[-1, 1] :-\n",
    "@gp :- \"unset xlabel\" :-\n",
    "@gp :- \"unset ylabel\" :-\n",
    "@gp :- \"set xtics 20\" :-\n",
    "@gp :- \"set ytics 0.5\" :-\n",
    "\n",
    "@gp :- ΔxTN_OR76.+xyTN_v_OR7[:,1] ΔyTN_OR76.+xyTN_v_OR7[:,2] \"pt 7 ps $jtps lt -1 not\" :-\n",
    "@gp :- ΔxTN_OR76.+xTN_3σ_ell_OR7 ΔyTN_OR76.+yTN_3σ_ell_OR7 \"w l lw $ellw lc rgb 'black' not\" :-\n",
    "@gp :- xTN_3σ_ell_OR6 yTN_3σ_ell_OR6 \"w l lw $ellw lt 3 not\" :-\n",
    "@gp :- xyTN_v_OR6[:,1] xyTN_v_OR6[:,2] \"pt 7 ps $jtps lt 3 not\" :-\n",
    "@gp :- xTN_3σ_ell_OR6 yTN_3σ_ell_OR6 \"w l lw $ellw lt 3 not\"\n",
    "#@gp :- \"unset multiplot\"\n",
    "\n",
    "Gnuplot.save(term=\"epslatex standalone color dashed size 7in,5in font \\\",12\\\"\", output=\"dt_CA_2029.tex\")\n",
    "run(`pdflatex dt_CA_2029.tex`)\n",
    "\n",
    "Gnuplot.options.gpviewer = false;"
   ]
  },
  {
   "cell_type": "code",
   "execution_count": null,
   "metadata": {},
   "outputs": [],
   "source": []
  },
  {
   "cell_type": "code",
   "execution_count": null,
   "metadata": {},
   "outputs": [],
   "source": []
  },
  {
   "cell_type": "code",
   "execution_count": null,
   "metadata": {},
   "outputs": [],
   "source": [
    "# multiplot example below to be run in REPL"
   ]
  },
  {
   "cell_type": "raw",
   "metadata": {},
   "source": [
    "Gnuplot.options.gpviewer = true ### <-- jupyter notebook workaround, remember to set back to false after plotting\n",
    "using Gnuplot\n",
    "x = range(-2pi, stop=2pi, length=20);\n",
    "y = 1.5 * sin.(0.3 .+ 0.7x);\n",
    "err = 0.1 * maximum(abs.(y)) .* fill(1, size(x));\n",
    "y += err .* randn(length(x));\n",
    "name = \"\\$MyDataSet1\"\n",
    "\n",
    "@gp    \"f(x) = a * sin(b + c*x)\"\n",
    "@gp :- \"a=1.5\" \"b=0.3\" \"c=0.7\"\n",
    "@gp :- name=>(x, y, err)\n",
    "@gp :- \"set multiplot layout 2,1\"\n",
    "@gp :- 1 \"p $name w errorbars t 'Data'\"\n",
    "@gp :-   \"p $name u 1:(f(\\$1)) w l t 'Best fit model'\"\n",
    "@gp :- 2 \"p $name u 1:((f(\\$1)-\\$2) / \\$3):(1) w errorbars t 'Resid. [{/Symbol s}]'\"\n",
    "@gp :-   [extrema(x)...] [0,0] \"w l notit dt 2 lc rgb 'black'\" # reference line\n",
    "\n",
    "Gnuplot.save(term=\"epslatex standalone color dashed size 6in,5in font \\\",12\\\"\", output=\"multiplot.tex\")\n",
    "run(`pdflatex multiplot.tex`)\n",
    "Gnuplot.options.gpviewer = false ### <-- jupyter notebook workaround"
   ]
  },
  {
   "cell_type": "code",
   "execution_count": null,
   "metadata": {},
   "outputs": [],
   "source": []
  },
  {
   "cell_type": "markdown",
   "metadata": {},
   "source": [
    "# 2020/2021/2029 RA/dec predictions"
   ]
  },
  {
   "cell_type": "code",
   "execution_count": null,
   "metadata": {},
   "outputs": [],
   "source": [
    "Apophis.loadjpleph()"
   ]
  },
  {
   "cell_type": "code",
   "execution_count": null,
   "metadata": {},
   "outputs": [],
   "source": [
    "et0 = (jd0-J2000)*daysec"
   ]
  },
  {
   "cell_type": "code",
   "execution_count": null,
   "metadata": {},
   "outputs": [],
   "source": [
    "sun_dofs = union(3su-2:3su,3(27+su)-2:3(27+su))\n",
    "earth_dofs = union(3ea-2:3ea,3(27+ea)-2:3(27+ea));"
   ]
  },
  {
   "cell_type": "raw",
   "metadata": {},
   "source": [
    "#Apophis.auday2kmsec( ss16asteph(et0)[sun_dofs] )"
   ]
  },
  {
   "cell_type": "code",
   "execution_count": null,
   "metadata": {},
   "outputs": [],
   "source": [
    "sun_et(et) = Apophis.auday2kmsec( ss16asteph(et)[sun_dofs] )\n",
    "earth_et(et) = Apophis.auday2kmsec( ss16asteph(et)[earth_dofs] )"
   ]
  },
  {
   "cell_type": "raw",
   "metadata": {},
   "source": [
    "#x_2020 = xvS1[27,:]\n",
    "#x_2021 = xvS1[29,:]\n",
    "#x_2029 = xvS1[47,:];"
   ]
  },
  {
   "cell_type": "code",
   "execution_count": null,
   "metadata": {},
   "outputs": [],
   "source": [
    "tv1"
   ]
  },
  {
   "cell_type": "code",
   "execution_count": null,
   "metadata": {},
   "outputs": [],
   "source": [
    "yr0 = 2000 + (jd0 - J2000)/yr"
   ]
  },
  {
   "cell_type": "code",
   "execution_count": null,
   "metadata": {},
   "outputs": [],
   "source": [
    "jdv = jd0 .+ tv1\n",
    "dtv = julian2datetime.(jdv)[2:end-460];"
   ]
  },
  {
   "cell_type": "code",
   "execution_count": null,
   "metadata": {},
   "outputs": [],
   "source": [
    "dtv[end]"
   ]
  },
  {
   "cell_type": "raw",
   "metadata": {},
   "source": [
    "#dtv[2750:3700];"
   ]
  },
  {
   "cell_type": "code",
   "execution_count": null,
   "metadata": {
    "scrolled": true
   },
   "outputs": [],
   "source": [
    "alphav = Vector{Float64}(undef, length(dtv))\n",
    "deltav = Vector{Float64}(undef, length(dtv))\n",
    "tauv = Vector{Float64}(undef, length(dtv))\n",
    "nuv = Vector{Float64}(undef, length(dtv))\n",
    "\n",
    "for i in eachindex(dtv)\n",
    "    alphav[i] , deltav[i] = Apophis.radec(251, dtv[i], pm=false, lod=false, eocorr=false, xvs=sun_et, xve=earth_et)\n",
    "    tauv[i], nuv[i] = Apophis.delay_doppler2(251, dtv[i], 2380, pm=false, lod=false, eocorr=false, xvs=sun_et, xve=earth_et)\n",
    "end"
   ]
  },
  {
   "cell_type": "code",
   "execution_count": null,
   "metadata": {},
   "outputs": [],
   "source": [
    "#plot(tv1[2:end-460], alphav)\n",
    "yrv = yr0 .+ tv1[2:end-460]/yr\n",
    "plot(yrv, deltav/3600, label=false)\n",
    "plot!([yrv[1], yrv[end]], [-1,-1]) #, label=\"Lower decl. lim.\")\n",
    "plot!([yrv[1], yrv[end]], [38,38]) #, label=\"Upper decl. lim.\")\n",
    "ylims!(-50,50)\n",
    "ylabel!(\"Declination [deg]\")\n",
    "xlabel!(\"Year\")"
   ]
  },
  {
   "cell_type": "code",
   "execution_count": null,
   "metadata": {},
   "outputs": [],
   "source": [
    "#plot(tv1[2:end-460], alphav)\n",
    "yrv = yr0 .+ tv1[2:end-460]/yr\n",
    "#plot(yrv, 1e-6clightkms*tauv/(2au))\n",
    "plot(yrv, tauv/1e9)\n",
    "plot!([yrv[1], yrv[end]], [2.3522085507e8,2.3522085507e8]/1e9)\n",
    "#ylims!(0,2.5)\n",
    "ylims!(0,2.5e9/1e9)\n",
    "#ylabel!(\"cτ/2 [au]\")\n",
    "ylabel!(\"Time-delay [10⁹us]\")\n",
    "xlabel!(\"Year\")"
   ]
  },
  {
   "cell_type": "code",
   "execution_count": null,
   "metadata": {},
   "outputs": [],
   "source": [
    "(.824-.751)*365.25"
   ]
  },
  {
   "cell_type": "code",
   "execution_count": null,
   "metadata": {},
   "outputs": [],
   "source": []
  },
  {
   "cell_type": "code",
   "execution_count": null,
   "metadata": {},
   "outputs": [],
   "source": [
    ".07*365.25"
   ]
  },
  {
   "cell_type": "code",
   "execution_count": null,
   "metadata": {},
   "outputs": [],
   "source": [
    ".2*365.25-31-28"
   ]
  },
  {
   "cell_type": "code",
   "execution_count": null,
   "metadata": {},
   "outputs": [],
   "source": [
    ".119*365.25-31"
   ]
  },
  {
   "cell_type": "raw",
   "metadata": {},
   "source": [
    "#scatter(alphav[2750:3700], deltav[2750:3700], m=:circle, ms=sv[2750:3700]) #, ms=1.0, msc=:auto)\n",
    "#ylims!(-1-20/60,38+2/60) # Arecibo declination window"
   ]
  },
  {
   "cell_type": "markdown",
   "metadata": {},
   "source": [
    "- LocalRegistries.jl"
   ]
  },
  {
   "cell_type": "raw",
   "metadata": {},
   "source": [
    "Apophis.radec(251, julian2datetime(jd0+t_2020(x_OR7)), pm=false, lod=false, eocorr=false, xvs=sun_et, xve=earth_et)"
   ]
  },
  {
   "cell_type": "raw",
   "metadata": {},
   "source": [
    "Apophis.radec(251, julian2datetime(jd0+t_2021(x_OR7)), pm=false, lod=false, eocorr=false, xvs=sun_et, xve=earth_et)"
   ]
  },
  {
   "cell_type": "raw",
   "metadata": {},
   "source": [
    "Apophis.radec(251, julian2datetime(jd0+t_2029(x_OR7)), pm=false, lod=false, eocorr=false, xvs=sun_et, xve=earth_et)"
   ]
  },
  {
   "cell_type": "raw",
   "metadata": {},
   "source": [
    "####2020/2021/2029 delay/Doppler predictions"
   ]
  },
  {
   "cell_type": "raw",
   "metadata": {},
   "source": [
    "Apophis.delay_doppler2(251, julian2datetime(jd0+t_2020(x_OR7)), 2380, pm=false, lod=false, eocorr=false, xvs=sun_et, xve=earth_et)"
   ]
  },
  {
   "cell_type": "raw",
   "metadata": {},
   "source": [
    "Apophis.delay_doppler2(251, julian2datetime(jd0+t_2020(x0_JPL)), 2380, pm=false, lod=false, eocorr=false, xvs=sun_et, xve=earth_et)"
   ]
  },
  {
   "cell_type": "raw",
   "metadata": {},
   "source": [
    "Apophis.delay_doppler2(251, julian2datetime(jd0+t_2021(x_OR7)), 2380, pm=false, lod=false, eocorr=false, xvs=sun_et, xve=earth_et)"
   ]
  },
  {
   "cell_type": "raw",
   "metadata": {},
   "source": [
    "Apophis.delay_doppler2(251, julian2datetime(jd0+t_2021(x0_JPL)), 2380, pm=false, lod=false, eocorr=false, xvs=sun_et, xve=earth_et)"
   ]
  },
  {
   "cell_type": "raw",
   "metadata": {},
   "source": [
    "#Apophis.delay_doppler2(251, julian2datetime(jd0+t_2029(x_OR7)), 2380, pm=false, lod=false, eocorr=false, xvs=sun_et, xve=earth_et)"
   ]
  },
  {
   "cell_type": "raw",
   "metadata": {},
   "source": [
    "#Apophis.delay_doppler2(251, julian2datetime(jd0+t_2029(x0_JPL)), 2380, pm=false, lod=false, eocorr=false, xvs=sun_et, xve=earth_et)"
   ]
  },
  {
   "cell_type": "code",
   "execution_count": null,
   "metadata": {},
   "outputs": [],
   "source": []
  },
  {
   "cell_type": "markdown",
   "metadata": {},
   "source": [
    "# Float64 vs Float128"
   ]
  },
  {
   "cell_type": "code",
   "execution_count": null,
   "metadata": {},
   "outputs": [],
   "source": [
    "dx = xv1(x_OR7) .- xv1_f64(x_OR7);"
   ]
  },
  {
   "cell_type": "code",
   "execution_count": null,
   "metadata": {},
   "outputs": [],
   "source": [
    "plot(tv1, au*dx[:,1])\n",
    "plot!(tv1, au*dx[:,2])\n",
    "plot!(tv1, au*dx[:,3])"
   ]
  },
  {
   "cell_type": "code",
   "execution_count": null,
   "metadata": {},
   "outputs": [],
   "source": [
    "function atan(y::Taylor1, x::Taylor1)\n",
    "    a = atan(y/x)\n",
    "    a[0] = atan(constant_term(y), constant_term(x))\n",
    "    return a\n",
    "end"
   ]
  },
  {
   "cell_type": "code",
   "execution_count": null,
   "metadata": {},
   "outputs": [],
   "source": []
  }
 ],
 "metadata": {
  "kernelspec": {
   "display_name": "Julia 1.5.2",
   "language": "julia",
   "name": "julia-1.5"
  },
  "language_info": {
   "file_extension": ".jl",
   "mimetype": "application/julia",
   "name": "julia",
   "version": "1.5.2"
  }
 },
 "nbformat": 4,
 "nbformat_minor": 4
}
