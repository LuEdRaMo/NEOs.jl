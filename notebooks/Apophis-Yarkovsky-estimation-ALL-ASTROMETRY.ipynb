{
 "cells": [
  {
   "cell_type": "code",
   "execution_count": null,
   "metadata": {},
   "outputs": [],
   "source": [
    "]st"
   ]
  },
  {
   "cell_type": "code",
   "execution_count": null,
   "metadata": {},
   "outputs": [],
   "source": [
    "using Revise"
   ]
  },
  {
   "cell_type": "code",
   "execution_count": null,
   "metadata": {},
   "outputs": [],
   "source": [
    "using JuliaDB, TaylorSeries, PlanetaryEphemeris"
   ]
  },
  {
   "cell_type": "code",
   "execution_count": null,
   "metadata": {},
   "outputs": [],
   "source": [
    "using JLD"
   ]
  },
  {
   "cell_type": "code",
   "execution_count": null,
   "metadata": {},
   "outputs": [],
   "source": [
    "using Apophis"
   ]
  },
  {
   "cell_type": "code",
   "execution_count": null,
   "metadata": {},
   "outputs": [],
   "source": [
    "using Statistics"
   ]
  },
  {
   "cell_type": "code",
   "execution_count": null,
   "metadata": {},
   "outputs": [],
   "source": [
    "using LinearAlgebra"
   ]
  },
  {
   "cell_type": "code",
   "execution_count": null,
   "metadata": {},
   "outputs": [],
   "source": [
    "using Dates"
   ]
  },
  {
   "cell_type": "code",
   "execution_count": null,
   "metadata": {},
   "outputs": [],
   "source": [
    "using Plots"
   ]
  },
  {
   "cell_type": "code",
   "execution_count": null,
   "metadata": {},
   "outputs": [],
   "source": []
  },
  {
   "cell_type": "code",
   "execution_count": null,
   "metadata": {},
   "outputs": [],
   "source": [
    "dq = set_variables(\"δx\", order=5, numvars=7)"
   ]
  },
  {
   "cell_type": "code",
   "execution_count": null,
   "metadata": {},
   "outputs": [],
   "source": [
    "Apophis.loadjpleph()"
   ]
  },
  {
   "cell_type": "code",
   "execution_count": null,
   "metadata": {
    "scrolled": true
   },
   "outputs": [],
   "source": [
    "# compute debiasing corrections with 2014 table\n",
    "radec_corr_0408_f15 = radec_table(\"../data/99942_2004_2008.dat\", debias_table=\"2014\")\n",
    "ras_corr_0408_f15 = select(radec_corr_0408_f15, :α_corr)\n",
    "dec_corr_0408_f15 = select(radec_corr_0408_f15, :δ_corr)\n",
    "radec_corr_1120_f15 = radec_table(\"../data/99942_2011_2020.dat\", debias_table=\"2014\")\n",
    "ras_corr_1120_f15 = select(radec_corr_1120_f15, :α_corr)\n",
    "dec_corr_1120_f15 = select(radec_corr_1120_f15, :δ_corr)\n",
    ";"
   ]
  },
  {
   "cell_type": "code",
   "execution_count": null,
   "metadata": {},
   "outputs": [],
   "source": [
    "_radec_0408 = JuliaDB.load(\"radec_99942_2004_2008.jdb\")\n",
    "radec_0408 = insertcolsafter(_radec_0408, length(columns(_radec_0408)), :α_corr_2014 => ras_corr_0408_f15, :δ_corr_2014 => dec_corr_0408_f15);"
   ]
  },
  {
   "cell_type": "code",
   "execution_count": null,
   "metadata": {},
   "outputs": [],
   "source": [
    "_radec_1120 = JuliaDB.load(\"radec_99942_2011_2020.jdb\")\n",
    "radec_1120 = insertcolsafter(_radec_1120, length(columns(_radec_1120)), :α_corr_2014 => ras_corr_1120_f15, :δ_corr_2014 => dec_corr_1120_f15);"
   ]
  },
  {
   "cell_type": "code",
   "execution_count": null,
   "metadata": {},
   "outputs": [],
   "source": [
    "del_comp_0506 = JLD.load(\"deldop_m5y_o5v7_BUG_FIXED_MAYBE.jld\", \"vdel\")\n",
    "dop_comp_0506 = JLD.load(\"deldop_m5y_o5v7_BUG_FIXED_MAYBE.jld\", \"vdop\");"
   ]
  },
  {
   "cell_type": "code",
   "execution_count": null,
   "metadata": {},
   "outputs": [],
   "source": [
    "del_comp_1213 = JLD.load(\"deldop_p6y_o5v7_BUG_FIXED_MAYBE.jld\", \"vdel\")\n",
    "dop_comp_1213 = JLD.load(\"deldop_p6y_o5v7_BUG_FIXED_MAYBE.jld\", \"vdop\");"
   ]
  },
  {
   "cell_type": "code",
   "execution_count": null,
   "metadata": {
    "scrolled": true
   },
   "outputs": [],
   "source": [
    "deldop_obs_0506 = process_radar_data_jpl(\"../data/Apophis_JPL_data_2005_2006.dat\")\n",
    "deldop_obs_1213 = process_radar_data_jpl(\"../data/Apophis_JPL_data_2012_2013.dat\");"
   ]
  },
  {
   "cell_type": "code",
   "execution_count": null,
   "metadata": {},
   "outputs": [],
   "source": [
    "del_ind_0506 = findall(x->x.delay_units == \"us\", deldop_obs_0506)\n",
    "dop_ind_0506 = findall(x->x.doppler_units == \"Hz\", deldop_obs_0506)\n",
    "del_ind_1213 = findall(x->x.delay_units == \"us\", deldop_obs_1213)\n",
    "dop_ind_1213 = findall(x->x.doppler_units == \"Hz\", deldop_obs_1213)\n",
    ";"
   ]
  },
  {
   "cell_type": "code",
   "execution_count": null,
   "metadata": {},
   "outputs": [],
   "source": [
    "del_obs_0506 = delay.(deldop_obs_0506[del_ind_0506])\n",
    "dop_obs_0506 = doppler.(deldop_obs_0506[dop_ind_0506])\n",
    "del_obs_1213 = delay.(deldop_obs_1213[del_ind_1213])\n",
    "dop_obs_1213 = doppler.(deldop_obs_1213[dop_ind_1213])\n",
    ";"
   ]
  },
  {
   "cell_type": "code",
   "execution_count": null,
   "metadata": {},
   "outputs": [],
   "source": [
    "σ_del_0506"
   ]
  },
  {
   "cell_type": "code",
   "execution_count": null,
   "metadata": {},
   "outputs": [],
   "source": [
    "σ_del_0506 = delay_sigma.(deldop_obs_0506[del_ind_0506])\n",
    "σ_dop_0506 = doppler_sigma.(deldop_obs_0506[dop_ind_0506])\n",
    "σ_del_1213 = delay_sigma.(deldop_obs_1213[del_ind_1213])\n",
    "σ_dop_1213 = doppler_sigma.(deldop_obs_1213[dop_ind_1213])\n",
    ";"
   ]
  },
  {
   "cell_type": "code",
   "execution_count": null,
   "metadata": {},
   "outputs": [],
   "source": [
    "del_0506 = table((τ_obs=del_obs_0506,τ_comp=del_comp_0506,σ_τ=σ_del_0506))\n",
    "del_1213 = table((τ_obs=del_obs_1213,τ_comp=del_comp_1213,σ_τ=σ_del_1213))\n",
    "dop_0506 = table((ν_obs=dop_obs_0506,ν_comp=dop_comp_0506,σ_ν=σ_dop_0506))\n",
    "dop_1213 = table((ν_obs=dop_obs_1213,ν_comp=dop_comp_1213,σ_ν=σ_dop_1213));"
   ]
  },
  {
   "cell_type": "code",
   "execution_count": null,
   "metadata": {},
   "outputs": [],
   "source": [
    "del = merge(del_0506, del_1213)"
   ]
  },
  {
   "cell_type": "code",
   "execution_count": null,
   "metadata": {},
   "outputs": [],
   "source": [
    "dop = merge(dop_0506, dop_1213)"
   ]
  },
  {
   "cell_type": "code",
   "execution_count": null,
   "metadata": {},
   "outputs": [],
   "source": [
    "res_τ = select(del, (:τ_obs, :τ_comp)=>x->x[1]-x[2])\n",
    "res_ν = select(dop, (:ν_obs, :ν_comp)=>x->x[1]-x[2])\n",
    "\n",
    "w_τ = select(del, :σ_τ=>x->1/x^2)\n",
    "w_ν = select(dop, :σ_ν=>x->1/x^2)\n",
    ";"
   ]
  },
  {
   "cell_type": "code",
   "execution_count": null,
   "metadata": {},
   "outputs": [],
   "source": []
  },
  {
   "cell_type": "code",
   "execution_count": null,
   "metadata": {},
   "outputs": [],
   "source": [
    "radec_0415 = merge(radec_0408, filter(x -> x.yr<=2015, radec_1120))\n",
    "radec_0420 = merge(radec_0408, radec_1120)\n",
    ";"
   ]
  },
  {
   "cell_type": "code",
   "execution_count": null,
   "metadata": {},
   "outputs": [],
   "source": [
    "length(radec_0415), length(radec_0420)"
   ]
  },
  {
   "cell_type": "code",
   "execution_count": null,
   "metadata": {},
   "outputs": [],
   "source": [
    "# check if all RA/Dec observations are CCD:\n",
    "\n",
    "all(select(radec_0420, :j2000=>x->x == \"C\" || x == \"X\"))"
   ]
  },
  {
   "cell_type": "code",
   "execution_count": null,
   "metadata": {},
   "outputs": [],
   "source": [
    "#filter(x->x.catalog == \" \", radec_0420) # there are 86 RA/Dec obs without catalog info"
   ]
  },
  {
   "cell_type": "code",
   "execution_count": null,
   "metadata": {},
   "outputs": [],
   "source": [
    "#radec_04XX = radec_0415\n",
    "#radec_04XX = radec_0420\n",
    "\n",
    "χ2_rej = 4.25 # Brozovic et al (2018) use Chesley et al (2010) outlier rejection, in turn from Carpino et al (2003)\n",
    "radec_04XX = filter(x->((x.α_obs-x.α_corr_2014-x.α_comp())^2 + (x.δ_obs-x.δ_corr_2014-x.δ_comp())^2)<=χ2_rej, radec_0415)\n",
    "#radec_04XX = filter(x->((x.α_obs-x.α_corr-x.α_comp())^2 + (x.δ_obs-x.δ_corr-x.δ_comp())^2)<χ2_rej, radec_0420)"
   ]
  },
  {
   "cell_type": "code",
   "execution_count": null,
   "metadata": {},
   "outputs": [],
   "source": []
  },
  {
   "cell_type": "code",
   "execution_count": null,
   "metadata": {},
   "outputs": [],
   "source": [
    "res_α_2014 = select(radec_04XX, (:α_obs, :α_corr_2014, :α_comp)=>x->(x[1]-x[2]-x[3]))\n",
    "res_δ_2014 = select(radec_04XX, (:δ_obs, :δ_corr_2014, :δ_comp)=>x->(x[1]-x[2]-x[3]))\n",
    "res_α_2018 = select(radec_04XX, (:α_obs, :α_corr, :α_comp)=>x->(x[1]-x[2]-x[3]))\n",
    "res_δ_2018 = select(radec_04XX, (:δ_obs, :δ_corr, :δ_comp)=>x->(x[1]-x[2]-x[3]))\n",
    "res2_α_2014 = res_α_2014.^2\n",
    "res2_δ_2014 = res_δ_2014.^2\n",
    "res2_α_2018 = res_α_2018.^2\n",
    "res2_δ_2018 = res_δ_2018.^2\n",
    ";"
   ]
  },
  {
   "cell_type": "code",
   "execution_count": null,
   "metadata": {
    "scrolled": true
   },
   "outputs": [],
   "source": [
    "# for each observation bath, count the number of observations made in the same night (?) by the same observatory\n",
    "date_obscode_v = select(radec_04XX, (:dt_utc_obs,:obscode)=>x->(Date(x[1]),x[2]))\n",
    "Nv = [count(x->x[1]==i[1] && x[2]==i[2], date_obscode_v) for i in date_obscode_v]\n",
    "relax_factor = map(x->x>4 ? sqrt(x/4) : 1.0, Nv);\n",
    "\n",
    "# statistical weights according to Veres et al (2017)\n",
    "σ_v17 = map(x->weights_veres2017(x), radec_04XX).*(relax_factor)\n",
    "\n",
    "w_α = 1 ./ (σ_v17.^2)\n",
    "w_δ = 1 ./ (σ_v17.^2)\n",
    ";"
   ]
  },
  {
   "cell_type": "code",
   "execution_count": null,
   "metadata": {},
   "outputs": [],
   "source": [
    "length(w_τ), length(w_ν), length(w_α), length(w_δ)"
   ]
  },
  {
   "cell_type": "code",
   "execution_count": null,
   "metadata": {},
   "outputs": [],
   "source": [
    "length(del), length(dop), length(res_α_2014), length(res_δ_2014), length(res_α_2018), length(res_δ_2018)"
   ]
  },
  {
   "cell_type": "code",
   "execution_count": null,
   "metadata": {},
   "outputs": [],
   "source": [
    "nobs_R = length(del) + length(dop)"
   ]
  },
  {
   "cell_type": "code",
   "execution_count": null,
   "metadata": {},
   "outputs": [],
   "source": [
    "nobs_O = 2length(radec_04XX)"
   ]
  },
  {
   "cell_type": "code",
   "execution_count": null,
   "metadata": {},
   "outputs": [],
   "source": [
    "nobs = nobs_R + nobs_O"
   ]
  },
  {
   "cell_type": "code",
   "execution_count": null,
   "metadata": {},
   "outputs": [],
   "source": []
  },
  {
   "cell_type": "code",
   "execution_count": null,
   "metadata": {},
   "outputs": [],
   "source": [
    "res_O_2014 = vcat(res_α_2014, res_δ_2014)\n",
    "res_O_2018 = vcat(res_α_2018, res_δ_2018)\n",
    "w_O = vcat(w_α, w_δ)\n",
    "\n",
    "res_R = vcat(res_τ, res_ν)\n",
    "w_R = vcat(w_τ, w_ν)\n",
    "\n",
    "res_OR_2014 = vcat(res_R, res_O_2014)\n",
    "res_OR_2018 = vcat(res_R, res_O_2018)\n",
    "w_OR = vcat(w_R, w_O)\n",
    ";"
   ]
  },
  {
   "cell_type": "code",
   "execution_count": null,
   "metadata": {},
   "outputs": [],
   "source": []
  },
  {
   "cell_type": "code",
   "execution_count": null,
   "metadata": {},
   "outputs": [],
   "source": [
    "x_OR7_2014, Γ_OR7_2014 = newtonls(res_OR_2014, w_OR, zeros(7))\n",
    "σ_OR7_2014 = sqrt.(diag(Γ_OR7_2014))\n",
    "@show x_OR7_2014 σ_OR7_2014 x_OR7_2014[end]/σ_OR7_2014[end]\n",
    "\n",
    "x_OR7_2018, Γ_OR7_2018 = newtonls(res_OR_2018, w_OR, zeros(7))\n",
    "σ_OR7_2018 = sqrt.(diag(Γ_OR7_2018))\n",
    "@show x_OR7_2018 σ_OR7_2018 x_OR7_2018[end]/σ_OR7_2018[end]\n",
    "\n",
    "x_OR6_2014, Γ_OR6_2014 = newtonls_6v(res_OR_2014, w_OR, zeros(7))\n",
    "σ_OR6_2014 = sqrt.(diag(Γ_OR6_2014))\n",
    "@show x_OR6_2014 σ_OR6_2014 x_OR6_2014[end]/σ_OR6_2014[end]\n",
    "\n",
    "x_OR6_2018, Γ_OR6_2018 = newtonls_6v(res_OR_2018, w_OR, zeros(7))\n",
    "σ_OR6_2018 = sqrt.(diag(Γ_OR6_2018))\n",
    "@show x_OR6_2018 σ_OR6_2018 x_OR6_2018[end]/σ_OR6_2018[end]\n",
    "\n",
    "x_O7_2014, Γ_O7_2014 = newtonls(res_O_2014, w_O, zeros(7))\n",
    "σ_O7_2014 = sqrt.(diag(Γ_O7_2014))\n",
    "@show x_O7_2014 σ_O7_2014 x_O7_2014[end]/σ_O7_2014[end]\n",
    "\n",
    "x_O7_2018, Γ_O7_2018 = newtonls(res_O_2018, w_O, zeros(7))\n",
    "σ_O7_2018 = sqrt.(diag(Γ_O7_2018))\n",
    "@show x_O7_2018 σ_O7_2018 x_O7_2018[end]/σ_O7_2018[end]\n",
    "\n",
    "x_R7, Γ_R7 = newtonls(res_R, w_R, vcat(zeros(6),10))#zeros(7))\n",
    "σ_R7 = sqrt.(diag(Γ_R7))\n",
    "@show x_R7 σ_R7 x_R7[end]/σ_R7[end]\n",
    ";"
   ]
  },
  {
   "cell_type": "code",
   "execution_count": null,
   "metadata": {},
   "outputs": [],
   "source": [
    "x_OR7_2014[end]/σ_OR7_2014[end], x_OR7_2018[end]/σ_OR7_2018[end]"
   ]
  },
  {
   "cell_type": "code",
   "execution_count": null,
   "metadata": {},
   "outputs": [],
   "source": [
    "#Q_del = sum( select(del, (:τ_obs, :τ_comp, :σ_τ)=>x->((x[1]-x[2])/x[3])^2) )\n",
    "#Q_dop = sum( select(dop, (:ν_obs, :ν_comp, :σ_ν)=>x->((x[1]-x[2])/x[3])^2) )\n",
    "#Q_deldop = Q_del + Q_dop;\n",
    "\n",
    "#Q_radec = sum( vcat(w_α,w_δ).*vcat(res2_α,res2_δ) )\n",
    "#Q = (Q_deldop + Q_radec)/(nobs_O + nobs_R);\n",
    ";"
   ]
  },
  {
   "cell_type": "code",
   "execution_count": null,
   "metadata": {},
   "outputs": [],
   "source": []
  },
  {
   "cell_type": "code",
   "execution_count": null,
   "metadata": {},
   "outputs": [],
   "source": [
    "res_α_OR7_2014 = res_α_2014(x_OR7_2014)\n",
    "res_δ_OR7_2014 = res_δ_2014(x_OR7_2014)\n",
    "res_α_OR7_2018 = res_α_2018(x_OR7_2018)\n",
    "res_δ_OR7_2018 = res_δ_2018(x_OR7_2018)\n",
    ";"
   ]
  },
  {
   "cell_type": "code",
   "execution_count": null,
   "metadata": {},
   "outputs": [],
   "source": [
    "mean(res_α_OR7_2014), std(res_α_OR7_2014), mean(res_δ_OR7_2014), std(res_δ_OR7_2014)"
   ]
  },
  {
   "cell_type": "code",
   "execution_count": null,
   "metadata": {},
   "outputs": [],
   "source": [
    "mean(res_α_OR7_2018), std(res_α_OR7_2018), mean(res_δ_OR7_2018), std(res_δ_OR7_2018)"
   ]
  },
  {
   "cell_type": "code",
   "execution_count": null,
   "metadata": {},
   "outputs": [],
   "source": [
    "minimum(res_α_OR7_2014), maximum(res_α_OR7_2014)"
   ]
  },
  {
   "cell_type": "code",
   "execution_count": null,
   "metadata": {},
   "outputs": [],
   "source": [
    "minimum(res_δ_OR7_2014), maximum(res_δ_OR7_2014)"
   ]
  },
  {
   "cell_type": "code",
   "execution_count": null,
   "metadata": {},
   "outputs": [],
   "source": [
    "gr()"
   ]
  },
  {
   "cell_type": "code",
   "execution_count": null,
   "metadata": {},
   "outputs": [],
   "source": [
    "histogram(res_α_OR7_2014)\n",
    "histogram!(res_α_OR7_2018)"
   ]
  },
  {
   "cell_type": "code",
   "execution_count": null,
   "metadata": {},
   "outputs": [],
   "source": [
    "histogram(res_δ_OR7_2014)\n",
    "histogram!(res_δ_OR7_2018)"
   ]
  },
  {
   "cell_type": "code",
   "execution_count": null,
   "metadata": {},
   "outputs": [],
   "source": [
    "scatter(res_α_OR7_2014, res_δ_OR7_2014, ms=1.0, m=:circle, msc=:auto)\n",
    "scatter!(res_α_OR7_2018, res_δ_OR7_2018, ms=1.0, m=:square, msc=:auto)"
   ]
  },
  {
   "cell_type": "code",
   "execution_count": null,
   "metadata": {},
   "outputs": [],
   "source": [
    "scatter(res_τ(x_OR7_2014), yerror=vcat(σ_del_0506, σ_del_1213))\n",
    "scatter!(res_τ(x_OR7_2018), yerror=vcat(σ_del_0506, σ_del_1213))"
   ]
  },
  {
   "cell_type": "code",
   "execution_count": null,
   "metadata": {},
   "outputs": [],
   "source": [
    "scatter(res_ν(x_OR7_2014), yerror=vcat(σ_dop_0506, σ_dop_1213))\n",
    "scatter!(res_ν(x_OR7_2018), yerror=vcat(σ_dop_0506, σ_dop_1213))"
   ]
  },
  {
   "cell_type": "code",
   "execution_count": null,
   "metadata": {},
   "outputs": [],
   "source": []
  },
  {
   "cell_type": "code",
   "execution_count": null,
   "metadata": {},
   "outputs": [],
   "source": [
    "radec_19_20 = filter(x->x.yr>2019, radec_1120)\n",
    "t_19_20 = 2000 .+ (select(radec_19_20, :dt_utc_obs=>x->datetime2julian(x)) .- J2000) ./ yr\n",
    "α_19_20_obs = select(radec_19_20, (:α_obs, :α_corr_2014)=>x->x[1]-x[2])\n",
    "δ_19_20_obs = select(radec_19_20, (:δ_obs, :δ_corr_2014)=>x->x[1]-x[2])\n",
    "α_19_20_OR6 = select(radec_19_20, :α_comp)(x_OR6_2014)\n",
    "δ_19_20_OR6 = select(radec_19_20, :δ_comp)(x_OR6_2014)\n",
    "α_19_20_OR7 = select(radec_19_20, :α_comp)(x_OR7_2014)\n",
    "δ_19_20_OR7 = select(radec_19_20, :δ_comp)(x_OR7_2014)\n",
    "res_α_19_20_obs_OR6 = α_19_20_obs .- α_19_20_OR6\n",
    "res_δ_19_20_obs_OR6 = δ_19_20_obs .- δ_19_20_OR6\n",
    "res_α_19_20_obs_OR7 = α_19_20_obs .- α_19_20_OR7\n",
    "res_δ_19_20_obs_OR7 = δ_19_20_obs .- δ_19_20_OR7\n",
    ";"
   ]
  },
  {
   "cell_type": "code",
   "execution_count": null,
   "metadata": {},
   "outputs": [],
   "source": [
    "angv = vcat(range(0, length=1000, stop=prevfloat(2pi)), 0)\n",
    "sigma_factor = 3.0\n",
    "σ_cos_ang = sigma_factor*cos.(angv)\n",
    "σ_sin_ang = sigma_factor*sin.(angv);"
   ]
  },
  {
   "cell_type": "code",
   "execution_count": null,
   "metadata": {},
   "outputs": [],
   "source": [
    "cov_αδ_cholf_OR6 = cholesky(cov(hcat(res_α_19_20_obs_OR6, res_δ_19_20_obs_OR6)))"
   ]
  },
  {
   "cell_type": "code",
   "execution_count": null,
   "metadata": {},
   "outputs": [],
   "source": [
    "cov_αδ_cholf_OR7 = cholesky(cov(hcat(res_α_19_20_obs_OR7, res_δ_19_20_obs_OR7)))"
   ]
  },
  {
   "cell_type": "code",
   "execution_count": null,
   "metadata": {},
   "outputs": [],
   "source": [
    "ell_3σ_x_OR6 = cov_αδ_cholf_OR6.L[1,1].*σ_cos_ang .+ cov_αδ_cholf_OR6.L[1,2].*σ_sin_ang\n",
    "ell_3σ_y_OR6 = cov_αδ_cholf_OR6.L[2,1].*σ_cos_ang .+ cov_αδ_cholf_OR6.L[2,2].*σ_sin_ang\n",
    "\n",
    "ell_3σ_x_OR7 = cov_αδ_cholf_OR7.L[1,1].*σ_cos_ang .+ cov_αδ_cholf_OR7.L[1,2].*σ_sin_ang\n",
    "ell_3σ_y_OR7 = cov_αδ_cholf_OR7.L[2,1].*σ_cos_ang .+ cov_αδ_cholf_OR7.L[2,2].*σ_sin_ang\n",
    ";"
   ]
  },
  {
   "cell_type": "code",
   "execution_count": null,
   "metadata": {},
   "outputs": [],
   "source": [
    "scatter((t_19_20.-2020)*12, res_α_19_20_obs_OR6, msc=:auto, m=:xcross, ms=3.0, label=\"OR6\")\n",
    "scatter!((t_19_20.-2020)*12, res_α_19_20_obs_OR7, msc=:auto, m=:square, ms=3.0, label=\"OR7\")\n",
    "xlabel!(\"2020 month\")\n",
    "ylabel!(\"αcos(δ) [arcseconds]\")"
   ]
  },
  {
   "cell_type": "code",
   "execution_count": null,
   "metadata": {},
   "outputs": [],
   "source": [
    "scatter((t_19_20.-2020)*12, res_δ_19_20_obs_OR6, msc=:auto, m=:xcross, ms=3.0, label=\"OR6\")\n",
    "scatter!((t_19_20.-2020)*12, res_δ_19_20_obs_OR7, msc=:auto, m=:square, ms=3.0, label=\"OR7\")\n",
    "xlabel!(\"2020 month\")\n",
    "ylabel!(\"δ [arcseconds]\")"
   ]
  },
  {
   "cell_type": "code",
   "execution_count": null,
   "metadata": {},
   "outputs": [],
   "source": [
    "scatter(res_α_19_20_obs_OR6, res_δ_19_20_obs_OR6, msc=:auto, m=:xcross, ms=3.0, label=\"OR6\")\n",
    "scatter!(res_α_19_20_obs_OR7, res_δ_19_20_obs_OR7, msc=:auto, m=:square, ms=2.0, label=\"OR7\")\n",
    "plot!(ell_3σ_x_OR6, ell_3σ_y_OR6, color=1)\n",
    "plot!(ell_3σ_x_OR7, ell_3σ_y_OR7, color=2)\n",
    "xlabel!(\"αcos(δ) [arcsec]\")\n",
    "ylabel!(\"δ [arcsec]\")"
   ]
  },
  {
   "cell_type": "code",
   "execution_count": null,
   "metadata": {},
   "outputs": [],
   "source": []
  },
  {
   "cell_type": "code",
   "execution_count": null,
   "metadata": {},
   "outputs": [],
   "source": []
  },
  {
   "cell_type": "code",
   "execution_count": null,
   "metadata": {},
   "outputs": [],
   "source": []
  }
 ],
 "metadata": {
  "kernelspec": {
   "display_name": "Julia 1.5.2",
   "language": "julia",
   "name": "julia-1.5"
  },
  "language_info": {
   "file_extension": ".jl",
   "mimetype": "application/julia",
   "name": "julia",
   "version": "1.5.2"
  }
 },
 "nbformat": 4,
 "nbformat_minor": 4
}
