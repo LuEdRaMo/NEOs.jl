{
 "cells": [
  {
   "cell_type": "code",
   "execution_count": null,
   "metadata": {},
   "outputs": [],
   "source": [
    "]st"
   ]
  },
  {
   "cell_type": "code",
   "execution_count": null,
   "metadata": {},
   "outputs": [],
   "source": [
    "using Revise"
   ]
  },
  {
   "cell_type": "code",
   "execution_count": null,
   "metadata": {},
   "outputs": [],
   "source": [
    "using JuliaDB, TaylorSeries, PlanetaryEphemeris"
   ]
  },
  {
   "cell_type": "code",
   "execution_count": null,
   "metadata": {},
   "outputs": [],
   "source": [
    "using JLD"
   ]
  },
  {
   "cell_type": "code",
   "execution_count": null,
   "metadata": {},
   "outputs": [],
   "source": [
    "using Apophis"
   ]
  },
  {
   "cell_type": "code",
   "execution_count": null,
   "metadata": {},
   "outputs": [],
   "source": [
    "using Statistics"
   ]
  },
  {
   "cell_type": "code",
   "execution_count": null,
   "metadata": {},
   "outputs": [],
   "source": [
    "using LinearAlgebra"
   ]
  },
  {
   "cell_type": "code",
   "execution_count": null,
   "metadata": {},
   "outputs": [],
   "source": [
    "using Dates"
   ]
  },
  {
   "cell_type": "code",
   "execution_count": null,
   "metadata": {},
   "outputs": [],
   "source": [
    "#using Plots"
   ]
  },
  {
   "cell_type": "code",
   "execution_count": null,
   "metadata": {},
   "outputs": [],
   "source": [
    "using Gaston"
   ]
  },
  {
   "cell_type": "code",
   "execution_count": null,
   "metadata": {},
   "outputs": [],
   "source": [
    "using StatsBase"
   ]
  },
  {
   "cell_type": "code",
   "execution_count": null,
   "metadata": {},
   "outputs": [],
   "source": [
    "using DelimitedFiles"
   ]
  },
  {
   "cell_type": "code",
   "execution_count": null,
   "metadata": {},
   "outputs": [],
   "source": []
  },
  {
   "cell_type": "code",
   "execution_count": null,
   "metadata": {},
   "outputs": [],
   "source": [
    "dq = set_variables(\"δx\", order=5, numvars=7)"
   ]
  },
  {
   "cell_type": "code",
   "execution_count": null,
   "metadata": {},
   "outputs": [],
   "source": [
    "Apophis.loadjpleph()"
   ]
  },
  {
   "cell_type": "code",
   "execution_count": null,
   "metadata": {},
   "outputs": [],
   "source": []
  },
  {
   "cell_type": "code",
   "execution_count": null,
   "metadata": {},
   "outputs": [],
   "source": [
    "radec_0420 = JuliaDB.load(\"radec_2004_2020_o5v7.jdb\")\n",
    "radec_2021 = JuliaDB.load(\"radec_2020_2021_o5v7.jdb\")\n",
    "radec_0421_ = merge(radec_0420, radec_2021)\n",
    "radec_0421 = transform(radec_0421_, :σ => w8sveres17.(radec_0421_))"
   ]
  },
  {
   "cell_type": "code",
   "execution_count": null,
   "metadata": {},
   "outputs": [],
   "source": [
    "deldop_0513 = JuliaDB.load(\"deldop_2005_2013_o5v7_tord10_niter5.jdb\") #deldop_2005_2013_o5v7_ad_tord10.jdb\n",
    "deldop_2121 = JuliaDB.load(\"deldop_2021_o5v7_tord10_niter5.jdb\") #deldop_2021_o5v7_ad_tord15.jdb\n",
    "deldop_0521 = merge(deldop_0513, deldop_2121)\n",
    ";"
   ]
  },
  {
   "cell_type": "code",
   "execution_count": null,
   "metadata": {},
   "outputs": [],
   "source": [
    "del_0513 = filter(x->x.delay_index, deldop_0513)\n",
    "dop_0513 = filter(x->x.doppler_index, deldop_0513)\n",
    "\n",
    "del_2121 = filter(x->x.delay_index, deldop_2121)\n",
    "dop_2121 = filter(x->x.doppler_index, deldop_2121)\n",
    "\n",
    "del_0521 = filter(x->x.delay_index, deldop_0521)\n",
    "dop_0521 = filter(x->x.doppler_index, deldop_0521)\n",
    ";"
   ]
  },
  {
   "cell_type": "code",
   "execution_count": null,
   "metadata": {},
   "outputs": [],
   "source": [
    "res_τ = select(del_0521, (:τ_obs, :τ_comp)=>x->x[1]-x[2])\n",
    "res_ν = select(dop_0521, (:ν_obs, :ν_comp)=>x->x[1]-x[2])\n",
    "\n",
    "σ_del_0513 = select(del_0513, :σ_τ)\n",
    "σ_dop_0513 = select(dop_0513, :σ_ν)\n",
    "\n",
    "σ_del_2121 = select(del_2121, :σ_τ)\n",
    "σ_dop_2121 = select(dop_2121, :σ_ν)\n",
    "\n",
    "σ_del_0521 = select(del_0521, :σ_τ)\n",
    "σ_dop_0521 = select(dop_0521, :σ_ν)\n",
    "\n",
    "w_τ = select(del_0521, :σ_τ=>x->1/x^2)\n",
    "w_ν = select(dop_0521, :σ_ν=>x->1/x^2)\n",
    "\n",
    "\n",
    "# only Vokrouhlicky et al. (2015) data\n",
    "res_τ_v15 = select(del_0513, (:τ_obs, :τ_comp)=>x->x[1]-x[2])\n",
    "res_ν_v15 = select(dop_0513, (:ν_obs, :ν_comp)=>x->x[1]-x[2])\n",
    "\n",
    "w_τ_v15 = select(del_0513, :σ_τ=>x->1/x^2)\n",
    "w_ν_v15 = select(dop_0513, :σ_ν=>x->1/x^2)\n",
    ";"
   ]
  },
  {
   "cell_type": "code",
   "execution_count": null,
   "metadata": {},
   "outputs": [],
   "source": []
  },
  {
   "cell_type": "code",
   "execution_count": null,
   "metadata": {},
   "outputs": [],
   "source": [
    "# check if all RA/Dec observations are CCD:\n",
    "\n",
    "all(select(radec_0421, :j2000=>x->x == \"C\" || x == \"X\"))"
   ]
  },
  {
   "cell_type": "code",
   "execution_count": null,
   "metadata": {},
   "outputs": [],
   "source": [
    "filter(x->x.catalog == \" \", radec_0421) # there are 452 RA/Dec obs without catalog info"
   ]
  },
  {
   "cell_type": "code",
   "execution_count": null,
   "metadata": {},
   "outputs": [],
   "source": [
    "#select(radec_0420, :dt_utc_obs)[1] > DateTime(2004)\n",
    "#filter(x->x.dt_utc_obs<DateTime(2021,1,14), radec_0420)"
   ]
  },
  {
   "cell_type": "code",
   "execution_count": null,
   "metadata": {},
   "outputs": [],
   "source": [
    "#Γ_OR7"
   ]
  },
  {
   "cell_type": "code",
   "execution_count": null,
   "metadata": {},
   "outputs": [],
   "source": [
    "res0 = radec_04XX[1];"
   ]
  },
  {
   "cell_type": "code",
   "execution_count": null,
   "metadata": {},
   "outputs": [],
   "source": [
    "#res0."
   ]
  },
  {
   "cell_type": "code",
   "execution_count": null,
   "metadata": {},
   "outputs": [],
   "source": [
    "function chisqobs(row, Γ_β, x, outlier::Bool=false)\n",
    "    A_α_TN = TaylorSeries.gradient(row.α_obs-row.α_corr-row.α_comp)\n",
    "    A_δ_TN = TaylorSeries.gradient(row.δ_obs-row.δ_corr-row.δ_comp)\n",
    "    A_i = hcat(A_α_TN(x), A_δ_TN(x))\n",
    "    outlier_sign = outlier*2-1\n",
    "    (A_i')*Γ_β*A_i\n",
    "end"
   ]
  },
  {
   "cell_type": "code",
   "execution_count": null,
   "metadata": {},
   "outputs": [],
   "source": []
  },
  {
   "cell_type": "code",
   "execution_count": null,
   "metadata": {
    "scrolled": true
   },
   "outputs": [],
   "source": [
    "chisqobs(res0, Γ_OR7, x_OR7)"
   ]
  },
  {
   "cell_type": "code",
   "execution_count": null,
   "metadata": {},
   "outputs": [],
   "source": [
    "#radec_04XX = radec_0415\n",
    "#radec_04XX = radec_0420\n",
    "#radec_04XX = radec_0421\n",
    "radec_04XX = filter(x->( DateTime(x.yr, x.month, x.day) != DateTime(2021, 1, 28) ), radec_0421)\n",
    "\n",
    "#radec_04XX = filter(x->x.dt_utc_obs<DateTime(2021,1,14), radec_0420)\n",
    "\n",
    "χ2_rej = 4.0 #4.0 #4.25 #5.025 # Brozovic et al (2018) use Chesley et al (2010) outlier rejection, in turn from Carpino et al (2003)\n",
    "\n",
    "#radec_04XX = filter(x->((x.α_obs-x.α_corr-x.α_comp())^2 + (x.δ_obs-x.δ_corr-x.δ_comp())^2)<χ2_rej, radec_04XX)\n",
    "#radec_04XX = filter(x->((x.α_obs-x.α_corr-x.α_comp(x_OR7))^2 + (x.δ_obs-x.δ_corr-x.δ_comp(x_OR7))^2)/(x.σ^2) ≤ χ2_rej, radec_04XX)"
   ]
  },
  {
   "cell_type": "code",
   "execution_count": null,
   "metadata": {},
   "outputs": [],
   "source": [
    "select(radec_04XX, :dt_utc_obs)"
   ]
  },
  {
   "cell_type": "code",
   "execution_count": null,
   "metadata": {},
   "outputs": [],
   "source": []
  },
  {
   "cell_type": "code",
   "execution_count": null,
   "metadata": {},
   "outputs": [],
   "source": [
    "# Vokrouhlicky et al. (2015) obs table\n",
    "radec_vok15 = radec_table(\"../data/vokr15_mpc_formatted.dat\")\n",
    "# vector of RA values from Vokrouhlicky et al. (2015) observations (used for filtering)\n",
    "vok15_rav = select(radec_vok15, :α_obs);\n",
    "\n",
    "vok15_ind_filt = findall(x->x ∈ vok15_rav, select(radec_04XX, :α_obs))\n",
    "@show length(vok15_ind_filt)\n",
    ";"
   ]
  },
  {
   "cell_type": "code",
   "execution_count": null,
   "metadata": {},
   "outputs": [],
   "source": [
    "# Vorkouhliky et al. (2015) RA/Dec table\n",
    "radec_v15 = filter(x->x.α_obs ∈ vok15_rav, radec_04XX);"
   ]
  },
  {
   "cell_type": "code",
   "execution_count": null,
   "metadata": {},
   "outputs": [],
   "source": [
    "# RA/Dec debias corrections using table from Farnocchia et al. (2015)\n",
    "radec_v15_radec_corr_2014 = select(radec_table(\"../data/vokr15_mpc_formatted.dat\", debias_table=\"2018\"), (:α_corr, :δ_corr));"
   ]
  },
  {
   "cell_type": "code",
   "execution_count": null,
   "metadata": {},
   "outputs": [],
   "source": []
  },
  {
   "cell_type": "code",
   "execution_count": null,
   "metadata": {},
   "outputs": [],
   "source": [
    "res_α = select(radec_04XX, (:α_obs, :α_corr, :α_comp)=>x->(x[1]-x[2]-x[3]))\n",
    "res_δ = select(radec_04XX, (:δ_obs, :δ_corr, :δ_comp)=>x->(x[1]-x[2]-x[3]))\n",
    "\n",
    "res_α_v15 = select(radec_v15, (:α_obs, :α_comp)=>x->(x[1]-x[2])) - select(radec_v15_radec_corr_2014, :α_corr)\n",
    "res_δ_v15 = select(radec_v15, (:δ_obs, :δ_comp)=>x->(x[1]-x[2])) - select(radec_v15_radec_corr_2014, :δ_corr)\n",
    ";"
   ]
  },
  {
   "cell_type": "code",
   "execution_count": null,
   "metadata": {},
   "outputs": [],
   "source": [
    "# read astrometric errors from Tholen et al. (2013)\n",
    "tho13_errors = readdlm(\"../data/tholenetal2013_opterror.dat\", ',');\n",
    "# compute weights\n",
    "w_α_tho13 = 1 ./ (tho13_errors[:,1].^2 .+ tho13_errors[:,3].^2 .+ tho13_errors[:,5].^2)\n",
    "w_δ_tho13 = 1 ./ (tho13_errors[:,2].^2 .+ tho13_errors[:,4].^2 .+ tho13_errors[:,6].^2)\n",
    "\n",
    "# Tholen et al. (2013) obs table\n",
    "radec_tho13 = radec_table(\"../data/tholen13_mpc_formatted.dat\")\n",
    "# vector of RA values from Tholen et al. (2013) observations (used for filtering)\n",
    "tho13_rav = select(radec_tho13, :α_obs);\n",
    "\n",
    "tho13_ind_filt = findall(x->x ∈ tho13_rav, select(radec_04XX, :α_obs))\n",
    "tho13_ind_filt_v15 = findall(x->x ∈ tho13_rav, select(radec_v15, :α_obs))\n",
    "@show length(tho13_ind_filt), length(tho13_ind_filt_v15)\n",
    ";"
   ]
  },
  {
   "cell_type": "code",
   "execution_count": null,
   "metadata": {},
   "outputs": [],
   "source": [
    "function w8sfarnocchia15(row::NamedTuple)\n",
    "    return w8sfarnocchia15(row.obscode, row.dt_utc_obs, row.catalog)\n",
    "end\n",
    "function w8sfarnocchia15(obscode::Union{Int,String}, dt_utc_obs::DateTime, catalog::String)\n",
    "    w = 1.0 # unit weight (arcseconds)\n",
    "    if obscode == \"H01\" # Magdalena Ridge\n",
    "        return 0.3w\n",
    "    elseif obscode == \"568\" # Mauna Kea (MPEC 2014-R71)\n",
    "        return 0.13w #0.2w #0.2\":Verevs17 weight;0.13\":Farnocchia15 weight\n",
    "    elseif obscode == \"F51\" # PanSTARRS-PS1\n",
    "        return 0.15w #0.2w #0.2\":Verevs17 weight;0.15\":Farnocchia15 weight\n",
    "    else\n",
    "        return w\n",
    "    end\n",
    "end\n"
   ]
  },
  {
   "cell_type": "code",
   "execution_count": null,
   "metadata": {
    "scrolled": true
   },
   "outputs": [],
   "source": [
    "# for each observation batch, count the number of observations made in the same night (?) by the same observatory\n",
    "date_obscode_v = select(radec_04XX, (:dt_utc_obs,:obscode)=>x->(Date(x[1]),x[2]))\n",
    "date_obscode_v_v15 = select(radec_v15, (:dt_utc_obs,:obscode)=>x->(Date(x[1]),x[2]))\n",
    "Nv = [count(x->x[1]==i[1] && x[2]==i[2], date_obscode_v) for i in date_obscode_v]\n",
    "Nv_v15 = [count(x->x[1]==i[1] && x[2]==i[2], date_obscode_v_v15) for i in date_obscode_v_v15]\n",
    "relax_factor = map(x->x>4.0 ? x/4.0 : 1.0, Nv)\n",
    "relax_factor_v15 = map(x->x>4.0 ? x/5.0 : 1.0, Nv_v15) # map(x->x>2.0 ? x : 1.0, Nv_v15)\n",
    "\n",
    "# statistical weights according to Veres et al (2017)\n",
    "σ_v17 = w8sveres17.(radec_04XX)\n",
    "σ_v17_v15 = w8sfarnocchia15.(radec_v15) #w8sveres17.(radec_v15)\n",
    "\n",
    "w_α = 1 ./ (σ_v17.^2)\n",
    "w_δ = 1 ./ (σ_v17.^2)\n",
    "\n",
    "w_α_v15 = 1 ./ (σ_v17_v15.^2)\n",
    "w_δ_v15 = 1 ./ (σ_v17_v15.^2)\n",
    "\n",
    "# Tholen et al. (2013) astrometry uncertainties\n",
    "w_α[tho13_ind_filt] .= w_α_tho13\n",
    "w_δ[tho13_ind_filt] .= w_δ_tho13\n",
    "w_α_v15[tho13_ind_filt_v15] .= w_α_tho13\n",
    "w_δ_v15[tho13_ind_filt_v15] .= w_δ_tho13\n",
    "\n",
    "w_α = w_α./(relax_factor)\n",
    "w_δ = w_δ./(relax_factor)\n",
    "\n",
    "w_α_v15 = w_α_v15./(relax_factor_v15)\n",
    "w_δ_v15 = w_δ_v15./(relax_factor_v15)\n",
    ";"
   ]
  },
  {
   "cell_type": "code",
   "execution_count": null,
   "metadata": {},
   "outputs": [],
   "source": [
    "length(w_τ), length(w_ν), length(w_α), length(w_δ)"
   ]
  },
  {
   "cell_type": "code",
   "execution_count": null,
   "metadata": {},
   "outputs": [],
   "source": [
    "length(w_τ_v15), length(w_ν_v15), length(w_α_v15), length(w_δ_v15)"
   ]
  },
  {
   "cell_type": "code",
   "execution_count": null,
   "metadata": {},
   "outputs": [],
   "source": [
    "nobs_R = length(del_0521) + length(dop_0521)\n",
    "nobs_O = length(radec_04XX)\n",
    "nobs = nobs_R + nobs_O\n",
    "@show nobs_O, nobs_R, nobs\n",
    ";"
   ]
  },
  {
   "cell_type": "code",
   "execution_count": null,
   "metadata": {},
   "outputs": [],
   "source": [
    "res_O = vcat(res_α, res_δ)\n",
    "w_O = vcat(w_α, w_δ)\n",
    "\n",
    "res_R = vcat(res_τ, res_ν)\n",
    "w_R = vcat(w_τ, w_ν)\n",
    "\n",
    "res_OR = vcat(res_R, res_O)\n",
    "w_OR = vcat(w_R, w_O)\n",
    ";"
   ]
  },
  {
   "cell_type": "code",
   "execution_count": null,
   "metadata": {},
   "outputs": [],
   "source": [
    "# only Vokrouhliky et al. (2015) data\n",
    "res_O_v15 = vcat(res_α_v15, res_δ_v15)\n",
    "w_O_v15 = vcat(w_α_v15, w_δ_v15)\n",
    "\n",
    "res_R_v15 = vcat(res_τ_v15, res_ν_v15)\n",
    "w_R_v15 = vcat(w_τ_v15, w_ν_v15)\n",
    "\n",
    "res_OR_v15 = vcat(res_R_v15, res_O_v15)\n",
    "w_OR_v15 = vcat(w_R_v15, w_O_v15)\n",
    ";"
   ]
  },
  {
   "cell_type": "code",
   "execution_count": null,
   "metadata": {},
   "outputs": [],
   "source": []
  },
  {
   "cell_type": "code",
   "execution_count": null,
   "metadata": {},
   "outputs": [],
   "source": [
    "x_OR7_v15, Γ_OR7_v15 = newtonls(res_OR_v15, w_OR_v15, zeros(7), 9)\n",
    "σ_OR7_v15 = sqrt.(diag(Γ_OR7_v15))\n",
    "@show x_OR7_v15 σ_OR7_v15 x_OR7_v15[end]/σ_OR7_v15[end]\n",
    "\n",
    "x_OR6_v15, Γ_OR6_v15 = newtonls_6v(res_OR_v15, w_OR_v15, zeros(7))\n",
    "σ_OR6_v15 = sqrt.(diag(Γ_OR6_v15))\n",
    "@show x_OR6_v15 σ_OR6_v15 x_OR6_v15[end]/σ_OR6_v15[end]"
   ]
  },
  {
   "cell_type": "code",
   "execution_count": null,
   "metadata": {},
   "outputs": [],
   "source": []
  },
  {
   "cell_type": "code",
   "execution_count": null,
   "metadata": {
    "scrolled": true,
    "tags": []
   },
   "outputs": [],
   "source": [
    "x_OR7, Γ_OR7 = newtonls(res_OR, w_OR, zeros(7))\n",
    "σ_OR7 = sqrt.(diag(Γ_OR7))\n",
    "@show x_OR7 σ_OR7 x_OR7[end]/σ_OR7[end]\n",
    "\n",
    "x_OR6, Γ_OR6 = newtonls_6v(res_OR, w_OR, zeros(7))\n",
    "σ_OR6 = sqrt.(diag(Γ_OR6))\n",
    "@show x_OR6 σ_OR6 x_OR6[end]/σ_OR6[end]\n",
    "\n",
    "x_O7, Γ_O7 = newtonls(res_O, w_O, zeros(7))\n",
    "σ_O7 = sqrt.(diag(Γ_O7))\n",
    "@show x_O7 σ_O7 x_O7[end]/σ_O7[end]\n",
    "\n",
    "x_R7, Γ_R7 = newtonls(res_R, w_R, vcat(zeros(6),10))#zeros(7))\n",
    "σ_R7 = sqrt.(diag(Γ_R7))\n",
    "@show x_R7 σ_R7 x_R7[end]/σ_R7[end]\n",
    "\n",
    "x_O6, Γ_O6 = newtonls(res_O, w_O, zeros(7))\n",
    "σ_O6 = sqrt.(diag(Γ_O6))\n",
    "@show x_O6 σ_O6 x_O6[end]/σ_O6[end]\n",
    "\n",
    "x_R6, Γ_R6 = newtonls(res_R, w_R, vcat(zeros(6),10))#zeros(7))\n",
    "σ_R6 = sqrt.(diag(Γ_R6))\n",
    "@show x_R6 σ_R6 x_R6[end]/σ_R6[end]\n",
    ";"
   ]
  },
  {
   "cell_type": "code",
   "execution_count": null,
   "metadata": {},
   "outputs": [],
   "source": [
    "@show x_OR7 Γ_OR7"
   ]
  },
  {
   "cell_type": "code",
   "execution_count": null,
   "metadata": {},
   "outputs": [],
   "source": [
    "@show x_OR7.*vcat(1e-8ones(6), 1e-14)"
   ]
  },
  {
   "cell_type": "markdown",
   "metadata": {},
   "source": [
    "# $\\Gamma$ matrix eigenvalues/vectors"
   ]
  },
  {
   "cell_type": "code",
   "execution_count": null,
   "metadata": {},
   "outputs": [],
   "source": [
    "Hermitian(Γ_OR7) - Γ_OR7"
   ]
  },
  {
   "cell_type": "code",
   "execution_count": null,
   "metadata": {},
   "outputs": [],
   "source": [
    "norm(Hermitian(Γ_OR7) - Γ_OR7)"
   ]
  },
  {
   "cell_type": "code",
   "execution_count": null,
   "metadata": {},
   "outputs": [],
   "source": [
    "Γ_OR7_cholf = cholesky(Hermitian(Γ_OR7))"
   ]
  },
  {
   "cell_type": "code",
   "execution_count": null,
   "metadata": {},
   "outputs": [],
   "source": [
    "Γ_OR7_cU = Γ_OR7_cholf.U\n",
    "Γ_OR7_cL = Γ_OR7_cholf.L"
   ]
  },
  {
   "cell_type": "code",
   "execution_count": null,
   "metadata": {},
   "outputs": [],
   "source": [
    "# Compute nominal initial condition in au, au/day, au/day^2\n",
    "q0_OR7 = [\n",
    "    -0.18034747703273316,\n",
    "    0.9406910666200128,\n",
    "    0.3457360259054398,\n",
    "    -0.016265942170279046,\n",
    "    4.392889725556651e-5,\n",
    "    -0.00039519931615139716,\n",
    "    0.0\n",
    "] .+ vcat(1e-8ones(6), 1e-14).*x_OR7"
   ]
  },
  {
   "cell_type": "code",
   "execution_count": null,
   "metadata": {},
   "outputs": [],
   "source": [
    "# relative scalings analogous to Milani (2005)\n",
    "scaling_milani_2005 = vcat(  (1/norm(q0_OR7[1:3]))*ones(3), (1/norm(q0_OR7[4:6]))*ones(3), 1/norm(q0_OR7[7])  )\n",
    "\n",
    "# jet transport propagation scaling\n",
    "jt_scaling = vcat(1e-8ones(6), 1e-14)\n",
    ";"
   ]
  },
  {
   "cell_type": "code",
   "execution_count": null,
   "metadata": {},
   "outputs": [],
   "source": [
    "# compute cov matrix with relative scalings\n",
    "Γ_OR7_scm05 = diagm(scaling_milani_2005) * ( diagm(jt_scaling)*Γ_OR7*diagm(jt_scaling) ) * diagm(scaling_milani_2005)"
   ]
  },
  {
   "cell_type": "code",
   "execution_count": null,
   "metadata": {},
   "outputs": [],
   "source": [
    "# compute normal matrix with relative scalings\n",
    "C_OR7_scm05 = inv(Γ_OR7_scm05)"
   ]
  },
  {
   "cell_type": "code",
   "execution_count": null,
   "metadata": {},
   "outputs": [],
   "source": [
    "# compute eigenvalues, eigenvectors of normal matrix with relative scalings\n",
    "C_eig_OR7_scm05 = eigen(C_OR7_scm05)"
   ]
  },
  {
   "cell_type": "code",
   "execution_count": null,
   "metadata": {},
   "outputs": [],
   "source": [
    "# k₁ * V₁ = 1/√λ₁ * V₁\n",
    "k1_V1 = C_eig_OR7_scm05.vectors[:,1]/sqrt(C_eig_OR7_scm05.values[1])"
   ]
  },
  {
   "cell_type": "code",
   "execution_count": null,
   "metadata": {},
   "outputs": [],
   "source": [
    "# revert eigenvector of \"weak\" direction to JT scaling\n",
    "( k1_V1 ./ scaling_milani_2005 ) ./ jt_scaling"
   ]
  },
  {
   "cell_type": "code",
   "execution_count": null,
   "metadata": {
    "tags": []
   },
   "outputs": [],
   "source": [
    "Taylor1(10) * ( k1_V1 ./ scaling_milani_2005 )"
   ]
  },
  {
   "cell_type": "code",
   "execution_count": null,
   "metadata": {},
   "outputs": [],
   "source": [
    "@show ( ( k1_V1 ./ scaling_milani_2005 )  )  #./ jt_scaling"
   ]
  },
  {
   "cell_type": "code",
   "execution_count": null,
   "metadata": {},
   "outputs": [],
   "source": [
    "σ_OR7"
   ]
  },
  {
   "cell_type": "code",
   "execution_count": null,
   "metadata": {},
   "outputs": [],
   "source": [
    "@show x_OR7 .* jt_scaling"
   ]
  },
  {
   "cell_type": "code",
   "execution_count": null,
   "metadata": {},
   "outputs": [],
   "source": [
    "#@show Γ_OR7"
   ]
  },
  {
   "cell_type": "markdown",
   "metadata": {},
   "source": [
    "# $\\chi^2$, RMS"
   ]
  },
  {
   "cell_type": "markdown",
   "metadata": {},
   "source": [
    "The gravity-only solution post-fit normalized RMS for the optical, radar, and combined optical and radar astrometry are, respectively, 0.448, 14.720 and 1.0259. Moreover, the gravity-only solution post-fit right-ascension weighted mean residual is 0.072$~$arcsec, while the declination weighted mean residual is 0.218$~$arcsec. The weighted time-delay and Doppler shift mean residual for the gravity-only solution are, respectively, -0.06 us and 0.043 Hz. On the other hand, the non-gravitational solution normalized RMS for the optical, radar, and combined optical and radar astrometry are, respectively, 0.313, 0.387 and 0.314. The right-ascension, declination, time-delay and Doppler shift weighted mean residuals, are, respectively, 0.008$~$arcsec, 0.003$~$arcsec, -0.0003$~$us and -0.31$~$Hz."
   ]
  },
  {
   "cell_type": "code",
   "execution_count": null,
   "metadata": {},
   "outputs": [],
   "source": [
    "mean(res_α(x_OR6), weights(w_α)), mean(res_δ(x_OR6), weights(w_δ))"
   ]
  },
  {
   "cell_type": "code",
   "execution_count": null,
   "metadata": {},
   "outputs": [],
   "source": [
    "mean(res_α(x_OR7), weights(w_α)), mean(res_δ(x_OR7), weights(w_δ))"
   ]
  },
  {
   "cell_type": "code",
   "execution_count": null,
   "metadata": {},
   "outputs": [],
   "source": [
    "mean(res_τ(x_OR6), weights(w_τ)), mean(res_ν(x_OR6), weights(w_ν))"
   ]
  },
  {
   "cell_type": "code",
   "execution_count": null,
   "metadata": {},
   "outputs": [],
   "source": [
    "mean(res_τ(x_OR7), weights(w_τ)), mean(res_ν(x_OR7), weights(w_ν))"
   ]
  },
  {
   "cell_type": "code",
   "execution_count": null,
   "metadata": {},
   "outputs": [],
   "source": [
    "nrms(res_O(x_OR7), w_O), nrms(res_R(x_OR7), w_R), nrms(res_OR(x_OR7), w_OR)"
   ]
  },
  {
   "cell_type": "code",
   "execution_count": null,
   "metadata": {},
   "outputs": [],
   "source": [
    "nrms(res_O(x_OR6), w_O), nrms(res_R(x_OR6), w_R), nrms(res_OR(x_OR6), w_OR)"
   ]
  },
  {
   "cell_type": "code",
   "execution_count": null,
   "metadata": {},
   "outputs": [],
   "source": [
    "chi2(res_OR(x_OR7), w_OR)"
   ]
  },
  {
   "cell_type": "code",
   "execution_count": null,
   "metadata": {},
   "outputs": [],
   "source": [
    "chi2(res_OR(x_OR6), w_OR)"
   ]
  },
  {
   "cell_type": "code",
   "execution_count": null,
   "metadata": {},
   "outputs": [],
   "source": [
    "(13113.028426000146-1227.769395635357)/13113.028426000146"
   ]
  },
  {
   "cell_type": "code",
   "execution_count": null,
   "metadata": {},
   "outputs": [],
   "source": [
    "x_OR7[end]/σ_OR7[end]"
   ]
  },
  {
   "cell_type": "code",
   "execution_count": null,
   "metadata": {},
   "outputs": [],
   "source": []
  },
  {
   "cell_type": "code",
   "execution_count": null,
   "metadata": {},
   "outputs": [],
   "source": [
    "jd0 = datetime2julian(DateTime(2020,12,17)) #Julian date (TDB) of integration initial time\n",
    "et0 = (jd0 - J2000)*daysec"
   ]
  },
  {
   "cell_type": "code",
   "execution_count": null,
   "metadata": {},
   "outputs": [],
   "source": [
    "q00 = [-0.18034747703273316, 0.9406910666200128, 0.3457360259054398, -0.016265942170279046, 4.392889725556651e-5, -0.00039519931615139716]"
   ]
  },
  {
   "cell_type": "code",
   "execution_count": null,
   "metadata": {},
   "outputs": [],
   "source": [
    "q00 .+ (vcat(1e-8*ones(6), 1e-14).*x_OR7)[1:6]"
   ]
  },
  {
   "cell_type": "code",
   "execution_count": null,
   "metadata": {},
   "outputs": [],
   "source": [
    "xas = q00 .- Apophis.kmsec2auday(Apophis.sun_pv(et0)) # .+ (vcat(1e-8*ones(6), 1e-14).*x_OR7)[1:6]"
   ]
  },
  {
   "cell_type": "code",
   "execution_count": null,
   "metadata": {},
   "outputs": [],
   "source": [
    "ϵ0_deg = 84381.448/3600;\n",
    "m_eq2ecl = Rx(deg2rad(ϵ0_deg));\n",
    "m_xv_eq2ecl = hcat(vcat(m_eq2ecl, zeros(3,3)), vcat(zeros(3,3), m_eq2ecl));"
   ]
  },
  {
   "cell_type": "code",
   "execution_count": null,
   "metadata": {},
   "outputs": [],
   "source": [
    "#kep0 = vcat([pv2kep(xas .+ (vcat(1e-8*ones(6), 1e-14).*dq)[1:6], μ[1], jd0)...][1:6],1e-14(x_OR7[7] + dq[7]));\n",
    "kep0 = vcat([pv2kep(  m_xv_eq2ecl*(xas .+ (vcat(1e-8*ones(6), 1e-14).*dq)[1:6])  , μ[1], jd0)...][1:6],1e-14(dq[7])); # x_OR6 +\n",
    "kep0()"
   ]
  },
  {
   "cell_type": "code",
   "execution_count": null,
   "metadata": {},
   "outputs": [],
   "source": [
    "kep_OR7 = kep0(x_OR7)"
   ]
  },
  {
   "cell_type": "code",
   "execution_count": null,
   "metadata": {},
   "outputs": [],
   "source": [
    "orbel_OR7_TN = kep_OR7 .+ dq"
   ]
  },
  {
   "cell_type": "code",
   "execution_count": null,
   "metadata": {},
   "outputs": [],
   "source": []
  },
  {
   "cell_type": "code",
   "execution_count": null,
   "metadata": {},
   "outputs": [],
   "source": [
    "var_names_str = prod(get_variable_names().*\" \")\n",
    "vars_old = get_variables()\n",
    "vars_new = set_variables(eltype(vars_old[1]), var_names_str[1:prevind(var_names_str, end)], order=vars_old[1].order)"
   ]
  },
  {
   "cell_type": "code",
   "execution_count": null,
   "metadata": {},
   "outputs": [],
   "source": [
    "x_OR7[7], σ_OR7[7]"
   ]
  },
  {
   "cell_type": "code",
   "execution_count": null,
   "metadata": {},
   "outputs": [],
   "source": [
    "ady_kep_au_My = 1e6yr*yarkp2adot(orbel_OR7_TN[7], orbel_OR7_TN[2]/(1.0 - orbel_OR7_TN[1]), orbel_OR7_TN[1], μ[1]) # au/Myr"
   ]
  },
  {
   "cell_type": "code",
   "execution_count": null,
   "metadata": {},
   "outputs": [],
   "source": [
    "ady_kep_m_y = 1e3au*yr*yarkp2adot(orbel_OR7_TN[7], orbel_OR7_TN[2]/(1.0 - orbel_OR7_TN[1]), orbel_OR7_TN[1], μ[1]) #m/yr"
   ]
  },
  {
   "cell_type": "code",
   "execution_count": null,
   "metadata": {},
   "outputs": [],
   "source": [
    "t_car2kep(x) = TaylorSeries.jacobian(kep0, x)'\n",
    "t_kep2ady(x, ady_kep) = TaylorSeries.gradient(ady_kep)(x)"
   ]
  },
  {
   "cell_type": "code",
   "execution_count": null,
   "metadata": {},
   "outputs": [],
   "source": [
    "Γ_OR7_kep = (t_car2kep(x_OR7)')*Γ_OR7*(t_car2kep(x_OR7))"
   ]
  },
  {
   "cell_type": "code",
   "execution_count": null,
   "metadata": {},
   "outputs": [],
   "source": [
    "1e4sqrt( (t_kep2ady(kep_OR7, ady_kep_au_My)')*Γ_OR7_kep*t_kep2ady(kep_OR7, ady_kep_au_My) )"
   ]
  },
  {
   "cell_type": "code",
   "execution_count": null,
   "metadata": {},
   "outputs": [],
   "source": [
    "sqrt( (t_kep2ady(kep_OR7, ady_kep_m_y)')*Γ_OR7_kep*t_kep2ady(kep_OR7, ady_kep_m_y) )"
   ]
  },
  {
   "cell_type": "code",
   "execution_count": null,
   "metadata": {},
   "outputs": [],
   "source": [
    "t_car2kep(x_OR7)"
   ]
  },
  {
   "cell_type": "code",
   "execution_count": null,
   "metadata": {},
   "outputs": [],
   "source": [
    "σ_OR7_kep = sqrt.(diag(Γ_OR7_kep))"
   ]
  },
  {
   "cell_type": "code",
   "execution_count": null,
   "metadata": {},
   "outputs": [],
   "source": [
    "# WARNING: these are ecliptic elements!!! also, not sure about the order in the Ω ↔ ω angles\n",
    "kep_JPL204 = [.1915088664476708, .7458530510952959, 2459101.040925883049, 204.04198656167, 126.6539656076709, 3.336773294259109, -2.886877799607672E-14]\n",
    "σ_kep_JPL204 = [2.2197e-09, 2.2003e-09, 1.2886e-06, 1.4045e-05, 1.4205e-05, 2.4295e-07, 3.039E-16]\n",
    ";"
   ]
  },
  {
   "cell_type": "code",
   "execution_count": null,
   "metadata": {},
   "outputs": [],
   "source": [
    "kep_OR7"
   ]
  },
  {
   "cell_type": "code",
   "execution_count": null,
   "metadata": {},
   "outputs": [],
   "source": [
    "kep_JPL204"
   ]
  },
  {
   "cell_type": "code",
   "execution_count": null,
   "metadata": {},
   "outputs": [],
   "source": [
    "σ_kep_JPL204"
   ]
  },
  {
   "cell_type": "code",
   "execution_count": null,
   "metadata": {},
   "outputs": [],
   "source": [
    "σ_OR7_kep"
   ]
  },
  {
   "cell_type": "code",
   "execution_count": null,
   "metadata": {},
   "outputs": [],
   "source": [
    "Γ_OR7_kep = (t_car2kep(x_OR7)')*Γ_OR7*(t_car2kep(x_OR7));\n",
    "Γ_OR6_kep = (t_car2kep(x_OR6)[1:6,1:6]')*Γ_OR6*t_car2kep(x_OR6)[1:6,1:6];"
   ]
  },
  {
   "cell_type": "code",
   "execution_count": null,
   "metadata": {},
   "outputs": [],
   "source": [
    "jd0"
   ]
  },
  {
   "cell_type": "code",
   "execution_count": null,
   "metadata": {},
   "outputs": [],
   "source": [
    "for (x, Γ_kep, sol_str) in [(x_OR6, Γ_OR6_kep, \"OR6\"), (x_OR7, Γ_OR7_kep, \"OR7\")]\n",
    "    println(\"* ----===OOO===--- *\", sol_str)\n",
    "    @show kep0(x) sqrt.(diag(Γ_kep))\n",
    "end"
   ]
  },
  {
   "cell_type": "code",
   "execution_count": null,
   "metadata": {},
   "outputs": [],
   "source": [
    "#OR6\n",
    "\n",
    "0.19150873(117)     \\pm 1.52\\times 10^{-9}\n",
    "0.74585318(404)     \\pm 1.48\\times 10^{-9}\n",
    "2459101.040828(880) \\pm 8.58\\times 10^{-7}\n",
    "204.0423(481)       \\pm 1.12\\times 10^{-5}\n",
    "126.6535(068)       \\pm 1.12\\times 10^{-5}\n",
    "3.336763(529)       \\pm 1.91\\times 10^{-7}\n",
    " 0.0 (fixed)                              \n",
    "\n",
    "# OR7\n",
    "\n",
    "0.19150886(705)    \\pm 1.96\\times 10^{-9}\n",
    "0.74585305(045)    \\pm 1.91\\times 10^{-9}\n",
    "2459101.04092(533) \\pm 1.23\\times 10^{-6}\n",
    "204.0419(913)      \\pm 1.16\\times 10^{-5}\n",
    "126.6539(606)      \\pm 1.19\\times 10^{-5}\n",
    "3.336773(194)      \\pm 2.10\\times 10^{-7}\n",
    "-2.8(951)          \\pm 2.65\\times 10^{-2}"
   ]
  },
  {
   "cell_type": "code",
   "execution_count": null,
   "metadata": {},
   "outputs": [],
   "source": [
    "for (x, Γ, sol_str) in [(x_OR6, Γ_OR6, \"OR6\"), (x_OR7, Γ_OR7, \"OR7\")]\n",
    "    println(\"* ----===OOO===--- *\", sol_str)\n",
    "    σ_sol_ = sqrt.(diag(Γ))\n",
    "    σ_sol = length(σ_sol_)==6 ? 1e-8σ_sol_[1:6] : vcat(1e-8σ_sol_[1:6], 1e-14σ_sol_[7])\n",
    "    @show vcat(q00, 0).+vcat(1e-8x[1:6], 1e-14x[7]) σ_sol\n",
    "end"
   ]
  },
  {
   "cell_type": "code",
   "execution_count": null,
   "metadata": {},
   "outputs": [],
   "source": [
    "#OR6\n",
    "\n",
    "-0.1803479(176)            \\pm 1.15\\times 10^{-8} \n",
    " 0.94069120(813)           \\pm 2.28\\times 10^{-9} \n",
    " 0.34573632(688)           \\pm 5.61\\times 10^{-9} \n",
    "-0.0162659364(547)         \\pm 4.56\\times 10^{-11}\n",
    " 4.3919(056)\\times 10^{-5} \\pm 1.17\\times 10^{-10}\n",
    "-0.000395207(186)          \\pm 1.97\\times 10^{-10}\n",
    " 0.0 (fixed)                                      \n",
    "\n",
    "#OR7\n",
    "\n",
    "-0.1803482(842)            \\pm 1.20\\times 10^{-8} \n",
    " 0.94069105(964)           \\pm 2.66\\times 10^{-9} \n",
    " 0.34573599(054)           \\pm 6.41\\times 10^{-9} \n",
    "-0.0162659397(882)         \\pm 5.46\\times 10^{-11}\n",
    " 4.3915(493)\\times 10^{-5} \\pm 1.26\\times 10^{-10}\n",
    "-0.0003(952)               \\pm 2.00\\times 10^{-10}\n",
    "-2.8(951)\\times 10^{-14}   \\pm 2.66\\times 10^{-16}\n"
   ]
  },
  {
   "cell_type": "code",
   "execution_count": null,
   "metadata": {},
   "outputs": [],
   "source": []
  },
  {
   "cell_type": "code",
   "execution_count": null,
   "metadata": {},
   "outputs": [],
   "source": [
    "res_α_OR6 = res_α(x_OR6)\n",
    "res_δ_OR6 = res_δ(x_OR6)\n",
    "\n",
    "res_α_OR7 = res_α(x_OR7)\n",
    "res_δ_OR7 = res_δ(x_OR7)\n",
    ";"
   ]
  },
  {
   "cell_type": "code",
   "execution_count": null,
   "metadata": {},
   "outputs": [],
   "source": [
    "mean(res_α_OR6), std(res_α_OR6), mean(res_δ_OR6), std(res_δ_OR6)"
   ]
  },
  {
   "cell_type": "code",
   "execution_count": null,
   "metadata": {},
   "outputs": [],
   "source": [
    "mean(res_α_OR7), std(res_α_OR7), mean(res_δ_OR7), std(res_δ_OR7)"
   ]
  },
  {
   "cell_type": "code",
   "execution_count": null,
   "metadata": {},
   "outputs": [],
   "source": []
  },
  {
   "cell_type": "code",
   "execution_count": null,
   "metadata": {},
   "outputs": [],
   "source": [
    "#bins_hist = -2.0:0.1:2.0\n",
    "nbins_plot = 100\n",
    "\n",
    "#h_a = fit(Histogram, res_α_OR6, bins_hist)\n",
    "h_a = fit(Histogram, res_α_OR6, nbins=nbins_plot)\n",
    "bc_a = midpoints(h_a.edges[1]) # bin centers\n",
    "bs_a = fill(h_a.edges[1].step.hi, length(bc_a)) # bin sizes\n",
    ";\n",
    "\n",
    "#h_b = fit(Histogram, res_δ_OR6, bins_hist)\n",
    "h_b = fit(Histogram, res_δ_OR6, nbins=nbins_plot)\n",
    "bc_b = midpoints(h_b.edges[1]) # bin centers\n",
    "bs_b = fill(h_b.edges[1].step.hi, length(bc_b)) # bin sizes\n",
    "\n",
    "#h_c = fit(Histogram, res_α_OR7, bins_hist)\n",
    "h_c = fit(Histogram, res_α_OR7, nbins=nbins_plot)\n",
    "bc_c = midpoints(h_c.edges[1]) # bin centers\n",
    "bs_c = fill(h_c.edges[1].step.hi, length(bc_c)) # bin sizes\n",
    "\n",
    "#h_d = fit(Histogram, res_δ_OR7, bins_hist)\n",
    "h_d = fit(Histogram, res_δ_OR7, nbins=nbins_plot)\n",
    "bc_d = midpoints(h_d.edges[1]) # bin centers\n",
    "bs_d = fill(h_d.edges[1].step.hi, length(bc_d)) # bin sizes\n",
    ";"
   ]
  },
  {
   "cell_type": "code",
   "execution_count": null,
   "metadata": {},
   "outputs": [],
   "source": [
    "minimum(res_α_OR6), maximum(res_α_OR6)"
   ]
  },
  {
   "cell_type": "code",
   "execution_count": null,
   "metadata": {},
   "outputs": [],
   "source": [
    "minimum(res_δ_OR6), maximum(res_δ_OR6)"
   ]
  },
  {
   "cell_type": "code",
   "execution_count": null,
   "metadata": {},
   "outputs": [],
   "source": [
    "minimum(res_α_OR7), maximum(res_α_OR7)"
   ]
  },
  {
   "cell_type": "code",
   "execution_count": null,
   "metadata": {},
   "outputs": [],
   "source": [
    "minimum(res_δ_OR7), maximum(res_δ_OR7)"
   ]
  },
  {
   "cell_type": "code",
   "execution_count": null,
   "metadata": {},
   "outputs": [],
   "source": [
    "mean(res_α_OR6), mean(res_δ_OR6)"
   ]
  },
  {
   "cell_type": "code",
   "execution_count": null,
   "metadata": {},
   "outputs": [],
   "source": [
    "mean(res_α_OR7), mean(res_δ_OR7)"
   ]
  },
  {
   "cell_type": "code",
   "execution_count": null,
   "metadata": {},
   "outputs": [],
   "source": [
    "# use findall instead of filter, since we're looking for the indices of ZTF observations\n",
    "ztf_obs_indx = findall(x->x==\"I41\", select(radec_04XX, :obscode))"
   ]
  },
  {
   "cell_type": "code",
   "execution_count": null,
   "metadata": {},
   "outputs": [],
   "source": [
    "res_α_OR7[ztf_obs_indx]"
   ]
  },
  {
   "cell_type": "code",
   "execution_count": null,
   "metadata": {},
   "outputs": [],
   "source": [
    "res_δ_OR7[ztf_obs_indx]"
   ]
  },
  {
   "cell_type": "code",
   "execution_count": null,
   "metadata": {},
   "outputs": [],
   "source": [
    "sqrt(  mean(res_δ_OR7[ztf_obs_indx].^2 .+ res_α_OR7[ztf_obs_indx].^2)  )"
   ]
  },
  {
   "cell_type": "code",
   "execution_count": null,
   "metadata": {},
   "outputs": [],
   "source": []
  },
  {
   "cell_type": "code",
   "execution_count": null,
   "metadata": {},
   "outputs": [],
   "source": [
    "angv = vcat(range(0, length=1000, stop=prevfloat(2pi)), 0)\n",
    "sigma_factor = 3.0\n",
    "σ_cos_ang = sigma_factor*cos.(angv)\n",
    "σ_sin_ang = sigma_factor*sin.(angv)\n",
    "\n",
    "cov_αδ_cholf_OR6 = cholesky(cov(hcat(res_α_OR6, res_δ_OR6)))\n",
    "cov_αδ_cholf_OR7 = cholesky(cov(hcat(res_α_OR7, res_δ_OR7)))\n",
    "\n",
    "ell_3σ_x_OR6 = mean(res_α_OR6) .+ cov_αδ_cholf_OR6.L[1,1].*σ_cos_ang .+ cov_αδ_cholf_OR6.L[1,2].*σ_sin_ang\n",
    "ell_3σ_y_OR6 = mean(res_δ_OR6) .+ cov_αδ_cholf_OR6.L[2,1].*σ_cos_ang .+ cov_αδ_cholf_OR6.L[2,2].*σ_sin_ang\n",
    "\n",
    "ell_3σ_x_OR7 = mean(res_α_OR7) .+ cov_αδ_cholf_OR7.L[1,1].*σ_cos_ang .+ cov_αδ_cholf_OR7.L[1,2].*σ_sin_ang\n",
    "ell_3σ_y_OR7 = mean(res_δ_OR7) .+ cov_αδ_cholf_OR7.L[2,1].*σ_cos_ang .+ cov_αδ_cholf_OR7.L[2,2].*σ_sin_ang\n",
    ";"
   ]
  },
  {
   "cell_type": "code",
   "execution_count": null,
   "metadata": {},
   "outputs": [],
   "source": [
    "gap = 0.01\n",
    "xlim_plt = 3.5\n",
    "ymin_plt = -4.0\n",
    "ymax_plt = 5.0\n",
    "\n",
    "Gaston.set(preamble=\"set grid; set style circle radius 0.02\")\n",
    "\n",
    "p1 = Gaston.plot(\n",
    "    bc_a,\n",
    "    h_a.weights./2, \n",
    "    supp=[bs_a./2 h_a.weights./2], \n",
    "    curveconf=\"w boxxy notit fs transparent solid 0.4\", \n",
    "    Axes(\n",
    "        #linetype = :tab10,\n",
    "        axesconf=\"set lmargin at screen 0.1; set rmargin at screen 0.85; set tmargin at screen 0.99; set bmargin at screen 0.8+$gap\",\n",
    "        xrange = (-xlim_plt, xlim_plt),\n",
    "        format = \"''\"\n",
    "    ),\n",
    "    handle = 1\n",
    ")\n",
    "Gaston.plot!(\n",
    "    bc_c,\n",
    "    h_c.weights./2, \n",
    "    supp=[bs_c./2 h_c.weights./2], \n",
    "    curveconf=\"w boxxy notit fs transparent solid 0.4\"\n",
    ")\n",
    "\n",
    "p2 = Gaston.plot(\n",
    "    res_α_OR6, \n",
    "    res_δ_OR6, \n",
    "    curveconf=\"w circles fill transparent solid 0.4 noborder tit 'gravity-only'\",\n",
    "    Axes(\n",
    "        #linetype = :tab10,\n",
    "        key=\"at screen 0.835, screen 0.78 box spacing 1.2 height 0.4\",  #\"outside top right box spacing 1.2 height 1\",\n",
    "        axesconf=\"set lmargin at screen 0.1; set rmargin at screen 0.85; set tmargin at screen 0.8; set bmargin at screen 0.1\",\n",
    "        xrange = (-xlim_plt, xlim_plt),\n",
    "        yrange = (ymin_plt, ymax_plt),\n",
    "        format = \"\\\"%g\\\"\",\n",
    "        xlabel=\"'\\$\\\\alpha\\\\cos(\\\\delta)\\$ \\$[\\$arcsec\\$]\\$'\",\n",
    "        ylabel=\"'\\$\\\\delta\\$ \\$[\\$arcsec\\$]\\$'\"\n",
    "    ), \n",
    "    handle = 2\n",
    ")\n",
    "Gaston.plot!(res_α_OR7, res_δ_OR7, \n",
    "    curveconf=\"w circles fill transparent solid 0.4 noborder tit 'non-grav.'\"\n",
    ")\n",
    "Gaston.plot!([mean(res_α_OR6)], [mean(res_δ_OR6)], curveconf=\"w p pt 4 ps 1.5 lw 8\") # tit 'mean R.A./Dec (OR6)'\n",
    "Gaston.plot!([mean(res_α_OR7)], [mean(res_δ_OR7)], curveconf=\"w p pt 6 ps 1.5 lw 8\") # tit 'mean R.A./Dec (OR7)'\n",
    "Gaston.plot!(ell_3σ_x_OR6, ell_3σ_y_OR6, curveconf=\"w l lw 8 lc 3\")\n",
    "Gaston.plot!(ell_3σ_x_OR7, ell_3σ_y_OR7, curveconf=\"w l lw 8 lc 4\")\n",
    "\n",
    "p4 = Gaston.plot(\n",
    "    h_b.weights./2,\n",
    "    bc_b,\n",
    "    supp=[h_b.weights./2 bs_b./2],\n",
    "    curveconf=\"w boxxy notit fs transparent solid 0.4\",\n",
    "    Axes(\n",
    "        #linetype = :tab10,\n",
    "        axesconf=\"set lmargin at screen 0.85+$gap; set rmargin at screen 0.99; set tmargin at screen 0.8; set bmargin at screen 0.1\",\n",
    "        yrange = (ymin_plt, ymax_plt),\n",
    "        format = \"''\"\n",
    "    ),\n",
    "    handle = 4\n",
    ")\n",
    "Gaston.plot!(\n",
    "    h_d.weights./2,\n",
    "    bc_d,\n",
    "    supp=[h_d.weights./2 bs_d./2],\n",
    "    curveconf=\"w boxxy notit fs transparent solid 0.4\"\n",
    ")\n",
    "\n",
    "Gaston.plot([p1 nothing ; p2 p4])\n",
    "\n",
    "#Gaston.save(term = \"cairolatex\", output = \"radec_hist.tex\", saveopts = \"pdf standalone color dashed transparent size 7in,5in font ',14'\")\n",
    "#run(`pdflatex radec_hist.tex`)"
   ]
  },
  {
   "cell_type": "code",
   "execution_count": null,
   "metadata": {},
   "outputs": [],
   "source": [
    "length(res_α)"
   ]
  },
  {
   "cell_type": "code",
   "execution_count": null,
   "metadata": {},
   "outputs": [],
   "source": [
    "mean(w_α.*res_α(x_OR7)), std(w_α.*res_α(x_OR7))"
   ]
  },
  {
   "cell_type": "code",
   "execution_count": null,
   "metadata": {},
   "outputs": [],
   "source": [
    "mean(w_δ.*res_δ(x_OR7)), std(w_δ.*res_δ(x_OR7))"
   ]
  },
  {
   "cell_type": "code",
   "execution_count": null,
   "metadata": {},
   "outputs": [],
   "source": [
    "mean(res_τ(x_OR7)), std(res_τ(x_OR7))"
   ]
  },
  {
   "cell_type": "code",
   "execution_count": null,
   "metadata": {},
   "outputs": [],
   "source": [
    "mean(res_ν(x_OR7)), std(res_ν(x_OR7))"
   ]
  },
  {
   "cell_type": "markdown",
   "metadata": {},
   "source": [
    "## OR6"
   ]
  },
  {
   "cell_type": "code",
   "execution_count": null,
   "metadata": {},
   "outputs": [],
   "source": [
    "mean(res_τ(x_OR6)), std(res_τ(x_OR6))"
   ]
  },
  {
   "cell_type": "code",
   "execution_count": null,
   "metadata": {},
   "outputs": [],
   "source": [
    "mean(res_ν(x_OR6)), std(res_ν(x_OR6))"
   ]
  },
  {
   "cell_type": "code",
   "execution_count": null,
   "metadata": {},
   "outputs": [],
   "source": []
  },
  {
   "cell_type": "code",
   "execution_count": null,
   "metadata": {},
   "outputs": [],
   "source": [
    "ind_del_0506 = 1:2\n",
    "ind_del_1213 = 3:17\n",
    "ind_del_2121 = 18:19\n",
    "\n",
    "ind_dop_0506 = 1:5\n",
    "ind_dop_1213 = 6:29\n",
    "ind_dop_2121 = 30:30\n",
    ";"
   ]
  },
  {
   "cell_type": "code",
   "execution_count": null,
   "metadata": {},
   "outputs": [],
   "source": []
  },
  {
   "cell_type": "code",
   "execution_count": null,
   "metadata": {},
   "outputs": [],
   "source": [
    "del_index = findall(x->x, select(deldop_0521, :delay_index))\n",
    "dop_index = findall(x->x, select(deldop_0521, :doppler_index))\n",
    "length(del_index), length(dop_index)"
   ]
  },
  {
   "cell_type": "code",
   "execution_count": null,
   "metadata": {},
   "outputs": [],
   "source": [
    "#deldop_index = findall(x->x, select(deldop_0521, (:delay_index, :doppler_index)=>(x,y)->x*y))\n",
    "#select(deldop_0521, (:delay_index, :doppler_index)=>x->x[1]*x[2])\n",
    "length(deldop_0521)"
   ]
  },
  {
   "cell_type": "code",
   "execution_count": null,
   "metadata": {},
   "outputs": [],
   "source": [
    "del_dates_plot_ = select(filter(x->x.delay_index, deldop_0521), :dt_utc_obs)\n",
    "dop_dates_plot_ = select(filter(x->x.doppler_index, deldop_0521), :dt_utc_obs)\n",
    "\n",
    "del_dates_plot = Dates.format.(del_dates_plot_, \"dd/mm/yy HHMM\")\n",
    "dop_dates_plot = Dates.format.(dop_dates_plot_, \"dd/mm/yy HHMM\")\n",
    "\n",
    "length(del_dates_plot), length(dop_dates_plot)"
   ]
  },
  {
   "cell_type": "code",
   "execution_count": null,
   "metadata": {},
   "outputs": [],
   "source": [
    "#print(prod(string.(select(deldop_0521, :rcvr)).*\"\\n\"))\n",
    "#print(prod(string.(map(x->x==251 ? \"Arecibo\" : \"Goldstone\", select(deldop_0521, :rcvr))).*\"\\n\"))"
   ]
  },
  {
   "cell_type": "code",
   "execution_count": null,
   "metadata": {},
   "outputs": [],
   "source": []
  },
  {
   "cell_type": "code",
   "execution_count": null,
   "metadata": {},
   "outputs": [],
   "source": [
    "p1 = Gaston.plot(\n",
    "    del_index,\n",
    "    res_τ(x_OR6),\n",
    "    supp = σ_del_0521,\n",
    "    key=\"box spacing 1.2 height 0.4\", #at screen 0.835, screen 0.78 \n",
    "    curveconf = \"u 1:2:3 w errorbars pt 6 lw 4 tit 'gravity-only'\",\n",
    "    Axes(\n",
    "        #axesconf=\"set lmargin at screen 0.15; set rmargin at screen 0.95; set bmargin at screen 0.5\",\n",
    "        axesconf=\"set lmargin at screen 0.11\",\n",
    "        #linetype = :tab10,\n",
    "        bars = 2,\n",
    "        ylabel = \"'Time-delay resid. \\$[\\$us\\$]\\$'\",\n",
    "        xrange = (0,38),\n",
    "        xtics = \"1,2,40\",\n",
    "        format = \"y '%1.1f'\",\n",
    "        yrange=(-7,8),\n",
    "        label=\"1 '(a)' at graph 0.05,0.9\"#,\n",
    "        #title = \"'gravity-only'\"\n",
    "    ),\n",
    "    handle = 1\n",
    ")\n",
    "Gaston.plot!(\n",
    "    del_index,\n",
    "    res_τ(x_OR7),\n",
    "    supp = σ_del_0521,\n",
    "    curveconf = \"u 1:2:3 w errorbars pt 4 lw 4 tit 'non-gravitational'\",\n",
    "    lc = 2\n",
    ")\n",
    "\n",
    "p2 = Gaston.plot(\n",
    "    dop_index,\n",
    "    res_ν(x_OR6),\n",
    "    supp = σ_dop_0521,\n",
    "    curveconf = \"u 1:2:3 w errorbars pt 6 lw 4 tit 'gravity-only'\",\n",
    "    key=\"box spacing 1.2 height 0.4\",\n",
    "    Axes(\n",
    "        #axesconf=\"set lmargin at screen 0.15; set rmargin at screen 0.95; set tmargin at screen 0.5\",\n",
    "        axesconf=\"set lmargin at screen 0.11\",\n",
    "        #linetype = :tab10,\n",
    "        bars = 2,\n",
    "        ylabel = \"'Doppler shift resid. \\$[\\$Hz\\$]\\$'\",\n",
    "        xrange = (0,38),\n",
    "        xtics = \"1,2,40\",\n",
    "        format = \"y '%1.1f'\",\n",
    "        yrange=(-0.6,0.8),\n",
    "        label=\"1 '(b)' at graph 0.05,0.9\" #,\n",
    "        # title = \"'non-gravitational'\"\n",
    "    ),\n",
    "    handle = 2\n",
    ")\n",
    "Gaston.plot!(\n",
    "    dop_index,\n",
    "    res_ν(x_OR7),\n",
    "    supp = σ_dop_0521,\n",
    "    curveconf = \"u 1:2:3 w errorbars pt 4 lw 4 tit 'non-gravitational'\",\n",
    "    lc = 2\n",
    ")\n",
    "\n",
    "\n",
    "Gaston.plot([p1; p2])\n",
    "\n",
    "#Gaston.save(term = \"cairolatex\", output = \"deldop_residuals.tex\", saveopts = \"pdf standalone color dashed transparent size 10in,7in font ',14'\")\n",
    "#run(`pdflatex deldop_residuals.tex`)"
   ]
  },
  {
   "cell_type": "code",
   "execution_count": null,
   "metadata": {},
   "outputs": [],
   "source": []
  },
  {
   "cell_type": "code",
   "execution_count": null,
   "metadata": {},
   "outputs": [],
   "source": [
    "deldop_dates_plot_xaxis = vcat(\"01/06/04 0000\", del_dates_plot, \"31/03/21 2359\");"
   ]
  },
  {
   "cell_type": "code",
   "execution_count": null,
   "metadata": {},
   "outputs": [],
   "source": [
    "tmargin_bmargin_gap = 0.03\n",
    "bmargin_ths_plt = 0.5 + tmargin_bmargin_gap\n",
    "tmargin_ths_plt = 0.965\n",
    "axsbrk_v = 1.25*0.01\n",
    "axsbrk_h = 1.25*0.005\n",
    "lw_ths_plt = 3\n",
    "rmargin_ths_plt = 0.3\n",
    "\n",
    "p1 = Gaston.plot(\n",
    "    del_dates_plot,\n",
    "    res_τ(x_OR6),\n",
    "    supp = σ_del_0521, #[ind_del_0506]\n",
    "    curveconf = \"u 1:3:4 w errorbars pt 6 lw $lw_ths_plt\",\n",
    "    Axes(\n",
    "        #linetype = :tab10,\n",
    "        axesconf = \"set rmargin at screen 0.3; set tmargin at screen $tmargin_ths_plt; set bmargin at screen $bmargin_ths_plt\",\n",
    "        xdata   = \"time\",\n",
    "        timefmt = \"'%d/%m/%y %H%M'\",\n",
    "        xtics = false, #\"format '' time (\\\"01/01/05\\\",\\\"01/01/06\\\")\", # '%d/%b/%y'\n",
    "        xrange = \"[\\\"01/12/04\\\":\\\"30/05/06\\\"]\",\n",
    "        #xlabel  = \"\\\"Date\\\"\",\n",
    "        bars = false, #2,\n",
    "        ylabel = \"'Time-delay resid. (O-C) [\\$\\\\mu\\$s]'\",\n",
    "        border = \"1+2+4\",\n",
    "        ytics = [\"nomirror\", \"format '%1.1f'\"],\n",
    "        yrange = \"[-8.0:6.0]\",\n",
    "        arrow = [\n",
    "            \"from screen 0.3-$axsbrk_h,$bmargin_ths_plt-$axsbrk_v to screen 0.3+$axsbrk_h,$bmargin_ths_plt+$axsbrk_v nohead\",\n",
    "            \"from screen 0.3-$axsbrk_h,$tmargin_ths_plt-$axsbrk_v to screen 0.3+$axsbrk_h,$tmargin_ths_plt+$axsbrk_v nohead\"\n",
    "            ],\n",
    "        label=\"1 '(a)' at graph 0.2,0.9\",\n",
    "        grid=false\n",
    "        #arrow = \"from screen 0.3-0.01,1.0-0.01 to screen 0.3+0.01,1.0+0.01 nohead\"\n",
    "        #format = \"x ''\"\n",
    "        #title = \"'Time-delay resid. (O-C)'\"\n",
    "    ),\n",
    "    handle = 1\n",
    ")\n",
    "Gaston.plot!(\n",
    "    del_dates_plot,\n",
    "    res_τ(x_OR7),\n",
    "    supp = σ_del_0521, #[ind_del_0506]\n",
    "    curveconf = \"u 1:3:4 w errorbars pt 4 lw $lw_ths_plt\",\n",
    "    lc = 2\n",
    ")\n",
    "Gaston.plot!(deldop_dates_plot_xaxis, zeros(length(deldop_dates_plot_xaxis)), curveconf=\" u 1:3 w l lc rgb 'gray' lw 4 dt 2\")\n",
    "\n",
    "p2 = Gaston.plot(\n",
    "    del_dates_plot,\n",
    "    res_τ(x_OR6),\n",
    "    supp = σ_del_0521, #[ind_del_1213]\n",
    "    curveconf = \"u 1:3:4 w errorbars pt 6 lw $lw_ths_plt\",\n",
    "    Axes(\n",
    "        #linetype = :tab10,\n",
    "        xdata   = \"time\",\n",
    "        timefmt = \"'%d/%m/%y %H%M'\",\n",
    "        axesconf = \"set lmargin at screen 0.35; set tmargin at screen $tmargin_ths_plt; set rmargin at screen 0.8; set bmargin at screen $bmargin_ths_plt\",\n",
    "        xtics = false, #\"format '' time (\\\"01/01/13\\\",\\\"01/02/13\\\",\\\"01/03/13\\\")\", # '%d/%b/%y'\n",
    "        xrange = \"[\\\"15/12/12\\\":\\\"20/03/13\\\"]\",\n",
    "        #xlabel  = \"\\\"Date\\\"\",\n",
    "        bars = false, #2,\n",
    "        #tics=\"scale 0\",\n",
    "        ytics = false, #[false, \"(\\\"\\\" 0)\"], #\"nomirror\",\n",
    "        border = \"1+4\",\n",
    "        yrange = \"[-8.0:6.0]\",\n",
    "        format = [\"x ''\", \"y ''\"], #%1.1f\n",
    "        arrow = [\n",
    "            \"from screen 0.35-$axsbrk_h,$bmargin_ths_plt-$axsbrk_v to screen 0.35+$axsbrk_h,$bmargin_ths_plt+$axsbrk_v nohead\",\n",
    "            \"from screen 0.35-$axsbrk_h,$tmargin_ths_plt-$axsbrk_v to screen 0.35+$axsbrk_h,$tmargin_ths_plt+$axsbrk_v nohead\",\n",
    "            \"from screen 0.80-$axsbrk_h,$bmargin_ths_plt-$axsbrk_v to screen 0.80+$axsbrk_h,$bmargin_ths_plt+$axsbrk_v nohead\",\n",
    "            \"from screen 0.80-$axsbrk_h,$tmargin_ths_plt-$axsbrk_v to screen 0.80+$axsbrk_h,$tmargin_ths_plt+$axsbrk_v nohead\"\n",
    "            ],\n",
    "        #ylabel = \"'[us]'\"\n",
    "    ),\n",
    "    handle = 2\n",
    ")\n",
    "Gaston.plot!(\n",
    "    del_dates_plot,\n",
    "    res_τ(x_OR7),\n",
    "    supp = σ_del_0521, #[ind_del_1213]\n",
    "    curveconf = \"u 1:3:4 w errorbars pt 4 lw $lw_ths_plt\",\n",
    "    lc = 2\n",
    ")\n",
    "Gaston.plot!(deldop_dates_plot_xaxis, zeros(length(deldop_dates_plot_xaxis)), curveconf=\" u 1:3 w l lc rgb 'gray' lw 4 dt 2\")\n",
    "\n",
    "p3 = Gaston.plot(\n",
    "    del_dates_plot,\n",
    "    res_τ(x_OR6),\n",
    "    supp = σ_del_0521, #[ind_del_2121]\n",
    "    curveconf = \"u 1:3:4 w errorbars pt 6 lw $lw_ths_plt\",\n",
    "    Axes(\n",
    "        #linetype = :tab10,\n",
    "        xdata   = \"time\",\n",
    "        timefmt = \"'%d/%m/%y %H%M'\",\n",
    "        axesconf = \"set lmargin at screen 0.85; set tmargin at screen 0.965; set bmargin at screen $bmargin_ths_plt\",\n",
    "        xtics = false, #\"format '' time (\\\"03/03/21\\\",\\\"11/03/21\\\")\", #'%d/%b/%y'\n",
    "        xrange = \"[\\\"02/03/21\\\":\\\"12/03/21\\\"]\",\n",
    "        #xlabel = \"\\\"Date\\\"\",\n",
    "        bars = false, #2,\n",
    "        #tics=\"scale 0\",\n",
    "        ytics = false, #[false, \"(\\\"\\\" 0)\"], #\"nomirror\",\n",
    "        border = \"1+4+8\",\n",
    "        yrange = \"[-8.0:6.0]\",\n",
    "        format = [\"x ''\", \"y ''\"], #%1.1f\n",
    "        arrow = [\n",
    "            \"from screen 0.85-$axsbrk_h,$bmargin_ths_plt-$axsbrk_v to screen 0.85+$axsbrk_h,$bmargin_ths_plt+$axsbrk_v nohead\",\n",
    "            \"from screen 0.85-$axsbrk_h,$tmargin_ths_plt-$axsbrk_v to screen 0.85+$axsbrk_h,$tmargin_ths_plt+$axsbrk_v nohead\"\n",
    "            ],\n",
    "        #ylabel = \"'[us]'\"\n",
    "    ),\n",
    "    handle = 3\n",
    ")\n",
    "Gaston.plot!(\n",
    "    del_dates_plot,\n",
    "    res_τ(x_OR7),\n",
    "    supp = σ_del_0521, #[ind_dop_2121]\n",
    "    curveconf = \"u 1:3:4 w errorbars pt 4 lw $lw_ths_plt\",\n",
    "    lc = 2\n",
    ")\n",
    "Gaston.plot!(deldop_dates_plot_xaxis, zeros(length(deldop_dates_plot_xaxis)), curveconf=\" u 1:3 w l lc rgb 'gray' lw 4 dt 2\")\n",
    "\n",
    "Gaston.plot([p1 p2 p3])\n",
    "\n",
    "#Gaston.save(term = \"cairolatex\", output = \"del_resids.tex\", saveopts = \"pdf standalone color dashed transparent size 10in,7in font ',14'\")\n",
    "#run(`pdflatex del_resids.tex`)"
   ]
  },
  {
   "cell_type": "code",
   "execution_count": null,
   "metadata": {},
   "outputs": [],
   "source": [
    "tmargin_ths_plt = 0.5 - tmargin_bmargin_gap\n",
    "bmargin_ths_plt = 0.05\n",
    "\n",
    "Gaston.set(preamble=\"unset grid\")\n",
    "p4 = Gaston.plot(\n",
    "    dop_dates_plot,\n",
    "    res_ν(x_OR6),\n",
    "    supp = σ_dop_0521,\n",
    "    curveconf = \"u 1:3:4 w errorbars pt 6 lw $lw_ths_plt\",\n",
    "    Axes(\n",
    "        #linetype = :tab10,\n",
    "        axesconf=\"set rmargin at screen $rmargin_ths_plt; set tmargin at screen $tmargin_ths_plt; set bmargin at screen $bmargin_ths_plt\",\n",
    "        xdata   = \"time\",\n",
    "        timefmt = \"'%d/%m/%y %H%M'\",\n",
    "        xtics = \"format '%d/%b/%y' time (\\\"01/01/05\\\",\\\"01/01/06\\\")\",\n",
    "        xrange = \"[\\\"01/12/04\\\":\\\"30/05/06\\\"]\",\n",
    "        #xlabel  = \"\\\"Date\\\"\",\n",
    "        bars = false,#2,\n",
    "        ylabel = \"'Doppler shift resid. (O-C) [Hz]'\",\n",
    "        border=\"1+2+4\",\n",
    "        ytics = [\"nomirror\", \"format '%1.1f'\"],\n",
    "        yrange=\"[-0.5:0.5]\",\n",
    "        arrow = [\n",
    "            \"from screen 0.3-$axsbrk_h,$tmargin_ths_plt-$axsbrk_v to screen 0.3+$axsbrk_h,$tmargin_ths_plt+$axsbrk_v nohead\",\n",
    "            \"from screen 0.3-$axsbrk_h,$bmargin_ths_plt-$axsbrk_v to screen 0.3+$axsbrk_h,$bmargin_ths_plt+$axsbrk_v nohead\"\n",
    "            ],\n",
    "        label=\"1 '(b)' at graph 0.2,0.9\"\n",
    "        #title = \"'Doppler shift resid. (O-C)'\"\n",
    "    ),\n",
    "    handle = 4\n",
    ")\n",
    "Gaston.plot!(\n",
    "    dop_dates_plot,\n",
    "    res_ν(x_OR7),\n",
    "    supp = σ_dop_0521,\n",
    "    curveconf = \"u 1:3:4 w errorbars pt 4 lw $lw_ths_plt\",\n",
    "    lc = 2\n",
    ")\n",
    "Gaston.plot!(deldop_dates_plot_xaxis, zeros(length(deldop_dates_plot_xaxis)), curveconf=\" u 1:3 w l lc rgb 'gray' lw 4 dt 2\")\n",
    "\n",
    "p5 = Gaston.plot(\n",
    "    dop_dates_plot,\n",
    "    res_ν(x_OR6),\n",
    "    supp = σ_dop_0521,\n",
    "    curveconf = \"u 1:3:4 w errorbars pt 6 lw $lw_ths_plt\",\n",
    "    Axes(\n",
    "        #linetype = :tab10,\n",
    "        xdata   = \"time\",\n",
    "        timefmt = \"'%d/%m/%y %H%M'\",\n",
    "        axesconf=\"set lmargin at screen $rmargin_ths_plt+0.05; set rmargin at screen 0.8; set tmargin at screen $tmargin_ths_plt; set bmargin at screen $bmargin_ths_plt\",\n",
    "        xtics=\"format '%d/%b/%y' time (\\\"01/01/13\\\",\\\"01/02/13\\\",\\\"01/03/13\\\")\",\n",
    "        xrange=\"[\\\"15/12/12\\\":\\\"20/03/13\\\"]\",\n",
    "        #xlabel  = \"\\\"Date\\\"\",\n",
    "        bars = false, #2,\n",
    "        ytics=false,\n",
    "        border=\"1+4\",\n",
    "        yrange=\"[-0.5:0.5]\",\n",
    "        arrow = [\n",
    "            \"from screen 0.35-$axsbrk_h,$tmargin_ths_plt-$axsbrk_v to screen 0.35+$axsbrk_h,$tmargin_ths_plt+$axsbrk_v nohead\",\n",
    "            \"from screen 0.35-$axsbrk_h,$bmargin_ths_plt-$axsbrk_v to screen 0.35+$axsbrk_h,$bmargin_ths_plt+$axsbrk_v nohead\",\n",
    "            \"from screen 0.8-$axsbrk_h,$tmargin_ths_plt-$axsbrk_v to screen 0.8+$axsbrk_h,$tmargin_ths_plt+$axsbrk_v nohead\",\n",
    "            \"from screen 0.8-$axsbrk_h,$bmargin_ths_plt-$axsbrk_v to screen 0.8+$axsbrk_h,$bmargin_ths_plt+$axsbrk_v nohead\"\n",
    "            ],\n",
    "        #ylabel = \"'[Hz]'\"\n",
    "    ),\n",
    "    handle = 5\n",
    ")\n",
    "Gaston.plot!(\n",
    "    dop_dates_plot,\n",
    "    res_ν(x_OR7),\n",
    "    supp = σ_dop_0521,\n",
    "    curveconf = \"u 1:3:4 w errorbars pt 4 lw $lw_ths_plt\",\n",
    "    lc = 2\n",
    ")\n",
    "Gaston.plot!(deldop_dates_plot_xaxis, zeros(length(deldop_dates_plot_xaxis)), curveconf=\" u 1:3 w l lc rgb 'gray' lw 4 dt 2\")\n",
    "\n",
    "p6 = Gaston.plot(\n",
    "    dop_dates_plot,\n",
    "    res_ν(x_OR6),\n",
    "    supp = σ_dop_0521,\n",
    "    curveconf = \"u 1:3:4 w errorbars pt 6 lw $lw_ths_plt\",\n",
    "    Axes(\n",
    "        #linetype = :tab10,\n",
    "        xdata   = \"time\",\n",
    "        timefmt = \"'%d/%m/%y %H%M'\",\n",
    "        axesconf=\"set lmargin at screen 0.85; set tmargin at screen $tmargin_ths_plt; set bmargin at screen $bmargin_ths_plt\",\n",
    "        xtics=\"format '%d/%b/%y' time (\\\"03/03/21\\\",\\\"11/03/21\\\")\",\n",
    "        xrange=\"[\\\"02/03/21\\\":\\\"12/03/21\\\"]\",\n",
    "        #xlabel  = \"\\\"Date\\\"\",\n",
    "        bars = false, #2,\n",
    "        #format=\"y ''\",\n",
    "        ytics=false,\n",
    "        border=\"1+4+8\",\n",
    "        yrange=\"[-0.5:0.5]\",\n",
    "        arrow = [\n",
    "            \"from screen 0.85-$axsbrk_h,$tmargin_ths_plt-$axsbrk_v to screen 0.85+$axsbrk_h,$tmargin_ths_plt+$axsbrk_v nohead\",\n",
    "            \"from screen 0.85-$axsbrk_h,$bmargin_ths_plt-$axsbrk_v to screen 0.85+$axsbrk_h,$bmargin_ths_plt+$axsbrk_v nohead\"\n",
    "            ],\n",
    "        #ylabel = \"'[Hz]'\"\n",
    "    ),\n",
    "    handle = 6\n",
    ")\n",
    "Gaston.plot!(\n",
    "    dop_dates_plot,\n",
    "    res_ν(x_OR7),\n",
    "    supp = σ_dop_0521,\n",
    "    curveconf = \"u 1:3:4 w errorbars pt 4 lw $lw_ths_plt\",\n",
    "    lc = 2\n",
    ")\n",
    "Gaston.plot!(deldop_dates_plot_xaxis, zeros(length(deldop_dates_plot_xaxis)), curveconf=\" u 1:3 w l lc rgb 'gray' lw 4 dt 2\")\n",
    "\n",
    "Gaston.plot([p4 p5 p6])\n",
    "\n",
    "#Gaston.save(term = \"cairolatex\", output = \"dop_resids.tex\", saveopts = \"pdf standalone color dashed transparent size 10in,7in font ',14'\")\n",
    "#run(`pdflatex dop_resids.tex`)"
   ]
  },
  {
   "cell_type": "code",
   "execution_count": null,
   "metadata": {},
   "outputs": [],
   "source": [
    "Gaston.plot([p1 p2 p3; p4 p5 p6])\n",
    "\n",
    "Gaston.save(term = \"cairolatex\", output = \"deldop_residuals_dates.tex\", saveopts = \"pdf standalone color dashed transparent size 10in,7in font ',14'\")\n",
    "run(`pdflatex deldop_residuals_dates.tex`)"
   ]
  },
  {
   "cell_type": "code",
   "execution_count": null,
   "metadata": {},
   "outputs": [],
   "source": []
  },
  {
   "cell_type": "code",
   "execution_count": null,
   "metadata": {},
   "outputs": [],
   "source": []
  },
  {
   "cell_type": "code",
   "execution_count": null,
   "metadata": {},
   "outputs": [],
   "source": []
  },
  {
   "cell_type": "code",
   "execution_count": null,
   "metadata": {},
   "outputs": [],
   "source": []
  },
  {
   "cell_type": "code",
   "execution_count": null,
   "metadata": {},
   "outputs": [],
   "source": []
  },
  {
   "cell_type": "code",
   "execution_count": null,
   "metadata": {},
   "outputs": [],
   "source": []
  },
  {
   "cell_type": "code",
   "execution_count": null,
   "metadata": {},
   "outputs": [],
   "source": []
  },
  {
   "cell_type": "code",
   "execution_count": null,
   "metadata": {},
   "outputs": [],
   "source": []
  },
  {
   "cell_type": "code",
   "execution_count": null,
   "metadata": {},
   "outputs": [],
   "source": []
  },
  {
   "cell_type": "code",
   "execution_count": null,
   "metadata": {},
   "outputs": [],
   "source": []
  },
  {
   "cell_type": "code",
   "execution_count": null,
   "metadata": {},
   "outputs": [],
   "source": [
    "#radec_19_20 = filter(x->x.yr>=2019, radec_0421)\n",
    "radec_19_20 = filter(x->x.yr>=2019 && ( DateTime(x.yr, x.month, x.day) != DateTime(2021, 1, 28) ), radec_0421)\n",
    "t_19_20 = 2000 .+ (select(radec_19_20, :dt_utc_obs=>x->datetime2julian(x)) .- J2000) ./ yr\n",
    "α_19_20_obs = select(radec_19_20, (:α_obs, :α_corr)=>x->x[1]-x[2])\n",
    "δ_19_20_obs = select(radec_19_20, (:δ_obs, :δ_corr)=>x->x[1]-x[2])\n",
    "α_19_20_OR6 = select(radec_19_20, :α_comp)(x_OR6)\n",
    "δ_19_20_OR6 = select(radec_19_20, :δ_comp)(x_OR6)\n",
    "α_19_20_OR7 = select(radec_19_20, :α_comp)(x_OR7)\n",
    "δ_19_20_OR7 = select(radec_19_20, :δ_comp)(x_OR7)\n",
    "res_α_19_20_obs_OR6 = α_19_20_obs .- α_19_20_OR6\n",
    "res_δ_19_20_obs_OR6 = δ_19_20_obs .- δ_19_20_OR6\n",
    "res_α_19_20_obs_OR7 = α_19_20_obs .- α_19_20_OR7\n",
    "res_δ_19_20_obs_OR7 = δ_19_20_obs .- δ_19_20_OR7\n",
    ";"
   ]
  },
  {
   "cell_type": "code",
   "execution_count": null,
   "metadata": {},
   "outputs": [],
   "source": [
    "angv = vcat(range(0, length=1000, stop=prevfloat(2pi)), 0)\n",
    "sigma_factor = 3.0\n",
    "σ_cos_ang = sigma_factor*cos.(angv)\n",
    "σ_sin_ang = sigma_factor*sin.(angv);"
   ]
  },
  {
   "cell_type": "code",
   "execution_count": null,
   "metadata": {},
   "outputs": [],
   "source": [
    "cov_αδ_cholf_OR6 = cholesky(cov(hcat(res_α_19_20_obs_OR6, res_δ_19_20_obs_OR6)))"
   ]
  },
  {
   "cell_type": "code",
   "execution_count": null,
   "metadata": {},
   "outputs": [],
   "source": [
    "cov_αδ_cholf_OR7 = cholesky(cov(hcat(res_α_19_20_obs_OR7, res_δ_19_20_obs_OR7)))"
   ]
  },
  {
   "cell_type": "code",
   "execution_count": null,
   "metadata": {},
   "outputs": [],
   "source": [
    "ell_3σ_x_OR6 = mean(res_α_19_20_obs_OR6) .+ cov_αδ_cholf_OR6.L[1,1].*σ_cos_ang .+ cov_αδ_cholf_OR6.L[1,2].*σ_sin_ang\n",
    "ell_3σ_y_OR6 = mean(res_δ_19_20_obs_OR6) .+ cov_αδ_cholf_OR6.L[2,1].*σ_cos_ang .+ cov_αδ_cholf_OR6.L[2,2].*σ_sin_ang\n",
    "\n",
    "ell_3σ_x_OR7 = mean(res_α_19_20_obs_OR7) .+ cov_αδ_cholf_OR7.L[1,1].*σ_cos_ang .+ cov_αδ_cholf_OR7.L[1,2].*σ_sin_ang\n",
    "ell_3σ_y_OR7 = mean(res_δ_19_20_obs_OR7) .+ cov_αδ_cholf_OR7.L[2,1].*σ_cos_ang .+ cov_αδ_cholf_OR7.L[2,2].*σ_sin_ang\n",
    ";"
   ]
  },
  {
   "cell_type": "code",
   "execution_count": null,
   "metadata": {},
   "outputs": [],
   "source": [
    "scatter(res_α_19_20_obs_OR6, res_δ_19_20_obs_OR6, msc=:auto, m=:xcross, ms=3.0, label=\"OR6\")\n",
    "scatter!(res_α_19_20_obs_OR7, res_δ_19_20_obs_OR7, msc=:auto, m=:cross, ms=3.0, label=\"OR7\")\n",
    "plot!(ell_3σ_x_OR6, ell_3σ_y_OR6, color=1, label=false)\n",
    "plot!(ell_3σ_x_OR7, ell_3σ_y_OR7, color=2, label=false)\n",
    "scatter!([mean(res_α_19_20_obs_OR6)], [mean(res_δ_19_20_obs_OR6)], m=:circle, color=3, ms=5.0, label=false)\n",
    "scatter!([mean(res_α_19_20_obs_OR7)], [mean(res_δ_19_20_obs_OR7)], m=:circle, color=4, ms=5.0, label=false)\n",
    "xlabel!(\"αcos(δ) [arcsec]\")\n",
    "ylabel!(\"δ [arcsec]\")"
   ]
  },
  {
   "cell_type": "code",
   "execution_count": null,
   "metadata": {},
   "outputs": [],
   "source": []
  },
  {
   "cell_type": "code",
   "execution_count": null,
   "metadata": {},
   "outputs": [],
   "source": [
    "scatter(t_19_20, res_α_19_20_obs_OR6, msc=:auto, m=:xcross, ms=3.0, label=\"OR6\")\n",
    "scatter!(t_19_20, res_α_19_20_obs_OR7, msc=:auto, m=:cross, ms=3.0, label=\"OR7\")\n",
    "xlabel!(\"Year\")\n",
    "ylabel!(\"αcos(δ) [arcseconds]\")"
   ]
  },
  {
   "cell_type": "code",
   "execution_count": null,
   "metadata": {},
   "outputs": [],
   "source": [
    "scatter(t_19_20, res_δ_19_20_obs_OR6, msc=:auto, m=:xcross, ms=3.0, label=\"OR6\")\n",
    "scatter!(t_19_20, res_δ_19_20_obs_OR7, msc=:auto, m=:cross, ms=3.0, label=\"OR7\")\n",
    "xlabel!(\"2020 month\")\n",
    "ylabel!(\"δ [arcseconds]\")"
   ]
  },
  {
   "cell_type": "code",
   "execution_count": null,
   "metadata": {},
   "outputs": [],
   "source": []
  },
  {
   "cell_type": "code",
   "execution_count": null,
   "metadata": {},
   "outputs": [],
   "source": []
  },
  {
   "cell_type": "code",
   "execution_count": null,
   "metadata": {},
   "outputs": [],
   "source": [
    "x0_obs = select(del_2121, :τ_obs)[end-1]\n",
    "y0_obs = select(dop_2121, :ν_obs)[1]\n",
    "\n",
    "xTN = x0_obs - res_τ[end-1] # O-(O-C) = C\n",
    "yTN = y0_obs - res_ν[end] # O-(O-C) = C\n",
    "\n",
    "@show xTN(x_OR6_v15), yTN(x_OR6_v15)\n",
    "@show xTN(x_OR7_v15), yTN(x_OR7_v15)\n",
    "@show xTN(x_OR6), yTN(x_OR6)\n",
    "@show xTN(x_OR7), yTN(x_OR7)\n",
    "\n",
    "# Jacobian of transformation from initial conditions to xTN, yTN\n",
    "t_x02xyTN = hcat(TaylorSeries.gradient(xTN), TaylorSeries.gradient(yTN))\n",
    "@show size(t_x02xyTN)\n",
    "\n",
    "# transform cov matrix to d_CA_2020, t_CA_2020 coords\n",
    "Γ_xyTN_OR7_v15 = Hermitian(t_x02xyTN(x_OR7_v15)'*Γ_OR7_v15*(t_x02xyTN(x_OR7_v15)))\n",
    "Γ_xyTN_OR6_v15 = Hermitian(t_x02xyTN(x_OR6_v15)[1:6,:]'*Γ_OR6_v15*(t_x02xyTN(x_OR6_v15)[1:6,:]))\n",
    "Γ_xyTN_OR7 = Hermitian(t_x02xyTN(x_OR7)'*Γ_OR7*(t_x02xyTN(x_OR7)))\n",
    "Γ_xyTN_OR6 = Hermitian(t_x02xyTN(x_OR6)[1:6,:]'*Γ_OR6*(t_x02xyTN(x_OR6)[1:6,:]))\n",
    "# get cholesky-L factor\n",
    "L_xyTN_OR7_v15 = cholesky(Γ_xyTN_OR7_v15).L\n",
    "L_xyTN_OR6_v15 = cholesky(Γ_xyTN_OR6_v15).L\n",
    "L_xyTN_OR7 = cholesky(Γ_xyTN_OR7).L\n",
    "L_xyTN_OR6 = cholesky(Γ_xyTN_OR6).L\n",
    "\n",
    "@show sqrt.(diag(Γ_xyTN_OR6_v15))\n",
    "@show sqrt.(diag(Γ_xyTN_OR7_v15))\n",
    "@show sqrt.(diag(Γ_xyTN_OR6))\n",
    "@show sqrt.(diag(Γ_xyTN_OR7))\n",
    "\n",
    "xyTN_v_OR6_v15 = Matrix{Float64}(undef, 1000, 2)\n",
    "xyTN_v_OR7_v15 = Matrix{Float64}(undef, 1000, 2)\n",
    "xyTN_v_OR6 = Matrix{Float64}(undef, 1000, 2)\n",
    "xyTN_v_OR7 = Matrix{Float64}(undef, 1000, 2)\n",
    "for i in 1:1000\n",
    "    xyTN_v_OR6_v15[i,:] = L_xyTN_OR6_v15*randn(2)\n",
    "    xyTN_v_OR7_v15[i,:] = L_xyTN_OR7_v15*randn(2)\n",
    "    xyTN_v_OR6[i,:] = L_xyTN_OR6*randn(2)\n",
    "    xyTN_v_OR7[i,:] = L_xyTN_OR7*randn(2)\n",
    "end\n",
    "\n",
    "rndv_2sph_xTN = 3*cos.(angv)\n",
    "rndv_2sph_yTN = 3*sin.(angv)\n",
    "\n",
    "xTN_3σ_ell_OR6_v15 = (L_xyTN_OR6_v15[1,1]*rndv_2sph_xTN .+ L_xyTN_OR6_v15[1,2]*rndv_2sph_yTN)\n",
    "yTN_3σ_ell_OR6_v15 = (L_xyTN_OR6_v15[2,1]*rndv_2sph_xTN .+ L_xyTN_OR6_v15[2,2]*rndv_2sph_yTN)\n",
    "\n",
    "xTN_3σ_ell_OR7_v15 = (L_xyTN_OR7_v15[1,1]*rndv_2sph_xTN .+ L_xyTN_OR7_v15[1,2]*rndv_2sph_yTN)\n",
    "yTN_3σ_ell_OR7_v15 = (L_xyTN_OR7_v15[2,1]*rndv_2sph_xTN .+ L_xyTN_OR7_v15[2,2]*rndv_2sph_yTN)\n",
    "\n",
    "xTN_3σ_ell_OR6 = (L_xyTN_OR6[1,1]*rndv_2sph_xTN .+ L_xyTN_OR6[1,2]*rndv_2sph_yTN)\n",
    "yTN_3σ_ell_OR6 = (L_xyTN_OR6[2,1]*rndv_2sph_xTN .+ L_xyTN_OR6[2,2]*rndv_2sph_yTN)\n",
    "\n",
    "xTN_3σ_ell_OR7 = (L_xyTN_OR7[1,1]*rndv_2sph_xTN .+ L_xyTN_OR7[1,2]*rndv_2sph_yTN)\n",
    "yTN_3σ_ell_OR7 = (L_xyTN_OR7[2,1]*rndv_2sph_xTN .+ L_xyTN_OR7[2,2]*rndv_2sph_yTN)\n",
    "\n",
    "ΔxTN_OR6_v15 = 0.0\n",
    "ΔyTN_OR6_v15 = 0.0\n",
    "\n",
    "ΔxTN_OR7_v15 = xTN(x_OR7_v15) - xTN(x_OR6_v15)\n",
    "ΔyTN_OR7_v15 = yTN(x_OR7_v15) - yTN(x_OR6_v15)\n",
    "\n",
    "ΔxTN_OR6 = xTN(x_OR6) - xTN(x_OR6_v15)\n",
    "ΔyTN_OR6 = yTN(x_OR6) - yTN(x_OR6_v15)\n",
    "\n",
    "ΔxTN_OR7 = xTN(x_OR7) - xTN(x_OR6_v15)\n",
    "ΔyTN_OR7 = yTN(x_OR7) - yTN(x_OR6_v15)\n",
    "\n",
    "ΔxTN_obs = x0_obs - xTN(x_OR6_v15)\n",
    "ΔyTN_obs = y0_obs - yTN(x_OR6_v15)\n",
    "\n",
    "p1 = Gaston.plot([ΔxTN_OR6_v15], [ΔyTN_OR6_v15], w=:p, lw=5, lc=1, title=\"'OR6'\",\n",
    "    Axes(\n",
    "        xlabel=\"'Delay offset [us]'\",\n",
    "        ylabel=\"'Doppler offset [Hz]'\",\n",
    "        xrange=(-1300,400),\n",
    "        xtics=400,\n",
    "        yrange=(-5,15),\n",
    "    ),\n",
    "    handle=1\n",
    ")\n",
    "Gaston.plot!(ΔxTN_OR6_v15 .+ xTN_3σ_ell_OR6_v15, ΔyTN_OR6_v15 .+ yTN_3σ_ell_OR6_v15, w=:l, lw=5, lc=1)\n",
    "\n",
    "Gaston.plot!([ΔxTN_OR7_v15], [ΔyTN_OR7_v15], w=:p, lw=5, lc=2, title=\"'OR7'\")\n",
    "Gaston.plot!(ΔxTN_OR7_v15 .+ xTN_3σ_ell_OR7_v15, ΔyTN_OR7_v15 .+ yTN_3σ_ell_OR7_v15, w=:l, lw=5, lc=2)\n",
    "\n",
    "Gaston.plot!([ΔxTN_OR6], [ΔyTN_OR6], w=:p, lc=3, title=\"'OR6 + 2021 data'\")\n",
    "Gaston.plot!(ΔxTN_OR6 .+ xTN_3σ_ell_OR6, ΔyTN_OR6 .+ yTN_3σ_ell_OR6, w=:l, lw=5, lc=3)\n",
    "\n",
    "Gaston.plot!([ΔxTN_OR7], [ΔyTN_OR7], w=:p, lc=4, title=\"'OR7 + 2021 data'\")\n",
    "Gaston.plot!(ΔxTN_OR7 .+ xTN_3σ_ell_OR7, ΔyTN_OR7 .+ yTN_3σ_ell_OR7, w=:l, lw=5, lc=4)\n",
    "Gaston.plot!([ΔxTN_obs], [ΔyTN_obs], supp=[[1.0] [0.4]], w=:xyerrorbars, pt=9, lw=5, lc=6, title=\"'observed'\")\n",
    "\n",
    "p2 = Gaston.plot([ΔxTN_OR7_v15], [ΔyTN_OR7_v15], w=:p, pt=3, lw=5, lc=2, title=\"'OR7'\", handle=2,\n",
    "    Axes(\n",
    "        xlabel=\"'Delay offset [us]'\", \n",
    "        ylabel=\"'Doppler offset [Hz]'\",\n",
    "        xrange=(-256,-246),\n",
    "        yrange=(1.0,4.0)\n",
    "        )\n",
    ")\n",
    "Gaston.plot!(ΔxTN_OR7_v15 .+ xTN_3σ_ell_OR7_v15, ΔyTN_OR7_v15 .+ yTN_3σ_ell_OR7_v15, w=:l, lw=5, lc=2)\n",
    "\n",
    "Gaston.plot!([ΔxTN_OR6], [ΔyTN_OR6], w=:p, pt=5, lc=3, title=\"'OR6 + 2021 data'\")\n",
    "Gaston.plot!(ΔxTN_OR6 .+ xTN_3σ_ell_OR6, ΔyTN_OR6 .+ yTN_3σ_ell_OR6, w=:l, lw=5, lc=3)\n",
    "Gaston.plot!([ΔxTN_OR7], [ΔyTN_OR7], w=:p, pt=7, lc=4, title=\"'OR7 + 2021 data'\")\n",
    "Gaston.plot!(ΔxTN_OR7 .+ xTN_3σ_ell_OR7, ΔyTN_OR7 .+ yTN_3σ_ell_OR7, w=:l, lw=5, lc=4)\n",
    "Gaston.plot!([ΔxTN_obs], [ΔyTN_obs], supp=[[1.0] [0.4]], w=:xyerrorbars, pt=9, lw=5, lc=6, title=\"'observed'\")\n",
    "\n",
    "Gaston.plot([p1 p2])\n",
    "\n",
    "#Gaston.save(term = \"cairolatex\", output = \"deldop_2021_predobs.tex\", saveopts = \"pdf standalone color dashed transparent size 10in,7in font ',14'\")\n",
    "#run(`pdflatex deldop_2021_predobs.tex`)"
   ]
  },
  {
   "cell_type": "code",
   "execution_count": null,
   "metadata": {},
   "outputs": [],
   "source": [
    "σ_dop_2121[1]"
   ]
  },
  {
   "cell_type": "code",
   "execution_count": null,
   "metadata": {},
   "outputs": [],
   "source": [
    "σ_del_2121[1]"
   ]
  },
  {
   "cell_type": "code",
   "execution_count": null,
   "metadata": {
    "scrolled": true,
    "tags": []
   },
   "outputs": [],
   "source": [
    "deldop_2121[end].τ_obs"
   ]
  },
  {
   "cell_type": "code",
   "execution_count": null,
   "metadata": {},
   "outputs": [],
   "source": [
    "select(del_2121, :τ_obs)[1]"
   ]
  },
  {
   "cell_type": "code",
   "execution_count": null,
   "metadata": {},
   "outputs": [],
   "source": [
    "select(del_2121, :τ_obs)[end-1]"
   ]
  },
  {
   "cell_type": "code",
   "execution_count": null,
   "metadata": {},
   "outputs": [],
   "source": [
    "select(dop_2121, :ν_obs)[1]"
   ]
  },
  {
   "cell_type": "code",
   "execution_count": null,
   "metadata": {},
   "outputs": [],
   "source": [
    "xTN(x_OR6_v15)"
   ]
  },
  {
   "cell_type": "code",
   "execution_count": null,
   "metadata": {},
   "outputs": [],
   "source": []
  },
  {
   "cell_type": "code",
   "execution_count": null,
   "metadata": {},
   "outputs": [],
   "source": [
    "Gaston.set(preamble=\"set grid; set yrange [-6:6]\")\n",
    "\n",
    "p1 = Gaston.plot(\n",
    "    del_dates_plot[ind_del_0506],\n",
    "    res_τ(x_OR7)[ind_del_0506],\n",
    "    supp = σ_del_0521[ind_del_0506],\n",
    "    curveconf = \"u 1:3:4 w errorbars pt 4 lw 2\",\n",
    "    Axes(\n",
    "        linetype = :tab10,\n",
    "        xdata   = \"time\",\n",
    "        timefmt = \"'%d/%m/%y %H%M'\",\n",
    "        xtics=\"format '%d/%b/%y' time \\\"28/01/05\\\", 3*86400, \\\"31/01/05\\\"\",\n",
    "        xrange=\"[\\\"27/01/05\\\":\\\"01/02/05\\\"]\",\n",
    "        xlabel  = \"\\\"Date\\\"\",\n",
    "        bars = 2,\n",
    "        ylabel = \"'\\$[\\$us\\$]\\$'\",\n",
    "        #title = \"'Time delay resid. (O-C)'\"\n",
    "    ),\n",
    "    handle = 1\n",
    ")\n",
    "Gaston.plot!(\n",
    "    del_dates_plot[ind_del_0506],\n",
    "    res_τ(x_OR6)[ind_del_0506],\n",
    "    supp = σ_del_0521[ind_del_0506],\n",
    "    curveconf = \"u 1:3:4 w errorbars pt 6 lw 2\",\n",
    "    lc = 2\n",
    ")\n",
    "\n",
    "p2 = Gaston.plot(\n",
    "    del_dates_plot[ind_del_1213],\n",
    "    res_τ(x_OR7)[ind_del_1213],\n",
    "    supp = σ_del_0521[ind_del_1213],\n",
    "    curveconf = \"u 1:3:4 w errorbars pt 6 lw 2\",\n",
    "    Axes(\n",
    "        linetype = :tab10,\n",
    "        xdata   = \"time\",\n",
    "        timefmt = \"'%d/%m/%y %H%M'\",\n",
    "        xtics=\"format '%d/%b/%y' time (\\\"01/01/13\\\",\\\"01/03/13\\\")\",\n",
    "        xrange=\"[\\\"15/12/12\\\":\\\"20/03/13\\\"]\",\n",
    "        xlabel  = \"\\\"Date\\\"\",\n",
    "        bars = 2,\n",
    "        ylabel = \"'\\$[\\$us\\$]\\$'\",\n",
    "    ),\n",
    "    handle = 2\n",
    ")\n",
    "Gaston.plot!(\n",
    "    del_dates_plot[ind_del_1213],\n",
    "    res_τ(x_OR6)[ind_del_1213],\n",
    "    supp = σ_del_0521[ind_del_1213],\n",
    "    curveconf = \"u 1:3:4 w errorbars pt 6 lw 2\",\n",
    "    lc = 2\n",
    ")\n",
    "\n",
    "p3 = Gaston.plot(\n",
    "    del_dates_plot[ind_del_2121],\n",
    "    res_τ(x_OR7)[ind_del_2121],\n",
    "    supp = σ_del_0521[ind_del_2121],\n",
    "    curveconf = \"u 1:3:4 w errorbars pt 6 lw 2\",\n",
    "    Axes(\n",
    "        linetype = :tab10,\n",
    "        xdata   = \"time\",\n",
    "        timefmt = \"'%d/%m/%y %H%M'\",\n",
    "        xtics=\"format '%d/%b/%y' time (\\\"01/03/21\\\",\\\"20/03/21\\\")\",\n",
    "        xrange=\"[\\\"25/02/21\\\":\\\"25/03/21\\\"]\",\n",
    "        xlabel  = \"\\\"Date\\\"\",\n",
    "        bars = 2,\n",
    "        ylabel = \"'\\$[\\$us\\$]\\$'\",\n",
    "    ),\n",
    "    handle = 3\n",
    ")\n",
    "Gaston.plot!(\n",
    "    del_dates_plot[ind_del_2121],\n",
    "    res_τ(x_OR6)[ind_del_2121],\n",
    "    supp = σ_del_0521[ind_del_2121],\n",
    "    curveconf = \"u 1:3:4 w errorbars pt 6 lw 2\",\n",
    "    lc = 2\n",
    ")\n",
    "\n",
    "Gaston.plot([p1 p2 p3])\n",
    "\n",
    "#Gaston.save(term = \"cairolatex\", output = \"deltest.tex\", saveopts = \"pdf standalone color dashed transparent size 10in,7in font ',14'\")\n",
    "#run(`pdflatex deltest.tex`)"
   ]
  },
  {
   "cell_type": "code",
   "execution_count": null,
   "metadata": {},
   "outputs": [],
   "source": []
  },
  {
   "cell_type": "code",
   "execution_count": null,
   "metadata": {},
   "outputs": [],
   "source": []
  }
 ],
 "metadata": {
  "kernelspec": {
   "display_name": "Julia 1.5.3",
   "language": "julia",
   "name": "julia-1.5"
  },
  "language_info": {
   "file_extension": ".jl",
   "mimetype": "application/julia",
   "name": "julia",
   "version": "1.5.3"
  }
 },
 "nbformat": 4,
 "nbformat_minor": 4
}
