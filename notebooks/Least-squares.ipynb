{
 "cells": [
  {
   "cell_type": "markdown",
   "metadata": {},
   "source": [
    "## Setup"
   ]
  },
  {
   "cell_type": "markdown",
   "metadata": {},
   "source": [
    "Print path of current directory:"
   ]
  },
  {
   "cell_type": "code",
   "execution_count": null,
   "metadata": {
    "scrolled": true
   },
   "outputs": [],
   "source": [
    ";pwd"
   ]
  },
  {
   "cell_type": "markdown",
   "metadata": {},
   "source": [
    "Check that `Apophis.jl` environment is active:"
   ]
  },
  {
   "cell_type": "code",
   "execution_count": null,
   "metadata": {},
   "outputs": [],
   "source": [
    "]st"
   ]
  },
  {
   "cell_type": "code",
   "execution_count": null,
   "metadata": {
    "scrolled": true
   },
   "outputs": [],
   "source": [
    "using Revise"
   ]
  },
  {
   "cell_type": "code",
   "execution_count": null,
   "metadata": {
    "scrolled": true
   },
   "outputs": [],
   "source": [
    "using PlanetaryEphemeris"
   ]
  },
  {
   "cell_type": "code",
   "execution_count": null,
   "metadata": {
    "scrolled": true
   },
   "outputs": [],
   "source": [
    "using Apophis"
   ]
  },
  {
   "cell_type": "code",
   "execution_count": null,
   "metadata": {},
   "outputs": [],
   "source": [
    "using JLD, TaylorSeries"
   ]
  },
  {
   "cell_type": "markdown",
   "metadata": {},
   "source": [
    "Setup `TaylorN` variables:"
   ]
  },
  {
   "cell_type": "code",
   "execution_count": null,
   "metadata": {},
   "outputs": [],
   "source": [
    "#dq = set_variables(\"ξ\", order=5, numvars=6)\n",
    "#dq = set_variables(\"ξ\", order=6, numvars=7)\n",
    "#dq = set_variables(\"ξ\", order=7, numvars=7)\n",
    "dq = set_variables(\"ξ\", order=5, numvars=7)"
   ]
  },
  {
   "cell_type": "code",
   "execution_count": null,
   "metadata": {},
   "outputs": [],
   "source": [
    "using Dates, LinearAlgebra, DelimitedFiles, Statistics"
   ]
  },
  {
   "cell_type": "code",
   "execution_count": null,
   "metadata": {},
   "outputs": [],
   "source": [
    "using JuliaDB"
   ]
  },
  {
   "cell_type": "code",
   "execution_count": null,
   "metadata": {},
   "outputs": [],
   "source": [
    "Apophis.loadjpleph();"
   ]
  },
  {
   "cell_type": "markdown",
   "metadata": {},
   "source": [
    "## Process radar data"
   ]
  },
  {
   "cell_type": "markdown",
   "metadata": {},
   "source": [
    "Process radar (time-delay/Doppler) data:"
   ]
  },
  {
   "cell_type": "code",
   "execution_count": null,
   "metadata": {},
   "outputs": [],
   "source": [
    "apophis_data = process_radar_data_jpl(\"../data/Apophis_JPL_data.dat\");"
   ]
  },
  {
   "cell_type": "code",
   "execution_count": null,
   "metadata": {
    "scrolled": true
   },
   "outputs": [],
   "source": [
    "# compute time-delay, Doppler-shift values from JPL ephemerides\n",
    "tdelay_JPL_v1, dshift_JPL_v1 = delay_doppler(apophis_data);"
   ]
  },
  {
   "cell_type": "code",
   "execution_count": null,
   "metadata": {},
   "outputs": [],
   "source": [
    "delay_index = findall(x->x.delay_units==\"us\", apophis_data)\n",
    "doppler_index = findall(x->x.doppler_units==\"Hz\", apophis_data);"
   ]
  },
  {
   "cell_type": "code",
   "execution_count": null,
   "metadata": {},
   "outputs": [],
   "source": [
    "tdelay_jpl_obs = [x.delay for x in apophis_data][delay_index]\n",
    "dshift_jpl_obs = [x.doppler for x in apophis_data][doppler_index]\n",
    "\n",
    "tdelay_jpl_obs_sigma = [x.delay_sigma for x in apophis_data][delay_index]\n",
    "dshift_jpl_obs_sigma = [x.doppler_sigma for x in apophis_data][doppler_index];"
   ]
  },
  {
   "cell_type": "code",
   "execution_count": null,
   "metadata": {},
   "outputs": [],
   "source": [
    "dshift_jpl_freq = [x.freq for x in apophis_data][doppler_index]; #MHz !!!!!!!!!"
   ]
  },
  {
   "cell_type": "code",
   "execution_count": null,
   "metadata": {},
   "outputs": [],
   "source": [
    "tdelay_jpl_obs_jd_utc = [datetime2julian(x.utcepoch) for x in apophis_data][delay_index]\n",
    "dshift_jpl_obs_jd_utc = [datetime2julian(x.utcepoch) for x in apophis_data][doppler_index];"
   ]
  },
  {
   "cell_type": "code",
   "execution_count": null,
   "metadata": {},
   "outputs": [],
   "source": [
    "transmitter_freq_MHz = [x.freq for x in apophis_data];"
   ]
  },
  {
   "cell_type": "markdown",
   "metadata": {},
   "source": [
    "## Process computed delay and Dopplers"
   ]
  },
  {
   "cell_type": "code",
   "execution_count": null,
   "metadata": {},
   "outputs": [],
   "source": [
    "#radec_bwd_jld = \"radec_tho13_o5v7.jld\"\n",
    "#radec_fwd_jld = \"radec_vokr15_o5v7.jld\"\n",
    "#deldop_bwd_jld = \"deldop_Apophis_JPL_data_2005_2006_25ASTF13.jld\"\n",
    "#deldop_fwd_jld = \"deldop_Apophis_JPL_data_2012_2013_25ASTF13.jld\"\n",
    "deldop_bwd_jld = \"deldop_m5y_o5v7_x0_s197_BIG16AST.jld\"\n",
    "deldop_fwd_jld = \"deldop_p6y_o5v7_x0_s197_BIG16AST.jld\"\n",
    "\n",
    "#vra_bwd  = JLD.load(radec_bwd_jld, \"vra\")\n",
    "#vdec_bwd = JLD.load(radec_bwd_jld, \"vdec\")\n",
    "#vra_fwd  = JLD.load(radec_fwd_jld, \"vra\")\n",
    "#vdec_fwd = JLD.load(radec_fwd_jld, \"vdec\")\n",
    "#vra_bwd = select(tholen13_data, :α_comp)\n",
    "#vdec_bwd = select(tholen13_data, :δ_comp)\n",
    "#vra_fwd = select(vokr15_data, :α_comp)\n",
    "#vdec_fwd = select(vokr15_data, :δ_comp)\n",
    "\n",
    "vdel_bwd = JLD.load(deldop_bwd_jld, \"vdel\")\n",
    "vdop_bwd = JLD.load(deldop_bwd_jld, \"vdop\")\n",
    "vdel_fwd = JLD.load(deldop_fwd_jld, \"vdel\")\n",
    "vdop_fwd = JLD.load(deldop_fwd_jld, \"vdop\")\n",
    "\n",
    "vdel = vcat(vdel_bwd, vdel_fwd)\n",
    "vdop = vcat(vdop_bwd, vdop_fwd)\n",
    "#vra = vcat(vra_bwd, vra_fwd)\n",
    "#vdec = vcat(vdec_bwd, vdec_fwd);"
   ]
  },
  {
   "cell_type": "code",
   "execution_count": null,
   "metadata": {},
   "outputs": [],
   "source": [
    "vdel_bwd[1].order"
   ]
  },
  {
   "cell_type": "code",
   "execution_count": null,
   "metadata": {},
   "outputs": [],
   "source": [
    "# get number of TaylorN variables\n",
    "nv = get_numvars()"
   ]
  },
  {
   "cell_type": "code",
   "execution_count": null,
   "metadata": {},
   "outputs": [],
   "source": [
    "A2_JPL = -5.592839897872"
   ]
  },
  {
   "cell_type": "code",
   "execution_count": null,
   "metadata": {},
   "outputs": [],
   "source": [
    "xyz_199 = [-0.96330181481543, 0.5100291398744977, 0.16528030015848072]\n",
    "uvw_199 = [-0.007118874645519018, -0.0120612341605072, -0.004669513801491289]\n",
    "\n",
    "xyz_197 = [-0.9633018953468989, 0.5100289806011301, 0.16528024397505386]\n",
    "uvw_197 = [-0.0071188720570829036, -0.012061235689040535, -0.0046695143453363164];"
   ]
  },
  {
   "cell_type": "code",
   "execution_count": null,
   "metadata": {},
   "outputs": [],
   "source": [
    "(xyz_197-xyz_199)*au"
   ]
  },
  {
   "cell_type": "code",
   "execution_count": null,
   "metadata": {},
   "outputs": [],
   "source": [
    "(uvw_197-uvw_199)*au/daysec"
   ]
  },
  {
   "cell_type": "code",
   "execution_count": null,
   "metadata": {},
   "outputs": [],
   "source": [
    "# JPL#199 nominal initial condition (wrt to our initial nominal solution)\n",
    "x0_JPL = vcat(1e8vcat(xyz_199-xyz_197,uvw_199-uvw_197), A2_JPL)"
   ]
  },
  {
   "cell_type": "code",
   "execution_count": null,
   "metadata": {},
   "outputs": [],
   "source": [
    "# https://ssd.jpl.nasa.gov/sbdb.cgi?sstr=99942;orb=0;cov=1;log=0;cad=0#elem\n",
    "Γ_JPL199 = [\n",
    " 2.858062040774483E-17  -2.531903029559859E-17  2.451271598753632E-14  5.341143529000106E-14 -5.064059304794175E-14 -2.316088496620918E-16 -9.159706240530915E-23\n",
    "-2.531903029559859E-17   2.250437378457998E-17 -2.122266051203493E-14 -5.100944859184798E-14  4.826834522209508E-14  2.76636664162405E-16   7.744081722922498E-23\n",
    " 2.451271598753632E-14  -2.122266051203493E-14  2.501437350446983E-11  1.16213242311946E-11  -1.057653022558682E-11  4.597741246907787E-13 -1.026132427113056E-19\n",
    " 5.341143529000106E-14  -5.100944859184798E-14  1.16213242311946E-11   4.437388022822618E-10 -4.338840441053813E-10 -6.817498150073878E-12 -4.324000765783613E-21\n",
    "-5.064059304794175E-14   4.826834522209508E-14 -1.057653022558682E-11 -4.338840441053813E-10  4.261149273549589E-10  6.697032883689781E-12  1.139615135464918E-20\n",
    "-2.316088496620918E-16   2.76636664162405E-16   4.597741246907787E-13 -6.817498150073878E-12  6.697032883689781E-12  1.22672053287042E-13  -2.524941685627351E-21\n",
    "-9.159706240530915E-23   7.744081722922498E-23 -1.026132427113056E-19 -4.324000765783613E-21  1.139615135464918E-20 -2.524941685627351E-21  4.846398125111792E-28\n",
    "]"
   ]
  },
  {
   "cell_type": "code",
   "execution_count": null,
   "metadata": {},
   "outputs": [],
   "source": [
    "sqrt(1/(inv(Γ_JPL199)[7,7]))"
   ]
  },
  {
   "cell_type": "markdown",
   "metadata": {},
   "source": [
    "## Process optical data"
   ]
  },
  {
   "cell_type": "markdown",
   "metadata": {},
   "source": [
    "Following Vokrouhlicky et al. (2015), we process optical astrometric data (right ascension / declination) from Tholen et al. (2013), MPEC 2014-R71 (Mauna Kea), Pan-STARRS PS1, and Magdalena Ridge Observatory:"
   ]
  },
  {
   "cell_type": "code",
   "execution_count": null,
   "metadata": {},
   "outputs": [],
   "source": [
    "# recover data from saved .jdb file\n",
    "#_tholen13_data = JuliaDB.load(\"radec_tholen13_mpc_formatted_25ASTF13.jdb\")\n",
    "#_vokr15_data = JuliaDB.load(\"radec_vokr15_mpc_formatted_25ASTF13.jdb\")\n",
    "_tholen13_data = JuliaDB.load(\"radec_tholen13_mpc_formatted_x0_s197_BIG16AST.jdb\")\n",
    "_vokr15_data = JuliaDB.load(\"radec_vokr15_mpc_formatted_x0_s197_BIG16AST.jdb\")\n",
    "\n",
    "# compute debiasing corrections from Farnocchia et al (2015) table\n",
    "tho13_sjpl_t = radec_table(\"../data/tholen13_mpc_formatted.dat\", debias_table=\"2014\")\n",
    "vok15_sjpl_t = radec_table(\"../data/vokr15_mpc_formatted.dat\", debias_table=\"2014\")\n",
    "ras_corr_tho13 = select(tho13_sjpl_t, :α_corr)\n",
    "dec_corr_tho13 = select(tho13_sjpl_t, :δ_corr)\n",
    "ras_corr_vok15 = select(vok15_sjpl_t, :α_corr)\n",
    "dec_corr_vok15 = select(vok15_sjpl_t, :δ_corr);"
   ]
  },
  {
   "cell_type": "code",
   "execution_count": null,
   "metadata": {},
   "outputs": [],
   "source": [
    "# construct tables including \"2014\" debiasing corrections \n",
    "\n",
    "tholen13_data = insertcolsafter(\n",
    "    _tholen13_data, \n",
    "    length(columns(_tholen13_data)), \n",
    "    :α_corr_2014 => ras_corr_tho13, \n",
    "    :δ_corr_2014 => dec_corr_tho13\n",
    ")\n",
    "\n",
    "vokr15_data = insertcolsafter(\n",
    "    _vokr15_data, \n",
    "    length(columns(_vokr15_data)), \n",
    "    :α_corr_2014 => ras_corr_vok15, \n",
    "    :δ_corr_2014 => dec_corr_vok15\n",
    ");"
   ]
  },
  {
   "cell_type": "code",
   "execution_count": null,
   "metadata": {},
   "outputs": [],
   "source": [
    "# used in plots vs time\n",
    "tv_opt = select(tholen13_data, :dt_utc_obs => x->datetime2julian(x))\n",
    "tv_opt_v15 = select(vokr15_data, :dt_utc_obs => x->datetime2julian(x));"
   ]
  },
  {
   "cell_type": "code",
   "execution_count": null,
   "metadata": {},
   "outputs": [],
   "source": [
    "mean(select(tholen13_data, (:α_obs, :α_comp)=>x->x[1]-x[2]()))"
   ]
  },
  {
   "cell_type": "code",
   "execution_count": null,
   "metadata": {},
   "outputs": [],
   "source": [
    "mean(select(tholen13_data, (:δ_obs, :δ_comp)=>x->x[1]-x[2]()))"
   ]
  },
  {
   "cell_type": "code",
   "execution_count": null,
   "metadata": {},
   "outputs": [],
   "source": [
    "mean(select(vokr15_data, (:α_obs, :α_comp)=>x->x[1]-x[2]()))"
   ]
  },
  {
   "cell_type": "code",
   "execution_count": null,
   "metadata": {},
   "outputs": [],
   "source": [
    "mean(select(vokr15_data, (:δ_obs, :δ_comp)=>x->x[1]-x[2]()))"
   ]
  },
  {
   "cell_type": "code",
   "execution_count": null,
   "metadata": {},
   "outputs": [],
   "source": [
    "dates_t13 = select(tholen13_data, :dt_utc_obs => x->Date(x))\n",
    "dates_v15 = select(vokr15_data, :dt_utc_obs => x->Date(x))\n",
    "\n",
    "# vector of number of observations per night, Farnocchia et al (2013)\n",
    "Nv_t13 = [count(x->x==i, dates_t13) for i in dates_t13]\n",
    "# vector of number of observations per night, Vokrouhlicky et al (2015)\n",
    "Nv_v15 = [count(x->x==i, dates_v15) for i in dates_v15];"
   ]
  },
  {
   "cell_type": "code",
   "execution_count": null,
   "metadata": {},
   "outputs": [],
   "source": [
    "#weight scale\n",
    "w8_scale(i) = i>5 ? i/5 : 1.0 # Farnocchia et al 2013"
   ]
  },
  {
   "cell_type": "code",
   "execution_count": null,
   "metadata": {},
   "outputs": [],
   "source": [
    "relax_t13 = [w8_scale(i) for i in Nv_t13];"
   ]
  },
  {
   "cell_type": "code",
   "execution_count": null,
   "metadata": {},
   "outputs": [],
   "source": [
    "relax_v15 = [w8_scale(i) for i in Nv_v15]\n",
    ";"
   ]
  },
  {
   "cell_type": "code",
   "execution_count": null,
   "metadata": {},
   "outputs": [],
   "source": [
    "# error component that accounts for intrinsic bias of 2MASS catalog at J2000 epoch\n",
    "σ_B = 0.04 # arcseconds \n",
    "\n",
    "# time dependent uncertainty component related to proper motion biases:\n",
    "σ_PM = select(tholen13_data, :yr=>x->0.05*(x-2000)/(2011-2000)) # arcseconds\n",
    ";"
   ]
  },
  {
   "cell_type": "code",
   "execution_count": null,
   "metadata": {},
   "outputs": [],
   "source": [
    "tho13_errors = readdlm(\"../data/tholenetal2013_opterror.dat\", ',');\n",
    "\n",
    "# astrometric solution (fit) uncertainty\n",
    "Δα_a = Float64.(tho13_errors[:,1]) # arcseconds\n",
    "Δδ_a = Float64.(tho13_errors[:,2]) # arcseconds\n",
    "\n",
    "# object centroiding uncertainty\n",
    "Δα_χ = Float64.(tho13_errors[:,3]) # arcseconds\n",
    "Δδ_χ = Float64.(tho13_errors[:,4]) # arcseconds\n",
    "\n",
    "# tracking uncertainty\n",
    "Δα_t = Float64.(tho13_errors[:,5]) # arcseconds\n",
    "Δδ_t = Float64.(tho13_errors[:,6]) # arcseconds\n",
    "\n",
    "#Construct α, δ weights according to Farnocchia et al. (2013) weighting scheme:\n",
    "#w_α_f13 = @__dot__ (1/(Δα_a^2 + Δα_χ^2 + Δα_t^2 + Nv_t13*σ_B^2 + Nv_t13*σ_PM^2 ))/relax_t13 # Eq. (2), Farnocchia et al. (2013)\n",
    "#w_δ_f13 = @__dot__ (1/(Δδ_a^2 + Δδ_χ^2 + Δδ_t^2 + Nv_t13*σ_B^2 + Nv_t13*σ_PM^2 ))/relax_t13; # Eq. (3), Farnocchia et al. (2013)\n",
    "\n",
    "w_α_f13 = @__dot__ (1/(Δα_a^2 + Δα_χ^2 + Δα_t^2))/relax_t13 # Eq. (2), Farnocchia et al. (2013)\n",
    "w_δ_f13 = @__dot__ (1/(Δδ_a^2 + Δδ_χ^2 + Δδ_t^2))/relax_t13; # Eq. (3), Farnocchia et al. (2013)"
   ]
  },
  {
   "cell_type": "code",
   "execution_count": null,
   "metadata": {},
   "outputs": [],
   "source": [
    "# time dependent uncertainty component related to proper motion biases:\n",
    "σ_PM_v15 = select(vokr15_data, :yr=>x->0.05*(x-2000)/(2011-2000)) # arcseconds;"
   ]
  },
  {
   "cell_type": "code",
   "execution_count": null,
   "metadata": {},
   "outputs": [],
   "source": [
    "# Magdalena Ridge weights\n",
    "w_α_mro = select(filter(x->x.obscode==\"H01\", vokr15_data), :obscode => x->1/(0.30)^2) # 0.15,0.30\n",
    "w_δ_mro = w_α_mro\n",
    "\n",
    "#Mauna Kea (MPEC 2014-R71) weights\n",
    "w_α_mk = select(filter(x->x.obscode==\"568\", vokr15_data), :obscode => x->1/(0.13)^2)\n",
    "w_δ_mk = w_α_mk\n",
    "\n",
    "#PanSTARRS-PS1 weights\n",
    "ind_PS1 = select(vokr15_data, :obscode => x->x==\"F51\")\n",
    "#w_α_ps1 = @__dot__ 1/((0.30)^2 + Nv_v15[ind_PS1]*σ_B^2 + Nv_v15[ind_PS1]*σ_PM_v15[ind_PS1]^2 )\n",
    "w_α_ps1 = select(filter(x->x.obscode==\"F51\", vokr15_data), :obscode => x->1/(0.15)^2) # was 0.15,0.30\n",
    "w_δ_ps1 = w_α_ps1\n",
    "\n",
    "# Vokrouhlicky et al (2015) weights\n",
    "w_α_v15 = vcat(w_α_mro, w_α_mk, w_α_ps1)./relax_v15\n",
    "w_δ_v15 = vcat(w_δ_mro, w_δ_mk, w_δ_ps1)./relax_v15;"
   ]
  },
  {
   "cell_type": "markdown",
   "metadata": {},
   "source": [
    "## Compute optical measurements residuals and weights"
   ]
  },
  {
   "cell_type": "code",
   "execution_count": null,
   "metadata": {
    "scrolled": true
   },
   "outputs": [],
   "source": [
    "radec_data_ALL = merge(tholen13_data, vokr15_data);"
   ]
  },
  {
   "cell_type": "code",
   "execution_count": null,
   "metadata": {
    "scrolled": true
   },
   "outputs": [],
   "source": [
    "radec_data_noMK = filter(x->!(x.yr>2008 && x.obscode==\"568\"), radec_data_ALL, select=(:yr,:obscode));"
   ]
  },
  {
   "cell_type": "code",
   "execution_count": null,
   "metadata": {},
   "outputs": [],
   "source": [
    "no_mk_ind_t = select(radec_data_ALL, (:yr,:obscode)=>x->!(x.yr>2008 && x.obscode==\"568\"));"
   ]
  },
  {
   "cell_type": "code",
   "execution_count": null,
   "metadata": {},
   "outputs": [],
   "source": [
    "# observed\n",
    "\n",
    "α_obs_ALL = select(radec_data_ALL, :α_obs) #arcseconds (includes cos(dec))\n",
    "δ_obs_ALL = select(radec_data_ALL, :δ_obs) #arcseconds\n",
    "\n",
    "# computed\n",
    "\n",
    "α_comp_ALL = select(radec_data_ALL, :α_comp) #arcseconds (includes cos(dec))\n",
    "δ_comp_ALL = select(radec_data_ALL, :δ_comp) #arcseconds\n",
    "\n",
    "# debiasing\n",
    "\n",
    "α_corr_2014 = select(radec_data_ALL, :α_corr_2014)\n",
    "δ_corr_2014 = select(radec_data_ALL, :δ_corr_2014)\n",
    "α_corr_2018 = select(radec_data_ALL, :α_corr)\n",
    "δ_corr_2018 = select(radec_data_ALL, :δ_corr)\n",
    "\n",
    "# weights\n",
    "\n",
    "W_ra = vcat(w_α_f13, w_α_v15)\n",
    "W_dec = vcat(w_δ_f13, w_δ_v15)\n",
    "W_ra_noMK = W_ra[no_mk_ind_t]\n",
    "W_dec_noMK = W_dec[no_mk_ind_t]\n",
    "W_radec = vcat(W_ra, W_dec)\n",
    "W_radec_noMK = vcat(W_ra_noMK, W_dec_noMK)\n",
    "\n",
    "# residuals\n",
    "\n",
    "res_ras_RAW = α_obs_ALL .- α_comp_ALL # right ascension residuals, arcseconds\n",
    "res_dec_RAW = δ_obs_ALL .- δ_comp_ALL # declination residuals, arcseconds\n",
    "\n",
    "res_ras_2014 = (α_obs_ALL .- α_corr_2014) .- α_comp_ALL # right ascension residuals, arcseconds\n",
    "res_dec_2014 = (δ_obs_ALL .- δ_corr_2014) .- δ_comp_ALL # declination residuals, arcseconds\n",
    "\n",
    "res_ras_2018 = (α_obs_ALL .- α_corr_2018) .- α_comp_ALL # right ascension residuals, arcseconds\n",
    "res_dec_2018 = (δ_obs_ALL .- δ_corr_2018) .- δ_comp_ALL # declination residuals, arcseconds\n",
    "\n",
    "res_ras_RAW_noMK = res_ras_RAW[no_mk_ind_t]\n",
    "res_dec_RAW_noMK = res_dec_RAW[no_mk_ind_t]\n",
    "\n",
    "res_ras_2014_noMK = res_ras_2014[no_mk_ind_t]\n",
    "res_dec_2014_noMK = res_dec_2014[no_mk_ind_t]\n",
    "\n",
    "res_ras_2018_noMK = res_ras_2018[no_mk_ind_t]\n",
    "res_dec_2018_noMK = res_dec_2018[no_mk_ind_t]\n",
    "\n",
    "### residuals and weights with/without Mauna-Kea selection, 2014/2018 debiasing\n",
    "\n",
    "res_radec_RAW = vcat(res_ras_RAW, res_dec_RAW) # α, δ residuals\n",
    "W_radec_RAW = W_radec; # Farnocchia et al (2013) weighting scheme\n",
    "\n",
    "res_radec_RAW_noMK = vcat(res_ras_RAW_noMK, res_dec_RAW_noMK) # α, δ residuals\n",
    "W_radec_RAW_noMK = W_radec_noMK; # Farnocchia et al (2013) weighting scheme\n",
    "\n",
    "#RA/DEC observations residuals and weights, using Farnocchia et al. (2015) debiasing table, **WITHOUT** Mauna Kea (MPEC 2014-R71) obs\n",
    "res_radec_2014 = vcat(res_ras_2014, res_dec_2014) # α, δ residuals\n",
    "W_radec_2014 = W_radec; # Farnocchia et al (2013) weighting scheme\n",
    "\n",
    "###RA/DEC observations residuals and weights, using Farnocchia et al. (2015) debiasing table, **WITHOUT** Mauna Kea (MPEC 2014-R71) obs\n",
    "res_radec_2014_noMK = vcat(res_ras_2014_noMK, res_dec_2014_noMK) # α, δ residuals\n",
    "W_radec_2014_noMK = W_radec_noMK; # Farnocchia et al (2013) weighting scheme\n",
    "\n",
    "#RA/DEC observations residuals and weights, using Eggl et al. (2020) debiasing table, **WITH** Mauna Kea (MPEC 2014-R71) obs\n",
    "res_radec_2018 = vcat(res_ras_2018, res_dec_2018) # α, δ residuals\n",
    "W_radec_2018 = W_radec # Farnocchia et al (2013) weighting scheme\n",
    "\n",
    "#RA/DEC observations residuals and weights, using Eggl et al. (2020) debiasing table, **WITHOUT** Mauna Kea (MPEC 2014-R71) obs\n",
    "res_radec_2018_noMK = vcat(res_ras_2018_noMK, res_dec_2018_noMK) # α, δ residuals\n",
    "W_radec_2018_noMK = W_radec_noMK # Farnocchia et al (2013) weighting scheme\n",
    "\n",
    ";"
   ]
  },
  {
   "cell_type": "code",
   "execution_count": null,
   "metadata": {},
   "outputs": [],
   "source": [
    "length(res_ras_2014), length(res_dec_2014)"
   ]
  },
  {
   "cell_type": "code",
   "execution_count": null,
   "metadata": {},
   "outputs": [],
   "source": [
    "length(res_ras_2014_noMK), length(res_dec_2014_noMK)"
   ]
  },
  {
   "cell_type": "code",
   "execution_count": null,
   "metadata": {},
   "outputs": [],
   "source": [
    "length(res_ras_2018), length(res_dec_2018)"
   ]
  },
  {
   "cell_type": "code",
   "execution_count": null,
   "metadata": {},
   "outputs": [],
   "source": [
    "length(res_radec_2014_noMK), length(W_radec_2014_noMK), length(res_radec_2018), length(W_radec_2018)"
   ]
  },
  {
   "cell_type": "code",
   "execution_count": null,
   "metadata": {},
   "outputs": [],
   "source": [
    "ans[3]-ans[2] #944-896"
   ]
  },
  {
   "cell_type": "markdown",
   "metadata": {},
   "source": [
    "Compute time-delay/Doppler measurements residuals and weights:"
   ]
  },
  {
   "cell_type": "code",
   "execution_count": null,
   "metadata": {
    "scrolled": true
   },
   "outputs": [],
   "source": [
    "res_del = tdelay_jpl_obs .- vdel # delay residuals a.a.f. of (dx_{1,0},...,dx_{6,0},A2)\n",
    "res_dop = dshift_jpl_obs .- vdop # Doppler residuals a.a.f. of (dx_{1,0},...,dx_{6,0},A2)\n",
    "W_del = 1 ./(tdelay_jpl_obs_sigma.^2) # delay weights\n",
    "W_dop = 1 ./(dshift_jpl_obs_sigma.^2) # Doppler weights\n",
    "\n",
    "res_deldop = vcat(res_del, res_dop) # delay + Doppler residuals as a function of (dx_{1,0},...,dx_{6,0},A2)\n",
    "W_deldop = vcat(W_del, W_dop) # delay + Doppler weights;"
   ]
  },
  {
   "cell_type": "code",
   "execution_count": null,
   "metadata": {},
   "outputs": [],
   "source": [
    "length(res_del), length(res_dop), length(res_deldop)"
   ]
  },
  {
   "cell_type": "markdown",
   "metadata": {},
   "source": [
    "Concatenate optical + radar residuals and weights:"
   ]
  },
  {
   "cell_type": "code",
   "execution_count": null,
   "metadata": {},
   "outputs": [],
   "source": [
    "res_optrad_RAW = vcat(res_radec_RAW, res_deldop)\n",
    "W_optrad_RAW = vcat(W_radec_RAW, W_deldop)\n",
    "\n",
    "res_optrad_RAW_noMK = vcat(res_radec_RAW_noMK, res_deldop)\n",
    "W_optrad_RAW_noMK = vcat(W_radec_RAW_noMK, W_deldop)\n",
    "\n",
    "res_optrad_2014 = vcat(res_radec_2014, res_deldop)\n",
    "W_optrad_2014 = vcat(W_radec_2014, W_deldop)\n",
    "\n",
    "res_optrad_2014_noMK = vcat(res_radec_2014_noMK, res_deldop)\n",
    "W_optrad_2014_noMK = vcat(W_radec_2014_noMK, W_deldop)\n",
    "\n",
    "res_optrad_2018 = vcat(res_radec_2018, res_deldop)\n",
    "W_optrad_2018 = vcat(W_radec_2018, W_deldop)\n",
    "\n",
    "res_optrad_2018_noMK = vcat(res_radec_2018_noMK, res_deldop)\n",
    "W_optrad_2018_noMK = vcat(W_radec_2018_noMK, W_deldop)\n",
    ";"
   ]
  },
  {
   "cell_type": "code",
   "execution_count": null,
   "metadata": {},
   "outputs": [],
   "source": [
    "length(res_optrad_2014), length(W_optrad_2014)"
   ]
  },
  {
   "cell_type": "code",
   "execution_count": null,
   "metadata": {},
   "outputs": [],
   "source": [
    "length(res_optrad_2014_noMK), length(W_optrad_2014_noMK)"
   ]
  },
  {
   "cell_type": "code",
   "execution_count": null,
   "metadata": {},
   "outputs": [],
   "source": [
    "length(res_optrad_2018), length(W_optrad_2018)"
   ]
  },
  {
   "cell_type": "code",
   "execution_count": null,
   "metadata": {},
   "outputs": [],
   "source": [
    "length(res_optrad_2018_noMK), length(W_optrad_2018_noMK)"
   ]
  },
  {
   "cell_type": "code",
   "execution_count": null,
   "metadata": {},
   "outputs": [],
   "source": [
    "# 7-DOF optical+radar fit, **NO** debias, **IN**CLUDING MAUNA KEA (MPEC) 2014-R71\n",
    "x_OR7_RAW, Γ_OR7_RAW = newtonls(res_optrad_RAW, W_optrad_RAW, zeros(7), 5);\n",
    "σ_OR7_RAW = sqrt.(diag(Γ_OR7_RAW))\n",
    "@show x_OR7_RAW σ_OR7_RAW\n",
    "\n",
    "# 7-DOF optical+radar fit, F2015 debias, **IN**CLUDING MAUNA KEA (MPEC) 2014-R71\n",
    "x_OR7_2014, Γ_OR7_2014 = newtonls(res_optrad_2014, W_optrad_2014, zeros(7), 5);\n",
    "σ_OR7_2014 = sqrt.(diag(Γ_OR7_2014))\n",
    "@show x_OR7_2014 σ_OR7_2014\n",
    "\n",
    "# 7-DOF optical+radar fit, E2020 debias, **IN**CLUDING MAUNA KEA (MPEC) 2014-R71\n",
    "x_OR7, Γ_OR7 = newtonls(res_optrad_2018, W_optrad_2018, zeros(7), 4);\n",
    "σ_OR7 = sqrt.(diag(Γ_OR7))\n",
    "@show x_OR7 σ_OR7\n",
    "\n",
    "x_OR7_RAW_noMK, Γ_OR7_RAW_noMK = newtonls(res_optrad_RAW_noMK, W_optrad_RAW_noMK, zeros(7), 5);\n",
    "σ_OR7_RAW_noMK = sqrt.(diag(Γ_OR7_RAW_noMK))\n",
    "@show x_OR7_RAW_noMK σ_OR7_RAW_noMK\n",
    "\n",
    "x_OR7_2014_noMK, Γ_OR7_2014_noMK = newtonls(res_optrad_2014_noMK, W_optrad_2014_noMK, zeros(7), 5);\n",
    "σ_OR7_2014_noMK = sqrt.(diag(Γ_OR7_2014_noMK))\n",
    "@show x_OR7_2014_noMK σ_OR7_2014_noMK\n",
    "\n",
    "x_OR7_noMK, Γ_OR7_noMK = newtonls(res_optrad_2018_noMK, W_optrad_2018_noMK, zeros(7), 9);\n",
    "σ_OR7_noMK = sqrt.(diag(Γ_OR7_noMK))\n",
    "@show x_OR7_noMK σ_OR7_noMK\n",
    "\n",
    "##### OR6 no MK debiasing variations\n",
    "\n",
    "x_OR6_RAW_noMK, Γ_OR6_RAW_noMK = newtonls_6v(res_optrad_RAW_noMK, W_optrad_RAW_noMK, zeros(7), 5);\n",
    "σ_OR6_RAW_noMK = sqrt.(diag(Γ_OR6_RAW_noMK))\n",
    "@show x_OR6_RAW_noMK σ_OR6_RAW_noMK\n",
    "\n",
    "x_OR6_2014_noMK, Γ_OR6_2014_noMK = newtonls_6v(res_optrad_2014_noMK, W_optrad_2014_noMK, zeros(7), 5);\n",
    "σ_OR6_2014_noMK = sqrt.(diag(Γ_OR6_2014_noMK))\n",
    "@show x_OR6_2014_noMK σ_OR6_2014_noMK\n",
    "\n",
    "x_OR6_noMK, Γ_OR6_noMK = newtonls_6v(res_optrad_2018_noMK, W_optrad_2018_noMK, zeros(7), 9);\n",
    "σ_OR6_noMK = sqrt.(diag(Γ_OR6_noMK))\n",
    "@show x_OR6_noMK σ_OR6_noMK\n",
    ";"
   ]
  },
  {
   "cell_type": "code",
   "execution_count": null,
   "metadata": {},
   "outputs": [],
   "source": [
    "chi2(res_optrad_2018(x_OR7), W_optrad_2018)"
   ]
  },
  {
   "cell_type": "code",
   "execution_count": null,
   "metadata": {},
   "outputs": [],
   "source": []
  },
  {
   "cell_type": "code",
   "execution_count": null,
   "metadata": {},
   "outputs": [],
   "source": [
    "chi2(res_optrad_RAW_noMK(x_OR7_RAW_noMK), W_optrad_RAW_noMK)"
   ]
  },
  {
   "cell_type": "code",
   "execution_count": null,
   "metadata": {},
   "outputs": [],
   "source": [
    "chi2(res_optrad_2014_noMK(x_OR7_2014_noMK), W_optrad_2014_noMK)"
   ]
  },
  {
   "cell_type": "code",
   "execution_count": null,
   "metadata": {},
   "outputs": [],
   "source": [
    "chi2(res_optrad_2018_noMK(x_OR7_noMK), W_optrad_2018_noMK)"
   ]
  },
  {
   "cell_type": "code",
   "execution_count": null,
   "metadata": {},
   "outputs": [],
   "source": []
  },
  {
   "cell_type": "code",
   "execution_count": null,
   "metadata": {},
   "outputs": [],
   "source": [
    "chi2(res_optrad_RAW_noMK(x_OR6_RAW_noMK), W_optrad_RAW_noMK)"
   ]
  },
  {
   "cell_type": "code",
   "execution_count": null,
   "metadata": {},
   "outputs": [],
   "source": [
    "chi2(res_optrad_2014_noMK(x_OR6_2014_noMK), W_optrad_2014_noMK)"
   ]
  },
  {
   "cell_type": "code",
   "execution_count": null,
   "metadata": {},
   "outputs": [],
   "source": [
    "chi2(res_optrad_2018_noMK(x_OR6_noMK), W_optrad_2018_noMK)"
   ]
  },
  {
   "cell_type": "code",
   "execution_count": null,
   "metadata": {},
   "outputs": [],
   "source": []
  },
  {
   "cell_type": "code",
   "execution_count": null,
   "metadata": {},
   "outputs": [],
   "source": [
    "#chi2(res_optrad_RAW(x_OR6_RAW), W_optrad_RAW)"
   ]
  },
  {
   "cell_type": "code",
   "execution_count": null,
   "metadata": {},
   "outputs": [],
   "source": [
    "#chi2(res_optrad_2014(x_OR6_2014), W_optrad_2014)"
   ]
  },
  {
   "cell_type": "code",
   "execution_count": null,
   "metadata": {},
   "outputs": [],
   "source": [
    "#chi2(res_optrad_2018_noMK(x_OR6_noMK), W_optrad_2018_noMK)"
   ]
  },
  {
   "cell_type": "code",
   "execution_count": null,
   "metadata": {},
   "outputs": [],
   "source": []
  },
  {
   "cell_type": "markdown",
   "metadata": {},
   "source": [
    "# O6"
   ]
  },
  {
   "cell_type": "code",
   "execution_count": null,
   "metadata": {},
   "outputs": [],
   "source": [
    "# with Farnocchia et al (2013) weighting scheme\n",
    "x_O6_2014, Γ_O6_2014 = newtonls_6v(res_radec_2014, W_radec_2014, zeros(7), 12);\n",
    "x_O6, Γ_O6 = newtonls_6v(res_radec_2018, W_radec_2018, zeros(7), 12);\n",
    "x_O6"
   ]
  },
  {
   "cell_type": "code",
   "execution_count": null,
   "metadata": {},
   "outputs": [],
   "source": [
    "sqrt.(diag(Γ_O6_2014))"
   ]
  },
  {
   "cell_type": "code",
   "execution_count": null,
   "metadata": {},
   "outputs": [],
   "source": [
    "sqrt.(diag(Γ_O6))"
   ]
  },
  {
   "cell_type": "code",
   "execution_count": null,
   "metadata": {},
   "outputs": [],
   "source": [
    "nrms(res_radec_2014(x_O6_2014), W_radec_2014), chi2(res_radec_2014(x_O6_2014), W_radec_2014)"
   ]
  },
  {
   "cell_type": "code",
   "execution_count": null,
   "metadata": {},
   "outputs": [],
   "source": [
    "nrms(res_radec_2018(x_O6), W_radec_2018), chi2(res_radec_2018(x_O6), W_radec_2018)"
   ]
  },
  {
   "cell_type": "markdown",
   "metadata": {},
   "source": [
    "# O7"
   ]
  },
  {
   "cell_type": "code",
   "execution_count": null,
   "metadata": {},
   "outputs": [],
   "source": [
    "# with Farnocchia et al (2013) weighting scheme\n",
    "x_O7, Γ_O7 = newtonls(res_radec_2018, W_radec_2018, zeros(7), 10);\n",
    "x_O7"
   ]
  },
  {
   "cell_type": "code",
   "execution_count": null,
   "metadata": {},
   "outputs": [],
   "source": [
    "sqrt.(diag(Γ_O7)) # sigmas were unchanged after debiasing"
   ]
  },
  {
   "cell_type": "markdown",
   "metadata": {},
   "source": [
    "# R (radar-only fit)"
   ]
  },
  {
   "cell_type": "code",
   "execution_count": null,
   "metadata": {},
   "outputs": [],
   "source": [
    "#7-DOF radar-only fit\n",
    "x_R, Γ_R = newtonls(res_deldop, W_deldop, zeros(7), 6);\n",
    "#cholesky(Hermitian(Γ_R))\n",
    "x_R"
   ]
  },
  {
   "cell_type": "code",
   "execution_count": null,
   "metadata": {},
   "outputs": [],
   "source": [
    "sqrt.(diag(Γ_R))"
   ]
  },
  {
   "cell_type": "code",
   "execution_count": null,
   "metadata": {},
   "outputs": [],
   "source": [
    "#***DIFF CORRECTIONS*** 7-DOF radar-only fit\n",
    "#x_R_dc, Γ_R_dc = diffcorr(res_deldop, W_deldop, zeros(7), 6);\n",
    "#cholesky(Hermitian(Γ_R))\n",
    "#x_R_dc\n",
    "#sqrt.(diag(Γ_R_dc))\n",
    "#sqrt(inv(inv(Γ_R_dc)[7,7]))"
   ]
  },
  {
   "cell_type": "code",
   "execution_count": null,
   "metadata": {},
   "outputs": [],
   "source": [
    "#1-D (A2) radar-only fit\n",
    "x_1D, Γ_1D, C_1D = Apophis.newtonls_A2(res_deldop, W_deldop, vcat(x_OR7[1:6], 0.0), 8);\n",
    "#cholesky(Hermitian(Γ_R))\n",
    "x_1D"
   ]
  },
  {
   "cell_type": "code",
   "execution_count": null,
   "metadata": {},
   "outputs": [],
   "source": [
    "Γ_R"
   ]
  },
  {
   "cell_type": "code",
   "execution_count": null,
   "metadata": {},
   "outputs": [],
   "source": [
    "0.0029656916981060585"
   ]
  },
  {
   "cell_type": "code",
   "execution_count": null,
   "metadata": {},
   "outputs": [],
   "source": [
    "sqrt(inv(inv(Γ_1D)[7,7]))"
   ]
  },
  {
   "cell_type": "code",
   "execution_count": null,
   "metadata": {},
   "outputs": [],
   "source": [
    "sqrt(inv(inv(Γ_R)[7,7]))"
   ]
  },
  {
   "cell_type": "code",
   "execution_count": null,
   "metadata": {},
   "outputs": [],
   "source": [
    "sqrt(inv(inv(Γ_OR7)[7,7]))"
   ]
  },
  {
   "cell_type": "code",
   "execution_count": null,
   "metadata": {},
   "outputs": [],
   "source": [
    "0.0001809104"
   ]
  },
  {
   "cell_type": "code",
   "execution_count": null,
   "metadata": {},
   "outputs": [],
   "source": [
    "0.0029650895230656773/0.0001809104"
   ]
  },
  {
   "cell_type": "code",
   "execution_count": null,
   "metadata": {},
   "outputs": [],
   "source": [
    "sqrt(inv(C_1D[7,7]))"
   ]
  },
  {
   "cell_type": "code",
   "execution_count": null,
   "metadata": {},
   "outputs": [],
   "source": [
    "sqrt(inv(inv(Γ_R)[7,7]))"
   ]
  },
  {
   "cell_type": "code",
   "execution_count": null,
   "metadata": {},
   "outputs": [],
   "source": [
    "sqrt(inv(C_1D[7,7]))"
   ]
  },
  {
   "cell_type": "code",
   "execution_count": null,
   "metadata": {},
   "outputs": [],
   "source": [
    "sqrt(inv(inv(Γ_1D)[7,7]))"
   ]
  },
  {
   "cell_type": "code",
   "execution_count": null,
   "metadata": {},
   "outputs": [],
   "source": [
    "sqrt.(diag(Γ_1D))"
   ]
  },
  {
   "cell_type": "code",
   "execution_count": null,
   "metadata": {},
   "outputs": [],
   "source": [
    "Γ_R"
   ]
  },
  {
   "cell_type": "code",
   "execution_count": null,
   "metadata": {},
   "outputs": [],
   "source": [
    "inv(Γ_R)"
   ]
  },
  {
   "cell_type": "code",
   "execution_count": null,
   "metadata": {},
   "outputs": [],
   "source": [
    "Γ_OR7"
   ]
  },
  {
   "cell_type": "code",
   "execution_count": null,
   "metadata": {},
   "outputs": [],
   "source": [
    "inv(Γ_OR7)"
   ]
  },
  {
   "cell_type": "code",
   "execution_count": null,
   "metadata": {},
   "outputs": [],
   "source": [
    "Γ_O7"
   ]
  },
  {
   "cell_type": "code",
   "execution_count": null,
   "metadata": {},
   "outputs": [],
   "source": [
    "sqrt(inv(inv(Γ_O7)[7,7]))"
   ]
  },
  {
   "cell_type": "code",
   "execution_count": null,
   "metadata": {},
   "outputs": [],
   "source": [
    "sqrt(inv(inv(Γ_OR7)[7,7]))"
   ]
  },
  {
   "cell_type": "code",
   "execution_count": null,
   "metadata": {},
   "outputs": [],
   "source": [
    "sqrt(inv(inv(Γ_R)[7,7]))"
   ]
  },
  {
   "cell_type": "code",
   "execution_count": null,
   "metadata": {},
   "outputs": [],
   "source": [
    "sqrt(inv(inv(Γ_1D)[7,7]))"
   ]
  },
  {
   "cell_type": "markdown",
   "metadata": {},
   "source": [
    "# OR7\n",
    "## TODO: initialize Newton method iterations with initial condition taken from `orbitdeterminator` output!"
   ]
  },
  {
   "cell_type": "code",
   "execution_count": null,
   "metadata": {},
   "outputs": [],
   "source": [
    "# Differential corrections algo with TaylorN autodiff\n",
    "# results are essentially the same as Newton method\n",
    "# 7-DOF optical+radar fit, E2020 debias, **IN**CLUDING MAUNA KEA (MPEC) 2014-R71\n",
    "@time x_OR7_dc, Γ_OR7_dc = diffcorr(res_optrad_2018, W_optrad_2018, zeros(7), 8);\n",
    "σ_OR7_dc = sqrt.(diag(Γ_OR7_dc))\n",
    "@show x_OR7_dc σ_OR7_dc;"
   ]
  },
  {
   "cell_type": "code",
   "execution_count": null,
   "metadata": {},
   "outputs": [],
   "source": [
    "# 7-DOF optical+radar fit, **NO** debias, **IN**CLUDING MAUNA KEA (MPEC) 2014-R71\n",
    "x_OR7_RAW, Γ_OR7_RAW = newtonls(res_optrad_RAW, W_optrad_RAW, zeros(7), 5);\n",
    "σ_OR7_RAW = sqrt.(diag(Γ_OR7_RAW))\n",
    "@show x_OR7_RAW σ_OR7_RAW\n",
    "# 7-DOF optical+radar fit, F2015 debias, **IN**CLUDING MAUNA KEA (MPEC) 2014-R71\n",
    "x_OR7_2014, Γ_OR7_2014 = newtonls(res_optrad_2014, W_optrad_2014, zeros(7), 5);\n",
    "σ_OR7_2014 = sqrt.(diag(Γ_OR7_2014))\n",
    "@show x_OR7_2014 σ_OR7_2014\n",
    "# 7-DOF optical+radar fit, F2015 debias, **EX**CLUDING MAUNA KEA (MPEC) 2014-R71\n",
    "x_OR7_2014_noMK, Γ_OR7_2014_noMK = newtonls(res_optrad_2014_noMK, W_optrad_2014_noMK, zeros(7), 5);\n",
    "σ_OR7_2014_noMK = sqrt.(diag(Γ_OR7_2014_noMK))\n",
    "@show x_OR7_2014_noMK σ_OR7_2014_noMK\n",
    "# 7-DOF optical+radar fit, E2020 debias, **IN**CLUDING MAUNA KEA (MPEC) 2014-R71\n",
    "x_OR7, Γ_OR7 = newtonls(res_optrad_2018, W_optrad_2018, zeros(7), 10);\n",
    "σ_OR7 = sqrt.(diag(Γ_OR7))\n",
    "@show x_OR7 σ_OR7\n",
    "# 7-DOF optical+radar fit, E2020 debias, **EX**CLUDING MAUNA KEA (MPEC) 2014-R71\n",
    "x_OR7_noMK, Γ_OR7_noMK = newtonls(res_optrad_2018_noMK, W_optrad_2018_noMK, zeros(7), 9);\n",
    "σ_OR7_noMK = sqrt.(diag(Γ_OR7_noMK))\n",
    "@show x_OR7_noMK σ_OR7_noMK\n",
    ";"
   ]
  },
  {
   "cell_type": "code",
   "execution_count": null,
   "metadata": {},
   "outputs": [],
   "source": [
    "#χ2\n",
    "chi2(res_optrad_2018_noMK(x_OR7_noMK), W_optrad_2018_noMK) # use sqrt(N) ad hoc weighting for no MK fit (Farnocchia et al 2015)"
   ]
  },
  {
   "cell_type": "code",
   "execution_count": null,
   "metadata": {},
   "outputs": [],
   "source": [
    "chi2(res_optrad_2014_noMK(x_OR7_2014_noMK), W_optrad_2014_noMK)"
   ]
  },
  {
   "cell_type": "code",
   "execution_count": null,
   "metadata": {},
   "outputs": [],
   "source": [
    "x_OR7"
   ]
  },
  {
   "cell_type": "code",
   "execution_count": null,
   "metadata": {},
   "outputs": [],
   "source": [
    "x_OR7_dc"
   ]
  },
  {
   "cell_type": "code",
   "execution_count": null,
   "metadata": {},
   "outputs": [],
   "source": [
    "σ_OR7"
   ]
  },
  {
   "cell_type": "code",
   "execution_count": null,
   "metadata": {},
   "outputs": [],
   "source": [
    "σ_OR7_dc"
   ]
  },
  {
   "cell_type": "code",
   "execution_count": null,
   "metadata": {},
   "outputs": [],
   "source": [
    "nrms(res_optrad_2018(x_OR7), W_optrad_2018)"
   ]
  },
  {
   "cell_type": "code",
   "execution_count": null,
   "metadata": {},
   "outputs": [],
   "source": [
    "#nrms(res_optrad_2018(x_OR7+cholesky((Γ_OR7)).L*3randn(7)), W_optrad_2018)"
   ]
  },
  {
   "cell_type": "code",
   "execution_count": null,
   "metadata": {},
   "outputs": [],
   "source": [
    "@show σ_OR7_RAW\n",
    "@show σ_OR7_2014\n",
    "@show σ_OR7\n",
    ";"
   ]
  },
  {
   "cell_type": "code",
   "execution_count": null,
   "metadata": {},
   "outputs": [],
   "source": [
    "chi2(res_optrad_RAW(x_OR7_RAW), W_optrad_RAW)"
   ]
  },
  {
   "cell_type": "code",
   "execution_count": null,
   "metadata": {},
   "outputs": [],
   "source": [
    "chi2(res_optrad_2014(x_OR7_2014), W_optrad_2014)"
   ]
  },
  {
   "cell_type": "code",
   "execution_count": null,
   "metadata": {},
   "outputs": [],
   "source": [
    "chi2(res_optrad_2018(x_OR7), W_optrad_2018)"
   ]
  },
  {
   "cell_type": "code",
   "execution_count": null,
   "metadata": {},
   "outputs": [],
   "source": [
    "chi2(res_optrad_2014_noMK(x_OR7_2014_noMK), W_optrad_2014_noMK)"
   ]
  },
  {
   "cell_type": "code",
   "execution_count": null,
   "metadata": {},
   "outputs": [],
   "source": [
    "chi2(res_optrad_2018_noMK(x_OR7_noMK), W_optrad_2018_noMK)"
   ]
  },
  {
   "cell_type": "markdown",
   "metadata": {},
   "source": [
    "# OR6"
   ]
  },
  {
   "cell_type": "code",
   "execution_count": null,
   "metadata": {},
   "outputs": [],
   "source": [
    "# 6-DOF optical+radar fit, E2020 debias, **IN**CLUDING MAUNA KEA (MPEC) 2014-R71\n",
    "x_OR6_RAW, Γ_OR6_RAW = newtonls_6v(res_optrad_RAW, W_optrad_RAW, zeros(7), 10);\n",
    "@show x_OR6_RAW\n",
    "# 6-DOF optical+radar fit, F2015 debias, **EX**CLUDING MAUNA KEA (MPEC) 2014-R71\n",
    "x_OR6_2014, Γ_OR6_2014 = newtonls_6v(res_optrad_2014, W_optrad_2014, zeros(7), 10);\n",
    "@show x_OR6_2014\n",
    "# 6-DOF optical+radar fit, E2020 debias, **IN**CLUDING MAUNA KEA (MPEC) 2014-R71\n",
    "x_OR6, Γ_OR6 = newtonls_6v(res_optrad_2018, W_optrad_2018, zeros(7), 10);\n",
    "x_OR6"
   ]
  },
  {
   "cell_type": "code",
   "execution_count": null,
   "metadata": {},
   "outputs": [],
   "source": [
    "# 6-DOF optical+radar fit, E2020 debias, **IN**CLUDING MAUNA KEA (MPEC) 2014-R71\n",
    "x_OR6_noMK, Γ_OR6_noMK = newtonls_6v(res_optrad_2018_noMK, W_optrad_2018_noMK, zeros(7), 10);\n",
    "x_OR6_noMK"
   ]
  },
  {
   "cell_type": "code",
   "execution_count": null,
   "metadata": {},
   "outputs": [],
   "source": [
    "chi2(res_optrad_RAW(x_OR6_RAW), W_optrad_RAW)"
   ]
  },
  {
   "cell_type": "code",
   "execution_count": null,
   "metadata": {},
   "outputs": [],
   "source": [
    "chi2(res_optrad_2014(x_OR6_2014), W_optrad_2014)"
   ]
  },
  {
   "cell_type": "code",
   "execution_count": null,
   "metadata": {},
   "outputs": [],
   "source": [
    "chi2(res_optrad_2018(x_OR6), W_optrad_2018)"
   ]
  },
  {
   "cell_type": "code",
   "execution_count": null,
   "metadata": {},
   "outputs": [],
   "source": [
    "chi2(res_optrad_2018_noMK(x_OR6_noMK), W_optrad_2018_noMK)"
   ]
  },
  {
   "cell_type": "code",
   "execution_count": null,
   "metadata": {},
   "outputs": [],
   "source": [
    "sqrt.(diag(Γ_OR6))"
   ]
  },
  {
   "cell_type": "raw",
   "metadata": {},
   "source": [
    "cholesky(Hermitian(Γ_OR7))\n",
    "cholesky(Hermitian(Γ_O6))\n",
    "cholesky(Hermitian(Γ_O7))\n",
    "cholesky(Hermitian(Γ_OR7))\n",
    "cholesky(Hermitian(Γ_OR6))\n",
    "cholesky(Hermitian(Γ_R))"
   ]
  },
  {
   "cell_type": "raw",
   "metadata": {},
   "source": [
    "Factorization of covariance matrix:"
   ]
  },
  {
   "cell_type": "raw",
   "metadata": {},
   "source": [
    "cholesky(Γ_optrad)"
   ]
  },
  {
   "cell_type": "raw",
   "metadata": {},
   "source": [
    "norm(Hermitian(Γ_optrad) - Γ_optrad)/norm(Γ_optrad)"
   ]
  },
  {
   "cell_type": "raw",
   "metadata": {},
   "source": [
    "cholesky(Hermitian(Γ_optrad))"
   ]
  },
  {
   "cell_type": "raw",
   "metadata": {},
   "source": [
    "x_r = rand(7)\n",
    "(x_r')*Γ_optrad*x_r"
   ]
  },
  {
   "cell_type": "raw",
   "metadata": {},
   "source": [
    "jldopen(\"x_Gamma.jld\", \"w\") do file\n",
    "    write(file, \"x_O7\", x_O7)\n",
    "    write(file, \"Γ_O7\", Γ_O7)\n",
    "    write(file, \"x_O6\", x_O6)\n",
    "    write(file, \"Γ_O6\", Γ_O6)\n",
    "    write(file, \"x_R\", x_R)\n",
    "    write(file, \"Γ_R\", Γ_R)\n",
    "    write(file, \"x_OR7\", x_OR7)\n",
    "    write(file, \"Γ_OR7\", Γ_OR7)\n",
    "    write(file, \"x_OR6\", x_OR6)\n",
    "    write(file, \"Γ_OR6\", Γ_OR6)\n",
    "end"
   ]
  },
  {
   "cell_type": "code",
   "execution_count": null,
   "metadata": {},
   "outputs": [],
   "source": []
  },
  {
   "cell_type": "code",
   "execution_count": null,
   "metadata": {},
   "outputs": [],
   "source": [
    "for (sol,gamma, label) in [(x_O7, Γ_O7, \"O7\"), (x_O6, Γ_O6, \"O6\"), (x_OR7, Γ_OR7, \"OR7\"), (x_OR6, Γ_OR6, \"OR6\"), (x_R, Γ_R, \"R\")]\n",
    "    println(\"*****\", label)\n",
    "    @show Apophis.initialcond(sol.*vcat(1e-8ones(6), 1e-14))\n",
    "    @show sqrt.(diag(gamma)).*(vcat(1e-8ones(6), 1e-14)[1:size(gamma)[1]])\n",
    "    println(\"*****\")\n",
    "    println(\" \")\n",
    "end"
   ]
  },
  {
   "cell_type": "code",
   "execution_count": null,
   "metadata": {},
   "outputs": [],
   "source": [
    "### OR7\n",
    "\n",
    "-0.9633018(236) \\pm 4.00\n",
    " 0.5100291(225) \\pm 7.73\n",
    " 0.1652802(958) \\pm 3.05\n",
    "-0.00711887(437) \\pm 1.27\n",
    "-0.012061234(331) \\pm 7.37\n",
    "-0.004669513(808) \\pm 4.29\n",
    "-4.97 \\pm 2.74\n",
    "\n",
    "3.995423593896419e-8\n",
    "7.727487292244818e-8\n",
    "3.048351693923244e-8\n",
    "1.2677191394342694e-9\n",
    "7.373269962552543e-10\n",
    "4.293800535951439e-10\n",
    "2.7414996740681604e-14\n",
    "\n",
    "\n",
    "\n",
    "\n",
    "### O7\n",
    "\n",
    "\n",
    "-0.9633018(387) \\pm 7.88\n",
    "0.510029(145) \\pm 1.08\n",
    "0.1652803(301) \\pm 5.65\n",
    "-0.00711887(482) \\pm 1.99\n",
    "-0.01206123(338) \\pm 1.18\n",
    "-0.004669514(163) \\pm 6.67\n",
    "-6.50 \\pm 5.77\n",
    "\n",
    "7.877625785328185e-8\n",
    "1.083430271779183e-7\n",
    "5.6541777392004144e-8\n",
    "1.986184668146816e-9\n",
    "1.1800699083640426e-9\n",
    "6.671765805708299e-10\n",
    "5.769676338572042e-14\n",
    "\n",
    "\n",
    "\n",
    "### OR6\n",
    "\n",
    "-0.96330189(585) \\pm 2.87\n",
    "0.51002898(279) \\pm 4.88\n",
    "0.16528024(301) \\pm 8.91\n",
    "-0.0071188720(846) \\pm 6.91\n",
    "-0.012061235(629) \\pm 1.75\n",
    "-0.004669514(385) \\pm 2.88\n",
    "\n",
    "2.865633094899382e-9\n",
    "4.879584005625289e-9\n",
    "8.906991910708259e-9\n",
    "6.903886114569203e-11\n",
    "1.7509927240644402e-10\n",
    "2.8780910639953976e-10\n",
    "\n",
    "### O6\n",
    "\n",
    "-0.9633018(960) \\pm 6.02\n",
    "0.5100290(372) \\pm 4.95\n",
    "0.1652802(868) \\pm 4.15\n",
    "-0.007118872(877) \\pm 9.74\n",
    "-0.012061234(528) \\pm 6.00\n",
    "-0.004669514(3885) \\pm 6.37\n",
    "\n",
    "#6.018774193053022e-8\n",
    "#4.945528838893412e-8\n",
    "#4.149724900817595e-8\n",
    "#9.735472239107363e-10\n",
    "#5.990424976089863e-10\n",
    "#6.367079180984414e-10\n",
    "\n"
   ]
  },
  {
   "cell_type": "markdown",
   "metadata": {},
   "source": [
    "# `Taylor1` jet transport: Parametrized orbit determination\n",
    "\n",
    "In this section we describe a parametrized orbit determination scheme exploiting jet transport techniques. Concretely, we seek to compute a 1-parameter family of 6-DOF nominal solutions $x^\\star$ as a function of $A_2$. This is similar to what Milani et al. (2009) did something for asteroid (101955) Bennu. We may think that, for example, our 6-DOF (i.e., gravity-only) orbit and our 7-DOF orbit (i.e., including non-gravitational acceleration) for Apophis may be interpreted as two points in this parametrized scheme: the 6-DOF solution corresponds to $A_2=0$, whereas the 7-DOF solution corresponds to $A_2=-5.59... \\times 10^{-14}$au/day$^2$. Thus, we are trying to find a parametrization of these two nominal solutions with respect to the non-gravitational transverse parameter $A_2$ which joins them.\n",
    "\n",
    "We proceed as follows: first, we retrieve our 6-DOF nominal solution\n",
    "$$\n",
    "\\mathbf{x}^\\star_0 = \\begin{pmatrix} x_0 \\\\\n",
    "y_0 \\\\\n",
    "z_0 \\\\\n",
    "u_0 \\\\\n",
    "v_0 \\\\\n",
    "w_0 \\\\\n",
    "0 \\end{pmatrix}\n",
    "$$\n",
    "\n",
    "that is, the output of the orbital fit fixing $A_2=0$. Then, we add to the last component $A_2$ as a $p$-th order `Taylor1` variable to form the vector $\\hat{\\mathbf{x}}$:\n",
    "\n",
    "$$\n",
    "\\hat{\\mathbf{x}} = \\begin{pmatrix} x_0 \\\\\n",
    "y_0 \\\\\n",
    "z_0 \\\\\n",
    "u_0 \\\\\n",
    "v_0 \\\\\n",
    "w_0 \\\\\n",
    "A_2 + O(A_2^{p+1}) \\end{pmatrix}\n",
    "$$\n",
    "\n",
    "Now, we perform a 6-DOF orbit determination using the above initial condition. We denote the output of this procedure as $\\mathbf{x}^\\star(A_2)$, which is a 1-parameter family of orbital fits wrt the Yarkovsky parameter $A_2$:\n",
    "\n",
    "$$\n",
    "\\mathbf{x}^\\star(A_2) = \\begin{pmatrix} x_0+x_1A_2+\\ldots+x_{p}A_2^{p}+ O(A_2^{p+1}) \\\\\n",
    "y_0+y_1A_2+\\ldots+y_{p}A_2^{p}+ O(A_2^{p+1}) \\\\\n",
    "z_0+z_1A_2+\\ldots+z_{p}A_2^{p}+ O(A_2^{p+1}) \\\\\n",
    "u_0+u_1A_2+\\ldots+u_{p}A_2^{p}+ O(A_2^{p+1}) \\\\\n",
    "v_0+v_1A_2+\\ldots+v_{p}A_2^{p}+ O(A_2^{p+1}) \\\\\n",
    "w_0+w_1A_2+\\ldots+w_{p}A_2^{p}+ O(A_2^{p+1}) \\\\\n",
    "A_2 + O(A_2^{p+1}) \\end{pmatrix}\n",
    "$$\n",
    "\n",
    "The coefficients $x_0,x_1,\\ldots,y_0,y_1,\\ldots\\,w_{p}$ are the Taylor coefficients of the orbital fit $\\mathbf{x}^\\star_0$ wrt $A_2$. Using this expression, we are able to evaluate the post-fit RMS (and hence its minimum) as a function of $A_2$. This parametrized orbit determination scheme is self-consistent in the sense that if we evaluate $\\mathbf{x}^\\star(A_2)$ with $A_2=0$, then we recover the 6-DOF nominal solution $\\mathbf{x}^\\star_0$, and if we evaluate $\\mathbf{x}^\\star(A_2)$ with $A_2=A_2^\\star$, then we recover the 7-DOF orbital fit.\n",
    "\n",
    "Even as we are performing a 6-DOF least squares procedure, the covariance matrix associated to the parametrized orbital fit $\\mathbf{x}^\\star_0$ wrt $A_2$ will be 7x7. That is, this scheme allow us to compute the 1-$\\sigma$ formal uncertainty associated to a given value of $A_2$.\n",
    "\n",
    "We may now use this 1-parameter family of nominal initial conditions to propagate the orbit of Apophis as a function of an unknown $A_2$, taking into account correlations between $A_2$ and the initial conditions. Using this, we may obtain predictions as functions of $A_2$, and thus we may be able to determine $A_2$ from new observations. In ra/dec plots or delay/doppler prediction plots, we may plot the nominal prediction, the 3-$\\sigma$ covariance matrix and the line corresponding to several distinct values of $A_2$. It would be also possible to propagate $\\mathbf{x}^\\star(A_2)$ under the equations of motion of Apophis with 1-variable jet transport techniques to assess the impact hazard of Apophis as a function of $A_2$, say, for the next 100 years. In this sense, this parametrized orbit determination scheme is equivalent to a line of variations (LOV) defined wrt the parameter $A_2$."
   ]
  },
  {
   "cell_type": "code",
   "execution_count": null,
   "metadata": {},
   "outputs": [],
   "source": [
    "#x0T1 = x0_JPL + vcat(zeros(6), Taylor1(10))\n",
    "x0T1 = x_OR6 + vcat(zeros(6)*Taylor1(11), Taylor1(11))"
   ]
  },
  {
   "cell_type": "code",
   "execution_count": null,
   "metadata": {
    "scrolled": true
   },
   "outputs": [],
   "source": [
    "xT1, ΓT1 = newtonls_6v(res_optrad_2018, W_optrad_2018, deepcopy(x0T1), 4);"
   ]
  },
  {
   "cell_type": "code",
   "execution_count": null,
   "metadata": {},
   "outputs": [],
   "source": [
    "xT1"
   ]
  },
  {
   "cell_type": "code",
   "execution_count": null,
   "metadata": {},
   "outputs": [],
   "source": [
    "dqT1 = vcat(1e-8ones(6), 1e-14).*xT1"
   ]
  },
  {
   "cell_type": "code",
   "execution_count": null,
   "metadata": {},
   "outputs": [],
   "source": [
    "Apophis.initialcond(dqT1(A2_min)) .- Apophis.initialcond(dqT1())"
   ]
  },
  {
   "cell_type": "code",
   "execution_count": null,
   "metadata": {},
   "outputs": [],
   "source": [
    "dqT1(A2_min) .- dqT1()"
   ]
  },
  {
   "cell_type": "code",
   "execution_count": null,
   "metadata": {},
   "outputs": [],
   "source": [
    "vcat(1e-8ones(6), 1e-14).*(x_OR7 .- x_OR6)"
   ]
  },
  {
   "cell_type": "code",
   "execution_count": null,
   "metadata": {},
   "outputs": [],
   "source": [
    "dqT1"
   ]
  },
  {
   "cell_type": "code",
   "execution_count": null,
   "metadata": {},
   "outputs": [],
   "source": [
    "dqT1()"
   ]
  },
  {
   "cell_type": "code",
   "execution_count": null,
   "metadata": {},
   "outputs": [],
   "source": [
    "dqT1(A2_min)"
   ]
  },
  {
   "cell_type": "code",
   "execution_count": null,
   "metadata": {},
   "outputs": [],
   "source": [
    "jldopen(\"dqT1_LOV_A2.jld\", \"w\") do file\n",
    "    write(file, \"dqT1\", dqT1)\n",
    "end"
   ]
  },
  {
   "cell_type": "code",
   "execution_count": null,
   "metadata": {},
   "outputs": [],
   "source": [
    "xT1"
   ]
  },
  {
   "cell_type": "code",
   "execution_count": null,
   "metadata": {},
   "outputs": [],
   "source": [
    "xT1-x0T1"
   ]
  },
  {
   "cell_type": "code",
   "execution_count": null,
   "metadata": {},
   "outputs": [],
   "source": [
    "rms_A2 = nrms(res_optrad_2018(xT1), W_optrad_2018)"
   ]
  },
  {
   "cell_type": "code",
   "execution_count": null,
   "metadata": {},
   "outputs": [],
   "source": [
    "A2_min = Apophis.taylor_minimum(rms_A2, 0.0)"
   ]
  },
  {
   "cell_type": "code",
   "execution_count": null,
   "metadata": {},
   "outputs": [],
   "source": [
    "xT1() #- x_OR6"
   ]
  },
  {
   "cell_type": "code",
   "execution_count": null,
   "metadata": {},
   "outputs": [],
   "source": [
    "xT1(A2_min) #- x_OR7"
   ]
  },
  {
   "cell_type": "code",
   "execution_count": null,
   "metadata": {},
   "outputs": [],
   "source": [
    "xT1(A2_JPL)"
   ]
  },
  {
   "cell_type": "code",
   "execution_count": null,
   "metadata": {},
   "outputs": [],
   "source": [
    "#map(x->x[0], ΓT1)"
   ]
  },
  {
   "cell_type": "code",
   "execution_count": null,
   "metadata": {},
   "outputs": [],
   "source": [
    "#map(x->x[1], ΓT1)"
   ]
  },
  {
   "cell_type": "code",
   "execution_count": null,
   "metadata": {},
   "outputs": [],
   "source": [
    "#map(x->x[end], ΓT1)"
   ]
  },
  {
   "cell_type": "code",
   "execution_count": null,
   "metadata": {},
   "outputs": [],
   "source": [
    "sqrt.(diag(ΓT1))"
   ]
  },
  {
   "cell_type": "code",
   "execution_count": null,
   "metadata": {},
   "outputs": [],
   "source": [
    "sqrt.(diag(ΓT1(A2_min)))"
   ]
  },
  {
   "cell_type": "code",
   "execution_count": null,
   "metadata": {},
   "outputs": [],
   "source": [
    "sqrt.(diag(ΓT1()))"
   ]
  },
  {
   "cell_type": "code",
   "execution_count": null,
   "metadata": {},
   "outputs": [],
   "source": [
    "A2v = -15:0.01:5"
   ]
  },
  {
   "cell_type": "code",
   "execution_count": null,
   "metadata": {},
   "outputs": [],
   "source": [
    "using Plots"
   ]
  },
  {
   "cell_type": "code",
   "execution_count": null,
   "metadata": {},
   "outputs": [],
   "source": [
    "plot(A2v, rms_A2.(A2v), leg=false)\n",
    "xlabel!(\"A₂ [×10^{14} au / d^{2} ]\")\n",
    "ylabel!(\"normalized RMS\")"
   ]
  },
  {
   "cell_type": "code",
   "execution_count": null,
   "metadata": {},
   "outputs": [],
   "source": [
    "nrms(res_optrad_2018(x_OR6), W_optrad_2018)"
   ]
  },
  {
   "cell_type": "code",
   "execution_count": null,
   "metadata": {},
   "outputs": [],
   "source": [
    "nrms(res_optrad(x_optrad), W_optrad)\n",
    "#was 0.5104665279115688 before debiasing"
   ]
  },
  {
   "cell_type": "code",
   "execution_count": null,
   "metadata": {},
   "outputs": [],
   "source": [
    "nrms(res_optrad(xT1()), W_optrad)\n",
    "# was 0.5108022792732124 before debiasing"
   ]
  },
  {
   "cell_type": "code",
   "execution_count": null,
   "metadata": {},
   "outputs": [],
   "source": [
    "nrms(res_optrad(xT1(A2_min)), W_optrad)\n",
    "# was 0.5104665279115705 before debiasing"
   ]
  },
  {
   "cell_type": "markdown",
   "metadata": {},
   "source": [
    "# High-order Taylor parametrization of the Line of Variations\n",
    "\n",
    "According to Milani (1999, 2005, etc.), there are several ways to define the line of variations (LOV). For example, following Milani (2005), we could define the LOV in terms of the \"weak\" direction defined by the largest eigenvalue of the covariance matrix $\\Gamma$. Here, we describe how to numerically compute and propagate a high-order Taylor parametrization of the LOV for several choices of the definition of the LOV through an ordinary differential equation. Our goal is to construct a parametrization of the LOV, which is valid outside the linear regime, e.g., up to 5-sigma (Milani, 2005), which we propagate in time exploiting jet transport techniques for impact hazard assessment. The material presented in this section is based on the parameterization method, which has been used to compute parameterizations of stable/unstable manifolds associated to fixed points of discrete and continuous dynamical systems (Mireles-James, Haro, etc.).\n",
    "\n",
    "Given a nominal solution $\\mathbf{x}^\\star$, the LOV $X(\\sigma)$ may be defined via the differential equation\n",
    "$$\n",
    "\\frac{d\\mathbf{X}(\\sigma)}{d\\sigma} = \\mathbf{F}(\\mathbf{X}(\\sigma))\n",
    "$$\n",
    "subject to the initial condition $\\mathbf{X}(\\sigma=0)=\\mathbf{x}^\\star$, where $\\sigma$ is the parameter of the LOV, and $\\mathbf{F}$ is a vector field. Distinct choices for the vector field $\\mathbf{F}$ correspond to distinct definitions of the LOV. For example, we may choose $\\mathbf{F}=-\\frac{\\partial Q}{\\partial \\mathbf{X}}$, where $Q$ is the weighted mean squared error, i.e., the target function of the least squares process. This choice corresponds to a _steepest descent_ definition of the LOV.\n",
    "\n",
    "In order to obtain a high-order Taylor parametrization of the LOV, we propose a solution to the ODE above as a power series in $\\sigma$:\n",
    "$$\n",
    "\\mathbf{X}(\\sigma) = \\sum_{n=0}^{\\infty}X_n \\sigma^n,\n",
    "$$\n",
    "where each coefficient $X_n$ represents the $n$-th Taylor coefficient of $X$ at $\\sigma=0$. We see that the $0$-th order coefficients $X_0$ correspond to the initial condition (i.e., the nominal solution). On the other hand, in order to construct the LOV, we impose an additional condition, which is to set the first-order coefficients $X_1$ equal to the eigenvector associated to the weak direction, defined as the direction of the eigenvector associated to the smallest eigenvalue of the normal matrix $C$. This corresponds to the construction of the LOV in the linear regime.\n",
    "\n",
    "For $n\\geq2$, we may compute the Taylor coefficients $X_n$ of the LOV as follows. Substituting the power series ansatz into the LOV ODE, and equating equal power coeffients, we arrive at the usual Taylor recursion formula for ODEs:\n",
    "$$\n",
    "X_{n+1} = \\frac{F_n}{n+1}.\n",
    "$$"
   ]
  },
  {
   "cell_type": "code",
   "execution_count": null,
   "metadata": {},
   "outputs": [],
   "source": [
    "x_sol_ = x_optrad\n",
    "Γ_sol_ = Γ_optrad"
   ]
  },
  {
   "cell_type": "code",
   "execution_count": null,
   "metadata": {},
   "outputs": [],
   "source": [
    "# jet transport propagation scaling\n",
    "jt_scaling = vcat(1e-8ones(6), 1e-14)\n",
    "dofs = 7 #size(Γ_sol_)[1]\n",
    "# Compute nominal initial condition in au, au/day, au/day^2\n",
    "q0_optrad = Apophis.initialcond(jt_scaling.*x_sol_)\n",
    "# relative scalings analogous to Milani (2005)\n",
    "scaling_milani_2005 = vcat(  (1/norm(q0_optrad[1:3]))*ones(3), (1/norm(q0_optrad[4:6]))*ones(3), 1/norm(q0_optrad[7])  )\n",
    "# compute cov matrix with relative scalings\n",
    "#Γ_sol_scm05 = diagm(scaling_milani_2005) * ( diagm(jt_scaling)*Γ_sol_*diagm(jt_scaling) ) * diagm(scaling_milani_2005)\n",
    "Γ_sol_scm05 = diagm(scaling_milani_2005[1:dofs]) * ( diagm(jt_scaling[1:dofs])*Γ_sol_[1:dofs,1:dofs]*diagm(jt_scaling[1:dofs]) ) * diagm(scaling_milani_2005[1:dofs])\n",
    "# compute normal matrix with relative scalings\n",
    "C_sol_scm05 = inv(Γ_sol_scm05)\n",
    "# compute eigenvalues, eigenvectors of normal matrix with relative scalings\n",
    "C_eig_sol_scm05 = eigen(C_sol_scm05)\n",
    "# revert eigenvector of \"weak\" direction to JT scaling\n",
    "v_weak = C_eig_sol_scm05.vectors[:,1]./scaling_milani_2005[1:dofs]./jt_scaling[1:dofs]"
   ]
  },
  {
   "cell_type": "code",
   "execution_count": null,
   "metadata": {},
   "outputs": [],
   "source": [
    "C_sol_ = inv(Γ_sol_)"
   ]
  },
  {
   "cell_type": "code",
   "execution_count": null,
   "metadata": {},
   "outputs": [],
   "source": [
    "C_eig_sol_ = eigen(C_sol_)"
   ]
  },
  {
   "cell_type": "code",
   "execution_count": null,
   "metadata": {},
   "outputs": [],
   "source": [
    "norm(v_weak)"
   ]
  },
  {
   "cell_type": "code",
   "execution_count": null,
   "metadata": {},
   "outputs": [],
   "source": [
    "#x0T2 = x_sol_ .+ C_eig_sol_.vectors[:,1].*(1e-6Taylor1(5))\n",
    "x0T2 = x_sol_ .+ (v_weak/norm(v_weak)).*(Taylor1(6))"
   ]
  },
  {
   "cell_type": "code",
   "execution_count": null,
   "metadata": {},
   "outputs": [],
   "source": [
    "# adapted from TaylorIntegration.jetcoeffs!\n",
    "function lovcoeffs!(eqsdiff!::Function, t::Taylor1{T},\n",
    "        x::AbstractVector{Taylor1{U}}, dx::AbstractVector{Taylor1{U}},\n",
    "        xaux::AbstractVector{Taylor1{U}}, params) where {T<:Real, U<:Number}\n",
    "    order = x[1].order\n",
    "    for ord in 1:order-1 # since order 0 and 1 are set, we start at ordnext=2 (i.e., ord=1)\n",
    "        ordnext = ord+1\n",
    "\n",
    "        # Set `taux`, auxiliary Taylor1 variable to order `ord`\n",
    "        @inbounds taux = Taylor1( t.coeffs[1:ordnext] )\n",
    "        # Set `xaux`, auxiliary vector of Taylor1 to order `ord`\n",
    "        for j in eachindex(x)\n",
    "            @inbounds xaux[j] = Taylor1( x[j].coeffs[1:ordnext+1] )\n",
    "        end\n",
    "\n",
    "        # Equations of motion\n",
    "        eqsdiff!(dx, xaux, params, taux)\n",
    "\n",
    "        # Recursion relations\n",
    "        #@show x\n",
    "        #@show dx\n",
    "        for j in eachindex(x)\n",
    "            #@show j\n",
    "            @inbounds x[j][ordnext] = dx[j][ord]/ordnext\n",
    "        end\n",
    "    end\n",
    "    nothing\n",
    "end"
   ]
  },
  {
   "cell_type": "code",
   "execution_count": null,
   "metadata": {},
   "outputs": [],
   "source": [
    "chi2(res_optrad, W_optrad).order"
   ]
  },
  {
   "cell_type": "code",
   "execution_count": null,
   "metadata": {},
   "outputs": [],
   "source": [
    "Q__ = chi2(res_optrad, W_optrad) # sum(res_optrad .* (res_optrad.^2))/length(res_optrad);"
   ]
  },
  {
   "cell_type": "code",
   "execution_count": null,
   "metadata": {},
   "outputs": [],
   "source": [
    "Q__(x_optrad)"
   ]
  },
  {
   "cell_type": "code",
   "execution_count": null,
   "metadata": {},
   "outputs": [],
   "source": [
    "dQ__ = TaylorSeries.gradient(Q__);"
   ]
  },
  {
   "cell_type": "code",
   "execution_count": null,
   "metadata": {},
   "outputs": [],
   "source": [
    "dQ__()"
   ]
  },
  {
   "cell_type": "code",
   "execution_count": null,
   "metadata": {},
   "outputs": [],
   "source": [
    "dQ__(x0_JPL)"
   ]
  },
  {
   "cell_type": "code",
   "execution_count": null,
   "metadata": {},
   "outputs": [],
   "source": [
    "dQ__(x_optrad)"
   ]
  },
  {
   "cell_type": "code",
   "execution_count": null,
   "metadata": {},
   "outputs": [],
   "source": [
    "dQ__(x0T2)"
   ]
  },
  {
   "cell_type": "code",
   "execution_count": null,
   "metadata": {},
   "outputs": [],
   "source": [
    "function mdQ(dx, x, params, t)\n",
    "    #@show x\n",
    "    dQ = dQ__(x)\n",
    "    #@show dQ\n",
    "    for i in 1:7\n",
    "        dx[i] = -dQ[i]\n",
    "    end\n",
    "    return nothing\n",
    "end"
   ]
  },
  {
   "cell_type": "code",
   "execution_count": null,
   "metadata": {},
   "outputs": [],
   "source": [
    "t = Taylor1(x0T2[1].order)\n",
    "dx__ = similar(x0T2)\n",
    "dx__ .= Taylor1.(0.0, t.order)\n",
    "xaux__ = similar(x0T2);"
   ]
  },
  {
   "cell_type": "code",
   "execution_count": null,
   "metadata": {
    "scrolled": true
   },
   "outputs": [],
   "source": [
    "lovcoeffs!(mdQ, t, x0T2, dx__, xaux__, nothing);"
   ]
  },
  {
   "cell_type": "code",
   "execution_count": null,
   "metadata": {},
   "outputs": [],
   "source": [
    "x0T2"
   ]
  },
  {
   "cell_type": "code",
   "execution_count": null,
   "metadata": {},
   "outputs": [],
   "source": [
    "σ_lim = 2e-6\n",
    "σv = range(-σ_lim, length=200, stop=σ_lim)"
   ]
  },
  {
   "cell_type": "code",
   "execution_count": null,
   "metadata": {},
   "outputs": [],
   "source": [
    "plot(\n",
    "    σv, x0T2[1].(σv).-x_optrad[1]\n",
    ")\n",
    "plot!(\n",
    "    σv, x0T2[2].(σv).-x_optrad[2]\n",
    ")\n",
    "plot!(\n",
    "    σv, x0T2[3].(σv).-x_optrad[3]\n",
    ")"
   ]
  },
  {
   "cell_type": "code",
   "execution_count": null,
   "metadata": {},
   "outputs": [],
   "source": [
    "plot(\n",
    "    σv, x0T2[4].(σv).-x_optrad[4]\n",
    ")\n",
    "plot!(\n",
    "    σv, x0T2[5].(σv).-x_optrad[5]\n",
    ")\n",
    "plot!(\n",
    "    σv, x0T2[6].(σv).-x_optrad[6]\n",
    ")"
   ]
  },
  {
   "cell_type": "code",
   "execution_count": null,
   "metadata": {},
   "outputs": [],
   "source": [
    "plot(\n",
    "    σv, x0T2[7].(σv)#.-x_optrad[7]\n",
    ")"
   ]
  },
  {
   "cell_type": "code",
   "execution_count": null,
   "metadata": {},
   "outputs": [],
   "source": [
    "norm(dQ__(x0T2(-2e-2)))"
   ]
  },
  {
   "cell_type": "code",
   "execution_count": null,
   "metadata": {},
   "outputs": [],
   "source": [
    "# initial condition\n",
    "x0T2() == x_optrad"
   ]
  },
  {
   "cell_type": "code",
   "execution_count": null,
   "metadata": {},
   "outputs": [],
   "source": [
    "# 1st order coeffs == eigenvector\n",
    "#1e-6C_eig_sol_.vectors[:,1] == map(x->x[1], x0T2)\n",
    "v_weak/norm(v_weak) == map(x->x[1], x0T2)"
   ]
  },
  {
   "cell_type": "code",
   "execution_count": null,
   "metadata": {},
   "outputs": [],
   "source": [
    "x0T2(σv[1])"
   ]
  },
  {
   "cell_type": "code",
   "execution_count": null,
   "metadata": {},
   "outputs": [],
   "source": [
    "x0T2(σv[end])"
   ]
  },
  {
   "cell_type": "code",
   "execution_count": null,
   "metadata": {},
   "outputs": [],
   "source": [
    "norm(dQ__(x0T2(σv[1])))"
   ]
  },
  {
   "cell_type": "code",
   "execution_count": null,
   "metadata": {},
   "outputs": [],
   "source": [
    "norm(dQ__(x0T2(σv[end])))"
   ]
  },
  {
   "cell_type": "code",
   "execution_count": null,
   "metadata": {},
   "outputs": [],
   "source": [
    "norm(dQ__(x0T2()))"
   ]
  },
  {
   "cell_type": "code",
   "execution_count": null,
   "metadata": {},
   "outputs": [],
   "source": [
    "TaylorIntegration.stepsize(x0T2, 1e-16)"
   ]
  },
  {
   "cell_type": "code",
   "execution_count": null,
   "metadata": {},
   "outputs": [],
   "source": []
  },
  {
   "cell_type": "markdown",
   "metadata": {},
   "source": [
    "# Post-fit normalized RMS"
   ]
  },
  {
   "cell_type": "code",
   "execution_count": null,
   "metadata": {},
   "outputs": [],
   "source": [
    "# 7-DOF optical+radar residuals evaluated at optical+radar nominal solution, Farnocchia et al (2013) weights\n",
    "nrms(res_optrad_2018(x_OR7), W_optrad_2018), nrms(res_optrad_2018(x_OR7), W_optrad_2018)^2"
   ]
  },
  {
   "cell_type": "code",
   "execution_count": null,
   "metadata": {},
   "outputs": [],
   "source": [
    "# 7-DOF optical+radar residuals evaluated at optical+radar nominal solution, Farnocchia et al (2013) weights\n",
    "nrms(res_optrad(x_optrad), W_optrad), nrms(res_optrad(x_optrad), W_optrad)^2"
   ]
  },
  {
   "cell_type": "code",
   "execution_count": null,
   "metadata": {},
   "outputs": [],
   "source": [
    "# 6-DOF (A2=0) optical+radar residuals evaluated at optical+radar nominal solution, Farnocchia et al (2013) weights\n",
    "nrms(res_optrad(x_optrad_6v), W_optrad)"
   ]
  },
  {
   "cell_type": "code",
   "execution_count": null,
   "metadata": {},
   "outputs": [],
   "source": [
    "# optical+radar residuals evaluated at optical+radar nominal solution, naive weights\n",
    "nrms(res_optrad(x_optrad), W_optrad)"
   ]
  },
  {
   "cell_type": "code",
   "execution_count": null,
   "metadata": {},
   "outputs": [],
   "source": [
    "# optical+radar residuals evaluated at JPL#199 nominal solution, Farnocchia et al (2013) weights\n",
    "nrms(res_optrad(x0_JPL), W_optrad)"
   ]
  },
  {
   "cell_type": "code",
   "execution_count": null,
   "metadata": {},
   "outputs": [],
   "source": [
    "# optical+radar residuals evaluated at JPL#199 nominal solution, naive weights\n",
    "nrms(res_optrad(x0_JPL), W_optrad)"
   ]
  },
  {
   "cell_type": "code",
   "execution_count": null,
   "metadata": {},
   "outputs": [],
   "source": [
    "# optical-only residuals evaluated at optical-only nominal solution, Farnocchia et al (2013) weights\n",
    "nrms(res_radec(x_opt), W_radec)"
   ]
  },
  {
   "cell_type": "code",
   "execution_count": null,
   "metadata": {},
   "outputs": [],
   "source": [
    "# optical-only residuals evaluated at optical-only nominal solution, naive weights\n",
    "nrms(res_radec(x_opt), W_radec)"
   ]
  },
  {
   "cell_type": "code",
   "execution_count": null,
   "metadata": {},
   "outputs": [],
   "source": [
    "# optical-only residuals evaluated at JPL#199 nominal solution, Farnocchia et al (2013) weights\n",
    "nrms(res_radec(x0_JPL), W_radec)"
   ]
  },
  {
   "cell_type": "code",
   "execution_count": null,
   "metadata": {},
   "outputs": [],
   "source": [
    "# optical-only residuals evaluated at JPL#199 nominal solution, naive weights\n",
    "rms(res_radec(x0_JPL), W_radec)"
   ]
  },
  {
   "cell_type": "code",
   "execution_count": null,
   "metadata": {},
   "outputs": [],
   "source": [
    "# radar-only residuals evaluated at radar-only nominal solution\n",
    "nrms(res_deldop(x_rad), W_deldop)"
   ]
  },
  {
   "cell_type": "code",
   "execution_count": null,
   "metadata": {
    "scrolled": true
   },
   "outputs": [],
   "source": [
    "# radar-only residuals evaluated at JPL#199 nominal solution\n",
    "nrms(res_deldop(x0_JPL), W_deldop)"
   ]
  },
  {
   "cell_type": "markdown",
   "metadata": {},
   "source": [
    "## Note:\n",
    "\n",
    "$$\n",
    "Q(x) = \\frac{1}{m}\\xi^T W \\xi\n",
    "$$\n",
    "\n",
    "We have\n",
    "$$\n",
    "\\frac{\\partial Q}{\\partial x} = \\frac{2}{m}(B^T W \\xi),\n",
    "$$\n",
    "$$\n",
    "\\frac{\\partial^2 Q}{\\partial x^2} = \\frac{2}{m}(B^T W B + W \\xi^T H)\n",
    "$$\n",
    "and\n",
    "$$\n",
    "C = B^T W B.\n",
    "$$\n",
    "\n",
    "$$\n",
    "\\Gamma = C^{-1}\n",
    "$$\n",
    "Thus, the second derivative $\\frac{\\partial^2 Q}{\\partial x^2} \\neq \\frac{2}{m}C$, if we include the $W \\mathbf{\\xi}^T H$ term (Milani and Gronchi, 2010, Eq. 5.3). Nevertheless, $\\frac{\\partial^2 Q}{\\partial x^2}$ value is identical, up to `eps(Float64)`, when computing it either via `TaylorSeries.hessian` or with Milani's formulae."
   ]
  },
  {
   "cell_type": "markdown",
   "metadata": {},
   "source": [
    "$$\n",
    "\\frac{1}{x+a}=\\frac{1}{a}\\frac{1}{1+x/a} \\sim \\frac{1}{a}(1-x/a)\n",
    "$$"
   ]
  },
  {
   "cell_type": "markdown",
   "metadata": {},
   "source": [
    "# Plots"
   ]
  },
  {
   "cell_type": "markdown",
   "metadata": {},
   "source": [
    "## Optical astrometry residuals"
   ]
  },
  {
   "cell_type": "code",
   "execution_count": null,
   "metadata": {},
   "outputs": [],
   "source": [
    "using Plots"
   ]
  },
  {
   "cell_type": "code",
   "execution_count": null,
   "metadata": {
    "scrolled": true
   },
   "outputs": [],
   "source": [
    "const t0 = datetime2julian(DateTime(2008,9,24))"
   ]
  },
  {
   "cell_type": "code",
   "execution_count": null,
   "metadata": {},
   "outputs": [],
   "source": [
    "scatter(tdelay_jpl_obs_jd_utc[3:end].-t0, res_del(x_OR7)[3:end], yerror=tdelay_jpl_obs_sigma[3:end])\n",
    "title!(\"Time delay residuals vs time (2012-2013)\")\n",
    "ylabel!(\"Time delay [us]\")\n",
    "xlabel!(\"Date\")\n",
    "\n",
    "xlims!(1540, 1640)\n",
    "xticks!((-1250):0.075yr:(2100), string.(Date.(julian2datetime.(t0 .+ collect((-1250):0.075yr:(2100))))))"
   ]
  },
  {
   "cell_type": "code",
   "execution_count": null,
   "metadata": {},
   "outputs": [],
   "source": [
    "scatter(dshift_jpl_obs_jd_utc[6:end].-t0, res_dop(x_OR7)[6:end], yerror=dshift_jpl_obs_sigma[6:end])\n",
    "title!(\"Doppler shift residuals vs time (2012-2013)\")\n",
    "ylabel!(\"Doppler shift [Hz]\")\n",
    "xlabel!(\"Date\")\n",
    "\n",
    "xlims!(1540, 1640)\n",
    "xticks!((-1250):0.075yr:(2100), string.(Date.(julian2datetime.(t0 .+ collect((-1250):0.075yr:(2100))))))"
   ]
  },
  {
   "cell_type": "code",
   "execution_count": null,
   "metadata": {},
   "outputs": [],
   "source": [
    "scatter(\n",
    "    vcat(tv_opt, tv_opt_v15)[no_mk_ind_t].-t0, \n",
    "    res_ras_2018_noMK(x_OR7_noMK),\n",
    "    yerror=sqrt.(1 ./vcat(w_α_f13, w_α_v15))[no_mk_ind_t],\n",
    "    label=\"post-fit resd. (OR7)\"\n",
    ")\n",
    "title!(\"Right ascension residuals vs time\")\n",
    "ylabel!(\"Right ascension [arcseconds]\")\n",
    "xlabel!(\"Calendar date\")\n",
    "xlims!(-1250, 2100)\n",
    "xticks!((-1250):2yr:(2100), string.(Date.(julian2datetime.(t0 .+ collect((-1250):2yr:(2100))))))"
   ]
  },
  {
   "cell_type": "code",
   "execution_count": null,
   "metadata": {},
   "outputs": [],
   "source": [
    "scatter(\n",
    "    vcat(tv_opt, tv_opt_v15)[no_mk_ind_t].-t0,\n",
    "    res_dec_2018_noMK(x_OR7_noMK),\n",
    "    yerror=sqrt.(1 ./vcat(w_δ_f13, w_δ_v15))[no_mk_ind_t],\n",
    "    label=\"post-fit resd. (OR7)\"\n",
    ")\n",
    "title!(\"Declination residuals vs time\")\n",
    "ylabel!(\"Declination [arcseconds]\")\n",
    "xlabel!(\"Calendar date\")\n",
    "xlims!(-1250, 2100)\n",
    "xticks!((-1250):2yr:(2100), string.(Date.(julian2datetime.(t0 .+ collect((-1250):2yr:(2100))))))"
   ]
  },
  {
   "cell_type": "code",
   "execution_count": null,
   "metadata": {},
   "outputs": [],
   "source": [
    "#histogram(res_ras(x0_JPL))\n",
    "#histogram!(res_ras(x0_newton))\n",
    "histogram(res_ras_2018(x_OR7_noMK)[1:432]) # should include weights somehow?\n",
    "xlabel!(\"R.A. residuals [arcseconds]\")"
   ]
  },
  {
   "cell_type": "code",
   "execution_count": null,
   "metadata": {},
   "outputs": [],
   "source": [
    "mean(res_ras_2018(x_OR7_noMK)[1:432]), std(res_ras_2018(x_OR7_noMK)[1:432])"
   ]
  },
  {
   "cell_type": "code",
   "execution_count": null,
   "metadata": {},
   "outputs": [],
   "source": [
    "histogram(res_dec_2018(x_OR7_noMK)[1:432])\n",
    "#histogram!(res_dec())\n",
    "xlabel!(\"Declination residuals [arcseconds]\")"
   ]
  },
  {
   "cell_type": "code",
   "execution_count": null,
   "metadata": {},
   "outputs": [],
   "source": [
    "mean(res_dec_2018(x_OR7_noMK)[1:432]), std(res_dec_2018(x_OR7_noMK)[1:432])"
   ]
  },
  {
   "cell_type": "code",
   "execution_count": null,
   "metadata": {},
   "outputs": [],
   "source": [
    "# evaluate jet transport residuals at corresponding solution\n",
    "res_α_OR7_RAW = res_ras_RAW(x_OR7_RAW)\n",
    "res_δ_OR7_RAW = res_dec_RAW(x_OR7_RAW);\n",
    "\n",
    "res_α_OR7_2014 = res_ras_2014(x_OR7_2014)\n",
    "res_δ_OR7_2014 = res_dec_2014(x_OR7_2014)\n",
    "\n",
    "res_α_OR7_2018 = res_ras_2018(x_OR7)\n",
    "res_δ_OR7_2018 = res_dec_2018(x_OR7)\n",
    ";"
   ]
  },
  {
   "cell_type": "code",
   "execution_count": null,
   "metadata": {},
   "outputs": [],
   "source": [
    "cov_αδ_RAW = cov(map((x,y)->[x,y], res_α_OR7_RAW[1:432], res_δ_OR7_RAW[1:432]))"
   ]
  },
  {
   "cell_type": "code",
   "execution_count": null,
   "metadata": {},
   "outputs": [],
   "source": [
    "cov_αδ_2014 = cov(map((x,y)->[x,y], res_α_OR7_2014[1:432], res_δ_OR7_2014[1:432]))"
   ]
  },
  {
   "cell_type": "code",
   "execution_count": null,
   "metadata": {},
   "outputs": [],
   "source": [
    "cov_αδ_2018 = cov(map((x,y)->[x,y], res_α_OR7_2018[1:432], res_δ_OR7_2018[1:432]))"
   ]
  },
  {
   "cell_type": "code",
   "execution_count": null,
   "metadata": {},
   "outputs": [],
   "source": [
    "cov_αδ_cholf_RAW = cholesky(cov_αδ_RAW)"
   ]
  },
  {
   "cell_type": "code",
   "execution_count": null,
   "metadata": {},
   "outputs": [],
   "source": [
    "cov_αδ_cholf_2014 = cholesky(cov_αδ_2014)"
   ]
  },
  {
   "cell_type": "code",
   "execution_count": null,
   "metadata": {},
   "outputs": [],
   "source": [
    "cov_αδ_cholf_2018 = cholesky(cov_αδ_2018)"
   ]
  },
  {
   "cell_type": "code",
   "execution_count": null,
   "metadata": {},
   "outputs": [],
   "source": [
    "sigma_factor = 3"
   ]
  },
  {
   "cell_type": "code",
   "execution_count": null,
   "metadata": {},
   "outputs": [],
   "source": [
    "angv = vcat(range(0, length=1000, stop=prevfloat(2pi)), 0);"
   ]
  },
  {
   "cell_type": "code",
   "execution_count": null,
   "metadata": {},
   "outputs": [],
   "source": [
    "σ_cos_ang = sigma_factor*cos.(angv)\n",
    "σ_sin_ang = sigma_factor*sin.(angv);"
   ]
  },
  {
   "cell_type": "code",
   "execution_count": null,
   "metadata": {},
   "outputs": [],
   "source": [
    "ell_3σ_x_RAW = cov_αδ_cholf_RAW.L[1,1].*σ_cos_ang .+ cov_αδ_cholf_RAW.L[1,2].*σ_sin_ang\n",
    "ell_3σ_y_RAW = cov_αδ_cholf_RAW.L[2,1].*σ_cos_ang .+ cov_αδ_cholf_RAW.L[2,2].*σ_sin_ang;\n",
    "\n",
    "ell_3σ_x_2014 = cov_αδ_cholf_2014.L[1,1].*σ_cos_ang .+ cov_αδ_cholf_2014.L[1,2].*σ_sin_ang\n",
    "ell_3σ_y_2014 = cov_αδ_cholf_2014.L[2,1].*σ_cos_ang .+ cov_αδ_cholf_2014.L[2,2].*σ_sin_ang;\n",
    "\n",
    "ell_3σ_x_2018 = cov_αδ_cholf_2018.L[1,1].*σ_cos_ang .+ cov_αδ_cholf_2018.L[1,2].*σ_sin_ang\n",
    "ell_3σ_y_2018 = cov_αδ_cholf_2018.L[2,1].*σ_cos_ang .+ cov_αδ_cholf_2018.L[2,2].*σ_sin_ang;"
   ]
  },
  {
   "cell_type": "code",
   "execution_count": null,
   "metadata": {},
   "outputs": [],
   "source": [
    "mean(res_α_OR7_RAW), mean(res_δ_OR7_RAW)"
   ]
  },
  {
   "cell_type": "code",
   "execution_count": null,
   "metadata": {},
   "outputs": [],
   "source": [
    "mean(res_α_OR7_2014), mean(res_δ_OR7_2014)"
   ]
  },
  {
   "cell_type": "code",
   "execution_count": null,
   "metadata": {},
   "outputs": [],
   "source": [
    "mean(res_α_OR7_2018), mean(res_δ_OR7_2018)"
   ]
  },
  {
   "cell_type": "code",
   "execution_count": null,
   "metadata": {},
   "outputs": [],
   "source": [
    "mean(res_α_OR7_RAW[1:432]), mean(res_δ_OR7_RAW[1:432])"
   ]
  },
  {
   "cell_type": "code",
   "execution_count": null,
   "metadata": {},
   "outputs": [],
   "source": [
    "mean(res_α_OR7_2014[1:432]), mean(res_δ_OR7_2014[1:432])"
   ]
  },
  {
   "cell_type": "code",
   "execution_count": null,
   "metadata": {},
   "outputs": [],
   "source": [
    "mean(res_α_OR7_2018[1:432]), mean(res_δ_OR7_2018[1:432])"
   ]
  },
  {
   "cell_type": "code",
   "execution_count": null,
   "metadata": {},
   "outputs": [],
   "source": []
  },
  {
   "cell_type": "code",
   "execution_count": null,
   "metadata": {},
   "outputs": [],
   "source": [
    "using Gnuplot"
   ]
  },
  {
   "cell_type": "code",
   "execution_count": null,
   "metadata": {},
   "outputs": [],
   "source": [
    "Gnuplot.options.gpviewer = false"
   ]
  },
  {
   "cell_type": "code",
   "execution_count": null,
   "metadata": {},
   "outputs": [],
   "source": [
    "obs_ind = 1:432\n",
    "\n",
    "@gp \"unset grid\" :-\n",
    "#@gp :- \"set si sq\" :-\n",
    "#@gp :- \"set size ratio -1\" :-\n",
    "#@gp :- \"set key outside top right\" :-\n",
    "@gp :- \"set xtics 0.5\" :-\n",
    "@gp :- \"set ytics 0.1\" :-\n",
    "@gp :- xrange=[-0.5,1.0] :-\n",
    "@gp :- yrange=[-0.5,0.5] :-\n",
    "@gp :- \"set xlabel '\\$\\\\alpha\\\\cos\\\\delta\\$ [arcsec]'\" :-\n",
    "@gp :- \"set ylabel '\\$\\\\delta\\$ [arcsec]'\" :-\n",
    "\n",
    "@gp :- \"set style fill transparent solid 0.35 noborder\" :-\n",
    "@gp :- \"set style circle radius 0.015\" :-\n",
    "\n",
    "@gp :- res_α_OR7_RAW[obs_ind] res_δ_OR7_RAW[obs_ind]   \"w p ps 1.5 lw 3 t 'OR7, no debiasing'\" :-\n",
    "@gp :- res_α_OR7_2014[obs_ind] res_δ_OR7_2014[obs_ind] \"w p ps 1.5 lw 3 t 'OR7, debiased (Farnocchia et al., 2015)'\" :-\n",
    "@gp :- res_α_OR7_2018[obs_ind] res_δ_OR7_2018[obs_ind] \"w p ps 1.5 lw 3 t 'OR7, debiased (Eggl et al., 2020)'\" :-\n",
    "\n",
    "@gp :- mean(res_α_OR7_RAW[obs_ind]).+ell_3σ_x_RAW mean(res_δ_OR7_RAW[obs_ind]).+ell_3σ_y_RAW \"w l lw 3 lt 1 not\" :-\n",
    "@gp :- mean(res_α_OR7_2014[obs_ind]).+ell_3σ_x_2014 mean(res_δ_OR7_2014[obs_ind]).+ell_3σ_y_2014 \"w l lw 3 lt 2 not\" :-\n",
    "@gp :- mean(res_α_OR7_2018[obs_ind]).+ell_3σ_x_2018 mean(res_δ_OR7_2018[obs_ind]).+ell_3σ_y_2018 \"w l lw 3 lt 3 not\" :-\n",
    "\n",
    "@gp :- mean(res_α_OR7_RAW[obs_ind]) mean(res_δ_OR7_RAW[obs_ind]) \"w circle lt 1 fs solid 1.0 border lt -1 not\" :-\n",
    "@gp :- mean(res_α_OR7_2014[obs_ind]) mean(res_δ_OR7_2014[obs_ind]) \"w circle lt 2 fs solid 1.0 border lt -1 not\" :-\n",
    "@gp :- mean(res_α_OR7_2018[obs_ind]) mean(res_δ_OR7_2018[obs_ind]) \"w circle lt 3 fs solid 1.0 border lt -1 not\"\n",
    "\n",
    "#Gnuplot.save(term=\"epslatex standalone color dashed size 6in,5in font \\\",12\\\"\", output=\"debias.tex\")\n",
    "#run(`pdflatex debias.tex`)"
   ]
  },
  {
   "cell_type": "markdown",
   "metadata": {},
   "source": [
    "## Radar astrometry residuals"
   ]
  },
  {
   "cell_type": "code",
   "execution_count": null,
   "metadata": {},
   "outputs": [],
   "source": [
    "###time-delay and Doppler residuals from Brozovic et al., 2018\n",
    "###includes both radar astrometric datasets: 2005-2006 and 2012-2013\n",
    "b2018_td_res = [0.273, 0.313, 0.105, 0.023, -0.491, 0.018, -0.123, -0.599, 0.121, 0.072, 0.056, 0.021, 0.059, -0.374, -0.154, 0.049, 0.400]\n",
    "b2018_ds_res = [-0.049, 0.017, 0.058, -0.098, -0.006, 0.039, -0.023, -0.001, 0.107, -0.061, -0.052, 0.037, -0.009, -0.007, -0.027, 0.031, 0.113, -0.062, 0.010, -0.077, 0.070, -0.006, 0.009, -0.068, 0.004, 0.023, 0.016, 0.029, 0.150]\n",
    ";"
   ]
  },
  {
   "cell_type": "code",
   "execution_count": null,
   "metadata": {},
   "outputs": [],
   "source": [
    "#scatter(\n",
    "#    tdelay_jpl_obs_jd_utc.-t0, \n",
    "#    res_del(x0_JPL), \n",
    "#    marker=:square,\n",
    "#    ms=4.0, #msc=:auto,\n",
    "#    yerror = tdelay_jpl_obs_sigma, \n",
    "#    label=\"pre-fit (current)\"\n",
    "#)\n",
    "scatter(\n",
    "    tdelay_jpl_obs_jd_utc.-t0, \n",
    "    b2018_td_res, \n",
    "    marker=:square,\n",
    "    ms=4.0, #msc = :auto,\n",
    "    yerror = tdelay_jpl_obs_sigma, \n",
    "    label=\"JPL#197 (Brozovic et al., 2018)\",\n",
    "    legend=:topleft,\n",
    "    annotations=( -1332.75, 6, \"(a)\")\n",
    ")\n",
    "scatter!(\n",
    "    tdelay_jpl_obs_jd_utc.-t0, \n",
    "    res_del(x_OR7),\n",
    "    marker=:circle,\n",
    "    ms=4.0, #msc=:auto,\n",
    "    yerror = tdelay_jpl_obs_sigma, \n",
    "    label=\"post-fit (current)\"\n",
    ")\n",
    "title!(\"Time delay residuals vs time\")\n",
    "ylabel!(\"Time delay (us)\")\n",
    "xlabel!(\"Date\")\n",
    "xlims!(1540, 1645)\n",
    "xticks!(1540:20:1640, string.(Date.(julian2datetime.(t0 .+ collect(1540:20:1640)))))"
   ]
  },
  {
   "cell_type": "code",
   "execution_count": null,
   "metadata": {},
   "outputs": [],
   "source": [
    "t0td = tdelay_jpl_obs_jd_utc[1]\n",
    "p1a = scatter(\n",
    "    tdelay_jpl_obs_jd_utc.-t0, \n",
    "    b2018_td_res, \n",
    "    marker=:square,\n",
    "    ms=3.0,\n",
    "    yerror = tdelay_jpl_obs_sigma, \n",
    "    label=\"JPL#197\",\n",
    "    legend=:topleft,\n",
    "    annotations=( -1332.75, 6, \"(a)\")\n",
    ")\n",
    "scatter!(\n",
    "    tdelay_jpl_obs_jd_utc.-t0, \n",
    "    res_del(x_OR7), \n",
    "    marker=:circle, \n",
    "    yerror = tdelay_jpl_obs_sigma, \n",
    "    label=\"OR7\"\n",
    ")\n",
    "ylims!(-5.1,8)\n",
    "xlims!(-1334.5, -1332.5)\n",
    "xticks!((-1334.5):0.5:(-1332.5), string.(Date.(julian2datetime.(t0 .+ collect((-1334.5):0.5:(-1332.5))))))\n",
    "#title!(\"Post-fit time delay residuals (O-C): 2005-2006\")\n",
    "ylabel!(\"Time delay resid. (O-C) [us]\")\n",
    "xlabel!(\"Date\")"
   ]
  },
  {
   "cell_type": "code",
   "execution_count": null,
   "metadata": {},
   "outputs": [],
   "source": [
    "t0td = tdelay_jpl_obs_jd_utc[1]\n",
    "p1b = scatter(\n",
    "    tdelay_jpl_obs_jd_utc.-t0, \n",
    "    b2018_td_res, \n",
    "    marker=:square,\n",
    "    ms=3.0,\n",
    "    yerror = tdelay_jpl_obs_sigma, \n",
    "    label=\"JPL#197\",\n",
    "    legend=:topleft,\n",
    "    annotations=( 1630, 4, \"(b)\")\n",
    ")\n",
    "scatter!(\n",
    "    tdelay_jpl_obs_jd_utc.-t0, \n",
    "    res_del(x_OR7), \n",
    "    marker=:circle, \n",
    "    yerror = tdelay_jpl_obs_sigma, \n",
    "    label=\"OR7\"\n",
    ")\n",
    "#title!(\"Post-fit time delay residuals (O-C): 2012-2013\")\n",
    "ylabel!(\"Time delay resid. (O-C) [us]\")\n",
    "xlims!(1540, 1645)\n",
    "xticks!(1540:30:1640, string.(Date.(julian2datetime.(t0 .+ collect(1540:30:1640)))))\n",
    "xlabel!(\"Date\")"
   ]
  },
  {
   "cell_type": "code",
   "execution_count": null,
   "metadata": {},
   "outputs": [],
   "source": [
    "plot(p1a, p1b, size=(640,860), layout=@layout([a; b]))\n",
    "#savefig(\"time_delay_residuals__.pdf\")\n",
    "#savefig(\"~/phdthesis/fig5-7.pdf\")"
   ]
  },
  {
   "cell_type": "code",
   "execution_count": null,
   "metadata": {},
   "outputs": [],
   "source": []
  },
  {
   "cell_type": "code",
   "execution_count": null,
   "metadata": {},
   "outputs": [],
   "source": [
    "t0ds = dshift_jpl_obs_jd_utc[1]\n",
    "p2a = scatter(\n",
    "    dshift_jpl_obs_jd_utc.-t0, \n",
    "    b2018_ds_res, \n",
    "    marker=:square,\n",
    "    ms=3.0,\n",
    "    yerror = dshift_jpl_obs_sigma, \n",
    "    label=\"JPL#197\",\n",
    "    annotations=( -925, 0.4, \"(c)\")\n",
    ")\n",
    "scatter!(\n",
    "    dshift_jpl_obs_jd_utc.-t0, \n",
    "    res_dop(x_OR7), \n",
    "    marker=:circle, \n",
    "    yerror = dshift_jpl_obs_sigma, \n",
    "    label=\"OR7\",\n",
    "    leg=:topleft\n",
    ")\n",
    "ylims!(-0.4,0.5)\n",
    "xlims!(-1350,-850)\n",
    "xticks!((-1350):150:(-850), string.(Date.(julian2datetime.(t0 .+ collect((-1350):150:(-850))))))\n",
    "#title!(\"Post-fit Doppler shift residuals (O-C): 2005-2006\")\n",
    "ylabel!(\"Doppler shift resid. (O-C) [Hz]\")\n",
    "xlabel!(\"Date\")"
   ]
  },
  {
   "cell_type": "code",
   "execution_count": null,
   "metadata": {},
   "outputs": [],
   "source": [
    "t0ds = dshift_jpl_obs_jd_utc[1]\n",
    "p2b = scatter(\n",
    "    dshift_jpl_obs_jd_utc.-t0, \n",
    "    b2018_ds_res, \n",
    "    marker=:square,\n",
    "    ms=3.0,\n",
    "    yerror = dshift_jpl_obs_sigma, \n",
    "    label=\"JPL#197\",\n",
    "    leg=:topright,\n",
    "    annotations=( 1630, 0.5, \"(d)\")\n",
    ")\n",
    "scatter!(\n",
    "    dshift_jpl_obs_jd_utc.-t0, \n",
    "    res_dop(x_OR7), \n",
    "    marker=:circle, \n",
    "    yerror = dshift_jpl_obs_sigma, \n",
    "    label=\"OR7\",\n",
    "    leg=:topleft\n",
    ")\n",
    "#title!(\"Post-fit Doppler shift residuals (O-C): 2012-2013\")\n",
    "ylabel!(\"Doppler shift resid. (O-C) [Hz]\")\n",
    "xlabel!(\"Date\")\n",
    "xlims!(1540, 1645)\n",
    "xticks!(1540:30:1640, string.(Date.(julian2datetime.(t0 .+ collect(1540:30:1640)))))\n",
    "ylims!(-0.39,0.6)\n",
    "#savefig(\"doppler_shift_residuals__.pdf\")"
   ]
  },
  {
   "cell_type": "code",
   "execution_count": null,
   "metadata": {},
   "outputs": [],
   "source": [
    "plot(p2a, p2b, size=(640,860), layout=@layout([a; b]))\n",
    "#savefig(\"doppler_shift_residuals__.pdf\")\n",
    "#savefig(\"~/phdthesis/fig5-7.pdf\")"
   ]
  },
  {
   "cell_type": "code",
   "execution_count": null,
   "metadata": {},
   "outputs": [],
   "source": [
    "plot(p1a, p1b, p2a, p2b, size=(700,600), layout=@layout([a b; c d]))\n",
    "#savefig(\"/Users/Jorge/phdthesis/fig5-9.pdf\")\n",
    "#savefig(\"deldop_postfit_res_ATm9.pdf\")"
   ]
  },
  {
   "cell_type": "markdown",
   "metadata": {},
   "source": [
    "## Keeping initial conditions constant; varying only $A_2$:"
   ]
  },
  {
   "cell_type": "code",
   "execution_count": null,
   "metadata": {},
   "outputs": [],
   "source": [
    "#x_myplot = range(-7e-14, -5e-14, length=100)\n",
    "x_myplot = range(-15.65, 5.55, length=100)\n",
    "Q_A2_deldop_1arg(x) = chi2(res_deldop, W_deldop)([0,0,0,0,0,0,x])\n",
    "Q_A2_deldop_1arg.(x_myplot);"
   ]
  },
  {
   "cell_type": "code",
   "execution_count": null,
   "metadata": {},
   "outputs": [],
   "source": [
    "plot(x_myplot, Q_A2_deldop_1arg.(x_myplot))"
   ]
  },
  {
   "cell_type": "code",
   "execution_count": null,
   "metadata": {},
   "outputs": [],
   "source": [
    "qt1 = Q_A2_deldop_1arg(Taylor1(6))"
   ]
  },
  {
   "cell_type": "code",
   "execution_count": null,
   "metadata": {},
   "outputs": [],
   "source": [
    "function taylor_minimum(pol::Taylor1{T}, x0::T; niters::Int=10) where {T<:Real}\n",
    "    dpol = differentiate(pol)\n",
    "    dpol2 = differentiate(dpol)\n",
    "    xnewton::T = x0\n",
    "    @show xnewton\n",
    "    for i in 1:niters\n",
    "        xnewton -= dpol(xnewton)/dpol2(xnewton) \n",
    "        @show xnewton, dpol(xnewton)\n",
    "    end\n",
    "    return xnewton\n",
    "end"
   ]
  },
  {
   "cell_type": "code",
   "execution_count": null,
   "metadata": {
    "scrolled": true
   },
   "outputs": [],
   "source": [
    "taylor_minimum(qt1, 0.0)"
   ]
  },
  {
   "cell_type": "markdown",
   "metadata": {},
   "source": [
    "## Plot above shows that, from radar data alone, it is not possible to obtain an estimation of $A_2$."
   ]
  },
  {
   "cell_type": "code",
   "execution_count": null,
   "metadata": {},
   "outputs": [],
   "source": []
  },
  {
   "cell_type": "markdown",
   "metadata": {},
   "source": [
    "# Differential corrections, following Milani's approach"
   ]
  },
  {
   "cell_type": "code",
   "execution_count": null,
   "metadata": {},
   "outputs": [],
   "source": [
    "#construct \"design\" matrix B\n",
    "B_del = Matrix{TaylorN{Float64}}(undef, length(res_del), nv)\n",
    "for i in 1:length(res_del)\n",
    "    B_del[i,:] .= TaylorSeries.gradient(res_del[i])\n",
    "end\n",
    "B_dop = Matrix{TaylorN{Float64}}(undef, length(res_dop), nv)\n",
    "for i in 1:length(res_dop)\n",
    "    B_dop[i,:] .= TaylorSeries.gradient(res_dop[i])\n",
    "end\n",
    "B_deldop = Matrix{TaylorN{Float64}}(undef, length(res_deldop), nv)\n",
    "for i in 1:length(res_deldop)\n",
    "    B_deldop[i,:] .= TaylorSeries.gradient(res_deldop[i])\n",
    "end"
   ]
  },
  {
   "cell_type": "code",
   "execution_count": null,
   "metadata": {},
   "outputs": [],
   "source": [
    "# compute H = ∂²ξ/∂x²\n",
    "H_del = Array{TaylorN{Float64}}(undef, length(res_del), nv, nv)\n",
    "for i in 1:length(res_del)\n",
    "    for j in 1:nv\n",
    "            H_del[i,j,:] .= TaylorSeries.gradient(B_del[i,j])\n",
    "    end\n",
    "end\n",
    "H_dop = Array{TaylorN{Float64}}(undef, length(res_dop), nv, nv)\n",
    "for i in 1:length(res_dop)\n",
    "    for j in 1:nv\n",
    "            H_dop[i,j,:] .= TaylorSeries.gradient(B_dop[i,j])\n",
    "    end\n",
    "end\n",
    "H_deldop = Array{TaylorN{Float64}}(undef, length(res_deldop), nv, nv)\n",
    "for i in 1:length(res_deldop)\n",
    "    for j in 1:nv\n",
    "            H_deldop[i,j,:] .= TaylorSeries.gradient(B_deldop[i,j])\n",
    "    end\n",
    "end"
   ]
  },
  {
   "cell_type": "code",
   "execution_count": null,
   "metadata": {},
   "outputs": [],
   "source": [
    "# compute transpose(ξ)*H\n",
    "function ξTH(weights, residuals, Hmatrix, x)\n",
    "    nv = get_numvars()\n",
    "    ξTHv = Array{Float64}(undef, nv, nv)\n",
    "    for j in 1:nv\n",
    "        for i in 1:nv\n",
    "           ξTHv[i,j] = (weights .* residuals(x))' * (Hmatrix[:,i,j](x))\n",
    "        end\n",
    "    end\n",
    "    return ξTHv\n",
    "enda"
   ]
  },
  {
   "cell_type": "code",
   "execution_count": null,
   "metadata": {
    "scrolled": true
   },
   "outputs": [],
   "source": [
    "function g(weights, residuals, Bmatrix, Hmatrix, x)\n",
    "    return ((sqrt.(weights).*Bmatrix(x))' * (sqrt.(weights).*Bmatrix(x))) # + ξTH(weights, residuals, Hmatrix, x)\n",
    "end"
   ]
  },
  {
   "cell_type": "code",
   "execution_count": null,
   "metadata": {
    "scrolled": true
   },
   "outputs": [],
   "source": [
    "inv(g(W_deldop, res_deldop, B_deldop, H_deldop, zeros(nv)))"
   ]
  },
  {
   "cell_type": "code",
   "execution_count": null,
   "metadata": {
    "scrolled": true
   },
   "outputs": [],
   "source": [
    "function f(weights, residuals, Bmatrix, x)\n",
    "    return Bmatrix(x)' * (weights .* residuals(x))\n",
    "end"
   ]
  },
  {
   "cell_type": "code",
   "execution_count": null,
   "metadata": {},
   "outputs": [],
   "source": [
    "newton_LS_1iter(weights, residuals, Bmatrix, Hmatrix, x) = \n",
    "    inv(g(weights, residuals, Bmatrix, Hmatrix, x)) * f(weights, residuals, Bmatrix, x)"
   ]
  },
  {
   "cell_type": "code",
   "execution_count": null,
   "metadata": {},
   "outputs": [],
   "source": [
    "function differential_corrections(weights, residuals, Bmatrix, Hmatrix, x0, niters::Int=40)\n",
    "    x_new = x0\n",
    "    for i in 1:niters\n",
    "        Δx = -newton_LS_1iter(weights, residuals, Bmatrix, Hmatrix, x_new)\n",
    "        x_new = x_new + Δx\n",
    "        C_x0n = Bmatrix(x_new)' * (weights .* Bmatrix(x_new))\n",
    "        Δx_C_Δx = (Δx') * C_x0n * Δx\n",
    "        @show i, sqrt(Δx_C_Δx/length(Δx_C_Δx))\n",
    "    end\n",
    "    return x_new\n",
    "end"
   ]
  },
  {
   "cell_type": "code",
   "execution_count": null,
   "metadata": {},
   "outputs": [],
   "source": [
    "x0_JPL"
   ]
  },
  {
   "cell_type": "code",
   "execution_count": null,
   "metadata": {},
   "outputs": [],
   "source": [
    "dx = zeros(7) #vcat(1e-7ones(6), 1.0).*randn(7)"
   ]
  },
  {
   "cell_type": "code",
   "execution_count": null,
   "metadata": {
    "scrolled": true
   },
   "outputs": [],
   "source": [
    "x_star_del = differential_corrections(W_del, res_del, B_del, H_del, x0_JPL+dx, 10)\n",
    "x_star_dop = differential_corrections(W_dop, res_dop, B_dop, H_dop, x0_JPL+dx, 10)\n",
    "x_star_deldop = differential_corrections(W_deldop, res_deldop, B_deldop, H_deldop, x0_JPL+dx, 10);"
   ]
  },
  {
   "cell_type": "code",
   "execution_count": null,
   "metadata": {},
   "outputs": [],
   "source": [
    "# Apophis.jl + PlanetaryEphemeris.jl, ord=5\n",
    "x_star_del"
   ]
  },
  {
   "cell_type": "code",
   "execution_count": null,
   "metadata": {},
   "outputs": [],
   "source": [
    "# Apophis.jl + PlanetaryEphemeris.jl, ord=6\n",
    "#x_star_del"
   ]
  },
  {
   "cell_type": "code",
   "execution_count": null,
   "metadata": {},
   "outputs": [],
   "source": [
    "# Apophis.jl + PlanetaryEphemeris.jl, ord=7\n",
    "#x_star_del"
   ]
  },
  {
   "cell_type": "code",
   "execution_count": null,
   "metadata": {},
   "outputs": [],
   "source": [
    "# Apophis.jl + PlanetaryEphemeris.jl, ord=5\n",
    "x_star_dop"
   ]
  },
  {
   "cell_type": "code",
   "execution_count": null,
   "metadata": {},
   "outputs": [],
   "source": [
    "# Apophis.jl + PlanetaryEphemeris.jl, ord=6\n",
    "#x_star_dop"
   ]
  },
  {
   "cell_type": "code",
   "execution_count": null,
   "metadata": {},
   "outputs": [],
   "source": [
    "# Apophis.jl + PlanetaryEphemeris.jl, ord=7\n",
    "#x_star_dop"
   ]
  },
  {
   "cell_type": "code",
   "execution_count": null,
   "metadata": {},
   "outputs": [],
   "source": [
    "# Apophis.jl + PlanetaryEphemeris.jl, ord=5\n",
    "x_star_deldop"
   ]
  },
  {
   "cell_type": "code",
   "execution_count": null,
   "metadata": {
    "scrolled": true
   },
   "outputs": [],
   "source": [
    "# Apophis.jl + PlanetaryEphemeris.jl, ord=6\n",
    "#x_star_deldop"
   ]
  },
  {
   "cell_type": "code",
   "execution_count": null,
   "metadata": {},
   "outputs": [],
   "source": [
    "# Apophis.jl + PlanetaryEphemeris.jl, ord=7\n",
    "#x_star_deldop"
   ]
  },
  {
   "cell_type": "code",
   "execution_count": null,
   "metadata": {},
   "outputs": [],
   "source": [
    "x0_JPL"
   ]
  },
  {
   "cell_type": "markdown",
   "metadata": {},
   "source": [
    "Post-fit change in Initial conditions and $A_2$. Positions in $\\mathrm{au}$, velocities in $\\mathrm{au/day}$, Yarkovsky coefficient in $\\mathrm{au/day}^2$"
   ]
  },
  {
   "cell_type": "code",
   "execution_count": null,
   "metadata": {},
   "outputs": [],
   "source": [
    "using LinearAlgebra: norm"
   ]
  },
  {
   "cell_type": "code",
   "execution_count": null,
   "metadata": {
    "scrolled": true
   },
   "outputs": [],
   "source": [
    "x_star_deldop .* vcat( 1e-8ones(6), 1e-14)[1:nv] # delay + Doppler"
   ]
  },
  {
   "cell_type": "code",
   "execution_count": null,
   "metadata": {},
   "outputs": [],
   "source": [
    "norm(ans[1:3]*au)"
   ]
  },
  {
   "cell_type": "code",
   "execution_count": null,
   "metadata": {},
   "outputs": [],
   "source": [
    "norm(ans[4:6]*au/86400)"
   ]
  },
  {
   "cell_type": "code",
   "execution_count": null,
   "metadata": {},
   "outputs": [],
   "source": []
  },
  {
   "cell_type": "markdown",
   "metadata": {},
   "source": [
    "Post-fit change in Initial conditions and $A_2$. Positions in $\\mathrm{km}$, velocities in $\\mathrm{km/s}$, Yarkovsky coefficient in $\\mathrm{au/day}^2$"
   ]
  },
  {
   "cell_type": "code",
   "execution_count": null,
   "metadata": {
    "scrolled": true
   },
   "outputs": [],
   "source": [
    "x_star_deldop .* vcat( 1e-8au*ones(3), 1e-8au*ones(3)/86400, 1e-14)[1:nv] # delay + Doppler"
   ]
  },
  {
   "cell_type": "markdown",
   "metadata": {},
   "source": [
    "The value of the target function at the minimizer:"
   ]
  },
  {
   "cell_type": "code",
   "execution_count": null,
   "metadata": {},
   "outputs": [],
   "source": [
    "rms(res_del(x_star_del), W_del)"
   ]
  },
  {
   "cell_type": "code",
   "execution_count": null,
   "metadata": {},
   "outputs": [],
   "source": [
    "rms(res_dop(x_star_dop), W_dop)"
   ]
  },
  {
   "cell_type": "code",
   "execution_count": null,
   "metadata": {},
   "outputs": [],
   "source": [
    "rms(res_deldop(x_star_deldop), W_deldop)"
   ]
  },
  {
   "cell_type": "code",
   "execution_count": null,
   "metadata": {},
   "outputs": [],
   "source": [
    "rms(res_deldop(x_star_deldop+1e-6randn(7)), W_deldop)"
   ]
  },
  {
   "cell_type": "code",
   "execution_count": null,
   "metadata": {},
   "outputs": [],
   "source": [
    "rms(res_deldop(x0_JPL), W_deldop)"
   ]
  },
  {
   "cell_type": "markdown",
   "metadata": {},
   "source": [
    "The normal matrix evaluated at the minimizer:"
   ]
  },
  {
   "cell_type": "markdown",
   "metadata": {},
   "source": [
    "w = 1/\\sigma^2"
   ]
  },
  {
   "cell_type": "code",
   "execution_count": null,
   "metadata": {},
   "outputs": [],
   "source": [
    "#B_deldop[1]"
   ]
  },
  {
   "cell_type": "code",
   "execution_count": null,
   "metadata": {},
   "outputs": [],
   "source": [
    "B_deldop()"
   ]
  },
  {
   "cell_type": "code",
   "execution_count": null,
   "metadata": {
    "scrolled": true
   },
   "outputs": [],
   "source": [
    "C_del = B_del(x_star_del)' * (W_del .* B_del(x_star_del))"
   ]
  },
  {
   "cell_type": "code",
   "execution_count": null,
   "metadata": {
    "scrolled": true
   },
   "outputs": [],
   "source": [
    "C_dop = B_dop(x_star_dop)' * (W_dop .* B_dop(x_star_dop))"
   ]
  },
  {
   "cell_type": "code",
   "execution_count": null,
   "metadata": {
    "scrolled": true
   },
   "outputs": [],
   "source": [
    "C_deldop = B_deldop(x_star_deldop)' * (W_deldop .* B_deldop(x_star_deldop))"
   ]
  },
  {
   "cell_type": "markdown",
   "metadata": {},
   "source": [
    "The inverse of the normal matrix $C$ is the covariance matrix $\\Gamma$:"
   ]
  },
  {
   "cell_type": "code",
   "execution_count": null,
   "metadata": {
    "scrolled": true
   },
   "outputs": [],
   "source": [
    "Γ_del = inv(C_del)"
   ]
  },
  {
   "cell_type": "code",
   "execution_count": null,
   "metadata": {
    "scrolled": true
   },
   "outputs": [],
   "source": [
    "Γ_dop = inv(C_dop)"
   ]
  },
  {
   "cell_type": "code",
   "execution_count": null,
   "metadata": {
    "scrolled": true
   },
   "outputs": [],
   "source": [
    "Γ_deldop = inv(C_deldop)"
   ]
  },
  {
   "cell_type": "markdown",
   "metadata": {},
   "source": [
    "Check that $\\Gamma \\cdot C \\approx I_{7\\times7}$"
   ]
  },
  {
   "cell_type": "code",
   "execution_count": null,
   "metadata": {},
   "outputs": [],
   "source": [
    "Γ_deldop*C_deldop"
   ]
  },
  {
   "cell_type": "markdown",
   "metadata": {},
   "source": [
    "The diagonal terms of the covariance matrix represent the 1-$\\sigma$ uncertainty, squared, of each element of the minimizer; i.e., $\\sigma_{ii} = \\sqrt{\\Gamma_{ii}}$"
   ]
  },
  {
   "cell_type": "code",
   "execution_count": null,
   "metadata": {},
   "outputs": [],
   "source": [
    "Apophis.initialcond()+x_star_del .* vcat( 1e-8ones(6), 1e-14)[1:nv]"
   ]
  },
  {
   "cell_type": "code",
   "execution_count": null,
   "metadata": {
    "scrolled": true
   },
   "outputs": [],
   "source": [
    "sqrt.(diag(Γ_del)) .* vcat( 1e-8ones(6), 1e-14)[1:nv] # delay + Doppler"
   ]
  },
  {
   "cell_type": "code",
   "execution_count": null,
   "metadata": {},
   "outputs": [],
   "source": [
    "x_star_deldop"
   ]
  },
  {
   "cell_type": "code",
   "execution_count": null,
   "metadata": {},
   "outputs": [],
   "source": [
    "Γ_deldop"
   ]
  },
  {
   "cell_type": "code",
   "execution_count": null,
   "metadata": {},
   "outputs": [],
   "source": [
    "d2Q_deldop_jt = TaylorSeries.hessian(Q_deldop, x_ts)"
   ]
  },
  {
   "cell_type": "code",
   "execution_count": null,
   "metadata": {
    "scrolled": true
   },
   "outputs": [],
   "source": [
    "d2Q_deldop_milani = (2/length(res_deldop))*g(W_deldop, res_deldop, B_deldop, H_deldop, x_ts)"
   ]
  },
  {
   "cell_type": "code",
   "execution_count": null,
   "metadata": {
    "scrolled": true
   },
   "outputs": [],
   "source": [
    "d2Q_deldop_milani = (2/length(res_deldop))*g(W_deldop, res_deldop, B_deldop, H_deldop, x_ts)"
   ]
  },
  {
   "cell_type": "code",
   "execution_count": null,
   "metadata": {},
   "outputs": [],
   "source": [
    "# abs diff\n",
    "norm(d2Q_deldop_jt-d2Q_deldop_milani, Inf)"
   ]
  },
  {
   "cell_type": "code",
   "execution_count": null,
   "metadata": {},
   "outputs": [],
   "source": [
    "#rel diff\n",
    "norm(d2Q_deldop_jt-d2Q_deldop_milani, Inf)/norm(d2Q_deldop_milani, -Inf)"
   ]
  },
  {
   "cell_type": "code",
   "execution_count": null,
   "metadata": {},
   "outputs": [],
   "source": [
    "# abs diff\n",
    "norm(d2Q_deldop_jt-d2Q_deldop_milani, Inf)"
   ]
  },
  {
   "cell_type": "code",
   "execution_count": null,
   "metadata": {},
   "outputs": [],
   "source": [
    "#rel diff\n",
    "norm(d2Q_deldop_jt-d2Q_deldop_milani, Inf)/norm(d2Q_deldop_milani, -Inf)"
   ]
  },
  {
   "cell_type": "code",
   "execution_count": null,
   "metadata": {},
   "outputs": [],
   "source": [
    "# abs diff\n",
    "norm(inv(d2Q_deldop_jt)-inv(d2Q_deldop_milani), Inf)"
   ]
  },
  {
   "cell_type": "code",
   "execution_count": null,
   "metadata": {},
   "outputs": [],
   "source": [
    "#rel diff\n",
    "norm(inv(d2Q_deldop_jt)-inv(d2Q_deldop_milani), Inf)/norm(inv(d2Q_deldop_milani), -Inf)"
   ]
  },
  {
   "cell_type": "code",
   "execution_count": null,
   "metadata": {},
   "outputs": [],
   "source": [
    "Apophis.initialcond()"
   ]
  },
  {
   "cell_type": "code",
   "execution_count": null,
   "metadata": {
    "scrolled": true
   },
   "outputs": [],
   "source": [
    "sqrt.(diag(inv(d2Q_deldop_jt/(2/length(res_deldop))))) .* vcat(1e-8ones(6), 1e-14)"
   ]
  },
  {
   "cell_type": "code",
   "execution_count": null,
   "metadata": {},
   "outputs": [],
   "source": [
    "sqrt.(diag(inv(d2Q_deldop_milani/(2/length(res_deldop))))) .* vcat(1e-8ones(6), 1e-14)"
   ]
  }
 ],
 "metadata": {
  "@webio": {
   "lastCommId": null,
   "lastKernelId": null
  },
  "kernelspec": {
   "display_name": "Julia 1.5.3",
   "language": "julia",
   "name": "julia-1.5"
  },
  "language_info": {
   "file_extension": ".jl",
   "mimetype": "application/julia",
   "name": "julia",
   "version": "1.5.3"
  }
 },
 "nbformat": 4,
 "nbformat_minor": 4
}
